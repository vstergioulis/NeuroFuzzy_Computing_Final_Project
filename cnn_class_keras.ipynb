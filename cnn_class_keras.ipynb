{
 "cells": [
  {
   "cell_type": "code",
   "execution_count": 1,
   "id": "20968b78",
   "metadata": {
    "ExecuteTime": {
     "end_time": "2024-02-02T21:14:04.540715Z",
     "start_time": "2024-02-02T21:13:52.294697Z"
    }
   },
   "outputs": [
    {
     "name": "stdout",
     "output_type": "stream",
     "text": [
      "WARNING:tensorflow:From C:\\Users\\Desktop\\anaconda3\\Lib\\site-packages\\keras\\src\\losses.py:2976: The name tf.losses.sparse_softmax_cross_entropy is deprecated. Please use tf.compat.v1.losses.sparse_softmax_cross_entropy instead.\n",
      "\n"
     ]
    }
   ],
   "source": [
    "import numpy as np\n",
    "import pandas as pd\n",
    "import matplotlib.pyplot as plt\n",
    "from tensorflow.keras.models import Sequential\n",
    "from tensorflow.keras.layers import Dense, Activation\n",
    "\n",
    "import tensorflow as tf\n",
    "from sklearn.model_selection import train_test_split\n",
    "from sklearn.preprocessing import LabelEncoder\n",
    "from sklearn.preprocessing import MinMaxScaler\n",
    "import gensim\n",
    "\n",
    "from gensim.models import Word2Vec\n",
    "from nltk.stem import WordNetLemmatizer\n",
    "from nltk.corpus import stopwords\n",
    "from nltk.tokenize import RegexpTokenizer\n",
    "import re\n",
    "import nltk\n",
    "from tensorflow.keras.utils import to_categorical"
   ]
  },
  {
   "cell_type": "code",
   "execution_count": 2,
   "id": "9ea935d3",
   "metadata": {
    "ExecuteTime": {
     "end_time": "2024-02-02T21:14:05.153568Z",
     "start_time": "2024-02-02T21:14:04.558525Z"
    }
   },
   "outputs": [],
   "source": [
    "data = pd.read_csv(\"data/news_class.csv\")"
   ]
  },
  {
   "cell_type": "code",
   "execution_count": 3,
   "id": "64423d13",
   "metadata": {
    "ExecuteTime": {
     "end_time": "2024-02-02T21:14:05.185679Z",
     "start_time": "2024-02-02T21:14:05.180136Z"
    }
   },
   "outputs": [],
   "source": [
    "df = data.copy() # to be safe and avoid errors"
   ]
  },
  {
   "cell_type": "code",
   "execution_count": 4,
   "id": "3fb389ee",
   "metadata": {
    "ExecuteTime": {
     "end_time": "2024-02-02T21:14:05.222759Z",
     "start_time": "2024-02-02T21:14:05.214413Z"
    }
   },
   "outputs": [],
   "source": [
    "df = df.loc[:,[\"data_id\" , \"content\" , \"category_level_1\" , \"category_level_2\"]]"
   ]
  },
  {
   "cell_type": "code",
   "execution_count": 5,
   "id": "0fc8cb25",
   "metadata": {
    "ExecuteTime": {
     "end_time": "2024-02-02T21:14:05.256014Z",
     "start_time": "2024-02-02T21:14:05.240494Z"
    }
   },
   "outputs": [
    {
     "data": {
      "text/plain": [
       "category_level_1\n",
       "arts, culture, entertainment and media        300\n",
       "conflict, war and peace                       800\n",
       "crime, law and justice                        500\n",
       "disaster, accident and emergency incident     500\n",
       "economy, business and finance                 400\n",
       "education                                     607\n",
       "environment                                   600\n",
       "health                                        700\n",
       "human interest                                600\n",
       "labour                                        703\n",
       "lifestyle and leisure                         300\n",
       "politics                                      900\n",
       "religion and belief                           800\n",
       "science and technology                        800\n",
       "society                                      1100\n",
       "sport                                         907\n",
       "weather                                       400\n",
       "Name: data_id, dtype: int64"
      ]
     },
     "execution_count": 5,
     "metadata": {},
     "output_type": "execute_result"
    }
   ],
   "source": [
    "df.groupby(['category_level_1'])['data_id'].agg('count')"
   ]
  },
  {
   "cell_type": "code",
   "execution_count": 6,
   "id": "0e8e83e3",
   "metadata": {
    "ExecuteTime": {
     "end_time": "2024-02-02T21:14:05.279872Z",
     "start_time": "2024-02-02T21:14:05.276027Z"
    }
   },
   "outputs": [],
   "source": [
    "def labeler(dataframe_column):\n",
    "    encoder=LabelEncoder()\n",
    "    \n",
    "    labels = encoder.fit_transform(dataframe_column)\n",
    "    print(encoder.classes_)\n",
    "    print(\"We did it boys , labels have been created\")\n",
    "    \n",
    "    return(pd.DataFrame(labels))"
   ]
  },
  {
   "cell_type": "code",
   "execution_count": 7,
   "id": "bc7f5e77",
   "metadata": {
    "ExecuteTime": {
     "end_time": "2024-02-02T21:14:05.305443Z",
     "start_time": "2024-02-02T21:14:05.297895Z"
    }
   },
   "outputs": [],
   "source": [
    "# Function for removing ASCII characters\n",
    "def _removeNonAscii(s):\n",
    "    return \"\".join(i for i in s if  ord(i)<128)\n",
    "\n",
    "# Function for converting to lower case\n",
    "def make_lower_case(text):\n",
    "    return text.lower()\n",
    "\n",
    "# Function for removing stop words\n",
    "def remove_stop_words(text):\n",
    "    text = text.split()\n",
    "    stops = set(stopwords.words(\"english\"))\n",
    "    text = [w for w in text if not w in stops]\n",
    "    text = \" \".join(text)\n",
    "    return text\n",
    "\n",
    "# Function for removing html\n",
    "def remove_html(text):\n",
    "    html_pattern = re.compile('<.*?>')\n",
    "    return html_pattern.sub(r'', text)\n",
    "\n",
    "# Function for removing punctuation\n",
    "def remove_punctuation(text):\n",
    "    tokenizer = RegexpTokenizer(r'\\w+')\n",
    "    text = tokenizer.tokenize(text)\n",
    "    text = \" \".join(text)\n",
    "    return text\n",
    "\n",
    "def lemm_text(text):\n",
    "    lemm=WordNetLemmatizer()\n",
    "    tokenizer = RegexpTokenizer(r'\\w+')\n",
    "    text = tokenizer.tokenize(text)\n",
    "    tokens = text\n",
    "    return ' '.join([lemm.lemmatize(t) for t in tokens])"
   ]
  },
  {
   "cell_type": "code",
   "execution_count": 8,
   "id": "e738bcf6",
   "metadata": {
    "ExecuteTime": {
     "end_time": "2024-02-02T21:14:05.326597Z",
     "start_time": "2024-02-02T21:14:05.320854Z"
    }
   },
   "outputs": [],
   "source": [
    "def vectorizer():\n",
    "    \n",
    "    \n",
    "    # Creating a list for storing the vectors ('Description' into vectors)\n",
    "    #global word_embeddings\n",
    "    word_embeddings = []\n",
    "    i = 0\n",
    "    # Reading the each 'Description'\n",
    "    for line in io['Cleaned']:\n",
    "        avgword2vec = None\n",
    "        count = 0\n",
    "        for word in line.split():\n",
    "            if word in model.wv.key_to_index:\n",
    "                count += 1\n",
    "                if avgword2vec is None:\n",
    "                    avgword2vec = model.wv[word]\n",
    "                else:\n",
    "                    avgword2vec = avgword2vec + model.wv[word]\n",
    "                \n",
    "        if avgword2vec is not None:\n",
    "            avgword2vec = avgword2vec / count\n",
    "            word_embeddings.append(avgword2vec)\n",
    "        else:\n",
    "            print(\"I found it , the error occurs at line:\" , i)\n",
    "          \n",
    "        i +=1 \n",
    "\n",
    "    return(pd.DataFrame(word_embeddings))  # Returning our Data as a Dataframe (aesthetic reasons)"
   ]
  },
  {
   "cell_type": "code",
   "execution_count": 9,
   "id": "aefef2b3",
   "metadata": {
    "ExecuteTime": {
     "end_time": "2024-02-02T21:14:40.748500Z",
     "start_time": "2024-02-02T21:14:05.346102Z"
    }
   },
   "outputs": [],
   "source": [
    "df['Cleaned'] = df['content'].apply(_removeNonAscii)\n",
    "df['Cleaned'] = df.Cleaned.apply(func = make_lower_case)\n",
    "df['Cleaned'] = df.Cleaned.apply(func = remove_stop_words)\n",
    "df['Cleaned'] = df.Cleaned.apply(func = remove_punctuation)\n",
    "df['Cleaned'] = df.Cleaned.apply(func = remove_html)\n",
    "df['Cleaned'] = df.Cleaned.apply(func = lemm_text)\n",
    "df = df.drop('content' , axis =1)"
   ]
  },
  {
   "cell_type": "code",
   "execution_count": 10,
   "id": "94963f62",
   "metadata": {
    "ExecuteTime": {
     "end_time": "2024-02-02T21:14:40.776816Z",
     "start_time": "2024-02-02T21:14:40.772372Z"
    }
   },
   "outputs": [],
   "source": [
    "io = df.copy()"
   ]
  },
  {
   "cell_type": "code",
   "execution_count": 11,
   "id": "69db0329",
   "metadata": {
    "ExecuteTime": {
     "end_time": "2024-02-02T21:14:41.549105Z",
     "start_time": "2024-02-02T21:14:40.794831Z"
    }
   },
   "outputs": [],
   "source": [
    "io = io.drop([374]).reset_index(drop=True)\n",
    "io = io.drop([6527]).reset_index(drop=True)\n",
    "\n",
    "\n",
    "corpus_full = []\n",
    "for words in io['Cleaned']:\n",
    "    corpus_full.append(words.split())  "
   ]
  },
  {
   "cell_type": "code",
   "execution_count": 12,
   "id": "e9ec2e32",
   "metadata": {
    "ExecuteTime": {
     "end_time": "2024-02-02T21:14:41.997733Z",
     "start_time": "2024-02-02T21:14:41.585768Z"
    }
   },
   "outputs": [],
   "source": [
    "model = Word2Vec.load(\"word2vec.model3\") # model with 200 vectors , softmax , skipgram"
   ]
  },
  {
   "cell_type": "code",
   "execution_count": 13,
   "id": "7dd952d8",
   "metadata": {
    "ExecuteTime": {
     "end_time": "2024-02-02T21:14:54.853095Z",
     "start_time": "2024-02-02T21:14:42.027676Z"
    }
   },
   "outputs": [],
   "source": [
    "vect = vectorizer()"
   ]
  },
  {
   "cell_type": "code",
   "execution_count": 14,
   "id": "5e1fcf99",
   "metadata": {
    "ExecuteTime": {
     "end_time": "2024-02-02T21:14:54.931135Z",
     "start_time": "2024-02-02T21:14:54.921296Z"
    }
   },
   "outputs": [
    {
     "name": "stdout",
     "output_type": "stream",
     "text": [
      "['arts, culture, entertainment and media' 'conflict, war and peace'\n",
      " 'crime, law and justice' 'disaster, accident and emergency incident'\n",
      " 'economy, business and finance' 'education' 'environment' 'health'\n",
      " 'human interest' 'labour' 'lifestyle and leisure' 'politics'\n",
      " 'religion and belief' 'science and technology' 'society' 'sport'\n",
      " 'weather']\n",
      "We did it boys , labels have been created\n"
     ]
    }
   ],
   "source": [
    "y1 = labeler(io[\"category_level_1\"])"
   ]
  },
  {
   "cell_type": "code",
   "execution_count": 15,
   "id": "04a5126d",
   "metadata": {
    "ExecuteTime": {
     "end_time": "2024-02-02T21:14:55.007616Z",
     "start_time": "2024-02-02T21:14:54.999027Z"
    }
   },
   "outputs": [],
   "source": [
    "X = vect.copy()"
   ]
  },
  {
   "cell_type": "code",
   "execution_count": 16,
   "id": "73786b28",
   "metadata": {
    "ExecuteTime": {
     "end_time": "2024-02-02T21:14:55.170365Z",
     "start_time": "2024-02-02T21:14:55.122776Z"
    }
   },
   "outputs": [
    {
     "data": {
      "text/html": [
       "<div>\n",
       "<style scoped>\n",
       "    .dataframe tbody tr th:only-of-type {\n",
       "        vertical-align: middle;\n",
       "    }\n",
       "\n",
       "    .dataframe tbody tr th {\n",
       "        vertical-align: top;\n",
       "    }\n",
       "\n",
       "    .dataframe thead th {\n",
       "        text-align: right;\n",
       "    }\n",
       "</style>\n",
       "<table border=\"1\" class=\"dataframe\">\n",
       "  <thead>\n",
       "    <tr style=\"text-align: right;\">\n",
       "      <th></th>\n",
       "      <th>0</th>\n",
       "      <th>1</th>\n",
       "      <th>2</th>\n",
       "      <th>3</th>\n",
       "      <th>4</th>\n",
       "      <th>5</th>\n",
       "      <th>6</th>\n",
       "      <th>7</th>\n",
       "      <th>8</th>\n",
       "      <th>9</th>\n",
       "      <th>...</th>\n",
       "      <th>190</th>\n",
       "      <th>191</th>\n",
       "      <th>192</th>\n",
       "      <th>193</th>\n",
       "      <th>194</th>\n",
       "      <th>195</th>\n",
       "      <th>196</th>\n",
       "      <th>197</th>\n",
       "      <th>198</th>\n",
       "      <th>199</th>\n",
       "    </tr>\n",
       "  </thead>\n",
       "  <tbody>\n",
       "    <tr>\n",
       "      <th>0</th>\n",
       "      <td>0.010030</td>\n",
       "      <td>-0.072825</td>\n",
       "      <td>-0.051542</td>\n",
       "      <td>0.033568</td>\n",
       "      <td>0.084110</td>\n",
       "      <td>0.027619</td>\n",
       "      <td>-0.071665</td>\n",
       "      <td>0.015907</td>\n",
       "      <td>-0.006390</td>\n",
       "      <td>0.152007</td>\n",
       "      <td>...</td>\n",
       "      <td>-0.087481</td>\n",
       "      <td>0.150550</td>\n",
       "      <td>0.010014</td>\n",
       "      <td>0.063487</td>\n",
       "      <td>0.218890</td>\n",
       "      <td>0.049933</td>\n",
       "      <td>0.014407</td>\n",
       "      <td>-0.129096</td>\n",
       "      <td>0.003949</td>\n",
       "      <td>-0.131842</td>\n",
       "    </tr>\n",
       "    <tr>\n",
       "      <th>1</th>\n",
       "      <td>0.071578</td>\n",
       "      <td>-0.083879</td>\n",
       "      <td>-0.080275</td>\n",
       "      <td>0.015637</td>\n",
       "      <td>0.068045</td>\n",
       "      <td>0.007964</td>\n",
       "      <td>-0.054446</td>\n",
       "      <td>0.003107</td>\n",
       "      <td>0.003455</td>\n",
       "      <td>0.160702</td>\n",
       "      <td>...</td>\n",
       "      <td>-0.032729</td>\n",
       "      <td>0.109924</td>\n",
       "      <td>0.010929</td>\n",
       "      <td>0.027677</td>\n",
       "      <td>0.182586</td>\n",
       "      <td>0.082423</td>\n",
       "      <td>-0.014971</td>\n",
       "      <td>-0.097462</td>\n",
       "      <td>-0.027377</td>\n",
       "      <td>-0.059375</td>\n",
       "    </tr>\n",
       "    <tr>\n",
       "      <th>2</th>\n",
       "      <td>0.028660</td>\n",
       "      <td>-0.003605</td>\n",
       "      <td>-0.043669</td>\n",
       "      <td>0.050716</td>\n",
       "      <td>0.109462</td>\n",
       "      <td>0.030837</td>\n",
       "      <td>-0.033665</td>\n",
       "      <td>0.022952</td>\n",
       "      <td>-0.026909</td>\n",
       "      <td>0.246786</td>\n",
       "      <td>...</td>\n",
       "      <td>-0.016610</td>\n",
       "      <td>0.091539</td>\n",
       "      <td>-0.029639</td>\n",
       "      <td>0.123434</td>\n",
       "      <td>0.160820</td>\n",
       "      <td>0.140771</td>\n",
       "      <td>-0.031121</td>\n",
       "      <td>-0.071247</td>\n",
       "      <td>-0.039745</td>\n",
       "      <td>-0.078560</td>\n",
       "    </tr>\n",
       "    <tr>\n",
       "      <th>3</th>\n",
       "      <td>0.068074</td>\n",
       "      <td>-0.112016</td>\n",
       "      <td>-0.055053</td>\n",
       "      <td>0.045375</td>\n",
       "      <td>0.063676</td>\n",
       "      <td>0.016817</td>\n",
       "      <td>-0.061693</td>\n",
       "      <td>-0.026442</td>\n",
       "      <td>-0.031120</td>\n",
       "      <td>0.191916</td>\n",
       "      <td>...</td>\n",
       "      <td>-0.073135</td>\n",
       "      <td>0.135709</td>\n",
       "      <td>0.006571</td>\n",
       "      <td>0.004580</td>\n",
       "      <td>0.166603</td>\n",
       "      <td>0.121948</td>\n",
       "      <td>-0.031010</td>\n",
       "      <td>-0.095062</td>\n",
       "      <td>0.007649</td>\n",
       "      <td>-0.106070</td>\n",
       "    </tr>\n",
       "    <tr>\n",
       "      <th>4</th>\n",
       "      <td>0.040953</td>\n",
       "      <td>-0.028588</td>\n",
       "      <td>-0.063608</td>\n",
       "      <td>0.046010</td>\n",
       "      <td>0.081183</td>\n",
       "      <td>-0.021608</td>\n",
       "      <td>-0.077216</td>\n",
       "      <td>0.027718</td>\n",
       "      <td>-0.030726</td>\n",
       "      <td>0.168264</td>\n",
       "      <td>...</td>\n",
       "      <td>-0.064928</td>\n",
       "      <td>0.073787</td>\n",
       "      <td>-0.000367</td>\n",
       "      <td>0.074108</td>\n",
       "      <td>0.142589</td>\n",
       "      <td>0.093344</td>\n",
       "      <td>0.004230</td>\n",
       "      <td>-0.099472</td>\n",
       "      <td>-0.069675</td>\n",
       "      <td>-0.046723</td>\n",
       "    </tr>\n",
       "    <tr>\n",
       "      <th>...</th>\n",
       "      <td>...</td>\n",
       "      <td>...</td>\n",
       "      <td>...</td>\n",
       "      <td>...</td>\n",
       "      <td>...</td>\n",
       "      <td>...</td>\n",
       "      <td>...</td>\n",
       "      <td>...</td>\n",
       "      <td>...</td>\n",
       "      <td>...</td>\n",
       "      <td>...</td>\n",
       "      <td>...</td>\n",
       "      <td>...</td>\n",
       "      <td>...</td>\n",
       "      <td>...</td>\n",
       "      <td>...</td>\n",
       "      <td>...</td>\n",
       "      <td>...</td>\n",
       "      <td>...</td>\n",
       "      <td>...</td>\n",
       "      <td>...</td>\n",
       "    </tr>\n",
       "    <tr>\n",
       "      <th>10910</th>\n",
       "      <td>0.025258</td>\n",
       "      <td>-0.056760</td>\n",
       "      <td>-0.053916</td>\n",
       "      <td>-0.080924</td>\n",
       "      <td>0.025728</td>\n",
       "      <td>-0.042500</td>\n",
       "      <td>0.016543</td>\n",
       "      <td>-0.056844</td>\n",
       "      <td>-0.068292</td>\n",
       "      <td>0.035164</td>\n",
       "      <td>...</td>\n",
       "      <td>-0.116704</td>\n",
       "      <td>0.099249</td>\n",
       "      <td>0.008260</td>\n",
       "      <td>0.035744</td>\n",
       "      <td>0.203707</td>\n",
       "      <td>-0.003986</td>\n",
       "      <td>0.023136</td>\n",
       "      <td>-0.156268</td>\n",
       "      <td>-0.018444</td>\n",
       "      <td>-0.033398</td>\n",
       "    </tr>\n",
       "    <tr>\n",
       "      <th>10911</th>\n",
       "      <td>0.122435</td>\n",
       "      <td>-0.154742</td>\n",
       "      <td>-0.159965</td>\n",
       "      <td>-0.032322</td>\n",
       "      <td>0.095427</td>\n",
       "      <td>-0.047862</td>\n",
       "      <td>0.000538</td>\n",
       "      <td>-0.144428</td>\n",
       "      <td>-0.148185</td>\n",
       "      <td>0.052159</td>\n",
       "      <td>...</td>\n",
       "      <td>-0.061774</td>\n",
       "      <td>0.067999</td>\n",
       "      <td>0.021077</td>\n",
       "      <td>0.097443</td>\n",
       "      <td>0.181980</td>\n",
       "      <td>0.091247</td>\n",
       "      <td>0.007482</td>\n",
       "      <td>-0.320918</td>\n",
       "      <td>-0.028273</td>\n",
       "      <td>-0.004733</td>\n",
       "    </tr>\n",
       "    <tr>\n",
       "      <th>10912</th>\n",
       "      <td>0.079171</td>\n",
       "      <td>-0.031492</td>\n",
       "      <td>-0.051477</td>\n",
       "      <td>-0.086577</td>\n",
       "      <td>0.101841</td>\n",
       "      <td>0.017272</td>\n",
       "      <td>-0.046363</td>\n",
       "      <td>-0.008180</td>\n",
       "      <td>-0.058952</td>\n",
       "      <td>0.015870</td>\n",
       "      <td>...</td>\n",
       "      <td>-0.013864</td>\n",
       "      <td>0.051082</td>\n",
       "      <td>-0.004890</td>\n",
       "      <td>0.170762</td>\n",
       "      <td>0.141724</td>\n",
       "      <td>0.000773</td>\n",
       "      <td>-0.022615</td>\n",
       "      <td>-0.110620</td>\n",
       "      <td>0.037668</td>\n",
       "      <td>-0.070821</td>\n",
       "    </tr>\n",
       "    <tr>\n",
       "      <th>10913</th>\n",
       "      <td>0.015078</td>\n",
       "      <td>-0.098757</td>\n",
       "      <td>-0.091811</td>\n",
       "      <td>-0.046112</td>\n",
       "      <td>0.102823</td>\n",
       "      <td>0.005763</td>\n",
       "      <td>-0.019206</td>\n",
       "      <td>-0.023700</td>\n",
       "      <td>-0.079233</td>\n",
       "      <td>0.044035</td>\n",
       "      <td>...</td>\n",
       "      <td>-0.014461</td>\n",
       "      <td>0.088623</td>\n",
       "      <td>0.036835</td>\n",
       "      <td>0.127098</td>\n",
       "      <td>0.156737</td>\n",
       "      <td>-0.003581</td>\n",
       "      <td>-0.047630</td>\n",
       "      <td>-0.176579</td>\n",
       "      <td>0.055320</td>\n",
       "      <td>-0.069404</td>\n",
       "    </tr>\n",
       "    <tr>\n",
       "      <th>10914</th>\n",
       "      <td>0.054540</td>\n",
       "      <td>-0.118217</td>\n",
       "      <td>-0.089521</td>\n",
       "      <td>0.012284</td>\n",
       "      <td>0.040246</td>\n",
       "      <td>-0.023135</td>\n",
       "      <td>-0.092320</td>\n",
       "      <td>-0.064904</td>\n",
       "      <td>-0.042663</td>\n",
       "      <td>0.041135</td>\n",
       "      <td>...</td>\n",
       "      <td>-0.077589</td>\n",
       "      <td>0.052324</td>\n",
       "      <td>-0.065146</td>\n",
       "      <td>0.070479</td>\n",
       "      <td>0.192898</td>\n",
       "      <td>0.017426</td>\n",
       "      <td>0.013624</td>\n",
       "      <td>-0.171379</td>\n",
       "      <td>-0.016206</td>\n",
       "      <td>-0.046442</td>\n",
       "    </tr>\n",
       "  </tbody>\n",
       "</table>\n",
       "<p>10915 rows × 200 columns</p>\n",
       "</div>"
      ],
      "text/plain": [
       "            0         1         2         3         4         5         6    \\\n",
       "0      0.010030 -0.072825 -0.051542  0.033568  0.084110  0.027619 -0.071665   \n",
       "1      0.071578 -0.083879 -0.080275  0.015637  0.068045  0.007964 -0.054446   \n",
       "2      0.028660 -0.003605 -0.043669  0.050716  0.109462  0.030837 -0.033665   \n",
       "3      0.068074 -0.112016 -0.055053  0.045375  0.063676  0.016817 -0.061693   \n",
       "4      0.040953 -0.028588 -0.063608  0.046010  0.081183 -0.021608 -0.077216   \n",
       "...         ...       ...       ...       ...       ...       ...       ...   \n",
       "10910  0.025258 -0.056760 -0.053916 -0.080924  0.025728 -0.042500  0.016543   \n",
       "10911  0.122435 -0.154742 -0.159965 -0.032322  0.095427 -0.047862  0.000538   \n",
       "10912  0.079171 -0.031492 -0.051477 -0.086577  0.101841  0.017272 -0.046363   \n",
       "10913  0.015078 -0.098757 -0.091811 -0.046112  0.102823  0.005763 -0.019206   \n",
       "10914  0.054540 -0.118217 -0.089521  0.012284  0.040246 -0.023135 -0.092320   \n",
       "\n",
       "            7         8         9    ...       190       191       192  \\\n",
       "0      0.015907 -0.006390  0.152007  ... -0.087481  0.150550  0.010014   \n",
       "1      0.003107  0.003455  0.160702  ... -0.032729  0.109924  0.010929   \n",
       "2      0.022952 -0.026909  0.246786  ... -0.016610  0.091539 -0.029639   \n",
       "3     -0.026442 -0.031120  0.191916  ... -0.073135  0.135709  0.006571   \n",
       "4      0.027718 -0.030726  0.168264  ... -0.064928  0.073787 -0.000367   \n",
       "...         ...       ...       ...  ...       ...       ...       ...   \n",
       "10910 -0.056844 -0.068292  0.035164  ... -0.116704  0.099249  0.008260   \n",
       "10911 -0.144428 -0.148185  0.052159  ... -0.061774  0.067999  0.021077   \n",
       "10912 -0.008180 -0.058952  0.015870  ... -0.013864  0.051082 -0.004890   \n",
       "10913 -0.023700 -0.079233  0.044035  ... -0.014461  0.088623  0.036835   \n",
       "10914 -0.064904 -0.042663  0.041135  ... -0.077589  0.052324 -0.065146   \n",
       "\n",
       "            193       194       195       196       197       198       199  \n",
       "0      0.063487  0.218890  0.049933  0.014407 -0.129096  0.003949 -0.131842  \n",
       "1      0.027677  0.182586  0.082423 -0.014971 -0.097462 -0.027377 -0.059375  \n",
       "2      0.123434  0.160820  0.140771 -0.031121 -0.071247 -0.039745 -0.078560  \n",
       "3      0.004580  0.166603  0.121948 -0.031010 -0.095062  0.007649 -0.106070  \n",
       "4      0.074108  0.142589  0.093344  0.004230 -0.099472 -0.069675 -0.046723  \n",
       "...         ...       ...       ...       ...       ...       ...       ...  \n",
       "10910  0.035744  0.203707 -0.003986  0.023136 -0.156268 -0.018444 -0.033398  \n",
       "10911  0.097443  0.181980  0.091247  0.007482 -0.320918 -0.028273 -0.004733  \n",
       "10912  0.170762  0.141724  0.000773 -0.022615 -0.110620  0.037668 -0.070821  \n",
       "10913  0.127098  0.156737 -0.003581 -0.047630 -0.176579  0.055320 -0.069404  \n",
       "10914  0.070479  0.192898  0.017426  0.013624 -0.171379 -0.016206 -0.046442  \n",
       "\n",
       "[10915 rows x 200 columns]"
      ]
     },
     "execution_count": 16,
     "metadata": {},
     "output_type": "execute_result"
    }
   ],
   "source": [
    "X"
   ]
  },
  {
   "cell_type": "markdown",
   "id": "0433841a",
   "metadata": {},
   "source": [
    "# BUILDING OUR KERAS MODEL"
   ]
  },
  {
   "cell_type": "code",
   "execution_count": 17,
   "id": "b9dff238",
   "metadata": {
    "ExecuteTime": {
     "end_time": "2024-02-02T21:14:55.243049Z",
     "start_time": "2024-02-02T21:14:55.225528Z"
    }
   },
   "outputs": [],
   "source": [
    "X_train, X_test, y_train, y_test = train_test_split(X, y1, test_size=0.2,random_state=42)"
   ]
  },
  {
   "cell_type": "code",
   "execution_count": 18,
   "id": "53965be0",
   "metadata": {
    "ExecuteTime": {
     "end_time": "2024-02-02T21:14:55.311921Z",
     "start_time": "2024-02-02T21:14:55.307646Z"
    }
   },
   "outputs": [],
   "source": [
    "X_train = X_train.values"
   ]
  },
  {
   "cell_type": "code",
   "execution_count": 19,
   "id": "37cb63f9",
   "metadata": {
    "ExecuteTime": {
     "end_time": "2024-02-02T21:14:55.391210Z",
     "start_time": "2024-02-02T21:14:55.386453Z"
    }
   },
   "outputs": [],
   "source": [
    "y_cat = to_categorical(y1 , dtype = 'int32')"
   ]
  },
  {
   "cell_type": "code",
   "execution_count": 20,
   "id": "a47b5f84",
   "metadata": {
    "ExecuteTime": {
     "end_time": "2024-02-02T21:14:55.469227Z",
     "start_time": "2024-02-02T21:14:55.462705Z"
    }
   },
   "outputs": [
    {
     "data": {
      "text/plain": [
       "array([[0, 0, 1, ..., 0, 0, 0],\n",
       "       [0, 0, 1, ..., 0, 0, 0],\n",
       "       [0, 0, 1, ..., 0, 0, 0],\n",
       "       ...,\n",
       "       [0, 1, 0, ..., 0, 0, 0],\n",
       "       [0, 1, 0, ..., 0, 0, 0],\n",
       "       [0, 1, 0, ..., 0, 0, 0]])"
      ]
     },
     "execution_count": 20,
     "metadata": {},
     "output_type": "execute_result"
    }
   ],
   "source": [
    "y_cat"
   ]
  },
  {
   "cell_type": "code",
   "execution_count": 21,
   "id": "7e88a041",
   "metadata": {
    "ExecuteTime": {
     "end_time": "2024-02-02T21:14:55.533518Z",
     "start_time": "2024-02-02T21:14:55.529813Z"
    }
   },
   "outputs": [],
   "source": [
    "y_train1 = to_categorical(y_train)"
   ]
  },
  {
   "cell_type": "code",
   "execution_count": 22,
   "id": "ce510cf7",
   "metadata": {
    "ExecuteTime": {
     "end_time": "2024-02-02T21:14:55.592945Z",
     "start_time": "2024-02-02T21:14:55.589026Z"
    }
   },
   "outputs": [],
   "source": [
    "y_test1 = to_categorical(y_test)"
   ]
  },
  {
   "cell_type": "code",
   "execution_count": 23,
   "id": "70905d43",
   "metadata": {
    "ExecuteTime": {
     "end_time": "2024-02-02T21:14:55.659521Z",
     "start_time": "2024-02-02T21:14:55.655689Z"
    }
   },
   "outputs": [],
   "source": [
    "from sklearn.utils.class_weight import compute_class_weight"
   ]
  },
  {
   "cell_type": "code",
   "execution_count": 24,
   "id": "10f34ec4",
   "metadata": {
    "ExecuteTime": {
     "end_time": "2024-02-02T21:14:55.748993Z",
     "start_time": "2024-02-02T21:14:55.734615Z"
    }
   },
   "outputs": [
    {
     "data": {
      "text/plain": [
       "{0: 2.213995943204868,\n",
       " 1: 0.8231523378582202,\n",
       " 2: 1.2745584586191796,\n",
       " 3: 1.2527977044476326,\n",
       " 4: 1.6731174554512358,\n",
       " 5: 1.0293528232936462,\n",
       " 6: 1.083643584015885,\n",
       " 7: 0.9107217355027117,\n",
       " 8: 1.0745754368693083,\n",
       " 9: 0.9373121511378274,\n",
       " 10: 2.158180919426594,\n",
       " 11: 0.7055591467356174,\n",
       " 12: 0.8311441081286883,\n",
       " 13: 0.7914438502673797,\n",
       " 14: 0.570718954248366,\n",
       " 15: 0.6969430920264985,\n",
       " 16: 1.5902385722090693}"
      ]
     },
     "execution_count": 24,
     "metadata": {},
     "output_type": "execute_result"
    }
   ],
   "source": [
    "class_weights = compute_class_weight(\n",
    "                                        class_weight = \"balanced\",\n",
    "                                        classes = np.unique(y_train.values.ravel()),\n",
    "                                        y = y_train.values.ravel()                                                    \n",
    "                                    )\n",
    "class_weights = dict(zip(np.unique(y_train.values.ravel()), class_weights))\n",
    "class_weights\n",
    "\n",
    "# only because we have not equiprobable classes , to better understand this , \n",
    "#for classes 0 and 1 if a class zero appears then multiply it by 2.213995943204868 and if\n",
    "# 1 multiply it by 0.8231523378582202\n",
    "# more here\n",
    "# https://stackoverflow.com/questions/43481490/keras-class-weights-class-weight-for-one-hot-encoding"
   ]
  },
  {
   "cell_type": "code",
   "execution_count": 25,
   "id": "156a8663",
   "metadata": {
    "ExecuteTime": {
     "end_time": "2024-02-02T21:15:37.284362Z",
     "start_time": "2024-02-02T21:15:37.279723Z"
    }
   },
   "outputs": [],
   "source": [
    "from tensorflow.keras.layers import LSTM , Dropout , SpatialDropout1D"
   ]
  },
  {
   "cell_type": "code",
   "execution_count": 26,
   "id": "a4690bf9",
   "metadata": {
    "ExecuteTime": {
     "end_time": "2024-02-02T21:15:37.540115Z",
     "start_time": "2024-02-02T21:15:37.536647Z"
    }
   },
   "outputs": [],
   "source": [
    "in_dim = 200"
   ]
  },
  {
   "cell_type": "code",
   "execution_count": 47,
   "id": "8a431f63",
   "metadata": {
    "ExecuteTime": {
     "end_time": "2024-02-02T21:19:43.556157Z",
     "start_time": "2024-02-02T21:19:43.370505Z"
    }
   },
   "outputs": [],
   "source": [
    "cnn_model = tf.keras.Sequential()\n",
    "cnn_model.add(tf.keras.layers.Conv1D(256,2,input_shape=(in_dim,1), activation='leaky_relu')) # for the first comment 256 == 128\n",
    "cnn_model.add(tf.keras.layers.MaxPool1D())\n",
    "cnn_model.add(tf.keras.layers.Conv1D(128,2,activation='leaky_relu')) #for the first comment 128 == 64\n",
    "cnn_model.add(tf.keras.layers.MaxPool1D())\n",
    "cnn_model.add(tf.keras.layers.Conv1D(128,2,activation='leaky_relu')) \n",
    "cnn_model.add(tf.keras.layers.MaxPool1D())\n",
    "cnn_model.add(tf.keras.layers.Conv1D(64,2,activation='leaky_relu'))\n",
    "cnn_model.add(tf.keras.layers.MaxPool1D())\n",
    "cnn_model.add(tf.keras.layers.BatchNormalization())\n",
    "cnn_model.add(tf.keras.layers.Flatten())\n",
    "cnn_model.add(tf.keras.layers.Dense(64,activation='leaky_relu'))\n",
    "cnn_model.add(tf.keras.layers.Dense(32,activation='leaky_relu'))\n",
    "cnn_model.add(tf.keras.layers.Dense(17,activation='softmax'))"
   ]
  },
  {
   "cell_type": "code",
   "execution_count": 48,
   "id": "70e137cf",
   "metadata": {
    "ExecuteTime": {
     "end_time": "2024-02-02T21:19:44.900644Z",
     "start_time": "2024-02-02T21:19:44.893539Z"
    }
   },
   "outputs": [],
   "source": [
    "opt = tf.keras.optimizers.AdamW(learning_rate =0.007 , beta_1=0.9,\n",
    "    beta_2=0.999,\n",
    "    use_ema=True,\n",
    "    ema_momentum=0.99)"
   ]
  },
  {
   "cell_type": "code",
   "execution_count": 49,
   "id": "afe05534",
   "metadata": {
    "ExecuteTime": {
     "end_time": "2024-02-02T21:19:58.974222Z",
     "start_time": "2024-02-02T21:19:58.955417Z"
    }
   },
   "outputs": [],
   "source": [
    "cnn_model.compile(optimizer=opt, \n",
    "          loss = 'categorical_crossentropy',\n",
    "          metrics=[tf.keras.metrics.BinaryAccuracy(name='accuracy'),\n",
    "                   #tf.keras.metrics.Precision(name='precision') ,\n",
    "                   tf.keras.metrics.Recall(name='recall')])"
   ]
  },
  {
   "cell_type": "code",
   "execution_count": 50,
   "id": "accf4cf0",
   "metadata": {
    "ExecuteTime": {
     "end_time": "2024-02-02T21:22:13.659717Z",
     "start_time": "2024-02-02T21:20:11.085237Z"
    }
   },
   "outputs": [
    {
     "name": "stdout",
     "output_type": "stream",
     "text": [
      "Epoch 1/20\n",
      "219/219 [==============================] - 8s 27ms/step - loss: 1.6632 - accuracy: 0.9505 - recall: 0.3132 - val_loss: 78.7557 - val_accuracy: 0.8881 - val_recall: 0.0469\n",
      "Epoch 2/20\n",
      "219/219 [==============================] - 6s 29ms/step - loss: 1.2626 - accuracy: 0.9574 - recall: 0.4491 - val_loss: 13.4648 - val_accuracy: 0.9129 - val_recall: 0.2118\n",
      "Epoch 3/20\n",
      "219/219 [==============================] - 6s 28ms/step - loss: 1.1075 - accuracy: 0.9614 - recall: 0.5110 - val_loss: 13.9051 - val_accuracy: 0.8955 - val_recall: 0.0733\n",
      "Epoch 4/20\n",
      "219/219 [==============================] - 7s 31ms/step - loss: 0.9958 - accuracy: 0.9643 - recall: 0.5559 - val_loss: 4.7365 - val_accuracy: 0.9262 - val_recall: 0.2748\n",
      "Epoch 5/20\n",
      "219/219 [==============================] - 7s 30ms/step - loss: 0.9237 - accuracy: 0.9656 - recall: 0.5858 - val_loss: 4.1535 - val_accuracy: 0.9271 - val_recall: 0.2707\n",
      "Epoch 6/20\n",
      "219/219 [==============================] - 7s 31ms/step - loss: 0.9202 - accuracy: 0.9657 - recall: 0.5867 - val_loss: 58.6200 - val_accuracy: 0.8848 - val_recall: 0.0212\n",
      "Epoch 7/20\n",
      "219/219 [==============================] - 6s 28ms/step - loss: 0.8419 - accuracy: 0.9677 - recall: 0.6186 - val_loss: 23.2316 - val_accuracy: 0.8958 - val_recall: 0.1145\n",
      "Epoch 8/20\n",
      "219/219 [==============================] - 5s 25ms/step - loss: 0.8357 - accuracy: 0.9683 - recall: 0.6229 - val_loss: 45.4688 - val_accuracy: 0.8881 - val_recall: 0.0487\n",
      "Epoch 9/20\n",
      "219/219 [==============================] - 5s 25ms/step - loss: 0.7798 - accuracy: 0.9699 - recall: 0.6543 - val_loss: 7.4479 - val_accuracy: 0.9245 - val_recall: 0.3171\n",
      "Epoch 10/20\n",
      "219/219 [==============================] - 5s 24ms/step - loss: 0.7361 - accuracy: 0.9709 - recall: 0.6650 - val_loss: 8.6320 - val_accuracy: 0.9176 - val_recall: 0.2725\n",
      "Epoch 11/20\n",
      "219/219 [==============================] - 5s 24ms/step - loss: 0.6836 - accuracy: 0.9729 - recall: 0.6948 - val_loss: 10.6417 - val_accuracy: 0.8966 - val_recall: 0.1202\n",
      "Epoch 12/20\n",
      "219/219 [==============================] - 6s 26ms/step - loss: 0.6562 - accuracy: 0.9741 - recall: 0.7084 - val_loss: 9.2413 - val_accuracy: 0.9085 - val_recall: 0.1895\n",
      "Epoch 13/20\n",
      "219/219 [==============================] - 6s 29ms/step - loss: 0.6257 - accuracy: 0.9745 - recall: 0.7134 - val_loss: 4.6666 - val_accuracy: 0.9273 - val_recall: 0.3331\n",
      "Epoch 14/20\n",
      "219/219 [==============================] - 6s 29ms/step - loss: 0.5944 - accuracy: 0.9752 - recall: 0.7290 - val_loss: 3.8698 - val_accuracy: 0.9348 - val_recall: 0.3984\n",
      "Epoch 15/20\n",
      "219/219 [==============================] - 6s 28ms/step - loss: 0.5763 - accuracy: 0.9762 - recall: 0.7423 - val_loss: 58.1565 - val_accuracy: 0.8939 - val_recall: 0.0979\n",
      "Epoch 16/20\n",
      "219/219 [==============================] - 6s 25ms/step - loss: 0.5560 - accuracy: 0.9764 - recall: 0.7453 - val_loss: 19.0942 - val_accuracy: 0.9047 - val_recall: 0.1723\n",
      "Epoch 17/20\n",
      "219/219 [==============================] - 6s 28ms/step - loss: 0.5063 - accuracy: 0.9784 - recall: 0.7655 - val_loss: 9.6489 - val_accuracy: 0.9080 - val_recall: 0.1981\n",
      "Epoch 18/20\n",
      "219/219 [==============================] - 6s 27ms/step - loss: 0.5074 - accuracy: 0.9788 - recall: 0.7759 - val_loss: 38.1794 - val_accuracy: 0.8909 - val_recall: 0.0687\n",
      "Epoch 19/20\n",
      "219/219 [==============================] - 5s 25ms/step - loss: 0.5011 - accuracy: 0.9787 - recall: 0.7741 - val_loss: 20.9878 - val_accuracy: 0.8965 - val_recall: 0.1173\n",
      "Epoch 20/20\n",
      "219/219 [==============================] - 6s 29ms/step - loss: 0.4605 - accuracy: 0.9800 - recall: 0.7898 - val_loss: 37.0706 - val_accuracy: 0.8980 - val_recall: 0.1305\n"
     ]
    }
   ],
   "source": [
    "gistory = cnn_model.fit(X_train, \n",
    "              y_train1 , \n",
    "              batch_size = 32 , \n",
    "              epochs = 20 , \n",
    "              validation_split = (0.2) ,\n",
    "              class_weight=class_weights ,\n",
    "              verbose =1)"
   ]
  },
  {
   "cell_type": "code",
   "execution_count": 51,
   "id": "09a34950",
   "metadata": {
    "ExecuteTime": {
     "end_time": "2024-02-02T21:23:07.817718Z",
     "start_time": "2024-02-02T21:23:07.246526Z"
    }
   },
   "outputs": [
    {
     "data": {
      "image/png": "[encoded data removed]",
      "text/plain": [
       "<Figure size 1200x500 with 2 Axes>"
      ]
     },
     "metadata": {},
     "output_type": "display_data"
    }
   ],
   "source": [
    "def plot_history(history):\n",
    "    acc = history.history['accuracy']\n",
    "    val_acc = history.history['val_accuracy']\n",
    "    loss = history.history['loss']\n",
    "    val_loss = history.history['val_loss']\n",
    "    x = range(1, len(acc) + 1)\n",
    "\n",
    "    plt.figure(figsize=(12, 5))\n",
    "    plt.subplot(1, 2, 1)\n",
    "    plt.plot(x, acc, 'b', label='Training acc')\n",
    "    plt.plot(x, val_acc, 'r', label='Validation acc')\n",
    "    plt.title('Training and validation accuracy')\n",
    "    plt.legend()\n",
    "    plt.subplot(1, 2, 2)\n",
    "    plt.plot(x, loss, 'b', label='Training loss')\n",
    "    plt.plot(x, val_loss, 'r', label='Validation loss')\n",
    "    plt.title('Training and validation loss')\n",
    "    plt.legend()\n",
    "    \n",
    "    \n",
    "    \n",
    "    \n",
    "plot_history(gistory)"
   ]
  },
  {
   "cell_type": "code",
   "execution_count": 52,
   "id": "55930499",
   "metadata": {
    "ExecuteTime": {
     "end_time": "2024-02-02T21:23:30.551396Z",
     "start_time": "2024-02-02T21:23:29.736337Z"
    }
   },
   "outputs": [
    {
     "name": "stdout",
     "output_type": "stream",
     "text": [
      "69/69 [==============================] - 1s 8ms/step\n"
     ]
    }
   ],
   "source": [
    "predictions = np.argmax(cnn_model.predict(X_test), axis=-1)"
   ]
  },
  {
   "cell_type": "code",
   "execution_count": 53,
   "id": "5e94a837",
   "metadata": {
    "ExecuteTime": {
     "end_time": "2024-02-02T21:23:30.798121Z",
     "start_time": "2024-02-02T21:23:30.792930Z"
    }
   },
   "outputs": [
    {
     "data": {
      "text/plain": [
       "array([14,  1, 16, ..., 11,  9, 12], dtype=int64)"
      ]
     },
     "execution_count": 53,
     "metadata": {},
     "output_type": "execute_result"
    }
   ],
   "source": [
    "predictions"
   ]
  },
  {
   "cell_type": "code",
   "execution_count": 54,
   "id": "5c4912d8",
   "metadata": {
    "ExecuteTime": {
     "end_time": "2024-02-02T21:23:31.549339Z",
     "start_time": "2024-02-02T21:23:31.545721Z"
    }
   },
   "outputs": [],
   "source": [
    "from sklearn.metrics import classification_report, confusion_matrix"
   ]
  },
  {
   "cell_type": "code",
   "execution_count": 55,
   "id": "571bd562",
   "metadata": {
    "ExecuteTime": {
     "end_time": "2024-02-02T21:23:32.416807Z",
     "start_time": "2024-02-02T21:23:32.400319Z"
    }
   },
   "outputs": [
    {
     "name": "stdout",
     "output_type": "stream",
     "text": [
      "              precision    recall  f1-score   support\n",
      "\n",
      "           0       0.54      0.54      0.54        68\n",
      "           1       0.83      0.74      0.78       176\n",
      "           2       0.57      0.81      0.67        97\n",
      "           3       0.79      0.63      0.70        90\n",
      "           4       0.76      0.48      0.59        93\n",
      "           5       0.65      0.69      0.67       108\n",
      "           6       0.83      0.84      0.84       126\n",
      "           7       0.82      0.62      0.70       136\n",
      "           8       0.62      0.66      0.64       122\n",
      "           9       0.78      0.65      0.70       155\n",
      "          10       0.64      0.80      0.71        61\n",
      "          11       0.68      0.42      0.52       172\n",
      "          12       0.71      0.73      0.72       182\n",
      "          13       0.50      0.72      0.59       151\n",
      "          14       0.57      0.69      0.62       200\n",
      "          15       0.86      0.83      0.84       169\n",
      "          16       0.83      0.97      0.90        77\n",
      "\n",
      "    accuracy                           0.69      2183\n",
      "   macro avg       0.70      0.70      0.69      2183\n",
      "weighted avg       0.71      0.69      0.69      2183\n",
      "\n"
     ]
    }
   ],
   "source": [
    "print(classification_report(y_test.values , predictions))"
   ]
  },
  {
   "cell_type": "code",
   "execution_count": 35,
   "id": "0fc3d760",
   "metadata": {
    "ExecuteTime": {
     "end_time": "2024-02-02T21:17:18.014012Z",
     "start_time": "2024-02-02T21:17:18.010014Z"
    }
   },
   "outputs": [],
   "source": [
    "# okay it is expected tbh lets try it 4 more times"
   ]
  },
  {
   "cell_type": "code",
   "execution_count": 67,
   "id": "f67fcd69",
   "metadata": {
    "ExecuteTime": {
     "end_time": "2024-02-02T21:26:08.237052Z",
     "start_time": "2024-02-02T21:25:40.453520Z"
    }
   },
   "outputs": [
    {
     "name": "stdout",
     "output_type": "stream",
     "text": [
      "Epoch 1/5\n",
      "219/219 [==============================] - 6s 25ms/step - loss: 0.2820 - accuracy: 0.9875 - recall: 0.8744 - val_loss: 12.3144 - val_accuracy: 0.9139 - val_recall: 0.2387\n",
      "Epoch 2/5\n",
      "219/219 [==============================] - 5s 25ms/step - loss: 0.3484 - accuracy: 0.9851 - recall: 0.8523 - val_loss: 5.2629 - val_accuracy: 0.9249 - val_recall: 0.3446\n",
      "Epoch 3/5\n",
      "219/219 [==============================] - 5s 25ms/step - loss: 0.3479 - accuracy: 0.9849 - recall: 0.8504 - val_loss: 10.5083 - val_accuracy: 0.9193 - val_recall: 0.3045\n",
      "Epoch 4/5\n",
      "219/219 [==============================] - 6s 26ms/step - loss: 0.3178 - accuracy: 0.9859 - recall: 0.8626 - val_loss: 4.8695 - val_accuracy: 0.9365 - val_recall: 0.4287\n",
      "Epoch 5/5\n",
      "219/219 [==============================] - 6s 25ms/step - loss: 0.2946 - accuracy: 0.9874 - recall: 0.8746 - val_loss: 5.9198 - val_accuracy: 0.9300 - val_recall: 0.3892\n"
     ]
    }
   ],
   "source": [
    "gistoty = cnn_model.fit(X_train, \n",
    "              y_train1 , \n",
    "              batch_size = 32 , \n",
    "              epochs = 5 , \n",
    "              validation_split = (0.2) ,\n",
    "              class_weight=class_weights ,\n",
    "              verbose =1)"
   ]
  },
  {
   "cell_type": "code",
   "execution_count": 68,
   "id": "940c3e70",
   "metadata": {
    "ExecuteTime": {
     "end_time": "2024-02-02T21:26:09.784859Z",
     "start_time": "2024-02-02T21:26:09.153320Z"
    }
   },
   "outputs": [
    {
     "data": {
      "image/png": "[encoded data removed]",
      "text/plain": [
       "<Figure size 1200x500 with 2 Axes>"
      ]
     },
     "metadata": {},
     "output_type": "display_data"
    }
   ],
   "source": [
    "plot_history(gistoty)"
   ]
  },
  {
   "cell_type": "code",
   "execution_count": 69,
   "id": "ec1766bc",
   "metadata": {
    "ExecuteTime": {
     "end_time": "2024-02-02T21:26:15.778287Z",
     "start_time": "2024-02-02T21:26:15.064841Z"
    }
   },
   "outputs": [
    {
     "name": "stdout",
     "output_type": "stream",
     "text": [
      "69/69 [==============================] - 1s 8ms/step\n"
     ]
    }
   ],
   "source": [
    "predictions = np.argmax(cnn_model.predict(X_test), axis=-1)"
   ]
  },
  {
   "cell_type": "code",
   "execution_count": 70,
   "id": "1b043ff8",
   "metadata": {
    "ExecuteTime": {
     "end_time": "2024-02-02T21:26:15.905909Z",
     "start_time": "2024-02-02T21:26:15.901147Z"
    }
   },
   "outputs": [
    {
     "data": {
      "text/plain": [
       "array([14,  1, 16, ...,  8,  9, 12], dtype=int64)"
      ]
     },
     "execution_count": 70,
     "metadata": {},
     "output_type": "execute_result"
    }
   ],
   "source": [
    "predictions"
   ]
  },
  {
   "cell_type": "code",
   "execution_count": 71,
   "id": "bc7bd5f7",
   "metadata": {
    "ExecuteTime": {
     "end_time": "2024-02-02T21:26:17.230771Z",
     "start_time": "2024-02-02T21:26:17.209770Z"
    }
   },
   "outputs": [
    {
     "name": "stdout",
     "output_type": "stream",
     "text": [
      "              precision    recall  f1-score   support\n",
      "\n",
      "           0       0.53      0.59      0.56        68\n",
      "           1       0.79      0.75      0.77       176\n",
      "           2       0.77      0.71      0.74        97\n",
      "           3       0.67      0.63      0.65        90\n",
      "           4       0.71      0.57      0.63        93\n",
      "           5       0.63      0.76      0.69       108\n",
      "           6       0.85      0.82      0.83       126\n",
      "           7       0.73      0.79      0.76       136\n",
      "           8       0.66      0.69      0.67       122\n",
      "           9       0.78      0.70      0.74       155\n",
      "          10       0.60      0.89      0.72        61\n",
      "          11       0.58      0.66      0.61       172\n",
      "          12       0.72      0.76      0.74       182\n",
      "          13       0.68      0.62      0.65       151\n",
      "          14       0.73      0.51      0.60       200\n",
      "          15       0.83      0.84      0.84       169\n",
      "          16       0.77      0.97      0.86        77\n",
      "\n",
      "    accuracy                           0.71      2183\n",
      "   macro avg       0.71      0.72      0.71      2183\n",
      "weighted avg       0.72      0.71      0.71      2183\n",
      "\n"
     ]
    }
   ],
   "source": [
    "print(classification_report(y_test.values , predictions))"
   ]
  },
  {
   "cell_type": "code",
   "execution_count": 61,
   "id": "6101cd8e",
   "metadata": {
    "ExecuteTime": {
     "end_time": "2024-02-02T21:24:54.764614Z",
     "start_time": "2024-02-02T21:24:54.761371Z"
    }
   },
   "outputs": [],
   "source": [
    "# much better , but lets try it 5 more times"
   ]
  },
  {
   "cell_type": "code",
   "execution_count": 45,
   "id": "1b71ba86",
   "metadata": {
    "ExecuteTime": {
     "end_time": "2024-02-02T21:19:05.357744Z",
     "start_time": "2024-02-02T21:18:31.865275Z"
    }
   },
   "outputs": [
    {
     "name": "stdout",
     "output_type": "stream",
     "text": [
      "Epoch 1/5\n",
      "219/219 [==============================] - 6s 29ms/step - loss: 0.6777 - accuracy: 0.9731 - precision: 0.8189 - recall: 0.6961 - val_loss: 19.7196 - val_accuracy: 0.8977 - val_precision: 0.1302 - val_recall: 0.1299\n",
      "Epoch 2/5\n",
      "219/219 [==============================] - 7s 30ms/step - loss: 0.6713 - accuracy: 0.9731 - precision: 0.8220 - recall: 0.6931 - val_loss: 4.7552 - val_accuracy: 0.9309 - val_precision: 0.4059 - val_recall: 0.3766\n",
      "Epoch 3/5\n",
      "219/219 [==============================] - 6s 28ms/step - loss: 0.6276 - accuracy: 0.9742 - precision: 0.8230 - recall: 0.7150 - val_loss: 3.1367 - val_accuracy: 0.9338 - val_precision: 0.4230 - val_recall: 0.3446\n",
      "Epoch 4/5\n",
      "219/219 [==============================] - 7s 31ms/step - loss: 0.6041 - accuracy: 0.9752 - precision: 0.8306 - recall: 0.7258 - val_loss: 7.6956 - val_accuracy: 0.9146 - val_precision: 0.2639 - val_recall: 0.2524\n",
      "Epoch 5/5\n",
      "219/219 [==============================] - 7s 34ms/step - loss: 0.5816 - accuracy: 0.9757 - precision: 0.8318 - recall: 0.7356 - val_loss: 2.8210 - val_accuracy: 0.9404 - val_precision: 0.4915 - val_recall: 0.3984\n"
     ]
    },
    {
     "data": {
      "text/plain": [
       "<keras.src.callbacks.History at 0x1c569548150>"
      ]
     },
     "execution_count": 45,
     "metadata": {},
     "output_type": "execute_result"
    }
   ],
   "source": [
    "cnn_model.fit(X_train, \n",
    "              y_train1 , \n",
    "              batch_size = 32 , \n",
    "              epochs = 5 , \n",
    "              validation_split = (0.2) ,\n",
    "              class_weight=class_weights ,\n",
    "              verbose =1)"
   ]
  },
  {
   "cell_type": "code",
   "execution_count": 42,
   "id": "9e5b906b",
   "metadata": {
    "ExecuteTime": {
     "end_time": "2024-02-02T21:18:24.485521Z",
     "start_time": "2024-02-02T21:18:23.784766Z"
    }
   },
   "outputs": [
    {
     "name": "stdout",
     "output_type": "stream",
     "text": [
      "69/69 [==============================] - 1s 8ms/step\n"
     ]
    },
    {
     "data": {
      "text/plain": [
       "array([ 3,  1, 16, ..., 13,  9, 12], dtype=int64)"
      ]
     },
     "execution_count": 42,
     "metadata": {},
     "output_type": "execute_result"
    }
   ],
   "source": [
    "predictions = np.argmax(cnn_model.predict(X_test), axis=-1)\n",
    "\n",
    "predictions"
   ]
  },
  {
   "cell_type": "code",
   "execution_count": 43,
   "id": "b7576604",
   "metadata": {
    "ExecuteTime": {
     "end_time": "2024-02-02T21:18:24.944455Z",
     "start_time": "2024-02-02T21:18:24.928573Z"
    }
   },
   "outputs": [
    {
     "name": "stdout",
     "output_type": "stream",
     "text": [
      "              precision    recall  f1-score   support\n",
      "\n",
      "           0       0.59      0.44      0.50        68\n",
      "           1       0.91      0.28      0.43       176\n",
      "           2       0.72      0.32      0.44        97\n",
      "           3       0.29      0.74      0.42        90\n",
      "           4       0.64      0.49      0.56        93\n",
      "           5       0.23      0.89      0.37       108\n",
      "           6       0.90      0.51      0.65       126\n",
      "           7       0.70      0.49      0.57       136\n",
      "           8       0.76      0.43      0.55       122\n",
      "           9       0.61      0.68      0.65       155\n",
      "          10       0.76      0.26      0.39        61\n",
      "          11       0.72      0.13      0.23       172\n",
      "          12       0.83      0.29      0.43       182\n",
      "          13       0.26      0.76      0.38       151\n",
      "          14       0.63      0.32      0.42       200\n",
      "          15       0.87      0.77      0.82       169\n",
      "          16       0.81      0.99      0.89        77\n",
      "\n",
      "    accuracy                           0.50      2183\n",
      "   macro avg       0.66      0.52      0.51      2183\n",
      "weighted avg       0.67      0.50      0.50      2183\n",
      "\n"
     ]
    }
   ],
   "source": [
    "print(classification_report(y_test.values , predictions))"
   ]
  },
  {
   "cell_type": "code",
   "execution_count": 44,
   "id": "480152a7",
   "metadata": {
    "ExecuteTime": {
     "end_time": "2024-02-02T21:18:28.589098Z",
     "start_time": "2024-02-02T21:18:28.585216Z"
    }
   },
   "outputs": [],
   "source": [
    "# lets tdo it 5 more times , but without the classes"
   ]
  },
  {
   "cell_type": "markdown",
   "id": "4ba6cb58",
   "metadata": {},
   "source": [
    "## CNN MODEL 1.2"
   ]
  },
  {
   "cell_type": "code",
   "execution_count": 36,
   "id": "dbf0fcaf",
   "metadata": {
    "ExecuteTime": {
     "end_time": "2024-01-25T08:27:33.447050Z",
     "start_time": "2024-01-25T08:27:33.293449Z"
    }
   },
   "outputs": [],
   "source": [
    "cnn_model1_2 = tf.keras.Sequential()\n",
    "cnn_model1_2.add(tf.keras.layers.Conv1D(256,2,input_shape=(in_dim,1), activation='leaky_relu')) # for the first comment 256 == 128\n",
    "cnn_model1_2.add(tf.keras.layers.MaxPool1D())\n",
    "cnn_model1_2.add(tf.keras.layers.Conv1D(128,2,activation='leaky_relu')) #for the first comment 128 == 64\n",
    "cnn_model1_2.add(tf.keras.layers.MaxPool1D())\n",
    "cnn_model1_2.add(tf.keras.layers.Conv1D(128,2,activation='leaky_relu')) \n",
    "cnn_model1_2.add(tf.keras.layers.MaxPool1D())\n",
    "cnn_model1_2.add(tf.keras.layers.Conv1D(64,2,activation='leaky_relu'))\n",
    "cnn_model1_2.add(tf.keras.layers.MaxPool1D())\n",
    "cnn_model1_2.add(tf.keras.layers.BatchNormalization())\n",
    "cnn_model1_2.add(tf.keras.layers.Flatten())\n",
    "cnn_model1_2.add(tf.keras.layers.Dense(64,activation='leaky_relu'))\n",
    "cnn_model1_2.add(tf.keras.layers.Dense(32,activation='leaky_relu'))\n",
    "cnn_model1_2.add(tf.keras.layers.Dense(17,activation='sigmoid'))"
   ]
  },
  {
   "cell_type": "code",
   "execution_count": 37,
   "id": "f25df3d8",
   "metadata": {
    "ExecuteTime": {
     "end_time": "2024-01-25T08:27:43.102280Z",
     "start_time": "2024-01-25T08:27:43.095143Z"
    }
   },
   "outputs": [],
   "source": [
    "opt = tf.keras.optimizers.AdamW(learning_rate =0.007 , beta_1=0.9,\n",
    "    beta_2=0.999,\n",
    "    use_ema=True,\n",
    "    ema_momentum=0.99)"
   ]
  },
  {
   "cell_type": "code",
   "execution_count": 38,
   "id": "054963ab",
   "metadata": {
    "ExecuteTime": {
     "end_time": "2024-01-25T08:28:01.214572Z",
     "start_time": "2024-01-25T08:28:01.194494Z"
    }
   },
   "outputs": [],
   "source": [
    "cnn_model1_2.compile(optimizer=opt, \n",
    "          loss = 'binary_crossentropy',\n",
    "          metrics=[tf.keras.metrics.BinaryAccuracy(name='accuracy'),\n",
    "                   tf.keras.metrics.Precision(name='precision') ,\n",
    "                   tf.keras.metrics.Recall(name='recall')])"
   ]
  },
  {
   "cell_type": "code",
   "execution_count": 39,
   "id": "ef29984c",
   "metadata": {
    "ExecuteTime": {
     "end_time": "2024-01-25T08:28:46.970486Z",
     "start_time": "2024-01-25T08:28:16.004397Z"
    }
   },
   "outputs": [
    {
     "name": "stdout",
     "output_type": "stream",
     "text": [
      "Epoch 1/5\n",
      "219/219 [==============================] - 8s 27ms/step - loss: 0.1558 - accuracy: 0.9457 - precision: 0.5748 - recall: 0.2981 - val_loss: 1.8264 - val_accuracy: 0.8305 - val_precision: 0.0410 - val_recall: 0.0841\n",
      "Epoch 2/5\n",
      "219/219 [==============================] - 6s 27ms/step - loss: 0.1146 - accuracy: 0.9581 - precision: 0.7222 - recall: 0.4664 - val_loss: 0.7018 - val_accuracy: 0.8953 - val_precision: 0.0994 - val_recall: 0.0967\n",
      "Epoch 3/5\n",
      "219/219 [==============================] - 6s 27ms/step - loss: 0.1031 - accuracy: 0.9622 - precision: 0.7553 - recall: 0.5293 - val_loss: 1.3549 - val_accuracy: 0.9446 - val_precision: 0.7179 - val_recall: 0.0962\n",
      "Epoch 4/5\n",
      "219/219 [==============================] - 6s 25ms/step - loss: 0.0959 - accuracy: 0.9649 - precision: 0.7719 - recall: 0.5722 - val_loss: 2.1257 - val_accuracy: 0.8375 - val_precision: 0.0967 - val_recall: 0.2112\n",
      "Epoch 5/5\n",
      "219/219 [==============================] - 5s 24ms/step - loss: 0.0916 - accuracy: 0.9659 - precision: 0.7764 - recall: 0.5891 - val_loss: 0.5909 - val_accuracy: 0.8965 - val_precision: 0.1049 - val_recall: 0.1007\n"
     ]
    },
    {
     "data": {
      "text/plain": [
       "<keras.src.callbacks.History at 0x1eafdfd4390>"
      ]
     },
     "execution_count": 39,
     "metadata": {},
     "output_type": "execute_result"
    }
   ],
   "source": [
    "cnn_model1_2.fit(X_train, \n",
    "              y_train1 , \n",
    "              batch_size = 32 , \n",
    "              epochs = 5 , \n",
    "              validation_split = (0.2) ,\n",
    "              #class_weight=class_weights ,\n",
    "              verbose =1)"
   ]
  },
  {
   "cell_type": "code",
   "execution_count": 40,
   "id": "4f688a10",
   "metadata": {
    "ExecuteTime": {
     "end_time": "2024-01-25T08:28:52.938488Z",
     "start_time": "2024-01-25T08:28:52.079440Z"
    }
   },
   "outputs": [
    {
     "name": "stdout",
     "output_type": "stream",
     "text": [
      "69/69 [==============================] - 1s 8ms/step\n"
     ]
    }
   ],
   "source": [
    "predictions = np.argmax(cnn_model1_2.predict(X_test), axis=-1)"
   ]
  },
  {
   "cell_type": "code",
   "execution_count": 41,
   "id": "ec556efa",
   "metadata": {
    "ExecuteTime": {
     "end_time": "2024-01-25T08:29:01.406925Z",
     "start_time": "2024-01-25T08:29:01.401064Z"
    }
   },
   "outputs": [
    {
     "data": {
      "text/plain": [
       "array([13,  1, 16, ..., 13,  9, 12], dtype=int64)"
      ]
     },
     "execution_count": 41,
     "metadata": {},
     "output_type": "execute_result"
    }
   ],
   "source": [
    "predictions"
   ]
  },
  {
   "cell_type": "code",
   "execution_count": 42,
   "id": "198daafd",
   "metadata": {
    "ExecuteTime": {
     "end_time": "2024-01-25T08:29:12.794489Z",
     "start_time": "2024-01-25T08:29:12.777362Z"
    }
   },
   "outputs": [
    {
     "name": "stdout",
     "output_type": "stream",
     "text": [
      "              precision    recall  f1-score   support\n",
      "\n",
      "           0       0.42      0.44      0.43        68\n",
      "           1       0.74      0.71      0.72       176\n",
      "           2       0.67      0.70      0.68        97\n",
      "           3       0.62      0.68      0.65        90\n",
      "           4       0.80      0.53      0.64        93\n",
      "           5       0.84      0.43      0.56       108\n",
      "           6       0.86      0.60      0.70       126\n",
      "           7       0.85      0.25      0.39       136\n",
      "           8       0.72      0.50      0.59       122\n",
      "           9       0.91      0.44      0.59       155\n",
      "          10       0.63      0.67      0.65        61\n",
      "          11       0.69      0.26      0.37       172\n",
      "          12       0.71      0.72      0.71       182\n",
      "          13       0.19      0.91      0.32       151\n",
      "          14       0.68      0.21      0.32       200\n",
      "          15       0.86      0.74      0.80       169\n",
      "          16       0.73      0.96      0.83        77\n",
      "\n",
      "    accuracy                           0.55      2183\n",
      "   macro avg       0.70      0.57      0.59      2183\n",
      "weighted avg       0.71      0.55      0.57      2183\n",
      "\n"
     ]
    }
   ],
   "source": [
    "print(classification_report(y_test.values , predictions))"
   ]
  },
  {
   "cell_type": "code",
   "execution_count": 43,
   "id": "135f5396",
   "metadata": {
    "ExecuteTime": {
     "end_time": "2024-01-25T08:29:51.436648Z",
     "start_time": "2024-01-25T08:29:22.378810Z"
    }
   },
   "outputs": [
    {
     "name": "stdout",
     "output_type": "stream",
     "text": [
      "Epoch 1/5\n",
      "219/219 [==============================] - 6s 27ms/step - loss: 0.0875 - accuracy: 0.9679 - precision: 0.7935 - recall: 0.6140 - val_loss: 0.3309 - val_accuracy: 0.9235 - val_precision: 0.2995 - val_recall: 0.2244\n",
      "Epoch 2/5\n",
      "219/219 [==============================] - 6s 27ms/step - loss: 0.0851 - accuracy: 0.9680 - precision: 0.7890 - recall: 0.6236 - val_loss: 5.4873 - val_accuracy: 0.8994 - val_precision: 0.0805 - val_recall: 0.0681\n",
      "Epoch 3/5\n",
      "219/219 [==============================] - 6s 27ms/step - loss: 0.0815 - accuracy: 0.9692 - precision: 0.7968 - recall: 0.6384 - val_loss: 0.6834 - val_accuracy: 0.9051 - val_precision: 0.1650 - val_recall: 0.1511\n",
      "Epoch 4/5\n",
      "219/219 [==============================] - 6s 27ms/step - loss: 0.0764 - accuracy: 0.9713 - precision: 0.8140 - recall: 0.6647 - val_loss: 2.0067 - val_accuracy: 0.9221 - val_precision: 0.1099 - val_recall: 0.0458\n",
      "Epoch 5/5\n",
      "219/219 [==============================] - 5s 24ms/step - loss: 0.0740 - accuracy: 0.9721 - precision: 0.8163 - recall: 0.6776 - val_loss: 0.5482 - val_accuracy: 0.9151 - val_precision: 0.2307 - val_recall: 0.1895\n"
     ]
    },
    {
     "data": {
      "text/plain": [
       "<keras.src.callbacks.History at 0x1ea8af50d10>"
      ]
     },
     "execution_count": 43,
     "metadata": {},
     "output_type": "execute_result"
    }
   ],
   "source": [
    "cnn_model1_2.fit(X_train, \n",
    "              y_train1 , \n",
    "              batch_size = 32 , \n",
    "              epochs = 5 , \n",
    "              validation_split = (0.2) ,\n",
    "              #class_weight=class_weights ,\n",
    "              verbose =1)"
   ]
  },
  {
   "cell_type": "code",
   "execution_count": 46,
   "id": "37e5d338",
   "metadata": {
    "ExecuteTime": {
     "end_time": "2024-01-25T08:30:11.822970Z",
     "start_time": "2024-01-25T08:30:11.048853Z"
    }
   },
   "outputs": [
    {
     "name": "stdout",
     "output_type": "stream",
     "text": [
      "69/69 [==============================] - 1s 9ms/step\n"
     ]
    },
    {
     "data": {
      "text/plain": [
       "array([14,  1, 16, ..., 11,  9, 12], dtype=int64)"
      ]
     },
     "execution_count": 46,
     "metadata": {},
     "output_type": "execute_result"
    }
   ],
   "source": [
    "predictions = np.argmax(cnn_model1_2.predict(X_test)>0.5, axis=-1)\n",
    "predictions"
   ]
  },
  {
   "cell_type": "code",
   "execution_count": 47,
   "id": "4ef47677",
   "metadata": {
    "ExecuteTime": {
     "end_time": "2024-01-25T08:30:13.064937Z",
     "start_time": "2024-01-25T08:30:13.047662Z"
    }
   },
   "outputs": [
    {
     "name": "stdout",
     "output_type": "stream",
     "text": [
      "              precision    recall  f1-score   support\n",
      "\n",
      "           0       0.12      0.81      0.21        68\n",
      "           1       0.88      0.67      0.76       176\n",
      "           2       0.78      0.69      0.73        97\n",
      "           3       0.84      0.54      0.66        90\n",
      "           4       0.83      0.47      0.60        93\n",
      "           5       0.76      0.67      0.71       108\n",
      "           6       0.85      0.79      0.82       126\n",
      "           7       0.84      0.74      0.78       136\n",
      "           8       0.78      0.52      0.62       122\n",
      "           9       0.87      0.61      0.72       155\n",
      "          10       0.71      0.52      0.60        61\n",
      "          11       0.64      0.62      0.63       172\n",
      "          12       0.86      0.62      0.72       182\n",
      "          13       0.77      0.54      0.64       151\n",
      "          14       0.67      0.52      0.58       200\n",
      "          15       0.86      0.87      0.87       169\n",
      "          16       0.82      0.97      0.89        77\n",
      "\n",
      "    accuracy                           0.65      2183\n",
      "   macro avg       0.76      0.66      0.68      2183\n",
      "weighted avg       0.78      0.65      0.69      2183\n",
      "\n"
     ]
    }
   ],
   "source": [
    "print(classification_report(y_test.values , predictions))"
   ]
  },
  {
   "cell_type": "code",
   "execution_count": 48,
   "id": "48a76985",
   "metadata": {
    "ExecuteTime": {
     "end_time": "2024-01-25T08:30:53.442120Z",
     "start_time": "2024-01-25T08:30:25.552536Z"
    }
   },
   "outputs": [
    {
     "name": "stdout",
     "output_type": "stream",
     "text": [
      "Epoch 1/5\n",
      "219/219 [==============================] - 6s 28ms/step - loss: 0.0700 - accuracy: 0.9734 - precision: 0.8228 - recall: 0.6981 - val_loss: 0.9152 - val_accuracy: 0.8970 - val_precision: 0.1360 - val_recall: 0.1402\n",
      "Epoch 2/5\n",
      "219/219 [==============================] - 6s 27ms/step - loss: 0.0706 - accuracy: 0.9735 - precision: 0.8224 - recall: 0.7001 - val_loss: 0.9822 - val_accuracy: 0.8644 - val_precision: 0.0920 - val_recall: 0.1471\n",
      "Epoch 3/5\n",
      "219/219 [==============================] - 5s 24ms/step - loss: 0.0662 - accuracy: 0.9748 - precision: 0.8326 - recall: 0.7151 - val_loss: 1.1988 - val_accuracy: 0.8955 - val_precision: 0.1844 - val_recall: 0.2267\n",
      "Epoch 4/5\n",
      "219/219 [==============================] - 5s 24ms/step - loss: 0.0640 - accuracy: 0.9759 - precision: 0.8381 - recall: 0.7324 - val_loss: 0.5047 - val_accuracy: 0.9076 - val_precision: 0.2597 - val_recall: 0.3080\n",
      "Epoch 5/5\n",
      "219/219 [==============================] - 5s 24ms/step - loss: 0.0602 - accuracy: 0.9779 - precision: 0.8538 - recall: 0.7533 - val_loss: 0.5343 - val_accuracy: 0.9404 - val_precision: 0.4866 - val_recall: 0.2284\n"
     ]
    },
    {
     "data": {
      "text/plain": [
       "<keras.src.callbacks.History at 0x1ea8aeeb150>"
      ]
     },
     "execution_count": 48,
     "metadata": {},
     "output_type": "execute_result"
    }
   ],
   "source": [
    "cnn_model1_2.fit(X_train, \n",
    "              y_train1 , \n",
    "              batch_size = 32 , \n",
    "              epochs = 5 , \n",
    "              validation_split = (0.2) ,\n",
    "              #class_weight=class_weights ,\n",
    "              verbose =1)"
   ]
  },
  {
   "cell_type": "code",
   "execution_count": 58,
   "id": "588f0967",
   "metadata": {
    "ExecuteTime": {
     "end_time": "2024-01-25T08:31:32.766744Z",
     "start_time": "2024-01-25T08:31:32.056763Z"
    }
   },
   "outputs": [
    {
     "name": "stdout",
     "output_type": "stream",
     "text": [
      "69/69 [==============================] - 1s 8ms/step\n"
     ]
    },
    {
     "data": {
      "text/plain": [
       "array([0, 1, 0, ..., 0, 0, 0], dtype=int64)"
      ]
     },
     "execution_count": 58,
     "metadata": {},
     "output_type": "execute_result"
    }
   ],
   "source": [
    "predictions = np.argmax(cnn_model1_2.predict(X_test)>0.99, axis=-1)\n",
    "predictions"
   ]
  },
  {
   "cell_type": "code",
   "execution_count": 59,
   "id": "a466ee7d",
   "metadata": {
    "ExecuteTime": {
     "end_time": "2024-01-25T08:31:33.368016Z",
     "start_time": "2024-01-25T08:31:33.351325Z"
    }
   },
   "outputs": [
    {
     "name": "stdout",
     "output_type": "stream",
     "text": [
      "              precision    recall  f1-score   support\n",
      "\n",
      "           0       0.04      0.99      0.07        68\n",
      "           1       0.98      0.24      0.38       176\n",
      "           2       0.96      0.26      0.41        97\n",
      "           3       1.00      0.36      0.52        90\n",
      "           4       0.89      0.34      0.50        93\n",
      "           5       1.00      0.09      0.17       108\n",
      "           6       0.97      0.26      0.41       126\n",
      "           7       1.00      0.07      0.14       136\n",
      "           8       0.94      0.24      0.38       122\n",
      "           9       0.88      0.28      0.42       155\n",
      "          10       1.00      0.20      0.33        61\n",
      "          11       1.00      0.02      0.05       172\n",
      "          12       0.85      0.09      0.17       182\n",
      "          13       0.87      0.18      0.30       151\n",
      "          14       0.75      0.01      0.03       200\n",
      "          15       0.99      0.49      0.66       169\n",
      "          16       1.00      0.48      0.65        77\n",
      "\n",
      "    accuracy                           0.23      2183\n",
      "   macro avg       0.89      0.27      0.33      2183\n",
      "weighted avg       0.90      0.23      0.31      2183\n",
      "\n"
     ]
    }
   ],
   "source": [
    "print(classification_report(y_test.values , predictions))"
   ]
  },
  {
   "cell_type": "code",
   "execution_count": null,
   "id": "5a59b850",
   "metadata": {},
   "outputs": [],
   "source": []
  },
  {
   "cell_type": "code",
   "execution_count": null,
   "id": "759009dd",
   "metadata": {},
   "outputs": [],
   "source": []
  },
  {
   "cell_type": "code",
   "execution_count": null,
   "id": "f8ceef37",
   "metadata": {},
   "outputs": [],
   "source": []
  },
  {
   "cell_type": "code",
   "execution_count": null,
   "id": "5c4799cf",
   "metadata": {},
   "outputs": [],
   "source": []
  },
  {
   "cell_type": "code",
   "execution_count": null,
   "id": "0ddf1a28",
   "metadata": {},
   "outputs": [],
   "source": []
  },
  {
   "cell_type": "markdown",
   "id": "d39f5c9c",
   "metadata": {},
   "source": [
    "## CNN MODEL 2"
   ]
  },
  {
   "cell_type": "code",
   "execution_count": 59,
   "id": "bc97d4ae",
   "metadata": {
    "ExecuteTime": {
     "end_time": "2024-01-22T00:55:04.267137Z",
     "start_time": "2024-01-22T00:55:04.074252Z"
    }
   },
   "outputs": [],
   "source": [
    "cnn_model2 = tf.keras.Sequential()\n",
    "cnn_model2.add(tf.keras.layers.Conv1D(256,2,input_shape=(in_dim,1), activation='leaky_relu')) # for the first comment 256 == 128\n",
    "cnn_model2.add(tf.keras.layers.MaxPool1D())\n",
    "cnn_model2.add(tf.keras.layers.Conv1D(128,2,activation='leaky_relu')) #for the first comment 128 == 64\n",
    "cnn_model2.add(tf.keras.layers.MaxPool1D())\n",
    "cnn_model2.add(tf.keras.layers.Conv1D(128,2,activation='leaky_relu')) \n",
    "cnn_model2.add(tf.keras.layers.MaxPool1D())\n",
    "cnn_model2.add(tf.keras.layers.Conv1D(64,2,activation='leaky_relu'))\n",
    "cnn_model2.add(tf.keras.layers.MaxPool1D())\n",
    "cnn_model2.add(tf.keras.layers.BatchNormalization())\n",
    "cnn_model2.add(tf.keras.layers.Flatten())\n",
    "cnn_model2.add(tf.keras.layers.Dense(64,activation='leaky_relu'))\n",
    "cnn_model2.add(tf.keras.layers.Dense(32,activation='leaky_relu'))\n",
    "cnn_model2.add(tf.keras.layers.Dense(17,activation='softmax'))"
   ]
  },
  {
   "cell_type": "code",
   "execution_count": 60,
   "id": "f96cde9e",
   "metadata": {
    "ExecuteTime": {
     "end_time": "2024-01-22T00:55:35.981700Z",
     "start_time": "2024-01-22T00:55:35.974183Z"
    }
   },
   "outputs": [],
   "source": [
    "opt = tf.keras.optimizers.AdamW(learning_rate =0.0005 , beta_1=0.9,\n",
    "    beta_2=0.999,\n",
    "    use_ema=True,\n",
    "    ema_momentum=0.99)"
   ]
  },
  {
   "cell_type": "code",
   "execution_count": 61,
   "id": "443fd50e",
   "metadata": {
    "ExecuteTime": {
     "end_time": "2024-01-22T00:55:53.128837Z",
     "start_time": "2024-01-22T00:55:53.103999Z"
    }
   },
   "outputs": [],
   "source": [
    "cnn_model2.compile(optimizer=opt, \n",
    "          loss = 'categorical_crossentropy',\n",
    "          metrics=[tf.keras.metrics.BinaryAccuracy(name='accuracy'),\n",
    "                   tf.keras.metrics.Precision(name='precision') ,\n",
    "                   tf.keras.metrics.Recall(name='recall')])"
   ]
  },
  {
   "cell_type": "code",
   "execution_count": 62,
   "id": "08478bcd",
   "metadata": {
    "ExecuteTime": {
     "end_time": "2024-01-22T00:56:43.284738Z",
     "start_time": "2024-01-22T00:56:13.969866Z"
    }
   },
   "outputs": [
    {
     "name": "stdout",
     "output_type": "stream",
     "text": [
      "Epoch 1/5\n",
      "219/219 [==============================] - 8s 26ms/step - loss: 1.6249 - accuracy: 0.9527 - precision: 0.7511 - recall: 0.2942 - val_loss: 2.4061 - val_accuracy: 0.9412 - val_precision: 0.0000e+00 - val_recall: 0.0000e+00\n",
      "Epoch 2/5\n",
      "219/219 [==============================] - 5s 24ms/step - loss: 1.1107 - accuracy: 0.9625 - precision: 0.7689 - recall: 0.5183 - val_loss: 1.6595 - val_accuracy: 0.9463 - val_precision: 0.8953 - val_recall: 0.0979\n",
      "Epoch 3/5\n",
      "219/219 [==============================] - 5s 24ms/step - loss: 0.9964 - accuracy: 0.9652 - precision: 0.7781 - recall: 0.5702 - val_loss: 1.2657 - val_accuracy: 0.9608 - val_precision: 0.7971 - val_recall: 0.4476\n",
      "Epoch 4/5\n",
      "219/219 [==============================] - 5s 24ms/step - loss: 0.9129 - accuracy: 0.9680 - precision: 0.7989 - recall: 0.6103 - val_loss: 1.4983 - val_accuracy: 0.9519 - val_precision: 0.6211 - val_recall: 0.4654\n",
      "Epoch 5/5\n",
      "219/219 [==============================] - 5s 25ms/step - loss: 0.8572 - accuracy: 0.9700 - precision: 0.8111 - recall: 0.6377 - val_loss: 1.1246 - val_accuracy: 0.9643 - val_precision: 0.7511 - val_recall: 0.5873\n"
     ]
    },
    {
     "data": {
      "text/plain": [
       "<keras.src.callbacks.History at 0x2e46aa2d750>"
      ]
     },
     "execution_count": 62,
     "metadata": {},
     "output_type": "execute_result"
    }
   ],
   "source": [
    "cnn_model2.fit(X_train, \n",
    "              y_train1 , \n",
    "              batch_size = 32 , \n",
    "              epochs = 5 , \n",
    "              validation_split = (0.2) ,\n",
    "              #class_weight=class_weights ,\n",
    "              verbose =1)"
   ]
  },
  {
   "cell_type": "code",
   "execution_count": 63,
   "id": "a538d2bd",
   "metadata": {
    "ExecuteTime": {
     "end_time": "2024-01-22T00:56:54.166725Z",
     "start_time": "2024-01-22T00:56:53.382421Z"
    }
   },
   "outputs": [
    {
     "name": "stdout",
     "output_type": "stream",
     "text": [
      "69/69 [==============================] - 1s 8ms/step\n"
     ]
    },
    {
     "data": {
      "text/plain": [
       "array([14,  1, 16, ..., 11,  9, 12], dtype=int64)"
      ]
     },
     "execution_count": 63,
     "metadata": {},
     "output_type": "execute_result"
    }
   ],
   "source": [
    "predictions = np.argmax(cnn_model2.predict(X_test), axis=-1)\n",
    "\n",
    "predictions"
   ]
  },
  {
   "cell_type": "code",
   "execution_count": 64,
   "id": "69938b91",
   "metadata": {
    "ExecuteTime": {
     "end_time": "2024-01-22T00:57:04.071596Z",
     "start_time": "2024-01-22T00:57:04.055076Z"
    }
   },
   "outputs": [
    {
     "name": "stdout",
     "output_type": "stream",
     "text": [
      "              precision    recall  f1-score   support\n",
      "\n",
      "           0       0.55      0.44      0.49        68\n",
      "           1       0.78      0.74      0.76       176\n",
      "           2       0.68      0.79      0.73        97\n",
      "           3       0.67      0.62      0.64        90\n",
      "           4       0.75      0.54      0.62        93\n",
      "           5       0.63      0.77      0.69       108\n",
      "           6       0.83      0.80      0.81       126\n",
      "           7       0.73      0.78      0.75       136\n",
      "           8       0.68      0.67      0.67       122\n",
      "           9       0.76      0.68      0.72       155\n",
      "          10       0.61      0.64      0.62        61\n",
      "          11       0.65      0.64      0.64       172\n",
      "          12       0.73      0.78      0.76       182\n",
      "          13       0.64      0.59      0.62       151\n",
      "          14       0.59      0.58      0.59       200\n",
      "          15       0.83      0.89      0.86       169\n",
      "          16       0.80      0.97      0.88        77\n",
      "\n",
      "    accuracy                           0.71      2183\n",
      "   macro avg       0.70      0.70      0.70      2183\n",
      "weighted avg       0.71      0.71      0.70      2183\n",
      "\n"
     ]
    }
   ],
   "source": [
    "print(classification_report(y_test.values , predictions))"
   ]
  },
  {
   "cell_type": "code",
   "execution_count": 66,
   "id": "ac362978",
   "metadata": {
    "ExecuteTime": {
     "end_time": "2024-01-22T00:57:58.592850Z",
     "start_time": "2024-01-22T00:57:58.589266Z"
    }
   },
   "outputs": [],
   "source": [
    "# Wow 70% accuracy!!? No way , mitropanos helps a lot (I am kapsouris rn)\n",
    "# anyway lets run it 5 more times"
   ]
  },
  {
   "cell_type": "code",
   "execution_count": 67,
   "id": "79686d58",
   "metadata": {
    "ExecuteTime": {
     "end_time": "2024-01-22T00:58:30.599140Z",
     "start_time": "2024-01-22T00:58:01.166036Z"
    }
   },
   "outputs": [
    {
     "name": "stdout",
     "output_type": "stream",
     "text": [
      "Epoch 1/5\n",
      "219/219 [==============================] - 6s 27ms/step - loss: 0.8149 - accuracy: 0.9712 - precision: 0.8177 - recall: 0.6563 - val_loss: 1.2359 - val_accuracy: 0.9592 - val_precision: 0.6895 - val_recall: 0.5581\n",
      "Epoch 2/5\n",
      "219/219 [==============================] - 6s 27ms/step - loss: 0.7704 - accuracy: 0.9727 - precision: 0.8314 - recall: 0.6713 - val_loss: 1.4970 - val_accuracy: 0.9558 - val_precision: 0.6637 - val_recall: 0.5037\n",
      "Epoch 3/5\n",
      "219/219 [==============================] - 6s 25ms/step - loss: 0.7259 - accuracy: 0.9738 - precision: 0.8337 - recall: 0.6918 - val_loss: 1.1919 - val_accuracy: 0.9623 - val_precision: 0.7192 - val_recall: 0.5879\n",
      "Epoch 4/5\n",
      "219/219 [==============================] - 5s 25ms/step - loss: 0.6778 - accuracy: 0.9751 - precision: 0.8419 - recall: 0.7111 - val_loss: 1.5013 - val_accuracy: 0.9542 - val_precision: 0.6294 - val_recall: 0.5375\n",
      "Epoch 5/5\n",
      "219/219 [==============================] - 7s 30ms/step - loss: 0.6264 - accuracy: 0.9768 - precision: 0.8513 - recall: 0.7341 - val_loss: 1.5955 - val_accuracy: 0.9535 - val_precision: 0.6263 - val_recall: 0.5209\n"
     ]
    },
    {
     "data": {
      "text/plain": [
       "<keras.src.callbacks.History at 0x2e46d4be410>"
      ]
     },
     "execution_count": 67,
     "metadata": {},
     "output_type": "execute_result"
    }
   ],
   "source": [
    "cnn_model2.fit(X_train, \n",
    "              y_train1 , \n",
    "              batch_size = 32 , \n",
    "              epochs = 5 , \n",
    "              validation_split = (0.2) ,\n",
    "              #class_weight=class_weights ,\n",
    "              verbose =1)"
   ]
  },
  {
   "cell_type": "code",
   "execution_count": 68,
   "id": "6bbef066",
   "metadata": {
    "ExecuteTime": {
     "end_time": "2024-01-22T00:59:19.070681Z",
     "start_time": "2024-01-22T00:59:18.349669Z"
    }
   },
   "outputs": [
    {
     "name": "stdout",
     "output_type": "stream",
     "text": [
      "69/69 [==============================] - 1s 9ms/step\n"
     ]
    },
    {
     "data": {
      "text/plain": [
       "array([14,  1, 16, ...,  8,  9, 12], dtype=int64)"
      ]
     },
     "execution_count": 68,
     "metadata": {},
     "output_type": "execute_result"
    }
   ],
   "source": [
    "predictions = np.argmax(cnn_model2.predict(X_test), axis=-1)\n",
    "\n",
    "predictions"
   ]
  },
  {
   "cell_type": "code",
   "execution_count": 69,
   "id": "345f7723",
   "metadata": {
    "ExecuteTime": {
     "end_time": "2024-01-22T00:59:24.736111Z",
     "start_time": "2024-01-22T00:59:24.719110Z"
    }
   },
   "outputs": [
    {
     "name": "stdout",
     "output_type": "stream",
     "text": [
      "              precision    recall  f1-score   support\n",
      "\n",
      "           0       0.56      0.50      0.53        68\n",
      "           1       0.81      0.77      0.79       176\n",
      "           2       0.71      0.76      0.74        97\n",
      "           3       0.71      0.62      0.66        90\n",
      "           4       0.71      0.56      0.63        93\n",
      "           5       0.66      0.72      0.69       108\n",
      "           6       0.80      0.84      0.82       126\n",
      "           7       0.74      0.74      0.74       136\n",
      "           8       0.66      0.71      0.69       122\n",
      "           9       0.80      0.69      0.74       155\n",
      "          10       0.67      0.70      0.69        61\n",
      "          11       0.63      0.66      0.65       172\n",
      "          12       0.72      0.77      0.75       182\n",
      "          13       0.65      0.60      0.63       151\n",
      "          14       0.60      0.62      0.61       200\n",
      "          15       0.85      0.83      0.84       169\n",
      "          16       0.83      0.97      0.90        77\n",
      "\n",
      "    accuracy                           0.71      2183\n",
      "   macro avg       0.71      0.71      0.71      2183\n",
      "weighted avg       0.72      0.71      0.71      2183\n",
      "\n"
     ]
    }
   ],
   "source": [
    "print(classification_report(y_test.values , predictions))"
   ]
  },
  {
   "cell_type": "code",
   "execution_count": 70,
   "id": "c9c5f7ba",
   "metadata": {
    "ExecuteTime": {
     "end_time": "2024-01-22T00:59:41.683580Z",
     "start_time": "2024-01-22T00:59:41.679896Z"
    }
   },
   "outputs": [],
   "source": [
    "# 71 percent ?? , I guess we can do better"
   ]
  },
  {
   "cell_type": "markdown",
   "id": "8a6a9e24",
   "metadata": {},
   "source": [
    "# MODEL 3"
   ]
  },
  {
   "cell_type": "code",
   "execution_count": 71,
   "id": "436ead9f",
   "metadata": {
    "ExecuteTime": {
     "end_time": "2024-01-22T01:00:21.088870Z",
     "start_time": "2024-01-22T01:00:20.900020Z"
    }
   },
   "outputs": [],
   "source": [
    "cnn_model3 = tf.keras.Sequential()\n",
    "cnn_model3.add(tf.keras.layers.Conv1D(256,2,input_shape=(in_dim,1), activation='leaky_relu')) # for the first comment 256 == 128\n",
    "cnn_model3.add(tf.keras.layers.MaxPool1D())\n",
    "cnn_model3.add(tf.keras.layers.Conv1D(128,2,activation='leaky_relu')) #for the first comment 128 == 64\n",
    "cnn_model3.add(tf.keras.layers.MaxPool1D())\n",
    "cnn_model3.add(tf.keras.layers.Conv1D(128,2,activation='leaky_relu')) \n",
    "cnn_model3.add(tf.keras.layers.MaxPool1D())\n",
    "cnn_model3.add(tf.keras.layers.Conv1D(64,2,activation='leaky_relu'))\n",
    "cnn_model3.add(tf.keras.layers.MaxPool1D())\n",
    "cnn_model3.add(tf.keras.layers.BatchNormalization())\n",
    "cnn_model3.add(tf.keras.layers.Flatten())\n",
    "cnn_model3.add(tf.keras.layers.Dense(64,activation='leaky_relu'))\n",
    "cnn_model3.add(tf.keras.layers.Dense(32,activation='leaky_relu'))\n",
    "cnn_model3.add(tf.keras.layers.Dense(17,activation='softmax'))"
   ]
  },
  {
   "cell_type": "code",
   "execution_count": 72,
   "id": "a3bd37a5",
   "metadata": {
    "ExecuteTime": {
     "end_time": "2024-01-22T01:00:35.252585Z",
     "start_time": "2024-01-22T01:00:35.246746Z"
    }
   },
   "outputs": [],
   "source": [
    "opt = tf.keras.optimizers.AdamW(learning_rate =0.00005 , beta_1=0.9,\n",
    "    beta_2=0.999,\n",
    "    use_ema=True,\n",
    "    ema_momentum=0.99)"
   ]
  },
  {
   "cell_type": "code",
   "execution_count": 73,
   "id": "5baeacd7",
   "metadata": {
    "ExecuteTime": {
     "end_time": "2024-01-22T01:00:45.196605Z",
     "start_time": "2024-01-22T01:00:45.175088Z"
    }
   },
   "outputs": [],
   "source": [
    "cnn_model3.compile(optimizer=opt, \n",
    "          loss = 'categorical_crossentropy',\n",
    "          metrics=[tf.keras.metrics.BinaryAccuracy(name='accuracy'),\n",
    "                   tf.keras.metrics.Precision(name='precision') ,\n",
    "                   tf.keras.metrics.Recall(name='recall')])"
   ]
  },
  {
   "cell_type": "code",
   "execution_count": 74,
   "id": "dcf37e3a",
   "metadata": {
    "ExecuteTime": {
     "end_time": "2024-01-22T01:01:26.676831Z",
     "start_time": "2024-01-22T01:00:56.064901Z"
    }
   },
   "outputs": [
    {
     "name": "stdout",
     "output_type": "stream",
     "text": [
      "Epoch 1/5\n",
      "219/219 [==============================] - 8s 27ms/step - loss: 2.6518 - accuracy: 0.9412 - precision: 0.0000e+00 - recall: 0.0000e+00 - val_loss: 2.7787 - val_accuracy: 0.9412 - val_precision: 0.0000e+00 - val_recall: 0.0000e+00\n",
      "Epoch 2/5\n",
      "219/219 [==============================] - 5s 24ms/step - loss: 1.9288 - accuracy: 0.9445 - precision: 0.8839 - recall: 0.0654 - val_loss: 2.3016 - val_accuracy: 0.9412 - val_precision: 0.0000e+00 - val_recall: 0.0000e+00\n",
      "Epoch 3/5\n",
      "219/219 [==============================] - 6s 26ms/step - loss: 1.4666 - accuracy: 0.9541 - precision: 0.8295 - recall: 0.2766 - val_loss: 1.5435 - val_accuracy: 0.9510 - val_precision: 0.9101 - val_recall: 0.1855\n",
      "Epoch 4/5\n",
      "219/219 [==============================] - 6s 27ms/step - loss: 1.3071 - accuracy: 0.9581 - precision: 0.8090 - recall: 0.3772 - val_loss: 1.3103 - val_accuracy: 0.9586 - val_precision: 0.8131 - val_recall: 0.3835\n",
      "Epoch 5/5\n",
      "219/219 [==============================] - 5s 24ms/step - loss: 1.2165 - accuracy: 0.9600 - precision: 0.7994 - recall: 0.4279 - val_loss: 1.2405 - val_accuracy: 0.9602 - val_precision: 0.7934 - val_recall: 0.4373\n"
     ]
    },
    {
     "data": {
      "text/plain": [
       "<keras.src.callbacks.History at 0x2e470524cd0>"
      ]
     },
     "execution_count": 74,
     "metadata": {},
     "output_type": "execute_result"
    }
   ],
   "source": [
    "cnn_model3.fit(X_train, \n",
    "              y_train1 , \n",
    "              batch_size = 32 , \n",
    "              epochs = 5 , \n",
    "              validation_split = (0.2) ,\n",
    "              #class_weight=class_weights ,\n",
    "              verbose =1)"
   ]
  },
  {
   "cell_type": "code",
   "execution_count": 79,
   "id": "39867945",
   "metadata": {
    "ExecuteTime": {
     "end_time": "2024-01-22T01:02:11.883407Z",
     "start_time": "2024-01-22T01:02:11.015467Z"
    }
   },
   "outputs": [
    {
     "name": "stdout",
     "output_type": "stream",
     "text": [
      "69/69 [==============================] - 1s 7ms/step\n"
     ]
    },
    {
     "data": {
      "text/plain": [
       "array([14,  1, 16, ..., 11,  9, 12], dtype=int64)"
      ]
     },
     "execution_count": 79,
     "metadata": {},
     "output_type": "execute_result"
    }
   ],
   "source": [
    "predictions = np.argmax(cnn_model3.predict(X_test), axis=-1)\n",
    "\n",
    "predictions"
   ]
  },
  {
   "cell_type": "code",
   "execution_count": 80,
   "id": "03bfb8c7",
   "metadata": {
    "ExecuteTime": {
     "end_time": "2024-01-22T01:02:12.916507Z",
     "start_time": "2024-01-22T01:02:12.896504Z"
    }
   },
   "outputs": [
    {
     "name": "stdout",
     "output_type": "stream",
     "text": [
      "              precision    recall  f1-score   support\n",
      "\n",
      "           0       0.73      0.24      0.36        68\n",
      "           1       0.74      0.68      0.71       176\n",
      "           2       0.68      0.67      0.67        97\n",
      "           3       0.69      0.60      0.64        90\n",
      "           4       0.75      0.48      0.59        93\n",
      "           5       0.64      0.78      0.70       108\n",
      "           6       0.79      0.79      0.79       126\n",
      "           7       0.68      0.70      0.69       136\n",
      "           8       0.53      0.63      0.58       122\n",
      "           9       0.79      0.57      0.66       155\n",
      "          10       0.51      0.54      0.52        61\n",
      "          11       0.50      0.66      0.57       172\n",
      "          12       0.72      0.75      0.73       182\n",
      "          13       0.67      0.56      0.61       151\n",
      "          14       0.46      0.56      0.51       200\n",
      "          15       0.81      0.84      0.82       169\n",
      "          16       0.85      0.91      0.88        77\n",
      "\n",
      "    accuracy                           0.66      2183\n",
      "   macro avg       0.68      0.65      0.65      2183\n",
      "weighted avg       0.67      0.66      0.66      2183\n",
      "\n"
     ]
    }
   ],
   "source": [
    "print(classification_report(y_test.values , predictions))"
   ]
  },
  {
   "cell_type": "code",
   "execution_count": 81,
   "id": "2e7d092e",
   "metadata": {
    "ExecuteTime": {
     "end_time": "2024-01-22T01:02:14.059655Z",
     "start_time": "2024-01-22T01:02:14.056564Z"
    }
   },
   "outputs": [],
   "source": [
    "# nice , lets do it again another 5 times"
   ]
  },
  {
   "cell_type": "code",
   "execution_count": 82,
   "id": "ff36ae1e",
   "metadata": {
    "ExecuteTime": {
     "end_time": "2024-01-22T01:02:42.728153Z",
     "start_time": "2024-01-22T01:02:14.833741Z"
    }
   },
   "outputs": [
    {
     "name": "stdout",
     "output_type": "stream",
     "text": [
      "Epoch 1/5\n",
      "219/219 [==============================] - 5s 24ms/step - loss: 1.0883 - accuracy: 0.9634 - precision: 0.8057 - recall: 0.4981 - val_loss: 1.1704 - val_accuracy: 0.9621 - val_precision: 0.7813 - val_recall: 0.4928\n",
      "Epoch 2/5\n",
      "219/219 [==============================] - 5s 24ms/step - loss: 1.0525 - accuracy: 0.9643 - precision: 0.8068 - recall: 0.5164 - val_loss: 1.1583 - val_accuracy: 0.9621 - val_precision: 0.7733 - val_recall: 0.5037\n",
      "Epoch 3/5\n",
      "219/219 [==============================] - 6s 27ms/step - loss: 1.0202 - accuracy: 0.9652 - precision: 0.8091 - recall: 0.5339 - val_loss: 1.1500 - val_accuracy: 0.9620 - val_precision: 0.7678 - val_recall: 0.5072\n",
      "Epoch 4/5\n",
      "219/219 [==============================] - 6s 26ms/step - loss: 0.9905 - accuracy: 0.9662 - precision: 0.8135 - recall: 0.5522 - val_loss: 1.1255 - val_accuracy: 0.9637 - val_precision: 0.7874 - val_recall: 0.5238\n",
      "Epoch 5/5\n",
      "219/219 [==============================] - 6s 26ms/step - loss: 0.9678 - accuracy: 0.9667 - precision: 0.8174 - recall: 0.5583 - val_loss: 1.1241 - val_accuracy: 0.9634 - val_precision: 0.7784 - val_recall: 0.5289\n"
     ]
    },
    {
     "data": {
      "text/plain": [
       "<keras.src.callbacks.History at 0x2e475388890>"
      ]
     },
     "execution_count": 82,
     "metadata": {},
     "output_type": "execute_result"
    }
   ],
   "source": [
    "cnn_model3.fit(X_train, \n",
    "              y_train1 , \n",
    "              batch_size = 32 , \n",
    "              epochs = 5 , \n",
    "              validation_split = (0.2) ,\n",
    "              #class_weight=class_weights ,\n",
    "              verbose =1)"
   ]
  },
  {
   "cell_type": "code",
   "execution_count": 83,
   "id": "00cd720a",
   "metadata": {
    "ExecuteTime": {
     "end_time": "2024-01-22T01:03:08.991994Z",
     "start_time": "2024-01-22T01:03:08.214061Z"
    }
   },
   "outputs": [
    {
     "name": "stdout",
     "output_type": "stream",
     "text": [
      "69/69 [==============================] - 1s 8ms/step\n"
     ]
    },
    {
     "data": {
      "text/plain": [
       "array([14,  1, 16, ..., 11,  9, 12], dtype=int64)"
      ]
     },
     "execution_count": 83,
     "metadata": {},
     "output_type": "execute_result"
    }
   ],
   "source": [
    "predictions = np.argmax(cnn_model3.predict(X_test), axis=-1)\n",
    "\n",
    "predictions"
   ]
  },
  {
   "cell_type": "code",
   "execution_count": 84,
   "id": "8cb6e570",
   "metadata": {
    "ExecuteTime": {
     "end_time": "2024-01-22T01:03:14.017651Z",
     "start_time": "2024-01-22T01:03:13.981222Z"
    }
   },
   "outputs": [
    {
     "name": "stdout",
     "output_type": "stream",
     "text": [
      "              precision    recall  f1-score   support\n",
      "\n",
      "           0       0.61      0.41      0.49        68\n",
      "           1       0.77      0.70      0.73       176\n",
      "           2       0.66      0.71      0.69        97\n",
      "           3       0.70      0.63      0.67        90\n",
      "           4       0.72      0.54      0.62        93\n",
      "           5       0.67      0.72      0.69       108\n",
      "           6       0.78      0.79      0.79       126\n",
      "           7       0.67      0.74      0.70       136\n",
      "           8       0.60      0.59      0.59       122\n",
      "           9       0.80      0.67      0.73       155\n",
      "          10       0.54      0.52      0.53        61\n",
      "          11       0.53      0.61      0.57       172\n",
      "          12       0.73      0.75      0.74       182\n",
      "          13       0.63      0.63      0.63       151\n",
      "          14       0.54      0.57      0.56       200\n",
      "          15       0.79      0.86      0.82       169\n",
      "          16       0.83      0.96      0.89        77\n",
      "\n",
      "    accuracy                           0.68      2183\n",
      "   macro avg       0.68      0.67      0.67      2183\n",
      "weighted avg       0.68      0.68      0.68      2183\n",
      "\n"
     ]
    }
   ],
   "source": [
    "print(classification_report(y_test.values , predictions))"
   ]
  },
  {
   "cell_type": "code",
   "execution_count": 85,
   "id": "64027a7a",
   "metadata": {
    "ExecuteTime": {
     "end_time": "2024-01-22T01:03:47.154422Z",
     "start_time": "2024-01-22T01:03:47.150052Z"
    }
   },
   "outputs": [],
   "source": [
    "# ok really slow progression , lets try another model (not cnn , and then try again with a smaller batch size)"
   ]
  },
  {
   "cell_type": "markdown",
   "id": "34ddfad4",
   "metadata": {},
   "source": [
    "# MODEL 4"
   ]
  },
  {
   "cell_type": "code",
   "execution_count": 92,
   "id": "3cdc0832",
   "metadata": {
    "ExecuteTime": {
     "end_time": "2024-01-22T01:06:01.387579Z",
     "start_time": "2024-01-22T01:06:01.263857Z"
    }
   },
   "outputs": [],
   "source": [
    "model4 = Sequential()\n",
    "model4.add(Dense(100,input_dim=in_dim,activation = \"leaky_relu\"))\n",
    "model4.add(Dense(180,activation = \"leaky_relu\"))\n",
    "model4.add(Dropout(0.2))\n",
    "model4.add(Dense(60,activation = \"leaky_relu\"))\n",
    "model4.add(Dense(17,activation = \"softmax\"))"
   ]
  },
  {
   "cell_type": "code",
   "execution_count": 88,
   "id": "c7eb8abf",
   "metadata": {
    "ExecuteTime": {
     "end_time": "2024-01-22T01:04:43.586771Z",
     "start_time": "2024-01-22T01:04:43.575768Z"
    }
   },
   "outputs": [],
   "source": [
    "opt = tf.keras.optimizers.AdamW(learning_rate =0.00005 , beta_1=0.9,\n",
    "    beta_2=0.999,\n",
    "    use_ema=True,\n",
    "    ema_momentum=0.99)"
   ]
  },
  {
   "cell_type": "code",
   "execution_count": 93,
   "id": "4977e182",
   "metadata": {
    "ExecuteTime": {
     "end_time": "2024-01-22T01:06:03.724143Z",
     "start_time": "2024-01-22T01:06:03.664167Z"
    }
   },
   "outputs": [],
   "source": [
    "model4.compile(optimizer=opt, \n",
    "          loss = 'categorical_crossentropy',\n",
    "          metrics=[tf.keras.metrics.BinaryAccuracy(name='accuracy'),\n",
    "                   tf.keras.metrics.Precision(name='precision') ,\n",
    "                   tf.keras.metrics.Recall(name='recall')])"
   ]
  },
  {
   "cell_type": "code",
   "execution_count": 94,
   "id": "170e71ba",
   "metadata": {
    "ExecuteTime": {
     "end_time": "2024-01-22T01:06:09.803133Z",
     "start_time": "2024-01-22T01:06:04.129156Z"
    }
   },
   "outputs": [
    {
     "name": "stdout",
     "output_type": "stream",
     "text": [
      "Epoch 1/5\n",
      "219/219 [==============================] - 3s 5ms/step - loss: 2.7835 - accuracy: 0.9412 - precision: 0.0000e+00 - recall: 0.0000e+00 - val_loss: 2.7348 - val_accuracy: 0.9412 - val_precision: 0.0000e+00 - val_recall: 0.0000e+00\n",
      "Epoch 2/5\n",
      "219/219 [==============================] - 1s 3ms/step - loss: 2.6825 - accuracy: 0.9412 - precision: 0.0000e+00 - recall: 0.0000e+00 - val_loss: 2.6122 - val_accuracy: 0.9412 - val_precision: 0.0000e+00 - val_recall: 0.0000e+00\n",
      "Epoch 3/5\n",
      "219/219 [==============================] - 1s 3ms/step - loss: 2.5413 - accuracy: 0.9412 - precision: 0.0000e+00 - recall: 0.0000e+00 - val_loss: 2.4405 - val_accuracy: 0.9412 - val_precision: 0.0000e+00 - val_recall: 0.0000e+00\n",
      "Epoch 4/5\n",
      "219/219 [==============================] - 1s 3ms/step - loss: 2.3594 - accuracy: 0.9413 - precision: 1.0000 - recall: 0.0017 - val_loss: 2.2420 - val_accuracy: 0.9417 - val_precision: 1.0000 - val_recall: 0.0086\n",
      "Epoch 5/5\n",
      "219/219 [==============================] - 1s 3ms/step - loss: 2.1780 - accuracy: 0.9423 - precision: 0.8869 - recall: 0.0213 - val_loss: 2.0632 - val_accuracy: 0.9438 - val_precision: 0.9140 - val_recall: 0.0487\n"
     ]
    },
    {
     "data": {
      "text/plain": [
       "<keras.src.callbacks.History at 0x2e47534b710>"
      ]
     },
     "execution_count": 94,
     "metadata": {},
     "output_type": "execute_result"
    }
   ],
   "source": [
    "model4.fit(X_train,y_train1 ,batch_size = 32 ,epochs = 5 ,validation_split = (0.2) ,verbose =1)"
   ]
  },
  {
   "cell_type": "code",
   "execution_count": 95,
   "id": "c292b7e3",
   "metadata": {
    "ExecuteTime": {
     "end_time": "2024-01-22T01:06:24.230069Z",
     "start_time": "2024-01-22T01:06:23.867085Z"
    }
   },
   "outputs": [
    {
     "name": "stdout",
     "output_type": "stream",
     "text": [
      "69/69 [==============================] - 0s 2ms/step\n"
     ]
    },
    {
     "data": {
      "text/plain": [
       "array([14,  1, 16, ..., 11, 14, 12], dtype=int64)"
      ]
     },
     "execution_count": 95,
     "metadata": {},
     "output_type": "execute_result"
    }
   ],
   "source": [
    "predictions = np.argmax(model4.predict(X_test), axis=-1)\n",
    "\n",
    "predictions"
   ]
  },
  {
   "cell_type": "code",
   "execution_count": 96,
   "id": "27707558",
   "metadata": {
    "ExecuteTime": {
     "end_time": "2024-01-22T01:06:31.977157Z",
     "start_time": "2024-01-22T01:06:31.937633Z"
    }
   },
   "outputs": [
    {
     "name": "stdout",
     "output_type": "stream",
     "text": [
      "              precision    recall  f1-score   support\n",
      "\n",
      "           0       0.00      0.00      0.00        68\n",
      "           1       0.46      0.82      0.59       176\n",
      "           2       1.00      0.01      0.02        97\n",
      "           3       0.84      0.23      0.37        90\n",
      "           4       0.00      0.00      0.00        93\n",
      "           5       0.00      0.00      0.00       108\n",
      "           6       0.00      0.00      0.00       126\n",
      "           7       0.41      0.35      0.37       136\n",
      "           8       0.32      0.12      0.18       122\n",
      "           9       0.79      0.30      0.43       155\n",
      "          10       0.00      0.00      0.00        61\n",
      "          11       0.31      0.44      0.36       172\n",
      "          12       0.51      0.67      0.58       182\n",
      "          13       0.50      0.15      0.23       151\n",
      "          14       0.17      0.61      0.27       200\n",
      "          15       0.55      0.91      0.68       169\n",
      "          16       0.70      0.88      0.78        77\n",
      "\n",
      "    accuracy                           0.38      2183\n",
      "   macro avg       0.39      0.32      0.29      2183\n",
      "weighted avg       0.40      0.38      0.33      2183\n",
      "\n"
     ]
    },
    {
     "name": "stderr",
     "output_type": "stream",
     "text": [
      "C:\\Users\\Desktop\\anaconda3\\Lib\\site-packages\\sklearn\\metrics\\_classification.py:1469: UndefinedMetricWarning: Precision and F-score are ill-defined and being set to 0.0 in labels with no predicted samples. Use `zero_division` parameter to control this behavior.\n",
      "  _warn_prf(average, modifier, msg_start, len(result))\n",
      "C:\\Users\\Desktop\\anaconda3\\Lib\\site-packages\\sklearn\\metrics\\_classification.py:1469: UndefinedMetricWarning: Precision and F-score are ill-defined and being set to 0.0 in labels with no predicted samples. Use `zero_division` parameter to control this behavior.\n",
      "  _warn_prf(average, modifier, msg_start, len(result))\n",
      "C:\\Users\\Desktop\\anaconda3\\Lib\\site-packages\\sklearn\\metrics\\_classification.py:1469: UndefinedMetricWarning: Precision and F-score are ill-defined and being set to 0.0 in labels with no predicted samples. Use `zero_division` parameter to control this behavior.\n",
      "  _warn_prf(average, modifier, msg_start, len(result))\n"
     ]
    }
   ],
   "source": [
    "print(classification_report(y_test.values , predictions))"
   ]
  },
  {
   "cell_type": "code",
   "execution_count": 97,
   "id": "e0187fcc",
   "metadata": {
    "ExecuteTime": {
     "end_time": "2024-01-22T01:06:44.396816Z",
     "start_time": "2024-01-22T01:06:44.388815Z"
    }
   },
   "outputs": [],
   "source": [
    "# I think it need some more training"
   ]
  },
  {
   "cell_type": "code",
   "execution_count": 98,
   "id": "1e8c597d",
   "metadata": {
    "ExecuteTime": {
     "end_time": "2024-01-22T01:07:41.319805Z",
     "start_time": "2024-01-22T01:07:37.403300Z"
    }
   },
   "outputs": [
    {
     "name": "stdout",
     "output_type": "stream",
     "text": [
      "Epoch 1/5\n",
      "219/219 [==============================] - 1s 4ms/step - loss: 2.0918 - accuracy: 0.9435 - precision: 0.9132 - recall: 0.0437 - val_loss: 1.9875 - val_accuracy: 0.9452 - val_precision: 0.8993 - val_recall: 0.0767\n",
      "Epoch 2/5\n",
      "219/219 [==============================] - 1s 3ms/step - loss: 1.9561 - accuracy: 0.9453 - precision: 0.8829 - recall: 0.0799 - val_loss: 1.8589 - val_accuracy: 0.9465 - val_precision: 0.8955 - val_recall: 0.1030\n",
      "Epoch 3/5\n",
      "219/219 [==============================] - 1s 3ms/step - loss: 1.8382 - accuracy: 0.9466 - precision: 0.8893 - recall: 0.1047 - val_loss: 1.7515 - val_accuracy: 0.9475 - val_precision: 0.8795 - val_recall: 0.1254\n",
      "Epoch 4/5\n",
      "219/219 [==============================] - 1s 3ms/step - loss: 1.7406 - accuracy: 0.9477 - precision: 0.8757 - recall: 0.1291 - val_loss: 1.6635 - val_accuracy: 0.9491 - val_precision: 0.8679 - val_recall: 0.1580\n",
      "Epoch 5/5\n",
      "219/219 [==============================] - 1s 3ms/step - loss: 1.6664 - accuracy: 0.9483 - precision: 0.8367 - recall: 0.1496 - val_loss: 1.5905 - val_accuracy: 0.9496 - val_precision: 0.8496 - val_recall: 0.1746\n"
     ]
    },
    {
     "data": {
      "text/plain": [
       "<keras.src.callbacks.History at 0x2e47582b110>"
      ]
     },
     "execution_count": 98,
     "metadata": {},
     "output_type": "execute_result"
    }
   ],
   "source": [
    "model4.fit(X_train,y_train1 ,batch_size = 32 ,epochs = 5 ,validation_split = (0.2) ,verbose =1)"
   ]
  },
  {
   "cell_type": "code",
   "execution_count": 99,
   "id": "ce726934",
   "metadata": {
    "ExecuteTime": {
     "end_time": "2024-01-22T01:07:48.428303Z",
     "start_time": "2024-01-22T01:07:48.163825Z"
    }
   },
   "outputs": [
    {
     "name": "stdout",
     "output_type": "stream",
     "text": [
      "69/69 [==============================] - 0s 2ms/step\n"
     ]
    },
    {
     "data": {
      "text/plain": [
       "array([14,  1, 16, ..., 11,  9, 12], dtype=int64)"
      ]
     },
     "execution_count": 99,
     "metadata": {},
     "output_type": "execute_result"
    }
   ],
   "source": [
    "predictions = np.argmax(model4.predict(X_test), axis=-1)\n",
    "\n",
    "predictions"
   ]
  },
  {
   "cell_type": "code",
   "execution_count": 100,
   "id": "6d71e584",
   "metadata": {
    "ExecuteTime": {
     "end_time": "2024-01-22T01:07:54.454717Z",
     "start_time": "2024-01-22T01:07:54.437093Z"
    }
   },
   "outputs": [
    {
     "name": "stdout",
     "output_type": "stream",
     "text": [
      "              precision    recall  f1-score   support\n",
      "\n",
      "           0       0.00      0.00      0.00        68\n",
      "           1       0.64      0.66      0.65       176\n",
      "           2       0.75      0.42      0.54        97\n",
      "           3       0.67      0.62      0.64        90\n",
      "           4       0.64      0.08      0.13        93\n",
      "           5       0.79      0.41      0.54       108\n",
      "           6       0.82      0.25      0.38       126\n",
      "           7       0.44      0.57      0.49       136\n",
      "           8       0.37      0.43      0.40       122\n",
      "           9       0.58      0.51      0.54       155\n",
      "          10       0.00      0.00      0.00        61\n",
      "          11       0.41      0.52      0.46       172\n",
      "          12       0.58      0.80      0.67       182\n",
      "          13       0.39      0.55      0.45       151\n",
      "          14       0.27      0.42      0.33       200\n",
      "          15       0.71      0.90      0.80       169\n",
      "          16       0.71      0.87      0.78        77\n",
      "\n",
      "    accuracy                           0.52      2183\n",
      "   macro avg       0.51      0.47      0.46      2183\n",
      "weighted avg       0.53      0.52      0.49      2183\n",
      "\n"
     ]
    },
    {
     "name": "stderr",
     "output_type": "stream",
     "text": [
      "C:\\Users\\Desktop\\anaconda3\\Lib\\site-packages\\sklearn\\metrics\\_classification.py:1469: UndefinedMetricWarning: Precision and F-score are ill-defined and being set to 0.0 in labels with no predicted samples. Use `zero_division` parameter to control this behavior.\n",
      "  _warn_prf(average, modifier, msg_start, len(result))\n",
      "C:\\Users\\Desktop\\anaconda3\\Lib\\site-packages\\sklearn\\metrics\\_classification.py:1469: UndefinedMetricWarning: Precision and F-score are ill-defined and being set to 0.0 in labels with no predicted samples. Use `zero_division` parameter to control this behavior.\n",
      "  _warn_prf(average, modifier, msg_start, len(result))\n",
      "C:\\Users\\Desktop\\anaconda3\\Lib\\site-packages\\sklearn\\metrics\\_classification.py:1469: UndefinedMetricWarning: Precision and F-score are ill-defined and being set to 0.0 in labels with no predicted samples. Use `zero_division` parameter to control this behavior.\n",
      "  _warn_prf(average, modifier, msg_start, len(result))\n"
     ]
    }
   ],
   "source": [
    "print(classification_report(y_test.values , predictions))"
   ]
  },
  {
   "cell_type": "code",
   "execution_count": 101,
   "id": "a4101613",
   "metadata": {
    "ExecuteTime": {
     "end_time": "2024-01-22T01:08:23.667472Z",
     "start_time": "2024-01-22T01:08:23.664409Z"
    }
   },
   "outputs": [],
   "source": [
    "# still needs training (sto background paizei to vrexei sthn ftwxogeitonia , ara vrexei kai sthn kardia mou)"
   ]
  },
  {
   "cell_type": "code",
   "execution_count": 102,
   "id": "416ede62",
   "metadata": {
    "ExecuteTime": {
     "end_time": "2024-01-22T01:08:33.940803Z",
     "start_time": "2024-01-22T01:08:30.520545Z"
    }
   },
   "outputs": [
    {
     "name": "stdout",
     "output_type": "stream",
     "text": [
      "Epoch 1/5\n",
      "219/219 [==============================] - 1s 3ms/step - loss: 1.6314 - accuracy: 0.9490 - precision: 0.8407 - recall: 0.1632 - val_loss: 1.5661 - val_accuracy: 0.9501 - val_precision: 0.8438 - val_recall: 0.1855\n",
      "Epoch 2/5\n",
      "219/219 [==============================] - 1s 3ms/step - loss: 1.5752 - accuracy: 0.9496 - precision: 0.8293 - recall: 0.1808 - val_loss: 1.5141 - val_accuracy: 0.9508 - val_precision: 0.8329 - val_recall: 0.2055\n",
      "Epoch 3/5\n",
      "219/219 [==============================] - 1s 3ms/step - loss: 1.5305 - accuracy: 0.9504 - precision: 0.8162 - recall: 0.2029 - val_loss: 1.4699 - val_accuracy: 0.9519 - val_precision: 0.8330 - val_recall: 0.2284\n",
      "Epoch 4/5\n",
      "219/219 [==============================] - 1s 3ms/step - loss: 1.4929 - accuracy: 0.9509 - precision: 0.8070 - recall: 0.2168 - val_loss: 1.4380 - val_accuracy: 0.9525 - val_precision: 0.8247 - val_recall: 0.2450\n",
      "Epoch 5/5\n",
      "219/219 [==============================] - 1s 3ms/step - loss: 1.4561 - accuracy: 0.9517 - precision: 0.8100 - recall: 0.2331 - val_loss: 1.4044 - val_accuracy: 0.9538 - val_precision: 0.8154 - val_recall: 0.2782\n"
     ]
    },
    {
     "data": {
      "text/plain": [
       "<keras.src.callbacks.History at 0x2e475817390>"
      ]
     },
     "execution_count": 102,
     "metadata": {},
     "output_type": "execute_result"
    }
   ],
   "source": [
    "model4.fit(X_train,y_train1 ,batch_size = 32 ,epochs = 5 ,validation_split = (0.2) ,verbose =1)"
   ]
  },
  {
   "cell_type": "code",
   "execution_count": 103,
   "id": "1eeafa69",
   "metadata": {
    "ExecuteTime": {
     "end_time": "2024-01-22T01:08:42.238622Z",
     "start_time": "2024-01-22T01:08:42.010198Z"
    }
   },
   "outputs": [
    {
     "name": "stdout",
     "output_type": "stream",
     "text": [
      "69/69 [==============================] - 0s 1ms/step\n"
     ]
    },
    {
     "data": {
      "text/plain": [
       "array([14,  1, 16, ..., 11,  9, 12], dtype=int64)"
      ]
     },
     "execution_count": 103,
     "metadata": {},
     "output_type": "execute_result"
    }
   ],
   "source": [
    "predictions = np.argmax(model4.predict(X_test), axis=-1)\n",
    "\n",
    "predictions"
   ]
  },
  {
   "cell_type": "code",
   "execution_count": 104,
   "id": "bb3d5885",
   "metadata": {
    "ExecuteTime": {
     "end_time": "2024-01-22T01:08:48.814456Z",
     "start_time": "2024-01-22T01:08:48.796721Z"
    }
   },
   "outputs": [
    {
     "name": "stdout",
     "output_type": "stream",
     "text": [
      "              precision    recall  f1-score   support\n",
      "\n",
      "           0       0.00      0.00      0.00        68\n",
      "           1       0.70      0.64      0.66       176\n",
      "           2       0.66      0.59      0.62        97\n",
      "           3       0.66      0.66      0.66        90\n",
      "           4       0.77      0.32      0.45        93\n",
      "           5       0.66      0.63      0.64       108\n",
      "           6       0.75      0.68      0.72       126\n",
      "           7       0.57      0.63      0.60       136\n",
      "           8       0.39      0.46      0.42       122\n",
      "           9       0.68      0.55      0.61       155\n",
      "          10       0.67      0.26      0.38        61\n",
      "          11       0.45      0.59      0.51       172\n",
      "          12       0.66      0.75      0.70       182\n",
      "          13       0.53      0.63      0.57       151\n",
      "          14       0.36      0.42      0.39       200\n",
      "          15       0.74      0.89      0.80       169\n",
      "          16       0.74      0.91      0.82        77\n",
      "\n",
      "    accuracy                           0.59      2183\n",
      "   macro avg       0.59      0.57      0.56      2183\n",
      "weighted avg       0.59      0.59      0.58      2183\n",
      "\n"
     ]
    },
    {
     "name": "stderr",
     "output_type": "stream",
     "text": [
      "C:\\Users\\Desktop\\anaconda3\\Lib\\site-packages\\sklearn\\metrics\\_classification.py:1469: UndefinedMetricWarning: Precision and F-score are ill-defined and being set to 0.0 in labels with no predicted samples. Use `zero_division` parameter to control this behavior.\n",
      "  _warn_prf(average, modifier, msg_start, len(result))\n",
      "C:\\Users\\Desktop\\anaconda3\\Lib\\site-packages\\sklearn\\metrics\\_classification.py:1469: UndefinedMetricWarning: Precision and F-score are ill-defined and being set to 0.0 in labels with no predicted samples. Use `zero_division` parameter to control this behavior.\n",
      "  _warn_prf(average, modifier, msg_start, len(result))\n",
      "C:\\Users\\Desktop\\anaconda3\\Lib\\site-packages\\sklearn\\metrics\\_classification.py:1469: UndefinedMetricWarning: Precision and F-score are ill-defined and being set to 0.0 in labels with no predicted samples. Use `zero_division` parameter to control this behavior.\n",
      "  _warn_prf(average, modifier, msg_start, len(result))\n"
     ]
    }
   ],
   "source": [
    "print(classification_report(y_test.values , predictions))"
   ]
  },
  {
   "cell_type": "code",
   "execution_count": 105,
   "id": "bea1ec66",
   "metadata": {
    "ExecuteTime": {
     "end_time": "2024-01-22T01:08:58.199254Z",
     "start_time": "2024-01-22T01:08:58.196154Z"
    }
   },
   "outputs": [],
   "source": [
    "# wow it is still bad"
   ]
  },
  {
   "cell_type": "code",
   "execution_count": 106,
   "id": "ae46c544",
   "metadata": {
    "ExecuteTime": {
     "end_time": "2024-01-22T01:09:07.109096Z",
     "start_time": "2024-01-22T01:09:03.764482Z"
    }
   },
   "outputs": [
    {
     "name": "stdout",
     "output_type": "stream",
     "text": [
      "Epoch 1/5\n",
      "219/219 [==============================] - 1s 3ms/step - loss: 1.4380 - accuracy: 0.9524 - precision: 0.8118 - recall: 0.2482 - val_loss: 1.3917 - val_accuracy: 0.9540 - val_precision: 0.8212 - val_recall: 0.2788\n",
      "Epoch 2/5\n",
      "219/219 [==============================] - 1s 3ms/step - loss: 1.4066 - accuracy: 0.9532 - precision: 0.8020 - recall: 0.2707 - val_loss: 1.3651 - val_accuracy: 0.9556 - val_precision: 0.8230 - val_recall: 0.3114\n",
      "Epoch 3/5\n",
      "219/219 [==============================] - 1s 3ms/step - loss: 1.3915 - accuracy: 0.9536 - precision: 0.7931 - recall: 0.2859 - val_loss: 1.3429 - val_accuracy: 0.9561 - val_precision: 0.8224 - val_recall: 0.3234\n",
      "Epoch 4/5\n",
      "219/219 [==============================] - 1s 3ms/step - loss: 1.3619 - accuracy: 0.9540 - precision: 0.7889 - recall: 0.2975 - val_loss: 1.3211 - val_accuracy: 0.9568 - val_precision: 0.8167 - val_recall: 0.3417\n",
      "Epoch 5/5\n",
      "219/219 [==============================] - 1s 3ms/step - loss: 1.3391 - accuracy: 0.9547 - precision: 0.7863 - recall: 0.3165 - val_loss: 1.3050 - val_accuracy: 0.9571 - val_precision: 0.8094 - val_recall: 0.3549\n"
     ]
    },
    {
     "data": {
      "text/plain": [
       "<keras.src.callbacks.History at 0x2e4759f66d0>"
      ]
     },
     "execution_count": 106,
     "metadata": {},
     "output_type": "execute_result"
    }
   ],
   "source": [
    "model4.fit(X_train,y_train1 ,batch_size = 32 ,epochs = 5 ,validation_split = (0.2) ,verbose =1)"
   ]
  },
  {
   "cell_type": "code",
   "execution_count": 107,
   "id": "8ccd0740",
   "metadata": {
    "ExecuteTime": {
     "end_time": "2024-01-22T01:09:18.047160Z",
     "start_time": "2024-01-22T01:09:17.789887Z"
    }
   },
   "outputs": [
    {
     "name": "stdout",
     "output_type": "stream",
     "text": [
      "69/69 [==============================] - 0s 2ms/step\n"
     ]
    },
    {
     "data": {
      "text/plain": [
       "array([14,  1, 16, ..., 11,  9, 12], dtype=int64)"
      ]
     },
     "execution_count": 107,
     "metadata": {},
     "output_type": "execute_result"
    }
   ],
   "source": [
    "predictions = np.argmax(model4.predict(X_test), axis=-1)\n",
    "\n",
    "predictions"
   ]
  },
  {
   "cell_type": "code",
   "execution_count": 108,
   "id": "dc72eed0",
   "metadata": {
    "ExecuteTime": {
     "end_time": "2024-01-22T01:09:23.752812Z",
     "start_time": "2024-01-22T01:09:23.733953Z"
    }
   },
   "outputs": [
    {
     "name": "stdout",
     "output_type": "stream",
     "text": [
      "              precision    recall  f1-score   support\n",
      "\n",
      "           0       0.00      0.00      0.00        68\n",
      "           1       0.71      0.66      0.69       176\n",
      "           2       0.65      0.66      0.66        97\n",
      "           3       0.64      0.63      0.64        90\n",
      "           4       0.74      0.40      0.52        93\n",
      "           5       0.64      0.64      0.64       108\n",
      "           6       0.70      0.74      0.72       126\n",
      "           7       0.63      0.66      0.65       136\n",
      "           8       0.40      0.46      0.43       122\n",
      "           9       0.72      0.58      0.64       155\n",
      "          10       0.66      0.38      0.48        61\n",
      "          11       0.47      0.59      0.52       172\n",
      "          12       0.68      0.74      0.71       182\n",
      "          13       0.55      0.60      0.58       151\n",
      "          14       0.41      0.47      0.44       200\n",
      "          15       0.74      0.88      0.81       169\n",
      "          16       0.81      0.92      0.86        77\n",
      "\n",
      "    accuracy                           0.61      2183\n",
      "   macro avg       0.60      0.59      0.59      2183\n",
      "weighted avg       0.60      0.61      0.60      2183\n",
      "\n"
     ]
    },
    {
     "name": "stderr",
     "output_type": "stream",
     "text": [
      "C:\\Users\\Desktop\\anaconda3\\Lib\\site-packages\\sklearn\\metrics\\_classification.py:1469: UndefinedMetricWarning: Precision and F-score are ill-defined and being set to 0.0 in labels with no predicted samples. Use `zero_division` parameter to control this behavior.\n",
      "  _warn_prf(average, modifier, msg_start, len(result))\n",
      "C:\\Users\\Desktop\\anaconda3\\Lib\\site-packages\\sklearn\\metrics\\_classification.py:1469: UndefinedMetricWarning: Precision and F-score are ill-defined and being set to 0.0 in labels with no predicted samples. Use `zero_division` parameter to control this behavior.\n",
      "  _warn_prf(average, modifier, msg_start, len(result))\n",
      "C:\\Users\\Desktop\\anaconda3\\Lib\\site-packages\\sklearn\\metrics\\_classification.py:1469: UndefinedMetricWarning: Precision and F-score are ill-defined and being set to 0.0 in labels with no predicted samples. Use `zero_division` parameter to control this behavior.\n",
      "  _warn_prf(average, modifier, msg_start, len(result))\n"
     ]
    }
   ],
   "source": [
    "print(classification_report(y_test.values , predictions))"
   ]
  },
  {
   "cell_type": "code",
   "execution_count": 109,
   "id": "a43251a5",
   "metadata": {
    "ExecuteTime": {
     "end_time": "2024-01-22T01:09:34.707546Z",
     "start_time": "2024-01-22T01:09:34.703627Z"
    }
   },
   "outputs": [],
   "source": [
    "# what more unpredictable"
   ]
  },
  {
   "cell_type": "code",
   "execution_count": 110,
   "id": "cf72b2cb",
   "metadata": {
    "ExecuteTime": {
     "end_time": "2024-01-22T01:09:45.154312Z",
     "start_time": "2024-01-22T01:09:41.808125Z"
    }
   },
   "outputs": [
    {
     "name": "stdout",
     "output_type": "stream",
     "text": [
      "Epoch 1/5\n",
      "219/219 [==============================] - 1s 3ms/step - loss: 1.3339 - accuracy: 0.9550 - precision: 0.7899 - recall: 0.3203 - val_loss: 1.2973 - val_accuracy: 0.9574 - val_precision: 0.8100 - val_recall: 0.3612\n",
      "Epoch 2/5\n",
      "219/219 [==============================] - 1s 3ms/step - loss: 1.3143 - accuracy: 0.9556 - precision: 0.7876 - recall: 0.3356 - val_loss: 1.2819 - val_accuracy: 0.9579 - val_precision: 0.8123 - val_recall: 0.3692\n",
      "Epoch 3/5\n",
      "219/219 [==============================] - 1s 3ms/step - loss: 1.3010 - accuracy: 0.9557 - precision: 0.7814 - recall: 0.3429 - val_loss: 1.2706 - val_accuracy: 0.9586 - val_precision: 0.8101 - val_recall: 0.3858\n",
      "Epoch 4/5\n",
      "219/219 [==============================] - 1s 3ms/step - loss: 1.2807 - accuracy: 0.9563 - precision: 0.7824 - recall: 0.3552 - val_loss: 1.2567 - val_accuracy: 0.9585 - val_precision: 0.8040 - val_recall: 0.3898\n",
      "Epoch 5/5\n",
      "219/219 [==============================] - 1s 3ms/step - loss: 1.2662 - accuracy: 0.9566 - precision: 0.7812 - recall: 0.3651 - val_loss: 1.2461 - val_accuracy: 0.9591 - val_precision: 0.8076 - val_recall: 0.3990\n"
     ]
    },
    {
     "data": {
      "text/plain": [
       "<keras.src.callbacks.History at 0x2e475afd8d0>"
      ]
     },
     "execution_count": 110,
     "metadata": {},
     "output_type": "execute_result"
    }
   ],
   "source": [
    "model4.fit(X_train,y_train1 ,batch_size = 32 ,epochs = 5 ,validation_split = (0.2) ,verbose =1)"
   ]
  },
  {
   "cell_type": "code",
   "execution_count": 111,
   "id": "ef0cb329",
   "metadata": {
    "ExecuteTime": {
     "end_time": "2024-01-22T01:09:57.439019Z",
     "start_time": "2024-01-22T01:09:57.211219Z"
    }
   },
   "outputs": [
    {
     "name": "stdout",
     "output_type": "stream",
     "text": [
      "69/69 [==============================] - 0s 2ms/step\n"
     ]
    },
    {
     "data": {
      "text/plain": [
       "array([14,  1, 16, ..., 11,  9, 12], dtype=int64)"
      ]
     },
     "execution_count": 111,
     "metadata": {},
     "output_type": "execute_result"
    }
   ],
   "source": [
    "predictions = np.argmax(model4.predict(X_test), axis=-1)\n",
    "\n",
    "predictions"
   ]
  },
  {
   "cell_type": "code",
   "execution_count": 112,
   "id": "c74392e8",
   "metadata": {
    "ExecuteTime": {
     "end_time": "2024-01-22T01:10:03.187225Z",
     "start_time": "2024-01-22T01:10:03.171504Z"
    }
   },
   "outputs": [
    {
     "name": "stdout",
     "output_type": "stream",
     "text": [
      "              precision    recall  f1-score   support\n",
      "\n",
      "           0       0.00      0.00      0.00        68\n",
      "           1       0.73      0.67      0.70       176\n",
      "           2       0.62      0.67      0.64        97\n",
      "           3       0.66      0.63      0.64        90\n",
      "           4       0.76      0.42      0.54        93\n",
      "           5       0.66      0.70      0.68       108\n",
      "           6       0.71      0.76      0.73       126\n",
      "           7       0.65      0.69      0.67       136\n",
      "           8       0.40      0.47      0.43       122\n",
      "           9       0.73      0.58      0.65       155\n",
      "          10       0.64      0.46      0.53        61\n",
      "          11       0.46      0.58      0.51       172\n",
      "          12       0.70      0.75      0.72       182\n",
      "          13       0.59      0.60      0.60       151\n",
      "          14       0.43      0.48      0.45       200\n",
      "          15       0.74      0.87      0.80       169\n",
      "          16       0.82      0.94      0.87        77\n",
      "\n",
      "    accuracy                           0.62      2183\n",
      "   macro avg       0.61      0.60      0.60      2183\n",
      "weighted avg       0.61      0.62      0.61      2183\n",
      "\n"
     ]
    },
    {
     "name": "stderr",
     "output_type": "stream",
     "text": [
      "C:\\Users\\Desktop\\anaconda3\\Lib\\site-packages\\sklearn\\metrics\\_classification.py:1469: UndefinedMetricWarning: Precision and F-score are ill-defined and being set to 0.0 in labels with no predicted samples. Use `zero_division` parameter to control this behavior.\n",
      "  _warn_prf(average, modifier, msg_start, len(result))\n",
      "C:\\Users\\Desktop\\anaconda3\\Lib\\site-packages\\sklearn\\metrics\\_classification.py:1469: UndefinedMetricWarning: Precision and F-score are ill-defined and being set to 0.0 in labels with no predicted samples. Use `zero_division` parameter to control this behavior.\n",
      "  _warn_prf(average, modifier, msg_start, len(result))\n",
      "C:\\Users\\Desktop\\anaconda3\\Lib\\site-packages\\sklearn\\metrics\\_classification.py:1469: UndefinedMetricWarning: Precision and F-score are ill-defined and being set to 0.0 in labels with no predicted samples. Use `zero_division` parameter to control this behavior.\n",
      "  _warn_prf(average, modifier, msg_start, len(result))\n"
     ]
    }
   ],
   "source": [
    "print(classification_report(y_test.values , predictions))"
   ]
  },
  {
   "cell_type": "code",
   "execution_count": 114,
   "id": "39e47be1",
   "metadata": {
    "ExecuteTime": {
     "end_time": "2024-01-22T01:10:27.081866Z",
     "start_time": "2024-01-22T01:10:27.077866Z"
    }
   },
   "outputs": [],
   "source": [
    "# ok lets run it 10 more times , to speed things up"
   ]
  },
  {
   "cell_type": "code",
   "execution_count": 115,
   "id": "b9a94d6d",
   "metadata": {
    "ExecuteTime": {
     "end_time": "2024-01-22T01:10:36.935167Z",
     "start_time": "2024-01-22T01:10:30.437943Z"
    }
   },
   "outputs": [
    {
     "name": "stdout",
     "output_type": "stream",
     "text": [
      "Epoch 1/10\n",
      "219/219 [==============================] - 1s 3ms/step - loss: 1.2641 - accuracy: 0.9570 - precision: 0.7830 - recall: 0.3725 - val_loss: 1.2393 - val_accuracy: 0.9592 - val_precision: 0.7991 - val_recall: 0.4098\n",
      "Epoch 2/10\n",
      "219/219 [==============================] - 1s 3ms/step - loss: 1.2483 - accuracy: 0.9574 - precision: 0.7788 - recall: 0.3847 - val_loss: 1.2310 - val_accuracy: 0.9597 - val_precision: 0.8040 - val_recall: 0.4156\n",
      "Epoch 3/10\n",
      "219/219 [==============================] - 1s 3ms/step - loss: 1.2393 - accuracy: 0.9575 - precision: 0.7775 - recall: 0.3897 - val_loss: 1.2219 - val_accuracy: 0.9603 - val_precision: 0.8098 - val_recall: 0.4242\n",
      "Epoch 4/10\n",
      "219/219 [==============================] - 1s 3ms/step - loss: 1.2291 - accuracy: 0.9583 - precision: 0.7847 - recall: 0.4001 - val_loss: 1.2103 - val_accuracy: 0.9604 - val_precision: 0.8038 - val_recall: 0.4316\n",
      "Epoch 5/10\n",
      "219/219 [==============================] - 1s 3ms/step - loss: 1.2260 - accuracy: 0.9581 - precision: 0.7760 - recall: 0.4042 - val_loss: 1.2054 - val_accuracy: 0.9602 - val_precision: 0.7983 - val_recall: 0.4327\n",
      "Epoch 6/10\n",
      "219/219 [==============================] - 1s 3ms/step - loss: 1.2148 - accuracy: 0.9584 - precision: 0.7806 - recall: 0.4076 - val_loss: 1.2018 - val_accuracy: 0.9608 - val_precision: 0.8023 - val_recall: 0.4436\n",
      "Epoch 7/10\n",
      "219/219 [==============================] - 1s 3ms/step - loss: 1.1958 - accuracy: 0.9589 - precision: 0.7766 - recall: 0.4225 - val_loss: 1.1934 - val_accuracy: 0.9608 - val_precision: 0.7978 - val_recall: 0.4471\n",
      "Epoch 8/10\n",
      "219/219 [==============================] - 1s 3ms/step - loss: 1.1920 - accuracy: 0.9592 - precision: 0.7842 - recall: 0.4239 - val_loss: 1.1847 - val_accuracy: 0.9611 - val_precision: 0.7992 - val_recall: 0.4533\n",
      "Epoch 9/10\n",
      "219/219 [==============================] - 1s 3ms/step - loss: 1.1859 - accuracy: 0.9594 - precision: 0.7777 - recall: 0.4342 - val_loss: 1.1790 - val_accuracy: 0.9613 - val_precision: 0.7976 - val_recall: 0.4579\n",
      "Epoch 10/10\n",
      "219/219 [==============================] - 1s 3ms/step - loss: 1.1753 - accuracy: 0.9596 - precision: 0.7795 - recall: 0.4366 - val_loss: 1.1703 - val_accuracy: 0.9615 - val_precision: 0.7965 - val_recall: 0.4637\n"
     ]
    },
    {
     "data": {
      "text/plain": [
       "<keras.src.callbacks.History at 0x2e4757f3710>"
      ]
     },
     "execution_count": 115,
     "metadata": {},
     "output_type": "execute_result"
    }
   ],
   "source": [
    "model4.fit(X_train,y_train1 ,batch_size = 32 ,epochs = 10 ,validation_split = (0.2) ,verbose =1)"
   ]
  },
  {
   "cell_type": "code",
   "execution_count": 116,
   "id": "d9b8439f",
   "metadata": {
    "ExecuteTime": {
     "end_time": "2024-01-22T01:10:43.732336Z",
     "start_time": "2024-01-22T01:10:43.479796Z"
    }
   },
   "outputs": [
    {
     "name": "stdout",
     "output_type": "stream",
     "text": [
      "69/69 [==============================] - 0s 2ms/step\n"
     ]
    },
    {
     "data": {
      "text/plain": [
       "array([14,  1, 16, ..., 11,  9, 12], dtype=int64)"
      ]
     },
     "execution_count": 116,
     "metadata": {},
     "output_type": "execute_result"
    }
   ],
   "source": [
    "predictions = np.argmax(model4.predict(X_test), axis=-1)\n",
    "\n",
    "predictions"
   ]
  },
  {
   "cell_type": "code",
   "execution_count": 117,
   "id": "fd1f9371",
   "metadata": {
    "ExecuteTime": {
     "end_time": "2024-01-22T01:10:49.352350Z",
     "start_time": "2024-01-22T01:10:49.335493Z"
    }
   },
   "outputs": [
    {
     "name": "stdout",
     "output_type": "stream",
     "text": [
      "              precision    recall  f1-score   support\n",
      "\n",
      "           0       0.33      0.01      0.03        68\n",
      "           1       0.73      0.69      0.71       176\n",
      "           2       0.59      0.68      0.63        97\n",
      "           3       0.70      0.63      0.66        90\n",
      "           4       0.78      0.48      0.60        93\n",
      "           5       0.66      0.69      0.68       108\n",
      "           6       0.74      0.78      0.76       126\n",
      "           7       0.67      0.74      0.70       136\n",
      "           8       0.42      0.49      0.45       122\n",
      "           9       0.78      0.61      0.68       155\n",
      "          10       0.60      0.48      0.53        61\n",
      "          11       0.49      0.56      0.52       172\n",
      "          12       0.71      0.75      0.73       182\n",
      "          13       0.58      0.61      0.59       151\n",
      "          14       0.45      0.49      0.47       200\n",
      "          15       0.74      0.86      0.80       169\n",
      "          16       0.81      0.94      0.87        77\n",
      "\n",
      "    accuracy                           0.64      2183\n",
      "   macro avg       0.63      0.62      0.61      2183\n",
      "weighted avg       0.63      0.64      0.63      2183\n",
      "\n"
     ]
    }
   ],
   "source": [
    "print(classification_report(y_test.values , predictions))"
   ]
  },
  {
   "cell_type": "code",
   "execution_count": 118,
   "id": "13261b8b",
   "metadata": {
    "ExecuteTime": {
     "end_time": "2024-01-22T01:11:00.677110Z",
     "start_time": "2024-01-22T01:11:00.673696Z"
    }
   },
   "outputs": [],
   "source": [
    "# i think 10 more are needed"
   ]
  },
  {
   "cell_type": "code",
   "execution_count": 119,
   "id": "5c978b4e",
   "metadata": {
    "ExecuteTime": {
     "end_time": "2024-01-22T01:11:13.963714Z",
     "start_time": "2024-01-22T01:11:06.930572Z"
    }
   },
   "outputs": [
    {
     "name": "stdout",
     "output_type": "stream",
     "text": [
      "Epoch 1/10\n",
      "219/219 [==============================] - 1s 4ms/step - loss: 1.1707 - accuracy: 0.9594 - precision: 0.7718 - recall: 0.4388 - val_loss: 1.1689 - val_accuracy: 0.9615 - val_precision: 0.7911 - val_recall: 0.4705\n",
      "Epoch 2/10\n",
      "219/219 [==============================] - 1s 3ms/step - loss: 1.1675 - accuracy: 0.9598 - precision: 0.7781 - recall: 0.4437 - val_loss: 1.1686 - val_accuracy: 0.9613 - val_precision: 0.7856 - val_recall: 0.4699\n",
      "Epoch 3/10\n",
      "219/219 [==============================] - 1s 3ms/step - loss: 1.1512 - accuracy: 0.9605 - precision: 0.7824 - recall: 0.4561 - val_loss: 1.1580 - val_accuracy: 0.9616 - val_precision: 0.7890 - val_recall: 0.4751\n",
      "Epoch 4/10\n",
      "219/219 [==============================] - 1s 3ms/step - loss: 1.1478 - accuracy: 0.9603 - precision: 0.7782 - recall: 0.4550 - val_loss: 1.1539 - val_accuracy: 0.9616 - val_precision: 0.7868 - val_recall: 0.4774\n",
      "Epoch 5/10\n",
      "219/219 [==============================] - 1s 3ms/step - loss: 1.1496 - accuracy: 0.9609 - precision: 0.7835 - recall: 0.4627 - val_loss: 1.1499 - val_accuracy: 0.9625 - val_precision: 0.7952 - val_recall: 0.4888\n",
      "Epoch 6/10\n",
      "219/219 [==============================] - 1s 3ms/step - loss: 1.1353 - accuracy: 0.9608 - precision: 0.7803 - recall: 0.4637 - val_loss: 1.1465 - val_accuracy: 0.9621 - val_precision: 0.7880 - val_recall: 0.4871\n",
      "Epoch 7/10\n",
      "219/219 [==============================] - 1s 3ms/step - loss: 1.1292 - accuracy: 0.9606 - precision: 0.7743 - recall: 0.4670 - val_loss: 1.1401 - val_accuracy: 0.9625 - val_precision: 0.7890 - val_recall: 0.4946\n",
      "Epoch 8/10\n",
      "219/219 [==============================] - 1s 3ms/step - loss: 1.1251 - accuracy: 0.9608 - precision: 0.7759 - recall: 0.4693 - val_loss: 1.1366 - val_accuracy: 0.9629 - val_precision: 0.7911 - val_recall: 0.5009\n",
      "Epoch 9/10\n",
      "219/219 [==============================] - 1s 3ms/step - loss: 1.1247 - accuracy: 0.9610 - precision: 0.7761 - recall: 0.4734 - val_loss: 1.1365 - val_accuracy: 0.9630 - val_precision: 0.7938 - val_recall: 0.5003\n",
      "Epoch 10/10\n",
      "219/219 [==============================] - 1s 3ms/step - loss: 1.1190 - accuracy: 0.9611 - precision: 0.7766 - recall: 0.4762 - val_loss: 1.1299 - val_accuracy: 0.9634 - val_precision: 0.7945 - val_recall: 0.5089\n"
     ]
    },
    {
     "data": {
      "text/plain": [
       "<keras.src.callbacks.History at 0x2e477c82a90>"
      ]
     },
     "execution_count": 119,
     "metadata": {},
     "output_type": "execute_result"
    }
   ],
   "source": [
    "model4.fit(X_train,y_train1 ,batch_size = 32 ,epochs = 10 ,validation_split = (0.2) ,verbose =1)"
   ]
  },
  {
   "cell_type": "code",
   "execution_count": 120,
   "id": "f14f24ea",
   "metadata": {
    "ExecuteTime": {
     "end_time": "2024-01-22T01:11:17.292341Z",
     "start_time": "2024-01-22T01:11:17.026783Z"
    }
   },
   "outputs": [
    {
     "name": "stdout",
     "output_type": "stream",
     "text": [
      "69/69 [==============================] - 0s 2ms/step\n"
     ]
    },
    {
     "data": {
      "text/plain": [
       "array([14,  1, 16, ..., 11,  9, 12], dtype=int64)"
      ]
     },
     "execution_count": 120,
     "metadata": {},
     "output_type": "execute_result"
    }
   ],
   "source": [
    "predictions = np.argmax(model4.predict(X_test), axis=-1)\n",
    "\n",
    "predictions"
   ]
  },
  {
   "cell_type": "code",
   "execution_count": 121,
   "id": "7abcb504",
   "metadata": {
    "ExecuteTime": {
     "end_time": "2024-01-22T01:11:28.668077Z",
     "start_time": "2024-01-22T01:11:28.651697Z"
    }
   },
   "outputs": [
    {
     "name": "stdout",
     "output_type": "stream",
     "text": [
      "              precision    recall  f1-score   support\n",
      "\n",
      "           0       0.64      0.13      0.22        68\n",
      "           1       0.76      0.70      0.73       176\n",
      "           2       0.59      0.72      0.65        97\n",
      "           3       0.68      0.64      0.66        90\n",
      "           4       0.77      0.51      0.61        93\n",
      "           5       0.68      0.71      0.69       108\n",
      "           6       0.76      0.79      0.78       126\n",
      "           7       0.67      0.74      0.71       136\n",
      "           8       0.48      0.52      0.50       122\n",
      "           9       0.75      0.61      0.68       155\n",
      "          10       0.57      0.52      0.55        61\n",
      "          11       0.51      0.57      0.54       172\n",
      "          12       0.75      0.75      0.75       182\n",
      "          13       0.59      0.62      0.61       151\n",
      "          14       0.48      0.51      0.49       200\n",
      "          15       0.73      0.85      0.79       169\n",
      "          16       0.81      0.96      0.88        77\n",
      "\n",
      "    accuracy                           0.65      2183\n",
      "   macro avg       0.66      0.64      0.64      2183\n",
      "weighted avg       0.66      0.65      0.65      2183\n",
      "\n"
     ]
    }
   ],
   "source": [
    "print(classification_report(y_test.values , predictions))"
   ]
  },
  {
   "cell_type": "code",
   "execution_count": 122,
   "id": "59a06bb9",
   "metadata": {
    "ExecuteTime": {
     "end_time": "2024-01-22T01:11:36.544109Z",
     "start_time": "2024-01-22T01:11:36.541270Z"
    }
   },
   "outputs": [],
   "source": [
    "# another 10 please !"
   ]
  },
  {
   "cell_type": "code",
   "execution_count": 123,
   "id": "e7c52b21",
   "metadata": {
    "ExecuteTime": {
     "end_time": "2024-01-22T01:11:50.797682Z",
     "start_time": "2024-01-22T01:11:43.151107Z"
    }
   },
   "outputs": [
    {
     "name": "stdout",
     "output_type": "stream",
     "text": [
      "Epoch 1/10\n",
      "219/219 [==============================] - 1s 4ms/step - loss: 1.1112 - accuracy: 0.9616 - precision: 0.7819 - recall: 0.4815 - val_loss: 1.1288 - val_accuracy: 0.9632 - val_precision: 0.7930 - val_recall: 0.5066\n",
      "Epoch 2/10\n",
      "219/219 [==============================] - 1s 3ms/step - loss: 1.1082 - accuracy: 0.9617 - precision: 0.7824 - recall: 0.4825 - val_loss: 1.1254 - val_accuracy: 0.9631 - val_precision: 0.7917 - val_recall: 0.5049\n",
      "Epoch 3/10\n",
      "219/219 [==============================] - 1s 3ms/step - loss: 1.0983 - accuracy: 0.9619 - precision: 0.7801 - recall: 0.4895 - val_loss: 1.1221 - val_accuracy: 0.9635 - val_precision: 0.7938 - val_recall: 0.5135\n",
      "Epoch 4/10\n",
      "219/219 [==============================] - 1s 3ms/step - loss: 1.1002 - accuracy: 0.9616 - precision: 0.7753 - recall: 0.4889 - val_loss: 1.1217 - val_accuracy: 0.9634 - val_precision: 0.7934 - val_recall: 0.5100\n",
      "Epoch 5/10\n",
      "219/219 [==============================] - 1s 3ms/step - loss: 1.0895 - accuracy: 0.9621 - precision: 0.7808 - recall: 0.4941 - val_loss: 1.1168 - val_accuracy: 0.9634 - val_precision: 0.7912 - val_recall: 0.5140\n",
      "Epoch 6/10\n",
      "219/219 [==============================] - 1s 3ms/step - loss: 1.0872 - accuracy: 0.9619 - precision: 0.7770 - recall: 0.4939 - val_loss: 1.1141 - val_accuracy: 0.9633 - val_precision: 0.7869 - val_recall: 0.5157\n",
      "Epoch 7/10\n",
      "219/219 [==============================] - 1s 3ms/step - loss: 1.0855 - accuracy: 0.9623 - precision: 0.7791 - recall: 0.5004 - val_loss: 1.1081 - val_accuracy: 0.9637 - val_precision: 0.7903 - val_recall: 0.5220\n",
      "Epoch 8/10\n",
      "219/219 [==============================] - 1s 3ms/step - loss: 1.0827 - accuracy: 0.9623 - precision: 0.7792 - recall: 0.5016 - val_loss: 1.1079 - val_accuracy: 0.9639 - val_precision: 0.7937 - val_recall: 0.5220\n",
      "Epoch 9/10\n",
      "219/219 [==============================] - 1s 3ms/step - loss: 1.0734 - accuracy: 0.9627 - precision: 0.7830 - recall: 0.5072 - val_loss: 1.1091 - val_accuracy: 0.9634 - val_precision: 0.7832 - val_recall: 0.5232\n",
      "Epoch 10/10\n",
      "219/219 [==============================] - 1s 3ms/step - loss: 1.0633 - accuracy: 0.9627 - precision: 0.7817 - recall: 0.5069 - val_loss: 1.1056 - val_accuracy: 0.9637 - val_precision: 0.7858 - val_recall: 0.5272\n"
     ]
    },
    {
     "data": {
      "text/plain": [
       "<keras.src.callbacks.History at 0x2e477d74c90>"
      ]
     },
     "execution_count": 123,
     "metadata": {},
     "output_type": "execute_result"
    }
   ],
   "source": [
    "model4.fit(X_train,y_train1 ,batch_size = 32 ,epochs = 10 ,validation_split = (0.2) ,verbose =1)"
   ]
  },
  {
   "cell_type": "code",
   "execution_count": 124,
   "id": "d7faa7e5",
   "metadata": {
    "ExecuteTime": {
     "end_time": "2024-01-22T01:11:58.053731Z",
     "start_time": "2024-01-22T01:11:57.695200Z"
    }
   },
   "outputs": [
    {
     "name": "stdout",
     "output_type": "stream",
     "text": [
      "69/69 [==============================] - 0s 2ms/step\n"
     ]
    },
    {
     "data": {
      "text/plain": [
       "array([14,  1, 16, ..., 11,  9, 12], dtype=int64)"
      ]
     },
     "execution_count": 124,
     "metadata": {},
     "output_type": "execute_result"
    }
   ],
   "source": [
    "predictions = np.argmax(model4.predict(X_test), axis=-1)\n",
    "\n",
    "predictions"
   ]
  },
  {
   "cell_type": "code",
   "execution_count": 125,
   "id": "40525254",
   "metadata": {
    "ExecuteTime": {
     "end_time": "2024-01-22T01:12:03.516507Z",
     "start_time": "2024-01-22T01:12:03.478502Z"
    }
   },
   "outputs": [
    {
     "name": "stdout",
     "output_type": "stream",
     "text": [
      "              precision    recall  f1-score   support\n",
      "\n",
      "           0       0.59      0.19      0.29        68\n",
      "           1       0.77      0.72      0.74       176\n",
      "           2       0.62      0.71      0.66        97\n",
      "           3       0.69      0.66      0.67        90\n",
      "           4       0.78      0.51      0.61        93\n",
      "           5       0.67      0.73      0.70       108\n",
      "           6       0.75      0.80      0.78       126\n",
      "           7       0.69      0.74      0.71       136\n",
      "           8       0.50      0.53      0.52       122\n",
      "           9       0.75      0.62      0.68       155\n",
      "          10       0.60      0.52      0.56        61\n",
      "          11       0.53      0.60      0.56       172\n",
      "          12       0.75      0.77      0.76       182\n",
      "          13       0.59      0.60      0.59       151\n",
      "          14       0.49      0.52      0.50       200\n",
      "          15       0.74      0.86      0.79       169\n",
      "          16       0.82      0.96      0.89        77\n",
      "\n",
      "    accuracy                           0.66      2183\n",
      "   macro avg       0.67      0.65      0.65      2183\n",
      "weighted avg       0.66      0.66      0.66      2183\n",
      "\n"
     ]
    }
   ],
   "source": [
    "print(classification_report(y_test.values , predictions))"
   ]
  },
  {
   "cell_type": "code",
   "execution_count": 126,
   "id": "31c18f23",
   "metadata": {
    "ExecuteTime": {
     "end_time": "2024-01-22T01:12:16.728988Z",
     "start_time": "2024-01-22T01:12:16.721748Z"
    }
   },
   "outputs": [],
   "source": [
    "# you guessed it 10 more times!"
   ]
  },
  {
   "cell_type": "code",
   "execution_count": 127,
   "id": "c8b23747",
   "metadata": {
    "ExecuteTime": {
     "end_time": "2024-01-22T01:12:30.654565Z",
     "start_time": "2024-01-22T01:12:22.873906Z"
    }
   },
   "outputs": [
    {
     "name": "stdout",
     "output_type": "stream",
     "text": [
      "Epoch 1/10\n",
      "219/219 [==============================] - 1s 4ms/step - loss: 1.0703 - accuracy: 0.9625 - precision: 0.7755 - recall: 0.5094 - val_loss: 1.1004 - val_accuracy: 0.9642 - val_precision: 0.7898 - val_recall: 0.5335\n",
      "Epoch 2/10\n",
      "219/219 [==============================] - 1s 3ms/step - loss: 1.0647 - accuracy: 0.9628 - precision: 0.7813 - recall: 0.5108 - val_loss: 1.1025 - val_accuracy: 0.9640 - val_precision: 0.7907 - val_recall: 0.5278\n",
      "Epoch 3/10\n",
      "219/219 [==============================] - 1s 3ms/step - loss: 1.0653 - accuracy: 0.9630 - precision: 0.7834 - recall: 0.5120 - val_loss: 1.1028 - val_accuracy: 0.9642 - val_precision: 0.7935 - val_recall: 0.5301\n",
      "Epoch 4/10\n",
      "219/219 [==============================] - 1s 3ms/step - loss: 1.0572 - accuracy: 0.9631 - precision: 0.7833 - recall: 0.5160 - val_loss: 1.0956 - val_accuracy: 0.9643 - val_precision: 0.7905 - val_recall: 0.5358\n",
      "Epoch 5/10\n",
      "219/219 [==============================] - 1s 3ms/step - loss: 1.0527 - accuracy: 0.9629 - precision: 0.7784 - recall: 0.5170 - val_loss: 1.0928 - val_accuracy: 0.9645 - val_precision: 0.7921 - val_recall: 0.5386\n",
      "Epoch 6/10\n",
      "219/219 [==============================] - 1s 4ms/step - loss: 1.0520 - accuracy: 0.9632 - precision: 0.7818 - recall: 0.5187 - val_loss: 1.0920 - val_accuracy: 0.9646 - val_precision: 0.7908 - val_recall: 0.5409\n",
      "Epoch 7/10\n",
      "219/219 [==============================] - 1s 3ms/step - loss: 1.0477 - accuracy: 0.9631 - precision: 0.7791 - recall: 0.5207 - val_loss: 1.0902 - val_accuracy: 0.9643 - val_precision: 0.7871 - val_recall: 0.5398\n",
      "Epoch 8/10\n",
      "219/219 [==============================] - 1s 3ms/step - loss: 1.0421 - accuracy: 0.9633 - precision: 0.7796 - recall: 0.5243 - val_loss: 1.0893 - val_accuracy: 0.9648 - val_precision: 0.7928 - val_recall: 0.5432\n",
      "Epoch 9/10\n",
      "219/219 [==============================] - 1s 3ms/step - loss: 1.0380 - accuracy: 0.9637 - precision: 0.7846 - recall: 0.5288 - val_loss: 1.0866 - val_accuracy: 0.9643 - val_precision: 0.7871 - val_recall: 0.5398\n",
      "Epoch 10/10\n",
      "219/219 [==============================] - 1s 4ms/step - loss: 1.0366 - accuracy: 0.9636 - precision: 0.7820 - recall: 0.5280 - val_loss: 1.0895 - val_accuracy: 0.9643 - val_precision: 0.7865 - val_recall: 0.5398\n"
     ]
    },
    {
     "data": {
      "text/plain": [
       "<keras.src.callbacks.History at 0x2e479e18890>"
      ]
     },
     "execution_count": 127,
     "metadata": {},
     "output_type": "execute_result"
    }
   ],
   "source": [
    "model4.fit(X_train,y_train1 ,batch_size = 32 ,epochs = 10 ,validation_split = (0.2) ,verbose =1)"
   ]
  },
  {
   "cell_type": "code",
   "execution_count": 128,
   "id": "d6fc443d",
   "metadata": {
    "ExecuteTime": {
     "end_time": "2024-01-22T01:12:34.850435Z",
     "start_time": "2024-01-22T01:12:34.530831Z"
    }
   },
   "outputs": [
    {
     "name": "stdout",
     "output_type": "stream",
     "text": [
      "69/69 [==============================] - 0s 2ms/step\n"
     ]
    },
    {
     "data": {
      "text/plain": [
       "array([14,  1, 16, ..., 11,  9, 12], dtype=int64)"
      ]
     },
     "execution_count": 128,
     "metadata": {},
     "output_type": "execute_result"
    }
   ],
   "source": [
    "predictions = np.argmax(model4.predict(X_test), axis=-1)\n",
    "\n",
    "predictions"
   ]
  },
  {
   "cell_type": "code",
   "execution_count": 129,
   "id": "4e3aa2ae",
   "metadata": {
    "ExecuteTime": {
     "end_time": "2024-01-22T01:12:42.658337Z",
     "start_time": "2024-01-22T01:12:42.620804Z"
    }
   },
   "outputs": [
    {
     "name": "stdout",
     "output_type": "stream",
     "text": [
      "              precision    recall  f1-score   support\n",
      "\n",
      "           0       0.60      0.26      0.37        68\n",
      "           1       0.78      0.72      0.75       176\n",
      "           2       0.61      0.74      0.67        97\n",
      "           3       0.73      0.67      0.70        90\n",
      "           4       0.76      0.52      0.62        93\n",
      "           5       0.68      0.72      0.70       108\n",
      "           6       0.78      0.80      0.79       126\n",
      "           7       0.70      0.76      0.73       136\n",
      "           8       0.51      0.52      0.51       122\n",
      "           9       0.76      0.64      0.69       155\n",
      "          10       0.59      0.54      0.56        61\n",
      "          11       0.55      0.62      0.58       172\n",
      "          12       0.76      0.78      0.77       182\n",
      "          13       0.61      0.62      0.61       151\n",
      "          14       0.51      0.53      0.52       200\n",
      "          15       0.74      0.86      0.80       169\n",
      "          16       0.82      0.96      0.89        77\n",
      "\n",
      "    accuracy                           0.67      2183\n",
      "   macro avg       0.68      0.66      0.66      2183\n",
      "weighted avg       0.67      0.67      0.67      2183\n",
      "\n"
     ]
    }
   ],
   "source": [
    "print(classification_report(y_test.values , predictions))"
   ]
  },
  {
   "cell_type": "code",
   "execution_count": 130,
   "id": "dec6bfff",
   "metadata": {
    "ExecuteTime": {
     "end_time": "2024-01-22T01:12:52.213617Z",
     "start_time": "2024-01-22T01:12:52.206799Z"
    }
   },
   "outputs": [],
   "source": [
    "# I mean you get it by  now"
   ]
  },
  {
   "cell_type": "code",
   "execution_count": 131,
   "id": "e802d801",
   "metadata": {
    "ExecuteTime": {
     "end_time": "2024-01-22T01:13:06.579640Z",
     "start_time": "2024-01-22T01:12:59.062641Z"
    }
   },
   "outputs": [
    {
     "name": "stdout",
     "output_type": "stream",
     "text": [
      "Epoch 1/10\n",
      "219/219 [==============================] - 1s 4ms/step - loss: 1.0333 - accuracy: 0.9636 - precision: 0.7818 - recall: 0.5288 - val_loss: 1.0841 - val_accuracy: 0.9638 - val_precision: 0.7788 - val_recall: 0.5381\n",
      "Epoch 2/10\n",
      "219/219 [==============================] - 1s 3ms/step - loss: 1.0306 - accuracy: 0.9635 - precision: 0.7801 - recall: 0.5283 - val_loss: 1.0850 - val_accuracy: 0.9645 - val_precision: 0.7857 - val_recall: 0.5455\n",
      "Epoch 3/10\n",
      "219/219 [==============================] - 1s 3ms/step - loss: 1.0288 - accuracy: 0.9640 - precision: 0.7861 - recall: 0.5336 - val_loss: 1.0814 - val_accuracy: 0.9644 - val_precision: 0.7853 - val_recall: 0.5444\n",
      "Epoch 4/10\n",
      "219/219 [==============================] - 1s 3ms/step - loss: 1.0249 - accuracy: 0.9641 - precision: 0.7839 - recall: 0.5374 - val_loss: 1.0855 - val_accuracy: 0.9647 - val_precision: 0.7891 - val_recall: 0.5461\n",
      "Epoch 5/10\n",
      "219/219 [==============================] - 1s 3ms/step - loss: 1.0196 - accuracy: 0.9642 - precision: 0.7860 - recall: 0.5370 - val_loss: 1.0772 - val_accuracy: 0.9645 - val_precision: 0.7842 - val_recall: 0.5472\n",
      "Epoch 6/10\n",
      "219/219 [==============================] - 1s 3ms/step - loss: 1.0217 - accuracy: 0.9641 - precision: 0.7837 - recall: 0.5384 - val_loss: 1.0799 - val_accuracy: 0.9646 - val_precision: 0.7852 - val_recall: 0.5484\n",
      "Epoch 7/10\n",
      "219/219 [==============================] - 1s 3ms/step - loss: 1.0141 - accuracy: 0.9642 - precision: 0.7856 - recall: 0.5382 - val_loss: 1.0773 - val_accuracy: 0.9646 - val_precision: 0.7832 - val_recall: 0.5501\n",
      "Epoch 8/10\n",
      "219/219 [==============================] - 1s 4ms/step - loss: 1.0136 - accuracy: 0.9642 - precision: 0.7861 - recall: 0.5373 - val_loss: 1.0775 - val_accuracy: 0.9648 - val_precision: 0.7888 - val_recall: 0.5495\n",
      "Epoch 9/10\n",
      "219/219 [==============================] - 1s 3ms/step - loss: 1.0129 - accuracy: 0.9645 - precision: 0.7876 - recall: 0.5436 - val_loss: 1.0719 - val_accuracy: 0.9644 - val_precision: 0.7814 - val_recall: 0.5484\n",
      "Epoch 10/10\n",
      "219/219 [==============================] - 1s 3ms/step - loss: 1.0101 - accuracy: 0.9641 - precision: 0.7816 - recall: 0.5406 - val_loss: 1.0742 - val_accuracy: 0.9647 - val_precision: 0.7824 - val_recall: 0.5535\n"
     ]
    },
    {
     "data": {
      "text/plain": [
       "<keras.src.callbacks.History at 0x2e478056510>"
      ]
     },
     "execution_count": 131,
     "metadata": {},
     "output_type": "execute_result"
    }
   ],
   "source": [
    "model4.fit(X_train,y_train1 ,batch_size = 32 ,epochs = 10 ,validation_split = (0.2) ,verbose =1)"
   ]
  },
  {
   "cell_type": "code",
   "execution_count": 132,
   "id": "cc85e921",
   "metadata": {
    "ExecuteTime": {
     "end_time": "2024-01-22T01:13:28.296265Z",
     "start_time": "2024-01-22T01:13:28.290264Z"
    }
   },
   "outputs": [],
   "source": [
    "# as you see from our val_acc we still need a lot of training "
   ]
  },
  {
   "cell_type": "code",
   "execution_count": 133,
   "id": "022163b5",
   "metadata": {
    "ExecuteTime": {
     "end_time": "2024-01-22T01:13:33.986214Z",
     "start_time": "2024-01-22T01:13:33.666667Z"
    }
   },
   "outputs": [
    {
     "name": "stdout",
     "output_type": "stream",
     "text": [
      "69/69 [==============================] - 0s 2ms/step\n"
     ]
    },
    {
     "data": {
      "text/plain": [
       "array([14,  1, 16, ..., 11,  9, 12], dtype=int64)"
      ]
     },
     "execution_count": 133,
     "metadata": {},
     "output_type": "execute_result"
    }
   ],
   "source": [
    "predictions = np.argmax(model4.predict(X_test), axis=-1)\n",
    "\n",
    "predictions"
   ]
  },
  {
   "cell_type": "code",
   "execution_count": 134,
   "id": "34fe909f",
   "metadata": {
    "ExecuteTime": {
     "end_time": "2024-01-22T01:13:39.183993Z",
     "start_time": "2024-01-22T01:13:39.147106Z"
    }
   },
   "outputs": [
    {
     "name": "stdout",
     "output_type": "stream",
     "text": [
      "              precision    recall  f1-score   support\n",
      "\n",
      "           0       0.57      0.31      0.40        68\n",
      "           1       0.77      0.74      0.76       176\n",
      "           2       0.61      0.74      0.67        97\n",
      "           3       0.73      0.68      0.70        90\n",
      "           4       0.74      0.55      0.63        93\n",
      "           5       0.68      0.73      0.70       108\n",
      "           6       0.76      0.80      0.78       126\n",
      "           7       0.70      0.77      0.73       136\n",
      "           8       0.54      0.51      0.53       122\n",
      "           9       0.77      0.65      0.70       155\n",
      "          10       0.60      0.59      0.60        61\n",
      "          11       0.56      0.62      0.59       172\n",
      "          12       0.77      0.77      0.77       182\n",
      "          13       0.61      0.61      0.61       151\n",
      "          14       0.52      0.52      0.52       200\n",
      "          15       0.77      0.88      0.82       169\n",
      "          16       0.83      0.96      0.89        77\n",
      "\n",
      "    accuracy                           0.68      2183\n",
      "   macro avg       0.68      0.67      0.67      2183\n",
      "weighted avg       0.68      0.68      0.68      2183\n",
      "\n"
     ]
    }
   ],
   "source": [
    "print(classification_report(y_test.values , predictions))"
   ]
  },
  {
   "cell_type": "code",
   "execution_count": 135,
   "id": "10b2a1d8",
   "metadata": {
    "ExecuteTime": {
     "end_time": "2024-01-22T01:13:48.951291Z",
     "start_time": "2024-01-22T01:13:48.946713Z"
    }
   },
   "outputs": [],
   "source": [
    "# lets make it 20"
   ]
  },
  {
   "cell_type": "code",
   "execution_count": 136,
   "id": "e724dfa7",
   "metadata": {
    "ExecuteTime": {
     "end_time": "2024-01-22T01:14:12.898111Z",
     "start_time": "2024-01-22T01:13:58.046470Z"
    }
   },
   "outputs": [
    {
     "name": "stdout",
     "output_type": "stream",
     "text": [
      "Epoch 1/20\n",
      "219/219 [==============================] - 1s 4ms/step - loss: 1.0137 - accuracy: 0.9643 - precision: 0.7859 - recall: 0.5407 - val_loss: 1.0675 - val_accuracy: 0.9649 - val_precision: 0.7870 - val_recall: 0.5541\n",
      "Epoch 2/20\n",
      "219/219 [==============================] - 1s 3ms/step - loss: 1.0030 - accuracy: 0.9650 - precision: 0.7922 - recall: 0.5485 - val_loss: 1.0698 - val_accuracy: 0.9644 - val_precision: 0.7789 - val_recall: 0.5524\n",
      "Epoch 3/20\n",
      "219/219 [==============================] - 1s 3ms/step - loss: 1.0002 - accuracy: 0.9646 - precision: 0.7861 - recall: 0.5460 - val_loss: 1.0684 - val_accuracy: 0.9646 - val_precision: 0.7805 - val_recall: 0.5535\n",
      "Epoch 4/20\n",
      "219/219 [==============================] - 1s 3ms/step - loss: 1.0077 - accuracy: 0.9645 - precision: 0.7844 - recall: 0.5469 - val_loss: 1.0719 - val_accuracy: 0.9643 - val_precision: 0.7793 - val_recall: 0.5478\n",
      "Epoch 5/20\n",
      "219/219 [==============================] - 1s 3ms/step - loss: 0.9907 - accuracy: 0.9646 - precision: 0.7843 - recall: 0.5490 - val_loss: 1.0669 - val_accuracy: 0.9644 - val_precision: 0.7793 - val_recall: 0.5518\n",
      "Epoch 6/20\n",
      "219/219 [==============================] - 1s 3ms/step - loss: 0.9915 - accuracy: 0.9654 - precision: 0.7931 - recall: 0.5560 - val_loss: 1.0686 - val_accuracy: 0.9648 - val_precision: 0.7846 - val_recall: 0.5547\n",
      "Epoch 7/20\n",
      "219/219 [==============================] - 1s 3ms/step - loss: 0.9880 - accuracy: 0.9649 - precision: 0.7851 - recall: 0.5550 - val_loss: 1.0637 - val_accuracy: 0.9649 - val_precision: 0.7825 - val_recall: 0.5581\n",
      "Epoch 8/20\n",
      "219/219 [==============================] - 1s 3ms/step - loss: 0.9912 - accuracy: 0.9648 - precision: 0.7857 - recall: 0.5518 - val_loss: 1.0652 - val_accuracy: 0.9650 - val_precision: 0.7812 - val_recall: 0.5621\n",
      "Epoch 9/20\n",
      "219/219 [==============================] - 1s 3ms/step - loss: 0.9852 - accuracy: 0.9652 - precision: 0.7893 - recall: 0.5582 - val_loss: 1.0638 - val_accuracy: 0.9641 - val_precision: 0.7733 - val_recall: 0.5507\n",
      "Epoch 10/20\n",
      "219/219 [==============================] - 1s 4ms/step - loss: 0.9843 - accuracy: 0.9654 - precision: 0.7896 - recall: 0.5615 - val_loss: 1.0615 - val_accuracy: 0.9649 - val_precision: 0.7809 - val_recall: 0.5610\n",
      "Epoch 11/20\n",
      "219/219 [==============================] - 1s 3ms/step - loss: 0.9835 - accuracy: 0.9650 - precision: 0.7877 - recall: 0.5550 - val_loss: 1.0596 - val_accuracy: 0.9648 - val_precision: 0.7806 - val_recall: 0.5581\n",
      "Epoch 12/20\n",
      "219/219 [==============================] - 1s 3ms/step - loss: 0.9774 - accuracy: 0.9653 - precision: 0.7885 - recall: 0.5595 - val_loss: 1.0570 - val_accuracy: 0.9653 - val_precision: 0.7844 - val_recall: 0.5644\n",
      "Epoch 13/20\n",
      "219/219 [==============================] - 1s 3ms/step - loss: 0.9758 - accuracy: 0.9657 - precision: 0.7940 - recall: 0.5622 - val_loss: 1.0618 - val_accuracy: 0.9650 - val_precision: 0.7802 - val_recall: 0.5650\n",
      "Epoch 14/20\n",
      "219/219 [==============================] - 1s 3ms/step - loss: 0.9776 - accuracy: 0.9654 - precision: 0.7892 - recall: 0.5622 - val_loss: 1.0551 - val_accuracy: 0.9649 - val_precision: 0.7809 - val_recall: 0.5610\n",
      "Epoch 15/20\n",
      "219/219 [==============================] - 1s 3ms/step - loss: 0.9765 - accuracy: 0.9652 - precision: 0.7864 - recall: 0.5609 - val_loss: 1.0570 - val_accuracy: 0.9650 - val_precision: 0.7810 - val_recall: 0.5633\n",
      "Epoch 16/20\n",
      "219/219 [==============================] - 1s 3ms/step - loss: 0.9727 - accuracy: 0.9656 - precision: 0.7924 - recall: 0.5618 - val_loss: 1.0548 - val_accuracy: 0.9650 - val_precision: 0.7808 - val_recall: 0.5627\n",
      "Epoch 17/20\n",
      "219/219 [==============================] - 1s 3ms/step - loss: 0.9705 - accuracy: 0.9656 - precision: 0.7898 - recall: 0.5652 - val_loss: 1.0566 - val_accuracy: 0.9651 - val_precision: 0.7824 - val_recall: 0.5638\n",
      "Epoch 18/20\n",
      "219/219 [==============================] - 1s 3ms/step - loss: 0.9726 - accuracy: 0.9657 - precision: 0.7905 - recall: 0.5676 - val_loss: 1.0531 - val_accuracy: 0.9649 - val_precision: 0.7797 - val_recall: 0.5633\n",
      "Epoch 19/20\n",
      "219/219 [==============================] - 1s 3ms/step - loss: 0.9667 - accuracy: 0.9656 - precision: 0.7904 - recall: 0.5656 - val_loss: 1.0536 - val_accuracy: 0.9649 - val_precision: 0.7763 - val_recall: 0.5661\n",
      "Epoch 20/20\n",
      "219/219 [==============================] - 1s 3ms/step - loss: 0.9665 - accuracy: 0.9658 - precision: 0.7910 - recall: 0.5684 - val_loss: 1.0512 - val_accuracy: 0.9649 - val_precision: 0.7788 - val_recall: 0.5644\n"
     ]
    },
    {
     "data": {
      "text/plain": [
       "<keras.src.callbacks.History at 0x2e477c46690>"
      ]
     },
     "execution_count": 136,
     "metadata": {},
     "output_type": "execute_result"
    }
   ],
   "source": [
    "model4.fit(X_train,y_train1 ,batch_size = 32 ,epochs = 20 ,validation_split = (0.2) ,verbose =1)"
   ]
  },
  {
   "cell_type": "code",
   "execution_count": 137,
   "id": "825f53ca",
   "metadata": {
    "ExecuteTime": {
     "end_time": "2024-01-22T01:14:38.326595Z",
     "start_time": "2024-01-22T01:14:37.978567Z"
    }
   },
   "outputs": [
    {
     "name": "stdout",
     "output_type": "stream",
     "text": [
      "69/69 [==============================] - 0s 2ms/step\n"
     ]
    },
    {
     "data": {
      "text/plain": [
       "array([14,  1, 16, ..., 11,  9, 12], dtype=int64)"
      ]
     },
     "execution_count": 137,
     "metadata": {},
     "output_type": "execute_result"
    }
   ],
   "source": [
    "predictions = np.argmax(model4.predict(X_test), axis=-1)\n",
    "\n",
    "predictions"
   ]
  },
  {
   "cell_type": "code",
   "execution_count": 138,
   "id": "9745757e",
   "metadata": {
    "ExecuteTime": {
     "end_time": "2024-01-22T01:14:46.382302Z",
     "start_time": "2024-01-22T01:14:46.339373Z"
    }
   },
   "outputs": [
    {
     "name": "stdout",
     "output_type": "stream",
     "text": [
      "              precision    recall  f1-score   support\n",
      "\n",
      "           0       0.53      0.38      0.44        68\n",
      "           1       0.78      0.74      0.76       176\n",
      "           2       0.63      0.75      0.69        97\n",
      "           3       0.71      0.67      0.69        90\n",
      "           4       0.76      0.54      0.63        93\n",
      "           5       0.66      0.74      0.70       108\n",
      "           6       0.80      0.81      0.80       126\n",
      "           7       0.69      0.76      0.72       136\n",
      "           8       0.59      0.49      0.54       122\n",
      "           9       0.78      0.65      0.71       155\n",
      "          10       0.63      0.61      0.62        61\n",
      "          11       0.59      0.65      0.62       172\n",
      "          12       0.76      0.79      0.77       182\n",
      "          13       0.62      0.60      0.61       151\n",
      "          14       0.54      0.55      0.54       200\n",
      "          15       0.77      0.88      0.82       169\n",
      "          16       0.82      0.96      0.89        77\n",
      "\n",
      "    accuracy                           0.69      2183\n",
      "   macro avg       0.69      0.68      0.68      2183\n",
      "weighted avg       0.69      0.69      0.68      2183\n",
      "\n"
     ]
    }
   ],
   "source": [
    "print(classification_report(y_test.values , predictions))"
   ]
  },
  {
   "cell_type": "code",
   "execution_count": 139,
   "id": "d5606cf6",
   "metadata": {
    "ExecuteTime": {
     "end_time": "2024-01-22T01:14:57.339726Z",
     "start_time": "2024-01-22T01:14:57.333092Z"
    }
   },
   "outputs": [],
   "source": [
    "# oaky i can sense something good here"
   ]
  },
  {
   "cell_type": "code",
   "execution_count": 140,
   "id": "796a8c51",
   "metadata": {
    "ExecuteTime": {
     "end_time": "2024-01-22T01:15:19.217865Z",
     "start_time": "2024-01-22T01:15:04.364167Z"
    }
   },
   "outputs": [
    {
     "name": "stdout",
     "output_type": "stream",
     "text": [
      "Epoch 1/20\n",
      "219/219 [==============================] - 1s 4ms/step - loss: 0.9691 - accuracy: 0.9656 - precision: 0.7911 - recall: 0.5644 - val_loss: 1.0514 - val_accuracy: 0.9652 - val_precision: 0.7807 - val_recall: 0.5684\n",
      "Epoch 2/20\n",
      "219/219 [==============================] - 1s 3ms/step - loss: 0.9587 - accuracy: 0.9659 - precision: 0.7929 - recall: 0.5688 - val_loss: 1.0505 - val_accuracy: 0.9650 - val_precision: 0.7805 - val_recall: 0.5638\n",
      "Epoch 3/20\n",
      "219/219 [==============================] - 1s 3ms/step - loss: 0.9558 - accuracy: 0.9666 - precision: 0.7979 - recall: 0.5788 - val_loss: 1.0492 - val_accuracy: 0.9653 - val_precision: 0.7806 - val_recall: 0.5701\n",
      "Epoch 4/20\n",
      "219/219 [==============================] - 1s 3ms/step - loss: 0.9592 - accuracy: 0.9663 - precision: 0.7934 - recall: 0.5768 - val_loss: 1.0521 - val_accuracy: 0.9649 - val_precision: 0.7756 - val_recall: 0.5678\n",
      "Epoch 5/20\n",
      "219/219 [==============================] - 1s 3ms/step - loss: 0.9523 - accuracy: 0.9662 - precision: 0.7928 - recall: 0.5752 - val_loss: 1.0464 - val_accuracy: 0.9651 - val_precision: 0.7797 - val_recall: 0.5673\n",
      "Epoch 6/20\n",
      "219/219 [==============================] - 1s 3ms/step - loss: 0.9548 - accuracy: 0.9661 - precision: 0.7916 - recall: 0.5754 - val_loss: 1.0473 - val_accuracy: 0.9649 - val_precision: 0.7771 - val_recall: 0.5667\n",
      "Epoch 7/20\n",
      "219/219 [==============================] - 1s 3ms/step - loss: 0.9508 - accuracy: 0.9663 - precision: 0.7970 - recall: 0.5739 - val_loss: 1.0443 - val_accuracy: 0.9650 - val_precision: 0.7802 - val_recall: 0.5650\n",
      "Epoch 8/20\n",
      "219/219 [==============================] - 1s 3ms/step - loss: 0.9435 - accuracy: 0.9663 - precision: 0.7920 - recall: 0.5795 - val_loss: 1.0456 - val_accuracy: 0.9650 - val_precision: 0.7789 - val_recall: 0.5667\n",
      "Epoch 9/20\n",
      "219/219 [==============================] - 1s 3ms/step - loss: 0.9425 - accuracy: 0.9661 - precision: 0.7915 - recall: 0.5755 - val_loss: 1.0462 - val_accuracy: 0.9654 - val_precision: 0.7817 - val_recall: 0.5718\n",
      "Epoch 10/20\n",
      "219/219 [==============================] - 1s 3ms/step - loss: 0.9439 - accuracy: 0.9668 - precision: 0.7972 - recall: 0.5831 - val_loss: 1.0417 - val_accuracy: 0.9654 - val_precision: 0.7800 - val_recall: 0.5724\n",
      "Epoch 11/20\n",
      "219/219 [==============================] - 1s 3ms/step - loss: 0.9410 - accuracy: 0.9666 - precision: 0.7939 - recall: 0.5835 - val_loss: 1.0465 - val_accuracy: 0.9655 - val_precision: 0.7813 - val_recall: 0.5747\n",
      "Epoch 12/20\n",
      "219/219 [==============================] - 1s 3ms/step - loss: 0.9413 - accuracy: 0.9664 - precision: 0.7946 - recall: 0.5792 - val_loss: 1.0429 - val_accuracy: 0.9656 - val_precision: 0.7824 - val_recall: 0.5741\n",
      "Epoch 13/20\n",
      "219/219 [==============================] - 1s 3ms/step - loss: 0.9381 - accuracy: 0.9667 - precision: 0.7971 - recall: 0.5821 - val_loss: 1.0397 - val_accuracy: 0.9655 - val_precision: 0.7831 - val_recall: 0.5724\n",
      "Epoch 14/20\n",
      "219/219 [==============================] - 1s 3ms/step - loss: 0.9376 - accuracy: 0.9665 - precision: 0.7917 - recall: 0.5834 - val_loss: 1.0412 - val_accuracy: 0.9658 - val_precision: 0.7852 - val_recall: 0.5753\n",
      "Epoch 15/20\n",
      "219/219 [==============================] - 1s 3ms/step - loss: 0.9336 - accuracy: 0.9669 - precision: 0.7979 - recall: 0.5851 - val_loss: 1.0391 - val_accuracy: 0.9656 - val_precision: 0.7840 - val_recall: 0.5736\n",
      "Epoch 16/20\n",
      "219/219 [==============================] - 1s 3ms/step - loss: 0.9284 - accuracy: 0.9670 - precision: 0.7982 - recall: 0.5868 - val_loss: 1.0364 - val_accuracy: 0.9654 - val_precision: 0.7796 - val_recall: 0.5730\n",
      "Epoch 17/20\n",
      "219/219 [==============================] - 1s 3ms/step - loss: 0.9295 - accuracy: 0.9666 - precision: 0.7926 - recall: 0.5853 - val_loss: 1.0387 - val_accuracy: 0.9655 - val_precision: 0.7784 - val_recall: 0.5770\n",
      "Epoch 18/20\n",
      "219/219 [==============================] - 1s 3ms/step - loss: 0.9303 - accuracy: 0.9669 - precision: 0.7967 - recall: 0.5881 - val_loss: 1.0370 - val_accuracy: 0.9656 - val_precision: 0.7801 - val_recall: 0.5787\n",
      "Epoch 19/20\n",
      "219/219 [==============================] - 1s 3ms/step - loss: 0.9258 - accuracy: 0.9672 - precision: 0.7990 - recall: 0.5914 - val_loss: 1.0372 - val_accuracy: 0.9656 - val_precision: 0.7786 - val_recall: 0.5799\n",
      "Epoch 20/20\n",
      "219/219 [==============================] - 1s 3ms/step - loss: 0.9232 - accuracy: 0.9668 - precision: 0.7921 - recall: 0.5911 - val_loss: 1.0375 - val_accuracy: 0.9656 - val_precision: 0.7799 - val_recall: 0.5781\n"
     ]
    },
    {
     "data": {
      "text/plain": [
       "<keras.src.callbacks.History at 0x2e475afa290>"
      ]
     },
     "execution_count": 140,
     "metadata": {},
     "output_type": "execute_result"
    }
   ],
   "source": [
    "model4.fit(X_train,y_train1 ,batch_size = 32 ,epochs = 20 ,validation_split = (0.2) ,verbose =1)"
   ]
  },
  {
   "cell_type": "code",
   "execution_count": 141,
   "id": "60f66952",
   "metadata": {
    "ExecuteTime": {
     "end_time": "2024-01-22T01:15:43.155443Z",
     "start_time": "2024-01-22T01:15:42.806636Z"
    }
   },
   "outputs": [
    {
     "name": "stdout",
     "output_type": "stream",
     "text": [
      "69/69 [==============================] - 0s 2ms/step\n",
      "[14  1 16 ... 11  9 12]\n",
      "              precision    recall  f1-score   support\n",
      "\n",
      "           0       0.57      0.41      0.48        68\n",
      "           1       0.80      0.77      0.78       176\n",
      "           2       0.64      0.76      0.69        97\n",
      "           3       0.70      0.68      0.69        90\n",
      "           4       0.73      0.56      0.63        93\n",
      "           5       0.67      0.74      0.70       108\n",
      "           6       0.80      0.80      0.80       126\n",
      "           7       0.69      0.75      0.72       136\n",
      "           8       0.63      0.57      0.60       122\n",
      "           9       0.79      0.67      0.72       155\n",
      "          10       0.62      0.64      0.63        61\n",
      "          11       0.61      0.65      0.63       172\n",
      "          12       0.76      0.78      0.77       182\n",
      "          13       0.65      0.60      0.62       151\n",
      "          14       0.55      0.56      0.56       200\n",
      "          15       0.79      0.88      0.83       169\n",
      "          16       0.83      0.96      0.89        77\n",
      "\n",
      "    accuracy                           0.70      2183\n",
      "   macro avg       0.70      0.69      0.69      2183\n",
      "weighted avg       0.70      0.70      0.70      2183\n",
      "\n"
     ]
    }
   ],
   "source": [
    "predictions = np.argmax(model4.predict(X_test), axis=-1)\n",
    "\n",
    "print(predictions)\n",
    "\n",
    "print(classification_report(y_test.values , predictions))"
   ]
  },
  {
   "cell_type": "code",
   "execution_count": 142,
   "id": "e2b5ffac",
   "metadata": {
    "ExecuteTime": {
     "end_time": "2024-01-22T01:15:50.553242Z",
     "start_time": "2024-01-22T01:15:50.546503Z"
    }
   },
   "outputs": [],
   "source": [
    "# okay okay good"
   ]
  },
  {
   "cell_type": "code",
   "execution_count": 143,
   "id": "f10a8b5c",
   "metadata": {
    "ExecuteTime": {
     "end_time": "2024-01-22T01:16:19.523692Z",
     "start_time": "2024-01-22T01:16:04.275548Z"
    }
   },
   "outputs": [
    {
     "name": "stdout",
     "output_type": "stream",
     "text": [
      "Epoch 1/20\n",
      "219/219 [==============================] - 1s 4ms/step - loss: 0.9215 - accuracy: 0.9669 - precision: 0.7955 - recall: 0.5891 - val_loss: 1.0442 - val_accuracy: 0.9657 - val_precision: 0.7810 - val_recall: 0.5799\n",
      "Epoch 2/20\n",
      "219/219 [==============================] - 1s 3ms/step - loss: 0.9206 - accuracy: 0.9670 - precision: 0.7959 - recall: 0.5903 - val_loss: 1.0360 - val_accuracy: 0.9656 - val_precision: 0.7810 - val_recall: 0.5776\n",
      "Epoch 3/20\n",
      "219/219 [==============================] - 1s 4ms/step - loss: 0.9171 - accuracy: 0.9675 - precision: 0.8016 - recall: 0.5941 - val_loss: 1.0323 - val_accuracy: 0.9660 - val_precision: 0.7826 - val_recall: 0.5833\n",
      "Epoch 4/20\n",
      "219/219 [==============================] - 1s 3ms/step - loss: 0.9182 - accuracy: 0.9672 - precision: 0.7988 - recall: 0.5916 - val_loss: 1.0337 - val_accuracy: 0.9656 - val_precision: 0.7786 - val_recall: 0.5799\n",
      "Epoch 5/20\n",
      "219/219 [==============================] - 1s 3ms/step - loss: 0.9189 - accuracy: 0.9673 - precision: 0.7967 - recall: 0.5964 - val_loss: 1.0308 - val_accuracy: 0.9655 - val_precision: 0.7800 - val_recall: 0.5764\n",
      "Epoch 6/20\n",
      "219/219 [==============================] - 1s 3ms/step - loss: 0.9160 - accuracy: 0.9674 - precision: 0.7987 - recall: 0.5954 - val_loss: 1.0330 - val_accuracy: 0.9656 - val_precision: 0.7780 - val_recall: 0.5799\n",
      "Epoch 7/20\n",
      "219/219 [==============================] - 1s 3ms/step - loss: 0.9137 - accuracy: 0.9675 - precision: 0.7993 - recall: 0.5971 - val_loss: 1.0341 - val_accuracy: 0.9659 - val_precision: 0.7833 - val_recall: 0.5816\n",
      "Epoch 8/20\n",
      "219/219 [==============================] - 1s 4ms/step - loss: 0.9134 - accuracy: 0.9674 - precision: 0.7988 - recall: 0.5951 - val_loss: 1.0314 - val_accuracy: 0.9657 - val_precision: 0.7779 - val_recall: 0.5833\n",
      "Epoch 9/20\n",
      "219/219 [==============================] - 1s 3ms/step - loss: 0.9112 - accuracy: 0.9677 - precision: 0.8031 - recall: 0.5984 - val_loss: 1.0305 - val_accuracy: 0.9659 - val_precision: 0.7841 - val_recall: 0.5799\n",
      "Epoch 10/20\n",
      "219/219 [==============================] - 1s 4ms/step - loss: 0.9092 - accuracy: 0.9673 - precision: 0.7968 - recall: 0.5961 - val_loss: 1.0319 - val_accuracy: 0.9659 - val_precision: 0.7803 - val_recall: 0.5856\n",
      "Epoch 11/20\n",
      "219/219 [==============================] - 1s 3ms/step - loss: 0.9100 - accuracy: 0.9674 - precision: 0.7978 - recall: 0.5981 - val_loss: 1.0327 - val_accuracy: 0.9657 - val_precision: 0.7766 - val_recall: 0.5850\n",
      "Epoch 12/20\n",
      "219/219 [==============================] - 1s 3ms/step - loss: 0.9051 - accuracy: 0.9674 - precision: 0.7955 - recall: 0.6004 - val_loss: 1.0360 - val_accuracy: 0.9659 - val_precision: 0.7816 - val_recall: 0.5839\n",
      "Epoch 13/20\n",
      "219/219 [==============================] - 1s 3ms/step - loss: 0.9068 - accuracy: 0.9678 - precision: 0.8007 - recall: 0.6033 - val_loss: 1.0329 - val_accuracy: 0.9661 - val_precision: 0.7830 - val_recall: 0.5867\n",
      "Epoch 14/20\n",
      "219/219 [==============================] - 1s 3ms/step - loss: 0.9038 - accuracy: 0.9681 - precision: 0.8028 - recall: 0.6066 - val_loss: 1.0283 - val_accuracy: 0.9662 - val_precision: 0.7829 - val_recall: 0.5884\n",
      "Epoch 15/20\n",
      "219/219 [==============================] - 1s 3ms/step - loss: 0.9025 - accuracy: 0.9676 - precision: 0.7993 - recall: 0.5991 - val_loss: 1.0253 - val_accuracy: 0.9660 - val_precision: 0.7804 - val_recall: 0.5879\n",
      "Epoch 16/20\n",
      "219/219 [==============================] - 1s 3ms/step - loss: 0.9012 - accuracy: 0.9679 - precision: 0.8042 - recall: 0.6016 - val_loss: 1.0294 - val_accuracy: 0.9657 - val_precision: 0.7733 - val_recall: 0.5896\n",
      "Epoch 17/20\n",
      "219/219 [==============================] - 1s 3ms/step - loss: 0.8998 - accuracy: 0.9680 - precision: 0.8028 - recall: 0.6056 - val_loss: 1.0281 - val_accuracy: 0.9660 - val_precision: 0.7779 - val_recall: 0.5896\n",
      "Epoch 18/20\n",
      "219/219 [==============================] - 1s 3ms/step - loss: 0.8944 - accuracy: 0.9683 - precision: 0.8039 - recall: 0.6105 - val_loss: 1.0289 - val_accuracy: 0.9661 - val_precision: 0.7772 - val_recall: 0.5930\n",
      "Epoch 19/20\n",
      "219/219 [==============================] - 1s 3ms/step - loss: 0.8971 - accuracy: 0.9679 - precision: 0.7998 - recall: 0.6062 - val_loss: 1.0277 - val_accuracy: 0.9663 - val_precision: 0.7837 - val_recall: 0.5890\n",
      "Epoch 20/20\n",
      "219/219 [==============================] - 1s 3ms/step - loss: 0.8930 - accuracy: 0.9681 - precision: 0.8018 - recall: 0.6070 - val_loss: 1.0253 - val_accuracy: 0.9662 - val_precision: 0.7802 - val_recall: 0.5913\n"
     ]
    },
    {
     "data": {
      "text/plain": [
       "<keras.src.callbacks.History at 0x2e477ea8890>"
      ]
     },
     "execution_count": 143,
     "metadata": {},
     "output_type": "execute_result"
    }
   ],
   "source": [
    "model4.fit(X_train,y_train1 ,batch_size = 32 ,epochs = 20 ,validation_split = (0.2) ,verbose =1)"
   ]
  },
  {
   "cell_type": "code",
   "execution_count": 144,
   "id": "1ba98cf2",
   "metadata": {
    "ExecuteTime": {
     "end_time": "2024-01-22T01:16:21.018035Z",
     "start_time": "2024-01-22T01:16:20.699781Z"
    }
   },
   "outputs": [
    {
     "name": "stdout",
     "output_type": "stream",
     "text": [
      "69/69 [==============================] - 0s 2ms/step\n",
      "[14  1 16 ... 11  9 12]\n",
      "              precision    recall  f1-score   support\n",
      "\n",
      "           0       0.54      0.43      0.48        68\n",
      "           1       0.80      0.75      0.77       176\n",
      "           2       0.63      0.75      0.69        97\n",
      "           3       0.71      0.67      0.69        90\n",
      "           4       0.74      0.55      0.63        93\n",
      "           5       0.66      0.75      0.70       108\n",
      "           6       0.81      0.79      0.80       126\n",
      "           7       0.70      0.74      0.72       136\n",
      "           8       0.68      0.57      0.62       122\n",
      "           9       0.80      0.68      0.73       155\n",
      "          10       0.63      0.62      0.63        61\n",
      "          11       0.61      0.64      0.62       172\n",
      "          12       0.75      0.79      0.77       182\n",
      "          13       0.64      0.62      0.63       151\n",
      "          14       0.56      0.58      0.57       200\n",
      "          15       0.77      0.88      0.82       169\n",
      "          16       0.82      0.96      0.89        77\n",
      "\n",
      "    accuracy                           0.70      2183\n",
      "   macro avg       0.70      0.69      0.69      2183\n",
      "weighted avg       0.70      0.70      0.70      2183\n",
      "\n"
     ]
    }
   ],
   "source": [
    "predictions = np.argmax(model4.predict(X_test), axis=-1)\n",
    "\n",
    "print(predictions)\n",
    "\n",
    "print(classification_report(y_test.values , predictions))"
   ]
  },
  {
   "cell_type": "code",
   "execution_count": 145,
   "id": "f42ae1bb",
   "metadata": {
    "ExecuteTime": {
     "end_time": "2024-01-22T01:16:29.427723Z",
     "start_time": "2024-01-22T01:16:29.421656Z"
    }
   },
   "outputs": [],
   "source": [
    "# and another 20"
   ]
  },
  {
   "cell_type": "code",
   "execution_count": 146,
   "id": "312ddf9f",
   "metadata": {
    "ExecuteTime": {
     "end_time": "2024-01-22T01:16:51.392444Z",
     "start_time": "2024-01-22T01:16:36.164782Z"
    }
   },
   "outputs": [
    {
     "name": "stdout",
     "output_type": "stream",
     "text": [
      "Epoch 1/20\n",
      "219/219 [==============================] - 1s 4ms/step - loss: 0.8922 - accuracy: 0.9681 - precision: 0.7998 - recall: 0.6103 - val_loss: 1.0275 - val_accuracy: 0.9663 - val_precision: 0.7854 - val_recall: 0.5867\n",
      "Epoch 2/20\n",
      "219/219 [==============================] - 1s 3ms/step - loss: 0.8904 - accuracy: 0.9684 - precision: 0.8042 - recall: 0.6116 - val_loss: 1.0223 - val_accuracy: 0.9664 - val_precision: 0.7837 - val_recall: 0.5930\n",
      "Epoch 3/20\n",
      "219/219 [==============================] - 1s 4ms/step - loss: 0.8865 - accuracy: 0.9684 - precision: 0.8040 - recall: 0.6130 - val_loss: 1.0233 - val_accuracy: 0.9663 - val_precision: 0.7800 - val_recall: 0.5947\n",
      "Epoch 4/20\n",
      "219/219 [==============================] - 1s 3ms/step - loss: 0.8841 - accuracy: 0.9684 - precision: 0.8028 - recall: 0.6145 - val_loss: 1.0270 - val_accuracy: 0.9665 - val_precision: 0.7836 - val_recall: 0.5947\n",
      "Epoch 5/20\n",
      "219/219 [==============================] - 1s 4ms/step - loss: 0.8881 - accuracy: 0.9682 - precision: 0.8017 - recall: 0.6105 - val_loss: 1.0220 - val_accuracy: 0.9662 - val_precision: 0.7793 - val_recall: 0.5942\n",
      "Epoch 6/20\n",
      "219/219 [==============================] - 1s 3ms/step - loss: 0.8829 - accuracy: 0.9684 - precision: 0.8040 - recall: 0.6126 - val_loss: 1.0243 - val_accuracy: 0.9667 - val_precision: 0.7861 - val_recall: 0.5953\n",
      "Epoch 7/20\n",
      "219/219 [==============================] - 1s 3ms/step - loss: 0.8795 - accuracy: 0.9684 - precision: 0.8041 - recall: 0.6112 - val_loss: 1.0230 - val_accuracy: 0.9661 - val_precision: 0.7741 - val_recall: 0.5982\n",
      "Epoch 8/20\n",
      "219/219 [==============================] - 1s 3ms/step - loss: 0.8876 - accuracy: 0.9679 - precision: 0.7972 - recall: 0.6100 - val_loss: 1.0216 - val_accuracy: 0.9665 - val_precision: 0.7838 - val_recall: 0.5936\n",
      "Epoch 9/20\n",
      "219/219 [==============================] - 1s 4ms/step - loss: 0.8830 - accuracy: 0.9685 - precision: 0.8033 - recall: 0.6146 - val_loss: 1.0229 - val_accuracy: 0.9661 - val_precision: 0.7769 - val_recall: 0.5942\n",
      "Epoch 10/20\n",
      "219/219 [==============================] - 1s 3ms/step - loss: 0.8789 - accuracy: 0.9687 - precision: 0.8075 - recall: 0.6149 - val_loss: 1.0235 - val_accuracy: 0.9663 - val_precision: 0.7778 - val_recall: 0.5970\n",
      "Epoch 11/20\n",
      "219/219 [==============================] - 1s 3ms/step - loss: 0.8775 - accuracy: 0.9684 - precision: 0.8013 - recall: 0.6159 - val_loss: 1.0235 - val_accuracy: 0.9660 - val_precision: 0.7756 - val_recall: 0.5936\n",
      "Epoch 12/20\n",
      "219/219 [==============================] - 1s 3ms/step - loss: 0.8781 - accuracy: 0.9687 - precision: 0.8049 - recall: 0.6179 - val_loss: 1.0250 - val_accuracy: 0.9665 - val_precision: 0.7817 - val_recall: 0.5965\n",
      "Epoch 13/20\n",
      "219/219 [==============================] - 1s 3ms/step - loss: 0.8758 - accuracy: 0.9688 - precision: 0.8044 - recall: 0.6195 - val_loss: 1.0273 - val_accuracy: 0.9664 - val_precision: 0.7816 - val_recall: 0.5942\n",
      "Epoch 14/20\n",
      "219/219 [==============================] - 1s 3ms/step - loss: 0.8705 - accuracy: 0.9687 - precision: 0.8042 - recall: 0.6180 - val_loss: 1.0229 - val_accuracy: 0.9662 - val_precision: 0.7758 - val_recall: 0.5982\n",
      "Epoch 15/20\n",
      "219/219 [==============================] - 1s 3ms/step - loss: 0.8765 - accuracy: 0.9687 - precision: 0.8057 - recall: 0.6162 - val_loss: 1.0197 - val_accuracy: 0.9662 - val_precision: 0.7777 - val_recall: 0.5947\n",
      "Epoch 16/20\n",
      "219/219 [==============================] - 1s 3ms/step - loss: 0.8695 - accuracy: 0.9689 - precision: 0.8068 - recall: 0.6199 - val_loss: 1.0240 - val_accuracy: 0.9660 - val_precision: 0.7744 - val_recall: 0.5953\n",
      "Epoch 17/20\n",
      "219/219 [==============================] - 1s 3ms/step - loss: 0.8709 - accuracy: 0.9689 - precision: 0.8066 - recall: 0.6199 - val_loss: 1.0189 - val_accuracy: 0.9666 - val_precision: 0.7823 - val_recall: 0.5987\n",
      "Epoch 18/20\n",
      "219/219 [==============================] - 1s 3ms/step - loss: 0.8719 - accuracy: 0.9685 - precision: 0.8014 - recall: 0.6170 - val_loss: 1.0188 - val_accuracy: 0.9665 - val_precision: 0.7831 - val_recall: 0.5953\n",
      "Epoch 19/20\n",
      "219/219 [==============================] - 1s 3ms/step - loss: 0.8619 - accuracy: 0.9691 - precision: 0.8074 - recall: 0.6229 - val_loss: 1.0247 - val_accuracy: 0.9664 - val_precision: 0.7758 - val_recall: 0.6022\n",
      "Epoch 20/20\n",
      "219/219 [==============================] - 1s 4ms/step - loss: 0.8629 - accuracy: 0.9690 - precision: 0.8054 - recall: 0.6241 - val_loss: 1.0184 - val_accuracy: 0.9665 - val_precision: 0.7804 - val_recall: 0.5982\n"
     ]
    },
    {
     "data": {
      "text/plain": [
       "<keras.src.callbacks.History at 0x2e47a537010>"
      ]
     },
     "execution_count": 146,
     "metadata": {},
     "output_type": "execute_result"
    }
   ],
   "source": [
    "model4.fit(X_train,y_train1 ,batch_size = 32 ,epochs = 20 ,validation_split = (0.2) ,verbose =1)"
   ]
  },
  {
   "cell_type": "code",
   "execution_count": 147,
   "id": "0759c9c0",
   "metadata": {
    "ExecuteTime": {
     "end_time": "2024-01-22T01:16:54.436815Z",
     "start_time": "2024-01-22T01:16:54.148051Z"
    }
   },
   "outputs": [
    {
     "name": "stdout",
     "output_type": "stream",
     "text": [
      "69/69 [==============================] - 0s 2ms/step\n",
      "[14  1 16 ... 11  9 12]\n",
      "              precision    recall  f1-score   support\n",
      "\n",
      "           0       0.59      0.49      0.53        68\n",
      "           1       0.80      0.75      0.77       176\n",
      "           2       0.65      0.76      0.70        97\n",
      "           3       0.69      0.68      0.68        90\n",
      "           4       0.74      0.55      0.63        93\n",
      "           5       0.66      0.77      0.71       108\n",
      "           6       0.82      0.79      0.81       126\n",
      "           7       0.70      0.76      0.73       136\n",
      "           8       0.70      0.61      0.65       122\n",
      "           9       0.80      0.69      0.74       155\n",
      "          10       0.65      0.64      0.64        61\n",
      "          11       0.62      0.65      0.63       172\n",
      "          12       0.75      0.78      0.76       182\n",
      "          13       0.65      0.62      0.64       151\n",
      "          14       0.57      0.57      0.57       200\n",
      "          15       0.79      0.88      0.83       169\n",
      "          16       0.83      0.96      0.89        77\n",
      "\n",
      "    accuracy                           0.71      2183\n",
      "   macro avg       0.71      0.70      0.70      2183\n",
      "weighted avg       0.71      0.71      0.70      2183\n",
      "\n"
     ]
    }
   ],
   "source": [
    "predictions = np.argmax(model4.predict(X_test), axis=-1)\n",
    "\n",
    "print(predictions)\n",
    "\n",
    "print(classification_report(y_test.values , predictions))"
   ]
  },
  {
   "cell_type": "code",
   "execution_count": 148,
   "id": "0cd3e57f",
   "metadata": {
    "ExecuteTime": {
     "end_time": "2024-01-22T01:17:04.545764Z",
     "start_time": "2024-01-22T01:17:04.539566Z"
    }
   },
   "outputs": [],
   "source": [
    "# nice , lets do them 40"
   ]
  },
  {
   "cell_type": "code",
   "execution_count": 149,
   "id": "c2f06000",
   "metadata": {
    "ExecuteTime": {
     "end_time": "2024-01-22T01:17:42.466212Z",
     "start_time": "2024-01-22T01:17:12.457342Z"
    }
   },
   "outputs": [
    {
     "name": "stdout",
     "output_type": "stream",
     "text": [
      "Epoch 1/40\n",
      "219/219 [==============================] - 1s 4ms/step - loss: 0.8646 - accuracy: 0.9692 - precision: 0.8066 - recall: 0.6256 - val_loss: 1.0180 - val_accuracy: 0.9661 - val_precision: 0.7739 - val_recall: 0.5976\n",
      "Epoch 2/40\n",
      "219/219 [==============================] - 1s 3ms/step - loss: 0.8627 - accuracy: 0.9693 - precision: 0.8079 - recall: 0.6275 - val_loss: 1.0181 - val_accuracy: 0.9666 - val_precision: 0.7790 - val_recall: 0.6033\n",
      "Epoch 3/40\n",
      "219/219 [==============================] - 1s 3ms/step - loss: 0.8613 - accuracy: 0.9691 - precision: 0.8074 - recall: 0.6238 - val_loss: 1.0175 - val_accuracy: 0.9666 - val_precision: 0.7828 - val_recall: 0.5982\n",
      "Epoch 4/40\n",
      "219/219 [==============================] - 1s 4ms/step - loss: 0.8600 - accuracy: 0.9695 - precision: 0.8112 - recall: 0.6268 - val_loss: 1.0188 - val_accuracy: 0.9666 - val_precision: 0.7805 - val_recall: 0.6005\n",
      "Epoch 5/40\n",
      "219/219 [==============================] - 1s 3ms/step - loss: 0.8661 - accuracy: 0.9689 - precision: 0.8068 - recall: 0.6200 - val_loss: 1.0215 - val_accuracy: 0.9666 - val_precision: 0.7815 - val_recall: 0.5999\n",
      "Epoch 6/40\n",
      "219/219 [==============================] - 1s 3ms/step - loss: 0.8605 - accuracy: 0.9690 - precision: 0.8058 - recall: 0.6233 - val_loss: 1.0179 - val_accuracy: 0.9665 - val_precision: 0.7800 - val_recall: 0.5987\n",
      "Epoch 7/40\n",
      "219/219 [==============================] - 1s 4ms/step - loss: 0.8563 - accuracy: 0.9693 - precision: 0.8082 - recall: 0.6263 - val_loss: 1.0218 - val_accuracy: 0.9662 - val_precision: 0.7743 - val_recall: 0.6010\n",
      "Epoch 8/40\n",
      "219/219 [==============================] - 1s 3ms/step - loss: 0.8537 - accuracy: 0.9694 - precision: 0.8080 - recall: 0.6283 - val_loss: 1.0166 - val_accuracy: 0.9664 - val_precision: 0.7780 - val_recall: 0.5999\n",
      "Epoch 9/40\n",
      "219/219 [==============================] - 1s 3ms/step - loss: 0.8531 - accuracy: 0.9694 - precision: 0.8084 - recall: 0.6293 - val_loss: 1.0167 - val_accuracy: 0.9664 - val_precision: 0.7794 - val_recall: 0.5987\n",
      "Epoch 10/40\n",
      "219/219 [==============================] - 1s 4ms/step - loss: 0.8569 - accuracy: 0.9691 - precision: 0.8052 - recall: 0.6265 - val_loss: 1.0204 - val_accuracy: 0.9666 - val_precision: 0.7790 - val_recall: 0.6033\n",
      "Epoch 11/40\n",
      "219/219 [==============================] - 1s 3ms/step - loss: 0.8555 - accuracy: 0.9694 - precision: 0.8086 - recall: 0.6295 - val_loss: 1.0167 - val_accuracy: 0.9665 - val_precision: 0.7796 - val_recall: 0.5993\n",
      "Epoch 12/40\n",
      "219/219 [==============================] - 1s 3ms/step - loss: 0.8542 - accuracy: 0.9691 - precision: 0.8060 - recall: 0.6262 - val_loss: 1.0156 - val_accuracy: 0.9668 - val_precision: 0.7818 - val_recall: 0.6050\n",
      "Epoch 13/40\n",
      "219/219 [==============================] - 1s 3ms/step - loss: 0.8508 - accuracy: 0.9689 - precision: 0.8043 - recall: 0.6236 - val_loss: 1.0171 - val_accuracy: 0.9667 - val_precision: 0.7830 - val_recall: 0.6010\n",
      "Epoch 14/40\n",
      "219/219 [==============================] - 1s 4ms/step - loss: 0.8521 - accuracy: 0.9693 - precision: 0.8080 - recall: 0.6279 - val_loss: 1.0166 - val_accuracy: 0.9666 - val_precision: 0.7821 - val_recall: 0.5999\n",
      "Epoch 15/40\n",
      "219/219 [==============================] - 1s 3ms/step - loss: 0.8519 - accuracy: 0.9698 - precision: 0.8102 - recall: 0.6355 - val_loss: 1.0178 - val_accuracy: 0.9663 - val_precision: 0.7743 - val_recall: 0.6027\n",
      "Epoch 16/40\n",
      "219/219 [==============================] - 1s 4ms/step - loss: 0.8488 - accuracy: 0.9698 - precision: 0.8131 - recall: 0.6326 - val_loss: 1.0148 - val_accuracy: 0.9664 - val_precision: 0.7768 - val_recall: 0.6016\n",
      "Epoch 17/40\n",
      "219/219 [==============================] - 1s 3ms/step - loss: 0.8462 - accuracy: 0.9694 - precision: 0.8091 - recall: 0.6281 - val_loss: 1.0168 - val_accuracy: 0.9666 - val_precision: 0.7772 - val_recall: 0.6050\n",
      "Epoch 18/40\n",
      "219/219 [==============================] - 1s 3ms/step - loss: 0.8406 - accuracy: 0.9699 - precision: 0.8119 - recall: 0.6364 - val_loss: 1.0197 - val_accuracy: 0.9667 - val_precision: 0.7816 - val_recall: 0.6022\n",
      "Epoch 19/40\n",
      "219/219 [==============================] - 1s 4ms/step - loss: 0.8423 - accuracy: 0.9701 - precision: 0.8141 - recall: 0.6371 - val_loss: 1.0159 - val_accuracy: 0.9662 - val_precision: 0.7743 - val_recall: 0.6010\n",
      "Epoch 20/40\n",
      "219/219 [==============================] - 1s 3ms/step - loss: 0.8429 - accuracy: 0.9697 - precision: 0.8103 - recall: 0.6331 - val_loss: 1.0169 - val_accuracy: 0.9663 - val_precision: 0.7755 - val_recall: 0.6010\n",
      "Epoch 21/40\n",
      "219/219 [==============================] - 1s 3ms/step - loss: 0.8415 - accuracy: 0.9697 - precision: 0.8110 - recall: 0.6329 - val_loss: 1.0154 - val_accuracy: 0.9663 - val_precision: 0.7733 - val_recall: 0.6033\n",
      "Epoch 22/40\n",
      "219/219 [==============================] - 1s 3ms/step - loss: 0.8424 - accuracy: 0.9698 - precision: 0.8085 - recall: 0.6378 - val_loss: 1.0176 - val_accuracy: 0.9667 - val_precision: 0.7777 - val_recall: 0.6068\n",
      "Epoch 23/40\n",
      "219/219 [==============================] - 1s 3ms/step - loss: 0.8374 - accuracy: 0.9699 - precision: 0.8123 - recall: 0.6356 - val_loss: 1.0127 - val_accuracy: 0.9666 - val_precision: 0.7745 - val_recall: 0.6096\n",
      "Epoch 24/40\n",
      "219/219 [==============================] - 1s 3ms/step - loss: 0.8394 - accuracy: 0.9698 - precision: 0.8086 - recall: 0.6364 - val_loss: 1.0131 - val_accuracy: 0.9667 - val_precision: 0.7781 - val_recall: 0.6062\n",
      "Epoch 25/40\n",
      "219/219 [==============================] - 1s 4ms/step - loss: 0.8371 - accuracy: 0.9704 - precision: 0.8178 - recall: 0.6395 - val_loss: 1.0158 - val_accuracy: 0.9665 - val_precision: 0.7753 - val_recall: 0.6062\n",
      "Epoch 26/40\n",
      "219/219 [==============================] - 1s 3ms/step - loss: 0.8371 - accuracy: 0.9700 - precision: 0.8126 - recall: 0.6364 - val_loss: 1.0113 - val_accuracy: 0.9666 - val_precision: 0.7774 - val_recall: 0.6056\n",
      "Epoch 27/40\n",
      "219/219 [==============================] - 1s 3ms/step - loss: 0.8344 - accuracy: 0.9703 - precision: 0.8129 - recall: 0.6429 - val_loss: 1.0149 - val_accuracy: 0.9666 - val_precision: 0.7796 - val_recall: 0.6033\n",
      "Epoch 28/40\n",
      "219/219 [==============================] - 1s 4ms/step - loss: 0.8360 - accuracy: 0.9699 - precision: 0.8119 - recall: 0.6351 - val_loss: 1.0114 - val_accuracy: 0.9667 - val_precision: 0.7773 - val_recall: 0.6073\n",
      "Epoch 29/40\n",
      "219/219 [==============================] - 1s 3ms/step - loss: 0.8315 - accuracy: 0.9700 - precision: 0.8104 - recall: 0.6399 - val_loss: 1.0129 - val_accuracy: 0.9665 - val_precision: 0.7741 - val_recall: 0.6079\n",
      "Epoch 30/40\n",
      "219/219 [==============================] - 1s 3ms/step - loss: 0.8291 - accuracy: 0.9701 - precision: 0.8123 - recall: 0.6392 - val_loss: 1.0133 - val_accuracy: 0.9666 - val_precision: 0.7788 - val_recall: 0.6045\n",
      "Epoch 31/40\n",
      "219/219 [==============================] - 1s 3ms/step - loss: 0.8339 - accuracy: 0.9699 - precision: 0.8103 - recall: 0.6368 - val_loss: 1.0135 - val_accuracy: 0.9666 - val_precision: 0.7764 - val_recall: 0.6062\n",
      "Epoch 32/40\n",
      "219/219 [==============================] - 1s 3ms/step - loss: 0.8266 - accuracy: 0.9699 - precision: 0.8123 - recall: 0.6349 - val_loss: 1.0121 - val_accuracy: 0.9669 - val_precision: 0.7813 - val_recall: 0.6073\n",
      "Epoch 33/40\n",
      "219/219 [==============================] - 1s 3ms/step - loss: 0.8266 - accuracy: 0.9703 - precision: 0.8126 - recall: 0.6431 - val_loss: 1.0148 - val_accuracy: 0.9668 - val_precision: 0.7788 - val_recall: 0.6085\n",
      "Epoch 34/40\n",
      "219/219 [==============================] - 1s 3ms/step - loss: 0.8231 - accuracy: 0.9702 - precision: 0.8116 - recall: 0.6437 - val_loss: 1.0123 - val_accuracy: 0.9667 - val_precision: 0.7777 - val_recall: 0.6068\n",
      "Epoch 35/40\n",
      "219/219 [==============================] - 1s 3ms/step - loss: 0.8230 - accuracy: 0.9703 - precision: 0.8121 - recall: 0.6437 - val_loss: 1.0101 - val_accuracy: 0.9665 - val_precision: 0.7719 - val_recall: 0.6102\n",
      "Epoch 36/40\n",
      "219/219 [==============================] - 1s 3ms/step - loss: 0.8241 - accuracy: 0.9705 - precision: 0.8139 - recall: 0.6461 - val_loss: 1.0123 - val_accuracy: 0.9667 - val_precision: 0.7791 - val_recall: 0.6056\n",
      "Epoch 37/40\n",
      "219/219 [==============================] - 1s 3ms/step - loss: 0.8269 - accuracy: 0.9703 - precision: 0.8135 - recall: 0.6421 - val_loss: 1.0111 - val_accuracy: 0.9664 - val_precision: 0.7724 - val_recall: 0.6079\n",
      "Epoch 38/40\n",
      "219/219 [==============================] - 1s 3ms/step - loss: 0.8230 - accuracy: 0.9705 - precision: 0.8138 - recall: 0.6464 - val_loss: 1.0160 - val_accuracy: 0.9666 - val_precision: 0.7792 - val_recall: 0.6039\n",
      "Epoch 39/40\n",
      "219/219 [==============================] - 1s 3ms/step - loss: 0.8252 - accuracy: 0.9702 - precision: 0.8131 - recall: 0.6408 - val_loss: 1.0133 - val_accuracy: 0.9667 - val_precision: 0.7757 - val_recall: 0.6096\n",
      "Epoch 40/40\n",
      "219/219 [==============================] - 1s 3ms/step - loss: 0.8166 - accuracy: 0.9708 - precision: 0.8183 - recall: 0.6465 - val_loss: 1.0115 - val_accuracy: 0.9668 - val_precision: 0.7777 - val_recall: 0.6108\n"
     ]
    },
    {
     "data": {
      "text/plain": [
       "<keras.src.callbacks.History at 0x2e47b7727d0>"
      ]
     },
     "execution_count": 149,
     "metadata": {},
     "output_type": "execute_result"
    }
   ],
   "source": [
    "model4.fit(X_train,y_train1 ,batch_size = 32 ,epochs = 40 ,validation_split = (0.2) ,verbose =1)"
   ]
  },
  {
   "cell_type": "code",
   "execution_count": 150,
   "id": "4d6d60b3",
   "metadata": {
    "ExecuteTime": {
     "end_time": "2024-01-22T01:17:45.831216Z",
     "start_time": "2024-01-22T01:17:45.495429Z"
    }
   },
   "outputs": [
    {
     "name": "stdout",
     "output_type": "stream",
     "text": [
      "69/69 [==============================] - 0s 2ms/step\n",
      "[14  1 16 ... 11  9 12]\n",
      "              precision    recall  f1-score   support\n",
      "\n",
      "           0       0.61      0.50      0.55        68\n",
      "           1       0.80      0.76      0.78       176\n",
      "           2       0.66      0.76      0.71        97\n",
      "           3       0.67      0.66      0.66        90\n",
      "           4       0.73      0.56      0.63        93\n",
      "           5       0.66      0.76      0.71       108\n",
      "           6       0.83      0.79      0.81       126\n",
      "           7       0.70      0.73      0.71       136\n",
      "           8       0.73      0.66      0.70       122\n",
      "           9       0.79      0.68      0.73       155\n",
      "          10       0.67      0.64      0.66        61\n",
      "          11       0.60      0.65      0.62       172\n",
      "          12       0.76      0.79      0.78       182\n",
      "          13       0.66      0.62      0.64       151\n",
      "          14       0.59      0.60      0.60       200\n",
      "          15       0.79      0.87      0.83       169\n",
      "          16       0.81      0.96      0.88        77\n",
      "\n",
      "    accuracy                           0.71      2183\n",
      "   macro avg       0.71      0.71      0.71      2183\n",
      "weighted avg       0.71      0.71      0.71      2183\n",
      "\n"
     ]
    }
   ],
   "source": [
    "predictions = np.argmax(model4.predict(X_test), axis=-1)\n",
    "\n",
    "print(predictions)\n",
    "\n",
    "print(classification_report(y_test.values , predictions))"
   ]
  },
  {
   "cell_type": "code",
   "execution_count": 151,
   "id": "fef02c06",
   "metadata": {
    "ExecuteTime": {
     "end_time": "2024-01-22T01:18:00.021682Z",
     "start_time": "2024-01-22T01:18:00.016277Z"
    }
   },
   "outputs": [],
   "source": [
    "# this has been it , it wont get any better tbh"
   ]
  },
  {
   "cell_type": "markdown",
   "id": "5a9fdd83",
   "metadata": {},
   "source": [
    "# CNN 5\n",
    "\n",
    "playing with batch size"
   ]
  },
  {
   "cell_type": "code",
   "execution_count": 152,
   "id": "576d8b86",
   "metadata": {
    "ExecuteTime": {
     "end_time": "2024-01-22T01:19:09.220192Z",
     "start_time": "2024-01-22T01:19:08.944938Z"
    }
   },
   "outputs": [],
   "source": [
    "cnn_model5 = tf.keras.Sequential()\n",
    "cnn_model5.add(tf.keras.layers.Conv1D(256,2,input_shape=(in_dim,1), activation='leaky_relu')) # for the first comment 256 == 128\n",
    "cnn_model5.add(tf.keras.layers.MaxPool1D())\n",
    "cnn_model5.add(tf.keras.layers.Conv1D(128,2,activation='leaky_relu')) #for the first comment 128 == 64\n",
    "cnn_model5.add(tf.keras.layers.MaxPool1D())\n",
    "cnn_model5.add(tf.keras.layers.Conv1D(128,2,activation='leaky_relu')) \n",
    "cnn_model5.add(tf.keras.layers.MaxPool1D())\n",
    "cnn_model5.add(tf.keras.layers.Conv1D(64,2,activation='leaky_relu'))\n",
    "cnn_model5.add(tf.keras.layers.MaxPool1D())\n",
    "cnn_model5.add(tf.keras.layers.BatchNormalization())\n",
    "cnn_model5.add(tf.keras.layers.Flatten())\n",
    "cnn_model5.add(tf.keras.layers.Dense(64,activation='leaky_relu'))\n",
    "cnn_model5.add(tf.keras.layers.Dense(32,activation='leaky_relu'))\n",
    "cnn_model5.add(tf.keras.layers.Dense(17,activation='softmax'))"
   ]
  },
  {
   "cell_type": "code",
   "execution_count": 153,
   "id": "d28ddb5c",
   "metadata": {
    "ExecuteTime": {
     "end_time": "2024-01-22T01:19:26.343526Z",
     "start_time": "2024-01-22T01:19:26.330523Z"
    }
   },
   "outputs": [],
   "source": [
    "opt = tf.keras.optimizers.AdamW(learning_rate =0.00005 , beta_1=0.9,\n",
    "    beta_2=0.999,\n",
    "    use_ema=True,\n",
    "    ema_momentum=0.99)"
   ]
  },
  {
   "cell_type": "code",
   "execution_count": 154,
   "id": "95497e85",
   "metadata": {
    "ExecuteTime": {
     "end_time": "2024-01-22T01:19:37.272236Z",
     "start_time": "2024-01-22T01:19:37.251832Z"
    }
   },
   "outputs": [],
   "source": [
    "cnn_model5.compile(optimizer=opt, \n",
    "          loss = 'categorical_crossentropy',\n",
    "          metrics=[tf.keras.metrics.BinaryAccuracy(name='accuracy'),\n",
    "                   tf.keras.metrics.Precision(name='precision') ,\n",
    "                   tf.keras.metrics.Recall(name='recall')])"
   ]
  },
  {
   "cell_type": "code",
   "execution_count": 155,
   "id": "49b0e206",
   "metadata": {
    "ExecuteTime": {
     "end_time": "2024-01-22T01:21:42.392610Z",
     "start_time": "2024-01-22T01:19:55.835568Z"
    }
   },
   "outputs": [
    {
     "name": "stdout",
     "output_type": "stream",
     "text": [
      "Epoch 1/20\n",
      "110/110 [==============================] - 8s 47ms/step - loss: 2.7416 - accuracy: 0.9412 - precision: 0.0000e+00 - recall: 0.0000e+00 - val_loss: 2.8180 - val_accuracy: 0.9412 - val_precision: 0.0000e+00 - val_recall: 0.0000e+00\n",
      "Epoch 2/20\n",
      "110/110 [==============================] - 5s 43ms/step - loss: 2.4334 - accuracy: 0.9413 - precision: 1.0000 - recall: 0.0027 - val_loss: 2.7519 - val_accuracy: 0.9412 - val_precision: 0.0000e+00 - val_recall: 0.0000e+00\n",
      "Epoch 3/20\n",
      "110/110 [==============================] - 5s 47ms/step - loss: 1.9695 - accuracy: 0.9446 - precision: 0.9150 - recall: 0.0647 - val_loss: 2.5496 - val_accuracy: 0.9412 - val_precision: 0.0000e+00 - val_recall: 0.0000e+00\n",
      "Epoch 4/20\n",
      "110/110 [==============================] - 5s 47ms/step - loss: 1.6312 - accuracy: 0.9509 - precision: 0.8586 - recall: 0.1981 - val_loss: 2.1971 - val_accuracy: 0.9412 - val_precision: 0.0000e+00 - val_recall: 0.0000e+00\n",
      "Epoch 5/20\n",
      "110/110 [==============================] - 5s 48ms/step - loss: 1.4280 - accuracy: 0.9549 - precision: 0.8233 - recall: 0.2975 - val_loss: 1.7721 - val_accuracy: 0.9448 - val_precision: 0.9147 - val_recall: 0.0675\n",
      "Epoch 6/20\n",
      "110/110 [==============================] - 5s 45ms/step - loss: 1.3059 - accuracy: 0.9577 - precision: 0.8111 - recall: 0.3652 - val_loss: 1.4476 - val_accuracy: 0.9535 - val_precision: 0.8784 - val_recall: 0.2438\n",
      "Epoch 7/20\n",
      "110/110 [==============================] - 5s 44ms/step - loss: 1.2232 - accuracy: 0.9598 - precision: 0.8085 - recall: 0.4147 - val_loss: 1.2951 - val_accuracy: 0.9592 - val_precision: 0.8307 - val_recall: 0.3847\n",
      "Epoch 8/20\n",
      "110/110 [==============================] - 5s 44ms/step - loss: 1.1642 - accuracy: 0.9610 - precision: 0.8013 - recall: 0.4491 - val_loss: 1.2307 - val_accuracy: 0.9606 - val_precision: 0.8059 - val_recall: 0.4350\n",
      "Epoch 9/20\n",
      "110/110 [==============================] - 6s 51ms/step - loss: 1.1186 - accuracy: 0.9627 - precision: 0.8093 - recall: 0.4787 - val_loss: 1.1937 - val_accuracy: 0.9620 - val_precision: 0.8055 - val_recall: 0.4671\n",
      "Epoch 10/20\n",
      "110/110 [==============================] - 6s 57ms/step - loss: 1.0809 - accuracy: 0.9632 - precision: 0.8044 - recall: 0.4941 - val_loss: 1.1695 - val_accuracy: 0.9625 - val_precision: 0.7883 - val_recall: 0.4946\n",
      "Epoch 11/20\n",
      "110/110 [==============================] - 7s 63ms/step - loss: 1.0501 - accuracy: 0.9639 - precision: 0.8052 - recall: 0.5097 - val_loss: 1.1538 - val_accuracy: 0.9626 - val_precision: 0.7870 - val_recall: 0.4991\n",
      "Epoch 12/20\n",
      "110/110 [==============================] - 5s 47ms/step - loss: 1.0228 - accuracy: 0.9647 - precision: 0.8059 - recall: 0.5277 - val_loss: 1.1310 - val_accuracy: 0.9634 - val_precision: 0.7917 - val_recall: 0.5135\n",
      "Epoch 13/20\n",
      "110/110 [==============================] - 5s 47ms/step - loss: 1.0024 - accuracy: 0.9653 - precision: 0.8061 - recall: 0.5409 - val_loss: 1.1239 - val_accuracy: 0.9636 - val_precision: 0.7901 - val_recall: 0.5192\n",
      "Epoch 14/20\n",
      "110/110 [==============================] - 5s 45ms/step - loss: 0.9812 - accuracy: 0.9662 - precision: 0.8096 - recall: 0.5552 - val_loss: 1.1159 - val_accuracy: 0.9640 - val_precision: 0.7844 - val_recall: 0.5352\n",
      "Epoch 15/20\n",
      "110/110 [==============================] - 5s 44ms/step - loss: 0.9626 - accuracy: 0.9667 - precision: 0.8121 - recall: 0.5648 - val_loss: 1.1082 - val_accuracy: 0.9641 - val_precision: 0.7819 - val_recall: 0.5398\n",
      "Epoch 16/20\n",
      "110/110 [==============================] - 5s 47ms/step - loss: 0.9463 - accuracy: 0.9673 - precision: 0.8176 - recall: 0.5719 - val_loss: 1.1036 - val_accuracy: 0.9646 - val_precision: 0.7886 - val_recall: 0.5444\n",
      "Epoch 17/20\n",
      "110/110 [==============================] - 5s 44ms/step - loss: 0.9286 - accuracy: 0.9678 - precision: 0.8155 - recall: 0.5840 - val_loss: 1.0941 - val_accuracy: 0.9639 - val_precision: 0.7751 - val_recall: 0.5444\n",
      "Epoch 18/20\n",
      "110/110 [==============================] - 5s 45ms/step - loss: 0.9137 - accuracy: 0.9681 - precision: 0.8176 - recall: 0.5891 - val_loss: 1.0754 - val_accuracy: 0.9648 - val_precision: 0.7843 - val_recall: 0.5535\n",
      "Epoch 19/20\n",
      "110/110 [==============================] - 5s 45ms/step - loss: 0.9008 - accuracy: 0.9688 - precision: 0.8234 - recall: 0.5976 - val_loss: 1.0769 - val_accuracy: 0.9655 - val_precision: 0.7900 - val_recall: 0.5621\n",
      "Epoch 20/20\n",
      "110/110 [==============================] - 5s 44ms/step - loss: 0.8879 - accuracy: 0.9688 - precision: 0.8203 - recall: 0.6007 - val_loss: 1.0777 - val_accuracy: 0.9652 - val_precision: 0.7890 - val_recall: 0.5564\n"
     ]
    },
    {
     "data": {
      "text/plain": [
       "<keras.src.callbacks.History at 0x2e47bb16c10>"
      ]
     },
     "execution_count": 155,
     "metadata": {},
     "output_type": "execute_result"
    }
   ],
   "source": [
    "cnn_model5.fit(X_train,y_train1 ,batch_size = 64 ,epochs = 20 ,validation_split = (0.2) ,verbose =1)"
   ]
  },
  {
   "cell_type": "code",
   "execution_count": 156,
   "id": "d08083df",
   "metadata": {
    "ExecuteTime": {
     "end_time": "2024-01-22T01:21:46.473035Z",
     "start_time": "2024-01-22T01:21:45.543206Z"
    }
   },
   "outputs": [
    {
     "name": "stdout",
     "output_type": "stream",
     "text": [
      "69/69 [==============================] - 1s 9ms/step\n",
      "[14  1 16 ... 11  9 12]\n",
      "              precision    recall  f1-score   support\n",
      "\n",
      "           0       0.54      0.49      0.51        68\n",
      "           1       0.80      0.72      0.75       176\n",
      "           2       0.66      0.76      0.71        97\n",
      "           3       0.75      0.66      0.70        90\n",
      "           4       0.69      0.53      0.60        93\n",
      "           5       0.68      0.72      0.70       108\n",
      "           6       0.80      0.79      0.79       126\n",
      "           7       0.71      0.76      0.73       136\n",
      "           8       0.61      0.57      0.59       122\n",
      "           9       0.77      0.64      0.70       155\n",
      "          10       0.57      0.59      0.58        61\n",
      "          11       0.58      0.64      0.61       172\n",
      "          12       0.73      0.77      0.75       182\n",
      "          13       0.63      0.63      0.63       151\n",
      "          14       0.55      0.55      0.55       200\n",
      "          15       0.78      0.89      0.83       169\n",
      "          16       0.85      0.97      0.91        77\n",
      "\n",
      "    accuracy                           0.69      2183\n",
      "   macro avg       0.69      0.69      0.68      2183\n",
      "weighted avg       0.69      0.69      0.69      2183\n",
      "\n"
     ]
    }
   ],
   "source": [
    "predictions = np.argmax(cnn_model5.predict(X_test), axis=-1)\n",
    "\n",
    "print(predictions)\n",
    "\n",
    "print(classification_report(y_test.values , predictions))"
   ]
  },
  {
   "cell_type": "code",
   "execution_count": 157,
   "id": "a701350f",
   "metadata": {
    "ExecuteTime": {
     "end_time": "2024-01-22T01:21:54.451976Z",
     "start_time": "2024-01-22T01:21:54.449140Z"
    }
   },
   "outputs": [],
   "source": [
    "# okay im sad rn"
   ]
  },
  {
   "cell_type": "markdown",
   "id": "0dccecbd",
   "metadata": {},
   "source": [
    "# TRYING TO CREATE A 2D CONV NN"
   ]
  },
  {
   "cell_type": "code",
   "execution_count": 158,
   "id": "f0aafbd0",
   "metadata": {
    "ExecuteTime": {
     "end_time": "2024-01-22T01:26:16.304405Z",
     "start_time": "2024-01-22T01:26:16.300534Z"
    }
   },
   "outputs": [],
   "source": [
    "X_train = np.expand_dims(X_train , -1)"
   ]
  },
  {
   "cell_type": "code",
   "execution_count": 159,
   "id": "19a0438c",
   "metadata": {
    "ExecuteTime": {
     "end_time": "2024-01-22T01:26:27.906417Z",
     "start_time": "2024-01-22T01:26:27.901461Z"
    }
   },
   "outputs": [
    {
     "data": {
      "text/plain": [
       "(8732, 200, 1)"
      ]
     },
     "execution_count": 159,
     "metadata": {},
     "output_type": "execute_result"
    }
   ],
   "source": [
    "X_train.shape"
   ]
  },
  {
   "cell_type": "code",
   "execution_count": 160,
   "id": "893b0ac0",
   "metadata": {
    "ExecuteTime": {
     "end_time": "2024-01-22T01:26:49.866752Z",
     "start_time": "2024-01-22T01:26:49.863056Z"
    }
   },
   "outputs": [],
   "source": [
    "X_train4d = np.expand_dims(X_train , -1)"
   ]
  },
  {
   "cell_type": "code",
   "execution_count": 163,
   "id": "03945199",
   "metadata": {
    "ExecuteTime": {
     "end_time": "2024-01-22T01:27:16.609028Z",
     "start_time": "2024-01-22T01:27:16.603028Z"
    }
   },
   "outputs": [
    {
     "data": {
      "text/plain": [
       "(8732, 200, 1, 1)"
      ]
     },
     "execution_count": 163,
     "metadata": {},
     "output_type": "execute_result"
    }
   ],
   "source": [
    "X_train4d.shape # ok really good , lets do it for X_test now"
   ]
  },
  {
   "cell_type": "code",
   "execution_count": 164,
   "id": "2b201ed5",
   "metadata": {
    "ExecuteTime": {
     "end_time": "2024-01-22T01:27:54.148849Z",
     "start_time": "2024-01-22T01:27:54.140849Z"
    }
   },
   "outputs": [],
   "source": [
    "X_test = np.expand_dims(X_test , -1)\n",
    "X_test4d = np.expand_dims(X_test , -1)"
   ]
  },
  {
   "cell_type": "code",
   "execution_count": 169,
   "id": "cd47fe4c",
   "metadata": {
    "ExecuteTime": {
     "end_time": "2024-01-22T01:32:30.634312Z",
     "start_time": "2024-01-22T01:32:30.469265Z"
    }
   },
   "outputs": [],
   "source": [
    "cnn_model_2d = tf.keras.Sequential()\n",
    "cnn_model_2d.add(tf.keras.layers.Conv2D(256,2,input_shape=(in_dim,1,1), activation='leaky_relu' ,padding=\"same\")) # for the first comment 256 == 128\n",
    "cnn_model_2d.add(tf.keras.layers.MaxPool2D(padding=\"same\"))\n",
    "cnn_model_2d.add(tf.keras.layers.Conv2D(128,2,activation='leaky_relu' , padding=\"same\")) #for the first comment 128 == 64\n",
    "cnn_model_2d.add(tf.keras.layers.MaxPool2D(padding=\"same\"))\n",
    "cnn_model_2d.add(tf.keras.layers.Conv2D(128,2,activation='leaky_relu',padding=\"same\")) \n",
    "cnn_model_2d.add(tf.keras.layers.MaxPool2D(padding=\"same\"))\n",
    "cnn_model_2d.add(tf.keras.layers.Conv2D(64,2,activation='leaky_relu',padding=\"same\"))\n",
    "cnn_model_2d.add(tf.keras.layers.MaxPool2D(padding=\"same\"))\n",
    "cnn_model_2d.add(tf.keras.layers.BatchNormalization())\n",
    "cnn_model_2d.add(tf.keras.layers.Flatten())\n",
    "cnn_model_2d.add(tf.keras.layers.Dense(64,activation='leaky_relu'))\n",
    "cnn_model_2d.add(tf.keras.layers.Dense(32,activation='leaky_relu'))\n",
    "cnn_model_2d.add(tf.keras.layers.Dense(17,activation='softmax'))"
   ]
  },
  {
   "cell_type": "code",
   "execution_count": 170,
   "id": "1ee677eb",
   "metadata": {
    "ExecuteTime": {
     "end_time": "2024-01-22T01:32:41.228041Z",
     "start_time": "2024-01-22T01:32:41.221041Z"
    }
   },
   "outputs": [],
   "source": [
    "opt = tf.keras.optimizers.AdamW(learning_rate =0.00005 , beta_1=0.9,\n",
    "    beta_2=0.999,\n",
    "    use_ema=True,\n",
    "    ema_momentum=0.99)"
   ]
  },
  {
   "cell_type": "code",
   "execution_count": 172,
   "id": "4d5ecd0a",
   "metadata": {
    "ExecuteTime": {
     "end_time": "2024-01-22T01:33:15.053988Z",
     "start_time": "2024-01-22T01:33:15.032683Z"
    }
   },
   "outputs": [],
   "source": [
    "cnn_model_2d.compile(optimizer=opt, \n",
    "          loss = 'categorical_crossentropy',\n",
    "          metrics=[tf.keras.metrics.BinaryAccuracy(name='accuracy'),\n",
    "                   tf.keras.metrics.Precision(name='precision') ,\n",
    "                   tf.keras.metrics.Recall(name='recall')])"
   ]
  },
  {
   "cell_type": "code",
   "execution_count": 173,
   "id": "a1a0942b",
   "metadata": {
    "ExecuteTime": {
     "end_time": "2024-01-22T01:34:04.108647Z",
     "start_time": "2024-01-22T01:33:16.472523Z"
    }
   },
   "outputs": [
    {
     "name": "stdout",
     "output_type": "stream",
     "text": [
      "Epoch 1/5\n",
      "110/110 [==============================] - 11s 85ms/step - loss: 2.7657 - accuracy: 0.9412 - precision: 0.0000e+00 - recall: 0.0000e+00 - val_loss: 2.8206 - val_accuracy: 0.9412 - val_precision: 0.0000e+00 - val_recall: 0.0000e+00\n",
      "Epoch 2/5\n",
      "110/110 [==============================] - 9s 78ms/step - loss: 2.4839 - accuracy: 0.9412 - precision: 1.0000 - recall: 1.4316e-04 - val_loss: 2.7642 - val_accuracy: 0.9412 - val_precision: 0.0000e+00 - val_recall: 0.0000e+00\n",
      "Epoch 3/5\n",
      "110/110 [==============================] - 9s 81ms/step - loss: 1.9907 - accuracy: 0.9437 - precision: 0.8895 - recall: 0.0484 - val_loss: 2.5552 - val_accuracy: 0.9412 - val_precision: 0.0000e+00 - val_recall: 0.0000e+00\n",
      "Epoch 4/5\n",
      "110/110 [==============================] - 10s 87ms/step - loss: 1.5838 - accuracy: 0.9508 - precision: 0.8461 - recall: 0.1991 - val_loss: 2.1235 - val_accuracy: 0.9412 - val_precision: 0.0000e+00 - val_recall: 0.0000e+00\n",
      "Epoch 5/5\n",
      "110/110 [==============================] - 9s 83ms/step - loss: 1.3933 - accuracy: 0.9554 - precision: 0.8076 - recall: 0.3184 - val_loss: 1.6673 - val_accuracy: 0.9481 - val_precision: 0.9124 - val_recall: 0.1311\n"
     ]
    },
    {
     "data": {
      "text/plain": [
       "<keras.src.callbacks.History at 0x2e474bb8750>"
      ]
     },
     "execution_count": 173,
     "metadata": {},
     "output_type": "execute_result"
    }
   ],
   "source": [
    "cnn_model_2d.fit(X_train,y_train1 ,batch_size = 64 ,epochs = 5 ,validation_split = (0.2) ,verbose =1)"
   ]
  },
  {
   "cell_type": "code",
   "execution_count": 174,
   "id": "004bd55f",
   "metadata": {
    "ExecuteTime": {
     "end_time": "2024-01-22T01:34:06.142678Z",
     "start_time": "2024-01-22T01:34:05.054845Z"
    }
   },
   "outputs": [
    {
     "name": "stdout",
     "output_type": "stream",
     "text": [
      "69/69 [==============================] - 1s 11ms/step\n",
      "[14  1 16 ... 11 14 12]\n",
      "              precision    recall  f1-score   support\n",
      "\n",
      "           0       0.33      0.18      0.23        68\n",
      "           1       0.66      0.58      0.62       176\n",
      "           2       0.80      0.48      0.60        97\n",
      "           3       0.78      0.56      0.65        90\n",
      "           4       0.70      0.38      0.49        93\n",
      "           5       0.66      0.53      0.58       108\n",
      "           6       0.66      0.77      0.71       126\n",
      "           7       0.71      0.45      0.55       136\n",
      "           8       0.54      0.41      0.47       122\n",
      "           9       0.78      0.40      0.53       155\n",
      "          10       0.55      0.44      0.49        61\n",
      "          11       0.52      0.49      0.51       172\n",
      "          12       0.63      0.71      0.67       182\n",
      "          13       0.54      0.58      0.56       151\n",
      "          14       0.27      0.62      0.38       200\n",
      "          15       0.67      0.82      0.74       169\n",
      "          16       0.86      0.91      0.89        77\n",
      "\n",
      "    accuracy                           0.57      2183\n",
      "   macro avg       0.63      0.55      0.57      2183\n",
      "weighted avg       0.61      0.57      0.57      2183\n",
      "\n"
     ]
    }
   ],
   "source": [
    "predictions = np.argmax(cnn_model_2d.predict(X_test), axis=-1)\n",
    "\n",
    "print(predictions)\n",
    "\n",
    "print(classification_report(y_test.values , predictions))"
   ]
  },
  {
   "cell_type": "code",
   "execution_count": 175,
   "id": "f150e106",
   "metadata": {
    "ExecuteTime": {
     "end_time": "2024-01-22T01:34:21.283544Z",
     "start_time": "2024-01-22T01:34:21.279544Z"
    }
   },
   "outputs": [],
   "source": [
    "# wow I expected it to be actually shittier"
   ]
  },
  {
   "cell_type": "code",
   "execution_count": 176,
   "id": "372b5cfd",
   "metadata": {
    "ExecuteTime": {
     "end_time": "2024-01-22T01:36:41.746167Z",
     "start_time": "2024-01-22T01:34:31.272911Z"
    }
   },
   "outputs": [
    {
     "name": "stdout",
     "output_type": "stream",
     "text": [
      "Epoch 1/15\n",
      "110/110 [==============================] - 9s 85ms/step - loss: 1.4020 - accuracy: 0.9549 - precision: 0.8173 - recall: 0.2998 - val_loss: 1.5059 - val_accuracy: 0.9532 - val_precision: 0.8668 - val_recall: 0.2421\n",
      "Epoch 2/15\n",
      "110/110 [==============================] - 9s 80ms/step - loss: 1.3078 - accuracy: 0.9576 - precision: 0.7992 - recall: 0.3732 - val_loss: 1.3862 - val_accuracy: 0.9581 - val_precision: 0.8036 - val_recall: 0.3818\n",
      "Epoch 3/15\n",
      "110/110 [==============================] - 8s 77ms/step - loss: 1.2435 - accuracy: 0.9594 - precision: 0.7943 - recall: 0.4175 - val_loss: 1.3097 - val_accuracy: 0.9593 - val_precision: 0.7808 - val_recall: 0.4282\n",
      "Epoch 4/15\n",
      "110/110 [==============================] - 8s 77ms/step - loss: 1.1976 - accuracy: 0.9605 - precision: 0.7868 - recall: 0.4497 - val_loss: 1.2947 - val_accuracy: 0.9601 - val_precision: 0.7763 - val_recall: 0.4528\n",
      "Epoch 5/15\n",
      "110/110 [==============================] - 9s 77ms/step - loss: 1.1621 - accuracy: 0.9614 - precision: 0.7948 - recall: 0.4646 - val_loss: 1.2446 - val_accuracy: 0.9610 - val_precision: 0.7712 - val_recall: 0.4785\n",
      "Epoch 6/15\n",
      "110/110 [==============================] - 9s 77ms/step - loss: 1.1293 - accuracy: 0.9621 - precision: 0.7898 - recall: 0.4846 - val_loss: 1.2306 - val_accuracy: 0.9611 - val_precision: 0.7638 - val_recall: 0.4906\n",
      "Epoch 7/15\n",
      "110/110 [==============================] - 9s 79ms/step - loss: 1.1040 - accuracy: 0.9628 - precision: 0.7904 - recall: 0.5005 - val_loss: 1.2199 - val_accuracy: 0.9609 - val_precision: 0.7584 - val_recall: 0.4923\n",
      "Epoch 8/15\n",
      "110/110 [==============================] - 9s 81ms/step - loss: 1.0838 - accuracy: 0.9632 - precision: 0.7897 - recall: 0.5102 - val_loss: 1.1994 - val_accuracy: 0.9616 - val_precision: 0.7657 - val_recall: 0.5014\n",
      "Epoch 9/15\n",
      "110/110 [==============================] - 9s 78ms/step - loss: 1.0596 - accuracy: 0.9640 - precision: 0.7959 - recall: 0.5208 - val_loss: 1.1903 - val_accuracy: 0.9614 - val_precision: 0.7521 - val_recall: 0.5140\n",
      "Epoch 10/15\n",
      "110/110 [==============================] - 9s 79ms/step - loss: 1.0427 - accuracy: 0.9644 - precision: 0.7959 - recall: 0.5310 - val_loss: 1.1738 - val_accuracy: 0.9624 - val_precision: 0.7671 - val_recall: 0.5186\n",
      "Epoch 11/15\n",
      "110/110 [==============================] - 9s 79ms/step - loss: 1.0259 - accuracy: 0.9649 - precision: 0.7977 - recall: 0.5409 - val_loss: 1.1624 - val_accuracy: 0.9626 - val_precision: 0.7641 - val_recall: 0.5266\n",
      "Epoch 12/15\n",
      "110/110 [==============================] - 9s 78ms/step - loss: 1.0100 - accuracy: 0.9649 - precision: 0.7954 - recall: 0.5432 - val_loss: 1.1500 - val_accuracy: 0.9625 - val_precision: 0.7528 - val_recall: 0.5386\n",
      "Epoch 13/15\n",
      "110/110 [==============================] - 9s 78ms/step - loss: 0.9940 - accuracy: 0.9656 - precision: 0.7997 - recall: 0.5538 - val_loss: 1.1486 - val_accuracy: 0.9622 - val_precision: 0.7564 - val_recall: 0.5278\n",
      "Epoch 14/15\n",
      "110/110 [==============================] - 9s 80ms/step - loss: 0.9801 - accuracy: 0.9663 - precision: 0.8041 - recall: 0.5648 - val_loss: 1.1433 - val_accuracy: 0.9630 - val_precision: 0.7634 - val_recall: 0.5375\n",
      "Epoch 15/15\n",
      "110/110 [==============================] - 9s 79ms/step - loss: 0.9674 - accuracy: 0.9664 - precision: 0.8020 - recall: 0.5699 - val_loss: 1.1282 - val_accuracy: 0.9629 - val_precision: 0.7605 - val_recall: 0.5398\n"
     ]
    },
    {
     "data": {
      "text/plain": [
       "<keras.src.callbacks.History at 0x2e4754f4250>"
      ]
     },
     "execution_count": 176,
     "metadata": {},
     "output_type": "execute_result"
    }
   ],
   "source": [
    "cnn_model_2d.fit(X_train,y_train1 ,batch_size = 64 ,epochs = 15 ,validation_split = (0.2) ,verbose =1)"
   ]
  },
  {
   "cell_type": "code",
   "execution_count": 177,
   "id": "b8ccc2f4",
   "metadata": {
    "ExecuteTime": {
     "end_time": "2024-01-22T01:36:46.073662Z",
     "start_time": "2024-01-22T01:36:45.040404Z"
    }
   },
   "outputs": [
    {
     "name": "stdout",
     "output_type": "stream",
     "text": [
      "69/69 [==============================] - 1s 13ms/step\n",
      "[14  1 16 ... 11  9 12]\n",
      "              precision    recall  f1-score   support\n",
      "\n",
      "           0       0.56      0.40      0.47        68\n",
      "           1       0.78      0.72      0.75       176\n",
      "           2       0.65      0.78      0.71        97\n",
      "           3       0.65      0.62      0.64        90\n",
      "           4       0.74      0.53      0.62        93\n",
      "           5       0.63      0.73      0.68       108\n",
      "           6       0.81      0.81      0.81       126\n",
      "           7       0.71      0.74      0.72       136\n",
      "           8       0.60      0.58      0.59       122\n",
      "           9       0.80      0.63      0.71       155\n",
      "          10       0.57      0.56      0.56        61\n",
      "          11       0.59      0.63      0.61       172\n",
      "          12       0.73      0.77      0.75       182\n",
      "          13       0.62      0.62      0.62       151\n",
      "          14       0.53      0.56      0.55       200\n",
      "          15       0.79      0.86      0.82       169\n",
      "          16       0.84      0.95      0.89        77\n",
      "\n",
      "    accuracy                           0.68      2183\n",
      "   macro avg       0.68      0.68      0.68      2183\n",
      "weighted avg       0.69      0.68      0.68      2183\n",
      "\n"
     ]
    }
   ],
   "source": [
    "predictions = np.argmax(cnn_model_2d.predict(X_test), axis=-1)\n",
    "\n",
    "print(predictions)\n",
    "\n",
    "print(classification_report(y_test.values , predictions))"
   ]
  },
  {
   "cell_type": "code",
   "execution_count": 179,
   "id": "59e7c6ad",
   "metadata": {
    "ExecuteTime": {
     "end_time": "2024-01-22T01:37:39.136435Z",
     "start_time": "2024-01-22T01:37:39.132887Z"
    }
   },
   "outputs": [],
   "source": [
    "# Wow it really did not imporeve at all , ma einai kati pio vathi pou me lerwnei\n",
    "# Lets try and standarize aour data first"
   ]
  },
  {
   "cell_type": "code",
   "execution_count": 186,
   "id": "8cc91583",
   "metadata": {
    "ExecuteTime": {
     "end_time": "2024-01-22T01:41:57.823878Z",
     "start_time": "2024-01-22T01:39:36.056906Z"
    }
   },
   "outputs": [
    {
     "name": "stdout",
     "output_type": "stream",
     "text": [
      "Epoch 1/15\n",
      "110/110 [==============================] - 10s 89ms/step - loss: 0.9640 - accuracy: 0.9666 - precision: 0.8053 - recall: 0.5704 - val_loss: 1.1312 - val_accuracy: 0.9627 - val_precision: 0.7575 - val_recall: 0.5381\n",
      "Epoch 2/15\n",
      "110/110 [==============================] - 9s 84ms/step - loss: 0.9541 - accuracy: 0.9672 - precision: 0.8089 - recall: 0.5782 - val_loss: 1.1216 - val_accuracy: 0.9631 - val_precision: 0.7565 - val_recall: 0.5495\n",
      "Epoch 3/15\n",
      "110/110 [==============================] - 9s 82ms/step - loss: 0.9421 - accuracy: 0.9673 - precision: 0.8095 - recall: 0.5815 - val_loss: 1.1171 - val_accuracy: 0.9627 - val_precision: 0.7512 - val_recall: 0.5461\n",
      "Epoch 4/15\n",
      "110/110 [==============================] - 9s 80ms/step - loss: 0.9310 - accuracy: 0.9677 - precision: 0.8116 - recall: 0.5870 - val_loss: 1.1069 - val_accuracy: 0.9636 - val_precision: 0.7598 - val_recall: 0.5575\n",
      "Epoch 5/15\n",
      "110/110 [==============================] - 9s 82ms/step - loss: 0.9195 - accuracy: 0.9678 - precision: 0.8123 - recall: 0.5891 - val_loss: 1.1047 - val_accuracy: 0.9633 - val_precision: 0.7504 - val_recall: 0.5627\n",
      "Epoch 6/15\n",
      "110/110 [==============================] - 9s 85ms/step - loss: 0.9090 - accuracy: 0.9684 - precision: 0.8147 - recall: 0.5999 - val_loss: 1.0999 - val_accuracy: 0.9633 - val_precision: 0.7515 - val_recall: 0.5627\n",
      "Epoch 7/15\n",
      "110/110 [==============================] - 10s 86ms/step - loss: 0.8984 - accuracy: 0.9684 - precision: 0.8147 - recall: 0.6000 - val_loss: 1.0974 - val_accuracy: 0.9641 - val_precision: 0.7660 - val_recall: 0.5621\n",
      "Epoch 8/15\n",
      "110/110 [==============================] - 9s 86ms/step - loss: 0.8871 - accuracy: 0.9689 - precision: 0.8161 - recall: 0.6092 - val_loss: 1.0949 - val_accuracy: 0.9637 - val_precision: 0.7585 - val_recall: 0.5610\n",
      "Epoch 9/15\n",
      "110/110 [==============================] - 10s 88ms/step - loss: 0.8814 - accuracy: 0.9690 - precision: 0.8181 - recall: 0.6092 - val_loss: 1.0843 - val_accuracy: 0.9639 - val_precision: 0.7590 - val_recall: 0.5661\n",
      "Epoch 10/15\n",
      "110/110 [==============================] - 10s 89ms/step - loss: 0.8688 - accuracy: 0.9691 - precision: 0.8164 - recall: 0.6130 - val_loss: 1.0821 - val_accuracy: 0.9641 - val_precision: 0.7584 - val_recall: 0.5713\n",
      "Epoch 11/15\n",
      "110/110 [==============================] - 9s 86ms/step - loss: 0.8612 - accuracy: 0.9697 - precision: 0.8203 - recall: 0.6208 - val_loss: 1.0778 - val_accuracy: 0.9643 - val_precision: 0.7622 - val_recall: 0.5724\n",
      "Epoch 12/15\n",
      "110/110 [==============================] - 10s 86ms/step - loss: 0.8534 - accuracy: 0.9698 - precision: 0.8235 - recall: 0.6200 - val_loss: 1.0747 - val_accuracy: 0.9644 - val_precision: 0.7646 - val_recall: 0.5707\n",
      "Epoch 13/15\n",
      "110/110 [==============================] - 10s 87ms/step - loss: 0.8414 - accuracy: 0.9703 - precision: 0.8261 - recall: 0.6279 - val_loss: 1.0766 - val_accuracy: 0.9645 - val_precision: 0.7641 - val_recall: 0.5730\n",
      "Epoch 14/15\n",
      "110/110 [==============================] - 10s 88ms/step - loss: 0.8347 - accuracy: 0.9709 - precision: 0.8310 - recall: 0.6338 - val_loss: 1.0746 - val_accuracy: 0.9642 - val_precision: 0.7530 - val_recall: 0.5827\n",
      "Epoch 15/15\n",
      "110/110 [==============================] - 10s 87ms/step - loss: 0.8265 - accuracy: 0.9710 - precision: 0.8319 - recall: 0.6361 - val_loss: 1.0835 - val_accuracy: 0.9644 - val_precision: 0.7573 - val_recall: 0.5821\n"
     ]
    },
    {
     "data": {
      "text/plain": [
       "<keras.src.callbacks.History at 0x2e477610a90>"
      ]
     },
     "execution_count": 186,
     "metadata": {},
     "output_type": "execute_result"
    }
   ],
   "source": [
    "cnn_model_2d.fit(X_train,y_train1 ,batch_size = 64 ,epochs = 15 ,validation_split = (0.2) ,verbose =1)"
   ]
  },
  {
   "cell_type": "code",
   "execution_count": 187,
   "id": "3dc250e5",
   "metadata": {
    "ExecuteTime": {
     "end_time": "2024-01-22T01:42:01.727959Z",
     "start_time": "2024-01-22T01:42:00.705360Z"
    }
   },
   "outputs": [
    {
     "name": "stdout",
     "output_type": "stream",
     "text": [
      "69/69 [==============================] - 1s 13ms/step\n",
      "[14  1 16 ... 11  9 12]\n",
      "              precision    recall  f1-score   support\n",
      "\n",
      "           0       0.60      0.46      0.52        68\n",
      "           1       0.78      0.75      0.77       176\n",
      "           2       0.67      0.79      0.73        97\n",
      "           3       0.73      0.63      0.68        90\n",
      "           4       0.75      0.56      0.64        93\n",
      "           5       0.67      0.74      0.70       108\n",
      "           6       0.82      0.83      0.83       126\n",
      "           7       0.70      0.75      0.72       136\n",
      "           8       0.62      0.61      0.61       122\n",
      "           9       0.79      0.66      0.72       155\n",
      "          10       0.58      0.56      0.57        61\n",
      "          11       0.60      0.64      0.62       172\n",
      "          12       0.75      0.76      0.76       182\n",
      "          13       0.66      0.63      0.64       151\n",
      "          14       0.54      0.58      0.56       200\n",
      "          15       0.81      0.88      0.84       169\n",
      "          16       0.85      0.96      0.90        77\n",
      "\n",
      "    accuracy                           0.70      2183\n",
      "   macro avg       0.70      0.69      0.69      2183\n",
      "weighted avg       0.70      0.70      0.70      2183\n",
      "\n"
     ]
    }
   ],
   "source": [
    "predictions = np.argmax(cnn_model_2d.predict(X_test), axis=-1)\n",
    "\n",
    "print(predictions)\n",
    "\n",
    "print(classification_report(y_test.values , predictions))"
   ]
  },
  {
   "cell_type": "code",
   "execution_count": 188,
   "id": "0984e03f",
   "metadata": {
    "ExecuteTime": {
     "end_time": "2024-01-22T01:42:13.157881Z",
     "start_time": "2024-01-22T01:42:13.154882Z"
    }
   },
   "outputs": [],
   "source": [
    "# one more time maybe?"
   ]
  },
  {
   "cell_type": "code",
   "execution_count": 189,
   "id": "ae92c0ed",
   "metadata": {
    "ExecuteTime": {
     "end_time": "2024-01-22T01:44:55.746486Z",
     "start_time": "2024-01-22T01:42:34.869395Z"
    }
   },
   "outputs": [
    {
     "name": "stdout",
     "output_type": "stream",
     "text": [
      "Epoch 1/15\n",
      "110/110 [==============================] - 9s 83ms/step - loss: 0.8245 - accuracy: 0.9709 - precision: 0.8282 - recall: 0.6368 - val_loss: 1.0811 - val_accuracy: 0.9645 - val_precision: 0.7627 - val_recall: 0.5758\n",
      "Epoch 2/15\n",
      "110/110 [==============================] - 9s 82ms/step - loss: 0.8170 - accuracy: 0.9713 - precision: 0.8320 - recall: 0.6425 - val_loss: 1.0689 - val_accuracy: 0.9649 - val_precision: 0.7648 - val_recall: 0.5827\n",
      "Epoch 3/15\n",
      "110/110 [==============================] - 9s 82ms/step - loss: 0.8075 - accuracy: 0.9715 - precision: 0.8344 - recall: 0.6434 - val_loss: 1.0769 - val_accuracy: 0.9649 - val_precision: 0.7686 - val_recall: 0.5781\n",
      "Epoch 4/15\n",
      "110/110 [==============================] - 9s 82ms/step - loss: 0.8029 - accuracy: 0.9717 - precision: 0.8349 - recall: 0.6474 - val_loss: 1.0622 - val_accuracy: 0.9645 - val_precision: 0.7590 - val_recall: 0.5821\n",
      "Epoch 5/15\n",
      "110/110 [==============================] - 9s 84ms/step - loss: 0.7924 - accuracy: 0.9717 - precision: 0.8327 - recall: 0.6504 - val_loss: 1.0678 - val_accuracy: 0.9640 - val_precision: 0.7522 - val_recall: 0.5787\n",
      "Epoch 6/15\n",
      "110/110 [==============================] - 9s 82ms/step - loss: 0.7838 - accuracy: 0.9721 - precision: 0.8373 - recall: 0.6527 - val_loss: 1.0606 - val_accuracy: 0.9649 - val_precision: 0.7613 - val_recall: 0.5879\n",
      "Epoch 7/15\n",
      "110/110 [==============================] - 9s 82ms/step - loss: 0.7765 - accuracy: 0.9725 - precision: 0.8404 - recall: 0.6581 - val_loss: 1.0635 - val_accuracy: 0.9644 - val_precision: 0.7539 - val_recall: 0.5856\n",
      "Epoch 8/15\n",
      "110/110 [==============================] - 9s 82ms/step - loss: 0.7679 - accuracy: 0.9727 - precision: 0.8414 - recall: 0.6607 - val_loss: 1.0552 - val_accuracy: 0.9649 - val_precision: 0.7565 - val_recall: 0.5959\n",
      "Epoch 9/15\n",
      "110/110 [==============================] - 9s 85ms/step - loss: 0.7609 - accuracy: 0.9730 - precision: 0.8408 - recall: 0.6674 - val_loss: 1.0622 - val_accuracy: 0.9648 - val_precision: 0.7602 - val_recall: 0.5879\n",
      "Epoch 10/15\n",
      "110/110 [==============================] - 9s 84ms/step - loss: 0.7542 - accuracy: 0.9732 - precision: 0.8425 - recall: 0.6694 - val_loss: 1.0501 - val_accuracy: 0.9653 - val_precision: 0.7626 - val_recall: 0.5959\n",
      "Epoch 11/15\n",
      "110/110 [==============================] - 9s 84ms/step - loss: 0.7489 - accuracy: 0.9734 - precision: 0.8445 - recall: 0.6717 - val_loss: 1.0500 - val_accuracy: 0.9651 - val_precision: 0.7616 - val_recall: 0.5924\n",
      "Epoch 12/15\n",
      "110/110 [==============================] - 9s 85ms/step - loss: 0.7396 - accuracy: 0.9738 - precision: 0.8484 - recall: 0.6747 - val_loss: 1.0450 - val_accuracy: 0.9649 - val_precision: 0.7588 - val_recall: 0.5924\n",
      "Epoch 13/15\n",
      "110/110 [==============================] - 9s 86ms/step - loss: 0.7330 - accuracy: 0.9740 - precision: 0.8489 - recall: 0.6786 - val_loss: 1.0509 - val_accuracy: 0.9655 - val_precision: 0.7618 - val_recall: 0.6005\n",
      "Epoch 14/15\n",
      "110/110 [==============================] - 11s 98ms/step - loss: 0.7248 - accuracy: 0.9740 - precision: 0.8486 - recall: 0.6795 - val_loss: 1.0525 - val_accuracy: 0.9652 - val_precision: 0.7579 - val_recall: 0.6005\n",
      "Epoch 15/15\n",
      "110/110 [==============================] - 11s 100ms/step - loss: 0.7185 - accuracy: 0.9741 - precision: 0.8485 - recall: 0.6815 - val_loss: 1.0533 - val_accuracy: 0.9646 - val_precision: 0.7535 - val_recall: 0.5930\n"
     ]
    },
    {
     "data": {
      "text/plain": [
       "<keras.src.callbacks.History at 0x2e47762af90>"
      ]
     },
     "execution_count": 189,
     "metadata": {},
     "output_type": "execute_result"
    }
   ],
   "source": [
    "cnn_model_2d.fit(X_train,y_train1 ,batch_size = 64 ,epochs = 15 ,validation_split = (0.2) ,verbose =1)"
   ]
  },
  {
   "cell_type": "code",
   "execution_count": 190,
   "id": "02ee576f",
   "metadata": {
    "ExecuteTime": {
     "end_time": "2024-01-22T01:44:58.220675Z",
     "start_time": "2024-01-22T01:44:57.100589Z"
    }
   },
   "outputs": [
    {
     "name": "stdout",
     "output_type": "stream",
     "text": [
      "69/69 [==============================] - 1s 13ms/step\n",
      "[14  1 16 ... 11  9 12]\n",
      "              precision    recall  f1-score   support\n",
      "\n",
      "           0       0.62      0.44      0.52        68\n",
      "           1       0.77      0.76      0.76       176\n",
      "           2       0.68      0.79      0.73        97\n",
      "           3       0.73      0.63      0.68        90\n",
      "           4       0.76      0.57      0.65        93\n",
      "           5       0.66      0.76      0.70       108\n",
      "           6       0.84      0.82      0.83       126\n",
      "           7       0.70      0.76      0.73       136\n",
      "           8       0.66      0.63      0.64       122\n",
      "           9       0.78      0.67      0.72       155\n",
      "          10       0.62      0.64      0.63        61\n",
      "          11       0.60      0.63      0.62       172\n",
      "          12       0.74      0.76      0.75       182\n",
      "          13       0.64      0.64      0.64       151\n",
      "          14       0.57      0.58      0.57       200\n",
      "          15       0.83      0.87      0.85       169\n",
      "          16       0.84      0.96      0.90        77\n",
      "\n",
      "    accuracy                           0.71      2183\n",
      "   macro avg       0.71      0.70      0.70      2183\n",
      "weighted avg       0.71      0.71      0.70      2183\n",
      "\n"
     ]
    }
   ],
   "source": [
    "predictions = np.argmax(cnn_model_2d.predict(X_test), axis=-1)\n",
    "\n",
    "print(predictions)\n",
    "\n",
    "print(classification_report(y_test.values , predictions))"
   ]
  },
  {
   "cell_type": "code",
   "execution_count": 191,
   "id": "4cc168b5",
   "metadata": {
    "ExecuteTime": {
     "end_time": "2024-01-22T01:45:21.609103Z",
     "start_time": "2024-01-22T01:45:21.605466Z"
    }
   },
   "outputs": [],
   "source": [
    "# there is room for improvement , but I AM WAY TO BORED TO DO THAT"
   ]
  },
  {
   "cell_type": "markdown",
   "id": "c1d5ebf2",
   "metadata": {},
   "source": [
    "# RUNNING STANDARIZATION FOR ALL OUR MODELS"
   ]
  },
  {
   "cell_type": "code",
   "execution_count": 180,
   "id": "cf8a56d3",
   "metadata": {
    "ExecuteTime": {
     "end_time": "2024-01-22T01:38:01.051802Z",
     "start_time": "2024-01-22T01:38:01.047730Z"
    }
   },
   "outputs": [],
   "source": [
    "from sklearn.preprocessing import StandardScaler"
   ]
  },
  {
   "cell_type": "code",
   "execution_count": 181,
   "id": "3057e0f0",
   "metadata": {
    "ExecuteTime": {
     "end_time": "2024-01-22T01:38:09.037425Z",
     "start_time": "2024-01-22T01:38:09.033905Z"
    }
   },
   "outputs": [],
   "source": [
    "scaler = StandardScaler()"
   ]
  },
  {
   "cell_type": "code",
   "execution_count": 182,
   "id": "0f825ff3",
   "metadata": {
    "ExecuteTime": {
     "end_time": "2024-01-22T01:38:22.496234Z",
     "start_time": "2024-01-22T01:38:22.456695Z"
    }
   },
   "outputs": [
    {
     "data": {
      "text/html": [
       "<style>#sk-container-id-1 {color: black;}#sk-container-id-1 pre{padding: 0;}#sk-container-id-1 div.sk-toggleable {background-color: white;}#sk-container-id-1 label.sk-toggleable__label {cursor: pointer;display: block;width: 100%;margin-bottom: 0;padding: 0.3em;box-sizing: border-box;text-align: center;}#sk-container-id-1 label.sk-toggleable__label-arrow:before {content: \"▸\";float: left;margin-right: 0.25em;color: #696969;}#sk-container-id-1 label.sk-toggleable__label-arrow:hover:before {color: black;}#sk-container-id-1 div.sk-estimator:hover label.sk-toggleable__label-arrow:before {color: black;}#sk-container-id-1 div.sk-toggleable__content {max-height: 0;max-width: 0;overflow: hidden;text-align: left;background-color: #f0f8ff;}#sk-container-id-1 div.sk-toggleable__content pre {margin: 0.2em;color: black;border-radius: 0.25em;background-color: #f0f8ff;}#sk-container-id-1 input.sk-toggleable__control:checked~div.sk-toggleable__content {max-height: 200px;max-width: 100%;overflow: auto;}#sk-container-id-1 input.sk-toggleable__control:checked~label.sk-toggleable__label-arrow:before {content: \"▾\";}#sk-container-id-1 div.sk-estimator input.sk-toggleable__control:checked~label.sk-toggleable__label {background-color: #d4ebff;}#sk-container-id-1 div.sk-label input.sk-toggleable__control:checked~label.sk-toggleable__label {background-color: #d4ebff;}#sk-container-id-1 input.sk-hidden--visually {border: 0;clip: rect(1px 1px 1px 1px);clip: rect(1px, 1px, 1px, 1px);height: 1px;margin: -1px;overflow: hidden;padding: 0;position: absolute;width: 1px;}#sk-container-id-1 div.sk-estimator {font-family: monospace;background-color: #f0f8ff;border: 1px dotted black;border-radius: 0.25em;box-sizing: border-box;margin-bottom: 0.5em;}#sk-container-id-1 div.sk-estimator:hover {background-color: #d4ebff;}#sk-container-id-1 div.sk-parallel-item::after {content: \"\";width: 100%;border-bottom: 1px solid gray;flex-grow: 1;}#sk-container-id-1 div.sk-label:hover label.sk-toggleable__label {background-color: #d4ebff;}#sk-container-id-1 div.sk-serial::before {content: \"\";position: absolute;border-left: 1px solid gray;box-sizing: border-box;top: 0;bottom: 0;left: 50%;z-index: 0;}#sk-container-id-1 div.sk-serial {display: flex;flex-direction: column;align-items: center;background-color: white;padding-right: 0.2em;padding-left: 0.2em;position: relative;}#sk-container-id-1 div.sk-item {position: relative;z-index: 1;}#sk-container-id-1 div.sk-parallel {display: flex;align-items: stretch;justify-content: center;background-color: white;position: relative;}#sk-container-id-1 div.sk-item::before, #sk-container-id-1 div.sk-parallel-item::before {content: \"\";position: absolute;border-left: 1px solid gray;box-sizing: border-box;top: 0;bottom: 0;left: 50%;z-index: -1;}#sk-container-id-1 div.sk-parallel-item {display: flex;flex-direction: column;z-index: 1;position: relative;background-color: white;}#sk-container-id-1 div.sk-parallel-item:first-child::after {align-self: flex-end;width: 50%;}#sk-container-id-1 div.sk-parallel-item:last-child::after {align-self: flex-start;width: 50%;}#sk-container-id-1 div.sk-parallel-item:only-child::after {width: 0;}#sk-container-id-1 div.sk-dashed-wrapped {border: 1px dashed gray;margin: 0 0.4em 0.5em 0.4em;box-sizing: border-box;padding-bottom: 0.4em;background-color: white;}#sk-container-id-1 div.sk-label label {font-family: monospace;font-weight: bold;display: inline-block;line-height: 1.2em;}#sk-container-id-1 div.sk-label-container {text-align: center;}#sk-container-id-1 div.sk-container {/* jupyter's `normalize.less` sets `[hidden] { display: none; }` but bootstrap.min.css set `[hidden] { display: none !important; }` so we also need the `!important` here to be able to override the default hidden behavior on the sphinx rendered scikit-learn.org. See: https://github.com/scikit-learn/scikit-learn/issues/21755 */display: inline-block !important;position: relative;}#sk-container-id-1 div.sk-text-repr-fallback {display: none;}</style><div id=\"sk-container-id-1\" class=\"sk-top-container\"><div class=\"sk-text-repr-fallback\"><pre>StandardScaler()</pre><b>In a Jupyter environment, please rerun this cell to show the HTML representation or trust the notebook. <br />On GitHub, the HTML representation is unable to render, please try loading this page with nbviewer.org.</b></div><div class=\"sk-container\" hidden><div class=\"sk-item\"><div class=\"sk-estimator sk-toggleable\"><input class=\"sk-toggleable__control sk-hidden--visually\" id=\"sk-estimator-id-1\" type=\"checkbox\" checked><label for=\"sk-estimator-id-1\" class=\"sk-toggleable__label sk-toggleable__label-arrow\">StandardScaler</label><div class=\"sk-toggleable__content\"><pre>StandardScaler()</pre></div></div></div></div></div>"
      ],
      "text/plain": [
       "StandardScaler()"
      ]
     },
     "execution_count": 182,
     "metadata": {},
     "output_type": "execute_result"
    }
   ],
   "source": [
    "scaler.fit(X)"
   ]
  },
  {
   "cell_type": "code",
   "execution_count": 183,
   "id": "581b725d",
   "metadata": {
    "ExecuteTime": {
     "end_time": "2024-01-22T01:38:36.638287Z",
     "start_time": "2024-01-22T01:38:36.619285Z"
    }
   },
   "outputs": [],
   "source": [
    "X_new = scaler.transform(X)"
   ]
  },
  {
   "cell_type": "code",
   "execution_count": 185,
   "id": "7bdba533",
   "metadata": {
    "ExecuteTime": {
     "end_time": "2024-01-22T01:38:47.185864Z",
     "start_time": "2024-01-22T01:38:47.179865Z"
    }
   },
   "outputs": [
    {
     "data": {
      "text/plain": [
       "array([[-0.42623395, -0.1350881 , -0.10528446, ..., -0.23948422,\n",
       "         0.5796416 , -1.79588   ],\n",
       "       [ 0.7173765 , -0.3634923 , -0.78537345, ...,  0.33574113,\n",
       "        -0.10901218, -0.10412031],\n",
       "       [-0.08008199,  1.2951052 ,  0.08104856, ...,  0.81242293,\n",
       "        -0.38091183, -0.5519988 ],\n",
       "       ...,\n",
       "       [ 0.8584524 ,  0.7189285 , -0.10375559, ...,  0.09646979,\n",
       "         1.320897  , -0.3713251 ],\n",
       "       [-0.3324466 , -0.67089057, -1.0584214 , ..., -1.1028863 ,\n",
       "         1.7089392 , -0.33825076],\n",
       "       [ 0.40078503, -1.0729781 , -1.0042287 , ..., -1.0083311 ,\n",
       "         0.13656144,  0.19779001]], dtype=float32)"
      ]
     },
     "execution_count": 185,
     "metadata": {},
     "output_type": "execute_result"
    }
   ],
   "source": [
    "X_new # nice"
   ]
  },
  {
   "cell_type": "code",
   "execution_count": 192,
   "id": "aca11aa7",
   "metadata": {
    "ExecuteTime": {
     "end_time": "2024-01-22T01:45:25.867281Z",
     "start_time": "2024-01-22T01:45:25.845124Z"
    }
   },
   "outputs": [],
   "source": [
    "X_train, X_test, y_train, y_test = train_test_split(X_new, y1, test_size=0.2,random_state=42)"
   ]
  },
  {
   "cell_type": "code",
   "execution_count": 193,
   "id": "8457cf74",
   "metadata": {
    "ExecuteTime": {
     "end_time": "2024-01-22T01:46:36.898441Z",
     "start_time": "2024-01-22T01:46:36.893017Z"
    }
   },
   "outputs": [],
   "source": [
    "y_train1 = to_categorical(y_train)\n",
    "y_test1 = to_categorical(y_test)"
   ]
  },
  {
   "cell_type": "markdown",
   "id": "cc3835fd",
   "metadata": {},
   "source": [
    "## Model CNN1"
   ]
  },
  {
   "cell_type": "code",
   "execution_count": 197,
   "id": "160592ce",
   "metadata": {
    "ExecuteTime": {
     "end_time": "2024-01-22T01:49:30.551190Z",
     "start_time": "2024-01-22T01:49:30.367707Z"
    }
   },
   "outputs": [],
   "source": [
    "stdcnn_model = tf.keras.Sequential()\n",
    "stdcnn_model.add(tf.keras.layers.Conv1D(256,2,input_shape=(in_dim,1), activation='leaky_relu')) # for the first comment 256 == 128\n",
    "stdcnn_model.add(tf.keras.layers.MaxPool1D())\n",
    "stdcnn_model.add(tf.keras.layers.Conv1D(128,2,activation='leaky_relu')) #for the first comment 128 == 64\n",
    "stdcnn_model.add(tf.keras.layers.MaxPool1D())\n",
    "stdcnn_model.add(tf.keras.layers.Conv1D(128,2,activation='leaky_relu')) \n",
    "stdcnn_model.add(tf.keras.layers.MaxPool1D())\n",
    "stdcnn_model.add(tf.keras.layers.Conv1D(64,2,activation='leaky_relu'))\n",
    "stdcnn_model.add(tf.keras.layers.MaxPool1D())\n",
    "stdcnn_model.add(tf.keras.layers.BatchNormalization())\n",
    "stdcnn_model.add(tf.keras.layers.Flatten())\n",
    "stdcnn_model.add(tf.keras.layers.Dense(64,activation='leaky_relu'))\n",
    "stdcnn_model.add(tf.keras.layers.Dense(32,activation='leaky_relu'))\n",
    "stdcnn_model.add(tf.keras.layers.Dense(17,activation='softmax'))\n",
    "\n",
    "opt = tf.keras.optimizers.AdamW(learning_rate =0.00005 , beta_1=0.9,\n",
    "    beta_2=0.999,\n",
    "    use_ema=True,\n",
    "    ema_momentum=0.99)\n",
    "\n",
    "stdcnn_model.compile(optimizer=opt, \n",
    "          loss = 'categorical_crossentropy',\n",
    "          metrics=[tf.keras.metrics.BinaryAccuracy(name='accuracy'),\n",
    "                   tf.keras.metrics.Precision(name='precision') ,\n",
    "                   tf.keras.metrics.Recall(name='recall')])"
   ]
  },
  {
   "cell_type": "code",
   "execution_count": 198,
   "id": "133ac647",
   "metadata": {
    "ExecuteTime": {
     "end_time": "2024-01-22T01:50:49.016221Z",
     "start_time": "2024-01-22T01:49:32.719464Z"
    }
   },
   "outputs": [
    {
     "name": "stdout",
     "output_type": "stream",
     "text": [
      "Epoch 1/15\n",
      "110/110 [==============================] - 8s 47ms/step - loss: 2.6867 - accuracy: 0.9412 - precision: 0.6111 - recall: 0.0031 - val_loss: 2.7885 - val_accuracy: 0.9412 - val_precision: 0.0000e+00 - val_recall: 0.0000e+00\n",
      "Epoch 2/15\n",
      "110/110 [==============================] - 5s 48ms/step - loss: 2.3045 - accuracy: 0.9437 - precision: 0.9061 - recall: 0.0470 - val_loss: 2.6824 - val_accuracy: 0.9412 - val_precision: 0.0000e+00 - val_recall: 0.0000e+00\n",
      "Epoch 3/15\n",
      "110/110 [==============================] - 5s 45ms/step - loss: 2.0186 - accuracy: 0.9463 - precision: 0.8830 - recall: 0.1005 - val_loss: 2.4715 - val_accuracy: 0.9412 - val_precision: 0.0000e+00 - val_recall: 0.0000e+00\n",
      "Epoch 4/15\n",
      "110/110 [==============================] - 5s 45ms/step - loss: 1.8027 - accuracy: 0.9489 - precision: 0.8807 - recall: 0.1522 - val_loss: 2.1612 - val_accuracy: 0.9427 - val_precision: 0.9400 - val_recall: 0.0269\n",
      "Epoch 5/15\n",
      "110/110 [==============================] - 5s 44ms/step - loss: 1.6364 - accuracy: 0.9518 - precision: 0.8642 - recall: 0.2140 - val_loss: 1.8373 - val_accuracy: 0.9477 - val_precision: 0.9185 - val_recall: 0.1225\n",
      "Epoch 6/15\n",
      "110/110 [==============================] - 5s 44ms/step - loss: 1.5080 - accuracy: 0.9545 - precision: 0.8476 - recall: 0.2763 - val_loss: 1.6659 - val_accuracy: 0.9525 - val_precision: 0.8717 - val_recall: 0.2255\n",
      "Epoch 7/15\n",
      "110/110 [==============================] - 5s 45ms/step - loss: 1.4076 - accuracy: 0.9566 - precision: 0.8447 - recall: 0.3223 - val_loss: 1.5539 - val_accuracy: 0.9548 - val_precision: 0.8140 - val_recall: 0.3005\n",
      "Epoch 8/15\n",
      "110/110 [==============================] - 5s 44ms/step - loss: 1.3282 - accuracy: 0.9583 - precision: 0.8329 - recall: 0.3639 - val_loss: 1.4995 - val_accuracy: 0.9566 - val_precision: 0.8237 - val_recall: 0.3343\n",
      "Epoch 9/15\n",
      "110/110 [==============================] - 5s 44ms/step - loss: 1.2620 - accuracy: 0.9601 - precision: 0.8377 - recall: 0.3991 - val_loss: 1.4597 - val_accuracy: 0.9574 - val_precision: 0.8106 - val_recall: 0.3600\n",
      "Epoch 10/15\n",
      "110/110 [==============================] - 5s 44ms/step - loss: 1.2052 - accuracy: 0.9614 - precision: 0.8389 - recall: 0.4251 - val_loss: 1.4188 - val_accuracy: 0.9590 - val_precision: 0.7966 - val_recall: 0.4058\n",
      "Epoch 11/15\n",
      "110/110 [==============================] - 5s 44ms/step - loss: 1.1551 - accuracy: 0.9629 - precision: 0.8439 - recall: 0.4527 - val_loss: 1.4020 - val_accuracy: 0.9590 - val_precision: 0.7857 - val_recall: 0.4156\n",
      "Epoch 12/15\n",
      "110/110 [==============================] - 5s 44ms/step - loss: 1.1113 - accuracy: 0.9636 - precision: 0.8419 - recall: 0.4703 - val_loss: 1.3645 - val_accuracy: 0.9601 - val_precision: 0.7846 - val_recall: 0.4442\n",
      "Epoch 13/15\n",
      "110/110 [==============================] - 5s 45ms/step - loss: 1.0721 - accuracy: 0.9648 - precision: 0.8446 - recall: 0.4918 - val_loss: 1.3521 - val_accuracy: 0.9605 - val_precision: 0.7957 - val_recall: 0.4413\n",
      "Epoch 14/15\n",
      "110/110 [==============================] - 5s 44ms/step - loss: 1.0333 - accuracy: 0.9658 - precision: 0.8484 - recall: 0.5105 - val_loss: 1.3305 - val_accuracy: 0.9612 - val_precision: 0.7929 - val_recall: 0.4602\n",
      "Epoch 15/15\n",
      "110/110 [==============================] - 5s 44ms/step - loss: 0.9971 - accuracy: 0.9668 - precision: 0.8511 - recall: 0.5277 - val_loss: 1.3111 - val_accuracy: 0.9611 - val_precision: 0.7819 - val_recall: 0.4699\n"
     ]
    },
    {
     "data": {
      "text/plain": [
       "<keras.src.callbacks.History at 0x2e40b9e1bd0>"
      ]
     },
     "execution_count": 198,
     "metadata": {},
     "output_type": "execute_result"
    }
   ],
   "source": [
    "stdcnn_model.fit(X_train,y_train1 ,batch_size = 64 ,epochs = 15 ,validation_split = (0.2) ,verbose =1)"
   ]
  },
  {
   "cell_type": "code",
   "execution_count": 199,
   "id": "e86ea474",
   "metadata": {
    "ExecuteTime": {
     "end_time": "2024-01-22T01:50:58.991959Z",
     "start_time": "2024-01-22T01:50:58.064813Z"
    }
   },
   "outputs": [
    {
     "name": "stdout",
     "output_type": "stream",
     "text": [
      "69/69 [==============================] - 1s 9ms/step\n",
      "[ 9  1 16 ... 11 14 12]\n",
      "              precision    recall  f1-score   support\n",
      "\n",
      "           0       0.55      0.32      0.41        68\n",
      "           1       0.72      0.70      0.71       176\n",
      "           2       0.65      0.66      0.65        97\n",
      "           3       0.63      0.64      0.64        90\n",
      "           4       0.72      0.47      0.57        93\n",
      "           5       0.65      0.66      0.65       108\n",
      "           6       0.76      0.77      0.77       126\n",
      "           7       0.60      0.68      0.64       136\n",
      "           8       0.56      0.43      0.48       122\n",
      "           9       0.66      0.58      0.62       155\n",
      "          10       0.62      0.66      0.63        61\n",
      "          11       0.53      0.60      0.57       172\n",
      "          12       0.68      0.76      0.72       182\n",
      "          13       0.53      0.59      0.56       151\n",
      "          14       0.47      0.47      0.47       200\n",
      "          15       0.76      0.82      0.79       169\n",
      "          16       0.84      0.95      0.89        77\n",
      "\n",
      "    accuracy                           0.64      2183\n",
      "   macro avg       0.64      0.63      0.63      2183\n",
      "weighted avg       0.64      0.64      0.63      2183\n",
      "\n"
     ]
    }
   ],
   "source": [
    "predictions = np.argmax(stdcnn_model.predict(X_test), axis=-1)\n",
    "\n",
    "print(predictions)\n",
    "\n",
    "print(classification_report(y_test.values , predictions))"
   ]
  },
  {
   "cell_type": "code",
   "execution_count": 200,
   "id": "8864b0a9",
   "metadata": {
    "ExecuteTime": {
     "end_time": "2024-01-22T01:51:09.885905Z",
     "start_time": "2024-01-22T01:51:09.882783Z"
    }
   },
   "outputs": [],
   "source": [
    "# okay , we need more tbh"
   ]
  },
  {
   "cell_type": "code",
   "execution_count": 201,
   "id": "a2b85396",
   "metadata": {
    "ExecuteTime": {
     "end_time": "2024-01-22T01:52:31.015633Z",
     "start_time": "2024-01-22T01:51:16.682460Z"
    }
   },
   "outputs": [
    {
     "name": "stdout",
     "output_type": "stream",
     "text": [
      "Epoch 1/15\n",
      "110/110 [==============================] - 5s 46ms/step - loss: 0.9936 - accuracy: 0.9668 - precision: 0.8515 - recall: 0.5268 - val_loss: 1.3222 - val_accuracy: 0.9614 - val_precision: 0.7768 - val_recall: 0.4820\n",
      "Epoch 2/15\n",
      "110/110 [==============================] - 5s 45ms/step - loss: 0.9623 - accuracy: 0.9677 - precision: 0.8523 - recall: 0.5446 - val_loss: 1.2995 - val_accuracy: 0.9612 - val_precision: 0.7764 - val_recall: 0.4791\n",
      "Epoch 3/15\n",
      "110/110 [==============================] - 5s 44ms/step - loss: 0.9311 - accuracy: 0.9689 - precision: 0.8601 - recall: 0.5623 - val_loss: 1.2917 - val_accuracy: 0.9622 - val_precision: 0.7859 - val_recall: 0.4917\n",
      "Epoch 4/15\n",
      "110/110 [==============================] - 5s 44ms/step - loss: 0.9024 - accuracy: 0.9695 - precision: 0.8634 - recall: 0.5728 - val_loss: 1.2890 - val_accuracy: 0.9619 - val_precision: 0.7726 - val_recall: 0.4997\n",
      "Epoch 5/15\n",
      "110/110 [==============================] - 5s 43ms/step - loss: 0.8742 - accuracy: 0.9705 - precision: 0.8655 - recall: 0.5907 - val_loss: 1.2697 - val_accuracy: 0.9623 - val_precision: 0.7728 - val_recall: 0.5083\n",
      "Epoch 6/15\n",
      "110/110 [==============================] - 5s 44ms/step - loss: 0.8482 - accuracy: 0.9712 - precision: 0.8678 - recall: 0.6014 - val_loss: 1.2664 - val_accuracy: 0.9623 - val_precision: 0.7707 - val_recall: 0.5117\n",
      "Epoch 7/15\n",
      "110/110 [==============================] - 5s 44ms/step - loss: 0.8226 - accuracy: 0.9722 - precision: 0.8725 - recall: 0.6175 - val_loss: 1.2670 - val_accuracy: 0.9623 - val_precision: 0.7712 - val_recall: 0.5112\n",
      "Epoch 8/15\n",
      "110/110 [==============================] - 5s 44ms/step - loss: 0.7976 - accuracy: 0.9730 - precision: 0.8768 - recall: 0.6298 - val_loss: 1.2532 - val_accuracy: 0.9629 - val_precision: 0.7762 - val_recall: 0.5180\n",
      "Epoch 9/15\n",
      "110/110 [==============================] - 5s 44ms/step - loss: 0.7738 - accuracy: 0.9738 - precision: 0.8821 - recall: 0.6408 - val_loss: 1.2541 - val_accuracy: 0.9625 - val_precision: 0.7669 - val_recall: 0.5197\n",
      "Epoch 10/15\n",
      "110/110 [==============================] - 5s 46ms/step - loss: 0.7518 - accuracy: 0.9746 - precision: 0.8852 - recall: 0.6525 - val_loss: 1.2565 - val_accuracy: 0.9630 - val_precision: 0.7664 - val_recall: 0.5335\n",
      "Epoch 11/15\n",
      "110/110 [==============================] - 5s 48ms/step - loss: 0.7317 - accuracy: 0.9751 - precision: 0.8854 - recall: 0.6634 - val_loss: 1.2456 - val_accuracy: 0.9630 - val_precision: 0.7663 - val_recall: 0.5329\n",
      "Epoch 12/15\n",
      "110/110 [==============================] - 5s 45ms/step - loss: 0.7083 - accuracy: 0.9759 - precision: 0.8921 - recall: 0.6720 - val_loss: 1.2558 - val_accuracy: 0.9630 - val_precision: 0.7647 - val_recall: 0.5358\n",
      "Epoch 13/15\n",
      "110/110 [==============================] - 5s 46ms/step - loss: 0.6890 - accuracy: 0.9767 - precision: 0.8936 - recall: 0.6850 - val_loss: 1.2442 - val_accuracy: 0.9629 - val_precision: 0.7657 - val_recall: 0.5312\n",
      "Epoch 14/15\n",
      "110/110 [==============================] - 5s 45ms/step - loss: 0.6679 - accuracy: 0.9774 - precision: 0.8970 - recall: 0.6953 - val_loss: 1.2446 - val_accuracy: 0.9635 - val_precision: 0.7667 - val_recall: 0.5455\n",
      "Epoch 15/15\n",
      "110/110 [==============================] - 5s 46ms/step - loss: 0.6480 - accuracy: 0.9781 - precision: 0.9030 - recall: 0.7024 - val_loss: 1.2450 - val_accuracy: 0.9634 - val_precision: 0.7623 - val_recall: 0.5489\n"
     ]
    },
    {
     "data": {
      "text/plain": [
       "<keras.src.callbacks.History at 0x2e41187e890>"
      ]
     },
     "execution_count": 201,
     "metadata": {},
     "output_type": "execute_result"
    }
   ],
   "source": [
    "stdcnn_model.fit(X_train,y_train1 ,batch_size = 64 ,epochs = 15 ,validation_split = (0.2) ,verbose =1)"
   ]
  },
  {
   "cell_type": "code",
   "execution_count": 202,
   "id": "d6e18e1f",
   "metadata": {
    "ExecuteTime": {
     "end_time": "2024-01-22T01:52:42.033844Z",
     "start_time": "2024-01-22T01:52:41.109777Z"
    }
   },
   "outputs": [
    {
     "name": "stdout",
     "output_type": "stream",
     "text": [
      "69/69 [==============================] - 1s 11ms/step\n",
      "[ 9  1 16 ... 11  9 12]\n",
      "              precision    recall  f1-score   support\n",
      "\n",
      "           0       0.55      0.38      0.45        68\n",
      "           1       0.76      0.71      0.73       176\n",
      "           2       0.64      0.69      0.66        97\n",
      "           3       0.64      0.62      0.63        90\n",
      "           4       0.73      0.49      0.59        93\n",
      "           5       0.65      0.69      0.67       108\n",
      "           6       0.80      0.73      0.76       126\n",
      "           7       0.64      0.68      0.66       136\n",
      "           8       0.59      0.59      0.59       122\n",
      "           9       0.70      0.58      0.64       155\n",
      "          10       0.70      0.64      0.67        61\n",
      "          11       0.57      0.60      0.59       172\n",
      "          12       0.68      0.76      0.72       182\n",
      "          13       0.56      0.60      0.58       151\n",
      "          14       0.51      0.53      0.52       200\n",
      "          15       0.75      0.87      0.81       169\n",
      "          16       0.81      0.94      0.87        77\n",
      "\n",
      "    accuracy                           0.66      2183\n",
      "   macro avg       0.66      0.65      0.65      2183\n",
      "weighted avg       0.66      0.66      0.65      2183\n",
      "\n"
     ]
    }
   ],
   "source": [
    "predictions = np.argmax(stdcnn_model.predict(X_test), axis=-1)\n",
    "\n",
    "print(predictions)\n",
    "\n",
    "print(classification_report(y_test.values , predictions))"
   ]
  },
  {
   "cell_type": "code",
   "execution_count": 203,
   "id": "f8e72a43",
   "metadata": {
    "ExecuteTime": {
     "end_time": "2024-01-22T01:52:47.180508Z",
     "start_time": "2024-01-22T01:52:47.173752Z"
    }
   },
   "outputs": [],
   "source": [
    "# FUCK"
   ]
  },
  {
   "cell_type": "markdown",
   "id": "8db69947",
   "metadata": {},
   "source": [
    "## MODEL 2"
   ]
  },
  {
   "cell_type": "code",
   "execution_count": 205,
   "id": "e936be70",
   "metadata": {
    "ExecuteTime": {
     "end_time": "2024-01-22T01:54:05.694511Z",
     "start_time": "2024-01-22T01:54:05.416494Z"
    }
   },
   "outputs": [],
   "source": [
    "stdcnn_model2 = tf.keras.Sequential()\n",
    "stdcnn_model2.add(tf.keras.layers.Conv1D(512,2,input_shape=(in_dim,1), activation='leaky_relu')) # for the first comment 256 == 128\n",
    "stdcnn_model2.add(tf.keras.layers.MaxPool1D())\n",
    "stdcnn_model2.add(tf.keras.layers.Conv1D(256,2,activation='leaky_relu')) #for the first comment 128 == 64\n",
    "stdcnn_model2.add(tf.keras.layers.MaxPool1D())\n",
    "stdcnn_model2.add(tf.keras.layers.Conv1D(128,2,activation='leaky_relu')) \n",
    "stdcnn_model2.add(tf.keras.layers.MaxPool1D())\n",
    "stdcnn_model2.add(tf.keras.layers.Conv1D(64,2,activation='leaky_relu'))\n",
    "stdcnn_model2.add(tf.keras.layers.MaxPool1D())\n",
    "stdcnn_model2.add(tf.keras.layers.BatchNormalization())\n",
    "stdcnn_model2.add(tf.keras.layers.Flatten())\n",
    "stdcnn_model2.add(tf.keras.layers.Dense(64,activation='leaky_relu'))\n",
    "stdcnn_model2.add(tf.keras.layers.Dense(32,activation='leaky_relu'))\n",
    "stdcnn_model2.add(tf.keras.layers.Dense(17,activation='softmax'))\n",
    "\n",
    "opt = tf.keras.optimizers.AdamW(learning_rate =0.00005 , beta_1=0.9,\n",
    "    beta_2=0.999,\n",
    "    use_ema=True,\n",
    "    ema_momentum=0.99)\n",
    "\n",
    "stdcnn_model2.compile(optimizer=opt, \n",
    "          loss = 'categorical_crossentropy',\n",
    "          metrics=[tf.keras.metrics.BinaryAccuracy(name='accuracy'),\n",
    "                   tf.keras.metrics.Precision(name='precision') ,\n",
    "                   tf.keras.metrics.Recall(name='recall')])"
   ]
  },
  {
   "cell_type": "code",
   "execution_count": 206,
   "id": "24b2d9ed",
   "metadata": {
    "ExecuteTime": {
     "end_time": "2024-01-22T01:57:46.822465Z",
     "start_time": "2024-01-22T01:54:17.098029Z"
    }
   },
   "outputs": [
    {
     "name": "stdout",
     "output_type": "stream",
     "text": [
      "Epoch 1/15\n",
      "110/110 [==============================] - 17s 127ms/step - loss: 2.5499 - accuracy: 0.9423 - precision: 0.9539 - recall: 0.0208 - val_loss: 2.7655 - val_accuracy: 0.9412 - val_precision: 0.0000e+00 - val_recall: 0.0000e+00\n",
      "Epoch 2/15\n",
      "110/110 [==============================] - 13s 121ms/step - loss: 2.1338 - accuracy: 0.9457 - precision: 0.9160 - recall: 0.0843 - val_loss: 2.6355 - val_accuracy: 0.9412 - val_precision: 0.0000e+00 - val_recall: 0.0000e+00\n",
      "Epoch 3/15\n",
      "110/110 [==============================] - 13s 120ms/step - loss: 1.8621 - accuracy: 0.9481 - precision: 0.8909 - recall: 0.1344 - val_loss: 2.3934 - val_accuracy: 0.9412 - val_precision: 0.0000e+00 - val_recall: 0.0000e+00\n",
      "Epoch 4/15\n",
      "110/110 [==============================] - 13s 120ms/step - loss: 1.6577 - accuracy: 0.9509 - precision: 0.8774 - recall: 0.1926 - val_loss: 2.0677 - val_accuracy: 0.9431 - val_precision: 0.9524 - val_recall: 0.0343\n",
      "Epoch 5/15\n",
      "110/110 [==============================] - 13s 120ms/step - loss: 1.5038 - accuracy: 0.9535 - precision: 0.8612 - recall: 0.2505 - val_loss: 1.7332 - val_accuracy: 0.9492 - val_precision: 0.9161 - val_recall: 0.1500\n",
      "Epoch 6/15\n",
      "110/110 [==============================] - 15s 137ms/step - loss: 1.3820 - accuracy: 0.9562 - precision: 0.8567 - recall: 0.3074 - val_loss: 1.5611 - val_accuracy: 0.9534 - val_precision: 0.8699 - val_recall: 0.2450\n",
      "Epoch 7/15\n",
      "110/110 [==============================] - 13s 116ms/step - loss: 1.2842 - accuracy: 0.9589 - precision: 0.8596 - recall: 0.3595 - val_loss: 1.4685 - val_accuracy: 0.9566 - val_precision: 0.8181 - val_recall: 0.3371\n",
      "Epoch 8/15\n",
      "110/110 [==============================] - 13s 116ms/step - loss: 1.2033 - accuracy: 0.9611 - precision: 0.8606 - recall: 0.4031 - val_loss: 1.4161 - val_accuracy: 0.9575 - val_precision: 0.7998 - val_recall: 0.3703\n",
      "Epoch 9/15\n",
      "110/110 [==============================] - 13s 120ms/step - loss: 1.1389 - accuracy: 0.9627 - precision: 0.8566 - recall: 0.4387 - val_loss: 1.3703 - val_accuracy: 0.9583 - val_precision: 0.7867 - val_recall: 0.3990\n",
      "Epoch 10/15\n",
      "110/110 [==============================] - 14s 131ms/step - loss: 1.0790 - accuracy: 0.9643 - precision: 0.8580 - recall: 0.4713 - val_loss: 1.3383 - val_accuracy: 0.9593 - val_precision: 0.7751 - val_recall: 0.4339\n",
      "Epoch 11/15\n",
      "110/110 [==============================] - 13s 118ms/step - loss: 1.0275 - accuracy: 0.9658 - precision: 0.8628 - recall: 0.4986 - val_loss: 1.3306 - val_accuracy: 0.9603 - val_precision: 0.7854 - val_recall: 0.4482\n",
      "Epoch 12/15\n",
      "110/110 [==============================] - 14s 131ms/step - loss: 0.9807 - accuracy: 0.9673 - precision: 0.8642 - recall: 0.5266 - val_loss: 1.3100 - val_accuracy: 0.9603 - val_precision: 0.7770 - val_recall: 0.4568\n",
      "Epoch 13/15\n",
      "110/110 [==============================] - 16s 144ms/step - loss: 0.9395 - accuracy: 0.9685 - precision: 0.8673 - recall: 0.5475 - val_loss: 1.2926 - val_accuracy: 0.9619 - val_precision: 0.7893 - val_recall: 0.4803\n",
      "Epoch 14/15\n",
      "110/110 [==============================] - 14s 128ms/step - loss: 0.9005 - accuracy: 0.9695 - precision: 0.8686 - recall: 0.5668 - val_loss: 1.2869 - val_accuracy: 0.9611 - val_precision: 0.7759 - val_recall: 0.4757\n",
      "Epoch 15/15\n",
      "110/110 [==============================] - 14s 128ms/step - loss: 0.8643 - accuracy: 0.9706 - precision: 0.8708 - recall: 0.5867 - val_loss: 1.2698 - val_accuracy: 0.9612 - val_precision: 0.7680 - val_recall: 0.4888\n"
     ]
    },
    {
     "data": {
      "text/plain": [
       "<keras.src.callbacks.History at 0x2e411ee2190>"
      ]
     },
     "execution_count": 206,
     "metadata": {},
     "output_type": "execute_result"
    }
   ],
   "source": [
    "stdcnn_model2.fit(X_train,y_train1 ,batch_size = 64 ,epochs = 15 ,validation_split = (0.2) ,verbose =1)"
   ]
  },
  {
   "cell_type": "code",
   "execution_count": 207,
   "id": "74ac3a32",
   "metadata": {
    "ExecuteTime": {
     "end_time": "2024-01-22T01:58:10.074195Z",
     "start_time": "2024-01-22T01:58:09.278136Z"
    }
   },
   "outputs": [
    {
     "name": "stdout",
     "output_type": "stream",
     "text": [
      "69/69 [==============================] - 1s 10ms/step\n",
      "[ 9  1 16 ... 11  9 12]\n",
      "              precision    recall  f1-score   support\n",
      "\n",
      "           0       0.55      0.38      0.45        68\n",
      "           1       0.76      0.71      0.73       176\n",
      "           2       0.64      0.69      0.66        97\n",
      "           3       0.64      0.62      0.63        90\n",
      "           4       0.73      0.49      0.59        93\n",
      "           5       0.65      0.69      0.67       108\n",
      "           6       0.80      0.73      0.76       126\n",
      "           7       0.64      0.68      0.66       136\n",
      "           8       0.59      0.59      0.59       122\n",
      "           9       0.70      0.58      0.64       155\n",
      "          10       0.70      0.64      0.67        61\n",
      "          11       0.57      0.60      0.59       172\n",
      "          12       0.68      0.76      0.72       182\n",
      "          13       0.56      0.60      0.58       151\n",
      "          14       0.51      0.53      0.52       200\n",
      "          15       0.75      0.87      0.81       169\n",
      "          16       0.81      0.94      0.87        77\n",
      "\n",
      "    accuracy                           0.66      2183\n",
      "   macro avg       0.66      0.65      0.65      2183\n",
      "weighted avg       0.66      0.66      0.65      2183\n",
      "\n"
     ]
    }
   ],
   "source": [
    "predictions = np.argmax(stdcnn_model.predict(X_test), axis=-1)\n",
    "\n",
    "print(predictions)\n",
    "\n",
    "print(classification_report(y_test.values , predictions))"
   ]
  },
  {
   "cell_type": "code",
   "execution_count": 208,
   "id": "77bd13b9",
   "metadata": {
    "ExecuteTime": {
     "end_time": "2024-01-22T01:58:34.060163Z",
     "start_time": "2024-01-22T01:58:34.056976Z"
    }
   },
   "outputs": [],
   "source": [
    "# OK SCALING MaDE IT A HOLE LOTTA WORsE ON OUR DATASET"
   ]
  },
  {
   "cell_type": "code",
   "execution_count": 72,
   "id": "5bb7a52f",
   "metadata": {
    "ExecuteTime": {
     "end_time": "2024-02-02T21:26:57.690563Z",
     "start_time": "2024-02-02T21:26:57.669563Z"
    }
   },
   "outputs": [],
   "source": [
    "from sklearn.neural_network import MLPClassifier"
   ]
  },
  {
   "cell_type": "code",
   "execution_count": 77,
   "id": "c241ac46",
   "metadata": {
    "ExecuteTime": {
     "end_time": "2024-02-02T21:30:28.212575Z",
     "start_time": "2024-02-02T21:29:49.431801Z"
    }
   },
   "outputs": [
    {
     "name": "stderr",
     "output_type": "stream",
     "text": [
      "C:\\Users\\Desktop\\anaconda3\\Lib\\site-packages\\sklearn\\neural_network\\_multilayer_perceptron.py:1102: DataConversionWarning: A column-vector y was passed when a 1d array was expected. Please change the shape of y to (n_samples, ), for example using ravel().\n",
      "  y = column_or_1d(y, warn=True)\n",
      "C:\\Users\\Desktop\\anaconda3\\Lib\\site-packages\\sklearn\\neural_network\\_multilayer_perceptron.py:691: ConvergenceWarning: Stochastic Optimizer: Maximum iterations (300) reached and the optimization hasn't converged yet.\n",
      "  warnings.warn(\n"
     ]
    }
   ],
   "source": [
    "clf = MLPClassifier(hidden_layer_sizes=(100,180 ,60) , max_iter=300).fit(X_train, y_train)"
   ]
  },
  {
   "cell_type": "code",
   "execution_count": 78,
   "id": "bfed321e",
   "metadata": {
    "ExecuteTime": {
     "end_time": "2024-02-02T21:30:34.261860Z",
     "start_time": "2024-02-02T21:30:34.244394Z"
    }
   },
   "outputs": [],
   "source": [
    "sk_pred = clf.predict(X_test)"
   ]
  },
  {
   "cell_type": "code",
   "execution_count": 79,
   "id": "409f0a94",
   "metadata": {
    "ExecuteTime": {
     "end_time": "2024-02-02T21:30:35.387585Z",
     "start_time": "2024-02-02T21:30:35.381586Z"
    }
   },
   "outputs": [
    {
     "data": {
      "text/plain": [
       "array([14,  1, 16, ..., 11,  9, 12])"
      ]
     },
     "execution_count": 79,
     "metadata": {},
     "output_type": "execute_result"
    }
   ],
   "source": [
    "sk_pred"
   ]
  },
  {
   "cell_type": "code",
   "execution_count": 80,
   "id": "d89c5785",
   "metadata": {
    "ExecuteTime": {
     "end_time": "2024-02-02T21:30:36.271994Z",
     "start_time": "2024-02-02T21:30:36.252945Z"
    }
   },
   "outputs": [
    {
     "name": "stdout",
     "output_type": "stream",
     "text": [
      "              precision    recall  f1-score   support\n",
      "\n",
      "           0       0.73      0.56      0.63        68\n",
      "           1       0.84      0.74      0.79       176\n",
      "           2       0.74      0.74      0.74        97\n",
      "           3       0.68      0.60      0.64        90\n",
      "           4       0.68      0.57      0.62        93\n",
      "           5       0.62      0.67      0.64       108\n",
      "           6       0.79      0.71      0.75       126\n",
      "           7       0.76      0.78      0.77       136\n",
      "           8       0.57      0.63      0.60       122\n",
      "           9       0.76      0.74      0.75       155\n",
      "          10       0.59      0.70      0.64        61\n",
      "          11       0.52      0.67      0.59       172\n",
      "          12       0.71      0.76      0.73       182\n",
      "          13       0.58      0.62      0.60       151\n",
      "          14       0.67      0.52      0.58       200\n",
      "          15       0.87      0.89      0.88       169\n",
      "          16       0.83      0.94      0.88        77\n",
      "\n",
      "    accuracy                           0.70      2183\n",
      "   macro avg       0.70      0.70      0.70      2183\n",
      "weighted avg       0.70      0.70      0.70      2183\n",
      "\n"
     ]
    }
   ],
   "source": [
    "print(classification_report(y_test.values , sk_pred))"
   ]
  },
  {
   "cell_type": "code",
   "execution_count": null,
   "id": "8d7edd10",
   "metadata": {},
   "outputs": [],
   "source": []
  }
 ],
 "metadata": {
  "hide_input": false,
  "kernelspec": {
   "display_name": "Python 3 (ipykernel)",
   "language": "python",
   "name": "python3"
  },
  "language_info": {
   "codemirror_mode": {
    "name": "ipython",
    "version": 3
   },
   "file_extension": ".py",
   "mimetype": "text/x-python",
   "name": "python",
   "nbconvert_exporter": "python",
   "pygments_lexer": "ipython3",
   "version": "3.11.5"
  },
  "nbTranslate": {
   "displayLangs": [
    "*"
   ],
   "hotkey": "alt-t",
   "langInMainMenu": true,
   "sourceLang": "en",
   "targetLang": "fr",
   "useGoogleTranslate": true
  },
  "toc": {
   "base_numbering": 1,
   "nav_menu": {},
   "number_sections": true,
   "sideBar": true,
   "skip_h1_title": false,
   "title_cell": "Table of Contents",
   "title_sidebar": "Contents",
   "toc_cell": false,
   "toc_position": {},
   "toc_section_display": true,
   "toc_window_display": false
  },
  "varInspector": {
   "cols": {
    "lenName": 16,
    "lenType": 16,
    "lenVar": 40
   },
   "kernels_config": {
    "python": {
     "delete_cmd_postfix": "",
     "delete_cmd_prefix": "del ",
     "library": "var_list.py",
     "varRefreshCmd": "print(var_dic_list())"
    },
    "r": {
     "delete_cmd_postfix": ") ",
     "delete_cmd_prefix": "rm(",
     "library": "var_list.r",
     "varRefreshCmd": "cat(var_dic_list()) "
    }
   },
   "types_to_exclude": [
    "module",
    "function",
    "builtin_function_or_method",
    "instance",
    "_Feature"
   ],
   "window_display": false
  }
 },
 "nbformat": 4,
 "nbformat_minor": 5
}
