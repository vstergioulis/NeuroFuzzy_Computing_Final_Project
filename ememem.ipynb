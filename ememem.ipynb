{
 "cells": [
  {
   "cell_type": "code",
   "execution_count": 1,
   "id": "44c4ac04",
   "metadata": {
    "ExecuteTime": {
     "end_time": "2024-01-25T18:54:29.892573Z",
     "start_time": "2024-01-25T18:54:18.748594Z"
    }
   },
   "outputs": [
    {
     "name": "stdout",
     "output_type": "stream",
     "text": [
      "WARNING:tensorflow:From C:\\Users\\Desktop\\anaconda3\\Lib\\site-packages\\keras\\src\\losses.py:2976: The name tf.losses.sparse_softmax_cross_entropy is deprecated. Please use tf.compat.v1.losses.sparse_softmax_cross_entropy instead.\n",
      "\n"
     ]
    }
   ],
   "source": [
    "import numpy as np\n",
    "import pandas as pd\n",
    "import matplotlib.pyplot as plt\n",
    "\n",
    "from tensorflow.keras.models import Sequential\n",
    "from tensorflow.keras.layers import Dense, Activation , Embedding\n",
    "import tensorflow as tf\n",
    "\n",
    "from sklearn.model_selection import train_test_split\n",
    "from sklearn.preprocessing import LabelEncoder\n",
    "from sklearn.preprocessing import MinMaxScaler\n",
    "import gensim\n",
    "\n",
    "from gensim.models import Word2Vec, KeyedVectors\n",
    "\n",
    "from nltk.stem import WordNetLemmatizer\n",
    "from nltk.corpus import stopwords\n",
    "from nltk.tokenize import RegexpTokenizer\n",
    "import re\n",
    "import matplotlib.pyplot as plt\n",
    "import nltk\n",
    "\n",
    "\n",
    "from tensorflow.keras.utils import to_categorical\n"
   ]
  },
  {
   "cell_type": "code",
   "execution_count": 2,
   "id": "1c93ecb6",
   "metadata": {
    "ExecuteTime": {
     "end_time": "2024-01-25T18:54:30.595689Z",
     "start_time": "2024-01-25T18:54:29.895562Z"
    }
   },
   "outputs": [],
   "source": [
    "data = pd.read_csv(\"data/news_class.csv\")\n",
    "\n",
    "df = data.copy() # to be safe and avoid errors\n",
    "\n",
    "df = df.loc[:,[\"data_id\" , \"content\" , \"category_level_1\" , \"category_level_2\"]]"
   ]
  },
  {
   "cell_type": "code",
   "execution_count": 3,
   "id": "ca44078b",
   "metadata": {
    "ExecuteTime": {
     "end_time": "2024-01-25T18:54:30.611987Z",
     "start_time": "2024-01-25T18:54:30.597677Z"
    }
   },
   "outputs": [],
   "source": [
    "# Function for removing ASCII characters\n",
    "def _removeNonAscii(s):\n",
    "    return \"\".join(i for i in s if  ord(i)<128)\n",
    "\n",
    "# Function for converting to lower case\n",
    "def make_lower_case(text):\n",
    "    return text.lower()\n",
    "\n",
    "# Function for removing stop words\n",
    "def remove_stop_words(text):\n",
    "    text = text.split()\n",
    "    stops = set(stopwords.words(\"english\"))\n",
    "    text = [w for w in text if not w in stops]\n",
    "    text = \" \".join(text)\n",
    "    return text\n",
    "\n",
    "# Function for removing html\n",
    "def remove_html(text):\n",
    "    html_pattern = re.compile('<.*?>')\n",
    "    return html_pattern.sub(r'', text)\n",
    "\n",
    "# Function for removing punctuation\n",
    "def remove_punctuation(text):\n",
    "    tokenizer = RegexpTokenizer(r'\\w+')\n",
    "    text = tokenizer.tokenize(text)\n",
    "    text = \" \".join(text)\n",
    "    return text\n",
    "\n",
    "def lemm_text(text):\n",
    "    lemm=WordNetLemmatizer()\n",
    "    tokenizer = RegexpTokenizer(r'\\w+')\n",
    "    text = tokenizer.tokenize(text)\n",
    "    tokens = text\n",
    "    return ' '.join([lemm.lemmatize(t) for t in tokens])"
   ]
  },
  {
   "cell_type": "code",
   "execution_count": 4,
   "id": "5f2f73a8",
   "metadata": {
    "ExecuteTime": {
     "end_time": "2024-01-25T18:55:09.836826Z",
     "start_time": "2024-01-25T18:54:30.614976Z"
    }
   },
   "outputs": [],
   "source": [
    "df['Cleaned'] = df['content'].apply(_removeNonAscii)\n",
    "df['Cleaned'] = df.Cleaned.apply(func = make_lower_case)\n",
    "df['Cleaned'] = df.Cleaned.apply(func = remove_stop_words)\n",
    "df['Cleaned'] = df.Cleaned.apply(func = remove_punctuation)\n",
    "df['Cleaned'] = df.Cleaned.apply(func = remove_html)\n",
    "df['Cleaned'] = df.Cleaned.apply(func = lemm_text)\n",
    "df = df.drop('content' , axis =1)"
   ]
  },
  {
   "cell_type": "code",
   "execution_count": 5,
   "id": "b474b5d2",
   "metadata": {
    "ExecuteTime": {
     "end_time": "2024-01-25T18:55:10.277095Z",
     "start_time": "2024-01-25T18:55:09.840828Z"
    }
   },
   "outputs": [],
   "source": [
    "io = df.copy()\n",
    "\n",
    "io = io.drop([374]).reset_index(drop=True)\n",
    "io = io.drop([6527]).reset_index(drop=True)\n",
    "\n",
    "\n",
    "corpus_full = []\n",
    "for words in io['Cleaned']:\n",
    "    corpus_full.append(words.split())  \n"
   ]
  },
  {
   "cell_type": "code",
   "execution_count": 6,
   "id": "e9c2a9b9",
   "metadata": {
    "ExecuteTime": {
     "end_time": "2024-01-25T18:55:10.599106Z",
     "start_time": "2024-01-25T18:55:10.279083Z"
    }
   },
   "outputs": [],
   "source": [
    "#word2vec_model = Word2Vec.load(\"word2vec.model3\")\n",
    "word2vec_model = Word2Vec.load(\"word2vec.i_dont_even_know_how_shitty_this_model_is\")"
   ]
  },
  {
   "cell_type": "code",
   "execution_count": 7,
   "id": "2f5ef8a6",
   "metadata": {
    "ExecuteTime": {
     "end_time": "2024-01-25T18:55:10.620629Z",
     "start_time": "2024-01-25T18:55:10.616108Z"
    }
   },
   "outputs": [
    {
     "name": "stdout",
     "output_type": "stream",
     "text": [
      "Word2Vec<vocab=17960, vector_size=500, alpha=0.025>\n"
     ]
    }
   ],
   "source": [
    "print(word2vec_model)"
   ]
  },
  {
   "cell_type": "code",
   "execution_count": 8,
   "id": "456aee0d",
   "metadata": {
    "ExecuteTime": {
     "end_time": "2024-01-25T18:55:10.631321Z",
     "start_time": "2024-01-25T18:55:10.623619Z"
    }
   },
   "outputs": [],
   "source": [
    "from keras.preprocessing.text import Tokenizer\n",
    "from keras.preprocessing.sequence import pad_sequences"
   ]
  },
  {
   "cell_type": "markdown",
   "id": "9ffba631",
   "metadata": {},
   "source": [
    "## Tokenizing our entry points , more to be announced"
   ]
  },
  {
   "cell_type": "code",
   "execution_count": 9,
   "id": "827c4a94",
   "metadata": {
    "ExecuteTime": {
     "end_time": "2024-01-25T18:55:10.643097Z",
     "start_time": "2024-01-25T18:55:10.634308Z"
    }
   },
   "outputs": [],
   "source": [
    "token = Tokenizer(17960)"
   ]
  },
  {
   "cell_type": "code",
   "execution_count": 10,
   "id": "358f2d30",
   "metadata": {
    "ExecuteTime": {
     "end_time": "2024-01-25T18:55:14.489364Z",
     "start_time": "2024-01-25T18:55:10.645087Z"
    }
   },
   "outputs": [],
   "source": [
    "token.fit_on_texts(io['Cleaned'])"
   ]
  },
  {
   "cell_type": "code",
   "execution_count": 11,
   "id": "ef28423f",
   "metadata": {
    "ExecuteTime": {
     "end_time": "2024-01-25T18:55:16.568516Z",
     "start_time": "2024-01-25T18:55:14.492367Z"
    }
   },
   "outputs": [],
   "source": [
    "text = token.texts_to_sequences(io['Cleaned'])"
   ]
  },
  {
   "cell_type": "code",
   "execution_count": 12,
   "id": "7e5fe36d",
   "metadata": {
    "ExecuteTime": {
     "end_time": "2024-01-25T18:55:16.674526Z",
     "start_time": "2024-01-25T18:55:16.571518Z"
    }
   },
   "outputs": [
    {
     "name": "stdout",
     "output_type": "stream",
     "text": [
      "[[  105     3    94   735   100  4959  1655  1124   215 10304  6481     2\n",
      "    976 16165  3926    45    60   830   343  3319   910  2845     3    94\n",
      "   8434     7  1655 11892 16166 12409     2   236  3926     1  9443  8864\n",
      "    100  8058     2   236  4475   140   130  1470    24  2537   229   263\n",
      "    329  8434   211   735  1883   697 10852  7352   385   143    18   236\n",
      "    100   725   164   166  3288  1655    64  1717  7122    24  7901  1593\n",
      "   1594 12409  1883]\n",
      " [   75  4866  1026 13327  2869  4138  5990  1655  1249 14382 10015  2855\n",
      "    215   697   105   174   578  2998   528   411   241  1298  1231  9092\n",
      "    211   751   963  1825  6998   766  8158 14383   432    76   313     1\n",
      "   1534  2744  5705    64    18   217  1162   400 15231  8866  5129  1316\n",
      "    661   308     1    45    76  2869   139     7  1984 10169  2863  5008\n",
      "      2  2734  6574   485  1711   776     1  1128   511   895 14384  1154\n",
      "   3637  2644    33]]\n"
     ]
    }
   ],
   "source": [
    "text = pad_sequences(text, 75)\n",
    "print(text[:2])"
   ]
  },
  {
   "cell_type": "code",
   "execution_count": 13,
   "id": "e547ac55",
   "metadata": {
    "ExecuteTime": {
     "end_time": "2024-01-25T18:55:16.682470Z",
     "start_time": "2024-01-25T18:55:16.677526Z"
    }
   },
   "outputs": [
    {
     "name": "stdout",
     "output_type": "stream",
     "text": [
      "0: 'said'\n",
      "1: 's'\n",
      "2: 'year'\n"
     ]
    }
   ],
   "source": [
    "word_vectors= word2vec_model.wv\n",
    "for i in range (0,3):\n",
    "    print(f\"{i}: '{word2vec_model.wv.index_to_key[i]}'\")"
   ]
  },
  {
   "cell_type": "code",
   "execution_count": 14,
   "id": "10808579",
   "metadata": {
    "ExecuteTime": {
     "end_time": "2024-01-25T18:55:16.872506Z",
     "start_time": "2024-01-25T18:55:16.684460Z"
    }
   },
   "outputs": [],
   "source": [
    "vocabular1 = word2vec_model.wv.index_to_key\n",
    "token1zer = Tokenizer(17960)\n",
    "token1zer.fit_on_texts(vocabular1)"
   ]
  },
  {
   "cell_type": "code",
   "execution_count": null,
   "id": "7b8c78ce",
   "metadata": {},
   "outputs": [],
   "source": []
  },
  {
   "cell_type": "code",
   "execution_count": 15,
   "id": "85890e00",
   "metadata": {
    "ExecuteTime": {
     "end_time": "2024-01-25T18:55:18.841160Z",
     "start_time": "2024-01-25T18:55:16.874498Z"
    }
   },
   "outputs": [],
   "source": [
    "text2 = token1zer.texts_to_sequences(io['Cleaned'])"
   ]
  },
  {
   "cell_type": "code",
   "execution_count": 16,
   "id": "f54e20ab",
   "metadata": {
    "ExecuteTime": {
     "end_time": "2024-01-25T18:55:18.953038Z",
     "start_time": "2024-01-25T18:55:18.844152Z"
    }
   },
   "outputs": [
    {
     "name": "stdout",
     "output_type": "stream",
     "text": [
      "[[  105     3    94   734   100  4984  1655  1124   215 10447  6481     2\n",
      "    976 16168  3932    45    60   834   343  3328   910  2845     3    94\n",
      "   8516     7  1655 11966 16162 12495     2   236  3932     1  9467  8870\n",
      "    100  8122     2   236  4492   140   130  1470    24  2540   230   264\n",
      "    329  8516   211   734  1888   697 10898  7423   385   143    18   236\n",
      "    100   725   164   166  3292  1655    64  1716  7165    24  7966  1595\n",
      "   1594 12495  1888]\n",
      " [   75  4882  1027 13412  2876  4149  6004  1655  1254 14541 10107  2856\n",
      "    215   697   105   174   579  3000   528   412   241  1297  1231  9146\n",
      "    211   752   964  1825  7041   766  8237 14528   432    76   312     1\n",
      "   1535  2743  5732    64    18   217  1163   400 15557  8917  5133  1317\n",
      "    663   308     1    45    76  2876   139     7  1986 10253  2868  5032\n",
      "      2  2735  6601   487  1717   776     1  1128   512   895 14505  1157\n",
      "   3649  2649    33]]\n"
     ]
    }
   ],
   "source": [
    "text2 = pad_sequences(text2, 75)\n",
    "print(text2[:2])"
   ]
  },
  {
   "cell_type": "code",
   "execution_count": null,
   "id": "68d40e73",
   "metadata": {},
   "outputs": [],
   "source": []
  },
  {
   "cell_type": "code",
   "execution_count": 17,
   "id": "5a44d2ab",
   "metadata": {
    "ExecuteTime": {
     "end_time": "2024-01-25T18:55:18.961772Z",
     "start_time": "2024-01-25T18:55:18.958030Z"
    }
   },
   "outputs": [],
   "source": [
    "# Now every word is tokenized gamw to feleki mou"
   ]
  },
  {
   "cell_type": "code",
   "execution_count": 18,
   "id": "981aa5ff",
   "metadata": {
    "ExecuteTime": {
     "end_time": "2024-01-25T18:55:19.017174Z",
     "start_time": "2024-01-25T18:55:18.964695Z"
    }
   },
   "outputs": [],
   "source": [
    "le =LabelEncoder()\n",
    "y = le.fit_transform(io[\"category_level_1\"])"
   ]
  },
  {
   "cell_type": "code",
   "execution_count": 19,
   "id": "b930680f",
   "metadata": {
    "ExecuteTime": {
     "end_time": "2024-01-25T18:55:19.052700Z",
     "start_time": "2024-01-25T18:55:19.020160Z"
    }
   },
   "outputs": [
    {
     "data": {
      "text/plain": [
       "array([2, 2, 2, ..., 1, 1, 1])"
      ]
     },
     "execution_count": 19,
     "metadata": {},
     "output_type": "execute_result"
    }
   ],
   "source": [
    "y"
   ]
  },
  {
   "cell_type": "code",
   "execution_count": 20,
   "id": "70cb4902",
   "metadata": {
    "ExecuteTime": {
     "end_time": "2024-01-25T18:55:19.077606Z",
     "start_time": "2024-01-25T18:55:19.055689Z"
    }
   },
   "outputs": [],
   "source": [
    "y_cat = to_categorical(y)"
   ]
  },
  {
   "cell_type": "code",
   "execution_count": 21,
   "id": "7eddae6c",
   "metadata": {
    "ExecuteTime": {
     "end_time": "2024-01-25T18:55:19.103874Z",
     "start_time": "2024-01-25T18:55:19.080600Z"
    }
   },
   "outputs": [
    {
     "data": {
      "text/plain": [
       "array([[0., 0., 1., ..., 0., 0., 0.],\n",
       "       [0., 0., 1., ..., 0., 0., 0.],\n",
       "       [0., 0., 1., ..., 0., 0., 0.],\n",
       "       ...,\n",
       "       [0., 1., 0., ..., 0., 0., 0.],\n",
       "       [0., 1., 0., ..., 0., 0., 0.],\n",
       "       [0., 1., 0., ..., 0., 0., 0.]], dtype=float32)"
      ]
     },
     "execution_count": 21,
     "metadata": {},
     "output_type": "execute_result"
    }
   ],
   "source": [
    "y_cat"
   ]
  },
  {
   "cell_type": "code",
   "execution_count": 22,
   "id": "04d3d833",
   "metadata": {
    "ExecuteTime": {
     "end_time": "2024-01-25T18:55:19.140358Z",
     "start_time": "2024-01-25T18:55:19.105842Z"
    }
   },
   "outputs": [],
   "source": [
    "X_train, X_test, y_train, y_test = train_test_split(np.array(text2), y, test_size=0.2 , random_state = 42)"
   ]
  },
  {
   "cell_type": "code",
   "execution_count": 23,
   "id": "402d4512",
   "metadata": {
    "ExecuteTime": {
     "end_time": "2024-01-25T18:55:19.165022Z",
     "start_time": "2024-01-25T18:55:19.142352Z"
    }
   },
   "outputs": [],
   "source": [
    "y_train_cat = to_categorical(y_train)\n",
    "y_test_cat = to_categorical(y_test)"
   ]
  },
  {
   "cell_type": "code",
   "execution_count": 24,
   "id": "ae8f55ea",
   "metadata": {
    "ExecuteTime": {
     "end_time": "2024-01-25T18:55:19.211312Z",
     "start_time": "2024-01-25T18:55:19.167016Z"
    }
   },
   "outputs": [],
   "source": [
    "def gensim_to_keras_embedding(model, train_embeddings=False):\n",
    "    \"\"\"Get a Keras 'Embedding' layer with weights set from Word2Vec model's learned word embeddings.\n",
    "\n",
    "    Parameters\n",
    "    ----------\n",
    "    train_embeddings : bool\n",
    "        If False, the returned weights are frozen and stopped from being updated.\n",
    "        If True, the weights can / will be further updated in Keras.\n",
    "\n",
    "    Returns\n",
    "    -------\n",
    "    `keras.layers.Embedding`\n",
    "        Embedding layer, to be used as input to deeper network layers.\n",
    "\n",
    "    \"\"\"\n",
    "    keyed_vectors = model.wv  # structure holding the result of training\n",
    "    weights = keyed_vectors.vectors  # vectors themselves, a 2D numpy array    \n",
    "    index_to_key = keyed_vectors.index_to_key  # which row in `weights` corresponds to which word?\n",
    "\n",
    "    layer = Embedding(\n",
    "        input_dim=weights.shape[0],\n",
    "        output_dim=weights.shape[1],\n",
    "        weights=[weights],\n",
    "        trainable=train_embeddings,\n",
    "    )\n",
    "    return layer"
   ]
  },
  {
   "cell_type": "code",
   "execution_count": 25,
   "id": "27b98a2b",
   "metadata": {
    "ExecuteTime": {
     "end_time": "2024-01-25T18:55:19.833298Z",
     "start_time": "2024-01-25T18:55:19.214304Z"
    }
   },
   "outputs": [
    {
     "name": "stdout",
     "output_type": "stream",
     "text": [
      "WARNING:tensorflow:From C:\\Users\\Desktop\\anaconda3\\Lib\\site-packages\\keras\\src\\backend.py:873: The name tf.get_default_graph is deprecated. Please use tf.compat.v1.get_default_graph instead.\n",
      "\n"
     ]
    }
   ],
   "source": [
    "emb_layer = gensim_to_keras_embedding(word2vec_model)"
   ]
  },
  {
   "cell_type": "code",
   "execution_count": 26,
   "id": "48cdb5e1",
   "metadata": {
    "ExecuteTime": {
     "end_time": "2024-01-25T18:55:20.388050Z",
     "start_time": "2024-01-25T18:55:19.836283Z"
    }
   },
   "outputs": [
    {
     "name": "stdout",
     "output_type": "stream",
     "text": [
      "WARNING:tensorflow:From C:\\Users\\Desktop\\anaconda3\\Lib\\site-packages\\keras\\src\\backend.py:6642: The name tf.nn.max_pool is deprecated. Please use tf.nn.max_pool2d instead.\n",
      "\n"
     ]
    }
   ],
   "source": [
    "cnn_model = Sequential()\n",
    "cnn_model.add(tf.keras.layers.Input(75,1))  # tokenized X Input shape!\n",
    "cnn_model.add(emb_layer)\n",
    "cnn_model.add(tf.keras.layers.Conv1D(128,2, activation='leaky_relu')) # for the first comment 256 == 128\n",
    "#cnn_model.add(tf.keras.layers.MaxPool1D())\n",
    "cnn_model.add(tf.keras.layers.Conv1D(128,2,activation='leaky_relu')) #for the first comment 128 == 64\n",
    "#cnn_model.add(tf.keras.layers.MaxPool1D())\n",
    "cnn_model.add(tf.keras.layers.Conv1D(128,2,activation='leaky_relu')) \n",
    "cnn_model.add(tf.keras.layers.MaxPool1D())\n",
    "cnn_model.add(tf.keras.layers.Conv1D(64,2,activation='leaky_relu'))\n",
    "cnn_model.add(tf.keras.layers.Conv1D(64,2,activation='leaky_relu'))\n",
    "cnn_model.add(tf.keras.layers.Conv1D(64,2,activation='leaky_relu'))\n",
    "cnn_model.add(tf.keras.layers.MaxPool1D())\n",
    "cnn_model.add(tf.keras.layers.BatchNormalization())\n",
    "cnn_model.add(tf.keras.layers.Flatten())\n",
    "cnn_model.add(tf.keras.layers.Dense(64,activation='leaky_relu'))\n",
    "cnn_model.add(tf.keras.layers.Dense(32,activation='leaky_relu'))\n",
    "cnn_model.add(tf.keras.layers.Dense(17,activation='softmax'))"
   ]
  },
  {
   "cell_type": "code",
   "execution_count": 27,
   "id": "71d7b438",
   "metadata": {
    "ExecuteTime": {
     "end_time": "2024-01-25T18:55:20.408562Z",
     "start_time": "2024-01-25T18:55:20.393041Z"
    }
   },
   "outputs": [],
   "source": [
    "opt = tf.keras.optimizers.AdamW(learning_rate =0.007 , beta_1=0.9,\n",
    "    beta_2=0.999,\n",
    "    use_ema=True,\n",
    "    ema_momentum=0.99)"
   ]
  },
  {
   "cell_type": "code",
   "execution_count": 28,
   "id": "90ef9240",
   "metadata": {
    "ExecuteTime": {
     "end_time": "2024-01-25T18:55:20.456989Z",
     "start_time": "2024-01-25T18:55:20.411071Z"
    }
   },
   "outputs": [],
   "source": [
    "cnn_model.compile(optimizer=opt, \n",
    "          loss = 'categorical_crossentropy',\n",
    "          metrics=[tf.keras.metrics.BinaryAccuracy(name='accuracy'),\n",
    "                   tf.keras.metrics.Precision(name='precision') ,\n",
    "                   tf.keras.metrics.Recall(name='recall')])"
   ]
  },
  {
   "cell_type": "code",
   "execution_count": 29,
   "id": "dc953e4a",
   "metadata": {
    "ExecuteTime": {
     "end_time": "2024-01-25T18:55:20.499978Z",
     "start_time": "2024-01-25T18:55:20.462974Z"
    }
   },
   "outputs": [
    {
     "name": "stdout",
     "output_type": "stream",
     "text": [
      "Model: \"sequential\"\n",
      "_________________________________________________________________\n",
      " Layer (type)                Output Shape              Param #   \n",
      "=================================================================\n",
      " embedding (Embedding)       (1, 75, 500)              8980000   \n",
      "                                                                 \n",
      " conv1d (Conv1D)             (1, 74, 128)              128128    \n",
      "                                                                 \n",
      " conv1d_1 (Conv1D)           (1, 73, 128)              32896     \n",
      "                                                                 \n",
      " conv1d_2 (Conv1D)           (1, 72, 128)              32896     \n",
      "                                                                 \n",
      " max_pooling1d (MaxPooling1  (1, 36, 128)              0         \n",
      " D)                                                              \n",
      "                                                                 \n",
      " conv1d_3 (Conv1D)           (1, 35, 64)               16448     \n",
      "                                                                 \n",
      " conv1d_4 (Conv1D)           (1, 34, 64)               8256      \n",
      "                                                                 \n",
      " conv1d_5 (Conv1D)           (1, 33, 64)               8256      \n",
      "                                                                 \n",
      " max_pooling1d_1 (MaxPoolin  (1, 16, 64)               0         \n",
      " g1D)                                                            \n",
      "                                                                 \n",
      " batch_normalization (Batch  (1, 16, 64)               256       \n",
      " Normalization)                                                  \n",
      "                                                                 \n",
      " flatten (Flatten)           (1, 1024)                 0         \n",
      "                                                                 \n",
      " dense (Dense)               (1, 64)                   65600     \n",
      "                                                                 \n",
      " dense_1 (Dense)             (1, 32)                   2080      \n",
      "                                                                 \n",
      " dense_2 (Dense)             (1, 17)                   561       \n",
      "                                                                 \n",
      "=================================================================\n",
      "Total params: 9275377 (35.38 MB)\n",
      "Trainable params: 295249 (1.13 MB)\n",
      "Non-trainable params: 8980128 (34.26 MB)\n",
      "_________________________________________________________________\n"
     ]
    }
   ],
   "source": [
    "cnn_model.summary()"
   ]
  },
  {
   "cell_type": "code",
   "execution_count": 30,
   "id": "cf649574",
   "metadata": {
    "ExecuteTime": {
     "end_time": "2024-01-25T18:55:32.380589Z",
     "start_time": "2024-01-25T18:55:20.501979Z"
    }
   },
   "outputs": [
    {
     "name": "stdout",
     "output_type": "stream",
     "text": [
      "WARNING:tensorflow:From C:\\Users\\Desktop\\anaconda3\\Lib\\site-packages\\keras\\src\\utils\\tf_utils.py:492: The name tf.ragged.RaggedTensorValue is deprecated. Please use tf.compat.v1.ragged.RaggedTensorValue instead.\n",
      "\n",
      "219/219 [==============================] - 12s 33ms/step - loss: 2.6718 - accuracy: 0.9416 - precision: 0.5580 - recall: 0.0331 - val_loss: 2.8004 - val_accuracy: 0.9405 - val_precision: 0.4667 - val_recall: 0.0761\n"
     ]
    },
    {
     "data": {
      "text/plain": [
       "<keras.src.callbacks.History at 0x212b351b250>"
      ]
     },
     "execution_count": 30,
     "metadata": {},
     "output_type": "execute_result"
    }
   ],
   "source": [
    "cnn_model.fit(X_train, \n",
    "              y_train_cat , \n",
    "              batch_size = 32 , \n",
    "              epochs = 1 , \n",
    "              validation_split = (0.2) ,\n",
    "              #lass_weight=class_weights ,\n",
    "              verbose =1 \n",
    "             )"
   ]
  },
  {
   "cell_type": "code",
   "execution_count": 31,
   "id": "48812e2c",
   "metadata": {
    "ExecuteTime": {
     "end_time": "2024-01-25T18:55:33.478126Z",
     "start_time": "2024-01-25T18:55:32.382582Z"
    }
   },
   "outputs": [
    {
     "name": "stdout",
     "output_type": "stream",
     "text": [
      "69/69 [==============================] - 1s 11ms/step\n"
     ]
    }
   ],
   "source": [
    "predictions = np.argmax(cnn_model.predict(X_test), axis=-1)"
   ]
  },
  {
   "cell_type": "code",
   "execution_count": 32,
   "id": "a680d55b",
   "metadata": {
    "ExecuteTime": {
     "end_time": "2024-01-25T18:55:36.566181Z",
     "start_time": "2024-01-25T18:55:36.558740Z"
    }
   },
   "outputs": [
    {
     "data": {
      "text/plain": [
       "array([ 7, 14,  3, ...,  7,  7,  7], dtype=int64)"
      ]
     },
     "execution_count": 32,
     "metadata": {},
     "output_type": "execute_result"
    }
   ],
   "source": [
    "predictions"
   ]
  },
  {
   "cell_type": "code",
   "execution_count": 33,
   "id": "4de90c23",
   "metadata": {
    "ExecuteTime": {
     "end_time": "2024-01-25T18:55:38.113357Z",
     "start_time": "2024-01-25T18:55:38.106409Z"
    }
   },
   "outputs": [],
   "source": [
    "from sklearn.metrics import classification_report, confusion_matrix"
   ]
  },
  {
   "cell_type": "code",
   "execution_count": 34,
   "id": "4ec9746d",
   "metadata": {
    "ExecuteTime": {
     "end_time": "2024-01-25T18:55:39.623475Z",
     "start_time": "2024-01-25T18:55:39.578055Z"
    }
   },
   "outputs": [
    {
     "name": "stdout",
     "output_type": "stream",
     "text": [
      "              precision    recall  f1-score   support\n",
      "\n",
      "           0       0.00      0.00      0.00        68\n",
      "           1       1.00      0.01      0.01       176\n",
      "           2       0.00      0.00      0.00        97\n",
      "           3       0.00      0.00      0.00        90\n",
      "           4       0.00      0.00      0.00        93\n",
      "           5       0.00      0.00      0.00       108\n",
      "           6       0.00      0.00      0.00       126\n",
      "           7       0.07      0.99      0.13       136\n",
      "           8       0.00      0.00      0.00       122\n",
      "           9       0.00      0.00      0.00       155\n",
      "          10       0.00      0.00      0.00        61\n",
      "          11       0.00      0.00      0.00       172\n",
      "          12       0.29      0.05      0.08       182\n",
      "          13       0.00      0.00      0.00       151\n",
      "          14       0.03      0.02      0.02       200\n",
      "          15       0.00      0.00      0.00       169\n",
      "          16       1.00      0.05      0.10        77\n",
      "\n",
      "    accuracy                           0.07      2183\n",
      "   macro avg       0.14      0.07      0.02      2183\n",
      "weighted avg       0.15      0.07      0.02      2183\n",
      "\n"
     ]
    },
    {
     "name": "stderr",
     "output_type": "stream",
     "text": [
      "C:\\Users\\Desktop\\anaconda3\\Lib\\site-packages\\sklearn\\metrics\\_classification.py:1469: UndefinedMetricWarning: Precision and F-score are ill-defined and being set to 0.0 in labels with no predicted samples. Use `zero_division` parameter to control this behavior.\n",
      "  _warn_prf(average, modifier, msg_start, len(result))\n",
      "C:\\Users\\Desktop\\anaconda3\\Lib\\site-packages\\sklearn\\metrics\\_classification.py:1469: UndefinedMetricWarning: Precision and F-score are ill-defined and being set to 0.0 in labels with no predicted samples. Use `zero_division` parameter to control this behavior.\n",
      "  _warn_prf(average, modifier, msg_start, len(result))\n",
      "C:\\Users\\Desktop\\anaconda3\\Lib\\site-packages\\sklearn\\metrics\\_classification.py:1469: UndefinedMetricWarning: Precision and F-score are ill-defined and being set to 0.0 in labels with no predicted samples. Use `zero_division` parameter to control this behavior.\n",
      "  _warn_prf(average, modifier, msg_start, len(result))\n"
     ]
    }
   ],
   "source": [
    "print(classification_report(y_test, predictions))"
   ]
  },
  {
   "cell_type": "code",
   "execution_count": 35,
   "id": "b8b84e11",
   "metadata": {
    "ExecuteTime": {
     "end_time": "2024-01-25T18:55:40.640535Z",
     "start_time": "2024-01-25T18:55:40.634534Z"
    }
   },
   "outputs": [],
   "source": [
    "## Lets run it 8 more times"
   ]
  },
  {
   "cell_type": "code",
   "execution_count": 36,
   "id": "7d7fe46e",
   "metadata": {
    "ExecuteTime": {
     "end_time": "2024-01-25T18:56:34.738455Z",
     "start_time": "2024-01-25T18:55:42.107563Z"
    }
   },
   "outputs": [
    {
     "name": "stdout",
     "output_type": "stream",
     "text": [
      "Epoch 1/8\n",
      "219/219 [==============================] - 6s 28ms/step - loss: 2.3516 - accuracy: 0.9436 - precision: 0.6740 - recall: 0.0793 - val_loss: 3.5850 - val_accuracy: 0.9230 - val_precision: 0.2239 - val_recall: 0.1254\n",
      "Epoch 2/8\n",
      "219/219 [==============================] - 6s 30ms/step - loss: 2.1254 - accuracy: 0.9451 - precision: 0.7012 - recall: 0.1162 - val_loss: 2.5323 - val_accuracy: 0.9400 - val_precision: 0.4643 - val_recall: 0.1339\n",
      "Epoch 3/8\n",
      "219/219 [==============================] - 7s 32ms/step - loss: 1.9341 - accuracy: 0.9468 - precision: 0.7061 - recall: 0.1631 - val_loss: 2.1095 - val_accuracy: 0.9443 - val_precision: 0.5695 - val_recall: 0.2158\n",
      "Epoch 4/8\n",
      "219/219 [==============================] - 7s 31ms/step - loss: 1.7880 - accuracy: 0.9486 - precision: 0.7143 - recall: 0.2105 - val_loss: 2.5103 - val_accuracy: 0.9390 - val_precision: 0.4565 - val_recall: 0.1952\n",
      "Epoch 5/8\n",
      "219/219 [==============================] - 6s 29ms/step - loss: 1.6601 - accuracy: 0.9509 - precision: 0.7291 - recall: 0.2640 - val_loss: 2.2361 - val_accuracy: 0.9425 - val_precision: 0.5258 - val_recall: 0.2272\n",
      "Epoch 6/8\n",
      "219/219 [==============================] - 7s 30ms/step - loss: 1.4802 - accuracy: 0.9540 - precision: 0.7464 - recall: 0.3311 - val_loss: 2.2091 - val_accuracy: 0.9448 - val_precision: 0.5569 - val_recall: 0.3051\n",
      "Epoch 7/8\n",
      "219/219 [==============================] - 6s 29ms/step - loss: 1.3775 - accuracy: 0.9561 - precision: 0.7536 - recall: 0.3770 - val_loss: 2.5281 - val_accuracy: 0.9375 - val_precision: 0.4468 - val_recall: 0.2645\n",
      "Epoch 8/8\n",
      "219/219 [==============================] - 7s 30ms/step - loss: 1.2091 - accuracy: 0.9598 - precision: 0.7641 - recall: 0.4568 - val_loss: 2.6578 - val_accuracy: 0.9392 - val_precision: 0.4730 - val_recall: 0.2954\n"
     ]
    },
    {
     "data": {
      "text/plain": [
       "<keras.src.callbacks.History at 0x212ced74f50>"
      ]
     },
     "execution_count": 36,
     "metadata": {},
     "output_type": "execute_result"
    }
   ],
   "source": [
    "cnn_model.fit(X_train, \n",
    "              y_train_cat , \n",
    "              batch_size = 32 , \n",
    "              epochs = 8 , \n",
    "              validation_split = (0.2) ,\n",
    "              #lass_weight=class_weights ,\n",
    "              verbose =1 \n",
    "             )"
   ]
  },
  {
   "cell_type": "code",
   "execution_count": 37,
   "id": "bd973f78",
   "metadata": {
    "ExecuteTime": {
     "end_time": "2024-01-25T18:56:50.517058Z",
     "start_time": "2024-01-25T18:56:49.643723Z"
    }
   },
   "outputs": [
    {
     "name": "stdout",
     "output_type": "stream",
     "text": [
      "69/69 [==============================] - 1s 11ms/step\n"
     ]
    }
   ],
   "source": [
    "predictions = np.argmax(cnn_model.predict(X_test), axis=-1)"
   ]
  },
  {
   "cell_type": "code",
   "execution_count": 38,
   "id": "32b527a6",
   "metadata": {
    "ExecuteTime": {
     "end_time": "2024-01-25T18:56:51.358706Z",
     "start_time": "2024-01-25T18:56:51.347135Z"
    }
   },
   "outputs": [
    {
     "data": {
      "text/plain": [
       "array([ 9,  1, 16, ..., 14,  2, 12], dtype=int64)"
      ]
     },
     "execution_count": 38,
     "metadata": {},
     "output_type": "execute_result"
    }
   ],
   "source": [
    "predictions"
   ]
  },
  {
   "cell_type": "code",
   "execution_count": 39,
   "id": "3d2afb79",
   "metadata": {
    "ExecuteTime": {
     "end_time": "2024-01-25T18:56:53.167503Z",
     "start_time": "2024-01-25T18:56:53.129779Z"
    }
   },
   "outputs": [
    {
     "name": "stdout",
     "output_type": "stream",
     "text": [
      "              precision    recall  f1-score   support\n",
      "\n",
      "           0       0.38      0.09      0.14        68\n",
      "           1       0.72      0.49      0.58       176\n",
      "           2       0.33      0.20      0.25        97\n",
      "           3       0.43      0.46      0.44        90\n",
      "           4       0.34      0.12      0.18        93\n",
      "           5       0.54      0.51      0.52       108\n",
      "           6       0.68      0.58      0.62       126\n",
      "           7       0.40      0.49      0.44       136\n",
      "           8       0.29      0.33      0.31       122\n",
      "           9       0.57      0.53      0.55       155\n",
      "          10       0.43      0.16      0.24        61\n",
      "          11       0.30      0.38      0.33       172\n",
      "          12       0.57      0.55      0.56       182\n",
      "          13       0.44      0.30      0.35       151\n",
      "          14       0.20      0.45      0.27       200\n",
      "          15       0.79      0.72      0.75       169\n",
      "          16       0.82      0.78      0.80        77\n",
      "\n",
      "    accuracy                           0.44      2183\n",
      "   macro avg       0.48      0.42      0.43      2183\n",
      "weighted avg       0.49      0.44      0.45      2183\n",
      "\n"
     ]
    }
   ],
   "source": [
    "print(classification_report(y_test, predictions))"
   ]
  },
  {
   "cell_type": "code",
   "execution_count": 40,
   "id": "68dc262a",
   "metadata": {
    "ExecuteTime": {
     "end_time": "2024-01-25T18:56:55.832854Z",
     "start_time": "2024-01-25T18:56:55.826181Z"
    }
   },
   "outputs": [],
   "source": [
    "# and another 11 would b nice"
   ]
  },
  {
   "cell_type": "code",
   "execution_count": 41,
   "id": "6f345e30",
   "metadata": {
    "ExecuteTime": {
     "end_time": "2024-01-25T18:57:40.596715Z",
     "start_time": "2024-01-25T18:56:59.972221Z"
    }
   },
   "outputs": [
    {
     "name": "stdout",
     "output_type": "stream",
     "text": [
      "Epoch 1/6\n",
      "219/219 [==============================] - 7s 34ms/step - loss: 1.1009 - accuracy: 0.9623 - precision: 0.7710 - recall: 0.5099 - val_loss: 3.1260 - val_accuracy: 0.9380 - val_precision: 0.4618 - val_recall: 0.3291\n",
      "Epoch 2/6\n",
      "219/219 [==============================] - 7s 30ms/step - loss: 0.9895 - accuracy: 0.9649 - precision: 0.7823 - recall: 0.5578 - val_loss: 2.8733 - val_accuracy: 0.9364 - val_precision: 0.4446 - val_recall: 0.3263\n",
      "Epoch 3/6\n",
      "219/219 [==============================] - 7s 30ms/step - loss: 0.9033 - accuracy: 0.9678 - precision: 0.7941 - recall: 0.6117 - val_loss: 3.6561 - val_accuracy: 0.9342 - val_precision: 0.4238 - val_recall: 0.3309\n",
      "Epoch 4/6\n",
      "219/219 [==============================] - 7s 30ms/step - loss: 0.7963 - accuracy: 0.9719 - precision: 0.8194 - recall: 0.6691 - val_loss: 3.1631 - val_accuracy: 0.9405 - val_precision: 0.4927 - val_recall: 0.3875\n",
      "Epoch 5/6\n",
      "219/219 [==============================] - 7s 30ms/step - loss: 0.6996 - accuracy: 0.9748 - precision: 0.8370 - recall: 0.7088 - val_loss: 3.2308 - val_accuracy: 0.9349 - val_precision: 0.4329 - val_recall: 0.3452\n",
      "Epoch 6/6\n",
      "219/219 [==============================] - 7s 30ms/step - loss: 0.6551 - accuracy: 0.9770 - precision: 0.8477 - recall: 0.7420 - val_loss: 3.0796 - val_accuracy: 0.9379 - val_precision: 0.4644 - val_recall: 0.3658\n"
     ]
    },
    {
     "data": {
      "text/plain": [
       "<keras.src.callbacks.History at 0x212cf0e0fd0>"
      ]
     },
     "execution_count": 41,
     "metadata": {},
     "output_type": "execute_result"
    }
   ],
   "source": [
    "cnn_model.fit(X_train, \n",
    "              y_train_cat , \n",
    "              batch_size = 32 , \n",
    "              epochs = 6 , \n",
    "              validation_split = (0.2) ,\n",
    "              #lass_weight=class_weights ,\n",
    "              verbose =1 \n",
    "             )"
   ]
  },
  {
   "cell_type": "code",
   "execution_count": 42,
   "id": "4dcdb9d8",
   "metadata": {
    "ExecuteTime": {
     "end_time": "2024-01-25T18:58:06.931345Z",
     "start_time": "2024-01-25T18:58:06.089377Z"
    }
   },
   "outputs": [
    {
     "name": "stdout",
     "output_type": "stream",
     "text": [
      "69/69 [==============================] - 1s 10ms/step\n"
     ]
    },
    {
     "data": {
      "text/plain": [
       "array([14,  1, 16, ..., 11, 14, 12], dtype=int64)"
      ]
     },
     "execution_count": 42,
     "metadata": {},
     "output_type": "execute_result"
    }
   ],
   "source": [
    "predictions = np.argmax(cnn_model.predict(X_test), axis=-1)\n",
    "predictions"
   ]
  },
  {
   "cell_type": "code",
   "execution_count": 43,
   "id": "2a603876",
   "metadata": {
    "ExecuteTime": {
     "end_time": "2024-01-25T18:58:08.286967Z",
     "start_time": "2024-01-25T18:58:08.249432Z"
    }
   },
   "outputs": [
    {
     "name": "stdout",
     "output_type": "stream",
     "text": [
      "              precision    recall  f1-score   support\n",
      "\n",
      "           0       0.22      0.12      0.15        68\n",
      "           1       0.68      0.57      0.62       176\n",
      "           2       0.42      0.46      0.44        97\n",
      "           3       0.39      0.48      0.43        90\n",
      "           4       0.35      0.25      0.29        93\n",
      "           5       0.64      0.58      0.61       108\n",
      "           6       0.66      0.50      0.57       126\n",
      "           7       0.45      0.51      0.48       136\n",
      "           8       0.38      0.34      0.35       122\n",
      "           9       0.62      0.56      0.59       155\n",
      "          10       0.52      0.28      0.36        61\n",
      "          11       0.32      0.38      0.35       172\n",
      "          12       0.60      0.49      0.54       182\n",
      "          13       0.43      0.40      0.41       151\n",
      "          14       0.26      0.42      0.32       200\n",
      "          15       0.74      0.75      0.74       169\n",
      "          16       0.74      0.83      0.78        77\n",
      "\n",
      "    accuracy                           0.48      2183\n",
      "   macro avg       0.49      0.47      0.47      2183\n",
      "weighted avg       0.50      0.48      0.48      2183\n",
      "\n"
     ]
    }
   ],
   "source": [
    "print(classification_report(y_test, predictions))"
   ]
  },
  {
   "cell_type": "code",
   "execution_count": 168,
   "id": "0811982e",
   "metadata": {
    "ExecuteTime": {
     "end_time": "2024-01-25T17:51:43.706855Z",
     "start_time": "2024-01-25T17:51:06.402415Z"
    }
   },
   "outputs": [
    {
     "name": "stdout",
     "output_type": "stream",
     "text": [
      "Epoch 1/5\n",
      "219/219 [==============================] - 7s 34ms/step - loss: 0.2620 - accuracy: 0.9920 - precision: 0.9514 - recall: 0.9108 - val_loss: 4.0628 - val_accuracy: 0.9325 - val_precision: 0.4146 - val_recall: 0.3600\n",
      "Epoch 2/5\n",
      "219/219 [==============================] - 7s 33ms/step - loss: 0.2915 - accuracy: 0.9909 - precision: 0.9422 - recall: 0.9004 - val_loss: 3.6961 - val_accuracy: 0.9350 - val_precision: 0.4393 - val_recall: 0.3812\n",
      "Epoch 3/5\n",
      "219/219 [==============================] - 7s 33ms/step - loss: 0.2683 - accuracy: 0.9913 - precision: 0.9446 - recall: 0.9054 - val_loss: 4.8513 - val_accuracy: 0.9264 - val_precision: 0.3609 - val_recall: 0.3268\n",
      "Epoch 4/5\n",
      "219/219 [==============================] - 7s 32ms/step - loss: 0.2867 - accuracy: 0.9910 - precision: 0.9420 - recall: 0.9024 - val_loss: 4.1348 - val_accuracy: 0.9340 - val_precision: 0.4288 - val_recall: 0.3686\n",
      "Epoch 5/5\n",
      "219/219 [==============================] - 7s 33ms/step - loss: 0.2775 - accuracy: 0.9910 - precision: 0.9428 - recall: 0.9015 - val_loss: 4.3212 - val_accuracy: 0.9267 - val_precision: 0.3570 - val_recall: 0.3074\n",
      "69/69 [==============================] - 1s 11ms/step\n",
      "[ 9  1 16 ... 12  5  1]\n",
      "              precision    recall  f1-score   support\n",
      "\n",
      "           0       0.23      0.18      0.20        68\n",
      "           1       0.69      0.53      0.60       176\n",
      "           2       0.32      0.48      0.39        97\n",
      "           3       0.45      0.53      0.49        90\n",
      "           4       0.34      0.22      0.26        93\n",
      "           5       0.60      0.54      0.57       108\n",
      "           6       0.64      0.46      0.54       126\n",
      "           7       0.52      0.51      0.52       136\n",
      "           8       0.32      0.24      0.27       122\n",
      "           9       0.69      0.55      0.62       155\n",
      "          10       0.43      0.30      0.35        61\n",
      "          11       0.37      0.42      0.39       172\n",
      "          12       0.56      0.50      0.53       182\n",
      "          13       0.34      0.32      0.33       151\n",
      "          14       0.22      0.45      0.30       200\n",
      "          15       0.80      0.68      0.73       169\n",
      "          16       0.84      0.75      0.79        77\n",
      "\n",
      "    accuracy                           0.46      2183\n",
      "   macro avg       0.49      0.45      0.46      2183\n",
      "weighted avg       0.50      0.46      0.47      2183\n",
      "\n"
     ]
    }
   ],
   "source": [
    "cnn_model.fit(X_train, \n",
    "              y_train_cat , \n",
    "              batch_size = 32 , \n",
    "              epochs = 5 , \n",
    "              validation_split = (0.2) ,\n",
    "              #lass_weight=class_weights ,\n",
    "              verbose =1 \n",
    "             )\n",
    "\n",
    "predictions = np.argmax(cnn_model.predict(X_test), axis=-1)\n",
    "print(predictions)\n",
    "\n",
    "print(classification_report(y_test, predictions))"
   ]
  },
  {
   "cell_type": "markdown",
   "id": "c330916f",
   "metadata": {},
   "source": [
    "## Okay time for model2"
   ]
  },
  {
   "cell_type": "code",
   "execution_count": 49,
   "id": "99c0b267",
   "metadata": {
    "ExecuteTime": {
     "end_time": "2024-01-25T19:01:49.394231Z",
     "start_time": "2024-01-25T19:01:49.225454Z"
    }
   },
   "outputs": [],
   "source": [
    "cnn_model2 = Sequential()\n",
    "cnn_model2.add(tf.keras.layers.Input(75,1))  # tokenized X Input shape!\n",
    "cnn_model2.add(emb_layer)\n",
    "cnn_model2.add(tf.keras.layers.Conv1D(256,2,padding='same', strides=1 ,activation='relu')) \n",
    "cnn_model2.add(tf.keras.layers.Conv1D(128,2,padding='same', strides=1 ,activation='relu')) \n",
    "cnn_model2.add(tf.keras.layers.Conv1D(64,2,padding='same', strides=1 ,activation='relu')) \n",
    "cnn_model2.add(tf.keras.layers.MaxPool1D())\n",
    "#cnn_model2.add(tf.keras.layers.BatchNormalization())\n",
    "cnn_model2.add(tf.keras.layers.Flatten())\n",
    "cnn_model2.add(tf.keras.layers.Dense(64,activation='leaky_relu'))\n",
    "cnn_model2.add((tf.keras.layers.Dropout(0.2)))\n",
    "#cnn_model2.add(tf.keras.layers.Dense(32,activation='leaky_relu'))\n",
    "cnn_model2.add(tf.keras.layers.Dense(17,activation='softmax'))"
   ]
  },
  {
   "cell_type": "code",
   "execution_count": 50,
   "id": "cecfd550",
   "metadata": {
    "ExecuteTime": {
     "end_time": "2024-01-25T19:01:49.821449Z",
     "start_time": "2024-01-25T19:01:49.809157Z"
    }
   },
   "outputs": [],
   "source": [
    "opt = tf.keras.optimizers.AdamW(learning_rate =0.0005 , beta_1=0.9,\n",
    "    beta_2=0.999,\n",
    "    use_ema=True,\n",
    "    ema_momentum=0.99)"
   ]
  },
  {
   "cell_type": "code",
   "execution_count": 51,
   "id": "d5ed7689",
   "metadata": {
    "ExecuteTime": {
     "end_time": "2024-01-25T19:01:50.539011Z",
     "start_time": "2024-01-25T19:01:50.496009Z"
    }
   },
   "outputs": [],
   "source": [
    "cnn_model2.compile(optimizer=opt, \n",
    "          loss = 'categorical_crossentropy',\n",
    "          metrics=[tf.keras.metrics.BinaryAccuracy(name='accuracy'),\n",
    "                   tf.keras.metrics.Precision(name='precision') ,\n",
    "                   tf.keras.metrics.Recall(name='recall')])"
   ]
  },
  {
   "cell_type": "code",
   "execution_count": 52,
   "id": "fcbcce17",
   "metadata": {
    "ExecuteTime": {
     "end_time": "2024-01-25T19:01:51.199049Z",
     "start_time": "2024-01-25T19:01:51.154046Z"
    }
   },
   "outputs": [
    {
     "name": "stdout",
     "output_type": "stream",
     "text": [
      "Model: \"sequential_2\"\n",
      "_________________________________________________________________\n",
      " Layer (type)                Output Shape              Param #   \n",
      "=================================================================\n",
      " embedding (Embedding)       (1, 75, 500)              8980000   \n",
      "                                                                 \n",
      " conv1d_9 (Conv1D)           (1, 75, 256)              256256    \n",
      "                                                                 \n",
      " conv1d_10 (Conv1D)          (1, 75, 128)              65664     \n",
      "                                                                 \n",
      " conv1d_11 (Conv1D)          (1, 75, 64)               16448     \n",
      "                                                                 \n",
      " max_pooling1d_3 (MaxPoolin  (1, 37, 64)               0         \n",
      " g1D)                                                            \n",
      "                                                                 \n",
      " flatten_2 (Flatten)         (1, 2368)                 0         \n",
      "                                                                 \n",
      " dense_5 (Dense)             (1, 64)                   151616    \n",
      "                                                                 \n",
      " dropout_1 (Dropout)         (1, 64)                   0         \n",
      "                                                                 \n",
      " dense_6 (Dense)             (1, 17)                   1105      \n",
      "                                                                 \n",
      "=================================================================\n",
      "Total params: 9471089 (36.13 MB)\n",
      "Trainable params: 491089 (1.87 MB)\n",
      "Non-trainable params: 8980000 (34.26 MB)\n",
      "_________________________________________________________________\n"
     ]
    }
   ],
   "source": [
    "cnn_model2.summary()"
   ]
  },
  {
   "cell_type": "code",
   "execution_count": 53,
   "id": "f25eaa85",
   "metadata": {
    "ExecuteTime": {
     "end_time": "2024-01-25T19:03:19.652957Z",
     "start_time": "2024-01-25T19:01:52.585053Z"
    }
   },
   "outputs": [
    {
     "name": "stdout",
     "output_type": "stream",
     "text": [
      "Epoch 1/10\n",
      "110/110 [==============================] - 11s 79ms/step - loss: 2.7719 - accuracy: 0.9412 - precision: 1.0000 - recall: 2.8633e-04 - val_loss: 2.6515 - val_accuracy: 0.9413 - val_precision: 1.0000 - val_recall: 0.0023\n",
      "Epoch 2/10\n",
      "110/110 [==============================] - 8s 77ms/step - loss: 2.4699 - accuracy: 0.9428 - precision: 0.8403 - recall: 0.0346 - val_loss: 2.3190 - val_accuracy: 0.9454 - val_precision: 0.8000 - val_recall: 0.0962\n",
      "Epoch 3/10\n",
      "110/110 [==============================] - 8s 76ms/step - loss: 2.0402 - accuracy: 0.9459 - precision: 0.8103 - recall: 0.1058 - val_loss: 2.1158 - val_accuracy: 0.9452 - val_precision: 0.7990 - val_recall: 0.0910\n",
      "Epoch 4/10\n",
      "110/110 [==============================] - 8s 75ms/step - loss: 1.6157 - accuracy: 0.9508 - precision: 0.8354 - recall: 0.2027 - val_loss: 2.1075 - val_accuracy: 0.9450 - val_precision: 0.6342 - val_recall: 0.1528\n",
      "Epoch 5/10\n",
      "110/110 [==============================] - 9s 78ms/step - loss: 1.2290 - accuracy: 0.9598 - precision: 0.8601 - recall: 0.3785 - val_loss: 1.9015 - val_accuracy: 0.9477 - val_precision: 0.6744 - val_recall: 0.2158\n",
      "Epoch 6/10\n",
      "110/110 [==============================] - 8s 75ms/step - loss: 0.8771 - accuracy: 0.9706 - precision: 0.9085 - recall: 0.5555 - val_loss: 2.2256 - val_accuracy: 0.9432 - val_precision: 0.5402 - val_recall: 0.2267\n",
      "Epoch 7/10\n",
      "110/110 [==============================] - 8s 76ms/step - loss: 0.6338 - accuracy: 0.9786 - precision: 0.9317 - recall: 0.6869 - val_loss: 2.3924 - val_accuracy: 0.9386 - val_precision: 0.4601 - val_recall: 0.2541\n",
      "Epoch 8/10\n",
      "110/110 [==============================] - 8s 76ms/step - loss: 0.4300 - accuracy: 0.9862 - precision: 0.9518 - recall: 0.8056 - val_loss: 2.1841 - val_accuracy: 0.9421 - val_precision: 0.5126 - val_recall: 0.3034\n",
      "Epoch 9/10\n",
      "110/110 [==============================] - 8s 75ms/step - loss: 0.2957 - accuracy: 0.9912 - precision: 0.9658 - recall: 0.8823 - val_loss: 2.4687 - val_accuracy: 0.9393 - val_precision: 0.4742 - val_recall: 0.2942\n",
      "Epoch 10/10\n",
      "110/110 [==============================] - 8s 75ms/step - loss: 0.2654 - accuracy: 0.9927 - precision: 0.9692 - recall: 0.9047 - val_loss: 2.1708 - val_accuracy: 0.9436 - val_precision: 0.5324 - val_recall: 0.3337\n",
      "69/69 [==============================] - 1s 14ms/step\n",
      "[ 4  1 16 ...  9 11 13]\n",
      "              precision    recall  f1-score   support\n",
      "\n",
      "           0       0.43      0.18      0.25        68\n",
      "           1       0.59      0.57      0.58       176\n",
      "           2       0.38      0.28      0.32        97\n",
      "           3       0.46      0.41      0.43        90\n",
      "           4       0.35      0.18      0.24        93\n",
      "           5       0.47      0.44      0.46       108\n",
      "           6       0.52      0.46      0.49       126\n",
      "           7       0.34      0.43      0.38       136\n",
      "           8       0.30      0.32      0.31       122\n",
      "           9       0.46      0.48      0.47       155\n",
      "          10       0.36      0.26      0.30        61\n",
      "          11       0.27      0.37      0.31       172\n",
      "          12       0.49      0.46      0.47       182\n",
      "          13       0.33      0.32      0.33       151\n",
      "          14       0.25      0.29      0.27       200\n",
      "          15       0.70      0.76      0.73       169\n",
      "          16       0.78      0.86      0.81        77\n",
      "\n",
      "    accuracy                           0.43      2183\n",
      "   macro avg       0.44      0.42      0.42      2183\n",
      "weighted avg       0.43      0.43      0.43      2183\n",
      "\n"
     ]
    }
   ],
   "source": [
    "cnn_model2.fit(X_train, \n",
    "              y_train_cat , \n",
    "              batch_size = 64 , \n",
    "              epochs = 10 , \n",
    "              validation_split = (0.2) ,\n",
    "              #lass_weight=class_weights ,\n",
    "              verbose =1 \n",
    "             )\n",
    "\n",
    "predictions = np.argmax(cnn_model2.predict(X_test), axis=-1)\n",
    "print(predictions)\n",
    "\n",
    "print(classification_report(y_test, predictions))"
   ]
  },
  {
   "cell_type": "code",
   "execution_count": 120,
   "id": "3665256a",
   "metadata": {
    "ExecuteTime": {
     "end_time": "2024-01-25T17:40:25.974707Z",
     "start_time": "2024-01-25T17:40:25.968538Z"
    }
   },
   "outputs": [],
   "source": [
    "# another 10 maybe"
   ]
  },
  {
   "cell_type": "code",
   "execution_count": 121,
   "id": "cbd9d785",
   "metadata": {
    "ExecuteTime": {
     "end_time": "2024-01-25T17:42:10.290585Z",
     "start_time": "2024-01-25T17:40:27.143770Z"
    }
   },
   "outputs": [
    {
     "name": "stdout",
     "output_type": "stream",
     "text": [
      "Epoch 1/10\n",
      "219/219 [==============================] - 10s 47ms/step - loss: 0.0154 - accuracy: 0.9969 - precision: 0.9783 - recall: 0.9692 - val_loss: 0.5833 - val_accuracy: 0.9044 - val_precision: 0.1579 - val_recall: 0.1442\n",
      "Epoch 2/10\n",
      "219/219 [==============================] - 10s 45ms/step - loss: 0.0152 - accuracy: 0.9971 - precision: 0.9798 - recall: 0.9711 - val_loss: 0.3663 - val_accuracy: 0.9218 - val_precision: 0.2962 - val_recall: 0.2393\n",
      "Epoch 3/10\n",
      "219/219 [==============================] - 10s 47ms/step - loss: 0.0141 - accuracy: 0.9973 - precision: 0.9814 - recall: 0.9727 - val_loss: 0.5427 - val_accuracy: 0.9084 - val_precision: 0.2010 - val_recall: 0.1872\n",
      "Epoch 4/10\n",
      "219/219 [==============================] - 10s 46ms/step - loss: 0.0136 - accuracy: 0.9972 - precision: 0.9798 - recall: 0.9731 - val_loss: 0.5824 - val_accuracy: 0.9037 - val_precision: 0.1683 - val_recall: 0.1614\n",
      "Epoch 5/10\n",
      "219/219 [==============================] - 10s 45ms/step - loss: 0.0130 - accuracy: 0.9971 - precision: 0.9791 - recall: 0.9721 - val_loss: 0.6734 - val_accuracy: 0.9046 - val_precision: 0.1749 - val_recall: 0.1671\n",
      "Epoch 6/10\n",
      "219/219 [==============================] - 10s 46ms/step - loss: 0.0133 - accuracy: 0.9973 - precision: 0.9807 - recall: 0.9728 - val_loss: 0.4609 - val_accuracy: 0.9055 - val_precision: 0.1661 - val_recall: 0.1511\n",
      "Epoch 7/10\n",
      "219/219 [==============================] - 10s 48ms/step - loss: 0.0123 - accuracy: 0.9971 - precision: 0.9790 - recall: 0.9721 - val_loss: 0.5803 - val_accuracy: 0.9059 - val_precision: 0.1713 - val_recall: 0.1563\n",
      "Epoch 8/10\n",
      "219/219 [==============================] - 11s 48ms/step - loss: 0.0134 - accuracy: 0.9971 - precision: 0.9794 - recall: 0.9717 - val_loss: 0.5064 - val_accuracy: 0.9099 - val_precision: 0.2089 - val_recall: 0.1906\n",
      "Epoch 9/10\n",
      "219/219 [==============================] - 10s 46ms/step - loss: 0.0139 - accuracy: 0.9970 - precision: 0.9784 - recall: 0.9709 - val_loss: 0.6165 - val_accuracy: 0.9055 - val_precision: 0.1645 - val_recall: 0.1488\n",
      "Epoch 10/10\n",
      "219/219 [==============================] - 10s 46ms/step - loss: 0.0183 - accuracy: 0.9963 - precision: 0.9734 - recall: 0.9632 - val_loss: 0.8465 - val_accuracy: 0.8963 - val_precision: 0.1063 - val_recall: 0.1030\n",
      "69/69 [==============================] - 1s 15ms/step\n",
      "[ 5  1  1 ...  5 14  3]\n",
      "              precision    recall  f1-score   support\n",
      "\n",
      "           0       0.36      0.15      0.21        68\n",
      "           1       0.49      0.28      0.36       176\n",
      "           2       0.15      0.11      0.13        97\n",
      "           3       0.23      0.30      0.26        90\n",
      "           4       0.16      0.11      0.13        93\n",
      "           5       0.21      0.49      0.30       108\n",
      "           6       0.71      0.10      0.17       126\n",
      "           7       0.19      0.23      0.21       136\n",
      "           8       0.21      0.20      0.21       122\n",
      "           9       0.62      0.28      0.38       155\n",
      "          10       0.13      0.18      0.15        61\n",
      "          11       0.20      0.56      0.29       172\n",
      "          12       0.19      0.21      0.20       182\n",
      "          13       0.19      0.13      0.16       151\n",
      "          14       0.18      0.20      0.19       200\n",
      "          15       0.85      0.33      0.48       169\n",
      "          16       0.90      0.45      0.60        77\n",
      "\n",
      "    accuracy                           0.26      2183\n",
      "   macro avg       0.35      0.25      0.26      2183\n",
      "weighted avg       0.36      0.26      0.26      2183\n",
      "\n"
     ]
    }
   ],
   "source": [
    "cnn_model2.fit(X_train, \n",
    "              y_train_cat , \n",
    "              batch_size = 32 , \n",
    "              epochs = 10 , \n",
    "              validation_split = (0.2) ,\n",
    "              #lass_weight=class_weights ,\n",
    "              verbose =1 \n",
    "             )\n",
    "\n",
    "predictions = np.argmax(cnn_model2.predict(X_test), axis=-1)\n",
    "print(predictions)\n",
    "\n",
    "print(classification_report(y_test, predictions))"
   ]
  },
  {
   "cell_type": "code",
   "execution_count": null,
   "id": "0bb3228f",
   "metadata": {},
   "outputs": [],
   "source": []
  }
 ],
 "metadata": {
  "hide_input": false,
  "kernelspec": {
   "display_name": "Python 3 (ipykernel)",
   "language": "python",
   "name": "python3"
  },
  "language_info": {
   "codemirror_mode": {
    "name": "ipython",
    "version": 3
   },
   "file_extension": ".py",
   "mimetype": "text/x-python",
   "name": "python",
   "nbconvert_exporter": "python",
   "pygments_lexer": "ipython3",
   "version": "3.11.5"
  },
  "nbTranslate": {
   "displayLangs": [
    "*"
   ],
   "hotkey": "alt-t",
   "langInMainMenu": true,
   "sourceLang": "en",
   "targetLang": "fr",
   "useGoogleTranslate": true
  },
  "toc": {
   "base_numbering": 1,
   "nav_menu": {},
   "number_sections": true,
   "sideBar": true,
   "skip_h1_title": false,
   "title_cell": "Table of Contents",
   "title_sidebar": "Contents",
   "toc_cell": false,
   "toc_position": {},
   "toc_section_display": true,
   "toc_window_display": false
  },
  "varInspector": {
   "cols": {
    "lenName": 16,
    "lenType": 16,
    "lenVar": 40
   },
   "kernels_config": {
    "python": {
     "delete_cmd_postfix": "",
     "delete_cmd_prefix": "del ",
     "library": "var_list.py",
     "varRefreshCmd": "print(var_dic_list())"
    },
    "r": {
     "delete_cmd_postfix": ") ",
     "delete_cmd_prefix": "rm(",
     "library": "var_list.r",
     "varRefreshCmd": "cat(var_dic_list()) "
    }
   },
   "types_to_exclude": [
    "module",
    "function",
    "builtin_function_or_method",
    "instance",
    "_Feature"
   ],
   "window_display": false
  }
 },
 "nbformat": 4,
 "nbformat_minor": 5
}
