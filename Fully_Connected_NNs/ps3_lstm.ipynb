{
 "cells": [
  {
   "cell_type": "code",
   "execution_count": 1,
   "id": "2bb8233a",
   "metadata": {
    "ExecuteTime": {
     "end_time": "2024-01-21T17:45:44.952197Z",
     "start_time": "2024-01-21T17:45:43.018130Z"
    }
   },
   "outputs": [],
   "source": [
    "import numpy as np\n",
    "import pandas as pd\n",
    "import matplotlib.pyplot as plt\n",
    "\n",
    "from sklearn.datasets import make_classification"
   ]
  },
  {
   "cell_type": "code",
   "execution_count": 2,
   "id": "fb7fc4c7",
   "metadata": {
    "ExecuteTime": {
     "end_time": "2024-01-21T17:45:52.125386Z",
     "start_time": "2024-01-21T17:45:44.966113Z"
    }
   },
   "outputs": [
    {
     "name": "stdout",
     "output_type": "stream",
     "text": [
      "WARNING:tensorflow:From C:\\Users\\Desktop\\anaconda3\\Lib\\site-packages\\keras\\src\\losses.py:2976: The name tf.losses.sparse_softmax_cross_entropy is deprecated. Please use tf.compat.v1.losses.sparse_softmax_cross_entropy instead.\n",
      "\n"
     ]
    }
   ],
   "source": [
    "from tensorflow.keras.models import Sequential\n",
    "from tensorflow.keras.layers import Dense, Activation\n",
    "import tensorflow as tf\n",
    "\n",
    "from sklearn.model_selection import train_test_split\n",
    "from sklearn.preprocessing import LabelEncoder\n",
    "from sklearn.preprocessing import MinMaxScaler\n",
    "import gensim"
   ]
  },
  {
   "cell_type": "code",
   "execution_count": 3,
   "id": "f7cb131c",
   "metadata": {
    "ExecuteTime": {
     "end_time": "2024-01-21T17:45:52.143069Z",
     "start_time": "2024-01-21T17:45:52.140061Z"
    }
   },
   "outputs": [],
   "source": [
    "from gensim.models import Word2Vec, KeyedVectors"
   ]
  },
  {
   "cell_type": "code",
   "execution_count": 4,
   "id": "80853a4e",
   "metadata": {
    "ExecuteTime": {
     "end_time": "2024-01-21T17:45:52.470633Z",
     "start_time": "2024-01-21T17:45:52.157583Z"
    }
   },
   "outputs": [],
   "source": [
    "from nltk.stem import WordNetLemmatizer\n",
    "from nltk.corpus import stopwords\n",
    "from nltk.tokenize import RegexpTokenizer\n",
    "import re\n",
    "import matplotlib.pyplot as plt\n",
    "import nltk"
   ]
  },
  {
   "cell_type": "code",
   "execution_count": 5,
   "id": "80a114b0",
   "metadata": {
    "ExecuteTime": {
     "end_time": "2024-01-21T17:45:52.488779Z",
     "start_time": "2024-01-21T17:45:52.483752Z"
    }
   },
   "outputs": [],
   "source": [
    "from tensorflow.keras.utils import to_categorical"
   ]
  },
  {
   "cell_type": "code",
   "execution_count": 6,
   "id": "e2104d79",
   "metadata": {
    "ExecuteTime": {
     "end_time": "2024-01-21T17:45:53.076425Z",
     "start_time": "2024-01-21T17:45:52.500013Z"
    }
   },
   "outputs": [],
   "source": [
    "data = pd.read_csv(\"data/news_class.csv\")"
   ]
  },
  {
   "cell_type": "code",
   "execution_count": 7,
   "id": "142478f7",
   "metadata": {
    "ExecuteTime": {
     "end_time": "2024-01-21T17:45:53.097786Z",
     "start_time": "2024-01-21T17:45:53.093529Z"
    }
   },
   "outputs": [],
   "source": [
    "df = data.copy() # to be safe and avoid errors"
   ]
  },
  {
   "cell_type": "code",
   "execution_count": 8,
   "id": "01b4b663",
   "metadata": {
    "ExecuteTime": {
     "end_time": "2024-01-21T17:45:53.121790Z",
     "start_time": "2024-01-21T17:45:53.115232Z"
    }
   },
   "outputs": [],
   "source": [
    "df = df.loc[:,[\"data_id\" , \"content\" , \"category_level_1\" , \"category_level_2\"]]"
   ]
  },
  {
   "cell_type": "code",
   "execution_count": 1023,
   "id": "e119c6f0",
   "metadata": {
    "ExecuteTime": {
     "end_time": "2024-01-22T00:20:31.193884Z",
     "start_time": "2024-01-22T00:20:31.179326Z"
    }
   },
   "outputs": [
    {
     "data": {
      "text/plain": [
       "category_level_1\n",
       "arts, culture, entertainment and media        300\n",
       "conflict, war and peace                       800\n",
       "crime, law and justice                        500\n",
       "disaster, accident and emergency incident     500\n",
       "economy, business and finance                 400\n",
       "education                                     607\n",
       "environment                                   600\n",
       "health                                        700\n",
       "human interest                                600\n",
       "labour                                        703\n",
       "lifestyle and leisure                         300\n",
       "politics                                      900\n",
       "religion and belief                           800\n",
       "science and technology                        800\n",
       "society                                      1100\n",
       "sport                                         907\n",
       "weather                                       400\n",
       "Name: data_id, dtype: int64"
      ]
     },
     "execution_count": 1023,
     "metadata": {},
     "output_type": "execute_result"
    }
   ],
   "source": [
    "df.groupby(['category_level_1'])['data_id'].agg('count')"
   ]
  },
  {
   "cell_type": "code",
   "execution_count": 9,
   "id": "a5a4868e",
   "metadata": {
    "ExecuteTime": {
     "end_time": "2024-01-21T17:45:53.145079Z",
     "start_time": "2024-01-21T17:45:53.139936Z"
    }
   },
   "outputs": [],
   "source": [
    "def labeler(dataframe_column):\n",
    "    encoder=LabelEncoder()\n",
    "    \n",
    "    labels = encoder.fit_transform(dataframe_column)\n",
    "    print(encoder.classes_)\n",
    "    print(\"We did it boys , labels have been created\")\n",
    "    \n",
    "    return(pd.DataFrame(labels))"
   ]
  },
  {
   "cell_type": "code",
   "execution_count": 10,
   "id": "0d5b5946",
   "metadata": {
    "ExecuteTime": {
     "end_time": "2024-01-21T17:45:53.181986Z",
     "start_time": "2024-01-21T17:45:53.174199Z"
    }
   },
   "outputs": [],
   "source": [
    "# Function for removing ASCII characters\n",
    "def _removeNonAscii(s):\n",
    "    return \"\".join(i for i in s if  ord(i)<128)\n",
    "\n",
    "# Function for converting to lower case\n",
    "def make_lower_case(text):\n",
    "    return text.lower()\n",
    "\n",
    "# Function for removing stop words\n",
    "def remove_stop_words(text):\n",
    "    text = text.split()\n",
    "    stops = set(stopwords.words(\"english\"))\n",
    "    text = [w for w in text if not w in stops]\n",
    "    text = \" \".join(text)\n",
    "    return text\n",
    "\n",
    "# Function for removing html\n",
    "def remove_html(text):\n",
    "    html_pattern = re.compile('<.*?>')\n",
    "    return html_pattern.sub(r'', text)\n",
    "\n",
    "# Function for removing punctuation\n",
    "def remove_punctuation(text):\n",
    "    tokenizer = RegexpTokenizer(r'\\w+')\n",
    "    text = tokenizer.tokenize(text)\n",
    "    text = \" \".join(text)\n",
    "    return text\n",
    "\n",
    "def lemm_text(text):\n",
    "    lemm=WordNetLemmatizer()\n",
    "    tokenizer = RegexpTokenizer(r'\\w+')\n",
    "    text = tokenizer.tokenize(text)\n",
    "    tokens = text\n",
    "    return ' '.join([lemm.lemmatize(t) for t in tokens])"
   ]
  },
  {
   "cell_type": "code",
   "execution_count": 11,
   "id": "3ba25a72",
   "metadata": {
    "ExecuteTime": {
     "end_time": "2024-01-21T17:46:28.111024Z",
     "start_time": "2024-01-21T17:45:53.197949Z"
    }
   },
   "outputs": [],
   "source": [
    "df['Cleaned'] = df['content'].apply(_removeNonAscii)\n",
    "df['Cleaned'] = df.Cleaned.apply(func = make_lower_case)\n",
    "df['Cleaned'] = df.Cleaned.apply(func = remove_stop_words)\n",
    "df['Cleaned'] = df.Cleaned.apply(func = remove_punctuation)\n",
    "df['Cleaned'] = df.Cleaned.apply(func = remove_html)\n",
    "df['Cleaned'] = df.Cleaned.apply(func = lemm_text)\n",
    "df = df.drop('content' , axis =1)"
   ]
  },
  {
   "cell_type": "code",
   "execution_count": 12,
   "id": "212263b5",
   "metadata": {
    "ExecuteTime": {
     "end_time": "2024-01-21T17:46:28.134451Z",
     "start_time": "2024-01-21T17:46:28.129635Z"
    }
   },
   "outputs": [],
   "source": [
    "io = df.copy()"
   ]
  },
  {
   "cell_type": "code",
   "execution_count": 13,
   "id": "19efb536",
   "metadata": {
    "ExecuteTime": {
     "end_time": "2024-01-21T17:46:28.516669Z",
     "start_time": "2024-01-21T17:46:28.154580Z"
    }
   },
   "outputs": [],
   "source": [
    "io = io.drop([374]).reset_index(drop=True)\n",
    "io = io.drop([6527]).reset_index(drop=True)\n",
    "\n",
    "\n",
    "corpus_full = []\n",
    "for words in io['Cleaned']:\n",
    "    corpus_full.append(words.split())  "
   ]
  },
  {
   "cell_type": "code",
   "execution_count": 14,
   "id": "b0eaf8bb",
   "metadata": {
    "ExecuteTime": {
     "end_time": "2024-01-21T17:46:28.563840Z",
     "start_time": "2024-01-21T17:46:28.554708Z"
    }
   },
   "outputs": [],
   "source": [
    "def vectorizer():\n",
    "    \n",
    "    \n",
    "    # Creating a list for storing the vectors ('Description' into vectors)\n",
    "    #global word_embeddings\n",
    "    word_embeddings = []\n",
    "    i = 0\n",
    "    # Reading the each 'Description'\n",
    "    for line in io['Cleaned']:\n",
    "        avgword2vec = None\n",
    "        count = 0\n",
    "        for word in line.split():\n",
    "            if word in model.wv.key_to_index:\n",
    "                count += 1\n",
    "                if avgword2vec is None:\n",
    "                    avgword2vec = model.wv[word]\n",
    "                else:\n",
    "                    avgword2vec = avgword2vec + model.wv[word]\n",
    "                \n",
    "        if avgword2vec is not None:\n",
    "            avgword2vec = avgword2vec / count\n",
    "            word_embeddings.append(avgword2vec)\n",
    "        else:\n",
    "            print(\"I found it , the error occurs at line:\" , i)\n",
    "          \n",
    "        i +=1 \n",
    "\n",
    "    return(pd.DataFrame(word_embeddings))  # Returning our Data as a Dataframe (aesthetic reasons)"
   ]
  },
  {
   "cell_type": "code",
   "execution_count": 15,
   "id": "98a83172",
   "metadata": {
    "ExecuteTime": {
     "end_time": "2024-01-21T17:46:28.888895Z",
     "start_time": "2024-01-21T17:46:28.593072Z"
    }
   },
   "outputs": [],
   "source": [
    "model = Word2Vec.load(\"word2vec.model3\")"
   ]
  },
  {
   "cell_type": "code",
   "execution_count": 16,
   "id": "00d3efe6",
   "metadata": {
    "ExecuteTime": {
     "end_time": "2024-01-21T17:46:41.340103Z",
     "start_time": "2024-01-21T17:46:28.919521Z"
    }
   },
   "outputs": [],
   "source": [
    "vect = vectorizer()"
   ]
  },
  {
   "cell_type": "code",
   "execution_count": 17,
   "id": "4d6efc31",
   "metadata": {
    "ExecuteTime": {
     "end_time": "2024-01-21T17:46:41.384606Z",
     "start_time": "2024-01-21T17:46:41.379221Z"
    }
   },
   "outputs": [
    {
     "name": "stdout",
     "output_type": "stream",
     "text": [
      "['arts, culture, entertainment and media' 'conflict, war and peace'\n",
      " 'crime, law and justice' 'disaster, accident and emergency incident'\n",
      " 'economy, business and finance' 'education' 'environment' 'health'\n",
      " 'human interest' 'labour' 'lifestyle and leisure' 'politics'\n",
      " 'religion and belief' 'science and technology' 'society' 'sport'\n",
      " 'weather']\n",
      "We did it boys , labels have been created\n"
     ]
    }
   ],
   "source": [
    "y1 = labeler(io[\"category_level_1\"])"
   ]
  },
  {
   "cell_type": "code",
   "execution_count": 18,
   "id": "ef41ee9f",
   "metadata": {
    "ExecuteTime": {
     "end_time": "2024-01-21T17:46:41.426549Z",
     "start_time": "2024-01-21T17:46:41.420315Z"
    }
   },
   "outputs": [],
   "source": [
    "X = vect.copy()"
   ]
  },
  {
   "cell_type": "code",
   "execution_count": 19,
   "id": "71a62371",
   "metadata": {
    "ExecuteTime": {
     "end_time": "2024-01-21T17:46:41.505206Z",
     "start_time": "2024-01-21T17:46:41.476669Z"
    }
   },
   "outputs": [
    {
     "data": {
      "text/html": [
       "<div>\n",
       "<style scoped>\n",
       "    .dataframe tbody tr th:only-of-type {\n",
       "        vertical-align: middle;\n",
       "    }\n",
       "\n",
       "    .dataframe tbody tr th {\n",
       "        vertical-align: top;\n",
       "    }\n",
       "\n",
       "    .dataframe thead th {\n",
       "        text-align: right;\n",
       "    }\n",
       "</style>\n",
       "<table border=\"1\" class=\"dataframe\">\n",
       "  <thead>\n",
       "    <tr style=\"text-align: right;\">\n",
       "      <th></th>\n",
       "      <th>0</th>\n",
       "      <th>1</th>\n",
       "      <th>2</th>\n",
       "      <th>3</th>\n",
       "      <th>4</th>\n",
       "      <th>5</th>\n",
       "      <th>6</th>\n",
       "      <th>7</th>\n",
       "      <th>8</th>\n",
       "      <th>9</th>\n",
       "      <th>...</th>\n",
       "      <th>190</th>\n",
       "      <th>191</th>\n",
       "      <th>192</th>\n",
       "      <th>193</th>\n",
       "      <th>194</th>\n",
       "      <th>195</th>\n",
       "      <th>196</th>\n",
       "      <th>197</th>\n",
       "      <th>198</th>\n",
       "      <th>199</th>\n",
       "    </tr>\n",
       "  </thead>\n",
       "  <tbody>\n",
       "    <tr>\n",
       "      <th>0</th>\n",
       "      <td>0.010030</td>\n",
       "      <td>-0.072825</td>\n",
       "      <td>-0.051542</td>\n",
       "      <td>0.033568</td>\n",
       "      <td>0.084110</td>\n",
       "      <td>0.027619</td>\n",
       "      <td>-0.071665</td>\n",
       "      <td>0.015907</td>\n",
       "      <td>-0.006390</td>\n",
       "      <td>0.152007</td>\n",
       "      <td>...</td>\n",
       "      <td>-0.087481</td>\n",
       "      <td>0.150550</td>\n",
       "      <td>0.010014</td>\n",
       "      <td>0.063487</td>\n",
       "      <td>0.218890</td>\n",
       "      <td>0.049933</td>\n",
       "      <td>0.014407</td>\n",
       "      <td>-0.129096</td>\n",
       "      <td>0.003949</td>\n",
       "      <td>-0.131842</td>\n",
       "    </tr>\n",
       "    <tr>\n",
       "      <th>1</th>\n",
       "      <td>0.071578</td>\n",
       "      <td>-0.083879</td>\n",
       "      <td>-0.080275</td>\n",
       "      <td>0.015637</td>\n",
       "      <td>0.068045</td>\n",
       "      <td>0.007964</td>\n",
       "      <td>-0.054446</td>\n",
       "      <td>0.003107</td>\n",
       "      <td>0.003455</td>\n",
       "      <td>0.160702</td>\n",
       "      <td>...</td>\n",
       "      <td>-0.032729</td>\n",
       "      <td>0.109924</td>\n",
       "      <td>0.010929</td>\n",
       "      <td>0.027677</td>\n",
       "      <td>0.182586</td>\n",
       "      <td>0.082423</td>\n",
       "      <td>-0.014971</td>\n",
       "      <td>-0.097462</td>\n",
       "      <td>-0.027377</td>\n",
       "      <td>-0.059375</td>\n",
       "    </tr>\n",
       "    <tr>\n",
       "      <th>2</th>\n",
       "      <td>0.028660</td>\n",
       "      <td>-0.003605</td>\n",
       "      <td>-0.043669</td>\n",
       "      <td>0.050716</td>\n",
       "      <td>0.109462</td>\n",
       "      <td>0.030837</td>\n",
       "      <td>-0.033665</td>\n",
       "      <td>0.022952</td>\n",
       "      <td>-0.026909</td>\n",
       "      <td>0.246786</td>\n",
       "      <td>...</td>\n",
       "      <td>-0.016610</td>\n",
       "      <td>0.091539</td>\n",
       "      <td>-0.029639</td>\n",
       "      <td>0.123434</td>\n",
       "      <td>0.160820</td>\n",
       "      <td>0.140771</td>\n",
       "      <td>-0.031121</td>\n",
       "      <td>-0.071247</td>\n",
       "      <td>-0.039745</td>\n",
       "      <td>-0.078560</td>\n",
       "    </tr>\n",
       "    <tr>\n",
       "      <th>3</th>\n",
       "      <td>0.068074</td>\n",
       "      <td>-0.112016</td>\n",
       "      <td>-0.055053</td>\n",
       "      <td>0.045375</td>\n",
       "      <td>0.063676</td>\n",
       "      <td>0.016817</td>\n",
       "      <td>-0.061693</td>\n",
       "      <td>-0.026442</td>\n",
       "      <td>-0.031120</td>\n",
       "      <td>0.191916</td>\n",
       "      <td>...</td>\n",
       "      <td>-0.073135</td>\n",
       "      <td>0.135709</td>\n",
       "      <td>0.006571</td>\n",
       "      <td>0.004580</td>\n",
       "      <td>0.166603</td>\n",
       "      <td>0.121948</td>\n",
       "      <td>-0.031010</td>\n",
       "      <td>-0.095062</td>\n",
       "      <td>0.007649</td>\n",
       "      <td>-0.106070</td>\n",
       "    </tr>\n",
       "    <tr>\n",
       "      <th>4</th>\n",
       "      <td>0.040953</td>\n",
       "      <td>-0.028588</td>\n",
       "      <td>-0.063608</td>\n",
       "      <td>0.046010</td>\n",
       "      <td>0.081183</td>\n",
       "      <td>-0.021608</td>\n",
       "      <td>-0.077216</td>\n",
       "      <td>0.027718</td>\n",
       "      <td>-0.030726</td>\n",
       "      <td>0.168264</td>\n",
       "      <td>...</td>\n",
       "      <td>-0.064928</td>\n",
       "      <td>0.073787</td>\n",
       "      <td>-0.000367</td>\n",
       "      <td>0.074108</td>\n",
       "      <td>0.142589</td>\n",
       "      <td>0.093344</td>\n",
       "      <td>0.004230</td>\n",
       "      <td>-0.099472</td>\n",
       "      <td>-0.069675</td>\n",
       "      <td>-0.046723</td>\n",
       "    </tr>\n",
       "    <tr>\n",
       "      <th>...</th>\n",
       "      <td>...</td>\n",
       "      <td>...</td>\n",
       "      <td>...</td>\n",
       "      <td>...</td>\n",
       "      <td>...</td>\n",
       "      <td>...</td>\n",
       "      <td>...</td>\n",
       "      <td>...</td>\n",
       "      <td>...</td>\n",
       "      <td>...</td>\n",
       "      <td>...</td>\n",
       "      <td>...</td>\n",
       "      <td>...</td>\n",
       "      <td>...</td>\n",
       "      <td>...</td>\n",
       "      <td>...</td>\n",
       "      <td>...</td>\n",
       "      <td>...</td>\n",
       "      <td>...</td>\n",
       "      <td>...</td>\n",
       "      <td>...</td>\n",
       "    </tr>\n",
       "    <tr>\n",
       "      <th>10910</th>\n",
       "      <td>0.025258</td>\n",
       "      <td>-0.056760</td>\n",
       "      <td>-0.053916</td>\n",
       "      <td>-0.080924</td>\n",
       "      <td>0.025728</td>\n",
       "      <td>-0.042500</td>\n",
       "      <td>0.016543</td>\n",
       "      <td>-0.056844</td>\n",
       "      <td>-0.068292</td>\n",
       "      <td>0.035164</td>\n",
       "      <td>...</td>\n",
       "      <td>-0.116704</td>\n",
       "      <td>0.099249</td>\n",
       "      <td>0.008260</td>\n",
       "      <td>0.035744</td>\n",
       "      <td>0.203707</td>\n",
       "      <td>-0.003986</td>\n",
       "      <td>0.023136</td>\n",
       "      <td>-0.156268</td>\n",
       "      <td>-0.018444</td>\n",
       "      <td>-0.033398</td>\n",
       "    </tr>\n",
       "    <tr>\n",
       "      <th>10911</th>\n",
       "      <td>0.122435</td>\n",
       "      <td>-0.154742</td>\n",
       "      <td>-0.159965</td>\n",
       "      <td>-0.032322</td>\n",
       "      <td>0.095427</td>\n",
       "      <td>-0.047862</td>\n",
       "      <td>0.000538</td>\n",
       "      <td>-0.144428</td>\n",
       "      <td>-0.148185</td>\n",
       "      <td>0.052159</td>\n",
       "      <td>...</td>\n",
       "      <td>-0.061774</td>\n",
       "      <td>0.067999</td>\n",
       "      <td>0.021077</td>\n",
       "      <td>0.097443</td>\n",
       "      <td>0.181980</td>\n",
       "      <td>0.091247</td>\n",
       "      <td>0.007482</td>\n",
       "      <td>-0.320918</td>\n",
       "      <td>-0.028273</td>\n",
       "      <td>-0.004733</td>\n",
       "    </tr>\n",
       "    <tr>\n",
       "      <th>10912</th>\n",
       "      <td>0.079171</td>\n",
       "      <td>-0.031492</td>\n",
       "      <td>-0.051477</td>\n",
       "      <td>-0.086577</td>\n",
       "      <td>0.101841</td>\n",
       "      <td>0.017272</td>\n",
       "      <td>-0.046363</td>\n",
       "      <td>-0.008180</td>\n",
       "      <td>-0.058952</td>\n",
       "      <td>0.015870</td>\n",
       "      <td>...</td>\n",
       "      <td>-0.013864</td>\n",
       "      <td>0.051082</td>\n",
       "      <td>-0.004890</td>\n",
       "      <td>0.170762</td>\n",
       "      <td>0.141724</td>\n",
       "      <td>0.000773</td>\n",
       "      <td>-0.022615</td>\n",
       "      <td>-0.110620</td>\n",
       "      <td>0.037668</td>\n",
       "      <td>-0.070821</td>\n",
       "    </tr>\n",
       "    <tr>\n",
       "      <th>10913</th>\n",
       "      <td>0.015078</td>\n",
       "      <td>-0.098757</td>\n",
       "      <td>-0.091811</td>\n",
       "      <td>-0.046112</td>\n",
       "      <td>0.102823</td>\n",
       "      <td>0.005763</td>\n",
       "      <td>-0.019206</td>\n",
       "      <td>-0.023700</td>\n",
       "      <td>-0.079233</td>\n",
       "      <td>0.044035</td>\n",
       "      <td>...</td>\n",
       "      <td>-0.014461</td>\n",
       "      <td>0.088623</td>\n",
       "      <td>0.036835</td>\n",
       "      <td>0.127098</td>\n",
       "      <td>0.156737</td>\n",
       "      <td>-0.003581</td>\n",
       "      <td>-0.047630</td>\n",
       "      <td>-0.176579</td>\n",
       "      <td>0.055320</td>\n",
       "      <td>-0.069404</td>\n",
       "    </tr>\n",
       "    <tr>\n",
       "      <th>10914</th>\n",
       "      <td>0.054540</td>\n",
       "      <td>-0.118217</td>\n",
       "      <td>-0.089521</td>\n",
       "      <td>0.012284</td>\n",
       "      <td>0.040246</td>\n",
       "      <td>-0.023135</td>\n",
       "      <td>-0.092320</td>\n",
       "      <td>-0.064904</td>\n",
       "      <td>-0.042663</td>\n",
       "      <td>0.041135</td>\n",
       "      <td>...</td>\n",
       "      <td>-0.077589</td>\n",
       "      <td>0.052324</td>\n",
       "      <td>-0.065146</td>\n",
       "      <td>0.070479</td>\n",
       "      <td>0.192898</td>\n",
       "      <td>0.017426</td>\n",
       "      <td>0.013624</td>\n",
       "      <td>-0.171379</td>\n",
       "      <td>-0.016206</td>\n",
       "      <td>-0.046442</td>\n",
       "    </tr>\n",
       "  </tbody>\n",
       "</table>\n",
       "<p>10915 rows × 200 columns</p>\n",
       "</div>"
      ],
      "text/plain": [
       "            0         1         2         3         4         5         6    \\\n",
       "0      0.010030 -0.072825 -0.051542  0.033568  0.084110  0.027619 -0.071665   \n",
       "1      0.071578 -0.083879 -0.080275  0.015637  0.068045  0.007964 -0.054446   \n",
       "2      0.028660 -0.003605 -0.043669  0.050716  0.109462  0.030837 -0.033665   \n",
       "3      0.068074 -0.112016 -0.055053  0.045375  0.063676  0.016817 -0.061693   \n",
       "4      0.040953 -0.028588 -0.063608  0.046010  0.081183 -0.021608 -0.077216   \n",
       "...         ...       ...       ...       ...       ...       ...       ...   \n",
       "10910  0.025258 -0.056760 -0.053916 -0.080924  0.025728 -0.042500  0.016543   \n",
       "10911  0.122435 -0.154742 -0.159965 -0.032322  0.095427 -0.047862  0.000538   \n",
       "10912  0.079171 -0.031492 -0.051477 -0.086577  0.101841  0.017272 -0.046363   \n",
       "10913  0.015078 -0.098757 -0.091811 -0.046112  0.102823  0.005763 -0.019206   \n",
       "10914  0.054540 -0.118217 -0.089521  0.012284  0.040246 -0.023135 -0.092320   \n",
       "\n",
       "            7         8         9    ...       190       191       192  \\\n",
       "0      0.015907 -0.006390  0.152007  ... -0.087481  0.150550  0.010014   \n",
       "1      0.003107  0.003455  0.160702  ... -0.032729  0.109924  0.010929   \n",
       "2      0.022952 -0.026909  0.246786  ... -0.016610  0.091539 -0.029639   \n",
       "3     -0.026442 -0.031120  0.191916  ... -0.073135  0.135709  0.006571   \n",
       "4      0.027718 -0.030726  0.168264  ... -0.064928  0.073787 -0.000367   \n",
       "...         ...       ...       ...  ...       ...       ...       ...   \n",
       "10910 -0.056844 -0.068292  0.035164  ... -0.116704  0.099249  0.008260   \n",
       "10911 -0.144428 -0.148185  0.052159  ... -0.061774  0.067999  0.021077   \n",
       "10912 -0.008180 -0.058952  0.015870  ... -0.013864  0.051082 -0.004890   \n",
       "10913 -0.023700 -0.079233  0.044035  ... -0.014461  0.088623  0.036835   \n",
       "10914 -0.064904 -0.042663  0.041135  ... -0.077589  0.052324 -0.065146   \n",
       "\n",
       "            193       194       195       196       197       198       199  \n",
       "0      0.063487  0.218890  0.049933  0.014407 -0.129096  0.003949 -0.131842  \n",
       "1      0.027677  0.182586  0.082423 -0.014971 -0.097462 -0.027377 -0.059375  \n",
       "2      0.123434  0.160820  0.140771 -0.031121 -0.071247 -0.039745 -0.078560  \n",
       "3      0.004580  0.166603  0.121948 -0.031010 -0.095062  0.007649 -0.106070  \n",
       "4      0.074108  0.142589  0.093344  0.004230 -0.099472 -0.069675 -0.046723  \n",
       "...         ...       ...       ...       ...       ...       ...       ...  \n",
       "10910  0.035744  0.203707 -0.003986  0.023136 -0.156268 -0.018444 -0.033398  \n",
       "10911  0.097443  0.181980  0.091247  0.007482 -0.320918 -0.028273 -0.004733  \n",
       "10912  0.170762  0.141724  0.000773 -0.022615 -0.110620  0.037668 -0.070821  \n",
       "10913  0.127098  0.156737 -0.003581 -0.047630 -0.176579  0.055320 -0.069404  \n",
       "10914  0.070479  0.192898  0.017426  0.013624 -0.171379 -0.016206 -0.046442  \n",
       "\n",
       "[10915 rows x 200 columns]"
      ]
     },
     "execution_count": 19,
     "metadata": {},
     "output_type": "execute_result"
    }
   ],
   "source": [
    "X"
   ]
  },
  {
   "cell_type": "markdown",
   "id": "0f67f786",
   "metadata": {},
   "source": [
    "# BUILDING OUR KERAS MODEL"
   ]
  },
  {
   "cell_type": "code",
   "execution_count": 20,
   "id": "1567175e",
   "metadata": {
    "ExecuteTime": {
     "end_time": "2024-01-21T17:46:41.561805Z",
     "start_time": "2024-01-21T17:46:41.547407Z"
    }
   },
   "outputs": [],
   "source": [
    "X_train, X_test, y_train, y_test = train_test_split(X, y1, test_size=0.2,random_state=42)"
   ]
  },
  {
   "cell_type": "code",
   "execution_count": 21,
   "id": "2e96dcff",
   "metadata": {
    "ExecuteTime": {
     "end_time": "2024-01-21T17:46:41.627591Z",
     "start_time": "2024-01-21T17:46:41.623173Z"
    }
   },
   "outputs": [
    {
     "data": {
      "text/plain": [
       "(8732, 200)"
      ]
     },
     "execution_count": 21,
     "metadata": {},
     "output_type": "execute_result"
    }
   ],
   "source": [
    "X_train.shape"
   ]
  },
  {
   "cell_type": "code",
   "execution_count": 22,
   "id": "253a6ebc",
   "metadata": {
    "ExecuteTime": {
     "end_time": "2024-01-21T17:46:41.689456Z",
     "start_time": "2024-01-21T17:46:41.681705Z"
    }
   },
   "outputs": [
    {
     "data": {
      "text/html": [
       "<div>\n",
       "<style scoped>\n",
       "    .dataframe tbody tr th:only-of-type {\n",
       "        vertical-align: middle;\n",
       "    }\n",
       "\n",
       "    .dataframe tbody tr th {\n",
       "        vertical-align: top;\n",
       "    }\n",
       "\n",
       "    .dataframe thead th {\n",
       "        text-align: right;\n",
       "    }\n",
       "</style>\n",
       "<table border=\"1\" class=\"dataframe\">\n",
       "  <thead>\n",
       "    <tr style=\"text-align: right;\">\n",
       "      <th></th>\n",
       "      <th>0</th>\n",
       "    </tr>\n",
       "  </thead>\n",
       "  <tbody>\n",
       "    <tr>\n",
       "      <th>6365</th>\n",
       "      <td>14</td>\n",
       "    </tr>\n",
       "    <tr>\n",
       "      <th>157</th>\n",
       "      <td>2</td>\n",
       "    </tr>\n",
       "    <tr>\n",
       "      <th>6965</th>\n",
       "      <td>6</td>\n",
       "    </tr>\n",
       "    <tr>\n",
       "      <th>6350</th>\n",
       "      <td>14</td>\n",
       "    </tr>\n",
       "    <tr>\n",
       "      <th>1441</th>\n",
       "      <td>6</td>\n",
       "    </tr>\n",
       "    <tr>\n",
       "      <th>...</th>\n",
       "      <td>...</td>\n",
       "    </tr>\n",
       "    <tr>\n",
       "      <th>5734</th>\n",
       "      <td>10</td>\n",
       "    </tr>\n",
       "    <tr>\n",
       "      <th>5191</th>\n",
       "      <td>2</td>\n",
       "    </tr>\n",
       "    <tr>\n",
       "      <th>5390</th>\n",
       "      <td>10</td>\n",
       "    </tr>\n",
       "    <tr>\n",
       "      <th>860</th>\n",
       "      <td>16</td>\n",
       "    </tr>\n",
       "    <tr>\n",
       "      <th>7270</th>\n",
       "      <td>14</td>\n",
       "    </tr>\n",
       "  </tbody>\n",
       "</table>\n",
       "<p>8732 rows × 1 columns</p>\n",
       "</div>"
      ],
      "text/plain": [
       "       0\n",
       "6365  14\n",
       "157    2\n",
       "6965   6\n",
       "6350  14\n",
       "1441   6\n",
       "...   ..\n",
       "5734  10\n",
       "5191   2\n",
       "5390  10\n",
       "860   16\n",
       "7270  14\n",
       "\n",
       "[8732 rows x 1 columns]"
      ]
     },
     "execution_count": 22,
     "metadata": {},
     "output_type": "execute_result"
    }
   ],
   "source": [
    "y_train"
   ]
  },
  {
   "cell_type": "code",
   "execution_count": 23,
   "id": "cb630d0f",
   "metadata": {
    "ExecuteTime": {
     "end_time": "2024-01-21T17:46:41.749158Z",
     "start_time": "2024-01-21T17:46:41.744074Z"
    }
   },
   "outputs": [
    {
     "data": {
      "text/plain": [
       "array([[14],\n",
       "       [ 2],\n",
       "       [ 6],\n",
       "       ...,\n",
       "       [10],\n",
       "       [16],\n",
       "       [14]])"
      ]
     },
     "execution_count": 23,
     "metadata": {},
     "output_type": "execute_result"
    }
   ],
   "source": [
    "y_train.values"
   ]
  },
  {
   "cell_type": "code",
   "execution_count": 24,
   "id": "2213038d",
   "metadata": {
    "ExecuteTime": {
     "end_time": "2024-01-21T17:46:41.803673Z",
     "start_time": "2024-01-21T17:46:41.800613Z"
    }
   },
   "outputs": [],
   "source": [
    "X_train = X_train.values"
   ]
  },
  {
   "cell_type": "code",
   "execution_count": 25,
   "id": "f5b5b850",
   "metadata": {
    "ExecuteTime": {
     "end_time": "2024-01-21T17:46:41.856903Z",
     "start_time": "2024-01-21T17:46:41.851642Z"
    }
   },
   "outputs": [
    {
     "data": {
      "text/plain": [
       "(8732, 200)"
      ]
     },
     "execution_count": 25,
     "metadata": {},
     "output_type": "execute_result"
    }
   ],
   "source": [
    "X_train.shape"
   ]
  },
  {
   "cell_type": "code",
   "execution_count": 1024,
   "id": "26b57187",
   "metadata": {
    "ExecuteTime": {
     "end_time": "2024-01-22T00:23:47.382083Z",
     "start_time": "2024-01-22T00:23:47.377171Z"
    }
   },
   "outputs": [],
   "source": [
    "y_cat = to_categorical(y1)"
   ]
  },
  {
   "cell_type": "code",
   "execution_count": 26,
   "id": "54919177",
   "metadata": {
    "ExecuteTime": {
     "end_time": "2024-01-21T17:46:41.910118Z",
     "start_time": "2024-01-21T17:46:41.906374Z"
    }
   },
   "outputs": [],
   "source": [
    "y_train1 = to_categorical(y_train)"
   ]
  },
  {
   "cell_type": "code",
   "execution_count": 27,
   "id": "5063921c",
   "metadata": {
    "ExecuteTime": {
     "end_time": "2024-01-21T17:46:41.962503Z",
     "start_time": "2024-01-21T17:46:41.958335Z"
    }
   },
   "outputs": [],
   "source": [
    "y_test1 = to_categorical(y_test)"
   ]
  },
  {
   "cell_type": "code",
   "execution_count": 28,
   "id": "09d8895f",
   "metadata": {
    "ExecuteTime": {
     "end_time": "2024-01-21T17:46:42.030128Z",
     "start_time": "2024-01-21T17:46:42.025163Z"
    }
   },
   "outputs": [
    {
     "data": {
      "text/plain": [
       "array([[0., 0., 0., ..., 1., 0., 0.],\n",
       "       [0., 0., 1., ..., 0., 0., 0.],\n",
       "       [0., 0., 0., ..., 0., 0., 0.],\n",
       "       ...,\n",
       "       [0., 0., 0., ..., 0., 0., 0.],\n",
       "       [0., 0., 0., ..., 0., 0., 1.],\n",
       "       [0., 0., 0., ..., 1., 0., 0.]], dtype=float32)"
      ]
     },
     "execution_count": 28,
     "metadata": {},
     "output_type": "execute_result"
    }
   ],
   "source": [
    "y_train1"
   ]
  },
  {
   "cell_type": "code",
   "execution_count": 29,
   "id": "e35b7f05",
   "metadata": {
    "ExecuteTime": {
     "end_time": "2024-01-21T17:46:42.085624Z",
     "start_time": "2024-01-21T17:46:42.082577Z"
    }
   },
   "outputs": [],
   "source": [
    "X_val = X_train[7859:]\n",
    "y_val = y_train1[7859:]"
   ]
  },
  {
   "cell_type": "code",
   "execution_count": 30,
   "id": "d7ac74e3",
   "metadata": {
    "ExecuteTime": {
     "end_time": "2024-01-21T17:46:42.143115Z",
     "start_time": "2024-01-21T17:46:42.138268Z"
    }
   },
   "outputs": [],
   "source": [
    "X_train = np.expand_dims(X_train, -1)\n",
    "X_test = np.expand_dims(X_test, -1)\n",
    "X_val = np.expand_dims(X_val, -1)"
   ]
  },
  {
   "cell_type": "code",
   "execution_count": 31,
   "id": "6b55ecac",
   "metadata": {
    "ExecuteTime": {
     "end_time": "2024-01-21T17:46:42.196552Z",
     "start_time": "2024-01-21T17:46:42.191657Z"
    }
   },
   "outputs": [
    {
     "data": {
      "text/plain": [
       "((8732, 200, 1), (2183, 200, 1), (873, 200, 1))"
      ]
     },
     "execution_count": 31,
     "metadata": {},
     "output_type": "execute_result"
    }
   ],
   "source": [
    "X_train.shape , X_test.shape , X_val.shape"
   ]
  },
  {
   "cell_type": "markdown",
   "id": "42b71991",
   "metadata": {},
   "source": [
    "## MODEL"
   ]
  },
  {
   "cell_type": "code",
   "execution_count": 32,
   "id": "dbf75f64",
   "metadata": {
    "ExecuteTime": {
     "end_time": "2024-01-21T17:46:42.251748Z",
     "start_time": "2024-01-21T17:46:42.248499Z"
    }
   },
   "outputs": [],
   "source": [
    "from tensorflow.keras.layers import LSTM , Dropout , SpatialDropout1D"
   ]
  },
  {
   "cell_type": "code",
   "execution_count": 33,
   "id": "bdc4e3f6",
   "metadata": {
    "ExecuteTime": {
     "end_time": "2024-01-21T17:46:42.324612Z",
     "start_time": "2024-01-21T17:46:42.320796Z"
    }
   },
   "outputs": [],
   "source": [
    "in_dim = 200"
   ]
  },
  {
   "cell_type": "code",
   "execution_count": 34,
   "id": "40f05f01",
   "metadata": {
    "ExecuteTime": {
     "end_time": "2024-01-21T17:46:42.388991Z",
     "start_time": "2024-01-21T17:46:42.385112Z"
    }
   },
   "outputs": [],
   "source": [
    "jazz_size = 32"
   ]
  },
  {
   "cell_type": "code",
   "execution_count": 35,
   "id": "ca229892",
   "metadata": {
    "ExecuteTime": {
     "end_time": "2024-01-21T17:46:42.459413Z",
     "start_time": "2024-01-21T17:46:42.455587Z"
    }
   },
   "outputs": [],
   "source": [
    "tot_layers = 600"
   ]
  },
  {
   "cell_type": "code",
   "execution_count": 36,
   "id": "6198051d",
   "metadata": {
    "ExecuteTime": {
     "end_time": "2024-01-21T17:46:42.520488Z",
     "start_time": "2024-01-21T17:46:42.516262Z"
    }
   },
   "outputs": [
    {
     "data": {
      "text/plain": [
       "400"
      ]
     },
     "execution_count": 36,
     "metadata": {},
     "output_type": "execute_result"
    }
   ],
   "source": [
    "(tot_layers//3)*2"
   ]
  },
  {
   "cell_type": "code",
   "execution_count": 37,
   "id": "e47e68bf",
   "metadata": {
    "ExecuteTime": {
     "end_time": "2024-01-21T17:46:42.574051Z",
     "start_time": "2024-01-21T17:46:42.571163Z"
    }
   },
   "outputs": [],
   "source": [
    "n_most_common_words = 15\n",
    "emb_dim = 200"
   ]
  },
  {
   "cell_type": "code",
   "execution_count": 38,
   "id": "4edc3a9b",
   "metadata": {
    "ExecuteTime": {
     "end_time": "2024-01-21T17:46:42.628453Z",
     "start_time": "2024-01-21T17:46:42.625349Z"
    }
   },
   "outputs": [],
   "source": [
    "from sklearn.metrics import classification_report, confusion_matrix"
   ]
  },
  {
   "cell_type": "code",
   "execution_count": 39,
   "id": "b5a679f1",
   "metadata": {
    "ExecuteTime": {
     "end_time": "2024-01-21T17:46:42.684139Z",
     "start_time": "2024-01-21T17:46:42.680461Z"
    }
   },
   "outputs": [],
   "source": [
    "from tensorflow.keras.layers import Flatten , Input , Conv2D , MaxPooling2D , BatchNormalization"
   ]
  },
  {
   "cell_type": "code",
   "execution_count": 42,
   "id": "c4257314",
   "metadata": {
    "ExecuteTime": {
     "end_time": "2024-01-21T17:47:52.454787Z",
     "start_time": "2024-01-21T17:47:51.420059Z"
    }
   },
   "outputs": [],
   "source": [
    "rnn_model = tf.keras.Sequential([\n",
    "        tf.keras.layers.LSTM(70,input_shape=(X_train.shape[1], X_train.shape[2]), return_sequences = True),\n",
    "        tf.keras.layers.LSTM(300, return_sequences = True, activation=tf.nn.relu),\n",
    "        tf.keras.layers.LSTM(250, return_sequences = True, activation=tf.nn.relu),\n",
    "        tf.keras.layers.LSTM(180, return_sequences = False, activation=tf.nn.relu),\n",
    "        tf.keras.layers.Dense(80,activation = \"leaky_relu\"),\n",
    "        tf.keras.layers.Dense(40,activation = \"leaky_relu\"),\n",
    "        tf.keras.layers.Dense(25,activation = \"leaky_relu\"),\n",
    "        tf.keras.layers.Dense(17, activation='softmax')\n",
    "    ])\n",
    "    \n",
    "rnn_model.compile(optimizer=opt, \n",
    "          loss = 'categorical_crossentropy',\n",
    "          metrics=[tf.keras.metrics.BinaryAccuracy(name='accuracy'),\n",
    "                   tf.keras.metrics.Precision(name='precision') ,\n",
    "                   tf.keras.metrics.Recall(name='recall')])"
   ]
  },
  {
   "cell_type": "code",
   "execution_count": 41,
   "id": "1c0068a4",
   "metadata": {
    "ExecuteTime": {
     "end_time": "2024-01-21T17:47:49.264594Z",
     "start_time": "2024-01-21T17:47:49.254086Z"
    }
   },
   "outputs": [],
   "source": [
    "opt = tf.keras.optimizers.AdamW(learning_rate =0.007 , beta_1=0.9,\n",
    "    beta_2=0.999,\n",
    "    use_ema=True,\n",
    "    ema_momentum=0.99)"
   ]
  },
  {
   "cell_type": "code",
   "execution_count": null,
   "id": "ba1afd68",
   "metadata": {
    "ExecuteTime": {
     "end_time": "2024-01-21T17:46:44.258201Z",
     "start_time": "2024-01-21T17:46:44.258201Z"
    }
   },
   "outputs": [],
   "source": [
    "#model10.compile(optimizer = opt , \n",
    "       #       loss = 'categorical_crossentropy' ,\n",
    "        #      metrics=[tf.keras.metrics.BinaryAccuracy(name='accuracy'),\n",
    "            #           tf.keras.metrics.Precision(name='precision'),\n",
    "           #            tf.keras.metrics.Recall(name='recall')])"
   ]
  },
  {
   "cell_type": "code",
   "execution_count": 43,
   "id": "b5e3c763",
   "metadata": {
    "ExecuteTime": {
     "end_time": "2024-01-21T17:47:56.027461Z",
     "start_time": "2024-01-21T17:47:56.003443Z"
    }
   },
   "outputs": [
    {
     "name": "stdout",
     "output_type": "stream",
     "text": [
      "Model: \"sequential_1\"\n",
      "_________________________________________________________________\n",
      " Layer (type)                Output Shape              Param #   \n",
      "=================================================================\n",
      " lstm_4 (LSTM)               (None, 200, 70)           20160     \n",
      "                                                                 \n",
      " lstm_5 (LSTM)               (None, 200, 300)          445200    \n",
      "                                                                 \n",
      " lstm_6 (LSTM)               (None, 200, 250)          551000    \n",
      "                                                                 \n",
      " lstm_7 (LSTM)               (None, 180)               310320    \n",
      "                                                                 \n",
      " dense_4 (Dense)             (None, 80)                14480     \n",
      "                                                                 \n",
      " dense_5 (Dense)             (None, 40)                3240      \n",
      "                                                                 \n",
      " dense_6 (Dense)             (None, 25)                1025      \n",
      "                                                                 \n",
      " dense_7 (Dense)             (None, 17)                442       \n",
      "                                                                 \n",
      "=================================================================\n",
      "Total params: 1345867 (5.13 MB)\n",
      "Trainable params: 1345867 (5.13 MB)\n",
      "Non-trainable params: 0 (0.00 Byte)\n",
      "_________________________________________________________________\n"
     ]
    }
   ],
   "source": [
    "rnn_model.summary()"
   ]
  },
  {
   "cell_type": "code",
   "execution_count": 53,
   "id": "af0d712e",
   "metadata": {
    "ExecuteTime": {
     "end_time": "2024-01-21T18:24:11.268749Z",
     "start_time": "2024-01-21T18:06:15.430681Z"
    }
   },
   "outputs": [
    {
     "name": "stdout",
     "output_type": "stream",
     "text": [
      "Epoch 1/5\n",
      "246/246 [==============================] - 214s 870ms/step - loss: 2.7762 - accuracy: 0.9412 - precision: 0.0000e+00 - recall: 0.0000e+00 - val_loss: 2.7702 - val_accuracy: 0.9412 - val_precision: 0.0000e+00 - val_recall: 0.0000e+00\n",
      "Epoch 2/5\n",
      "246/246 [==============================] - 220s 894ms/step - loss: 2.7759 - accuracy: 0.9412 - precision: 0.0000e+00 - recall: 0.0000e+00 - val_loss: 2.7680 - val_accuracy: 0.9412 - val_precision: 0.0000e+00 - val_recall: 0.0000e+00\n",
      "Epoch 3/5\n",
      "246/246 [==============================] - 226s 918ms/step - loss: 2.7747 - accuracy: 0.9412 - precision: 0.0000e+00 - recall: 0.0000e+00 - val_loss: 2.7711 - val_accuracy: 0.9412 - val_precision: 0.0000e+00 - val_recall: 0.0000e+00\n",
      "Epoch 4/5\n",
      "246/246 [==============================] - 205s 832ms/step - loss: 2.7746 - accuracy: 0.9412 - precision: 0.0000e+00 - recall: 0.0000e+00 - val_loss: 2.7664 - val_accuracy: 0.9412 - val_precision: 0.0000e+00 - val_recall: 0.0000e+00\n",
      "Epoch 5/5\n",
      "246/246 [==============================] - 211s 860ms/step - loss: 2.7740 - accuracy: 0.9412 - precision: 0.0000e+00 - recall: 0.0000e+00 - val_loss: 2.7686 - val_accuracy: 0.9412 - val_precision: 0.0000e+00 - val_recall: 0.0000e+00\n"
     ]
    },
    {
     "data": {
      "text/plain": [
       "<keras.src.callbacks.History at 0x1ba60482d90>"
      ]
     },
     "execution_count": 53,
     "metadata": {},
     "output_type": "execute_result"
    }
   ],
   "source": [
    "rnn_model.fit(X_train[:7859], y_train1[:7859], batch_size = 32 ,epochs=5, validation_data=(X_val,y_val) ,verbose =1)\n",
    "\n",
    "\n",
    "\n",
    "#model10.fit(X_train[:7859] , y_train1[:7859] , batch_size = 64 , epochs = 10 , validation_data=(X_val,y_val) ,verbose =1)"
   ]
  },
  {
   "cell_type": "code",
   "execution_count": 54,
   "id": "e506a317",
   "metadata": {
    "ExecuteTime": {
     "end_time": "2024-01-21T18:27:33.655551Z",
     "start_time": "2024-01-21T18:27:33.652529Z"
    }
   },
   "outputs": [],
   "source": [
    "#model10.summary()"
   ]
  },
  {
   "cell_type": "code",
   "execution_count": 55,
   "id": "05105528",
   "metadata": {
    "ExecuteTime": {
     "end_time": "2024-01-21T18:27:49.869745Z",
     "start_time": "2024-01-21T18:27:34.227528Z"
    }
   },
   "outputs": [
    {
     "name": "stdout",
     "output_type": "stream",
     "text": [
      "69/69 [==============================] - 16s 224ms/step - loss: 2.7833 - accuracy: 0.9412 - precision: 0.0000e+00 - recall: 0.0000e+00\n",
      "\n",
      "loss: 2.783\n",
      "\n",
      "accuracy: 0.941\n",
      "\n",
      "precision: 0.000\n",
      "\n",
      "recall: 0.000\n"
     ]
    }
   ],
   "source": [
    "scores = rnn_model.evaluate(X_test, y_test1)\n",
    "\n",
    "for i, m in enumerate(rnn_model.metrics_names):\n",
    "    print(\"\\n%s: %.3f\"% (m, scores[i]))"
   ]
  },
  {
   "cell_type": "code",
   "execution_count": 56,
   "id": "e1febed1",
   "metadata": {
    "ExecuteTime": {
     "end_time": "2024-01-21T18:28:09.722251Z",
     "start_time": "2024-01-21T18:27:53.476817Z"
    }
   },
   "outputs": [
    {
     "name": "stdout",
     "output_type": "stream",
     "text": [
      "69/69 [==============================] - 16s 233ms/step\n"
     ]
    }
   ],
   "source": [
    "predictions = np.argmax(rnn_model.predict(X_test), axis=-1)"
   ]
  },
  {
   "cell_type": "code",
   "execution_count": 57,
   "id": "cb395b3c",
   "metadata": {
    "ExecuteTime": {
     "end_time": "2024-01-21T18:29:11.146754Z",
     "start_time": "2024-01-21T18:29:11.141420Z"
    }
   },
   "outputs": [
    {
     "data": {
      "text/plain": [
       "array([14, 14, 14, ..., 14, 14, 14], dtype=int64)"
      ]
     },
     "execution_count": 57,
     "metadata": {},
     "output_type": "execute_result"
    }
   ],
   "source": [
    "predictions"
   ]
  },
  {
   "cell_type": "code",
   "execution_count": 58,
   "id": "3341daec",
   "metadata": {
    "ExecuteTime": {
     "end_time": "2024-01-21T18:29:11.856924Z",
     "start_time": "2024-01-21T18:29:11.853627Z"
    }
   },
   "outputs": [],
   "source": [
    "#len(predictions)"
   ]
  },
  {
   "cell_type": "code",
   "execution_count": 59,
   "id": "790577a6",
   "metadata": {
    "ExecuteTime": {
     "end_time": "2024-01-21T18:29:12.248870Z",
     "start_time": "2024-01-21T18:29:12.245347Z"
    }
   },
   "outputs": [],
   "source": [
    "#y_test.shape"
   ]
  },
  {
   "cell_type": "code",
   "execution_count": 60,
   "id": "23c5e829",
   "metadata": {
    "ExecuteTime": {
     "end_time": "2024-01-21T18:29:12.683095Z",
     "start_time": "2024-01-21T18:29:12.677532Z"
    }
   },
   "outputs": [
    {
     "data": {
      "text/plain": [
       "array([[14],\n",
       "       [ 1],\n",
       "       [16],\n",
       "       ...,\n",
       "       [11],\n",
       "       [14],\n",
       "       [12]])"
      ]
     },
     "execution_count": 60,
     "metadata": {},
     "output_type": "execute_result"
    }
   ],
   "source": [
    "y_test.values"
   ]
  },
  {
   "cell_type": "code",
   "execution_count": 61,
   "id": "d44ef9d5",
   "metadata": {
    "ExecuteTime": {
     "end_time": "2024-01-21T18:29:13.254982Z",
     "start_time": "2024-01-21T18:29:13.237191Z"
    }
   },
   "outputs": [
    {
     "name": "stdout",
     "output_type": "stream",
     "text": [
      "              precision    recall  f1-score   support\n",
      "\n",
      "           0       0.00      0.00      0.00        68\n",
      "           1       0.00      0.00      0.00       176\n",
      "           2       0.00      0.00      0.00        97\n",
      "           3       0.00      0.00      0.00        90\n",
      "           4       0.00      0.00      0.00        93\n",
      "           5       0.00      0.00      0.00       108\n",
      "           6       0.00      0.00      0.00       126\n",
      "           7       0.00      0.00      0.00       136\n",
      "           8       0.00      0.00      0.00       122\n",
      "           9       0.00      0.00      0.00       155\n",
      "          10       0.00      0.00      0.00        61\n",
      "          11       0.00      0.00      0.00       172\n",
      "          12       0.00      0.00      0.00       182\n",
      "          13       0.00      0.00      0.00       151\n",
      "          14       0.09      1.00      0.17       200\n",
      "          15       0.00      0.00      0.00       169\n",
      "          16       0.00      0.00      0.00        77\n",
      "\n",
      "    accuracy                           0.09      2183\n",
      "   macro avg       0.01      0.06      0.01      2183\n",
      "weighted avg       0.01      0.09      0.02      2183\n",
      "\n"
     ]
    },
    {
     "name": "stderr",
     "output_type": "stream",
     "text": [
      "C:\\Users\\Desktop\\anaconda3\\Lib\\site-packages\\sklearn\\metrics\\_classification.py:1469: UndefinedMetricWarning: Precision and F-score are ill-defined and being set to 0.0 in labels with no predicted samples. Use `zero_division` parameter to control this behavior.\n",
      "  _warn_prf(average, modifier, msg_start, len(result))\n",
      "C:\\Users\\Desktop\\anaconda3\\Lib\\site-packages\\sklearn\\metrics\\_classification.py:1469: UndefinedMetricWarning: Precision and F-score are ill-defined and being set to 0.0 in labels with no predicted samples. Use `zero_division` parameter to control this behavior.\n",
      "  _warn_prf(average, modifier, msg_start, len(result))\n",
      "C:\\Users\\Desktop\\anaconda3\\Lib\\site-packages\\sklearn\\metrics\\_classification.py:1469: UndefinedMetricWarning: Precision and F-score are ill-defined and being set to 0.0 in labels with no predicted samples. Use `zero_division` parameter to control this behavior.\n",
      "  _warn_prf(average, modifier, msg_start, len(result))\n"
     ]
    }
   ],
   "source": [
    "print(classification_report(y_test.values , predictions))"
   ]
  },
  {
   "cell_type": "code",
   "execution_count": 108,
   "id": "885a18c3",
   "metadata": {
    "ExecuteTime": {
     "end_time": "2024-01-20T20:29:17.795584Z",
     "start_time": "2024-01-20T20:29:17.756371Z"
    }
   },
   "outputs": [
    {
     "ename": "NameError",
     "evalue": "name 'precision_score' is not defined",
     "output_type": "error",
     "traceback": [
      "\u001b[1;31m---------------------------------------------------------------------------\u001b[0m",
      "\u001b[1;31mNameError\u001b[0m                                 Traceback (most recent call last)",
      "Cell \u001b[1;32mIn[108], line 2\u001b[0m\n\u001b[0;32m      1\u001b[0m \u001b[38;5;66;03m# Evaluating the model\u001b[39;00m\n\u001b[1;32m----> 2\u001b[0m \u001b[38;5;28mprint\u001b[39m(\u001b[38;5;124m'\u001b[39m\u001b[38;5;124mPrecision is \u001b[39m\u001b[38;5;132;01m{}\u001b[39;00m\u001b[38;5;124m'\u001b[39m\u001b[38;5;241m.\u001b[39mformat(precision_score(y_test\u001b[38;5;241m.\u001b[39mvalues, predictions, average\u001b[38;5;241m=\u001b[39m\u001b[38;5;124m'\u001b[39m\u001b[38;5;124mmacro\u001b[39m\u001b[38;5;124m'\u001b[39m)))\n\u001b[0;32m      3\u001b[0m \u001b[38;5;28mprint\u001b[39m(\u001b[38;5;124m'\u001b[39m\u001b[38;5;124mRecall is \u001b[39m\u001b[38;5;132;01m{}\u001b[39;00m\u001b[38;5;124m'\u001b[39m\u001b[38;5;241m.\u001b[39mformat(recall_score(y_test\u001b[38;5;241m.\u001b[39mvalues, predictions, average\u001b[38;5;241m=\u001b[39m\u001b[38;5;124m'\u001b[39m\u001b[38;5;124mmacro\u001b[39m\u001b[38;5;124m'\u001b[39m)))\n\u001b[0;32m      4\u001b[0m \u001b[38;5;28mprint\u001b[39m(\u001b[38;5;124m'\u001b[39m\u001b[38;5;124mF1:\u001b[39m\u001b[38;5;124m'\u001b[39m, f1_score(y_test\u001b[38;5;241m.\u001b[39mvalues, predictions, average\u001b[38;5;241m=\u001b[39m\u001b[38;5;124m'\u001b[39m\u001b[38;5;124mmacro\u001b[39m\u001b[38;5;124m'\u001b[39m))\n",
      "\u001b[1;31mNameError\u001b[0m: name 'precision_score' is not defined"
     ]
    }
   ],
   "source": [
    "    # Evaluating the model\n",
    "print('Precision is {}'.format(precision_score(y_test.values, predictions, average='macro')))\n",
    "print('Recall is {}'.format(recall_score(y_test.values, predictions, average='macro')))\n",
    "print('F1:', f1_score(y_test.values, predictions, average='macro'))"
   ]
  },
  {
   "cell_type": "markdown",
   "id": "b001ed35",
   "metadata": {
    "ExecuteTime": {
     "end_time": "2024-01-20T17:02:32.073189Z",
     "start_time": "2024-01-20T17:02:32.069427Z"
    }
   },
   "source": [
    "# CNN"
   ]
  },
  {
   "cell_type": "code",
   "execution_count": 210,
   "id": "9a651abd",
   "metadata": {
    "ExecuteTime": {
     "end_time": "2024-01-21T18:45:21.368336Z",
     "start_time": "2024-01-21T18:45:21.196731Z"
    }
   },
   "outputs": [],
   "source": [
    "cnn_model = tf.keras.Sequential()\n",
    "cnn_model.add(tf.keras.layers.Conv1D(256,3,input_shape=(200,1), activation='leaky_relu'))\n",
    "cnn_model.add(tf.keras.layers.MaxPool1D())\n",
    "cnn_model.add(tf.keras.layers.Conv1D(128,3,activation='leaky_relu'))\n",
    "cnn_model.add(tf.keras.layers.MaxPool1D())\n",
    "cnn_model.add(tf.keras.layers.Conv1D(64,3,activation='leaky_relu')) \n",
    "cnn_model.add(tf.keras.layers.MaxPool1D())\n",
    "cnn_model.add(tf.keras.layers.BatchNormalization())\n",
    "cnn_model.add(tf.keras.layers.Flatten())\n",
    "cnn_model.add(tf.keras.layers.Dense(64,activation='leaky_relu'))\n",
    "cnn_model.add(tf.keras.layers.Dense(30,activation='leaky_relu'))\n",
    "cnn_model.add(tf.keras.layers.Dense(17,activation='softmax'))"
   ]
  },
  {
   "cell_type": "code",
   "execution_count": 211,
   "id": "b99d60f0",
   "metadata": {
    "ExecuteTime": {
     "end_time": "2024-01-21T18:45:22.013039Z",
     "start_time": "2024-01-21T18:45:21.988193Z"
    }
   },
   "outputs": [],
   "source": [
    "cnn_model.compile(optimizer='adam', \n",
    "          loss = 'categorical_crossentropy',\n",
    "          metrics=[tf.keras.metrics.BinaryAccuracy(name='accuracy'),\n",
    "                   tf.keras.metrics.Precision(name='precision') ,\n",
    "                   tf.keras.metrics.Recall(name='recall')])"
   ]
  },
  {
   "cell_type": "code",
   "execution_count": 275,
   "id": "76937ef4",
   "metadata": {
    "ExecuteTime": {
     "end_time": "2024-01-21T18:51:49.860770Z",
     "start_time": "2024-01-21T18:51:49.838249Z"
    }
   },
   "outputs": [
    {
     "name": "stdout",
     "output_type": "stream",
     "text": [
      "Model: \"sequential_10\"\n",
      "_________________________________________________________________\n",
      " Layer (type)                Output Shape              Param #   \n",
      "=================================================================\n",
      " conv1d_15 (Conv1D)          (None, 198, 256)          1024      \n",
      "                                                                 \n",
      " max_pooling1d_15 (MaxPooli  (None, 99, 256)           0         \n",
      " ng1D)                                                           \n",
      "                                                                 \n",
      " conv1d_16 (Conv1D)          (None, 97, 128)           98432     \n",
      "                                                                 \n",
      " max_pooling1d_16 (MaxPooli  (None, 48, 128)           0         \n",
      " ng1D)                                                           \n",
      "                                                                 \n",
      " conv1d_17 (Conv1D)          (None, 46, 64)            24640     \n",
      "                                                                 \n",
      " max_pooling1d_17 (MaxPooli  (None, 23, 64)            0         \n",
      " ng1D)                                                           \n",
      "                                                                 \n",
      " batch_normalization_7 (Bat  (None, 23, 64)            256       \n",
      " chNormalization)                                                \n",
      "                                                                 \n",
      " flatten_7 (Flatten)         (None, 1472)              0         \n",
      "                                                                 \n",
      " dense_25 (Dense)            (None, 64)                94272     \n",
      "                                                                 \n",
      " dense_26 (Dense)            (None, 30)                1950      \n",
      "                                                                 \n",
      " dense_27 (Dense)            (None, 17)                527       \n",
      "                                                                 \n",
      "=================================================================\n",
      "Total params: 221101 (863.68 KB)\n",
      "Trainable params: 220973 (863.18 KB)\n",
      "Non-trainable params: 128 (512.00 Byte)\n",
      "_________________________________________________________________\n"
     ]
    }
   ],
   "source": [
    "cnn_model.summary()"
   ]
  },
  {
   "cell_type": "code",
   "execution_count": 362,
   "id": "d6aba399",
   "metadata": {
    "ExecuteTime": {
     "end_time": "2024-01-21T18:59:13.921085Z",
     "start_time": "2024-01-21T18:58:59.810492Z"
    }
   },
   "outputs": [
    {
     "name": "stdout",
     "output_type": "stream",
     "text": [
      "Epoch 1/2\n",
      "492/492 [==============================] - 7s 15ms/step - loss: 0.1297 - accuracy: 0.9951 - precision: 0.9617 - recall: 0.9551 - val_loss: 2.4032 - val_accuracy: 0.9572 - val_precision: 0.6444 - val_recall: 0.6082\n",
      "Epoch 2/2\n",
      "492/492 [==============================] - 7s 14ms/step - loss: 0.1524 - accuracy: 0.9941 - precision: 0.9544 - recall: 0.9449 - val_loss: 4.4502 - val_accuracy: 0.9464 - val_precision: 0.5459 - val_recall: 0.5315\n"
     ]
    },
    {
     "data": {
      "text/plain": [
       "<keras.src.callbacks.History at 0x1ba677b8c90>"
      ]
     },
     "execution_count": 362,
     "metadata": {},
     "output_type": "execute_result"
    }
   ],
   "source": [
    "cnn_model.fit(X_train[:7859], y_train1[:7859], batch_size = 16 ,epochs=2, validation_data=(X_val,y_val) ,verbose =1)"
   ]
  },
  {
   "cell_type": "code",
   "execution_count": null,
   "id": "2e9e8b93",
   "metadata": {
    "ExecuteTime": {
     "end_time": "2024-01-21T18:59:14.026805Z",
     "start_time": "2024-01-21T18:59:14.026805Z"
    }
   },
   "outputs": [],
   "source": [
    "# 30h epanalipsi"
   ]
  },
  {
   "cell_type": "code",
   "execution_count": null,
   "id": "98eb8802",
   "metadata": {},
   "outputs": [],
   "source": []
  },
  {
   "cell_type": "code",
   "execution_count": 363,
   "id": "d822ad01",
   "metadata": {
    "ExecuteTime": {
     "end_time": "2024-01-21T18:59:17.470829Z",
     "start_time": "2024-01-21T18:59:16.740008Z"
    }
   },
   "outputs": [
    {
     "name": "stdout",
     "output_type": "stream",
     "text": [
      "69/69 [==============================] - 1s 9ms/step - loss: 3.9596 - accuracy: 0.9488 - precision: 0.5665 - recall: 0.5525\n",
      "\n",
      "loss: 3.960\n",
      "\n",
      "accuracy: 0.949\n",
      "\n",
      "precision: 0.566\n",
      "\n",
      "recall: 0.552\n"
     ]
    }
   ],
   "source": [
    "scores = cnn_model.evaluate(X_test, y_test1)\n",
    "\n",
    "for i, m in enumerate(cnn_model.metrics_names):\n",
    "    print(\"\\n%s: %.3f\"% (m, scores[i]))"
   ]
  },
  {
   "cell_type": "code",
   "execution_count": 364,
   "id": "9da9a399",
   "metadata": {
    "ExecuteTime": {
     "end_time": "2024-01-21T18:59:18.561850Z",
     "start_time": "2024-01-21T18:59:17.885455Z"
    }
   },
   "outputs": [
    {
     "name": "stdout",
     "output_type": "stream",
     "text": [
      "69/69 [==============================] - 1s 8ms/step\n"
     ]
    }
   ],
   "source": [
    "predictions = np.argmax(cnn_model.predict(X_test), axis=-1)"
   ]
  },
  {
   "cell_type": "code",
   "execution_count": 365,
   "id": "bfa5ca36",
   "metadata": {
    "ExecuteTime": {
     "end_time": "2024-01-21T18:59:18.843726Z",
     "start_time": "2024-01-21T18:59:18.838272Z"
    }
   },
   "outputs": [
    {
     "data": {
      "text/plain": [
       "array([12,  1, 16, ..., 11,  9, 12], dtype=int64)"
      ]
     },
     "execution_count": 365,
     "metadata": {},
     "output_type": "execute_result"
    }
   ],
   "source": [
    "predictions"
   ]
  },
  {
   "cell_type": "code",
   "execution_count": 366,
   "id": "dcdbe866",
   "metadata": {
    "ExecuteTime": {
     "end_time": "2024-01-21T18:59:19.728478Z",
     "start_time": "2024-01-21T18:59:19.708991Z"
    }
   },
   "outputs": [
    {
     "name": "stdout",
     "output_type": "stream",
     "text": [
      "              precision    recall  f1-score   support\n",
      "\n",
      "           0       0.60      0.22      0.32        68\n",
      "           1       0.51      0.86      0.64       176\n",
      "           2       0.91      0.32      0.47        97\n",
      "           3       0.82      0.44      0.58        90\n",
      "           4       0.65      0.49      0.56        93\n",
      "           5       0.76      0.39      0.52       108\n",
      "           6       0.87      0.48      0.62       126\n",
      "           7       0.48      0.89      0.62       136\n",
      "           8       0.73      0.37      0.49       122\n",
      "           9       0.54      0.79      0.64       155\n",
      "          10       0.75      0.20      0.31        61\n",
      "          11       0.39      0.59      0.47       172\n",
      "          12       0.45      0.87      0.59       182\n",
      "          13       0.40      0.58      0.48       151\n",
      "          14       0.79      0.07      0.14       200\n",
      "          15       0.92      0.58      0.71       169\n",
      "          16       0.88      0.86      0.87        77\n",
      "\n",
      "    accuracy                           0.56      2183\n",
      "   macro avg       0.67      0.53      0.53      2183\n",
      "weighted avg       0.65      0.56      0.53      2183\n",
      "\n"
     ]
    }
   ],
   "source": [
    "print(classification_report(y_test.values , predictions))"
   ]
  },
  {
   "cell_type": "code",
   "execution_count": 367,
   "id": "8c9c4e7d",
   "metadata": {
    "ExecuteTime": {
     "end_time": "2024-01-21T18:59:20.800235Z",
     "start_time": "2024-01-21T18:59:20.797284Z"
    }
   },
   "outputs": [],
   "source": [
    "# gia batch = 16\n",
    "\n",
    "# 1h epan -->accuracy = 67%"
   ]
  },
  {
   "cell_type": "code",
   "execution_count": 368,
   "id": "2f7840c3",
   "metadata": {
    "ExecuteTime": {
     "end_time": "2024-01-21T18:59:21.191831Z",
     "start_time": "2024-01-21T18:59:21.188135Z"
    }
   },
   "outputs": [],
   "source": [
    "# 2h epan -->accuracy = 67%"
   ]
  },
  {
   "cell_type": "code",
   "execution_count": 369,
   "id": "d6a545c7",
   "metadata": {
    "ExecuteTime": {
     "end_time": "2024-01-21T18:59:21.464431Z",
     "start_time": "2024-01-21T18:59:21.461018Z"
    }
   },
   "outputs": [],
   "source": [
    "# 3h epan -->accuracy = 70%"
   ]
  },
  {
   "cell_type": "code",
   "execution_count": 370,
   "id": "c7ff8097",
   "metadata": {
    "ExecuteTime": {
     "end_time": "2024-01-21T18:59:21.683183Z",
     "start_time": "2024-01-21T18:59:21.680201Z"
    }
   },
   "outputs": [],
   "source": [
    "# 4h epan -->accuracy = 69%"
   ]
  },
  {
   "cell_type": "code",
   "execution_count": null,
   "id": "2a46938c",
   "metadata": {
    "ExecuteTime": {
     "end_time": "2024-01-21T18:59:21.886406Z",
     "start_time": "2024-01-21T18:59:21.886406Z"
    }
   },
   "outputs": [],
   "source": [
    "# 5h epan -->accuracy = 72%"
   ]
  },
  {
   "cell_type": "code",
   "execution_count": null,
   "id": "948a3097",
   "metadata": {
    "ExecuteTime": {
     "end_time": "2024-01-21T18:59:22.059061Z",
     "start_time": "2024-01-21T18:59:22.059061Z"
    }
   },
   "outputs": [],
   "source": [
    "# 6h epan -->accuracy = 72%"
   ]
  },
  {
   "cell_type": "code",
   "execution_count": null,
   "id": "d24e24b8",
   "metadata": {
    "ExecuteTime": {
     "end_time": "2024-01-21T18:59:22.206893Z",
     "start_time": "2024-01-21T18:59:22.206893Z"
    }
   },
   "outputs": [],
   "source": [
    "# 7h epan -->accuracy = 72%"
   ]
  },
  {
   "cell_type": "code",
   "execution_count": null,
   "id": "a8ddb05c",
   "metadata": {
    "ExecuteTime": {
     "end_time": "2024-01-21T18:59:22.390338Z",
     "start_time": "2024-01-21T18:59:22.390338Z"
    }
   },
   "outputs": [],
   "source": [
    "# 8h epan -->accuracy = 72%"
   ]
  },
  {
   "cell_type": "code",
   "execution_count": null,
   "id": "3679803c",
   "metadata": {
    "ExecuteTime": {
     "end_time": "2024-01-21T18:59:22.568028Z",
     "start_time": "2024-01-21T18:59:22.568028Z"
    }
   },
   "outputs": [],
   "source": [
    "# 9h epan -->accuracy = 75%"
   ]
  },
  {
   "cell_type": "code",
   "execution_count": null,
   "id": "edebf82e",
   "metadata": {
    "ExecuteTime": {
     "end_time": "2024-01-21T18:59:22.721654Z",
     "start_time": "2024-01-21T18:59:22.721654Z"
    }
   },
   "outputs": [],
   "source": [
    "# 12h epanalipsi --- > 72%"
   ]
  },
  {
   "cell_type": "code",
   "execution_count": 371,
   "id": "1b3f3769",
   "metadata": {
    "ExecuteTime": {
     "end_time": "2024-01-21T18:59:23.112342Z",
     "start_time": "2024-01-21T18:59:23.108804Z"
    }
   },
   "outputs": [],
   "source": [
    "# 13h epanalipsi -- >72%"
   ]
  },
  {
   "cell_type": "code",
   "execution_count": null,
   "id": "446817d1",
   "metadata": {
    "ExecuteTime": {
     "end_time": "2024-01-21T18:59:23.314958Z",
     "start_time": "2024-01-21T18:59:23.314958Z"
    }
   },
   "outputs": [],
   "source": [
    "# 20h epanalipsi --- > 70%"
   ]
  },
  {
   "cell_type": "code",
   "execution_count": null,
   "id": "1a4bd8e9",
   "metadata": {
    "ExecuteTime": {
     "end_time": "2024-01-21T18:59:23.481145Z",
     "start_time": "2024-01-21T18:59:23.481145Z"
    }
   },
   "outputs": [],
   "source": [
    "# 23h epanalipsi --- > 70%"
   ]
  },
  {
   "cell_type": "markdown",
   "id": "71eb1a50",
   "metadata": {},
   "source": [
    "### 2nd CNN model"
   ]
  },
  {
   "cell_type": "code",
   "execution_count": 427,
   "id": "8ebb5566",
   "metadata": {
    "ExecuteTime": {
     "end_time": "2024-01-21T19:07:58.064466Z",
     "start_time": "2024-01-21T19:07:57.844123Z"
    }
   },
   "outputs": [],
   "source": [
    "cnn_model2 = tf.keras.Sequential()\n",
    "cnn_model2.add(tf.keras.layers.Conv1D(256,3,input_shape=(200,1), activation='leaky_relu'))\n",
    "cnn_model2.add(tf.keras.layers.MaxPool1D())\n",
    "cnn_model2.add(tf.keras.layers.Conv1D(128,3,activation='leaky_relu'))\n",
    "cnn_model2.add(tf.keras.layers.MaxPool1D())\n",
    "cnn_model2.add(tf.keras.layers.Conv1D(256,3,activation='leaky_relu'))\n",
    "cnn_model2.add(tf.keras.layers.MaxPool1D())\n",
    "cnn_model2.add(tf.keras.layers.Conv1D(128,3,activation='leaky_relu'))\n",
    "cnn_model2.add(tf.keras.layers.MaxPool1D())\n",
    "cnn_model2.add(tf.keras.layers.Conv1D(64,3,activation='leaky_relu')) \n",
    "cnn_model2.add(tf.keras.layers.MaxPool1D())\n",
    "cnn_model2.add(tf.keras.layers.BatchNormalization())\n",
    "cnn_model2.add(tf.keras.layers.Flatten())\n",
    "cnn_model2.add(tf.keras.layers.Dense(64,activation='leaky_relu'))\n",
    "cnn_model2.add(tf.keras.layers.Dense(30,activation='leaky_relu'))\n",
    "cnn_model2.add(tf.keras.layers.Dense(17,activation='softmax'))"
   ]
  },
  {
   "cell_type": "code",
   "execution_count": 428,
   "id": "deb06d1c",
   "metadata": {
    "ExecuteTime": {
     "end_time": "2024-01-21T19:07:58.835478Z",
     "start_time": "2024-01-21T19:07:58.828530Z"
    }
   },
   "outputs": [],
   "source": [
    "opt = tf.keras.optimizers.AdamW(learning_rate =0.007 , beta_1=0.9,\n",
    "    beta_2=0.999,\n",
    "    use_ema=True,\n",
    "    ema_momentum=0.99)"
   ]
  },
  {
   "cell_type": "code",
   "execution_count": 429,
   "id": "cc168840",
   "metadata": {
    "ExecuteTime": {
     "end_time": "2024-01-21T19:07:59.257125Z",
     "start_time": "2024-01-21T19:07:59.236390Z"
    }
   },
   "outputs": [],
   "source": [
    "cnn_model2.compile(optimizer=opt, \n",
    "          loss = 'categorical_crossentropy',\n",
    "          metrics=[tf.keras.metrics.BinaryAccuracy(name='accuracy'),\n",
    "                   tf.keras.metrics.Precision(name='precision') ,\n",
    "                   tf.keras.metrics.Recall(name='recall')])"
   ]
  },
  {
   "cell_type": "code",
   "execution_count": 461,
   "id": "42a51048",
   "metadata": {
    "ExecuteTime": {
     "end_time": "2024-01-21T19:15:14.359745Z",
     "start_time": "2024-01-21T19:14:48.975899Z"
    }
   },
   "outputs": [
    {
     "name": "stdout",
     "output_type": "stream",
     "text": [
      "Epoch 1/2\n",
      "983/983 [==============================] - 13s 13ms/step - loss: 0.8222 - accuracy: 0.9709 - precision: 0.8057 - recall: 0.6664 - val_loss: 2.3581 - val_accuracy: 0.9439 - val_precision: 0.5277 - val_recall: 0.4467\n",
      "Epoch 2/2\n",
      "983/983 [==============================] - 12s 12ms/step - loss: 0.8222 - accuracy: 0.9707 - precision: 0.8021 - recall: 0.6654 - val_loss: 6.6109 - val_accuracy: 0.9226 - val_precision: 0.3300 - val_recall: 0.3058\n"
     ]
    },
    {
     "data": {
      "text/plain": [
       "<keras.src.callbacks.History at 0x1ba676a9c50>"
      ]
     },
     "execution_count": 461,
     "metadata": {},
     "output_type": "execute_result"
    }
   ],
   "source": [
    "cnn_model2.fit(X_train[:7859], y_train1[:7859], batch_size = 8 ,epochs=2, validation_data=(X_val,y_val) ,verbose =1)"
   ]
  },
  {
   "cell_type": "code",
   "execution_count": 463,
   "id": "012ffa0e",
   "metadata": {
    "ExecuteTime": {
     "end_time": "2024-01-21T19:15:37.934627Z",
     "start_time": "2024-01-21T19:15:36.892865Z"
    }
   },
   "outputs": [
    {
     "name": "stdout",
     "output_type": "stream",
     "text": [
      "69/69 [==============================] - 1s 14ms/step - loss: 1.0674 - accuracy: 0.9667 - precision: 0.7649 - recall: 0.6276\n",
      "\n",
      "loss: 1.067\n",
      "\n",
      "accuracy: 0.967\n",
      "\n",
      "precision: 0.765\n",
      "\n",
      "recall: 0.628\n"
     ]
    }
   ],
   "source": [
    "scores = cnn_model2.evaluate(X_test, y_test1)\n",
    "\n",
    "for i, m in enumerate(cnn_model2.metrics_names):\n",
    "    print(\"\\n%s: %.3f\"% (m, scores[i]))"
   ]
  },
  {
   "cell_type": "code",
   "execution_count": 464,
   "id": "6150970e",
   "metadata": {
    "ExecuteTime": {
     "end_time": "2024-01-21T19:15:39.358979Z",
     "start_time": "2024-01-21T19:15:38.509160Z"
    }
   },
   "outputs": [
    {
     "name": "stdout",
     "output_type": "stream",
     "text": [
      "69/69 [==============================] - 1s 11ms/step\n"
     ]
    }
   ],
   "source": [
    "predictions = np.argmax(cnn_model2.predict(X_test), axis=-1)"
   ]
  },
  {
   "cell_type": "code",
   "execution_count": 465,
   "id": "4dd4f9cd",
   "metadata": {
    "ExecuteTime": {
     "end_time": "2024-01-21T19:15:39.733937Z",
     "start_time": "2024-01-21T19:15:39.717912Z"
    }
   },
   "outputs": [
    {
     "name": "stdout",
     "output_type": "stream",
     "text": [
      "              precision    recall  f1-score   support\n",
      "\n",
      "           0       0.62      0.50      0.55        68\n",
      "           1       0.78      0.73      0.75       176\n",
      "           2       0.70      0.72      0.71        97\n",
      "           3       0.71      0.67      0.69        90\n",
      "           4       0.92      0.52      0.66        93\n",
      "           5       0.54      0.78      0.64       108\n",
      "           6       0.77      0.79      0.78       126\n",
      "           7       0.69      0.76      0.72       136\n",
      "           8       0.72      0.62      0.67       122\n",
      "           9       0.84      0.63      0.72       155\n",
      "          10       0.55      0.77      0.64        61\n",
      "          11       0.56      0.64      0.60       172\n",
      "          12       0.71      0.80      0.75       182\n",
      "          13       0.54      0.67      0.60       151\n",
      "          14       0.65      0.47      0.55       200\n",
      "          15       0.87      0.86      0.87       169\n",
      "          16       0.86      0.95      0.90        77\n",
      "\n",
      "    accuracy                           0.69      2183\n",
      "   macro avg       0.71      0.70      0.69      2183\n",
      "weighted avg       0.71      0.69      0.69      2183\n",
      "\n"
     ]
    }
   ],
   "source": [
    "print(classification_report(y_test.values , predictions))"
   ]
  },
  {
   "cell_type": "code",
   "execution_count": 466,
   "id": "a2650754",
   "metadata": {
    "ExecuteTime": {
     "end_time": "2024-01-21T19:15:40.416245Z",
     "start_time": "2024-01-21T19:15:40.413090Z"
    }
   },
   "outputs": [],
   "source": [
    "# 2 epanalipseis --> 55%\n",
    "# 4 epanalipseis --> 65%\n",
    "# 6 epanalipseis --> 69%\n",
    "# 7 epanalipseis --> 63%\n",
    "# 8 epanalipseis --> 68%\n",
    "# 9 epanalipseis --> 26%\n",
    "# 10 --> 0\n",
    "# bATCH = 16"
   ]
  },
  {
   "cell_type": "code",
   "execution_count": 467,
   "id": "8e0748b8",
   "metadata": {
    "ExecuteTime": {
     "end_time": "2024-01-21T19:15:46.888447Z",
     "start_time": "2024-01-21T19:15:46.884571Z"
    }
   },
   "outputs": [],
   "source": [
    "# 5 epanalipseis --> 66%\n",
    "# 8 epanalipseis --> 68%\n",
    "# 10 epanalipseis --> 70%\n",
    "# 11 epanalipseis --> 70%\n",
    "# 12 epanalipseis --> 70%\n",
    "# 14 epanalipseis --> 69%\n",
    "# 16 epanalipseis --> 71%\n",
    "# 18 epanalipseis --> 71%\n",
    "# 10 --> 0\n",
    "# bATCH = 8"
   ]
  },
  {
   "cell_type": "markdown",
   "id": "66a80084",
   "metadata": {},
   "source": [
    "### 3rd CNN model"
   ]
  },
  {
   "cell_type": "code",
   "execution_count": 483,
   "id": "f6c5f8e1",
   "metadata": {
    "ExecuteTime": {
     "end_time": "2024-01-21T19:25:26.926321Z",
     "start_time": "2024-01-21T19:25:26.690246Z"
    }
   },
   "outputs": [],
   "source": [
    "cnn_model3 = tf.keras.Sequential()\n",
    "cnn_model3.add(tf.keras.layers.Conv1D(1024,3,input_shape=(200,1), activation='leaky_relu'))\n",
    "cnn_model3.add(tf.keras.layers.MaxPool1D())\n",
    "cnn_model3.add(tf.keras.layers.Conv1D(512,3,activation='leaky_relu'))\n",
    "cnn_model3.add(tf.keras.layers.MaxPool1D())\n",
    "cnn_model3.add(tf.keras.layers.Conv1D(256,3,activation='leaky_relu'))\n",
    "cnn_model3.add(tf.keras.layers.MaxPool1D())\n",
    "cnn_model3.add(tf.keras.layers.Conv1D(128,3,activation='leaky_relu'))\n",
    "cnn_model3.add(tf.keras.layers.MaxPool1D())\n",
    "cnn_model3.add(tf.keras.layers.Conv1D(64,3,activation='leaky_relu')) \n",
    "cnn_model3.add(tf.keras.layers.MaxPool1D())\n",
    "cnn_model3.add(tf.keras.layers.BatchNormalization())\n",
    "cnn_model3.add(tf.keras.layers.Flatten())\n",
    "cnn_model3.add(tf.keras.layers.Dense(64,activation='leaky_relu'))\n",
    "cnn_model3.add(tf.keras.layers.Dense(30,activation='leaky_relu'))\n",
    "cnn_model3.add(tf.keras.layers.Dense(17,activation='softmax'))"
   ]
  },
  {
   "cell_type": "code",
   "execution_count": 484,
   "id": "086d159d",
   "metadata": {
    "ExecuteTime": {
     "end_time": "2024-01-21T19:25:28.138588Z",
     "start_time": "2024-01-21T19:25:28.131167Z"
    }
   },
   "outputs": [],
   "source": [
    "opt = tf.keras.optimizers.AdamW(learning_rate =0.007 , beta_1=0.9,\n",
    "    beta_2=0.999,\n",
    "    use_ema=True,\n",
    "    ema_momentum=0.99)"
   ]
  },
  {
   "cell_type": "code",
   "execution_count": 485,
   "id": "bbfccc2d",
   "metadata": {
    "ExecuteTime": {
     "end_time": "2024-01-21T19:25:29.535979Z",
     "start_time": "2024-01-21T19:25:29.514751Z"
    }
   },
   "outputs": [],
   "source": [
    "cnn_model3.compile(optimizer=opt, \n",
    "          loss = 'categorical_crossentropy',\n",
    "          metrics=[tf.keras.metrics.BinaryAccuracy(name='accuracy'),\n",
    "                   tf.keras.metrics.Precision(name='precision') ,\n",
    "                   tf.keras.metrics.Recall(name='recall')])"
   ]
  },
  {
   "cell_type": "code",
   "execution_count": 486,
   "id": "ff025b49",
   "metadata": {
    "ExecuteTime": {
     "end_time": "2024-01-21T19:32:37.312157Z",
     "start_time": "2024-01-21T19:25:36.355820Z"
    },
    "scrolled": true
   },
   "outputs": [
    {
     "name": "stdout",
     "output_type": "stream",
     "text": [
      "Epoch 1/5\n",
      "492/492 [==============================] - 93s 184ms/step - loss: 1.9089 - accuracy: 0.9461 - precision: 0.6361 - recall: 0.1960 - val_loss: 15.4190 - val_accuracy: 0.8942 - val_precision: 0.1008 - val_recall: 0.1008\n",
      "Epoch 2/5\n",
      "492/492 [==============================] - 81s 164ms/step - loss: 1.4743 - accuracy: 0.9523 - precision: 0.6875 - recall: 0.3474 - val_loss: 5.2075 - val_accuracy: 0.9125 - val_precision: 0.2219 - val_recall: 0.1947\n",
      "Epoch 3/5\n",
      "492/492 [==============================] - 80s 163ms/step - loss: 1.3152 - accuracy: 0.9568 - precision: 0.7241 - recall: 0.4305 - val_loss: 9.6070 - val_accuracy: 0.9049 - val_precision: 0.1584 - val_recall: 0.1432\n",
      "Epoch 4/5\n",
      "492/492 [==============================] - 81s 165ms/step - loss: 1.2120 - accuracy: 0.9598 - precision: 0.7421 - recall: 0.4863 - val_loss: 22.8776 - val_accuracy: 0.8943 - val_precision: 0.1019 - val_recall: 0.1019\n",
      "Epoch 5/5\n",
      "492/492 [==============================] - 86s 174ms/step - loss: 1.1614 - accuracy: 0.9613 - precision: 0.7529 - recall: 0.5102 - val_loss: 7.6211 - val_accuracy: 0.9038 - val_precision: 0.1476 - val_recall: 0.1329\n"
     ]
    },
    {
     "data": {
      "text/plain": [
       "<keras.src.callbacks.History at 0x1ba682d2350>"
      ]
     },
     "execution_count": 486,
     "metadata": {},
     "output_type": "execute_result"
    }
   ],
   "source": [
    "cnn_model3.fit(X_train[:7859], y_train1[:7859], batch_size = 16 ,epochs=5, validation_data=(X_val,y_val) ,verbose =1)"
   ]
  },
  {
   "cell_type": "code",
   "execution_count": 487,
   "id": "6db9ad93",
   "metadata": {
    "ExecuteTime": {
     "end_time": "2024-01-21T19:32:56.486486Z",
     "start_time": "2024-01-21T19:32:50.609197Z"
    }
   },
   "outputs": [
    {
     "name": "stdout",
     "output_type": "stream",
     "text": [
      "69/69 [==============================] - 6s 83ms/step - loss: 1.4185 - accuracy: 0.9558 - precision: 0.6814 - recall: 0.4672\n",
      "\n",
      "loss: 1.418\n",
      "\n",
      "accuracy: 0.956\n",
      "\n",
      "precision: 0.681\n",
      "\n",
      "recall: 0.467\n"
     ]
    }
   ],
   "source": [
    "scores = cnn_model3.evaluate(X_test, y_test1)\n",
    "\n",
    "for i, m in enumerate(cnn_model3.metrics_names):\n",
    "    print(\"\\n%s: %.3f\"% (m, scores[i]))"
   ]
  },
  {
   "cell_type": "code",
   "execution_count": 488,
   "id": "d7155171",
   "metadata": {
    "ExecuteTime": {
     "end_time": "2024-01-21T19:33:06.470746Z",
     "start_time": "2024-01-21T19:33:00.609914Z"
    }
   },
   "outputs": [
    {
     "name": "stdout",
     "output_type": "stream",
     "text": [
      "69/69 [==============================] - 6s 80ms/step\n"
     ]
    }
   ],
   "source": [
    "predictions = np.argmax(cnn_model3.predict(X_test), axis=-1)"
   ]
  },
  {
   "cell_type": "code",
   "execution_count": 489,
   "id": "de46cd87",
   "metadata": {
    "ExecuteTime": {
     "end_time": "2024-01-21T19:33:08.429915Z",
     "start_time": "2024-01-21T19:33:08.409644Z"
    }
   },
   "outputs": [
    {
     "name": "stdout",
     "output_type": "stream",
     "text": [
      "              precision    recall  f1-score   support\n",
      "\n",
      "           0       0.75      0.13      0.23        68\n",
      "           1       0.88      0.39      0.54       176\n",
      "           2       0.34      0.89      0.50        97\n",
      "           3       0.65      0.69      0.67        90\n",
      "           4       0.71      0.58      0.64        93\n",
      "           5       0.83      0.19      0.30       108\n",
      "           6       0.64      0.85      0.73       126\n",
      "           7       0.75      0.57      0.65       136\n",
      "           8       0.56      0.29      0.38       122\n",
      "           9       0.91      0.41      0.56       155\n",
      "          10       0.00      0.00      0.00        61\n",
      "          11       0.50      0.56      0.53       172\n",
      "          12       0.74      0.57      0.64       182\n",
      "          13       0.49      0.70      0.58       151\n",
      "          14       0.31      0.73      0.44       200\n",
      "          15       0.81      0.83      0.82       169\n",
      "          16       0.98      0.77      0.86        77\n",
      "\n",
      "    accuracy                           0.56      2183\n",
      "   macro avg       0.64      0.54      0.53      2183\n",
      "weighted avg       0.65      0.56      0.56      2183\n",
      "\n"
     ]
    },
    {
     "name": "stderr",
     "output_type": "stream",
     "text": [
      "C:\\Users\\Desktop\\anaconda3\\Lib\\site-packages\\sklearn\\metrics\\_classification.py:1469: UndefinedMetricWarning: Precision and F-score are ill-defined and being set to 0.0 in labels with no predicted samples. Use `zero_division` parameter to control this behavior.\n",
      "  _warn_prf(average, modifier, msg_start, len(result))\n",
      "C:\\Users\\Desktop\\anaconda3\\Lib\\site-packages\\sklearn\\metrics\\_classification.py:1469: UndefinedMetricWarning: Precision and F-score are ill-defined and being set to 0.0 in labels with no predicted samples. Use `zero_division` parameter to control this behavior.\n",
      "  _warn_prf(average, modifier, msg_start, len(result))\n",
      "C:\\Users\\Desktop\\anaconda3\\Lib\\site-packages\\sklearn\\metrics\\_classification.py:1469: UndefinedMetricWarning: Precision and F-score are ill-defined and being set to 0.0 in labels with no predicted samples. Use `zero_division` parameter to control this behavior.\n",
      "  _warn_prf(average, modifier, msg_start, len(result))\n"
     ]
    }
   ],
   "source": [
    "print(classification_report(y_test.values , predictions))"
   ]
  },
  {
   "cell_type": "markdown",
   "id": "b77aa8e1",
   "metadata": {},
   "source": [
    "# Building a different w2vec model to really see what is the root of evil on our 70% accuracy"
   ]
  },
  {
   "cell_type": "code",
   "execution_count": 216,
   "id": "76f0d7a5",
   "metadata": {
    "ExecuteTime": {
     "end_time": "2024-01-20T17:09:07.288470Z",
     "start_time": "2024-01-20T17:05:00.710235Z"
    }
   },
   "outputs": [],
   "source": [
    "model_w2v2= Word2Vec(sentences=corpus_full, vector_size=500, window=4, min_count=15, sg = 1 , hs = 1)  # skipgram architecture"
   ]
  },
  {
   "cell_type": "code",
   "execution_count": 217,
   "id": "68bab4db",
   "metadata": {
    "ExecuteTime": {
     "end_time": "2024-01-20T17:09:11.077154Z",
     "start_time": "2024-01-20T17:09:10.671735Z"
    }
   },
   "outputs": [],
   "source": [
    "model_w2v2.save(\"word2vec.i_dont_even_know_how_shitty_this_model_is\")"
   ]
  },
  {
   "cell_type": "code",
   "execution_count": 491,
   "id": "5894f770",
   "metadata": {
    "ExecuteTime": {
     "end_time": "2024-01-21T19:34:22.507495Z",
     "start_time": "2024-01-21T19:34:21.970178Z"
    }
   },
   "outputs": [],
   "source": [
    "model_w2v2 = Word2Vec.load(\"word2vec.i_dont_even_know_how_shitty_this_model_is\")"
   ]
  },
  {
   "cell_type": "code",
   "execution_count": 492,
   "id": "1cb37022",
   "metadata": {
    "ExecuteTime": {
     "end_time": "2024-01-21T19:34:24.713670Z",
     "start_time": "2024-01-21T19:34:24.706263Z"
    }
   },
   "outputs": [],
   "source": [
    "def vectorizer2():\n",
    "    \n",
    "    \n",
    "    # Creating a list for storing the vectors ('Description' into vectors)\n",
    "    #global word_embeddings\n",
    "    word_embeddings = []\n",
    "    i = 0\n",
    "    # Reading the each 'Description'\n",
    "    for line in io['Cleaned']:\n",
    "        avgword2vec = None\n",
    "        count = 0\n",
    "        for word in line.split():\n",
    "            if word in model_w2v2.wv.key_to_index:\n",
    "                count += 1\n",
    "                if avgword2vec is None:\n",
    "                    avgword2vec = model_w2v2.wv[word]\n",
    "                else:\n",
    "                    avgword2vec = avgword2vec + model_w2v2.wv[word]\n",
    "                \n",
    "        if avgword2vec is not None:\n",
    "            avgword2vec = avgword2vec / count\n",
    "            word_embeddings.append(avgword2vec)\n",
    "        else:\n",
    "            print(\"I found it , the error occurs at line:\" , i)\n",
    "          \n",
    "        i +=1 \n",
    "\n",
    "    return(pd.DataFrame(word_embeddings))  # Returning our Data as a Dataframe (aesthetic reasons)"
   ]
  },
  {
   "cell_type": "code",
   "execution_count": 493,
   "id": "e7a36c8c",
   "metadata": {
    "ExecuteTime": {
     "end_time": "2024-01-21T19:34:42.913946Z",
     "start_time": "2024-01-21T19:34:29.265649Z"
    }
   },
   "outputs": [],
   "source": [
    "X2 = vectorizer2()"
   ]
  },
  {
   "cell_type": "code",
   "execution_count": 625,
   "id": "d2b25241",
   "metadata": {
    "ExecuteTime": {
     "end_time": "2024-01-21T20:00:13.131665Z",
     "start_time": "2024-01-21T20:00:13.083740Z"
    }
   },
   "outputs": [],
   "source": [
    "X_train, X_test, y_train, y_test = train_test_split(X2.values, y1, test_size=0.2,random_state=42)"
   ]
  },
  {
   "cell_type": "code",
   "execution_count": 628,
   "id": "cbac0a72",
   "metadata": {
    "ExecuteTime": {
     "end_time": "2024-01-21T20:03:41.647525Z",
     "start_time": "2024-01-21T20:03:41.643087Z"
    }
   },
   "outputs": [],
   "source": [
    "X_train = np.expand_dims(X_train, -1)\n",
    "X_test = np.expand_dims(X_test, -1)\n",
    "X_val = np.expand_dims(X_val, -1)"
   ]
  },
  {
   "cell_type": "code",
   "execution_count": 629,
   "id": "1d4c281a",
   "metadata": {
    "ExecuteTime": {
     "end_time": "2024-01-21T20:03:41.862353Z",
     "start_time": "2024-01-21T20:03:41.857598Z"
    }
   },
   "outputs": [
    {
     "data": {
      "text/plain": [
       "(8732, 500, 1, 1)"
      ]
     },
     "execution_count": 629,
     "metadata": {},
     "output_type": "execute_result"
    }
   ],
   "source": [
    "X_train.shape"
   ]
  },
  {
   "cell_type": "code",
   "execution_count": 630,
   "id": "35102f14",
   "metadata": {
    "ExecuteTime": {
     "end_time": "2024-01-21T20:03:44.022101Z",
     "start_time": "2024-01-21T20:03:44.017086Z"
    }
   },
   "outputs": [],
   "source": [
    "y_train1 = to_categorical(y_train)"
   ]
  },
  {
   "cell_type": "code",
   "execution_count": 631,
   "id": "556a7255",
   "metadata": {
    "ExecuteTime": {
     "end_time": "2024-01-21T20:03:44.327951Z",
     "start_time": "2024-01-21T20:03:44.322749Z"
    }
   },
   "outputs": [],
   "source": [
    "y_test1 = to_categorical(y_test)"
   ]
  },
  {
   "cell_type": "code",
   "execution_count": 632,
   "id": "7cb0ca95",
   "metadata": {
    "ExecuteTime": {
     "end_time": "2024-01-21T20:03:44.576245Z",
     "start_time": "2024-01-21T20:03:44.571244Z"
    }
   },
   "outputs": [],
   "source": [
    "X_val = X_train[7859:]\n",
    "y_val = y_train1[7859:]"
   ]
  },
  {
   "cell_type": "markdown",
   "id": "f500dd06",
   "metadata": {},
   "source": [
    "## KERAS TIME"
   ]
  },
  {
   "cell_type": "code",
   "execution_count": 711,
   "id": "6e24121b",
   "metadata": {
    "ExecuteTime": {
     "end_time": "2024-01-21T20:35:15.169223Z",
     "start_time": "2024-01-21T20:35:14.985108Z"
    }
   },
   "outputs": [],
   "source": [
    "cnn_model = tf.keras.Sequential()\n",
    "cnn_model.add(tf.keras.layers.Conv1D(1024,2,input_shape=(500,1), activation='leaky_relu'))\n",
    "cnn_model.add(tf.keras.layers.MaxPool1D())\n",
    "cnn_model.add(tf.keras.layers.Conv1D(512,2,activation='leaky_relu'))\n",
    "cnn_model.add(tf.keras.layers.MaxPool1D())\n",
    "cnn_model.add(tf.keras.layers.Conv1D(256,2,activation='leaky_relu')) \n",
    "cnn_model.add(tf.keras.layers.MaxPool1D())\n",
    "#cnn_model.add(tf.keras.layers.Conv1D(64,2,activation='leaky_relu')) \n",
    "#cnn_model.add(tf.keras.layers.MaxPool1D())\n",
    "#cnn_model.add(tf.keras.layers.Conv1D(32,2,activation='leaky_relu'))\n",
    "#cnn_model.add(tf.keras.layers.MaxPool1D())\n",
    "cnn_model.add(tf.keras.layers.BatchNormalization())\n",
    "cnn_model.add(tf.keras.layers.Flatten())\n",
    "cnn_model.add(tf.keras.layers.Dense(64,activation='leaky_relu'))\n",
    "cnn_model.add(tf.keras.layers.Dense(32,activation='leaky_relu'))\n",
    "cnn_model.add(tf.keras.layers.Dense(17,activation='softmax'))"
   ]
  },
  {
   "cell_type": "code",
   "execution_count": 712,
   "id": "b890f2dd",
   "metadata": {
    "ExecuteTime": {
     "end_time": "2024-01-21T20:35:15.848732Z",
     "start_time": "2024-01-21T20:35:15.824375Z"
    }
   },
   "outputs": [
    {
     "name": "stdout",
     "output_type": "stream",
     "text": [
      "Model: \"sequential_38\"\n",
      "_________________________________________________________________\n",
      " Layer (type)                Output Shape              Param #   \n",
      "=================================================================\n",
      " conv1d_132 (Conv1D)         (None, 499, 1024)         3072      \n",
      "                                                                 \n",
      " max_pooling1d_132 (MaxPool  (None, 249, 1024)         0         \n",
      " ing1D)                                                          \n",
      "                                                                 \n",
      " conv1d_133 (Conv1D)         (None, 248, 512)          1049088   \n",
      "                                                                 \n",
      " max_pooling1d_133 (MaxPool  (None, 124, 512)          0         \n",
      " ing1D)                                                          \n",
      "                                                                 \n",
      " conv1d_134 (Conv1D)         (None, 123, 256)          262400    \n",
      "                                                                 \n",
      " max_pooling1d_134 (MaxPool  (None, 61, 256)           0         \n",
      " ing1D)                                                          \n",
      "                                                                 \n",
      " batch_normalization_27 (Ba  (None, 61, 256)           1024      \n",
      " tchNormalization)                                               \n",
      "                                                                 \n",
      " flatten_27 (Flatten)        (None, 15616)             0         \n",
      "                                                                 \n",
      " dense_83 (Dense)            (None, 64)                999488    \n",
      "                                                                 \n",
      " dense_84 (Dense)            (None, 32)                2080      \n",
      "                                                                 \n",
      " dense_85 (Dense)            (None, 17)                561       \n",
      "                                                                 \n",
      "=================================================================\n",
      "Total params: 2317713 (8.84 MB)\n",
      "Trainable params: 2317201 (8.84 MB)\n",
      "Non-trainable params: 512 (2.00 KB)\n",
      "_________________________________________________________________\n"
     ]
    }
   ],
   "source": [
    "cnn_model.summary()"
   ]
  },
  {
   "cell_type": "code",
   "execution_count": 713,
   "id": "cd5701c0",
   "metadata": {
    "ExecuteTime": {
     "end_time": "2024-01-21T20:35:17.647861Z",
     "start_time": "2024-01-21T20:35:17.625034Z"
    }
   },
   "outputs": [],
   "source": [
    "cnn_model.compile(optimizer='adam', \n",
    "          loss = 'categorical_crossentropy',\n",
    "          metrics=[tf.keras.metrics.BinaryAccuracy(name='accuracy'),\n",
    "                   tf.keras.metrics.Precision(name='precision') ,\n",
    "                   tf.keras.metrics.Recall(name='recall')])"
   ]
  },
  {
   "cell_type": "code",
   "execution_count": 714,
   "id": "b15b1f19",
   "metadata": {
    "ExecuteTime": {
     "end_time": "2024-01-21T20:35:18.979552Z",
     "start_time": "2024-01-21T20:35:18.976095Z"
    }
   },
   "outputs": [],
   "source": [
    "#opt = tf.keras.optimizers.AdamW(learning_rate =0.007 , beta_1=0.9,\n",
    " #   beta_2=0.999,\n",
    "  #  use_ema=True,\n",
    "   # ema_momentum=0.99)"
   ]
  },
  {
   "cell_type": "code",
   "execution_count": 715,
   "id": "90ab57df",
   "metadata": {
    "ExecuteTime": {
     "end_time": "2024-01-21T20:35:19.659580Z",
     "start_time": "2024-01-21T20:35:19.656342Z"
    }
   },
   "outputs": [],
   "source": [
    "#model.compile(optimizer = opt , \n",
    " #             loss = 'categorical_crossentropy' ,\n",
    "  #            metrics=[tf.keras.metrics.BinaryAccuracy(name='accuracy'),\n",
    "   #                    tf.keras.metrics.Precision(name='precision'),\n",
    "    #                   tf.keras.metrics.Recall(name='recall')])"
   ]
  },
  {
   "cell_type": "code",
   "execution_count": 720,
   "id": "bf34e559",
   "metadata": {
    "ExecuteTime": {
     "end_time": "2024-01-21T21:01:35.570876Z",
     "start_time": "2024-01-21T20:59:14.397640Z"
    }
   },
   "outputs": [
    {
     "name": "stdout",
     "output_type": "stream",
     "text": [
      "246/246 [==============================] - 141s 573ms/step - loss: 0.2462 - accuracy: 0.9904 - precision: 0.9300 - recall: 0.9044 - val_loss: 4.0256 - val_accuracy: 0.9384 - val_precision: 0.4756 - val_recall: 0.4570\n"
     ]
    },
    {
     "data": {
      "text/plain": [
       "<keras.src.callbacks.History at 0x1ba913e4d10>"
      ]
     },
     "execution_count": 720,
     "metadata": {},
     "output_type": "execute_result"
    }
   ],
   "source": [
    "cnn_model.fit(X_train[:7859] , y_train1[:7859] , batch_size = 32 , epochs = 1 , validation_data=(X_val,y_val) ,verbose =1)"
   ]
  },
  {
   "cell_type": "code",
   "execution_count": 721,
   "id": "0255a780",
   "metadata": {
    "ExecuteTime": {
     "end_time": "2024-01-21T21:01:59.076947Z",
     "start_time": "2024-01-21T21:01:47.749297Z"
    }
   },
   "outputs": [
    {
     "name": "stdout",
     "output_type": "stream",
     "text": [
      "69/69 [==============================] - 11s 162ms/step\n"
     ]
    }
   ],
   "source": [
    "predictions = np.argmax(cnn_model.predict(X_test), axis=-1)"
   ]
  },
  {
   "cell_type": "code",
   "execution_count": 722,
   "id": "b88c0e9e",
   "metadata": {
    "ExecuteTime": {
     "end_time": "2024-01-21T21:02:15.095659Z",
     "start_time": "2024-01-21T21:02:15.089139Z"
    }
   },
   "outputs": [
    {
     "data": {
      "text/plain": [
       "array([11,  1, 16, ..., 11,  9, 12], dtype=int64)"
      ]
     },
     "execution_count": 722,
     "metadata": {},
     "output_type": "execute_result"
    }
   ],
   "source": [
    "predictions"
   ]
  },
  {
   "cell_type": "code",
   "execution_count": 723,
   "id": "125dbf26",
   "metadata": {
    "ExecuteTime": {
     "end_time": "2024-01-21T21:02:16.612168Z",
     "start_time": "2024-01-21T21:02:16.588282Z"
    }
   },
   "outputs": [
    {
     "name": "stdout",
     "output_type": "stream",
     "text": [
      "              precision    recall  f1-score   support\n",
      "\n",
      "           0       1.00      0.01      0.03        68\n",
      "           1       0.95      0.11      0.20       176\n",
      "           2       0.68      0.52      0.59        97\n",
      "           3       0.56      0.64      0.60        90\n",
      "           4       0.77      0.29      0.42        93\n",
      "           5       0.73      0.38      0.50       108\n",
      "           6       0.90      0.43      0.58       126\n",
      "           7       0.69      0.55      0.61       136\n",
      "           8       0.85      0.09      0.16       122\n",
      "           9       0.88      0.34      0.49       155\n",
      "          10       0.87      0.44      0.59        61\n",
      "          11       0.24      0.76      0.36       172\n",
      "          12       0.91      0.24      0.38       182\n",
      "          13       0.19      0.87      0.32       151\n",
      "          14       0.73      0.10      0.17       200\n",
      "          15       0.74      0.91      0.82       169\n",
      "          16       0.69      0.91      0.79        77\n",
      "\n",
      "    accuracy                           0.44      2183\n",
      "   macro avg       0.73      0.45      0.45      2183\n",
      "weighted avg       0.72      0.44      0.43      2183\n",
      "\n"
     ]
    }
   ],
   "source": [
    "print(classification_report(y_test.values , predictions))"
   ]
  },
  {
   "cell_type": "code",
   "execution_count": 725,
   "id": "394fff01",
   "metadata": {
    "ExecuteTime": {
     "end_time": "2024-01-21T21:02:54.031801Z",
     "start_time": "2024-01-21T21:02:54.028849Z"
    }
   },
   "outputs": [],
   "source": [
    "# 11 epochs 73% accuracy"
   ]
  },
  {
   "cell_type": "code",
   "execution_count": 790,
   "id": "06491d1f",
   "metadata": {
    "ExecuteTime": {
     "end_time": "2024-01-21T21:09:33.285972Z",
     "start_time": "2024-01-21T21:09:33.134962Z"
    }
   },
   "outputs": [],
   "source": [
    "cnn_model = tf.keras.Sequential()\n",
    "cnn_model.add(tf.keras.layers.Conv1D(180,2,input_shape=(500,1), activation='leaky_relu')) # for the first comment 256 == 128\n",
    "cnn_model.add(tf.keras.layers.MaxPool1D())\n",
    "cnn_model.add(tf.keras.layers.Conv1D(128,2,activation='leaky_relu')) #for the first comment 128 == 64\n",
    "cnn_model.add(tf.keras.layers.MaxPool1D())\n",
    "#cnn_model.add(tf.keras.layers.Conv1D(256,2,activation='leaky_relu')) \n",
    "#cnn_model.add(tf.keras.layers.MaxPool1D())\n",
    "#cnn_model.add(tf.keras.layers.Conv1D(64,2,activation='leaky_relu')) \n",
    "#cnn_model.add(tf.keras.layers.MaxPool1D())\n",
    "#cnn_model.add(tf.keras.layers.Conv1D(32,2,activation='leaky_relu'))\n",
    "#cnn_model.add(tf.keras.layers.MaxPool1D())\n",
    "cnn_model.add(tf.keras.layers.BatchNormalization())\n",
    "cnn_model.add(tf.keras.layers.Flatten())\n",
    "cnn_model.add(tf.keras.layers.Dense(64,activation='leaky_relu'))\n",
    "cnn_model.add(tf.keras.layers.Dense(32,activation='leaky_relu'))\n",
    "cnn_model.add(tf.keras.layers.Dense(17,activation='softmax'))"
   ]
  },
  {
   "cell_type": "code",
   "execution_count": 791,
   "id": "e2460282",
   "metadata": {
    "ExecuteTime": {
     "end_time": "2024-01-21T21:09:33.826233Z",
     "start_time": "2024-01-21T21:09:33.797231Z"
    }
   },
   "outputs": [],
   "source": [
    "cnn_model.compile(optimizer='adam', \n",
    "          loss = 'categorical_crossentropy',\n",
    "          metrics=[tf.keras.metrics.BinaryAccuracy(name='accuracy'),\n",
    "                   tf.keras.metrics.Precision(name='precision') ,\n",
    "                   tf.keras.metrics.Recall(name='recall')])"
   ]
  },
  {
   "cell_type": "code",
   "execution_count": 812,
   "id": "2aabb5c9",
   "metadata": {
    "ExecuteTime": {
     "end_time": "2024-01-21T21:12:25.159749Z",
     "start_time": "2024-01-21T21:12:10.529903Z"
    }
   },
   "outputs": [
    {
     "name": "stdout",
     "output_type": "stream",
     "text": [
      "246/246 [==============================] - 15s 59ms/step - loss: 0.5433 - accuracy: 0.9803 - precision: 0.8690 - recall: 0.7828 - val_loss: 1.2217 - val_accuracy: 0.9646 - val_precision: 0.7454 - val_recall: 0.6037\n"
     ]
    },
    {
     "data": {
      "text/plain": [
       "<keras.src.callbacks.History at 0x1baccc49210>"
      ]
     },
     "execution_count": 812,
     "metadata": {},
     "output_type": "execute_result"
    }
   ],
   "source": [
    "cnn_model.fit(X_train[:7859] , y_train1[:7859] , batch_size = 32 , epochs = 1 , validation_data=(X_val,y_val) ,verbose =1)"
   ]
  },
  {
   "cell_type": "code",
   "execution_count": 813,
   "id": "d141fe0c",
   "metadata": {
    "ExecuteTime": {
     "end_time": "2024-01-21T21:13:07.260479Z",
     "start_time": "2024-01-21T21:13:06.076944Z"
    }
   },
   "outputs": [
    {
     "name": "stdout",
     "output_type": "stream",
     "text": [
      "69/69 [==============================] - 1s 15ms/step\n"
     ]
    }
   ],
   "source": [
    "predictions = np.argmax(cnn_model.predict(X_test), axis=-1)"
   ]
  },
  {
   "cell_type": "code",
   "execution_count": 814,
   "id": "6a31c489",
   "metadata": {
    "ExecuteTime": {
     "end_time": "2024-01-21T21:13:07.886378Z",
     "start_time": "2024-01-21T21:13:07.880378Z"
    }
   },
   "outputs": [
    {
     "data": {
      "text/plain": [
       "array([14,  1, 16, ..., 11,  9, 12], dtype=int64)"
      ]
     },
     "execution_count": 814,
     "metadata": {},
     "output_type": "execute_result"
    }
   ],
   "source": [
    "predictions"
   ]
  },
  {
   "cell_type": "code",
   "execution_count": 815,
   "id": "4d20aaa1",
   "metadata": {
    "ExecuteTime": {
     "end_time": "2024-01-21T21:13:10.809687Z",
     "start_time": "2024-01-21T21:13:10.792381Z"
    }
   },
   "outputs": [
    {
     "name": "stdout",
     "output_type": "stream",
     "text": [
      "              precision    recall  f1-score   support\n",
      "\n",
      "           0       0.40      0.60      0.48        68\n",
      "           1       0.80      0.77      0.79       176\n",
      "           2       0.76      0.39      0.52        97\n",
      "           3       0.79      0.47      0.59        90\n",
      "           4       0.67      0.49      0.57        93\n",
      "           5       0.73      0.70      0.72       108\n",
      "           6       0.87      0.67      0.76       126\n",
      "           7       0.54      0.88      0.66       136\n",
      "           8       0.70      0.52      0.59       122\n",
      "           9       0.66      0.83      0.74       155\n",
      "          10       0.77      0.56      0.65        61\n",
      "          11       0.63      0.57      0.60       172\n",
      "          12       0.68      0.79      0.73       182\n",
      "          13       0.55      0.50      0.53       151\n",
      "          14       0.49      0.67      0.56       200\n",
      "          15       0.97      0.69      0.81       169\n",
      "          16       0.81      0.97      0.88        77\n",
      "\n",
      "    accuracy                           0.66      2183\n",
      "   macro avg       0.70      0.65      0.66      2183\n",
      "weighted avg       0.69      0.66      0.66      2183\n",
      "\n"
     ]
    }
   ],
   "source": [
    "print(classification_report(y_test.values , predictions))"
   ]
  },
  {
   "cell_type": "code",
   "execution_count": 773,
   "id": "b700b399",
   "metadata": {
    "ExecuteTime": {
     "end_time": "2024-01-21T21:07:14.394335Z",
     "start_time": "2024-01-21T21:07:14.391334Z"
    }
   },
   "outputs": [],
   "source": [
    "# 1 epoch --->71% acc\n",
    "# 2 epoch --->73% acc\n",
    "# 4 epoch --->74% acc\n",
    "# 6 epoch --->74% acc\n",
    "# 7 epoch --->75% acc\n",
    "# 9 epoch --->75% acc"
   ]
  },
  {
   "cell_type": "code",
   "execution_count": 816,
   "id": "f273f617",
   "metadata": {
    "ExecuteTime": {
     "end_time": "2024-01-21T21:18:01.795953Z",
     "start_time": "2024-01-21T21:18:00.700989Z"
    }
   },
   "outputs": [
    {
     "name": "stdout",
     "output_type": "stream",
     "text": [
      "69/69 [==============================] - 1s 15ms/step - loss: 1.1782 - accuracy: 0.9641 - precision: 0.7364 - recall: 0.6079\n",
      "\n",
      "loss: 1.178\n",
      "\n",
      "accuracy: 0.964\n",
      "\n",
      "precision: 0.736\n",
      "\n",
      "recall: 0.608\n"
     ]
    }
   ],
   "source": [
    "scores = cnn_model.evaluate(X_test, y_test1)\n",
    "\n",
    "for i, m in enumerate(cnn_model.metrics_names):\n",
    "    print(\"\\n%s: %.3f\"% (m, scores[i]))"
   ]
  },
  {
   "cell_type": "code",
   "execution_count": 818,
   "id": "4fd9c049",
   "metadata": {
    "ExecuteTime": {
     "end_time": "2024-01-21T21:18:29.793547Z",
     "start_time": "2024-01-21T21:18:25.519435Z"
    }
   },
   "outputs": [
    {
     "name": "stdout",
     "output_type": "stream",
     "text": [
      "273/273 [==============================] - 4s 15ms/step - loss: 0.7044 - accuracy: 0.9749 - precision: 0.8372 - recall: 0.7108\n",
      "\n",
      "loss: 0.704\n",
      "\n",
      "accuracy: 0.975\n",
      "\n",
      "precision: 0.837\n",
      "\n",
      "recall: 0.711\n"
     ]
    }
   ],
   "source": [
    "scores = cnn_model.evaluate(X_train, y_train1)\n",
    "\n",
    "for i, m in enumerate(cnn_model.metrics_names):\n",
    "    print(\"\\n%s: %.3f\"% (m, scores[i]))"
   ]
  },
  {
   "cell_type": "code",
   "execution_count": 840,
   "id": "de1bc47d",
   "metadata": {
    "ExecuteTime": {
     "end_time": "2024-01-21T21:28:24.610703Z",
     "start_time": "2024-01-21T21:28:24.430490Z"
    }
   },
   "outputs": [],
   "source": [
    "cnn_model = tf.keras.Sequential()\n",
    "cnn_model.add(tf.keras.layers.Conv1D(360,2,input_shape=(500,1), activation='leaky_relu')) # for the first comment 256 == 128\n",
    "cnn_model.add(tf.keras.layers.MaxPool1D())\n",
    "cnn_model.add(tf.keras.layers.Conv1D(180,2,activation='leaky_relu')) #for the first comment 128 == 64\n",
    "cnn_model.add(tf.keras.layers.MaxPool1D())\n",
    "cnn_model.add(tf.keras.layers.Conv1D(90,2,activation='leaky_relu')) \n",
    "cnn_model.add(tf.keras.layers.MaxPool1D())\n",
    "#cnn_model.add(tf.keras.layers.Conv1D(64,2,activation='leaky_relu')) \n",
    "#cnn_model.add(tf.keras.layers.MaxPool1D())\n",
    "#cnn_model.add(tf.keras.layers.Conv1D(32,2,activation='leaky_relu'))\n",
    "#cnn_model.add(tf.keras.layers.MaxPool1D())\n",
    "cnn_model.add(tf.keras.layers.BatchNormalization())\n",
    "cnn_model.add(tf.keras.layers.Flatten())\n",
    "cnn_model.add(tf.keras.layers.Dense(64,activation='leaky_relu'))\n",
    "cnn_model.add(tf.keras.layers.Dense(32,activation='leaky_relu'))\n",
    "cnn_model.add(tf.keras.layers.Dense(17,activation='softmax'))"
   ]
  },
  {
   "cell_type": "code",
   "execution_count": 841,
   "id": "8502a940",
   "metadata": {
    "ExecuteTime": {
     "end_time": "2024-01-21T21:28:26.355174Z",
     "start_time": "2024-01-21T21:28:26.333173Z"
    }
   },
   "outputs": [],
   "source": [
    "cnn_model.compile(optimizer='adam', \n",
    "          loss = 'categorical_crossentropy',\n",
    "          metrics=[tf.keras.metrics.BinaryAccuracy(name='accuracy'),\n",
    "                   tf.keras.metrics.Precision(name='precision') ,\n",
    "                   tf.keras.metrics.Recall(name='recall')])"
   ]
  },
  {
   "cell_type": "code",
   "execution_count": 842,
   "id": "d109bda8",
   "metadata": {
    "ExecuteTime": {
     "end_time": "2024-01-21T21:31:30.202347Z",
     "start_time": "2024-01-21T21:28:32.895939Z"
    }
   },
   "outputs": [
    {
     "name": "stdout",
     "output_type": "stream",
     "text": [
      "Epoch 1/7\n",
      "246/246 [==============================] - 29s 109ms/step - loss: 1.4037 - accuracy: 0.9571 - precision: 0.7465 - recall: 0.4098 - val_loss: 2.4173 - val_accuracy: 0.9412 - val_precision: 0.0000e+00 - val_recall: 0.0000e+00\n",
      "Epoch 2/7\n",
      "246/246 [==============================] - 30s 122ms/step - loss: 0.9739 - accuracy: 0.9662 - precision: 0.7830 - recall: 0.5885 - val_loss: 1.7162 - val_accuracy: 0.9480 - val_precision: 0.8806 - val_recall: 0.1352\n",
      "Epoch 3/7\n",
      "246/246 [==============================] - 24s 97ms/step - loss: 0.8213 - accuracy: 0.9712 - precision: 0.8161 - recall: 0.6578 - val_loss: 2.3816 - val_accuracy: 0.9306 - val_precision: 0.3728 - val_recall: 0.2635\n",
      "Epoch 4/7\n",
      "246/246 [==============================] - 23s 95ms/step - loss: 0.7128 - accuracy: 0.9747 - precision: 0.8352 - recall: 0.7091 - val_loss: 1.3031 - val_accuracy: 0.9612 - val_precision: 0.7004 - val_recall: 0.5945\n",
      "Epoch 5/7\n",
      "246/246 [==============================] - 24s 99ms/step - loss: 0.6196 - accuracy: 0.9770 - precision: 0.8471 - recall: 0.7426 - val_loss: 1.4165 - val_accuracy: 0.9606 - val_precision: 0.6910 - val_recall: 0.5968\n",
      "Epoch 6/7\n",
      "246/246 [==============================] - 24s 96ms/step - loss: 0.5434 - accuracy: 0.9795 - precision: 0.8607 - recall: 0.7778 - val_loss: 2.9651 - val_accuracy: 0.9382 - val_precision: 0.4724 - val_recall: 0.4307\n",
      "Epoch 7/7\n",
      "246/246 [==============================] - 23s 95ms/step - loss: 0.4772 - accuracy: 0.9813 - precision: 0.8703 - recall: 0.8023 - val_loss: 2.2692 - val_accuracy: 0.9492 - val_precision: 0.5758 - val_recall: 0.5178\n"
     ]
    }
   ],
   "source": [
    "history_cnn = cnn_model.fit(X_train[:7859] , y_train1[:7859] , batch_size = 32 , epochs = 7 , validation_data=(X_val,y_val) ,verbose =1)"
   ]
  },
  {
   "cell_type": "code",
   "execution_count": 843,
   "id": "d98d3144",
   "metadata": {
    "ExecuteTime": {
     "end_time": "2024-01-21T21:31:43.161452Z",
     "start_time": "2024-01-21T21:31:42.867973Z"
    }
   },
   "outputs": [
    {
     "data": {
      "text/plain": [
       "Text(0, 0.5, 'Training Error')"
      ]
     },
     "execution_count": 843,
     "metadata": {},
     "output_type": "execute_result"
    },
    {
     "data": {
      "image/png": "[encoded data removed]",
      "text/plain": [
       "<Figure size 640x480 with 1 Axes>"
      ]
     },
     "metadata": {},
     "output_type": "display_data"
    }
   ],
   "source": [
    "plt.plot(history_cnn.history['loss'])\n",
    "plt.xlabel(\"Epochs\")\n",
    "plt.ylabel(\"Training Error\")"
   ]
  },
  {
   "cell_type": "code",
   "execution_count": 844,
   "id": "fb069e1c",
   "metadata": {
    "ExecuteTime": {
     "end_time": "2024-01-21T21:31:44.083680Z",
     "start_time": "2024-01-21T21:31:43.835493Z"
    }
   },
   "outputs": [
    {
     "data": {
      "text/plain": [
       "Text(0, 0.5, 'Accuracy')"
      ]
     },
     "execution_count": 844,
     "metadata": {},
     "output_type": "execute_result"
    },
    {
     "data": {
      "image/png": "[encoded data removed]",
      "text/plain": [
       "<Figure size 640x480 with 1 Axes>"
      ]
     },
     "metadata": {},
     "output_type": "display_data"
    }
   ],
   "source": [
    "plt.plot(history_cnn.history['accuracy'])\n",
    "plt.xlabel(\"Epochs\")\n",
    "plt.ylabel(\"Accuracy\")"
   ]
  },
  {
   "cell_type": "code",
   "execution_count": 855,
   "id": "93e851d5",
   "metadata": {
    "ExecuteTime": {
     "end_time": "2024-01-21T21:34:03.929220Z",
     "start_time": "2024-01-21T21:34:03.922092Z"
    }
   },
   "outputs": [],
   "source": [
    "def plot_history(history):\n",
    "    acc = history.history['accuracy']\n",
    "    val_acc = history.history['val_accuracy']\n",
    "    loss = history.history['loss']\n",
    "    val_loss = history.history['val_loss']\n",
    "    x = range(1, len(acc) + 1)\n",
    "\n",
    "    plt.figure(figsize=(12, 5))\n",
    "    plt.subplot(1, 2, 1)\n",
    "    plt.plot(x, acc, 'b', label='Training acc')\n",
    "    plt.plot(x, val_acc, 'r', label='Validation acc')\n",
    "    plt.title('Training and validation accuracy')\n",
    "    plt.legend()\n",
    "    plt.subplot(1, 2, 2)\n",
    "    plt.plot(x, loss, 'b', label='Training loss')\n",
    "    plt.plot(x, val_loss, 'r', label='Validation loss')\n",
    "    plt.title('Training and validation loss')\n",
    "    plt.legend()"
   ]
  },
  {
   "cell_type": "code",
   "execution_count": 856,
   "id": "69eb61b5",
   "metadata": {
    "ExecuteTime": {
     "end_time": "2024-01-21T21:34:05.098053Z",
     "start_time": "2024-01-21T21:34:04.633835Z"
    }
   },
   "outputs": [
    {
     "data": {
      "image/png": "[encoded data removed]",
      "text/plain": [
       "<Figure size 1200x500 with 2 Axes>"
      ]
     },
     "metadata": {},
     "output_type": "display_data"
    }
   ],
   "source": [
    "plot_history(history_cnn)"
   ]
  },
  {
   "cell_type": "code",
   "execution_count": 849,
   "id": "de5d0a33",
   "metadata": {
    "ExecuteTime": {
     "end_time": "2024-01-21T21:33:03.862663Z",
     "start_time": "2024-01-21T21:33:02.036853Z"
    }
   },
   "outputs": [
    {
     "name": "stdout",
     "output_type": "stream",
     "text": [
      "69/69 [==============================] - 2s 25ms/step\n",
      "              precision    recall  f1-score   support\n",
      "\n",
      "           0       1.00      0.06      0.11        68\n",
      "           1       0.96      0.38      0.54       176\n",
      "           2       1.00      0.05      0.10        97\n",
      "           3       0.40      0.70      0.51        90\n",
      "           4       0.57      0.67      0.61        93\n",
      "           5       0.78      0.27      0.40       108\n",
      "           6       0.96      0.40      0.57       126\n",
      "           7       0.63      0.76      0.69       136\n",
      "           8       0.67      0.57      0.62       122\n",
      "           9       0.73      0.58      0.65       155\n",
      "          10       0.29      0.93      0.45        61\n",
      "          11       0.52      0.56      0.54       172\n",
      "          12       0.31      0.92      0.47       182\n",
      "          13       0.64      0.46      0.54       151\n",
      "          14       0.93      0.07      0.12       200\n",
      "          15       0.70      0.88      0.78       169\n",
      "          16       0.75      0.97      0.85        77\n",
      "\n",
      "    accuracy                           0.54      2183\n",
      "   macro avg       0.70      0.54      0.50      2183\n",
      "weighted avg       0.70      0.54      0.51      2183\n",
      "\n"
     ]
    }
   ],
   "source": [
    "predictions = np.argmax(cnn_model.predict(X_test), axis=-1)\n",
    "print(classification_report(y_test.values , predictions))"
   ]
  },
  {
   "cell_type": "code",
   "execution_count": 827,
   "id": "47750ece",
   "metadata": {
    "ExecuteTime": {
     "end_time": "2024-01-21T21:23:26.986994Z",
     "start_time": "2024-01-21T21:23:26.983228Z"
    }
   },
   "outputs": [],
   "source": [
    "# 5 epochs --> 75%"
   ]
  },
  {
   "cell_type": "markdown",
   "id": "dbe32c74",
   "metadata": {},
   "source": [
    "## Model 2"
   ]
  },
  {
   "cell_type": "code",
   "execution_count": 316,
   "id": "5432469c",
   "metadata": {
    "ExecuteTime": {
     "end_time": "2024-01-20T17:21:42.990067Z",
     "start_time": "2024-01-20T17:21:42.911593Z"
    }
   },
   "outputs": [],
   "source": [
    "model2 = Sequential()\n",
    "model2.add(Dense(100,input_dim=500,activation = \"leaky_relu\"))\n",
    "model2.add(Dense(180,activation = \"leaky_relu\"))\n",
    "model2.add(Dropout(0.2))\n",
    "model2.add(Dense(60,activation = \"leaky_relu\"))\n",
    "#model2.add(Dense(30,activation = \"leaky_relu\"))\n",
    "model2.add(Dense(17,activation = \"softmax\"))"
   ]
  },
  {
   "cell_type": "code",
   "execution_count": 317,
   "id": "52f93b40",
   "metadata": {
    "ExecuteTime": {
     "end_time": "2024-01-20T17:21:43.343178Z",
     "start_time": "2024-01-20T17:21:43.335933Z"
    }
   },
   "outputs": [],
   "source": [
    "opt = tf.keras.optimizers.AdamW(learning_rate =0.007 , beta_1=0.9,\n",
    "    beta_2=0.999,\n",
    "    use_ema=True,\n",
    "    ema_momentum=0.99)"
   ]
  },
  {
   "cell_type": "code",
   "execution_count": 318,
   "id": "daee9241",
   "metadata": {
    "ExecuteTime": {
     "end_time": "2024-01-20T17:21:43.750505Z",
     "start_time": "2024-01-20T17:21:43.727729Z"
    }
   },
   "outputs": [],
   "source": [
    "model2.compile(optimizer = opt , \n",
    "              loss = 'categorical_crossentropy' ,\n",
    "              metrics=[tf.keras.metrics.BinaryAccuracy(name='accuracy'),\n",
    "                       tf.keras.metrics.Precision(name='precision'),\n",
    "                       tf.keras.metrics.Recall(name='recall')])"
   ]
  },
  {
   "cell_type": "code",
   "execution_count": 325,
   "id": "74a3aff6",
   "metadata": {
    "ExecuteTime": {
     "end_time": "2024-01-20T17:22:27.858263Z",
     "start_time": "2024-01-20T17:22:23.260833Z"
    }
   },
   "outputs": [
    {
     "name": "stdout",
     "output_type": "stream",
     "text": [
      "Epoch 1/10\n",
      "123/123 [==============================] - 1s 4ms/step - loss: 0.6890 - accuracy: 0.9749 - precision: 0.8340 - recall: 0.7168 - val_loss: 1.0679 - val_accuracy: 0.9682 - val_precision: 0.7663 - val_recall: 0.6609\n",
      "Epoch 2/10\n",
      "123/123 [==============================] - 0s 4ms/step - loss: 0.6792 - accuracy: 0.9750 - precision: 0.8303 - recall: 0.7234 - val_loss: 1.1319 - val_accuracy: 0.9675 - val_precision: 0.7589 - val_recall: 0.6564\n",
      "Epoch 3/10\n",
      "123/123 [==============================] - 0s 4ms/step - loss: 0.6572 - accuracy: 0.9751 - precision: 0.8340 - recall: 0.7210 - val_loss: 1.1288 - val_accuracy: 0.9676 - val_precision: 0.7593 - val_recall: 0.6575\n",
      "Epoch 4/10\n",
      "123/123 [==============================] - 0s 4ms/step - loss: 0.6285 - accuracy: 0.9768 - precision: 0.8444 - recall: 0.7431 - val_loss: 1.1321 - val_accuracy: 0.9683 - val_precision: 0.7627 - val_recall: 0.6701\n",
      "Epoch 5/10\n",
      "123/123 [==============================] - 0s 4ms/step - loss: 0.6421 - accuracy: 0.9769 - precision: 0.8425 - recall: 0.7462 - val_loss: 1.1380 - val_accuracy: 0.9666 - val_precision: 0.7503 - val_recall: 0.6472\n",
      "Epoch 6/10\n",
      "123/123 [==============================] - 0s 4ms/step - loss: 0.5795 - accuracy: 0.9780 - precision: 0.8507 - recall: 0.7591 - val_loss: 1.2534 - val_accuracy: 0.9687 - val_precision: 0.7576 - val_recall: 0.6873\n",
      "Epoch 7/10\n",
      "123/123 [==============================] - 0s 4ms/step - loss: 0.5725 - accuracy: 0.9784 - precision: 0.8521 - recall: 0.7661 - val_loss: 1.1726 - val_accuracy: 0.9671 - val_precision: 0.7455 - val_recall: 0.6678\n",
      "Epoch 8/10\n",
      "123/123 [==============================] - 0s 4ms/step - loss: 0.5496 - accuracy: 0.9791 - precision: 0.8566 - recall: 0.7747 - val_loss: 1.2196 - val_accuracy: 0.9688 - val_precision: 0.7569 - val_recall: 0.6919\n",
      "Epoch 9/10\n",
      "123/123 [==============================] - 0s 4ms/step - loss: 0.5546 - accuracy: 0.9790 - precision: 0.8525 - recall: 0.7772 - val_loss: 1.1972 - val_accuracy: 0.9687 - val_precision: 0.7589 - val_recall: 0.6850\n",
      "Epoch 10/10\n",
      "123/123 [==============================] - 0s 4ms/step - loss: 0.5324 - accuracy: 0.9801 - precision: 0.8644 - recall: 0.7841 - val_loss: 1.2982 - val_accuracy: 0.9686 - val_precision: 0.7560 - val_recall: 0.6884\n"
     ]
    },
    {
     "data": {
      "text/plain": [
       "<keras.src.callbacks.History at 0x244972695d0>"
      ]
     },
     "execution_count": 325,
     "metadata": {},
     "output_type": "execute_result"
    }
   ],
   "source": [
    "model2.fit(X_train[:7859] , y_train1[:7859] , batch_size = 64 , epochs = 10 , validation_data=(X_val,y_val) ,verbose =1)"
   ]
  },
  {
   "cell_type": "code",
   "execution_count": 326,
   "id": "3d973411",
   "metadata": {
    "ExecuteTime": {
     "end_time": "2024-01-20T17:22:31.165160Z",
     "start_time": "2024-01-20T17:22:30.916950Z"
    }
   },
   "outputs": [
    {
     "name": "stdout",
     "output_type": "stream",
     "text": [
      "69/69 [==============================] - 0s 2ms/step\n"
     ]
    },
    {
     "data": {
      "text/plain": [
       "array([14,  1, 16, ..., 11,  9, 12], dtype=int64)"
      ]
     },
     "execution_count": 326,
     "metadata": {},
     "output_type": "execute_result"
    }
   ],
   "source": [
    "predictions = np.argmax(model2.predict(X_test), axis=-1)\n",
    "\n",
    "predictions"
   ]
  },
  {
   "cell_type": "code",
   "execution_count": 327,
   "id": "cdf9798f",
   "metadata": {
    "ExecuteTime": {
     "end_time": "2024-01-20T17:22:32.953108Z",
     "start_time": "2024-01-20T17:22:32.933381Z"
    }
   },
   "outputs": [
    {
     "name": "stdout",
     "output_type": "stream",
     "text": [
      "              precision    recall  f1-score   support\n",
      "\n",
      "           0       0.69      0.62      0.65        68\n",
      "           1       0.78      0.82      0.80       176\n",
      "           2       0.69      0.74      0.71        97\n",
      "           3       0.72      0.63      0.67        90\n",
      "           4       0.76      0.61      0.68        93\n",
      "           5       0.68      0.81      0.74       108\n",
      "           6       0.85      0.83      0.84       126\n",
      "           7       0.74      0.78      0.76       136\n",
      "           8       0.77      0.72      0.74       122\n",
      "           9       0.81      0.71      0.76       155\n",
      "          10       0.78      0.75      0.77        61\n",
      "          11       0.66      0.63      0.64       172\n",
      "          12       0.79      0.80      0.79       182\n",
      "          13       0.68      0.70      0.69       151\n",
      "          14       0.67      0.67      0.67       200\n",
      "          15       0.86      0.89      0.88       169\n",
      "          16       0.84      0.99      0.90        77\n",
      "\n",
      "    accuracy                           0.75      2183\n",
      "   macro avg       0.75      0.75      0.75      2183\n",
      "weighted avg       0.75      0.75      0.75      2183\n",
      "\n"
     ]
    }
   ],
   "source": [
    "print(classification_report(y_test.values , predictions))"
   ]
  },
  {
   "cell_type": "code",
   "execution_count": 328,
   "id": "0641cdbe",
   "metadata": {
    "ExecuteTime": {
     "end_time": "2024-01-20T17:22:33.725235Z",
     "start_time": "2024-01-20T17:22:33.709409Z"
    }
   },
   "outputs": [
    {
     "name": "stdout",
     "output_type": "stream",
     "text": [
      "Precision is 0.7497295033663197\n",
      "Recall is 0.7478797082622529\n",
      "F1: 0.7468548054573868\n"
     ]
    }
   ],
   "source": [
    "    # Evaluating the model\n",
    "print('Precision is {}'.format(precision_score(y_test.values, predictions, average='macro')))\n",
    "print('Recall is {}'.format(recall_score(y_test.values, predictions, average='macro')))\n",
    "print('F1:', f1_score(y_test.values, predictions, average='macro'))"
   ]
  },
  {
   "cell_type": "code",
   "execution_count": 324,
   "id": "d2cb1d0b",
   "metadata": {
    "ExecuteTime": {
     "end_time": "2024-01-20T17:22:16.671108Z",
     "start_time": "2024-01-20T17:22:16.667981Z"
    }
   },
   "outputs": [],
   "source": [
    "# 74% for 10 epochs (model2)"
   ]
  },
  {
   "cell_type": "code",
   "execution_count": 329,
   "id": "33dba691",
   "metadata": {
    "ExecuteTime": {
     "end_time": "2024-01-20T17:22:47.978122Z",
     "start_time": "2024-01-20T17:22:47.974895Z"
    }
   },
   "outputs": [],
   "source": [
    "# 75% for 20 epochs"
   ]
  },
  {
   "cell_type": "markdown",
   "id": "aa261cd8",
   "metadata": {},
   "source": [
    "### Model 3"
   ]
  },
  {
   "cell_type": "code",
   "execution_count": 372,
   "id": "756776ac",
   "metadata": {
    "ExecuteTime": {
     "end_time": "2024-01-20T17:28:25.535726Z",
     "start_time": "2024-01-20T17:28:25.466897Z"
    }
   },
   "outputs": [],
   "source": [
    "model6 = Sequential()\n",
    "model6.add(Dense(100,input_dim=500,activation = \"leaky_relu\"))\n",
    "model6.add(Dense(180,activation = \"leaky_relu\"))\n",
    "model6.add(Dropout(0.2))\n",
    "model6.add(Dense(60,activation = \"leaky_relu\"))\n",
    "#model2.add(Dense(30,activation = \"leaky_relu\"))\n",
    "model6.add(Dense(17,activation = \"softmax\"))"
   ]
  },
  {
   "cell_type": "code",
   "execution_count": 373,
   "id": "98bb24e9",
   "metadata": {
    "ExecuteTime": {
     "end_time": "2024-01-20T17:28:25.913286Z",
     "start_time": "2024-01-20T17:28:25.907122Z"
    }
   },
   "outputs": [],
   "source": [
    "opt = tf.keras.optimizers.AdamW(learning_rate =0.007 , beta_1=0.9,\n",
    "    beta_2=0.999,\n",
    "    use_ema=True,\n",
    "    ema_momentum=0.99)"
   ]
  },
  {
   "cell_type": "code",
   "execution_count": 374,
   "id": "e5118d5f",
   "metadata": {
    "ExecuteTime": {
     "end_time": "2024-01-20T17:28:26.303893Z",
     "start_time": "2024-01-20T17:28:26.283379Z"
    }
   },
   "outputs": [],
   "source": [
    "model6.compile(optimizer = opt , \n",
    "              loss = 'categorical_crossentropy' ,\n",
    "              metrics=[tf.keras.metrics.BinaryAccuracy(name='accuracy'),\n",
    "                       tf.keras.metrics.Precision(name='precision'),\n",
    "                       tf.keras.metrics.Recall(name='recall')])"
   ]
  },
  {
   "cell_type": "code",
   "execution_count": 379,
   "id": "83868c2d",
   "metadata": {
    "ExecuteTime": {
     "end_time": "2024-01-20T17:28:56.409966Z",
     "start_time": "2024-01-20T17:28:52.622171Z"
    }
   },
   "outputs": [
    {
     "name": "stdout",
     "output_type": "stream",
     "text": [
      "Epoch 1/5\n",
      "246/246 [==============================] - 1s 3ms/step - loss: 0.7565 - accuracy: 0.9733 - precision: 0.8223 - recall: 0.6967 - val_loss: 1.1208 - val_accuracy: 0.9648 - val_precision: 0.7455 - val_recall: 0.6105\n",
      "Epoch 2/5\n",
      "246/246 [==============================] - 1s 3ms/step - loss: 0.7484 - accuracy: 0.9731 - precision: 0.8177 - recall: 0.6979 - val_loss: 1.2005 - val_accuracy: 0.9652 - val_precision: 0.7371 - val_recall: 0.6357\n",
      "Epoch 3/5\n",
      "246/246 [==============================] - 1s 3ms/step - loss: 0.7429 - accuracy: 0.9732 - precision: 0.8173 - recall: 0.7015 - val_loss: 1.2353 - val_accuracy: 0.9652 - val_precision: 0.7399 - val_recall: 0.6289\n",
      "Epoch 4/5\n",
      "246/246 [==============================] - 1s 3ms/step - loss: 0.7114 - accuracy: 0.9740 - precision: 0.8227 - recall: 0.7110 - val_loss: 1.1582 - val_accuracy: 0.9675 - val_precision: 0.7621 - val_recall: 0.6495\n",
      "Epoch 5/5\n",
      "246/246 [==============================] - 1s 3ms/step - loss: 0.6689 - accuracy: 0.9756 - precision: 0.8360 - recall: 0.7285 - val_loss: 1.2264 - val_accuracy: 0.9679 - val_precision: 0.7615 - val_recall: 0.6621\n"
     ]
    },
    {
     "data": {
      "text/plain": [
       "<keras.src.callbacks.History at 0x244985bf890>"
      ]
     },
     "execution_count": 379,
     "metadata": {},
     "output_type": "execute_result"
    }
   ],
   "source": [
    "model6.fit(X_train[:7859] , y_train1[:7859] , batch_size = 32 , epochs = 5 , validation_data=(X_val,y_val) ,verbose =1)"
   ]
  },
  {
   "cell_type": "code",
   "execution_count": 380,
   "id": "8b1fd479",
   "metadata": {
    "ExecuteTime": {
     "end_time": "2024-01-20T17:28:58.411332Z",
     "start_time": "2024-01-20T17:28:58.182588Z"
    }
   },
   "outputs": [
    {
     "name": "stdout",
     "output_type": "stream",
     "text": [
      "69/69 [==============================] - 0s 2ms/step\n"
     ]
    },
    {
     "data": {
      "text/plain": [
       "array([14,  1, 16, ..., 11,  9, 12], dtype=int64)"
      ]
     },
     "execution_count": 380,
     "metadata": {},
     "output_type": "execute_result"
    }
   ],
   "source": [
    "predictions = np.argmax(model6.predict(X_test), axis=-1)\n",
    "\n",
    "predictions"
   ]
  },
  {
   "cell_type": "code",
   "execution_count": 381,
   "id": "a60fc5c2",
   "metadata": {
    "ExecuteTime": {
     "end_time": "2024-01-20T17:28:59.202925Z",
     "start_time": "2024-01-20T17:28:59.183158Z"
    }
   },
   "outputs": [
    {
     "name": "stdout",
     "output_type": "stream",
     "text": [
      "              precision    recall  f1-score   support\n",
      "\n",
      "           0       0.69      0.60      0.65        68\n",
      "           1       0.81      0.82      0.82       176\n",
      "           2       0.72      0.74      0.73        97\n",
      "           3       0.73      0.63      0.68        90\n",
      "           4       0.75      0.59      0.66        93\n",
      "           5       0.74      0.75      0.74       108\n",
      "           6       0.83      0.83      0.83       126\n",
      "           7       0.76      0.78      0.77       136\n",
      "           8       0.81      0.67      0.74       122\n",
      "           9       0.84      0.70      0.77       155\n",
      "          10       0.68      0.70      0.69        61\n",
      "          11       0.66      0.67      0.66       172\n",
      "          12       0.77      0.82      0.79       182\n",
      "          13       0.68      0.70      0.69       151\n",
      "          14       0.61      0.70      0.65       200\n",
      "          15       0.84      0.89      0.87       169\n",
      "          16       0.84      0.97      0.90        77\n",
      "\n",
      "    accuracy                           0.75      2183\n",
      "   macro avg       0.75      0.74      0.74      2183\n",
      "weighted avg       0.75      0.75      0.75      2183\n",
      "\n"
     ]
    }
   ],
   "source": [
    "print(classification_report(y_test.values , predictions))"
   ]
  },
  {
   "cell_type": "code",
   "execution_count": 382,
   "id": "6d37268d",
   "metadata": {
    "ExecuteTime": {
     "end_time": "2024-01-20T17:28:59.728297Z",
     "start_time": "2024-01-20T17:28:59.711025Z"
    }
   },
   "outputs": [
    {
     "name": "stdout",
     "output_type": "stream",
     "text": [
      "Precision is 0.7515128800775556\n",
      "Recall is 0.7414660237509374\n",
      "F1: 0.7441367038194585\n"
     ]
    }
   ],
   "source": [
    "    # Evaluating the model\n",
    "print('Precision is {}'.format(precision_score(y_test.values, predictions, average='macro')))\n",
    "print('Recall is {}'.format(recall_score(y_test.values, predictions, average='macro')))\n",
    "print('F1:', f1_score(y_test.values, predictions, average='macro'))"
   ]
  },
  {
   "cell_type": "code",
   "execution_count": 383,
   "id": "87d4e769",
   "metadata": {
    "ExecuteTime": {
     "end_time": "2024-01-20T17:29:19.332223Z",
     "start_time": "2024-01-20T17:29:19.328746Z"
    }
   },
   "outputs": [],
   "source": [
    "# 15 epochs , batch size = 32 , adamw"
   ]
  },
  {
   "cell_type": "markdown",
   "id": "eb805a2e",
   "metadata": {},
   "source": [
    "# NEW WORD 2 VEC 1000 vectors model"
   ]
  },
  {
   "cell_type": "code",
   "execution_count": 857,
   "id": "9d6e22ab",
   "metadata": {
    "ExecuteTime": {
     "end_time": "2024-01-21T21:46:41.672910Z",
     "start_time": "2024-01-21T21:39:19.707564Z"
    }
   },
   "outputs": [],
   "source": [
    "model_w2v2= Word2Vec(sentences=corpus_full, vector_size=1000, window=4, min_count=15, sg = 1 , hs = 1)  # skipgram architecture"
   ]
  },
  {
   "cell_type": "code",
   "execution_count": 858,
   "id": "016f4daf",
   "metadata": {
    "ExecuteTime": {
     "end_time": "2024-01-21T21:47:05.489670Z",
     "start_time": "2024-01-21T21:47:04.421172Z"
    }
   },
   "outputs": [],
   "source": [
    "model_w2v2.save(\"word2vec.1000_vector_model_maybe_it_is_shitty_af\")"
   ]
  },
  {
   "cell_type": "code",
   "execution_count": 860,
   "id": "301fbf13",
   "metadata": {
    "ExecuteTime": {
     "end_time": "2024-01-21T21:48:02.299606Z",
     "start_time": "2024-01-21T21:47:44.209448Z"
    }
   },
   "outputs": [],
   "source": [
    "X2 = vectorizer2()\n",
    "X_train, X_test, y_train, y_test = train_test_split(X2.values, y1, test_size=0.2,random_state=42)\n",
    "X_train_dim = np.expand_dims(X_train, -1)\n",
    "X_test_dim = np.expand_dims(X_test, -1)\n",
    "X_val_dim = np.expand_dims(X_val, -1)\n",
    "y_train1 = to_categorical(y_train)\n",
    "y_test1 = to_categorical(y_test)\n",
    "X_val = X_train[7859:]\n",
    "y_val = y_train1[7859:]"
   ]
  },
  {
   "cell_type": "code",
   "execution_count": 865,
   "id": "e5e6a76c",
   "metadata": {
    "ExecuteTime": {
     "end_time": "2024-01-21T21:48:54.395433Z",
     "start_time": "2024-01-21T21:48:54.314428Z"
    }
   },
   "outputs": [],
   "source": [
    "model6 = Sequential()\n",
    "model6.add(Dense(100,input_dim=1000,activation = \"leaky_relu\"))\n",
    "model6.add(Dense(180,activation = \"leaky_relu\"))\n",
    "model6.add(Dropout(0.2))\n",
    "model6.add(Dense(60,activation = \"leaky_relu\"))\n",
    "#model2.add(Dense(30,activation = \"leaky_relu\"))\n",
    "model6.add(Dense(17,activation = \"softmax\"))"
   ]
  },
  {
   "cell_type": "code",
   "execution_count": 866,
   "id": "87d89c24",
   "metadata": {
    "ExecuteTime": {
     "end_time": "2024-01-21T21:48:54.791539Z",
     "start_time": "2024-01-21T21:48:54.785935Z"
    }
   },
   "outputs": [],
   "source": [
    "opt = tf.keras.optimizers.AdamW(learning_rate =0.007 , beta_1=0.9,\n",
    "    beta_2=0.999,\n",
    "    use_ema=True,\n",
    "    ema_momentum=0.99)"
   ]
  },
  {
   "cell_type": "code",
   "execution_count": 867,
   "id": "224f1d51",
   "metadata": {
    "ExecuteTime": {
     "end_time": "2024-01-21T21:48:55.111854Z",
     "start_time": "2024-01-21T21:48:55.092059Z"
    }
   },
   "outputs": [],
   "source": [
    "model6.compile(optimizer = opt , \n",
    "              loss = 'categorical_crossentropy' ,\n",
    "              metrics=[tf.keras.metrics.BinaryAccuracy(name='accuracy'),\n",
    "                       tf.keras.metrics.Precision(name='precision'),\n",
    "                       tf.keras.metrics.Recall(name='recall')])"
   ]
  },
  {
   "cell_type": "code",
   "execution_count": 880,
   "id": "fa8c0899",
   "metadata": {
    "ExecuteTime": {
     "end_time": "2024-01-21T21:50:31.446445Z",
     "start_time": "2024-01-21T21:50:26.761232Z"
    }
   },
   "outputs": [
    {
     "name": "stdout",
     "output_type": "stream",
     "text": [
      "Epoch 1/5\n",
      "246/246 [==============================] - 1s 4ms/step - loss: 0.5202 - accuracy: 0.9813 - precision: 0.8738 - recall: 0.7965 - val_loss: 1.4136 - val_accuracy: 0.9642 - val_precision: 0.7262 - val_recall: 0.6289\n",
      "Epoch 2/5\n",
      "246/246 [==============================] - 1s 4ms/step - loss: 0.5445 - accuracy: 0.9802 - precision: 0.8651 - recall: 0.7860 - val_loss: 1.4814 - val_accuracy: 0.9682 - val_precision: 0.7574 - val_recall: 0.6758\n",
      "Epoch 3/5\n",
      "246/246 [==============================] - 1s 4ms/step - loss: 0.5323 - accuracy: 0.9803 - precision: 0.8653 - recall: 0.7881 - val_loss: 1.4547 - val_accuracy: 0.9676 - val_precision: 0.7513 - val_recall: 0.6712\n",
      "Epoch 4/5\n",
      "246/246 [==============================] - 1s 4ms/step - loss: 0.5217 - accuracy: 0.9808 - precision: 0.8682 - recall: 0.7946 - val_loss: 1.5217 - val_accuracy: 0.9685 - val_precision: 0.7512 - val_recall: 0.6953\n",
      "Epoch 5/5\n",
      "246/246 [==============================] - 1s 3ms/step - loss: 0.5010 - accuracy: 0.9818 - precision: 0.8742 - recall: 0.8062 - val_loss: 1.5359 - val_accuracy: 0.9672 - val_precision: 0.7526 - val_recall: 0.6586\n"
     ]
    },
    {
     "data": {
      "text/plain": [
       "<keras.src.callbacks.History at 0x1ba8ef69c50>"
      ]
     },
     "execution_count": 880,
     "metadata": {},
     "output_type": "execute_result"
    }
   ],
   "source": [
    "model6.fit(X_train[:7859] , y_train1[:7859] , batch_size = 32 , epochs = 5 , validation_data=(X_val,y_val) ,verbose =1)"
   ]
  },
  {
   "cell_type": "code",
   "execution_count": 881,
   "id": "3ba811e8",
   "metadata": {
    "ExecuteTime": {
     "end_time": "2024-01-21T21:50:40.085604Z",
     "start_time": "2024-01-21T21:50:39.843067Z"
    }
   },
   "outputs": [
    {
     "name": "stdout",
     "output_type": "stream",
     "text": [
      "69/69 [==============================] - 0s 2ms/step\n"
     ]
    },
    {
     "data": {
      "text/plain": [
       "array([14,  1, 16, ..., 11,  9, 12], dtype=int64)"
      ]
     },
     "execution_count": 881,
     "metadata": {},
     "output_type": "execute_result"
    }
   ],
   "source": [
    "predictions = np.argmax(model6.predict(X_test), axis=-1)\n",
    "\n",
    "predictions"
   ]
  },
  {
   "cell_type": "code",
   "execution_count": 882,
   "id": "21a75085",
   "metadata": {
    "ExecuteTime": {
     "end_time": "2024-01-21T21:50:40.583816Z",
     "start_time": "2024-01-21T21:50:40.563296Z"
    }
   },
   "outputs": [
    {
     "name": "stdout",
     "output_type": "stream",
     "text": [
      "              precision    recall  f1-score   support\n",
      "\n",
      "           0       0.75      0.59      0.66        68\n",
      "           1       0.82      0.80      0.81       176\n",
      "           2       0.78      0.72      0.75        97\n",
      "           3       0.68      0.70      0.69        90\n",
      "           4       0.77      0.65      0.70        93\n",
      "           5       0.68      0.82      0.75       108\n",
      "           6       0.84      0.81      0.82       126\n",
      "           7       0.79      0.76      0.78       136\n",
      "           8       0.70      0.66      0.68       122\n",
      "           9       0.84      0.73      0.78       155\n",
      "          10       0.69      0.79      0.73        61\n",
      "          11       0.64      0.66      0.65       172\n",
      "          12       0.77      0.78      0.77       182\n",
      "          13       0.65      0.72      0.68       151\n",
      "          14       0.64      0.67      0.66       200\n",
      "          15       0.85      0.88      0.86       169\n",
      "          16       0.85      0.92      0.88        77\n",
      "\n",
      "    accuracy                           0.75      2183\n",
      "   macro avg       0.75      0.74      0.74      2183\n",
      "weighted avg       0.75      0.75      0.75      2183\n",
      "\n"
     ]
    }
   ],
   "source": [
    "print(classification_report(y_test.values , predictions))"
   ]
  },
  {
   "cell_type": "code",
   "execution_count": 1039,
   "id": "74910020",
   "metadata": {
    "ExecuteTime": {
     "end_time": "2024-01-22T00:33:23.079651Z",
     "start_time": "2024-01-22T00:33:22.894174Z"
    }
   },
   "outputs": [],
   "source": [
    "cnn_model = tf.keras.Sequential()\n",
    "cnn_model.add(tf.keras.layers.Conv1D(256,2,input_shape=(1000,1), activation='leaky_relu')) # for the first comment 256 == 128\n",
    "cnn_model.add(tf.keras.layers.MaxPool1D())\n",
    "cnn_model.add(tf.keras.layers.Conv1D(128,2,activation='leaky_relu')) #for the first comment 128 == 64\n",
    "cnn_model.add(tf.keras.layers.MaxPool1D())\n",
    "cnn_model.add(tf.keras.layers.Conv1D(128,2,activation='leaky_relu')) \n",
    "cnn_model.add(tf.keras.layers.MaxPool1D())\n",
    "cnn_model.add(tf.keras.layers.Conv1D(64,2,activation='leaky_relu'))\n",
    "cnn_model.add(tf.keras.layers.MaxPool1D())\n",
    "cnn_model.add(tf.keras.layers.BatchNormalization())\n",
    "cnn_model.add(tf.keras.layers.Flatten())\n",
    "cnn_model.add(tf.keras.layers.Dense(64,activation='leaky_relu'))\n",
    "cnn_model.add(tf.keras.layers.Dense(32,activation='leaky_relu'))\n",
    "cnn_model.add(tf.keras.layers.Dense(17,activation='softmax'))"
   ]
  },
  {
   "cell_type": "code",
   "execution_count": 1040,
   "id": "3cd9cf44",
   "metadata": {
    "ExecuteTime": {
     "end_time": "2024-01-22T00:33:23.627860Z",
     "start_time": "2024-01-22T00:33:23.621191Z"
    }
   },
   "outputs": [],
   "source": [
    "opt = tf.keras.optimizers.AdamW(learning_rate =0.007 , beta_1=0.9,\n",
    "    beta_2=0.999,\n",
    "    use_ema=True,\n",
    "    ema_momentum=0.99)"
   ]
  },
  {
   "cell_type": "code",
   "execution_count": 1041,
   "id": "ae46ec34",
   "metadata": {
    "ExecuteTime": {
     "end_time": "2024-01-22T00:33:24.212369Z",
     "start_time": "2024-01-22T00:33:24.192420Z"
    }
   },
   "outputs": [],
   "source": [
    "cnn_model.compile(optimizer=opt, \n",
    "          loss = 'categorical_crossentropy',\n",
    "          metrics=[tf.keras.metrics.BinaryAccuracy(name='accuracy'),\n",
    "                   tf.keras.metrics.Precision(name='precision') ,\n",
    "                   tf.keras.metrics.Recall(name='recall')])"
   ]
  },
  {
   "cell_type": "code",
   "execution_count": 891,
   "id": "430b5f65",
   "metadata": {
    "ExecuteTime": {
     "end_time": "2024-01-21T21:58:06.477625Z",
     "start_time": "2024-01-21T21:52:20.165635Z"
    }
   },
   "outputs": [
    {
     "name": "stdout",
     "output_type": "stream",
     "text": [
      "Epoch 1/7\n",
      "246/246 [==============================] - 52s 202ms/step - loss: 1.6249 - accuracy: 0.9522 - precision: 0.6842 - recall: 0.3469 - val_loss: 828.6804 - val_accuracy: 0.8891 - val_precision: 0.0573 - val_recall: 0.0573\n",
      "Epoch 2/7\n",
      "246/246 [==============================] - 48s 197ms/step - loss: 1.2033 - accuracy: 0.9608 - precision: 0.7466 - recall: 0.5045 - val_loss: 1089.7925 - val_accuracy: 0.8914 - val_precision: 0.0767 - val_recall: 0.0767\n",
      "Epoch 3/7\n",
      "246/246 [==============================] - 48s 197ms/step - loss: 0.9873 - accuracy: 0.9662 - precision: 0.7817 - recall: 0.5900 - val_loss: 1340.4760 - val_accuracy: 0.8942 - val_precision: 0.1008 - val_recall: 0.1008\n",
      "Epoch 4/7\n",
      "246/246 [==============================] - 49s 198ms/step - loss: 0.8789 - accuracy: 0.9705 - precision: 0.8154 - recall: 0.6440 - val_loss: 55.6421 - val_accuracy: 0.9029 - val_precision: 0.1643 - val_recall: 0.1592\n",
      "Epoch 5/7\n",
      "246/246 [==============================] - 51s 208ms/step - loss: 0.7616 - accuracy: 0.9726 - precision: 0.8205 - recall: 0.6833 - val_loss: 131.1671 - val_accuracy: 0.8855 - val_precision: 0.0263 - val_recall: 0.0263\n",
      "Epoch 6/7\n",
      "246/246 [==============================] - 49s 198ms/step - loss: 0.6906 - accuracy: 0.9753 - precision: 0.8380 - recall: 0.7187 - val_loss: 65.8602 - val_accuracy: 0.8915 - val_precision: 0.0779 - val_recall: 0.0779\n",
      "Epoch 7/7\n",
      "246/246 [==============================] - 49s 198ms/step - loss: 0.6257 - accuracy: 0.9776 - precision: 0.8506 - recall: 0.7507 - val_loss: 45.7344 - val_accuracy: 0.8863 - val_precision: 0.0332 - val_recall: 0.0332\n"
     ]
    }
   ],
   "source": [
    "history2_cnn = cnn_model.fit(X_train[:7859] , y_train1[:7859] , batch_size = 32 , epochs = 7 , validation_data=(X_val,y_val) ,ver|"
   ]
  },
  {
   "cell_type": "code",
   "execution_count": 892,
   "id": "56dcd5ce",
   "metadata": {
    "ExecuteTime": {
     "end_time": "2024-01-21T21:58:42.160444Z",
     "start_time": "2024-01-21T21:58:38.357516Z"
    }
   },
   "outputs": [
    {
     "name": "stdout",
     "output_type": "stream",
     "text": [
      "69/69 [==============================] - 4s 51ms/step\n"
     ]
    },
    {
     "data": {
      "text/plain": [
       "array([14,  1, 16, ..., 11,  9, 12], dtype=int64)"
      ]
     },
     "execution_count": 892,
     "metadata": {},
     "output_type": "execute_result"
    }
   ],
   "source": [
    "predictions = np.argmax(cnn_model.predict(X_test), axis=-1)\n",
    "\n",
    "predictions"
   ]
  },
  {
   "cell_type": "code",
   "execution_count": 893,
   "id": "cb9a04a7",
   "metadata": {
    "ExecuteTime": {
     "end_time": "2024-01-21T21:58:49.700560Z",
     "start_time": "2024-01-21T21:58:49.677980Z"
    }
   },
   "outputs": [
    {
     "name": "stdout",
     "output_type": "stream",
     "text": [
      "              precision    recall  f1-score   support\n",
      "\n",
      "           0       0.89      0.12      0.21        68\n",
      "           1       0.89      0.61      0.72       176\n",
      "           2       0.55      0.74      0.63        97\n",
      "           3       0.90      0.50      0.64        90\n",
      "           4       0.70      0.47      0.56        93\n",
      "           5       0.74      0.76      0.75       108\n",
      "           6       0.87      0.75      0.80       126\n",
      "           7       0.95      0.28      0.43       136\n",
      "           8       0.46      0.81      0.58       122\n",
      "           9       0.89      0.57      0.69       155\n",
      "          10       0.80      0.61      0.69        61\n",
      "          11       0.37      0.85      0.52       172\n",
      "          12       0.61      0.80      0.69       182\n",
      "          13       0.57      0.67      0.62       151\n",
      "          14       0.64      0.37      0.47       200\n",
      "          15       0.85      0.83      0.84       169\n",
      "          16       0.77      0.97      0.86        77\n",
      "\n",
      "    accuracy                           0.64      2183\n",
      "   macro avg       0.73      0.63      0.63      2183\n",
      "weighted avg       0.72      0.64      0.63      2183\n",
      "\n"
     ]
    }
   ],
   "source": [
    "print(classification_report(y_test.values , predictions))"
   ]
  },
  {
   "cell_type": "code",
   "execution_count": 895,
   "id": "0fe030be",
   "metadata": {
    "ExecuteTime": {
     "end_time": "2024-01-21T21:59:06.626776Z",
     "start_time": "2024-01-21T21:59:06.623565Z"
    }
   },
   "outputs": [],
   "source": [
    "# 73 % acc"
   ]
  },
  {
   "cell_type": "code",
   "execution_count": 896,
   "id": "d71f57b4",
   "metadata": {
    "ExecuteTime": {
     "end_time": "2024-01-21T21:59:22.171797Z",
     "start_time": "2024-01-21T21:59:21.689409Z"
    }
   },
   "outputs": [
    {
     "data": {
      "image/png": "[encoded data removed]",
      "text/plain": [
       "<Figure size 1200x500 with 2 Axes>"
      ]
     },
     "metadata": {},
     "output_type": "display_data"
    }
   ],
   "source": [
    "plot_history(history2_cnn)"
   ]
  },
  {
   "cell_type": "code",
   "execution_count": 897,
   "id": "14a58101",
   "metadata": {
    "ExecuteTime": {
     "end_time": "2024-01-21T22:02:27.961067Z",
     "start_time": "2024-01-21T21:59:58.989842Z"
    }
   },
   "outputs": [
    {
     "name": "stdout",
     "output_type": "stream",
     "text": [
      "Epoch 1/3\n",
      "246/246 [==============================] - 49s 201ms/step - loss: 0.5446 - accuracy: 0.9801 - precision: 0.8674 - recall: 0.7818 - val_loss: 11.3820 - val_accuracy: 0.9175 - val_precision: 0.2843 - val_recall: 0.2658\n",
      "Epoch 2/3\n",
      "246/246 [==============================] - 50s 202ms/step - loss: 0.5321 - accuracy: 0.9805 - precision: 0.8680 - recall: 0.7885 - val_loss: 20.1556 - val_accuracy: 0.8999 - val_precision: 0.1489 - val_recall: 0.1489\n",
      "Epoch 3/3\n",
      "246/246 [==============================] - 50s 202ms/step - loss: 0.4944 - accuracy: 0.9819 - precision: 0.8754 - recall: 0.8075 - val_loss: 11.8396 - val_accuracy: 0.9337 - val_precision: 0.4363 - val_recall: 0.4353\n"
     ]
    }
   ],
   "source": [
    "history2_cnn = cnn_model.fit(X_train[:7859] , y_train1[:7859] , batch_size = 32 , epochs = 3 , validation_data=(X_val,y_val) ,verbose =1)"
   ]
  },
  {
   "cell_type": "code",
   "execution_count": 898,
   "id": "e822d9d0",
   "metadata": {
    "ExecuteTime": {
     "end_time": "2024-01-21T22:03:32.570142Z",
     "start_time": "2024-01-21T22:03:28.983127Z"
    }
   },
   "outputs": [
    {
     "name": "stdout",
     "output_type": "stream",
     "text": [
      "69/69 [==============================] - 3s 50ms/step\n"
     ]
    },
    {
     "data": {
      "text/plain": [
       "array([14,  1, 16, ..., 11,  9, 12], dtype=int64)"
      ]
     },
     "execution_count": 898,
     "metadata": {},
     "output_type": "execute_result"
    }
   ],
   "source": [
    "predictions = np.argmax(cnn_model.predict(X_test), axis=-1)\n",
    "\n",
    "predictions"
   ]
  },
  {
   "cell_type": "code",
   "execution_count": 899,
   "id": "f8b43099",
   "metadata": {
    "ExecuteTime": {
     "end_time": "2024-01-21T22:03:56.411522Z",
     "start_time": "2024-01-21T22:03:55.761848Z"
    }
   },
   "outputs": [
    {
     "name": "stdout",
     "output_type": "stream",
     "text": [
      "              precision    recall  f1-score   support\n",
      "\n",
      "           0       0.74      0.62      0.67        68\n",
      "           1       0.82      0.80      0.81       176\n",
      "           2       0.80      0.75      0.78        97\n",
      "           3       0.70      0.68      0.69        90\n",
      "           4       0.70      0.61      0.65        93\n",
      "           5       0.74      0.78      0.76       108\n",
      "           6       0.81      0.80      0.80       126\n",
      "           7       0.77      0.79      0.78       136\n",
      "           8       0.67      0.66      0.66       122\n",
      "           9       0.88      0.66      0.76       155\n",
      "          10       0.84      0.69      0.76        61\n",
      "          11       0.61      0.66      0.63       172\n",
      "          12       0.79      0.74      0.76       182\n",
      "          13       0.68      0.64      0.66       151\n",
      "          14       0.58      0.74      0.65       200\n",
      "          15       0.83      0.95      0.89       169\n",
      "          16       0.84      0.96      0.90        77\n",
      "\n",
      "    accuracy                           0.74      2183\n",
      "   macro avg       0.75      0.74      0.74      2183\n",
      "weighted avg       0.75      0.74      0.74      2183\n",
      "\n"
     ]
    },
    {
     "data": {
      "image/png": "[encoded data removed]",
      "text/plain": [
       "<Figure size 1200x500 with 2 Axes>"
      ]
     },
     "metadata": {},
     "output_type": "display_data"
    }
   ],
   "source": [
    "print(classification_report(y_test.values , predictions))\n",
    "\n",
    "plot_history(history2_cnn)"
   ]
  },
  {
   "cell_type": "code",
   "execution_count": 919,
   "id": "b7be9f66",
   "metadata": {
    "ExecuteTime": {
     "end_time": "2024-01-21T22:35:57.798826Z",
     "start_time": "2024-01-21T22:27:03.200907Z"
    },
    "scrolled": false
   },
   "outputs": [
    {
     "name": "stdout",
     "output_type": "stream",
     "text": [
      "246/246 [==============================] - 58s 224ms/step - loss: 1.6931 - accuracy: 0.9512 - precision: 0.6714 - recall: 0.3322 - val_loss: 557.6398 - val_accuracy: 0.8883 - val_precision: 0.0504 - val_recall: 0.0504\n",
      "69/69 [==============================] - 4s 53ms/step\n",
      "[5 5 5 ... 5 5 5]\n",
      "              precision    recall  f1-score   support\n",
      "\n",
      "           0       0.00      0.00      0.00        68\n",
      "           1       0.00      0.00      0.00       176\n",
      "           2       0.00      0.00      0.00        97\n",
      "           3       0.00      0.00      0.00        90\n",
      "           4       0.00      0.00      0.00        93\n",
      "           5       0.05      1.00      0.09       108\n",
      "           6       0.00      0.00      0.00       126\n",
      "           7       0.00      0.00      0.00       136\n",
      "           8       0.00      0.00      0.00       122\n",
      "           9       0.00      0.00      0.00       155\n",
      "          10       0.00      0.00      0.00        61\n",
      "          11       0.00      0.00      0.00       172\n",
      "          12       0.00      0.00      0.00       182\n",
      "          13       0.00      0.00      0.00       151\n",
      "          14       0.00      0.00      0.00       200\n",
      "          15       0.00      0.00      0.00       169\n",
      "          16       0.00      0.00      0.00        77\n",
      "\n",
      "    accuracy                           0.05      2183\n",
      "   macro avg       0.00      0.06      0.01      2183\n",
      "weighted avg       0.00      0.05      0.00      2183\n",
      "\n"
     ]
    },
    {
     "name": "stderr",
     "output_type": "stream",
     "text": [
      "C:\\Users\\Desktop\\anaconda3\\Lib\\site-packages\\sklearn\\metrics\\_classification.py:1469: UndefinedMetricWarning: Precision and F-score are ill-defined and being set to 0.0 in labels with no predicted samples. Use `zero_division` parameter to control this behavior.\n",
      "  _warn_prf(average, modifier, msg_start, len(result))\n",
      "C:\\Users\\Desktop\\anaconda3\\Lib\\site-packages\\sklearn\\metrics\\_classification.py:1469: UndefinedMetricWarning: Precision and F-score are ill-defined and being set to 0.0 in labels with no predicted samples. Use `zero_division` parameter to control this behavior.\n",
      "  _warn_prf(average, modifier, msg_start, len(result))\n",
      "C:\\Users\\Desktop\\anaconda3\\Lib\\site-packages\\sklearn\\metrics\\_classification.py:1469: UndefinedMetricWarning: Precision and F-score are ill-defined and being set to 0.0 in labels with no predicted samples. Use `zero_division` parameter to control this behavior.\n",
      "  _warn_prf(average, modifier, msg_start, len(result))\n"
     ]
    },
    {
     "name": "stdout",
     "output_type": "stream",
     "text": [
      "246/246 [==============================] - 54s 220ms/step - loss: 1.3196 - accuracy: 0.9578 - precision: 0.7291 - recall: 0.4490 - val_loss: 3780.2649 - val_accuracy: 0.8915 - val_precision: 0.0779 - val_recall: 0.0779\n",
      "69/69 [==============================] - 4s 54ms/step\n",
      "[2 2 2 ... 2 2 2]\n",
      "              precision    recall  f1-score   support\n",
      "\n",
      "           0       0.00      0.00      0.00        68\n",
      "           1       0.00      0.00      0.00       176\n",
      "           2       0.04      1.00      0.09        97\n",
      "           3       0.00      0.00      0.00        90\n",
      "           4       0.00      0.00      0.00        93\n",
      "           5       0.00      0.00      0.00       108\n",
      "           6       0.00      0.00      0.00       126\n",
      "           7       0.00      0.00      0.00       136\n",
      "           8       0.00      0.00      0.00       122\n",
      "           9       0.00      0.00      0.00       155\n",
      "          10       0.00      0.00      0.00        61\n",
      "          11       0.00      0.00      0.00       172\n",
      "          12       0.00      0.00      0.00       182\n",
      "          13       0.00      0.00      0.00       151\n",
      "          14       0.00      0.00      0.00       200\n",
      "          15       0.00      0.00      0.00       169\n",
      "          16       0.00      0.00      0.00        77\n",
      "\n",
      "    accuracy                           0.04      2183\n",
      "   macro avg       0.00      0.06      0.01      2183\n",
      "weighted avg       0.00      0.04      0.00      2183\n",
      "\n"
     ]
    },
    {
     "name": "stderr",
     "output_type": "stream",
     "text": [
      "C:\\Users\\Desktop\\anaconda3\\Lib\\site-packages\\sklearn\\metrics\\_classification.py:1469: UndefinedMetricWarning: Precision and F-score are ill-defined and being set to 0.0 in labels with no predicted samples. Use `zero_division` parameter to control this behavior.\n",
      "  _warn_prf(average, modifier, msg_start, len(result))\n",
      "C:\\Users\\Desktop\\anaconda3\\Lib\\site-packages\\sklearn\\metrics\\_classification.py:1469: UndefinedMetricWarning: Precision and F-score are ill-defined and being set to 0.0 in labels with no predicted samples. Use `zero_division` parameter to control this behavior.\n",
      "  _warn_prf(average, modifier, msg_start, len(result))\n",
      "C:\\Users\\Desktop\\anaconda3\\Lib\\site-packages\\sklearn\\metrics\\_classification.py:1469: UndefinedMetricWarning: Precision and F-score are ill-defined and being set to 0.0 in labels with no predicted samples. Use `zero_division` parameter to control this behavior.\n",
      "  _warn_prf(average, modifier, msg_start, len(result))\n"
     ]
    },
    {
     "name": "stdout",
     "output_type": "stream",
     "text": [
      "246/246 [==============================] - 55s 225ms/step - loss: 1.1931 - accuracy: 0.9608 - precision: 0.7498 - recall: 0.5003 - val_loss: 181.0076 - val_accuracy: 0.8881 - val_precision: 0.0493 - val_recall: 0.0493\n",
      "69/69 [==============================] - 4s 55ms/step\n",
      "[8 8 8 ... 8 8 8]\n",
      "              precision    recall  f1-score   support\n",
      "\n",
      "           0       0.00      0.00      0.00        68\n",
      "           1       0.00      0.00      0.00       176\n",
      "           2       0.00      0.00      0.00        97\n",
      "           3       0.00      0.00      0.00        90\n",
      "           4       0.00      0.00      0.00        93\n",
      "           5       1.00      0.01      0.02       108\n",
      "           6       0.00      0.00      0.00       126\n",
      "           7       0.00      0.00      0.00       136\n",
      "           8       0.06      1.00      0.11       122\n",
      "           9       0.00      0.00      0.00       155\n",
      "          10       0.00      0.00      0.00        61\n",
      "          11       0.00      0.00      0.00       172\n",
      "          12       0.00      0.00      0.00       182\n",
      "          13       0.38      0.02      0.04       151\n",
      "          14       0.00      0.00      0.00       200\n",
      "          15       0.00      0.00      0.00       169\n",
      "          16       0.00      0.00      0.00        77\n",
      "\n",
      "    accuracy                           0.06      2183\n",
      "   macro avg       0.08      0.06      0.01      2183\n",
      "weighted avg       0.08      0.06      0.01      2183\n",
      "\n"
     ]
    },
    {
     "name": "stderr",
     "output_type": "stream",
     "text": [
      "C:\\Users\\Desktop\\anaconda3\\Lib\\site-packages\\sklearn\\metrics\\_classification.py:1469: UndefinedMetricWarning: Precision and F-score are ill-defined and being set to 0.0 in labels with no predicted samples. Use `zero_division` parameter to control this behavior.\n",
      "  _warn_prf(average, modifier, msg_start, len(result))\n",
      "C:\\Users\\Desktop\\anaconda3\\Lib\\site-packages\\sklearn\\metrics\\_classification.py:1469: UndefinedMetricWarning: Precision and F-score are ill-defined and being set to 0.0 in labels with no predicted samples. Use `zero_division` parameter to control this behavior.\n",
      "  _warn_prf(average, modifier, msg_start, len(result))\n",
      "C:\\Users\\Desktop\\anaconda3\\Lib\\site-packages\\sklearn\\metrics\\_classification.py:1469: UndefinedMetricWarning: Precision and F-score are ill-defined and being set to 0.0 in labels with no predicted samples. Use `zero_division` parameter to control this behavior.\n",
      "  _warn_prf(average, modifier, msg_start, len(result))\n"
     ]
    },
    {
     "name": "stdout",
     "output_type": "stream",
     "text": [
      "246/246 [==============================] - 54s 220ms/step - loss: 1.0404 - accuracy: 0.9645 - precision: 0.7753 - recall: 0.5577 - val_loss: 338.5180 - val_accuracy: 0.8868 - val_precision: 0.0378 - val_recall: 0.0378\n",
      "69/69 [==============================] - 4s 53ms/step\n",
      "[10  1  3 ...  2 10 12]\n",
      "              precision    recall  f1-score   support\n",
      "\n",
      "           0       1.00      0.04      0.08        68\n",
      "           1       0.72      0.65      0.68       176\n",
      "           2       0.15      0.98      0.25        97\n",
      "           3       0.36      0.81      0.50        90\n",
      "           4       0.95      0.20      0.34        93\n",
      "           5       0.62      0.73      0.67       108\n",
      "           6       0.93      0.44      0.59       126\n",
      "           7       0.92      0.08      0.15       136\n",
      "           8       0.51      0.52      0.52       122\n",
      "           9       0.96      0.15      0.27       155\n",
      "          10       0.15      0.97      0.26        61\n",
      "          11       0.67      0.01      0.02       172\n",
      "          12       0.82      0.60      0.70       182\n",
      "          13       0.74      0.30      0.42       151\n",
      "          14       0.72      0.07      0.12       200\n",
      "          15       0.82      0.64      0.72       169\n",
      "          16       0.98      0.74      0.84        77\n",
      "\n",
      "    accuracy                           0.43      2183\n",
      "   macro avg       0.71      0.47      0.42      2183\n",
      "weighted avg       0.73      0.43      0.42      2183\n",
      "\n",
      "246/246 [==============================] - 55s 224ms/step - loss: 0.9551 - accuracy: 0.9674 - precision: 0.7951 - recall: 0.6010 - val_loss: 52.1047 - val_accuracy: 0.8895 - val_precision: 0.0607 - val_recall: 0.0607\n",
      "69/69 [==============================] - 4s 58ms/step\n",
      "[ 3  1 16 ...  1  9 12]\n",
      "              precision    recall  f1-score   support\n",
      "\n",
      "           0       0.40      0.43      0.41        68\n",
      "           1       0.64      0.68      0.66       176\n",
      "           2       0.79      0.20      0.31        97\n",
      "           3       0.21      0.81      0.34        90\n",
      "           4       0.90      0.29      0.44        93\n",
      "           5       0.25      0.86      0.39       108\n",
      "           6       1.00      0.33      0.50       126\n",
      "           7       0.68      0.44      0.54       136\n",
      "           8       0.67      0.49      0.57       122\n",
      "           9       0.81      0.56      0.66       155\n",
      "          10       0.29      0.89      0.43        61\n",
      "          11       0.69      0.25      0.37       172\n",
      "          12       0.54      0.85      0.66       182\n",
      "          13       0.75      0.33      0.46       151\n",
      "          14       0.75      0.06      0.11       200\n",
      "          15       0.94      0.49      0.65       169\n",
      "          16       0.59      0.94      0.72        77\n",
      "\n",
      "    accuracy                           0.49      2183\n",
      "   macro avg       0.64      0.52      0.48      2183\n",
      "weighted avg       0.68      0.49      0.49      2183\n",
      "\n",
      "246/246 [==============================] - 56s 228ms/step - loss: 0.8850 - accuracy: 0.9687 - precision: 0.8004 - recall: 0.6223 - val_loss: 38.3033 - val_accuracy: 0.8846 - val_precision: 0.0195 - val_recall: 0.0195\n",
      "69/69 [==============================] - 4s 55ms/step\n",
      "[16  1 16 ...  4  9 12]\n",
      "              precision    recall  f1-score   support\n",
      "\n",
      "           0       0.00      0.00      0.00        68\n",
      "           1       0.78      0.48      0.59       176\n",
      "           2       0.57      0.59      0.58        97\n",
      "           3       0.28      0.72      0.40        90\n",
      "           4       0.26      0.78      0.39        93\n",
      "           5       0.76      0.58      0.66       108\n",
      "           6       0.93      0.34      0.50       126\n",
      "           7       0.78      0.21      0.34       136\n",
      "           8       0.42      0.71      0.53       122\n",
      "           9       0.88      0.29      0.44       155\n",
      "          10       0.64      0.56      0.60        61\n",
      "          11       0.67      0.03      0.07       172\n",
      "          12       0.68      0.73      0.70       182\n",
      "          13       0.32      0.77      0.45       151\n",
      "          14       0.74      0.12      0.21       200\n",
      "          15       0.55      0.92      0.69       169\n",
      "          16       0.73      0.96      0.83        77\n",
      "\n",
      "    accuracy                           0.50      2183\n",
      "   macro avg       0.59      0.52      0.47      2183\n",
      "weighted avg       0.62      0.50      0.46      2183\n",
      "\n"
     ]
    },
    {
     "name": "stderr",
     "output_type": "stream",
     "text": [
      "C:\\Users\\Desktop\\anaconda3\\Lib\\site-packages\\sklearn\\metrics\\_classification.py:1469: UndefinedMetricWarning: Precision and F-score are ill-defined and being set to 0.0 in labels with no predicted samples. Use `zero_division` parameter to control this behavior.\n",
      "  _warn_prf(average, modifier, msg_start, len(result))\n",
      "C:\\Users\\Desktop\\anaconda3\\Lib\\site-packages\\sklearn\\metrics\\_classification.py:1469: UndefinedMetricWarning: Precision and F-score are ill-defined and being set to 0.0 in labels with no predicted samples. Use `zero_division` parameter to control this behavior.\n",
      "  _warn_prf(average, modifier, msg_start, len(result))\n",
      "C:\\Users\\Desktop\\anaconda3\\Lib\\site-packages\\sklearn\\metrics\\_classification.py:1469: UndefinedMetricWarning: Precision and F-score are ill-defined and being set to 0.0 in labels with no predicted samples. Use `zero_division` parameter to control this behavior.\n",
      "  _warn_prf(average, modifier, msg_start, len(result))\n"
     ]
    },
    {
     "name": "stdout",
     "output_type": "stream",
     "text": [
      "246/246 [==============================] - 54s 220ms/step - loss: 0.8400 - accuracy: 0.9703 - precision: 0.8096 - recall: 0.6464 - val_loss: 16.2000 - val_accuracy: 0.9051 - val_precision: 0.1879 - val_recall: 0.1844\n",
      "69/69 [==============================] - 4s 54ms/step\n",
      "[14  1 16 ... 11  9 12]\n",
      "              precision    recall  f1-score   support\n",
      "\n",
      "           0       0.57      0.56      0.56        68\n",
      "           1       0.81      0.73      0.77       176\n",
      "           2       0.61      0.78      0.69        97\n",
      "           3       0.65      0.62      0.64        90\n",
      "           4       0.73      0.52      0.60        93\n",
      "           5       0.72      0.73      0.72       108\n",
      "           6       0.80      0.78      0.79       126\n",
      "           7       0.70      0.78      0.74       136\n",
      "           8       0.68      0.69      0.69       122\n",
      "           9       0.82      0.66      0.73       155\n",
      "          10       0.68      0.72      0.70        61\n",
      "          11       0.55      0.63      0.59       172\n",
      "          12       0.80      0.75      0.77       182\n",
      "          13       0.61      0.66      0.63       151\n",
      "          14       0.61      0.56      0.59       200\n",
      "          15       0.83      0.88      0.85       169\n",
      "          16       0.81      0.96      0.88        77\n",
      "\n",
      "    accuracy                           0.70      2183\n",
      "   macro avg       0.70      0.71      0.70      2183\n",
      "weighted avg       0.71      0.70      0.70      2183\n",
      "\n",
      "246/246 [==============================] - 58s 235ms/step - loss: 0.8187 - accuracy: 0.9710 - precision: 0.8137 - recall: 0.6564 - val_loss: 4.3604 - val_accuracy: 0.9383 - val_precision: 0.4743 - val_recall: 0.4444\n",
      "69/69 [==============================] - 4s 57ms/step\n",
      "[14  1 16 ... 11  9 12]\n",
      "              precision    recall  f1-score   support\n",
      "\n",
      "           0       0.52      0.51      0.52        68\n",
      "           1       0.80      0.75      0.77       176\n",
      "           2       0.52      0.84      0.64        97\n",
      "           3       0.70      0.66      0.68        90\n",
      "           4       0.67      0.60      0.63        93\n",
      "           5       0.71      0.70      0.71       108\n",
      "           6       0.91      0.65      0.76       126\n",
      "           7       0.73      0.74      0.73       136\n",
      "           8       0.68      0.65      0.66       122\n",
      "           9       0.85      0.62      0.72       155\n",
      "          10       0.80      0.54      0.65        61\n",
      "          11       0.66      0.50      0.57       172\n",
      "          12       0.74      0.78      0.76       182\n",
      "          13       0.54      0.70      0.61       151\n",
      "          14       0.58      0.63      0.61       200\n",
      "          15       0.79      0.92      0.85       169\n",
      "          16       0.81      0.96      0.88        77\n",
      "\n",
      "    accuracy                           0.70      2183\n",
      "   macro avg       0.71      0.69      0.69      2183\n",
      "weighted avg       0.71      0.70      0.70      2183\n",
      "\n",
      "246/246 [==============================] - 54s 221ms/step - loss: 0.7396 - accuracy: 0.9730 - precision: 0.8221 - recall: 0.6899 - val_loss: 53.7334 - val_accuracy: 0.8952 - val_precision: 0.1079 - val_recall: 0.1077\n",
      "69/69 [==============================] - 4s 53ms/step\n",
      "[ 3  1  3 ...  3  9 12]\n",
      "              precision    recall  f1-score   support\n",
      "\n",
      "           0       0.42      0.57      0.48        68\n",
      "           1       0.84      0.47      0.60       176\n",
      "           2       0.26      0.91      0.41        97\n",
      "           3       0.21      0.89      0.34        90\n",
      "           4       0.77      0.49      0.60        93\n",
      "           5       0.65      0.69      0.67       108\n",
      "           6       0.85      0.61      0.71       126\n",
      "           7       0.72      0.56      0.63       136\n",
      "           8       0.78      0.43      0.55       122\n",
      "           9       0.82      0.57      0.67       155\n",
      "          10       0.39      0.87      0.54        61\n",
      "          11       0.63      0.21      0.31       172\n",
      "          12       0.84      0.64      0.73       182\n",
      "          13       0.83      0.32      0.47       151\n",
      "          14       0.79      0.11      0.19       200\n",
      "          15       0.63      0.89      0.74       169\n",
      "          16       0.91      0.82      0.86        77\n",
      "\n",
      "    accuracy                           0.55      2183\n",
      "   macro avg       0.67      0.59      0.56      2183\n",
      "weighted avg       0.70      0.55      0.55      2183\n",
      "\n"
     ]
    }
   ],
   "source": [
    "for i in range(1,10):\n",
    "    history2_cnn = cnn_model.fit(X_train[:7859] , y_train1[:7859] , batch_size = 32 , epochs = 1 , validation_data=(X_val,y_val) ,verbose =1)\n",
    "\n",
    "    predictions = np.argmax(cnn_model.predict(X_test), axis=-1)\n",
    "\n",
    "    print(predictions)\n",
    "\n",
    "    print(classification_report(y_test.values , predictions))"
   ]
  },
  {
   "cell_type": "code",
   "execution_count": 971,
   "id": "c8214326",
   "metadata": {
    "ExecuteTime": {
     "end_time": "2024-01-21T23:35:56.663525Z",
     "start_time": "2024-01-21T23:35:56.657051Z"
    }
   },
   "outputs": [],
   "source": [
    "def plot_history2(history):\n",
    "    acc = history.history['accuracy']\n",
    "    #val_acc = history.history['val_accuracy']\n",
    "    loss = history.history['loss']\n",
    "    #val_loss = history.history['val_loss']\n",
    "    x = range(1, len(acc) + 1)\n",
    "    \n",
    "    \n",
    "    plt.figure(figsize=(12, 5))\n",
    "    plt.subplot(1, 2, 1)\n",
    "    plt.plot(x, acc, 'b', label='Training acc')\n",
    "    #plt.plot(x, val_acc, 'r', label='Validation acc')\n",
    "    plt.title('Training and validation accuracy')\n",
    "    plt.legend()\n",
    "    plt.subplot(1, 2, 2)\n",
    "    plt.plot(x, loss, 'b', label='Training loss')\n",
    "    #plt.plot(x, val_loss, 'r', label='Validation loss')\n",
    "    plt.title('Training and validation loss')\n",
    "    plt.legend()"
   ]
  },
  {
   "cell_type": "code",
   "execution_count": 920,
   "id": "879e6e32",
   "metadata": {
    "ExecuteTime": {
     "end_time": "2024-01-21T22:37:02.846120Z",
     "start_time": "2024-01-21T22:37:02.288079Z"
    }
   },
   "outputs": [
    {
     "data": {
      "image/png": "[encoded data removed]",
      "text/plain": [
       "<Figure size 1200x500 with 2 Axes>"
      ]
     },
     "metadata": {},
     "output_type": "display_data"
    }
   ],
   "source": [
    "plot_history2(history2_cnn , 9)"
   ]
  },
  {
   "cell_type": "code",
   "execution_count": 921,
   "id": "369f5401",
   "metadata": {
    "ExecuteTime": {
     "end_time": "2024-01-21T22:46:09.283473Z",
     "start_time": "2024-01-21T22:37:42.955898Z"
    }
   },
   "outputs": [
    {
     "name": "stdout",
     "output_type": "stream",
     "text": [
      "Epoch 1/10\n",
      "246/246 [==============================] - 52s 213ms/step - loss: 0.7139 - accuracy: 0.9737 - precision: 0.8285 - recall: 0.6978 - val_loss: 60.1578 - val_accuracy: 0.8937 - val_precision: 0.0962 - val_recall: 0.0962\n",
      "Epoch 2/10\n",
      "246/246 [==============================] - 50s 203ms/step - loss: 0.6871 - accuracy: 0.9754 - precision: 0.8371 - recall: 0.7213 - val_loss: 35.0375 - val_accuracy: 0.9004 - val_precision: 0.1527 - val_recall: 0.1523\n",
      "Epoch 3/10\n",
      "246/246 [==============================] - 50s 202ms/step - loss: 0.6230 - accuracy: 0.9770 - precision: 0.8473 - recall: 0.7436 - val_loss: 16.7010 - val_accuracy: 0.9001 - val_precision: 0.1502 - val_recall: 0.1501\n",
      "Epoch 4/10\n",
      "246/246 [==============================] - 50s 203ms/step - loss: 0.5853 - accuracy: 0.9784 - precision: 0.8553 - recall: 0.7622 - val_loss: 91.5950 - val_accuracy: 0.8958 - val_precision: 0.1145 - val_recall: 0.1145\n",
      "Epoch 5/10\n",
      "246/246 [==============================] - 49s 200ms/step - loss: 0.5571 - accuracy: 0.9789 - precision: 0.8566 - recall: 0.7708 - val_loss: 43.1984 - val_accuracy: 0.8966 - val_precision: 0.1195 - val_recall: 0.1191\n",
      "Epoch 6/10\n",
      "246/246 [==============================] - 50s 204ms/step - loss: 0.5011 - accuracy: 0.9813 - precision: 0.8717 - recall: 0.8005 - val_loss: 4.1369 - val_accuracy: 0.9381 - val_precision: 0.4721 - val_recall: 0.4456\n",
      "Epoch 7/10\n",
      "246/246 [==============================] - 49s 201ms/step - loss: 0.4770 - accuracy: 0.9821 - precision: 0.8753 - recall: 0.8117 - val_loss: 31.3705 - val_accuracy: 0.9119 - val_precision: 0.2483 - val_recall: 0.2451\n",
      "Epoch 8/10\n",
      "246/246 [==============================] - 50s 201ms/step - loss: 0.4479 - accuracy: 0.9834 - precision: 0.8846 - recall: 0.8259 - val_loss: 2.6127 - val_accuracy: 0.9405 - val_precision: 0.4934 - val_recall: 0.4261\n",
      "Epoch 9/10\n",
      "246/246 [==============================] - 50s 202ms/step - loss: 0.4010 - accuracy: 0.9849 - precision: 0.8943 - recall: 0.8437 - val_loss: 14.4544 - val_accuracy: 0.9301 - val_precision: 0.4053 - val_recall: 0.4021\n",
      "Epoch 10/10\n",
      "246/246 [==============================] - 52s 212ms/step - loss: 0.3828 - accuracy: 0.9856 - precision: 0.8966 - recall: 0.8532 - val_loss: 8.1872 - val_accuracy: 0.9471 - val_precision: 0.5510 - val_recall: 0.5441\n",
      "69/69 [==============================] - 4s 56ms/step\n",
      "[14  1 16 ... 11  9 12]\n",
      "              precision    recall  f1-score   support\n",
      "\n",
      "           0       0.73      0.59      0.65        68\n",
      "           1       0.84      0.76      0.80       176\n",
      "           2       0.72      0.76      0.74        97\n",
      "           3       0.65      0.70      0.67        90\n",
      "           4       0.73      0.62      0.67        93\n",
      "           5       0.71      0.76      0.73       108\n",
      "           6       0.83      0.79      0.81       126\n",
      "           7       0.75      0.77      0.76       136\n",
      "           8       0.75      0.67      0.71       122\n",
      "           9       0.85      0.68      0.75       155\n",
      "          10       0.69      0.72      0.70        61\n",
      "          11       0.62      0.67      0.64       172\n",
      "          12       0.78      0.80      0.79       182\n",
      "          13       0.69      0.68      0.68       151\n",
      "          14       0.59      0.66      0.62       200\n",
      "          15       0.82      0.89      0.85       169\n",
      "          16       0.84      0.96      0.90        77\n",
      "\n",
      "    accuracy                           0.74      2183\n",
      "   macro avg       0.74      0.73      0.73      2183\n",
      "weighted avg       0.74      0.74      0.74      2183\n",
      "\n"
     ]
    }
   ],
   "source": [
    "history2_cnn = cnn_model.fit(X_train[:7859] , y_train1[:7859] , batch_size = 32 , epochs = 10 , validation_data=(X_val,y_val) ,verbose =1)\n",
    "\n",
    "predictions = np.argmax(cnn_model.predict(X_test), axis=-1)\n",
    "\n",
    "print(predictions)\n",
    "\n",
    "print(classification_report(y_test.values , predictions))"
   ]
  },
  {
   "cell_type": "code",
   "execution_count": 922,
   "id": "5241e07f",
   "metadata": {
    "ExecuteTime": {
     "end_time": "2024-01-21T22:46:50.810809Z",
     "start_time": "2024-01-21T22:46:50.300818Z"
    }
   },
   "outputs": [
    {
     "data": {
      "image/png": "[encoded data removed]",
      "text/plain": [
       "<Figure size 1200x500 with 2 Axes>"
      ]
     },
     "metadata": {},
     "output_type": "display_data"
    }
   ],
   "source": [
    "plot_history(history2_cnn)"
   ]
  },
  {
   "cell_type": "code",
   "execution_count": 923,
   "id": "b7328c5b",
   "metadata": {
    "ExecuteTime": {
     "end_time": "2024-01-21T22:55:54.001890Z",
     "start_time": "2024-01-21T22:47:24.583543Z"
    }
   },
   "outputs": [
    {
     "name": "stdout",
     "output_type": "stream",
     "text": [
      "Epoch 1/10\n",
      "246/246 [==============================] - 50s 204ms/step - loss: 0.3241 - accuracy: 0.9877 - precision: 0.9124 - recall: 0.8757 - val_loss: 3.8280 - val_accuracy: 0.9359 - val_precision: 0.4512 - val_recall: 0.4135\n",
      "Epoch 2/10\n",
      "246/246 [==============================] - 50s 202ms/step - loss: 0.3920 - accuracy: 0.9850 - precision: 0.8918 - recall: 0.8487 - val_loss: 234.9817 - val_accuracy: 0.8881 - val_precision: 0.0493 - val_recall: 0.0493\n",
      "Epoch 3/10\n",
      "246/246 [==============================] - 53s 216ms/step - loss: 0.3856 - accuracy: 0.9854 - precision: 0.8944 - recall: 0.8524 - val_loss: 19.1876 - val_accuracy: 0.9065 - val_precision: 0.2032 - val_recall: 0.2016\n",
      "Epoch 4/10\n",
      "246/246 [==============================] - 52s 211ms/step - loss: 0.3475 - accuracy: 0.9872 - precision: 0.9065 - recall: 0.8726 - val_loss: 51.6002 - val_accuracy: 0.8957 - val_precision: 0.1134 - val_recall: 0.1134\n",
      "Epoch 5/10\n",
      "246/246 [==============================] - 50s 202ms/step - loss: 0.3095 - accuracy: 0.9888 - precision: 0.9193 - recall: 0.8876 - val_loss: 55.0857 - val_accuracy: 0.9059 - val_precision: 0.1998 - val_recall: 0.1993\n",
      "Epoch 6/10\n",
      "246/246 [==============================] - 50s 203ms/step - loss: 0.2851 - accuracy: 0.9894 - precision: 0.9221 - recall: 0.8963 - val_loss: 7.4439 - val_accuracy: 0.9464 - val_precision: 0.5444 - val_recall: 0.5407\n",
      "Epoch 7/10\n",
      "246/246 [==============================] - 50s 204ms/step - loss: 0.2711 - accuracy: 0.9898 - precision: 0.9247 - recall: 0.9000 - val_loss: 53.5973 - val_accuracy: 0.8896 - val_precision: 0.0619 - val_recall: 0.0619\n",
      "Epoch 8/10\n",
      "246/246 [==============================] - 50s 205ms/step - loss: 0.3125 - accuracy: 0.9884 - precision: 0.9139 - recall: 0.8857 - val_loss: 17.8430 - val_accuracy: 0.9092 - val_precision: 0.2261 - val_recall: 0.2245\n",
      "Epoch 9/10\n",
      "246/246 [==============================] - 50s 203ms/step - loss: 0.2710 - accuracy: 0.9899 - precision: 0.9238 - recall: 0.9020 - val_loss: 24.6267 - val_accuracy: 0.9134 - val_precision: 0.2632 - val_recall: 0.2623\n",
      "Epoch 10/10\n",
      "246/246 [==============================] - 50s 204ms/step - loss: 0.2473 - accuracy: 0.9910 - precision: 0.9324 - recall: 0.9133 - val_loss: 17.7247 - val_accuracy: 0.9356 - val_precision: 0.4521 - val_recall: 0.4490\n",
      "69/69 [==============================] - 4s 54ms/step\n",
      "[14  1 16 ... 11  9 12]\n",
      "              precision    recall  f1-score   support\n",
      "\n",
      "           0       0.69      0.53      0.60        68\n",
      "           1       0.78      0.74      0.76       176\n",
      "           2       0.73      0.74      0.74        97\n",
      "           3       0.66      0.63      0.64        90\n",
      "           4       0.72      0.58      0.64        93\n",
      "           5       0.70      0.75      0.73       108\n",
      "           6       0.82      0.82      0.82       126\n",
      "           7       0.68      0.78      0.73       136\n",
      "           8       0.73      0.63      0.68       122\n",
      "           9       0.80      0.73      0.76       155\n",
      "          10       0.76      0.61      0.67        61\n",
      "          11       0.59      0.65      0.62       172\n",
      "          12       0.76      0.77      0.77       182\n",
      "          13       0.65      0.67      0.66       151\n",
      "          14       0.59      0.62      0.60       200\n",
      "          15       0.84      0.91      0.88       169\n",
      "          16       0.82      0.97      0.89        77\n",
      "\n",
      "    accuracy                           0.72      2183\n",
      "   macro avg       0.73      0.71      0.72      2183\n",
      "weighted avg       0.72      0.72      0.72      2183\n",
      "\n"
     ]
    }
   ],
   "source": [
    "history2_cnn = cnn_model.fit(X_train[:7859] , y_train1[:7859] , batch_size = 32 , epochs = 10 , validation_data=(X_val,y_val) ,verbose =1)\n",
    "\n",
    "predictions = np.argmax(cnn_model.predict(X_test), axis=-1)\n",
    "\n",
    "print(predictions)\n",
    "\n",
    "print(classification_report(y_test.values , predictions))"
   ]
  },
  {
   "cell_type": "code",
   "execution_count": 924,
   "id": "e9485a63",
   "metadata": {
    "ExecuteTime": {
     "end_time": "2024-01-21T23:03:31.030075Z",
     "start_time": "2024-01-21T23:03:30.568347Z"
    }
   },
   "outputs": [
    {
     "data": {
      "image/png": "[encoded data removed]",
      "text/plain": [
       "<Figure size 1200x500 with 2 Axes>"
      ]
     },
     "metadata": {},
     "output_type": "display_data"
    }
   ],
   "source": [
    "plot_history(history2_cnn)"
   ]
  },
  {
   "cell_type": "code",
   "execution_count": 932,
   "id": "ed4ca045",
   "metadata": {
    "ExecuteTime": {
     "end_time": "2024-01-21T23:09:43.721421Z",
     "start_time": "2024-01-21T23:09:43.717650Z"
    }
   },
   "outputs": [],
   "source": [
    "steps = X.shape[0]//32"
   ]
  },
  {
   "cell_type": "code",
   "execution_count": 940,
   "id": "d6491ec3",
   "metadata": {
    "ExecuteTime": {
     "end_time": "2024-01-21T23:21:03.874643Z",
     "start_time": "2024-01-21T23:21:03.869782Z"
    }
   },
   "outputs": [
    {
     "data": {
      "text/plain": [
       "341"
      ]
     },
     "execution_count": 940,
     "metadata": {},
     "output_type": "execute_result"
    }
   ],
   "source": [
    "steps"
   ]
  },
  {
   "cell_type": "code",
   "execution_count": 933,
   "id": "6d19d5eb",
   "metadata": {
    "ExecuteTime": {
     "end_time": "2024-01-21T23:09:44.650372Z",
     "start_time": "2024-01-21T23:09:44.644860Z"
    }
   },
   "outputs": [
    {
     "data": {
      "text/plain": [
       "(8732, 1000)"
      ]
     },
     "execution_count": 933,
     "metadata": {},
     "output_type": "execute_result"
    }
   ],
   "source": [
    "X_train.shape"
   ]
  },
  {
   "cell_type": "code",
   "execution_count": 934,
   "id": "1a1ad624",
   "metadata": {
    "ExecuteTime": {
     "end_time": "2024-01-21T23:19:00.714579Z",
     "start_time": "2024-01-21T23:10:17.176665Z"
    }
   },
   "outputs": [
    {
     "name": "stdout",
     "output_type": "stream",
     "text": [
      "Epoch 1/10\n",
      "341/341 [==============================] - 78s 222ms/step - loss: 1.5711 - accuracy: 0.9534 - precision: 0.6949 - recall: 0.3703 - val_loss: 1620.2664 - val_accuracy: 0.8915 - val_precision: 0.0779 - val_recall: 0.0779\n",
      "Epoch 2/10\n",
      "341/341 [==============================] - 73s 213ms/step - loss: 1.1307 - accuracy: 0.9627 - precision: 0.7637 - recall: 0.5302 - val_loss: 584.7884 - val_accuracy: 0.8942 - val_precision: 0.1008 - val_recall: 0.1008\n",
      "Epoch 3/10\n",
      "341/341 [==============================] - 70s 204ms/step - loss: 0.9386 - accuracy: 0.9677 - precision: 0.7979 - recall: 0.6049 - val_loss: 62.9841 - val_accuracy: 0.8865 - val_precision: 0.0355 - val_recall: 0.0355\n",
      "Epoch 4/10\n",
      "341/341 [==============================] - 73s 215ms/step - loss: 0.7988 - accuracy: 0.9716 - precision: 0.8175 - recall: 0.6669 - val_loss: 106.1483 - val_accuracy: 0.8939 - val_precision: 0.0985 - val_recall: 0.0985\n",
      "Epoch 5/10\n",
      "341/341 [==============================] - 71s 209ms/step - loss: 0.7284 - accuracy: 0.9741 - precision: 0.8315 - recall: 0.7013 - val_loss: 36.2462 - val_accuracy: 0.9010 - val_precision: 0.1557 - val_recall: 0.1546\n",
      "Epoch 6/10\n",
      "341/341 [==============================] - 71s 208ms/step - loss: 0.7175 - accuracy: 0.9740 - precision: 0.8289 - recall: 0.7032 - val_loss: 414.1562 - val_accuracy: 0.8883 - val_precision: 0.0504 - val_recall: 0.0504\n",
      "Epoch 7/10\n",
      "341/341 [==============================] - 68s 200ms/step - loss: 0.6426 - accuracy: 0.9766 - precision: 0.8441 - recall: 0.7380 - val_loss: 34.2225 - val_accuracy: 0.9014 - val_precision: 0.1511 - val_recall: 0.1466\n",
      "Epoch 8/10\n",
      " 73/341 [=====>........................] - ETA: 51s - loss: 0.6261 - accuracy: 0.9775 - precision: 0.8484 - recall: 0.7516WARNING:tensorflow:Your input ran out of data; interrupting training. Make sure that your dataset or generator can generate at least `steps_per_epoch * epochs` batches (in this case, 3410 batches). You may need to use the repeat() function when building your dataset.\n",
      "341/341 [==============================] - 16s 45ms/step - loss: 0.6261 - accuracy: 0.9775 - precision: 0.8484 - recall: 0.7516 - val_loss: 112.3412 - val_accuracy: 0.8880 - val_precision: 0.0481 - val_recall: 0.0481\n",
      "69/69 [==============================] - 4s 53ms/step\n",
      "[16  1 16 ... 11  9  1]\n",
      "              precision    recall  f1-score   support\n",
      "\n",
      "           0       0.47      0.37      0.41        68\n",
      "           1       0.61      0.86      0.72       176\n",
      "           2       0.56      0.79      0.66        97\n",
      "           3       1.00      0.16      0.27        90\n",
      "           4       0.48      0.61      0.54        93\n",
      "           5       0.75      0.39      0.51       108\n",
      "           6       0.94      0.36      0.52       126\n",
      "           7       0.74      0.38      0.50       136\n",
      "           8       0.78      0.26      0.39       122\n",
      "           9       0.82      0.57      0.68       155\n",
      "          10       0.44      0.79      0.56        61\n",
      "          11       0.62      0.40      0.48       172\n",
      "          12       0.84      0.41      0.55       182\n",
      "          13       0.41      0.66      0.50       151\n",
      "          14       0.70      0.19      0.30       200\n",
      "          15       0.92      0.75      0.82       169\n",
      "          16       0.14      1.00      0.25        77\n",
      "\n",
      "    accuracy                           0.51      2183\n",
      "   macro avg       0.66      0.53      0.51      2183\n",
      "weighted avg       0.69      0.51      0.52      2183\n",
      "\n"
     ]
    }
   ],
   "source": [
    "history2_cnn = cnn_model.fit(X_train[:7859] , y_train1[:7859] , batch_size = 32 , epochs = 10 , validation_data=(X_val,y_val)\n",
    "                             ,steps_per_epoch=steps ,verbose =1)\n",
    "\n",
    "predictions = np.argmax(cnn_model.predict(X_test), axis=-1)\n",
    "\n",
    "print(predictions)\n",
    "\n",
    "print(classification_report(y_test.values , predictions))"
   ]
  },
  {
   "cell_type": "code",
   "execution_count": 935,
   "id": "22006013",
   "metadata": {
    "ExecuteTime": {
     "end_time": "2024-01-21T23:19:19.617231Z",
     "start_time": "2024-01-21T23:19:19.032587Z"
    }
   },
   "outputs": [
    {
     "data": {
      "image/png": "[encoded data removed]",
      "text/plain": [
       "<Figure size 1200x500 with 2 Axes>"
      ]
     },
     "metadata": {},
     "output_type": "display_data"
    }
   ],
   "source": [
    "plot_history(history2_cnn)"
   ]
  },
  {
   "cell_type": "code",
   "execution_count": 1018,
   "id": "87bdab14",
   "metadata": {
    "ExecuteTime": {
     "end_time": "2024-01-22T00:10:34.314795Z",
     "start_time": "2024-01-22T00:09:43.878391Z"
    }
   },
   "outputs": [
    {
     "name": "stdout",
     "output_type": "stream",
     "text": [
      "Epoch 1/5\n",
      "232/341 [===================>..........] - ETA: 22s - loss: 1.5835 - accuracy: 0.9511 - precision: 0.6671 - recall: 0.3374"
     ]
    },
    {
     "ename": "KeyboardInterrupt",
     "evalue": "",
     "output_type": "error",
     "traceback": [
      "\u001b[1;31m---------------------------------------------------------------------------\u001b[0m",
      "\u001b[1;31mKeyboardInterrupt\u001b[0m                         Traceback (most recent call last)",
      "Cell \u001b[1;32mIn[1018], line 1\u001b[0m\n\u001b[1;32m----> 1\u001b[0m history2_cnn \u001b[38;5;241m=\u001b[39m cnn_model\u001b[38;5;241m.\u001b[39mfit(X_train, \n\u001b[0;32m      2\u001b[0m                              y_train1 , \n\u001b[0;32m      3\u001b[0m                              batch_size \u001b[38;5;241m=\u001b[39m \u001b[38;5;241m32\u001b[39m , \n\u001b[0;32m      4\u001b[0m                              epochs \u001b[38;5;241m=\u001b[39m \u001b[38;5;241m5\u001b[39m , \n\u001b[0;32m      5\u001b[0m                              validation_split \u001b[38;5;241m=\u001b[39m (\u001b[38;5;241m0.2\u001b[39m) ,\n\u001b[0;32m      6\u001b[0m                              steps_per_epoch \u001b[38;5;241m=\u001b[39msteps ,\n\u001b[0;32m      7\u001b[0m                              class_weight\u001b[38;5;241m=\u001b[39mclass_weights ,\n\u001b[0;32m      8\u001b[0m                              verbose \u001b[38;5;241m=\u001b[39m\u001b[38;5;241m1\u001b[39m)\n\u001b[0;32m     10\u001b[0m predictions \u001b[38;5;241m=\u001b[39m np\u001b[38;5;241m.\u001b[39margmax(cnn_model\u001b[38;5;241m.\u001b[39mpredict(X_test), axis\u001b[38;5;241m=\u001b[39m\u001b[38;5;241m-\u001b[39m\u001b[38;5;241m1\u001b[39m)\n\u001b[0;32m     12\u001b[0m \u001b[38;5;28mprint\u001b[39m(predictions)\n",
      "File \u001b[1;32m~\\anaconda3\\Lib\\site-packages\\keras\\src\\utils\\traceback_utils.py:65\u001b[0m, in \u001b[0;36mfilter_traceback.<locals>.error_handler\u001b[1;34m(*args, **kwargs)\u001b[0m\n\u001b[0;32m     63\u001b[0m filtered_tb \u001b[38;5;241m=\u001b[39m \u001b[38;5;28;01mNone\u001b[39;00m\n\u001b[0;32m     64\u001b[0m \u001b[38;5;28;01mtry\u001b[39;00m:\n\u001b[1;32m---> 65\u001b[0m     \u001b[38;5;28;01mreturn\u001b[39;00m fn(\u001b[38;5;241m*\u001b[39margs, \u001b[38;5;241m*\u001b[39m\u001b[38;5;241m*\u001b[39mkwargs)\n\u001b[0;32m     66\u001b[0m \u001b[38;5;28;01mexcept\u001b[39;00m \u001b[38;5;167;01mException\u001b[39;00m \u001b[38;5;28;01mas\u001b[39;00m e:\n\u001b[0;32m     67\u001b[0m     filtered_tb \u001b[38;5;241m=\u001b[39m _process_traceback_frames(e\u001b[38;5;241m.\u001b[39m__traceback__)\n",
      "File \u001b[1;32m~\\anaconda3\\Lib\\site-packages\\keras\\src\\engine\\training.py:1807\u001b[0m, in \u001b[0;36mModel.fit\u001b[1;34m(self, x, y, batch_size, epochs, verbose, callbacks, validation_split, validation_data, shuffle, class_weight, sample_weight, initial_epoch, steps_per_epoch, validation_steps, validation_batch_size, validation_freq, max_queue_size, workers, use_multiprocessing)\u001b[0m\n\u001b[0;32m   1799\u001b[0m \u001b[38;5;28;01mwith\u001b[39;00m tf\u001b[38;5;241m.\u001b[39mprofiler\u001b[38;5;241m.\u001b[39mexperimental\u001b[38;5;241m.\u001b[39mTrace(\n\u001b[0;32m   1800\u001b[0m     \u001b[38;5;124m\"\u001b[39m\u001b[38;5;124mtrain\u001b[39m\u001b[38;5;124m\"\u001b[39m,\n\u001b[0;32m   1801\u001b[0m     epoch_num\u001b[38;5;241m=\u001b[39mepoch,\n\u001b[1;32m   (...)\u001b[0m\n\u001b[0;32m   1804\u001b[0m     _r\u001b[38;5;241m=\u001b[39m\u001b[38;5;241m1\u001b[39m,\n\u001b[0;32m   1805\u001b[0m ):\n\u001b[0;32m   1806\u001b[0m     callbacks\u001b[38;5;241m.\u001b[39mon_train_batch_begin(step)\n\u001b[1;32m-> 1807\u001b[0m     tmp_logs \u001b[38;5;241m=\u001b[39m \u001b[38;5;28mself\u001b[39m\u001b[38;5;241m.\u001b[39mtrain_function(iterator)\n\u001b[0;32m   1808\u001b[0m     \u001b[38;5;28;01mif\u001b[39;00m data_handler\u001b[38;5;241m.\u001b[39mshould_sync:\n\u001b[0;32m   1809\u001b[0m         context\u001b[38;5;241m.\u001b[39masync_wait()\n",
      "File \u001b[1;32m~\\anaconda3\\Lib\\site-packages\\tensorflow\\python\\util\\traceback_utils.py:150\u001b[0m, in \u001b[0;36mfilter_traceback.<locals>.error_handler\u001b[1;34m(*args, **kwargs)\u001b[0m\n\u001b[0;32m    148\u001b[0m filtered_tb \u001b[38;5;241m=\u001b[39m \u001b[38;5;28;01mNone\u001b[39;00m\n\u001b[0;32m    149\u001b[0m \u001b[38;5;28;01mtry\u001b[39;00m:\n\u001b[1;32m--> 150\u001b[0m   \u001b[38;5;28;01mreturn\u001b[39;00m fn(\u001b[38;5;241m*\u001b[39margs, \u001b[38;5;241m*\u001b[39m\u001b[38;5;241m*\u001b[39mkwargs)\n\u001b[0;32m    151\u001b[0m \u001b[38;5;28;01mexcept\u001b[39;00m \u001b[38;5;167;01mException\u001b[39;00m \u001b[38;5;28;01mas\u001b[39;00m e:\n\u001b[0;32m    152\u001b[0m   filtered_tb \u001b[38;5;241m=\u001b[39m _process_traceback_frames(e\u001b[38;5;241m.\u001b[39m__traceback__)\n",
      "File \u001b[1;32m~\\anaconda3\\Lib\\site-packages\\tensorflow\\python\\eager\\polymorphic_function\\polymorphic_function.py:832\u001b[0m, in \u001b[0;36mFunction.__call__\u001b[1;34m(self, *args, **kwds)\u001b[0m\n\u001b[0;32m    829\u001b[0m compiler \u001b[38;5;241m=\u001b[39m \u001b[38;5;124m\"\u001b[39m\u001b[38;5;124mxla\u001b[39m\u001b[38;5;124m\"\u001b[39m \u001b[38;5;28;01mif\u001b[39;00m \u001b[38;5;28mself\u001b[39m\u001b[38;5;241m.\u001b[39m_jit_compile \u001b[38;5;28;01melse\u001b[39;00m \u001b[38;5;124m\"\u001b[39m\u001b[38;5;124mnonXla\u001b[39m\u001b[38;5;124m\"\u001b[39m\n\u001b[0;32m    831\u001b[0m \u001b[38;5;28;01mwith\u001b[39;00m OptionalXlaContext(\u001b[38;5;28mself\u001b[39m\u001b[38;5;241m.\u001b[39m_jit_compile):\n\u001b[1;32m--> 832\u001b[0m   result \u001b[38;5;241m=\u001b[39m \u001b[38;5;28mself\u001b[39m\u001b[38;5;241m.\u001b[39m_call(\u001b[38;5;241m*\u001b[39margs, \u001b[38;5;241m*\u001b[39m\u001b[38;5;241m*\u001b[39mkwds)\n\u001b[0;32m    834\u001b[0m new_tracing_count \u001b[38;5;241m=\u001b[39m \u001b[38;5;28mself\u001b[39m\u001b[38;5;241m.\u001b[39mexperimental_get_tracing_count()\n\u001b[0;32m    835\u001b[0m without_tracing \u001b[38;5;241m=\u001b[39m (tracing_count \u001b[38;5;241m==\u001b[39m new_tracing_count)\n",
      "File \u001b[1;32m~\\anaconda3\\Lib\\site-packages\\tensorflow\\python\\eager\\polymorphic_function\\polymorphic_function.py:868\u001b[0m, in \u001b[0;36mFunction._call\u001b[1;34m(self, *args, **kwds)\u001b[0m\n\u001b[0;32m    865\u001b[0m   \u001b[38;5;28mself\u001b[39m\u001b[38;5;241m.\u001b[39m_lock\u001b[38;5;241m.\u001b[39mrelease()\n\u001b[0;32m    866\u001b[0m   \u001b[38;5;66;03m# In this case we have created variables on the first call, so we run the\u001b[39;00m\n\u001b[0;32m    867\u001b[0m   \u001b[38;5;66;03m# defunned version which is guaranteed to never create variables.\u001b[39;00m\n\u001b[1;32m--> 868\u001b[0m   \u001b[38;5;28;01mreturn\u001b[39;00m tracing_compilation\u001b[38;5;241m.\u001b[39mcall_function(\n\u001b[0;32m    869\u001b[0m       args, kwds, \u001b[38;5;28mself\u001b[39m\u001b[38;5;241m.\u001b[39m_no_variable_creation_config\n\u001b[0;32m    870\u001b[0m   )\n\u001b[0;32m    871\u001b[0m \u001b[38;5;28;01melif\u001b[39;00m \u001b[38;5;28mself\u001b[39m\u001b[38;5;241m.\u001b[39m_variable_creation_config \u001b[38;5;129;01mis\u001b[39;00m \u001b[38;5;129;01mnot\u001b[39;00m \u001b[38;5;28;01mNone\u001b[39;00m:\n\u001b[0;32m    872\u001b[0m   \u001b[38;5;66;03m# Release the lock early so that multiple threads can perform the call\u001b[39;00m\n\u001b[0;32m    873\u001b[0m   \u001b[38;5;66;03m# in parallel.\u001b[39;00m\n\u001b[0;32m    874\u001b[0m   \u001b[38;5;28mself\u001b[39m\u001b[38;5;241m.\u001b[39m_lock\u001b[38;5;241m.\u001b[39mrelease()\n",
      "File \u001b[1;32m~\\anaconda3\\Lib\\site-packages\\tensorflow\\python\\eager\\polymorphic_function\\tracing_compilation.py:139\u001b[0m, in \u001b[0;36mcall_function\u001b[1;34m(args, kwargs, tracing_options)\u001b[0m\n\u001b[0;32m    137\u001b[0m bound_args \u001b[38;5;241m=\u001b[39m function\u001b[38;5;241m.\u001b[39mfunction_type\u001b[38;5;241m.\u001b[39mbind(\u001b[38;5;241m*\u001b[39margs, \u001b[38;5;241m*\u001b[39m\u001b[38;5;241m*\u001b[39mkwargs)\n\u001b[0;32m    138\u001b[0m flat_inputs \u001b[38;5;241m=\u001b[39m function\u001b[38;5;241m.\u001b[39mfunction_type\u001b[38;5;241m.\u001b[39munpack_inputs(bound_args)\n\u001b[1;32m--> 139\u001b[0m \u001b[38;5;28;01mreturn\u001b[39;00m function\u001b[38;5;241m.\u001b[39m_call_flat(  \u001b[38;5;66;03m# pylint: disable=protected-access\u001b[39;00m\n\u001b[0;32m    140\u001b[0m     flat_inputs, captured_inputs\u001b[38;5;241m=\u001b[39mfunction\u001b[38;5;241m.\u001b[39mcaptured_inputs\n\u001b[0;32m    141\u001b[0m )\n",
      "File \u001b[1;32m~\\anaconda3\\Lib\\site-packages\\tensorflow\\python\\eager\\polymorphic_function\\concrete_function.py:1323\u001b[0m, in \u001b[0;36mConcreteFunction._call_flat\u001b[1;34m(self, tensor_inputs, captured_inputs)\u001b[0m\n\u001b[0;32m   1319\u001b[0m possible_gradient_type \u001b[38;5;241m=\u001b[39m gradients_util\u001b[38;5;241m.\u001b[39mPossibleTapeGradientTypes(args)\n\u001b[0;32m   1320\u001b[0m \u001b[38;5;28;01mif\u001b[39;00m (possible_gradient_type \u001b[38;5;241m==\u001b[39m gradients_util\u001b[38;5;241m.\u001b[39mPOSSIBLE_GRADIENT_TYPES_NONE\n\u001b[0;32m   1321\u001b[0m     \u001b[38;5;129;01mand\u001b[39;00m executing_eagerly):\n\u001b[0;32m   1322\u001b[0m   \u001b[38;5;66;03m# No tape is watching; skip to running the function.\u001b[39;00m\n\u001b[1;32m-> 1323\u001b[0m   \u001b[38;5;28;01mreturn\u001b[39;00m \u001b[38;5;28mself\u001b[39m\u001b[38;5;241m.\u001b[39m_inference_function\u001b[38;5;241m.\u001b[39mcall_preflattened(args)\n\u001b[0;32m   1324\u001b[0m forward_backward \u001b[38;5;241m=\u001b[39m \u001b[38;5;28mself\u001b[39m\u001b[38;5;241m.\u001b[39m_select_forward_and_backward_functions(\n\u001b[0;32m   1325\u001b[0m     args,\n\u001b[0;32m   1326\u001b[0m     possible_gradient_type,\n\u001b[0;32m   1327\u001b[0m     executing_eagerly)\n\u001b[0;32m   1328\u001b[0m forward_function, args_with_tangents \u001b[38;5;241m=\u001b[39m forward_backward\u001b[38;5;241m.\u001b[39mforward()\n",
      "File \u001b[1;32m~\\anaconda3\\Lib\\site-packages\\tensorflow\\python\\eager\\polymorphic_function\\atomic_function.py:216\u001b[0m, in \u001b[0;36mAtomicFunction.call_preflattened\u001b[1;34m(self, args)\u001b[0m\n\u001b[0;32m    214\u001b[0m \u001b[38;5;28;01mdef\u001b[39;00m \u001b[38;5;21mcall_preflattened\u001b[39m(\u001b[38;5;28mself\u001b[39m, args: Sequence[core\u001b[38;5;241m.\u001b[39mTensor]) \u001b[38;5;241m-\u001b[39m\u001b[38;5;241m>\u001b[39m Any:\n\u001b[0;32m    215\u001b[0m \u001b[38;5;250m  \u001b[39m\u001b[38;5;124;03m\"\"\"Calls with flattened tensor inputs and returns the structured output.\"\"\"\u001b[39;00m\n\u001b[1;32m--> 216\u001b[0m   flat_outputs \u001b[38;5;241m=\u001b[39m \u001b[38;5;28mself\u001b[39m\u001b[38;5;241m.\u001b[39mcall_flat(\u001b[38;5;241m*\u001b[39margs)\n\u001b[0;32m    217\u001b[0m   \u001b[38;5;28;01mreturn\u001b[39;00m \u001b[38;5;28mself\u001b[39m\u001b[38;5;241m.\u001b[39mfunction_type\u001b[38;5;241m.\u001b[39mpack_output(flat_outputs)\n",
      "File \u001b[1;32m~\\anaconda3\\Lib\\site-packages\\tensorflow\\python\\eager\\polymorphic_function\\atomic_function.py:251\u001b[0m, in \u001b[0;36mAtomicFunction.call_flat\u001b[1;34m(self, *args)\u001b[0m\n\u001b[0;32m    249\u001b[0m \u001b[38;5;28;01mwith\u001b[39;00m record\u001b[38;5;241m.\u001b[39mstop_recording():\n\u001b[0;32m    250\u001b[0m   \u001b[38;5;28;01mif\u001b[39;00m \u001b[38;5;28mself\u001b[39m\u001b[38;5;241m.\u001b[39m_bound_context\u001b[38;5;241m.\u001b[39mexecuting_eagerly():\n\u001b[1;32m--> 251\u001b[0m     outputs \u001b[38;5;241m=\u001b[39m \u001b[38;5;28mself\u001b[39m\u001b[38;5;241m.\u001b[39m_bound_context\u001b[38;5;241m.\u001b[39mcall_function(\n\u001b[0;32m    252\u001b[0m         \u001b[38;5;28mself\u001b[39m\u001b[38;5;241m.\u001b[39mname,\n\u001b[0;32m    253\u001b[0m         \u001b[38;5;28mlist\u001b[39m(args),\n\u001b[0;32m    254\u001b[0m         \u001b[38;5;28mlen\u001b[39m(\u001b[38;5;28mself\u001b[39m\u001b[38;5;241m.\u001b[39mfunction_type\u001b[38;5;241m.\u001b[39mflat_outputs),\n\u001b[0;32m    255\u001b[0m     )\n\u001b[0;32m    256\u001b[0m   \u001b[38;5;28;01melse\u001b[39;00m:\n\u001b[0;32m    257\u001b[0m     outputs \u001b[38;5;241m=\u001b[39m make_call_op_in_graph(\n\u001b[0;32m    258\u001b[0m         \u001b[38;5;28mself\u001b[39m,\n\u001b[0;32m    259\u001b[0m         \u001b[38;5;28mlist\u001b[39m(args),\n\u001b[0;32m    260\u001b[0m         \u001b[38;5;28mself\u001b[39m\u001b[38;5;241m.\u001b[39m_bound_context\u001b[38;5;241m.\u001b[39mfunction_call_options\u001b[38;5;241m.\u001b[39mas_attrs(),\n\u001b[0;32m    261\u001b[0m     )\n",
      "File \u001b[1;32m~\\anaconda3\\Lib\\site-packages\\tensorflow\\python\\eager\\context.py:1486\u001b[0m, in \u001b[0;36mContext.call_function\u001b[1;34m(self, name, tensor_inputs, num_outputs)\u001b[0m\n\u001b[0;32m   1484\u001b[0m cancellation_context \u001b[38;5;241m=\u001b[39m cancellation\u001b[38;5;241m.\u001b[39mcontext()\n\u001b[0;32m   1485\u001b[0m \u001b[38;5;28;01mif\u001b[39;00m cancellation_context \u001b[38;5;129;01mis\u001b[39;00m \u001b[38;5;28;01mNone\u001b[39;00m:\n\u001b[1;32m-> 1486\u001b[0m   outputs \u001b[38;5;241m=\u001b[39m execute\u001b[38;5;241m.\u001b[39mexecute(\n\u001b[0;32m   1487\u001b[0m       name\u001b[38;5;241m.\u001b[39mdecode(\u001b[38;5;124m\"\u001b[39m\u001b[38;5;124mutf-8\u001b[39m\u001b[38;5;124m\"\u001b[39m),\n\u001b[0;32m   1488\u001b[0m       num_outputs\u001b[38;5;241m=\u001b[39mnum_outputs,\n\u001b[0;32m   1489\u001b[0m       inputs\u001b[38;5;241m=\u001b[39mtensor_inputs,\n\u001b[0;32m   1490\u001b[0m       attrs\u001b[38;5;241m=\u001b[39mattrs,\n\u001b[0;32m   1491\u001b[0m       ctx\u001b[38;5;241m=\u001b[39m\u001b[38;5;28mself\u001b[39m,\n\u001b[0;32m   1492\u001b[0m   )\n\u001b[0;32m   1493\u001b[0m \u001b[38;5;28;01melse\u001b[39;00m:\n\u001b[0;32m   1494\u001b[0m   outputs \u001b[38;5;241m=\u001b[39m execute\u001b[38;5;241m.\u001b[39mexecute_with_cancellation(\n\u001b[0;32m   1495\u001b[0m       name\u001b[38;5;241m.\u001b[39mdecode(\u001b[38;5;124m\"\u001b[39m\u001b[38;5;124mutf-8\u001b[39m\u001b[38;5;124m\"\u001b[39m),\n\u001b[0;32m   1496\u001b[0m       num_outputs\u001b[38;5;241m=\u001b[39mnum_outputs,\n\u001b[1;32m   (...)\u001b[0m\n\u001b[0;32m   1500\u001b[0m       cancellation_manager\u001b[38;5;241m=\u001b[39mcancellation_context,\n\u001b[0;32m   1501\u001b[0m   )\n",
      "File \u001b[1;32m~\\anaconda3\\Lib\\site-packages\\tensorflow\\python\\eager\\execute.py:53\u001b[0m, in \u001b[0;36mquick_execute\u001b[1;34m(op_name, num_outputs, inputs, attrs, ctx, name)\u001b[0m\n\u001b[0;32m     51\u001b[0m \u001b[38;5;28;01mtry\u001b[39;00m:\n\u001b[0;32m     52\u001b[0m   ctx\u001b[38;5;241m.\u001b[39mensure_initialized()\n\u001b[1;32m---> 53\u001b[0m   tensors \u001b[38;5;241m=\u001b[39m pywrap_tfe\u001b[38;5;241m.\u001b[39mTFE_Py_Execute(ctx\u001b[38;5;241m.\u001b[39m_handle, device_name, op_name,\n\u001b[0;32m     54\u001b[0m                                       inputs, attrs, num_outputs)\n\u001b[0;32m     55\u001b[0m \u001b[38;5;28;01mexcept\u001b[39;00m core\u001b[38;5;241m.\u001b[39m_NotOkStatusException \u001b[38;5;28;01mas\u001b[39;00m e:\n\u001b[0;32m     56\u001b[0m   \u001b[38;5;28;01mif\u001b[39;00m name \u001b[38;5;129;01mis\u001b[39;00m \u001b[38;5;129;01mnot\u001b[39;00m \u001b[38;5;28;01mNone\u001b[39;00m:\n",
      "\u001b[1;31mKeyboardInterrupt\u001b[0m: "
     ]
    }
   ],
   "source": [
    "history2_cnn = cnn_model.fit(X_train, \n",
    "                             y_train1 , \n",
    "                             batch_size = 32 , \n",
    "                             epochs = 5 , \n",
    "                             validation_split = (0.2) ,\n",
    "                             steps_per_epoch =steps ,\n",
    "                             class_weigt = class_weights\n",
    "                             verbose =1)\n",
    "\n",
    "predictions = np.argmax(cnn_model.predict(X_test), axis=-1)\n",
    "\n",
    "print(predictions)\n",
    "\n",
    "print(classification_report(y_test.values , predictions))"
   ]
  },
  {
   "cell_type": "code",
   "execution_count": 1007,
   "id": "46fe6a3a",
   "metadata": {
    "ExecuteTime": {
     "end_time": "2024-01-22T00:03:36.788477Z",
     "start_time": "2024-01-22T00:03:36.204033Z"
    }
   },
   "outputs": [
    {
     "data": {
      "image/png": "[encoded data removed]",
      "text/plain": [
       "<Figure size 1200x500 with 2 Axes>"
      ]
     },
     "metadata": {},
     "output_type": "display_data"
    }
   ],
   "source": [
    "plot_history(history2_cnn)"
   ]
  },
  {
   "cell_type": "code",
   "execution_count": 1008,
   "id": "6af9c2ab",
   "metadata": {
    "ExecuteTime": {
     "end_time": "2024-01-22T00:03:52.143349Z",
     "start_time": "2024-01-22T00:03:48.139309Z"
    }
   },
   "outputs": [
    {
     "name": "stdout",
     "output_type": "stream",
     "text": [
      "69/69 [==============================] - 4s 56ms/step - loss: 1.0461 - accuracy: 0.9664 - precision: 0.7721 - recall: 0.6083\n",
      "\n",
      "loss: 1.046\n",
      "\n",
      "accuracy: 0.966\n",
      "\n",
      "precision: 0.772\n",
      "\n",
      "recall: 0.608\n"
     ]
    }
   ],
   "source": [
    "scores = cnn_model.evaluate(X_test, y_test1)\n",
    "\n",
    "for i, m in enumerate(cnn_model.metrics_names):\n",
    "    print(\"\\n%s: %.3f\"% (m, scores[i]))"
   ]
  },
  {
   "cell_type": "code",
   "execution_count": 1048,
   "id": "12d3162c",
   "metadata": {
    "ExecuteTime": {
     "end_time": "2024-01-22T00:40:45.866792Z",
     "start_time": "2024-01-22T00:40:13.828378Z"
    }
   },
   "outputs": [
    {
     "name": "stdout",
     "output_type": "stream",
     "text": [
      "219/219 [==============================] - 30s 136ms/step - loss: 0.5818 - accuracy: 0.9765 - precision: 0.8476 - recall: 0.7319 - val_loss: 118.8508 - val_accuracy: 0.8881 - val_precision: 0.0487 - val_recall: 0.0487\n",
      "69/69 [==============================] - 2s 29ms/step\n",
      "[ 0  1 16 ...  2  9 12]\n",
      "              precision    recall  f1-score   support\n",
      "\n",
      "           0       0.31      0.78      0.44        68\n",
      "           1       0.92      0.46      0.61       176\n",
      "           2       0.25      0.97      0.40        97\n",
      "           3       0.46      0.59      0.51        90\n",
      "           4       0.51      0.67      0.58        93\n",
      "           5       0.74      0.62      0.68       108\n",
      "           6       0.89      0.59      0.71       126\n",
      "           7       0.80      0.66      0.73       136\n",
      "           8       0.60      0.61      0.61       122\n",
      "           9       0.85      0.61      0.71       155\n",
      "          10       0.59      0.82      0.68        61\n",
      "          11       0.61      0.40      0.48       172\n",
      "          12       0.85      0.45      0.59       182\n",
      "          13       0.63      0.66      0.64       151\n",
      "          14       0.72      0.21      0.33       200\n",
      "          15       0.81      0.85      0.83       169\n",
      "          16       0.72      0.99      0.83        77\n",
      "\n",
      "    accuracy                           0.60      2183\n",
      "   macro avg       0.66      0.64      0.61      2183\n",
      "weighted avg       0.70      0.60      0.60      2183\n",
      "\n"
     ]
    }
   ],
   "source": [
    "history2_cnn = cnn_model.fit(X_train, \n",
    "                             y_train1 , \n",
    "                             batch_size = 32 , \n",
    "                             epochs = 1 , \n",
    "                             validation_split = (0.2) ,\n",
    "                             class_weight=class_weights ,\n",
    "                             verbose =1)\n",
    "\n",
    "predictions = np.argmax(cnn_model.predict(X_test), axis=-1)\n",
    "\n",
    "print(predictions)\n",
    "\n",
    "print(classification_report(y_test.values , predictions))"
   ]
  },
  {
   "cell_type": "code",
   "execution_count": 1038,
   "id": "5ccb350f",
   "metadata": {
    "ExecuteTime": {
     "end_time": "2024-01-22T00:32:48.902637Z",
     "start_time": "2024-01-22T00:32:48.899261Z"
    }
   },
   "outputs": [],
   "source": [
    "# 5 epochs 69% acc\n",
    "# 6 epochs 69%\n",
    "# 7 epochs 68%\n",
    "# 8 epochs 71%\n",
    "# with \"wrong class weights\""
   ]
  },
  {
   "cell_type": "code",
   "execution_count": null,
   "id": "22960ddd",
   "metadata": {},
   "outputs": [],
   "source": [
    "# new shit\n",
    "# 5 epochs---> 68%\n",
    "# 6 ---> 64%\n",
    "# 7 ---> 70%\n",
    "# 8 ---> 71%\n",
    "# 9 --->  69%\n",
    "# 10 --->\n",
    "# with correct class weights"
   ]
  },
  {
   "cell_type": "code",
   "execution_count": null,
   "id": "a966c622",
   "metadata": {
    "ExecuteTime": {
     "end_time": "2024-01-22T00:31:28.743415Z",
     "start_time": "2024-01-22T00:31:28.743415Z"
    }
   },
   "outputs": [],
   "source": [
    "#plot_history(history2_cnn)"
   ]
  },
  {
   "cell_type": "code",
   "execution_count": null,
   "id": "27c58033",
   "metadata": {},
   "outputs": [],
   "source": []
  },
  {
   "cell_type": "code",
   "execution_count": null,
   "id": "d369dfcd",
   "metadata": {},
   "outputs": [],
   "source": []
  },
  {
   "cell_type": "code",
   "execution_count": null,
   "id": "79976bc7",
   "metadata": {},
   "outputs": [],
   "source": []
  },
  {
   "cell_type": "code",
   "execution_count": null,
   "id": "0cdd0e4c",
   "metadata": {},
   "outputs": [],
   "source": []
  },
  {
   "cell_type": "code",
   "execution_count": 983,
   "id": "a9c6dae8",
   "metadata": {
    "ExecuteTime": {
     "end_time": "2024-01-21T23:52:33.335530Z",
     "start_time": "2024-01-21T23:52:33.332047Z"
    }
   },
   "outputs": [],
   "source": [
    "from sklearn.utils import compute_class_weight"
   ]
  },
  {
   "cell_type": "code",
   "execution_count": 977,
   "id": "13896894",
   "metadata": {
    "ExecuteTime": {
     "end_time": "2024-01-21T23:50:24.965059Z",
     "start_time": "2024-01-21T23:50:24.949336Z"
    }
   },
   "outputs": [
    {
     "data": {
      "text/html": [
       "<div>\n",
       "<style scoped>\n",
       "    .dataframe tbody tr th:only-of-type {\n",
       "        vertical-align: middle;\n",
       "    }\n",
       "\n",
       "    .dataframe tbody tr th {\n",
       "        vertical-align: top;\n",
       "    }\n",
       "\n",
       "    .dataframe thead th {\n",
       "        text-align: right;\n",
       "    }\n",
       "</style>\n",
       "<table border=\"1\" class=\"dataframe\">\n",
       "  <thead>\n",
       "    <tr style=\"text-align: right;\">\n",
       "      <th></th>\n",
       "      <th>0</th>\n",
       "    </tr>\n",
       "  </thead>\n",
       "  <tbody>\n",
       "    <tr>\n",
       "      <th>0</th>\n",
       "      <td>2</td>\n",
       "    </tr>\n",
       "    <tr>\n",
       "      <th>1</th>\n",
       "      <td>2</td>\n",
       "    </tr>\n",
       "    <tr>\n",
       "      <th>2</th>\n",
       "      <td>2</td>\n",
       "    </tr>\n",
       "    <tr>\n",
       "      <th>3</th>\n",
       "      <td>2</td>\n",
       "    </tr>\n",
       "    <tr>\n",
       "      <th>4</th>\n",
       "      <td>2</td>\n",
       "    </tr>\n",
       "    <tr>\n",
       "      <th>...</th>\n",
       "      <td>...</td>\n",
       "    </tr>\n",
       "    <tr>\n",
       "      <th>10910</th>\n",
       "      <td>1</td>\n",
       "    </tr>\n",
       "    <tr>\n",
       "      <th>10911</th>\n",
       "      <td>1</td>\n",
       "    </tr>\n",
       "    <tr>\n",
       "      <th>10912</th>\n",
       "      <td>1</td>\n",
       "    </tr>\n",
       "    <tr>\n",
       "      <th>10913</th>\n",
       "      <td>1</td>\n",
       "    </tr>\n",
       "    <tr>\n",
       "      <th>10914</th>\n",
       "      <td>1</td>\n",
       "    </tr>\n",
       "  </tbody>\n",
       "</table>\n",
       "<p>10915 rows × 1 columns</p>\n",
       "</div>"
      ],
      "text/plain": [
       "       0\n",
       "0      2\n",
       "1      2\n",
       "2      2\n",
       "3      2\n",
       "4      2\n",
       "...   ..\n",
       "10910  1\n",
       "10911  1\n",
       "10912  1\n",
       "10913  1\n",
       "10914  1\n",
       "\n",
       "[10915 rows x 1 columns]"
      ]
     },
     "execution_count": 977,
     "metadata": {},
     "output_type": "execute_result"
    }
   ],
   "source": [
    "y1"
   ]
  },
  {
   "cell_type": "code",
   "execution_count": 993,
   "id": "b6cae17d",
   "metadata": {
    "ExecuteTime": {
     "end_time": "2024-01-21T23:54:43.766837Z",
     "start_time": "2024-01-21T23:54:43.762397Z"
    }
   },
   "outputs": [],
   "source": [
    "y1_tone = y1.values.reshape(-1,1)"
   ]
  },
  {
   "cell_type": "code",
   "execution_count": 996,
   "id": "023fff90",
   "metadata": {
    "ExecuteTime": {
     "end_time": "2024-01-21T23:55:06.592928Z",
     "start_time": "2024-01-21T23:55:06.586906Z"
    }
   },
   "outputs": [
    {
     "data": {
      "text/plain": [
       "[array([[2],\n",
       "        [2],\n",
       "        [2],\n",
       "        ...,\n",
       "        [1],\n",
       "        [1],\n",
       "        [1]])]"
      ]
     },
     "execution_count": 996,
     "metadata": {},
     "output_type": "execute_result"
    }
   ],
   "source": [
    "[y1_tone]"
   ]
  },
  {
   "cell_type": "code",
   "execution_count": 1026,
   "id": "6fe89526",
   "metadata": {
    "ExecuteTime": {
     "end_time": "2024-01-22T00:24:41.130058Z",
     "start_time": "2024-01-22T00:24:41.119056Z"
    }
   },
   "outputs": [
    {
     "name": "stderr",
     "output_type": "stream",
     "text": [
      "C:\\Users\\Desktop\\anaconda3\\Lib\\site-packages\\sklearn\\preprocessing\\_label.py:114: DataConversionWarning: A column-vector y was passed when a 1d array was expected. Please change the shape of y to (n_samples, ), for example using ravel().\n",
      "  y = column_or_1d(y, warn=True)\n"
     ]
    },
    {
     "data": {
      "text/plain": [
       "{0: 2.1401960784313725,\n",
       " 1: 0.8025735294117647,\n",
       " 2: 1.2841176470588236,\n",
       " 3: 1.2841176470588236,\n",
       " 4: 1.6051470588235295,\n",
       " 5: 1.05775753464483,\n",
       " 6: 1.0700980392156862,\n",
       " 7: 0.9172268907563025,\n",
       " 8: 1.0700980392156862,\n",
       " 9: 0.913312693498452,\n",
       " 10: 2.147353924847531,\n",
       " 11: 0.7133986928104575,\n",
       " 12: 0.8025735294117647,\n",
       " 13: 0.8025735294117647,\n",
       " 14: 0.5836898395721926,\n",
       " 15: 0.7086741981560837,\n",
       " 16: 1.6051470588235295}"
      ]
     },
     "execution_count": 1026,
     "metadata": {},
     "output_type": "execute_result"
    }
   ],
   "source": [
    "class_weights = compute_class_weight(\n",
    "                                        class_weight = \"balanced\",\n",
    "                                        classes = np.unique(y1),\n",
    "                                        y = y1                                                    \n",
    "                                    )\n",
    "class_weights = dict(zip(np.unique(y1), class_weights))\n",
    "class_weights"
   ]
  },
  {
   "cell_type": "code",
   "execution_count": 1042,
   "id": "52301cea",
   "metadata": {
    "ExecuteTime": {
     "end_time": "2024-01-22T00:33:42.996696Z",
     "start_time": "2024-01-22T00:33:42.986866Z"
    }
   },
   "outputs": [
    {
     "data": {
      "text/plain": [
       "{0: 2.213995943204868,\n",
       " 1: 0.8231523378582202,\n",
       " 2: 1.2745584586191796,\n",
       " 3: 1.2527977044476326,\n",
       " 4: 1.6731174554512358,\n",
       " 5: 1.0293528232936462,\n",
       " 6: 1.083643584015885,\n",
       " 7: 0.9107217355027117,\n",
       " 8: 1.0745754368693083,\n",
       " 9: 0.9373121511378274,\n",
       " 10: 2.158180919426594,\n",
       " 11: 0.7055591467356174,\n",
       " 12: 0.8311441081286883,\n",
       " 13: 0.7914438502673797,\n",
       " 14: 0.570718954248366,\n",
       " 15: 0.6969430920264985,\n",
       " 16: 1.5902385722090693}"
      ]
     },
     "execution_count": 1042,
     "metadata": {},
     "output_type": "execute_result"
    }
   ],
   "source": [
    "class_weights = compute_class_weight(\n",
    "                                        class_weight = \"balanced\",\n",
    "                                        classes = np.unique(y_train.values.ravel()),\n",
    "                                        y = y_train.values.ravel()                                                    \n",
    "                                    )\n",
    "class_weights = dict(zip(np.unique(y_train.values.ravel()), class_weights))\n",
    "class_weights"
   ]
  },
  {
   "cell_type": "code",
   "execution_count": null,
   "id": "d49a6549",
   "metadata": {},
   "outputs": [],
   "source": [
    "class_weight = {0: 1.,\n",
    "                1: 50.,\n",
    "                2: 2.}"
   ]
  },
  {
   "cell_type": "code",
   "execution_count": null,
   "id": "8284a9b4",
   "metadata": {},
   "outputs": [],
   "source": [
    "class_weight=class_weight"
   ]
  },
  {
   "cell_type": "code",
   "execution_count": 1027,
   "id": "a54cf034",
   "metadata": {
    "ExecuteTime": {
     "end_time": "2024-01-22T00:25:53.162873Z",
     "start_time": "2024-01-22T00:25:53.158986Z"
    }
   },
   "outputs": [],
   "source": [
    "from sklearn.utils.class_weight import compute_class_weight"
   ]
  },
  {
   "cell_type": "code",
   "execution_count": null,
   "id": "7cd9b60f",
   "metadata": {},
   "outputs": [],
   "source": []
  }
 ],
 "metadata": {
  "hide_input": false,
  "kernelspec": {
   "display_name": "Python 3 (ipykernel)",
   "language": "python",
   "name": "python3"
  },
  "language_info": {
   "codemirror_mode": {
    "name": "ipython",
    "version": 3
   },
   "file_extension": ".py",
   "mimetype": "text/x-python",
   "name": "python",
   "nbconvert_exporter": "python",
   "pygments_lexer": "ipython3",
   "version": "3.11.5"
  },
  "nbTranslate": {
   "displayLangs": [
    "*"
   ],
   "hotkey": "alt-t",
   "langInMainMenu": true,
   "sourceLang": "en",
   "targetLang": "fr",
   "useGoogleTranslate": true
  },
  "toc": {
   "base_numbering": 1,
   "nav_menu": {},
   "number_sections": true,
   "sideBar": true,
   "skip_h1_title": false,
   "title_cell": "Table of Contents",
   "title_sidebar": "Contents",
   "toc_cell": false,
   "toc_position": {},
   "toc_section_display": true,
   "toc_window_display": false
  },
  "varInspector": {
   "cols": {
    "lenName": 16,
    "lenType": 16,
    "lenVar": 40
   },
   "kernels_config": {
    "python": {
     "delete_cmd_postfix": "",
     "delete_cmd_prefix": "del ",
     "library": "var_list.py",
     "varRefreshCmd": "print(var_dic_list())"
    },
    "r": {
     "delete_cmd_postfix": ") ",
     "delete_cmd_prefix": "rm(",
     "library": "var_list.r",
     "varRefreshCmd": "cat(var_dic_list()) "
    }
   },
   "types_to_exclude": [
    "module",
    "function",
    "builtin_function_or_method",
    "instance",
    "_Feature"
   ],
   "window_display": false
  }
 },
 "nbformat": 4,
 "nbformat_minor": 5
}
