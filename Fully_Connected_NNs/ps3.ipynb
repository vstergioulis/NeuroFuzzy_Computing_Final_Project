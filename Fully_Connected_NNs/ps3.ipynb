{
 "cells": [
  {
   "cell_type": "code",
   "execution_count": 1,
   "id": "2bb8233a",
   "metadata": {
    "ExecuteTime": {
     "end_time": "2024-01-20T12:23:50.844701Z",
     "start_time": "2024-01-20T12:23:48.406604Z"
    }
   },
   "outputs": [],
   "source": [
    "import numpy as np\n",
    "import pandas as pd\n",
    "import matplotlib.pyplot as plt\n",
    "\n",
    "from sklearn.datasets import make_classification"
   ]
  },
  {
   "cell_type": "code",
   "execution_count": 2,
   "id": "fb7fc4c7",
   "metadata": {
    "ExecuteTime": {
     "end_time": "2024-01-20T12:24:00.113477Z",
     "start_time": "2024-01-20T12:23:50.846694Z"
    }
   },
   "outputs": [
    {
     "name": "stdout",
     "output_type": "stream",
     "text": [
      "WARNING:tensorflow:From C:\\Users\\Desktop\\anaconda3\\Lib\\site-packages\\keras\\src\\losses.py:2976: The name tf.losses.sparse_softmax_cross_entropy is deprecated. Please use tf.compat.v1.losses.sparse_softmax_cross_entropy instead.\n",
      "\n"
     ]
    }
   ],
   "source": [
    "from tensorflow.keras.models import Sequential\n",
    "from tensorflow.keras.layers import Dense, Activation\n",
    "import tensorflow as tf\n",
    "\n",
    "from sklearn.model_selection import train_test_split\n",
    "from sklearn.preprocessing import LabelEncoder\n",
    "from sklearn.preprocessing import MinMaxScaler\n",
    "import gensim"
   ]
  },
  {
   "cell_type": "code",
   "execution_count": 3,
   "id": "f7cb131c",
   "metadata": {
    "ExecuteTime": {
     "end_time": "2024-01-20T12:24:00.130934Z",
     "start_time": "2024-01-20T12:24:00.126470Z"
    }
   },
   "outputs": [],
   "source": [
    "from gensim.models import Word2Vec, KeyedVectors"
   ]
  },
  {
   "cell_type": "code",
   "execution_count": 4,
   "id": "80853a4e",
   "metadata": {
    "ExecuteTime": {
     "end_time": "2024-01-20T12:24:00.723504Z",
     "start_time": "2024-01-20T12:24:00.133924Z"
    }
   },
   "outputs": [],
   "source": [
    "from nltk.stem import WordNetLemmatizer\n",
    "from nltk.corpus import stopwords\n",
    "from nltk.tokenize import RegexpTokenizer\n",
    "import re\n",
    "import matplotlib.pyplot as plt\n",
    "import nltk"
   ]
  },
  {
   "cell_type": "code",
   "execution_count": 5,
   "id": "80a114b0",
   "metadata": {
    "ExecuteTime": {
     "end_time": "2024-01-20T12:24:00.729017Z",
     "start_time": "2024-01-20T12:24:00.724496Z"
    }
   },
   "outputs": [],
   "source": [
    "from tensorflow.keras.utils import to_categorical"
   ]
  },
  {
   "cell_type": "code",
   "execution_count": 6,
   "id": "e2104d79",
   "metadata": {
    "ExecuteTime": {
     "end_time": "2024-01-20T12:24:01.282155Z",
     "start_time": "2024-01-20T12:24:00.732005Z"
    }
   },
   "outputs": [],
   "source": [
    "data = pd.read_csv(\"data/news_class.csv\")"
   ]
  },
  {
   "cell_type": "code",
   "execution_count": 7,
   "id": "142478f7",
   "metadata": {
    "ExecuteTime": {
     "end_time": "2024-01-20T12:24:01.288833Z",
     "start_time": "2024-01-20T12:24:01.283147Z"
    }
   },
   "outputs": [],
   "source": [
    "df = data.copy() # to be safe and avoid errors"
   ]
  },
  {
   "cell_type": "code",
   "execution_count": 8,
   "id": "01b4b663",
   "metadata": {
    "ExecuteTime": {
     "end_time": "2024-01-20T12:24:01.298892Z",
     "start_time": "2024-01-20T12:24:01.290823Z"
    }
   },
   "outputs": [],
   "source": [
    "df = df.loc[:,[\"data_id\" , \"content\" , \"category_level_1\" , \"category_level_2\"]]"
   ]
  },
  {
   "cell_type": "code",
   "execution_count": 9,
   "id": "a5a4868e",
   "metadata": {
    "ExecuteTime": {
     "end_time": "2024-01-20T12:24:01.305132Z",
     "start_time": "2024-01-20T12:24:01.300885Z"
    }
   },
   "outputs": [],
   "source": [
    "def labeler(dataframe_column):\n",
    "    encoder=LabelEncoder()\n",
    "    \n",
    "    labels = encoder.fit_transform(dataframe_column)\n",
    "    print(encoder.classes_)\n",
    "    print(\"We did it boys , labels have been created\")\n",
    "    \n",
    "    return(pd.DataFrame(labels))"
   ]
  },
  {
   "cell_type": "code",
   "execution_count": 10,
   "id": "0d5b5946",
   "metadata": {
    "ExecuteTime": {
     "end_time": "2024-01-20T12:24:08.871067Z",
     "start_time": "2024-01-20T12:24:08.861754Z"
    }
   },
   "outputs": [],
   "source": [
    "# Function for removing ASCII characters\n",
    "def _removeNonAscii(s):\n",
    "    return \"\".join(i for i in s if  ord(i)<128)\n",
    "\n",
    "# Function for converting to lower case\n",
    "def make_lower_case(text):\n",
    "    return text.lower()\n",
    "\n",
    "# Function for removing stop words\n",
    "def remove_stop_words(text):\n",
    "    text = text.split()\n",
    "    stops = set(stopwords.words(\"english\"))\n",
    "    text = [w for w in text if not w in stops]\n",
    "    text = \" \".join(text)\n",
    "    return text\n",
    "\n",
    "# Function for removing html\n",
    "def remove_html(text):\n",
    "    html_pattern = re.compile('<.*?>')\n",
    "    return html_pattern.sub(r'', text)\n",
    "\n",
    "# Function for removing punctuation\n",
    "def remove_punctuation(text):\n",
    "    tokenizer = RegexpTokenizer(r'\\w+')\n",
    "    text = tokenizer.tokenize(text)\n",
    "    text = \" \".join(text)\n",
    "    return text\n",
    "\n",
    "def lemm_text(text):\n",
    "    lemm=WordNetLemmatizer()\n",
    "    tokenizer = RegexpTokenizer(r'\\w+')\n",
    "    text = tokenizer.tokenize(text)\n",
    "    tokens = text\n",
    "    return ' '.join([lemm.lemmatize(t) for t in tokens])"
   ]
  },
  {
   "cell_type": "code",
   "execution_count": 11,
   "id": "3ba25a72",
   "metadata": {
    "ExecuteTime": {
     "end_time": "2024-01-20T12:24:44.256581Z",
     "start_time": "2024-01-20T12:24:09.358431Z"
    }
   },
   "outputs": [],
   "source": [
    "df['Cleaned'] = df['content'].apply(_removeNonAscii)\n",
    "df['Cleaned'] = df.Cleaned.apply(func = make_lower_case)\n",
    "df['Cleaned'] = df.Cleaned.apply(func = remove_stop_words)\n",
    "df['Cleaned'] = df.Cleaned.apply(func = remove_punctuation)\n",
    "df['Cleaned'] = df.Cleaned.apply(func = remove_html)\n",
    "df['Cleaned'] = df.Cleaned.apply(func = lemm_text)\n",
    "df = df.drop('content' , axis =1)"
   ]
  },
  {
   "cell_type": "code",
   "execution_count": 12,
   "id": "212263b5",
   "metadata": {
    "ExecuteTime": {
     "end_time": "2024-01-20T12:24:44.272337Z",
     "start_time": "2024-01-20T12:24:44.267732Z"
    }
   },
   "outputs": [],
   "source": [
    "io = df.copy()"
   ]
  },
  {
   "cell_type": "code",
   "execution_count": 13,
   "id": "19efb536",
   "metadata": {
    "ExecuteTime": {
     "end_time": "2024-01-20T12:24:44.642033Z",
     "start_time": "2024-01-20T12:24:44.285787Z"
    }
   },
   "outputs": [],
   "source": [
    "io = io.drop([374]).reset_index(drop=True)\n",
    "io = io.drop([6527]).reset_index(drop=True)\n",
    "\n",
    "\n",
    "corpus_full = []\n",
    "for words in io['Cleaned']:\n",
    "    corpus_full.append(words.split())  "
   ]
  },
  {
   "cell_type": "code",
   "execution_count": 14,
   "id": "b0eaf8bb",
   "metadata": {
    "ExecuteTime": {
     "end_time": "2024-01-20T12:24:44.662930Z",
     "start_time": "2024-01-20T12:24:44.657338Z"
    }
   },
   "outputs": [],
   "source": [
    "def vectorizer():\n",
    "    \n",
    "    \n",
    "    # Creating a list for storing the vectors ('Description' into vectors)\n",
    "    #global word_embeddings\n",
    "    word_embeddings = []\n",
    "    i = 0\n",
    "    # Reading the each 'Description'\n",
    "    for line in io['Cleaned']:\n",
    "        avgword2vec = None\n",
    "        count = 0\n",
    "        for word in line.split():\n",
    "            if word in model.wv.key_to_index:\n",
    "                count += 1\n",
    "                if avgword2vec is None:\n",
    "                    avgword2vec = model.wv[word]\n",
    "                else:\n",
    "                    avgword2vec = avgword2vec + model.wv[word]\n",
    "                \n",
    "        if avgword2vec is not None:\n",
    "            avgword2vec = avgword2vec / count\n",
    "            word_embeddings.append(avgword2vec)\n",
    "        else:\n",
    "            print(\"I found it , the error occurs at line:\" , i)\n",
    "          \n",
    "        i +=1 \n",
    "\n",
    "    return(pd.DataFrame(word_embeddings))  # Returning our Data as a Dataframe (aesthetic reasons)"
   ]
  },
  {
   "cell_type": "code",
   "execution_count": 15,
   "id": "98a83172",
   "metadata": {
    "ExecuteTime": {
     "end_time": "2024-01-20T12:24:45.076947Z",
     "start_time": "2024-01-20T12:24:44.681918Z"
    }
   },
   "outputs": [],
   "source": [
    "model = Word2Vec.load(\"word2vec.model3\")"
   ]
  },
  {
   "cell_type": "code",
   "execution_count": 16,
   "id": "00d3efe6",
   "metadata": {
    "ExecuteTime": {
     "end_time": "2024-01-20T12:24:56.532294Z",
     "start_time": "2024-01-20T12:24:45.094616Z"
    }
   },
   "outputs": [],
   "source": [
    "vect = vectorizer()"
   ]
  },
  {
   "cell_type": "code",
   "execution_count": 17,
   "id": "4d6efc31",
   "metadata": {
    "ExecuteTime": {
     "end_time": "2024-01-20T12:24:56.563401Z",
     "start_time": "2024-01-20T12:24:56.557655Z"
    }
   },
   "outputs": [
    {
     "name": "stdout",
     "output_type": "stream",
     "text": [
      "['arts, culture, entertainment and media' 'conflict, war and peace'\n",
      " 'crime, law and justice' 'disaster, accident and emergency incident'\n",
      " 'economy, business and finance' 'education' 'environment' 'health'\n",
      " 'human interest' 'labour' 'lifestyle and leisure' 'politics'\n",
      " 'religion and belief' 'science and technology' 'society' 'sport'\n",
      " 'weather']\n",
      "We did it boys , labels have been created\n"
     ]
    }
   ],
   "source": [
    "y1 = labeler(io[\"category_level_1\"])"
   ]
  },
  {
   "cell_type": "code",
   "execution_count": 1052,
   "id": "ef41ee9f",
   "metadata": {
    "ExecuteTime": {
     "end_time": "2024-01-20T14:16:09.540772Z",
     "start_time": "2024-01-20T14:16:09.529116Z"
    }
   },
   "outputs": [],
   "source": [
    "X = vect.copy()"
   ]
  },
  {
   "cell_type": "code",
   "execution_count": 1053,
   "id": "71a62371",
   "metadata": {
    "ExecuteTime": {
     "end_time": "2024-01-20T14:16:10.355094Z",
     "start_time": "2024-01-20T14:16:10.297160Z"
    }
   },
   "outputs": [
    {
     "data": {
      "text/html": [
       "<div>\n",
       "<style scoped>\n",
       "    .dataframe tbody tr th:only-of-type {\n",
       "        vertical-align: middle;\n",
       "    }\n",
       "\n",
       "    .dataframe tbody tr th {\n",
       "        vertical-align: top;\n",
       "    }\n",
       "\n",
       "    .dataframe thead th {\n",
       "        text-align: right;\n",
       "    }\n",
       "</style>\n",
       "<table border=\"1\" class=\"dataframe\">\n",
       "  <thead>\n",
       "    <tr style=\"text-align: right;\">\n",
       "      <th></th>\n",
       "      <th>0</th>\n",
       "      <th>1</th>\n",
       "      <th>2</th>\n",
       "      <th>3</th>\n",
       "      <th>4</th>\n",
       "      <th>5</th>\n",
       "      <th>6</th>\n",
       "      <th>7</th>\n",
       "      <th>8</th>\n",
       "      <th>9</th>\n",
       "      <th>...</th>\n",
       "      <th>190</th>\n",
       "      <th>191</th>\n",
       "      <th>192</th>\n",
       "      <th>193</th>\n",
       "      <th>194</th>\n",
       "      <th>195</th>\n",
       "      <th>196</th>\n",
       "      <th>197</th>\n",
       "      <th>198</th>\n",
       "      <th>199</th>\n",
       "    </tr>\n",
       "  </thead>\n",
       "  <tbody>\n",
       "    <tr>\n",
       "      <th>0</th>\n",
       "      <td>0.010030</td>\n",
       "      <td>-0.072825</td>\n",
       "      <td>-0.051542</td>\n",
       "      <td>0.033568</td>\n",
       "      <td>0.084110</td>\n",
       "      <td>0.027619</td>\n",
       "      <td>-0.071665</td>\n",
       "      <td>0.015907</td>\n",
       "      <td>-0.006390</td>\n",
       "      <td>0.152007</td>\n",
       "      <td>...</td>\n",
       "      <td>-0.087481</td>\n",
       "      <td>0.150550</td>\n",
       "      <td>0.010014</td>\n",
       "      <td>0.063487</td>\n",
       "      <td>0.218890</td>\n",
       "      <td>0.049933</td>\n",
       "      <td>0.014407</td>\n",
       "      <td>-0.129096</td>\n",
       "      <td>0.003949</td>\n",
       "      <td>-0.131842</td>\n",
       "    </tr>\n",
       "    <tr>\n",
       "      <th>1</th>\n",
       "      <td>0.071578</td>\n",
       "      <td>-0.083879</td>\n",
       "      <td>-0.080275</td>\n",
       "      <td>0.015637</td>\n",
       "      <td>0.068045</td>\n",
       "      <td>0.007964</td>\n",
       "      <td>-0.054446</td>\n",
       "      <td>0.003107</td>\n",
       "      <td>0.003455</td>\n",
       "      <td>0.160702</td>\n",
       "      <td>...</td>\n",
       "      <td>-0.032729</td>\n",
       "      <td>0.109924</td>\n",
       "      <td>0.010929</td>\n",
       "      <td>0.027677</td>\n",
       "      <td>0.182586</td>\n",
       "      <td>0.082423</td>\n",
       "      <td>-0.014971</td>\n",
       "      <td>-0.097462</td>\n",
       "      <td>-0.027377</td>\n",
       "      <td>-0.059375</td>\n",
       "    </tr>\n",
       "    <tr>\n",
       "      <th>2</th>\n",
       "      <td>0.028660</td>\n",
       "      <td>-0.003605</td>\n",
       "      <td>-0.043669</td>\n",
       "      <td>0.050716</td>\n",
       "      <td>0.109462</td>\n",
       "      <td>0.030837</td>\n",
       "      <td>-0.033665</td>\n",
       "      <td>0.022952</td>\n",
       "      <td>-0.026909</td>\n",
       "      <td>0.246786</td>\n",
       "      <td>...</td>\n",
       "      <td>-0.016610</td>\n",
       "      <td>0.091539</td>\n",
       "      <td>-0.029639</td>\n",
       "      <td>0.123434</td>\n",
       "      <td>0.160820</td>\n",
       "      <td>0.140771</td>\n",
       "      <td>-0.031121</td>\n",
       "      <td>-0.071247</td>\n",
       "      <td>-0.039745</td>\n",
       "      <td>-0.078560</td>\n",
       "    </tr>\n",
       "    <tr>\n",
       "      <th>3</th>\n",
       "      <td>0.068074</td>\n",
       "      <td>-0.112016</td>\n",
       "      <td>-0.055053</td>\n",
       "      <td>0.045375</td>\n",
       "      <td>0.063676</td>\n",
       "      <td>0.016817</td>\n",
       "      <td>-0.061693</td>\n",
       "      <td>-0.026442</td>\n",
       "      <td>-0.031120</td>\n",
       "      <td>0.191916</td>\n",
       "      <td>...</td>\n",
       "      <td>-0.073135</td>\n",
       "      <td>0.135709</td>\n",
       "      <td>0.006571</td>\n",
       "      <td>0.004580</td>\n",
       "      <td>0.166603</td>\n",
       "      <td>0.121948</td>\n",
       "      <td>-0.031010</td>\n",
       "      <td>-0.095062</td>\n",
       "      <td>0.007649</td>\n",
       "      <td>-0.106070</td>\n",
       "    </tr>\n",
       "    <tr>\n",
       "      <th>4</th>\n",
       "      <td>0.040953</td>\n",
       "      <td>-0.028588</td>\n",
       "      <td>-0.063608</td>\n",
       "      <td>0.046010</td>\n",
       "      <td>0.081183</td>\n",
       "      <td>-0.021608</td>\n",
       "      <td>-0.077216</td>\n",
       "      <td>0.027718</td>\n",
       "      <td>-0.030726</td>\n",
       "      <td>0.168264</td>\n",
       "      <td>...</td>\n",
       "      <td>-0.064928</td>\n",
       "      <td>0.073787</td>\n",
       "      <td>-0.000367</td>\n",
       "      <td>0.074108</td>\n",
       "      <td>0.142589</td>\n",
       "      <td>0.093344</td>\n",
       "      <td>0.004230</td>\n",
       "      <td>-0.099472</td>\n",
       "      <td>-0.069675</td>\n",
       "      <td>-0.046723</td>\n",
       "    </tr>\n",
       "    <tr>\n",
       "      <th>...</th>\n",
       "      <td>...</td>\n",
       "      <td>...</td>\n",
       "      <td>...</td>\n",
       "      <td>...</td>\n",
       "      <td>...</td>\n",
       "      <td>...</td>\n",
       "      <td>...</td>\n",
       "      <td>...</td>\n",
       "      <td>...</td>\n",
       "      <td>...</td>\n",
       "      <td>...</td>\n",
       "      <td>...</td>\n",
       "      <td>...</td>\n",
       "      <td>...</td>\n",
       "      <td>...</td>\n",
       "      <td>...</td>\n",
       "      <td>...</td>\n",
       "      <td>...</td>\n",
       "      <td>...</td>\n",
       "      <td>...</td>\n",
       "      <td>...</td>\n",
       "    </tr>\n",
       "    <tr>\n",
       "      <th>10910</th>\n",
       "      <td>0.025258</td>\n",
       "      <td>-0.056760</td>\n",
       "      <td>-0.053916</td>\n",
       "      <td>-0.080924</td>\n",
       "      <td>0.025728</td>\n",
       "      <td>-0.042500</td>\n",
       "      <td>0.016543</td>\n",
       "      <td>-0.056844</td>\n",
       "      <td>-0.068292</td>\n",
       "      <td>0.035164</td>\n",
       "      <td>...</td>\n",
       "      <td>-0.116704</td>\n",
       "      <td>0.099249</td>\n",
       "      <td>0.008260</td>\n",
       "      <td>0.035744</td>\n",
       "      <td>0.203707</td>\n",
       "      <td>-0.003986</td>\n",
       "      <td>0.023136</td>\n",
       "      <td>-0.156268</td>\n",
       "      <td>-0.018444</td>\n",
       "      <td>-0.033398</td>\n",
       "    </tr>\n",
       "    <tr>\n",
       "      <th>10911</th>\n",
       "      <td>0.122435</td>\n",
       "      <td>-0.154742</td>\n",
       "      <td>-0.159965</td>\n",
       "      <td>-0.032322</td>\n",
       "      <td>0.095427</td>\n",
       "      <td>-0.047862</td>\n",
       "      <td>0.000538</td>\n",
       "      <td>-0.144428</td>\n",
       "      <td>-0.148185</td>\n",
       "      <td>0.052159</td>\n",
       "      <td>...</td>\n",
       "      <td>-0.061774</td>\n",
       "      <td>0.067999</td>\n",
       "      <td>0.021077</td>\n",
       "      <td>0.097443</td>\n",
       "      <td>0.181980</td>\n",
       "      <td>0.091247</td>\n",
       "      <td>0.007482</td>\n",
       "      <td>-0.320918</td>\n",
       "      <td>-0.028273</td>\n",
       "      <td>-0.004733</td>\n",
       "    </tr>\n",
       "    <tr>\n",
       "      <th>10912</th>\n",
       "      <td>0.079171</td>\n",
       "      <td>-0.031492</td>\n",
       "      <td>-0.051477</td>\n",
       "      <td>-0.086577</td>\n",
       "      <td>0.101841</td>\n",
       "      <td>0.017272</td>\n",
       "      <td>-0.046363</td>\n",
       "      <td>-0.008180</td>\n",
       "      <td>-0.058952</td>\n",
       "      <td>0.015870</td>\n",
       "      <td>...</td>\n",
       "      <td>-0.013864</td>\n",
       "      <td>0.051082</td>\n",
       "      <td>-0.004890</td>\n",
       "      <td>0.170762</td>\n",
       "      <td>0.141724</td>\n",
       "      <td>0.000773</td>\n",
       "      <td>-0.022615</td>\n",
       "      <td>-0.110620</td>\n",
       "      <td>0.037668</td>\n",
       "      <td>-0.070821</td>\n",
       "    </tr>\n",
       "    <tr>\n",
       "      <th>10913</th>\n",
       "      <td>0.015078</td>\n",
       "      <td>-0.098757</td>\n",
       "      <td>-0.091811</td>\n",
       "      <td>-0.046112</td>\n",
       "      <td>0.102823</td>\n",
       "      <td>0.005763</td>\n",
       "      <td>-0.019206</td>\n",
       "      <td>-0.023700</td>\n",
       "      <td>-0.079233</td>\n",
       "      <td>0.044035</td>\n",
       "      <td>...</td>\n",
       "      <td>-0.014461</td>\n",
       "      <td>0.088623</td>\n",
       "      <td>0.036835</td>\n",
       "      <td>0.127098</td>\n",
       "      <td>0.156737</td>\n",
       "      <td>-0.003581</td>\n",
       "      <td>-0.047630</td>\n",
       "      <td>-0.176579</td>\n",
       "      <td>0.055320</td>\n",
       "      <td>-0.069404</td>\n",
       "    </tr>\n",
       "    <tr>\n",
       "      <th>10914</th>\n",
       "      <td>0.054540</td>\n",
       "      <td>-0.118217</td>\n",
       "      <td>-0.089521</td>\n",
       "      <td>0.012284</td>\n",
       "      <td>0.040246</td>\n",
       "      <td>-0.023135</td>\n",
       "      <td>-0.092320</td>\n",
       "      <td>-0.064904</td>\n",
       "      <td>-0.042663</td>\n",
       "      <td>0.041135</td>\n",
       "      <td>...</td>\n",
       "      <td>-0.077589</td>\n",
       "      <td>0.052324</td>\n",
       "      <td>-0.065146</td>\n",
       "      <td>0.070479</td>\n",
       "      <td>0.192898</td>\n",
       "      <td>0.017426</td>\n",
       "      <td>0.013624</td>\n",
       "      <td>-0.171379</td>\n",
       "      <td>-0.016206</td>\n",
       "      <td>-0.046442</td>\n",
       "    </tr>\n",
       "  </tbody>\n",
       "</table>\n",
       "<p>10915 rows × 200 columns</p>\n",
       "</div>"
      ],
      "text/plain": [
       "            0         1         2         3         4         5         6    \\\n",
       "0      0.010030 -0.072825 -0.051542  0.033568  0.084110  0.027619 -0.071665   \n",
       "1      0.071578 -0.083879 -0.080275  0.015637  0.068045  0.007964 -0.054446   \n",
       "2      0.028660 -0.003605 -0.043669  0.050716  0.109462  0.030837 -0.033665   \n",
       "3      0.068074 -0.112016 -0.055053  0.045375  0.063676  0.016817 -0.061693   \n",
       "4      0.040953 -0.028588 -0.063608  0.046010  0.081183 -0.021608 -0.077216   \n",
       "...         ...       ...       ...       ...       ...       ...       ...   \n",
       "10910  0.025258 -0.056760 -0.053916 -0.080924  0.025728 -0.042500  0.016543   \n",
       "10911  0.122435 -0.154742 -0.159965 -0.032322  0.095427 -0.047862  0.000538   \n",
       "10912  0.079171 -0.031492 -0.051477 -0.086577  0.101841  0.017272 -0.046363   \n",
       "10913  0.015078 -0.098757 -0.091811 -0.046112  0.102823  0.005763 -0.019206   \n",
       "10914  0.054540 -0.118217 -0.089521  0.012284  0.040246 -0.023135 -0.092320   \n",
       "\n",
       "            7         8         9    ...       190       191       192  \\\n",
       "0      0.015907 -0.006390  0.152007  ... -0.087481  0.150550  0.010014   \n",
       "1      0.003107  0.003455  0.160702  ... -0.032729  0.109924  0.010929   \n",
       "2      0.022952 -0.026909  0.246786  ... -0.016610  0.091539 -0.029639   \n",
       "3     -0.026442 -0.031120  0.191916  ... -0.073135  0.135709  0.006571   \n",
       "4      0.027718 -0.030726  0.168264  ... -0.064928  0.073787 -0.000367   \n",
       "...         ...       ...       ...  ...       ...       ...       ...   \n",
       "10910 -0.056844 -0.068292  0.035164  ... -0.116704  0.099249  0.008260   \n",
       "10911 -0.144428 -0.148185  0.052159  ... -0.061774  0.067999  0.021077   \n",
       "10912 -0.008180 -0.058952  0.015870  ... -0.013864  0.051082 -0.004890   \n",
       "10913 -0.023700 -0.079233  0.044035  ... -0.014461  0.088623  0.036835   \n",
       "10914 -0.064904 -0.042663  0.041135  ... -0.077589  0.052324 -0.065146   \n",
       "\n",
       "            193       194       195       196       197       198       199  \n",
       "0      0.063487  0.218890  0.049933  0.014407 -0.129096  0.003949 -0.131842  \n",
       "1      0.027677  0.182586  0.082423 -0.014971 -0.097462 -0.027377 -0.059375  \n",
       "2      0.123434  0.160820  0.140771 -0.031121 -0.071247 -0.039745 -0.078560  \n",
       "3      0.004580  0.166603  0.121948 -0.031010 -0.095062  0.007649 -0.106070  \n",
       "4      0.074108  0.142589  0.093344  0.004230 -0.099472 -0.069675 -0.046723  \n",
       "...         ...       ...       ...       ...       ...       ...       ...  \n",
       "10910  0.035744  0.203707 -0.003986  0.023136 -0.156268 -0.018444 -0.033398  \n",
       "10911  0.097443  0.181980  0.091247  0.007482 -0.320918 -0.028273 -0.004733  \n",
       "10912  0.170762  0.141724  0.000773 -0.022615 -0.110620  0.037668 -0.070821  \n",
       "10913  0.127098  0.156737 -0.003581 -0.047630 -0.176579  0.055320 -0.069404  \n",
       "10914  0.070479  0.192898  0.017426  0.013624 -0.171379 -0.016206 -0.046442  \n",
       "\n",
       "[10915 rows x 200 columns]"
      ]
     },
     "execution_count": 1053,
     "metadata": {},
     "output_type": "execute_result"
    }
   ],
   "source": [
    "X"
   ]
  },
  {
   "cell_type": "markdown",
   "id": "0f67f786",
   "metadata": {},
   "source": [
    "# BUILDING OUR KERAS MODEL"
   ]
  },
  {
   "cell_type": "code",
   "execution_count": 20,
   "id": "241b7a78",
   "metadata": {
    "ExecuteTime": {
     "end_time": "2024-01-20T12:24:56.705805Z",
     "start_time": "2024-01-20T12:24:56.685691Z"
    }
   },
   "outputs": [],
   "source": [
    "scaler = MinMaxScaler()\n",
    "scaler.fit(X)\n",
    "X = scaler.transform(X)"
   ]
  },
  {
   "cell_type": "code",
   "execution_count": 1054,
   "id": "1567175e",
   "metadata": {
    "ExecuteTime": {
     "end_time": "2024-01-20T14:16:19.008738Z",
     "start_time": "2024-01-20T14:16:18.977736Z"
    }
   },
   "outputs": [],
   "source": [
    "X_train, X_test, y_train, y_test = train_test_split(X, y1, test_size=0.2,random_state=42)"
   ]
  },
  {
   "cell_type": "code",
   "execution_count": 1055,
   "id": "2e96dcff",
   "metadata": {
    "ExecuteTime": {
     "end_time": "2024-01-20T14:16:19.672075Z",
     "start_time": "2024-01-20T14:16:19.663786Z"
    }
   },
   "outputs": [
    {
     "data": {
      "text/plain": [
       "(8732, 200)"
      ]
     },
     "execution_count": 1055,
     "metadata": {},
     "output_type": "execute_result"
    }
   ],
   "source": [
    "X_train.shape"
   ]
  },
  {
   "cell_type": "code",
   "execution_count": 1056,
   "id": "253a6ebc",
   "metadata": {
    "ExecuteTime": {
     "end_time": "2024-01-20T14:16:20.552299Z",
     "start_time": "2024-01-20T14:16:20.536056Z"
    }
   },
   "outputs": [
    {
     "data": {
      "text/html": [
       "<div>\n",
       "<style scoped>\n",
       "    .dataframe tbody tr th:only-of-type {\n",
       "        vertical-align: middle;\n",
       "    }\n",
       "\n",
       "    .dataframe tbody tr th {\n",
       "        vertical-align: top;\n",
       "    }\n",
       "\n",
       "    .dataframe thead th {\n",
       "        text-align: right;\n",
       "    }\n",
       "</style>\n",
       "<table border=\"1\" class=\"dataframe\">\n",
       "  <thead>\n",
       "    <tr style=\"text-align: right;\">\n",
       "      <th></th>\n",
       "      <th>0</th>\n",
       "    </tr>\n",
       "  </thead>\n",
       "  <tbody>\n",
       "    <tr>\n",
       "      <th>6365</th>\n",
       "      <td>14</td>\n",
       "    </tr>\n",
       "    <tr>\n",
       "      <th>157</th>\n",
       "      <td>2</td>\n",
       "    </tr>\n",
       "    <tr>\n",
       "      <th>6965</th>\n",
       "      <td>6</td>\n",
       "    </tr>\n",
       "    <tr>\n",
       "      <th>6350</th>\n",
       "      <td>14</td>\n",
       "    </tr>\n",
       "    <tr>\n",
       "      <th>1441</th>\n",
       "      <td>6</td>\n",
       "    </tr>\n",
       "    <tr>\n",
       "      <th>...</th>\n",
       "      <td>...</td>\n",
       "    </tr>\n",
       "    <tr>\n",
       "      <th>5734</th>\n",
       "      <td>10</td>\n",
       "    </tr>\n",
       "    <tr>\n",
       "      <th>5191</th>\n",
       "      <td>2</td>\n",
       "    </tr>\n",
       "    <tr>\n",
       "      <th>5390</th>\n",
       "      <td>10</td>\n",
       "    </tr>\n",
       "    <tr>\n",
       "      <th>860</th>\n",
       "      <td>16</td>\n",
       "    </tr>\n",
       "    <tr>\n",
       "      <th>7270</th>\n",
       "      <td>14</td>\n",
       "    </tr>\n",
       "  </tbody>\n",
       "</table>\n",
       "<p>8732 rows × 1 columns</p>\n",
       "</div>"
      ],
      "text/plain": [
       "       0\n",
       "6365  14\n",
       "157    2\n",
       "6965   6\n",
       "6350  14\n",
       "1441   6\n",
       "...   ..\n",
       "5734  10\n",
       "5191   2\n",
       "5390  10\n",
       "860   16\n",
       "7270  14\n",
       "\n",
       "[8732 rows x 1 columns]"
      ]
     },
     "execution_count": 1056,
     "metadata": {},
     "output_type": "execute_result"
    }
   ],
   "source": [
    "y_train"
   ]
  },
  {
   "cell_type": "code",
   "execution_count": 1057,
   "id": "cb630d0f",
   "metadata": {
    "ExecuteTime": {
     "end_time": "2024-01-20T14:16:21.187844Z",
     "start_time": "2024-01-20T14:16:21.182843Z"
    }
   },
   "outputs": [
    {
     "data": {
      "text/plain": [
       "array([[14],\n",
       "       [ 2],\n",
       "       [ 6],\n",
       "       ...,\n",
       "       [10],\n",
       "       [16],\n",
       "       [14]])"
      ]
     },
     "execution_count": 1057,
     "metadata": {},
     "output_type": "execute_result"
    }
   ],
   "source": [
    "y_train.values"
   ]
  },
  {
   "cell_type": "code",
   "execution_count": 1058,
   "id": "2213038d",
   "metadata": {
    "ExecuteTime": {
     "end_time": "2024-01-20T14:16:21.898723Z",
     "start_time": "2024-01-20T14:16:21.857720Z"
    }
   },
   "outputs": [
    {
     "data": {
      "text/html": [
       "<div>\n",
       "<style scoped>\n",
       "    .dataframe tbody tr th:only-of-type {\n",
       "        vertical-align: middle;\n",
       "    }\n",
       "\n",
       "    .dataframe tbody tr th {\n",
       "        vertical-align: top;\n",
       "    }\n",
       "\n",
       "    .dataframe thead th {\n",
       "        text-align: right;\n",
       "    }\n",
       "</style>\n",
       "<table border=\"1\" class=\"dataframe\">\n",
       "  <thead>\n",
       "    <tr style=\"text-align: right;\">\n",
       "      <th></th>\n",
       "      <th>0</th>\n",
       "      <th>1</th>\n",
       "      <th>2</th>\n",
       "      <th>3</th>\n",
       "      <th>4</th>\n",
       "      <th>5</th>\n",
       "      <th>6</th>\n",
       "      <th>7</th>\n",
       "      <th>8</th>\n",
       "      <th>9</th>\n",
       "      <th>...</th>\n",
       "      <th>190</th>\n",
       "      <th>191</th>\n",
       "      <th>192</th>\n",
       "      <th>193</th>\n",
       "      <th>194</th>\n",
       "      <th>195</th>\n",
       "      <th>196</th>\n",
       "      <th>197</th>\n",
       "      <th>198</th>\n",
       "      <th>199</th>\n",
       "    </tr>\n",
       "  </thead>\n",
       "  <tbody>\n",
       "    <tr>\n",
       "      <th>6365</th>\n",
       "      <td>0.001412</td>\n",
       "      <td>-0.089413</td>\n",
       "      <td>-0.031683</td>\n",
       "      <td>-0.037935</td>\n",
       "      <td>0.048329</td>\n",
       "      <td>0.035798</td>\n",
       "      <td>-0.091298</td>\n",
       "      <td>0.048741</td>\n",
       "      <td>0.032696</td>\n",
       "      <td>0.187209</td>\n",
       "      <td>...</td>\n",
       "      <td>-0.022593</td>\n",
       "      <td>0.096359</td>\n",
       "      <td>-0.080201</td>\n",
       "      <td>0.085936</td>\n",
       "      <td>0.189702</td>\n",
       "      <td>0.076096</td>\n",
       "      <td>-0.020128</td>\n",
       "      <td>-0.063999</td>\n",
       "      <td>0.012825</td>\n",
       "      <td>-0.098637</td>\n",
       "    </tr>\n",
       "    <tr>\n",
       "      <th>157</th>\n",
       "      <td>-0.037040</td>\n",
       "      <td>-0.126159</td>\n",
       "      <td>0.038250</td>\n",
       "      <td>0.026683</td>\n",
       "      <td>0.147097</td>\n",
       "      <td>-0.025424</td>\n",
       "      <td>-0.025752</td>\n",
       "      <td>-0.047796</td>\n",
       "      <td>0.082644</td>\n",
       "      <td>0.147009</td>\n",
       "      <td>...</td>\n",
       "      <td>-0.149758</td>\n",
       "      <td>0.045411</td>\n",
       "      <td>-0.025539</td>\n",
       "      <td>0.055908</td>\n",
       "      <td>0.151813</td>\n",
       "      <td>0.074059</td>\n",
       "      <td>-0.013114</td>\n",
       "      <td>-0.068665</td>\n",
       "      <td>-0.146725</td>\n",
       "      <td>-0.106927</td>\n",
       "    </tr>\n",
       "    <tr>\n",
       "      <th>6965</th>\n",
       "      <td>0.136765</td>\n",
       "      <td>-0.073840</td>\n",
       "      <td>-0.003237</td>\n",
       "      <td>-0.054402</td>\n",
       "      <td>0.053695</td>\n",
       "      <td>-0.120054</td>\n",
       "      <td>-0.066894</td>\n",
       "      <td>0.066666</td>\n",
       "      <td>-0.066535</td>\n",
       "      <td>0.121522</td>\n",
       "      <td>...</td>\n",
       "      <td>-0.080405</td>\n",
       "      <td>0.042612</td>\n",
       "      <td>-0.030535</td>\n",
       "      <td>-0.029383</td>\n",
       "      <td>0.188531</td>\n",
       "      <td>-0.081600</td>\n",
       "      <td>0.035540</td>\n",
       "      <td>-0.124430</td>\n",
       "      <td>-0.054410</td>\n",
       "      <td>-0.029841</td>\n",
       "    </tr>\n",
       "    <tr>\n",
       "      <th>6350</th>\n",
       "      <td>-0.000632</td>\n",
       "      <td>-0.079695</td>\n",
       "      <td>-0.060020</td>\n",
       "      <td>0.036223</td>\n",
       "      <td>0.069463</td>\n",
       "      <td>-0.011242</td>\n",
       "      <td>-0.001459</td>\n",
       "      <td>0.082717</td>\n",
       "      <td>-0.023628</td>\n",
       "      <td>0.157795</td>\n",
       "      <td>...</td>\n",
       "      <td>-0.112721</td>\n",
       "      <td>0.068678</td>\n",
       "      <td>-0.090521</td>\n",
       "      <td>0.032235</td>\n",
       "      <td>0.183178</td>\n",
       "      <td>0.041957</td>\n",
       "      <td>-0.022084</td>\n",
       "      <td>-0.085274</td>\n",
       "      <td>-0.075738</td>\n",
       "      <td>-0.077661</td>\n",
       "    </tr>\n",
       "    <tr>\n",
       "      <th>1441</th>\n",
       "      <td>0.042041</td>\n",
       "      <td>-0.027076</td>\n",
       "      <td>-0.001995</td>\n",
       "      <td>-0.019110</td>\n",
       "      <td>0.069002</td>\n",
       "      <td>-0.054939</td>\n",
       "      <td>-0.087535</td>\n",
       "      <td>0.045370</td>\n",
       "      <td>-0.058216</td>\n",
       "      <td>0.082405</td>\n",
       "      <td>...</td>\n",
       "      <td>-0.092332</td>\n",
       "      <td>0.038480</td>\n",
       "      <td>-0.027622</td>\n",
       "      <td>-0.012296</td>\n",
       "      <td>0.195847</td>\n",
       "      <td>-0.009623</td>\n",
       "      <td>-0.009901</td>\n",
       "      <td>-0.156496</td>\n",
       "      <td>-0.046219</td>\n",
       "      <td>-0.039477</td>\n",
       "    </tr>\n",
       "    <tr>\n",
       "      <th>...</th>\n",
       "      <td>...</td>\n",
       "      <td>...</td>\n",
       "      <td>...</td>\n",
       "      <td>...</td>\n",
       "      <td>...</td>\n",
       "      <td>...</td>\n",
       "      <td>...</td>\n",
       "      <td>...</td>\n",
       "      <td>...</td>\n",
       "      <td>...</td>\n",
       "      <td>...</td>\n",
       "      <td>...</td>\n",
       "      <td>...</td>\n",
       "      <td>...</td>\n",
       "      <td>...</td>\n",
       "      <td>...</td>\n",
       "      <td>...</td>\n",
       "      <td>...</td>\n",
       "      <td>...</td>\n",
       "      <td>...</td>\n",
       "      <td>...</td>\n",
       "    </tr>\n",
       "    <tr>\n",
       "      <th>5734</th>\n",
       "      <td>0.040580</td>\n",
       "      <td>-0.027789</td>\n",
       "      <td>-0.064452</td>\n",
       "      <td>0.005701</td>\n",
       "      <td>0.062619</td>\n",
       "      <td>-0.024159</td>\n",
       "      <td>-0.031394</td>\n",
       "      <td>0.098202</td>\n",
       "      <td>-0.044198</td>\n",
       "      <td>0.151025</td>\n",
       "      <td>...</td>\n",
       "      <td>-0.091051</td>\n",
       "      <td>0.033429</td>\n",
       "      <td>-0.055286</td>\n",
       "      <td>0.172773</td>\n",
       "      <td>0.174162</td>\n",
       "      <td>0.079230</td>\n",
       "      <td>-0.033152</td>\n",
       "      <td>-0.020471</td>\n",
       "      <td>-0.081181</td>\n",
       "      <td>-0.109213</td>\n",
       "    </tr>\n",
       "    <tr>\n",
       "      <th>5191</th>\n",
       "      <td>0.060948</td>\n",
       "      <td>-0.050229</td>\n",
       "      <td>-0.032799</td>\n",
       "      <td>0.005161</td>\n",
       "      <td>0.045406</td>\n",
       "      <td>-0.011394</td>\n",
       "      <td>-0.062449</td>\n",
       "      <td>0.019146</td>\n",
       "      <td>0.060947</td>\n",
       "      <td>0.074583</td>\n",
       "      <td>...</td>\n",
       "      <td>-0.058806</td>\n",
       "      <td>0.037037</td>\n",
       "      <td>0.007057</td>\n",
       "      <td>-0.050395</td>\n",
       "      <td>0.211013</td>\n",
       "      <td>0.047149</td>\n",
       "      <td>-0.075033</td>\n",
       "      <td>-0.164042</td>\n",
       "      <td>-0.011013</td>\n",
       "      <td>-0.026902</td>\n",
       "    </tr>\n",
       "    <tr>\n",
       "      <th>5390</th>\n",
       "      <td>0.015057</td>\n",
       "      <td>-0.055502</td>\n",
       "      <td>-0.063917</td>\n",
       "      <td>-0.013218</td>\n",
       "      <td>0.086386</td>\n",
       "      <td>-0.017557</td>\n",
       "      <td>-0.090962</td>\n",
       "      <td>0.049156</td>\n",
       "      <td>-0.030447</td>\n",
       "      <td>0.207109</td>\n",
       "      <td>...</td>\n",
       "      <td>-0.049640</td>\n",
       "      <td>0.091536</td>\n",
       "      <td>-0.004806</td>\n",
       "      <td>0.134578</td>\n",
       "      <td>0.176140</td>\n",
       "      <td>-0.021786</td>\n",
       "      <td>-0.012576</td>\n",
       "      <td>-0.016673</td>\n",
       "      <td>-0.012468</td>\n",
       "      <td>-0.078947</td>\n",
       "    </tr>\n",
       "    <tr>\n",
       "      <th>860</th>\n",
       "      <td>0.027982</td>\n",
       "      <td>0.031712</td>\n",
       "      <td>-0.046716</td>\n",
       "      <td>-0.025009</td>\n",
       "      <td>0.058137</td>\n",
       "      <td>-0.027454</td>\n",
       "      <td>-0.052175</td>\n",
       "      <td>0.028343</td>\n",
       "      <td>-0.050664</td>\n",
       "      <td>0.153243</td>\n",
       "      <td>...</td>\n",
       "      <td>-0.162377</td>\n",
       "      <td>0.050882</td>\n",
       "      <td>-0.046641</td>\n",
       "      <td>0.146590</td>\n",
       "      <td>0.154606</td>\n",
       "      <td>-0.092813</td>\n",
       "      <td>0.000621</td>\n",
       "      <td>-0.074791</td>\n",
       "      <td>-0.087474</td>\n",
       "      <td>-0.067671</td>\n",
       "    </tr>\n",
       "    <tr>\n",
       "      <th>7270</th>\n",
       "      <td>0.077815</td>\n",
       "      <td>-0.105687</td>\n",
       "      <td>-0.061519</td>\n",
       "      <td>-0.004802</td>\n",
       "      <td>0.115827</td>\n",
       "      <td>-0.079969</td>\n",
       "      <td>-0.072706</td>\n",
       "      <td>0.116700</td>\n",
       "      <td>0.010500</td>\n",
       "      <td>0.125640</td>\n",
       "      <td>...</td>\n",
       "      <td>-0.033518</td>\n",
       "      <td>0.038296</td>\n",
       "      <td>-0.105259</td>\n",
       "      <td>0.068016</td>\n",
       "      <td>0.172168</td>\n",
       "      <td>0.122565</td>\n",
       "      <td>-0.066565</td>\n",
       "      <td>-0.110679</td>\n",
       "      <td>-0.035979</td>\n",
       "      <td>-0.097319</td>\n",
       "    </tr>\n",
       "  </tbody>\n",
       "</table>\n",
       "<p>8732 rows × 200 columns</p>\n",
       "</div>"
      ],
      "text/plain": [
       "           0         1         2         3         4         5         6    \\\n",
       "6365  0.001412 -0.089413 -0.031683 -0.037935  0.048329  0.035798 -0.091298   \n",
       "157  -0.037040 -0.126159  0.038250  0.026683  0.147097 -0.025424 -0.025752   \n",
       "6965  0.136765 -0.073840 -0.003237 -0.054402  0.053695 -0.120054 -0.066894   \n",
       "6350 -0.000632 -0.079695 -0.060020  0.036223  0.069463 -0.011242 -0.001459   \n",
       "1441  0.042041 -0.027076 -0.001995 -0.019110  0.069002 -0.054939 -0.087535   \n",
       "...        ...       ...       ...       ...       ...       ...       ...   \n",
       "5734  0.040580 -0.027789 -0.064452  0.005701  0.062619 -0.024159 -0.031394   \n",
       "5191  0.060948 -0.050229 -0.032799  0.005161  0.045406 -0.011394 -0.062449   \n",
       "5390  0.015057 -0.055502 -0.063917 -0.013218  0.086386 -0.017557 -0.090962   \n",
       "860   0.027982  0.031712 -0.046716 -0.025009  0.058137 -0.027454 -0.052175   \n",
       "7270  0.077815 -0.105687 -0.061519 -0.004802  0.115827 -0.079969 -0.072706   \n",
       "\n",
       "           7         8         9    ...       190       191       192  \\\n",
       "6365  0.048741  0.032696  0.187209  ... -0.022593  0.096359 -0.080201   \n",
       "157  -0.047796  0.082644  0.147009  ... -0.149758  0.045411 -0.025539   \n",
       "6965  0.066666 -0.066535  0.121522  ... -0.080405  0.042612 -0.030535   \n",
       "6350  0.082717 -0.023628  0.157795  ... -0.112721  0.068678 -0.090521   \n",
       "1441  0.045370 -0.058216  0.082405  ... -0.092332  0.038480 -0.027622   \n",
       "...        ...       ...       ...  ...       ...       ...       ...   \n",
       "5734  0.098202 -0.044198  0.151025  ... -0.091051  0.033429 -0.055286   \n",
       "5191  0.019146  0.060947  0.074583  ... -0.058806  0.037037  0.007057   \n",
       "5390  0.049156 -0.030447  0.207109  ... -0.049640  0.091536 -0.004806   \n",
       "860   0.028343 -0.050664  0.153243  ... -0.162377  0.050882 -0.046641   \n",
       "7270  0.116700  0.010500  0.125640  ... -0.033518  0.038296 -0.105259   \n",
       "\n",
       "           193       194       195       196       197       198       199  \n",
       "6365  0.085936  0.189702  0.076096 -0.020128 -0.063999  0.012825 -0.098637  \n",
       "157   0.055908  0.151813  0.074059 -0.013114 -0.068665 -0.146725 -0.106927  \n",
       "6965 -0.029383  0.188531 -0.081600  0.035540 -0.124430 -0.054410 -0.029841  \n",
       "6350  0.032235  0.183178  0.041957 -0.022084 -0.085274 -0.075738 -0.077661  \n",
       "1441 -0.012296  0.195847 -0.009623 -0.009901 -0.156496 -0.046219 -0.039477  \n",
       "...        ...       ...       ...       ...       ...       ...       ...  \n",
       "5734  0.172773  0.174162  0.079230 -0.033152 -0.020471 -0.081181 -0.109213  \n",
       "5191 -0.050395  0.211013  0.047149 -0.075033 -0.164042 -0.011013 -0.026902  \n",
       "5390  0.134578  0.176140 -0.021786 -0.012576 -0.016673 -0.012468 -0.078947  \n",
       "860   0.146590  0.154606 -0.092813  0.000621 -0.074791 -0.087474 -0.067671  \n",
       "7270  0.068016  0.172168  0.122565 -0.066565 -0.110679 -0.035979 -0.097319  \n",
       "\n",
       "[8732 rows x 200 columns]"
      ]
     },
     "execution_count": 1058,
     "metadata": {},
     "output_type": "execute_result"
    }
   ],
   "source": [
    "X_train"
   ]
  },
  {
   "cell_type": "code",
   "execution_count": 1059,
   "id": "f5b5b850",
   "metadata": {
    "ExecuteTime": {
     "end_time": "2024-01-20T14:16:22.610288Z",
     "start_time": "2024-01-20T14:16:22.601170Z"
    }
   },
   "outputs": [
    {
     "data": {
      "text/plain": [
       "(8732, 200)"
      ]
     },
     "execution_count": 1059,
     "metadata": {},
     "output_type": "execute_result"
    }
   ],
   "source": [
    "X_train.shape"
   ]
  },
  {
   "cell_type": "code",
   "execution_count": 1060,
   "id": "54919177",
   "metadata": {
    "ExecuteTime": {
     "end_time": "2024-01-20T14:16:23.398860Z",
     "start_time": "2024-01-20T14:16:23.390263Z"
    }
   },
   "outputs": [],
   "source": [
    "y_train1 = to_categorical(y_train)"
   ]
  },
  {
   "cell_type": "code",
   "execution_count": 1061,
   "id": "5063921c",
   "metadata": {
    "ExecuteTime": {
     "end_time": "2024-01-20T14:16:24.698487Z",
     "start_time": "2024-01-20T14:16:24.688960Z"
    }
   },
   "outputs": [],
   "source": [
    "y_test1 = to_categorical(y_test)"
   ]
  },
  {
   "cell_type": "code",
   "execution_count": 1062,
   "id": "09d8895f",
   "metadata": {
    "ExecuteTime": {
     "end_time": "2024-01-20T14:16:25.215404Z",
     "start_time": "2024-01-20T14:16:25.206189Z"
    }
   },
   "outputs": [
    {
     "data": {
      "text/plain": [
       "array([[0., 0., 0., ..., 1., 0., 0.],\n",
       "       [0., 0., 1., ..., 0., 0., 0.],\n",
       "       [0., 0., 0., ..., 0., 0., 0.],\n",
       "       ...,\n",
       "       [0., 0., 0., ..., 0., 0., 0.],\n",
       "       [0., 0., 0., ..., 0., 0., 1.],\n",
       "       [0., 0., 0., ..., 1., 0., 0.]], dtype=float32)"
      ]
     },
     "execution_count": 1062,
     "metadata": {},
     "output_type": "execute_result"
    }
   ],
   "source": [
    "y_train1"
   ]
  },
  {
   "cell_type": "code",
   "execution_count": 1063,
   "id": "80372d36",
   "metadata": {
    "ExecuteTime": {
     "end_time": "2024-01-20T14:16:25.787059Z",
     "start_time": "2024-01-20T14:16:25.783059Z"
    }
   },
   "outputs": [],
   "source": [
    "X_val = X_train[7859:]\n",
    "y_val = y_train1[7859:]"
   ]
  },
  {
   "cell_type": "markdown",
   "id": "42b71991",
   "metadata": {},
   "source": [
    "## MODEL"
   ]
  },
  {
   "cell_type": "code",
   "execution_count": 31,
   "id": "bdc4e3f6",
   "metadata": {
    "ExecuteTime": {
     "end_time": "2024-01-20T12:25:18.234855Z",
     "start_time": "2024-01-20T12:25:18.231310Z"
    }
   },
   "outputs": [],
   "source": [
    "in_dim = 200"
   ]
  },
  {
   "cell_type": "code",
   "execution_count": 32,
   "id": "40f05f01",
   "metadata": {
    "ExecuteTime": {
     "end_time": "2024-01-20T12:25:18.721854Z",
     "start_time": "2024-01-20T12:25:18.717046Z"
    }
   },
   "outputs": [],
   "source": [
    "jazz_size = 32"
   ]
  },
  {
   "cell_type": "code",
   "execution_count": 258,
   "id": "ca229892",
   "metadata": {
    "ExecuteTime": {
     "end_time": "2024-01-20T12:41:44.612088Z",
     "start_time": "2024-01-20T12:41:44.605812Z"
    }
   },
   "outputs": [],
   "source": [
    "tot_layers = 600"
   ]
  },
  {
   "cell_type": "code",
   "execution_count": 259,
   "id": "6198051d",
   "metadata": {
    "ExecuteTime": {
     "end_time": "2024-01-20T12:41:45.200139Z",
     "start_time": "2024-01-20T12:41:45.191117Z"
    }
   },
   "outputs": [
    {
     "data": {
      "text/plain": [
       "400"
      ]
     },
     "execution_count": 259,
     "metadata": {},
     "output_type": "execute_result"
    }
   ],
   "source": [
    "(tot_layers//3)*2"
   ]
  },
  {
   "cell_type": "code",
   "execution_count": 260,
   "id": "c4257314",
   "metadata": {
    "ExecuteTime": {
     "end_time": "2024-01-20T12:42:03.851468Z",
     "start_time": "2024-01-20T12:42:03.685783Z"
    }
   },
   "outputs": [],
   "source": [
    "model = Sequential()\n",
    "model.add(Dense(tot_layers ,input_dim=in_dim,activation = \"relu\"))\n",
    "model.add(Dense(300,activation = \"relu\"))\n",
    "model.add(Dense(150,activation = \"relu\"))\n",
    "model.add(Dense(80,activation = \"relu\"))\n",
    "model.add(Dense(40,activation = \"relu\"))\n",
    "#model.add(Dense(30,activation = \"leaky_relu\"))\n",
    "model.add(Dense(20,activation = \"relu\"))\n",
    "model.add(Dense(17,activation = \"softmax\")) "
   ]
  },
  {
   "cell_type": "code",
   "execution_count": 261,
   "id": "1c0068a4",
   "metadata": {
    "ExecuteTime": {
     "end_time": "2024-01-20T12:42:05.091065Z",
     "start_time": "2024-01-20T12:42:05.079065Z"
    }
   },
   "outputs": [],
   "source": [
    "opt = tf.keras.optimizers.AdamW(learning_rate =0.007 , beta_1=0.9,\n",
    "    beta_2=0.999,\n",
    "    use_ema=True,\n",
    "    ema_momentum=0.99)"
   ]
  },
  {
   "cell_type": "code",
   "execution_count": 262,
   "id": "ba1afd68",
   "metadata": {
    "ExecuteTime": {
     "end_time": "2024-01-20T12:42:05.929874Z",
     "start_time": "2024-01-20T12:42:05.893156Z"
    }
   },
   "outputs": [],
   "source": [
    "model.compile(optimizer = opt , \n",
    "              loss = 'categorical_crossentropy' ,\n",
    "              metrics=[tf.keras.metrics.BinaryAccuracy(name='accuracy'),\n",
    "                       tf.keras.metrics.Precision(name='precision'),\n",
    "                       tf.keras.metrics.Recall(name='recall')])"
   ]
  },
  {
   "cell_type": "code",
   "execution_count": 263,
   "id": "af0d712e",
   "metadata": {
    "ExecuteTime": {
     "end_time": "2024-01-20T12:42:34.122427Z",
     "start_time": "2024-01-20T12:42:06.542911Z"
    }
   },
   "outputs": [
    {
     "name": "stdout",
     "output_type": "stream",
     "text": [
      "Epoch 1/10\n",
      "524/524 [==============================] - 5s 5ms/step - loss: 2.7890 - accuracy: 0.9411 - precision: 0.2000 - recall: 3.8173e-04 - val_loss: 2.7686 - val_accuracy: 0.9412 - val_precision: 0.0000e+00 - val_recall: 0.0000e+00\n",
      "Epoch 2/10\n",
      "524/524 [==============================] - 2s 5ms/step - loss: 2.7748 - accuracy: 0.9412 - precision: 0.0000e+00 - recall: 0.0000e+00 - val_loss: 2.7653 - val_accuracy: 0.9412 - val_precision: 0.0000e+00 - val_recall: 0.0000e+00\n",
      "Epoch 3/10\n",
      "524/524 [==============================] - 2s 4ms/step - loss: 2.7747 - accuracy: 0.9412 - precision: 0.0000e+00 - recall: 0.0000e+00 - val_loss: 2.7697 - val_accuracy: 0.9412 - val_precision: 0.0000e+00 - val_recall: 0.0000e+00\n",
      "Epoch 4/10\n",
      "524/524 [==============================] - 2s 4ms/step - loss: 2.7739 - accuracy: 0.9412 - precision: 0.0000e+00 - recall: 0.0000e+00 - val_loss: 2.7690 - val_accuracy: 0.9412 - val_precision: 0.0000e+00 - val_recall: 0.0000e+00\n",
      "Epoch 5/10\n",
      "524/524 [==============================] - 2s 5ms/step - loss: 2.7737 - accuracy: 0.9412 - precision: 0.0000e+00 - recall: 0.0000e+00 - val_loss: 2.7678 - val_accuracy: 0.9412 - val_precision: 0.0000e+00 - val_recall: 0.0000e+00\n",
      "Epoch 6/10\n",
      "524/524 [==============================] - 2s 4ms/step - loss: 2.7740 - accuracy: 0.9412 - precision: 0.0000e+00 - recall: 0.0000e+00 - val_loss: 2.7674 - val_accuracy: 0.9412 - val_precision: 0.0000e+00 - val_recall: 0.0000e+00\n",
      "Epoch 7/10\n",
      "524/524 [==============================] - 2s 4ms/step - loss: 2.7734 - accuracy: 0.9412 - precision: 0.0000e+00 - recall: 0.0000e+00 - val_loss: 2.7682 - val_accuracy: 0.9412 - val_precision: 0.0000e+00 - val_recall: 0.0000e+00\n",
      "Epoch 8/10\n",
      "524/524 [==============================] - 3s 5ms/step - loss: 2.7740 - accuracy: 0.9412 - precision: 0.0000e+00 - recall: 0.0000e+00 - val_loss: 2.7710 - val_accuracy: 0.9412 - val_precision: 0.0000e+00 - val_recall: 0.0000e+00\n",
      "Epoch 9/10\n",
      "524/524 [==============================] - 3s 5ms/step - loss: 2.7733 - accuracy: 0.9412 - precision: 0.0000e+00 - recall: 0.0000e+00 - val_loss: 2.7695 - val_accuracy: 0.9412 - val_precision: 0.0000e+00 - val_recall: 0.0000e+00\n",
      "Epoch 10/10\n",
      "524/524 [==============================] - 3s 5ms/step - loss: 2.7731 - accuracy: 0.9412 - precision: 0.0000e+00 - recall: 0.0000e+00 - val_loss: 2.7705 - val_accuracy: 0.9412 - val_precision: 0.0000e+00 - val_recall: 0.0000e+00\n"
     ]
    },
    {
     "data": {
      "text/plain": [
       "<keras.src.callbacks.History at 0x19019236c50>"
      ]
     },
     "execution_count": 263,
     "metadata": {},
     "output_type": "execute_result"
    }
   ],
   "source": [
    "model.fit(X_train[:7859] , y_train1[:7859] , batch_size = 15 , epochs = 10 , validation_data=(X_val,y_val) ,verbose =1)"
   ]
  },
  {
   "cell_type": "code",
   "execution_count": 243,
   "id": "e506a317",
   "metadata": {
    "ExecuteTime": {
     "end_time": "2024-01-20T12:40:59.588596Z",
     "start_time": "2024-01-20T12:40:59.543593Z"
    }
   },
   "outputs": [
    {
     "name": "stdout",
     "output_type": "stream",
     "text": [
      "Model: \"sequential_7\"\n",
      "_________________________________________________________________\n",
      " Layer (type)                Output Shape              Param #   \n",
      "=================================================================\n",
      " dense_71 (Dense)            (None, 450)               90450     \n",
      "                                                                 \n",
      " dense_72 (Dense)            (None, 300)               135300    \n",
      "                                                                 \n",
      " dense_73 (Dense)            (None, 180)               54180     \n",
      "                                                                 \n",
      " dense_74 (Dense)            (None, 120)               21720     \n",
      "                                                                 \n",
      " dense_75 (Dense)            (None, 60)                7260      \n",
      "                                                                 \n",
      " dense_76 (Dense)            (None, 50)                3050      \n",
      "                                                                 \n",
      " dense_77 (Dense)            (None, 40)                2040      \n",
      "                                                                 \n",
      " dense_78 (Dense)            (None, 30)                1230      \n",
      "                                                                 \n",
      " dense_79 (Dense)            (None, 20)                620       \n",
      "                                                                 \n",
      " dense_80 (Dense)            (None, 17)                357       \n",
      "                                                                 \n",
      "=================================================================\n",
      "Total params: 316207 (1.21 MB)\n",
      "Trainable params: 316207 (1.21 MB)\n",
      "Non-trainable params: 0 (0.00 Byte)\n",
      "_________________________________________________________________\n"
     ]
    }
   ],
   "source": [
    "model.summary()"
   ]
  },
  {
   "cell_type": "code",
   "execution_count": 244,
   "id": "05105528",
   "metadata": {
    "ExecuteTime": {
     "end_time": "2024-01-20T12:41:00.802277Z",
     "start_time": "2024-01-20T12:41:00.474661Z"
    }
   },
   "outputs": [
    {
     "name": "stdout",
     "output_type": "stream",
     "text": [
      "69/69 [==============================] - 0s 3ms/step - loss: 2.7828 - accuracy: 0.9412 - precision: 0.0000e+00 - recall: 0.0000e+00\n",
      "\n",
      "loss: 2.783\n",
      "\n",
      "accuracy: 0.941\n",
      "\n",
      "precision: 0.000\n",
      "\n",
      "recall: 0.000\n"
     ]
    }
   ],
   "source": [
    "scores = model.evaluate(X_test, y_test1)\n",
    "\n",
    "for i, m in enumerate(model.metrics_names):\n",
    "    print(\"\\n%s: %.3f\"% (m, scores[i]))"
   ]
  },
  {
   "cell_type": "code",
   "execution_count": 245,
   "id": "4edc3a9b",
   "metadata": {
    "ExecuteTime": {
     "end_time": "2024-01-20T12:41:01.975143Z",
     "start_time": "2024-01-20T12:41:01.967482Z"
    }
   },
   "outputs": [],
   "source": [
    "from sklearn.metrics import classification_report, confusion_matrix"
   ]
  },
  {
   "cell_type": "code",
   "execution_count": 246,
   "id": "e1febed1",
   "metadata": {
    "ExecuteTime": {
     "end_time": "2024-01-20T12:41:03.208637Z",
     "start_time": "2024-01-20T12:41:02.710601Z"
    }
   },
   "outputs": [
    {
     "name": "stdout",
     "output_type": "stream",
     "text": [
      "69/69 [==============================] - 0s 3ms/step\n"
     ]
    }
   ],
   "source": [
    "predictions = np.argmax(model.predict(X_test), axis=-1)"
   ]
  },
  {
   "cell_type": "code",
   "execution_count": 247,
   "id": "cb395b3c",
   "metadata": {
    "ExecuteTime": {
     "end_time": "2024-01-20T12:41:05.468625Z",
     "start_time": "2024-01-20T12:41:05.456087Z"
    }
   },
   "outputs": [
    {
     "data": {
      "text/plain": [
       "array([14, 14, 14, ..., 14, 14, 14], dtype=int64)"
      ]
     },
     "execution_count": 247,
     "metadata": {},
     "output_type": "execute_result"
    }
   ],
   "source": [
    "predictions"
   ]
  },
  {
   "cell_type": "code",
   "execution_count": 248,
   "id": "3341daec",
   "metadata": {
    "ExecuteTime": {
     "end_time": "2024-01-20T12:41:06.340432Z",
     "start_time": "2024-01-20T12:41:06.334462Z"
    }
   },
   "outputs": [
    {
     "data": {
      "text/plain": [
       "2183"
      ]
     },
     "execution_count": 248,
     "metadata": {},
     "output_type": "execute_result"
    }
   ],
   "source": [
    "len(predictions)"
   ]
  },
  {
   "cell_type": "code",
   "execution_count": 249,
   "id": "790577a6",
   "metadata": {
    "ExecuteTime": {
     "end_time": "2024-01-20T12:41:06.869232Z",
     "start_time": "2024-01-20T12:41:06.860263Z"
    }
   },
   "outputs": [
    {
     "data": {
      "text/plain": [
       "(2183, 1)"
      ]
     },
     "execution_count": 249,
     "metadata": {},
     "output_type": "execute_result"
    }
   ],
   "source": [
    "y_test.shape"
   ]
  },
  {
   "cell_type": "code",
   "execution_count": 250,
   "id": "23c5e829",
   "metadata": {
    "ExecuteTime": {
     "end_time": "2024-01-20T12:41:07.265943Z",
     "start_time": "2024-01-20T12:41:07.258528Z"
    }
   },
   "outputs": [
    {
     "data": {
      "text/plain": [
       "array([[14],\n",
       "       [ 1],\n",
       "       [16],\n",
       "       ...,\n",
       "       [11],\n",
       "       [14],\n",
       "       [12]])"
      ]
     },
     "execution_count": 250,
     "metadata": {},
     "output_type": "execute_result"
    }
   ],
   "source": [
    "y_test.values"
   ]
  },
  {
   "cell_type": "code",
   "execution_count": 251,
   "id": "d44ef9d5",
   "metadata": {
    "ExecuteTime": {
     "end_time": "2024-01-20T12:41:07.807925Z",
     "start_time": "2024-01-20T12:41:07.770921Z"
    }
   },
   "outputs": [
    {
     "name": "stdout",
     "output_type": "stream",
     "text": [
      "              precision    recall  f1-score   support\n",
      "\n",
      "           0       0.00      0.00      0.00        68\n",
      "           1       0.00      0.00      0.00       176\n",
      "           2       0.00      0.00      0.00        97\n",
      "           3       0.00      0.00      0.00        90\n",
      "           4       0.00      0.00      0.00        93\n",
      "           5       0.00      0.00      0.00       108\n",
      "           6       0.00      0.00      0.00       126\n",
      "           7       0.00      0.00      0.00       136\n",
      "           8       0.00      0.00      0.00       122\n",
      "           9       0.00      0.00      0.00       155\n",
      "          10       0.00      0.00      0.00        61\n",
      "          11       0.00      0.00      0.00       172\n",
      "          12       0.00      0.00      0.00       182\n",
      "          13       0.00      0.00      0.00       151\n",
      "          14       0.09      1.00      0.17       200\n",
      "          15       0.00      0.00      0.00       169\n",
      "          16       0.00      0.00      0.00        77\n",
      "\n",
      "    accuracy                           0.09      2183\n",
      "   macro avg       0.01      0.06      0.01      2183\n",
      "weighted avg       0.01      0.09      0.02      2183\n",
      "\n"
     ]
    },
    {
     "name": "stderr",
     "output_type": "stream",
     "text": [
      "C:\\Users\\Desktop\\anaconda3\\Lib\\site-packages\\sklearn\\metrics\\_classification.py:1469: UndefinedMetricWarning: Precision and F-score are ill-defined and being set to 0.0 in labels with no predicted samples. Use `zero_division` parameter to control this behavior.\n",
      "  _warn_prf(average, modifier, msg_start, len(result))\n",
      "C:\\Users\\Desktop\\anaconda3\\Lib\\site-packages\\sklearn\\metrics\\_classification.py:1469: UndefinedMetricWarning: Precision and F-score are ill-defined and being set to 0.0 in labels with no predicted samples. Use `zero_division` parameter to control this behavior.\n",
      "  _warn_prf(average, modifier, msg_start, len(result))\n",
      "C:\\Users\\Desktop\\anaconda3\\Lib\\site-packages\\sklearn\\metrics\\_classification.py:1469: UndefinedMetricWarning: Precision and F-score are ill-defined and being set to 0.0 in labels with no predicted samples. Use `zero_division` parameter to control this behavior.\n",
      "  _warn_prf(average, modifier, msg_start, len(result))\n"
     ]
    }
   ],
   "source": [
    "print(classification_report(y_test.values , predictions))"
   ]
  },
  {
   "cell_type": "code",
   "execution_count": 252,
   "id": "639e6f37",
   "metadata": {
    "ExecuteTime": {
     "end_time": "2024-01-20T12:41:09.367554Z",
     "start_time": "2024-01-20T12:41:09.359553Z"
    }
   },
   "outputs": [],
   "source": [
    "from sklearn.metrics import f1_score, precision_score, recall_score"
   ]
  },
  {
   "cell_type": "code",
   "execution_count": 253,
   "id": "885a18c3",
   "metadata": {
    "ExecuteTime": {
     "end_time": "2024-01-20T12:41:09.701713Z",
     "start_time": "2024-01-20T12:41:09.681076Z"
    }
   },
   "outputs": [
    {
     "name": "stdout",
     "output_type": "stream",
     "text": [
      "Precision is 0.00538923769232842\n",
      "Recall is 0.058823529411764705\n",
      "F1: 0.009873861420354967\n"
     ]
    },
    {
     "name": "stderr",
     "output_type": "stream",
     "text": [
      "C:\\Users\\Desktop\\anaconda3\\Lib\\site-packages\\sklearn\\metrics\\_classification.py:1469: UndefinedMetricWarning: Precision is ill-defined and being set to 0.0 in labels with no predicted samples. Use `zero_division` parameter to control this behavior.\n",
      "  _warn_prf(average, modifier, msg_start, len(result))\n"
     ]
    }
   ],
   "source": [
    "    # Evaluating the model\n",
    "print('Precision is {}'.format(precision_score(y_test.values, predictions, average='macro')))\n",
    "print('Recall is {}'.format(recall_score(y_test.values, predictions, average='macro')))\n",
    "print('F1:', f1_score(y_test.values, predictions, average='macro'))"
   ]
  },
  {
   "cell_type": "code",
   "execution_count": null,
   "id": "2824bbc4",
   "metadata": {},
   "outputs": [],
   "source": []
  },
  {
   "cell_type": "markdown",
   "id": "96fce601",
   "metadata": {},
   "source": [
    "## MODEL 2"
   ]
  },
  {
   "cell_type": "code",
   "execution_count": 367,
   "id": "dbf75f64",
   "metadata": {
    "ExecuteTime": {
     "end_time": "2024-01-20T13:13:50.891678Z",
     "start_time": "2024-01-20T13:13:50.885590Z"
    }
   },
   "outputs": [],
   "source": [
    "from tensorflow.keras.layers import LSTM , Dropout"
   ]
  },
  {
   "cell_type": "code",
   "execution_count": 271,
   "id": "3e7ce3c8",
   "metadata": {
    "ExecuteTime": {
     "end_time": "2024-01-20T12:45:22.937063Z",
     "start_time": "2024-01-20T12:45:22.925061Z"
    }
   },
   "outputs": [],
   "source": [
    "# convert an array of values into a dataset matrix\n",
    "def create_dataset(dataset, look_back=1):\n",
    "    dataX, dataY = [], []\n",
    "    for i in range(len(dataset)-look_back-1):\n",
    "        a = dataset[i:(i+look_back), 0]\n",
    "        dataX.append(a)\n",
    "        dataY.append(dataset[i + look_back, 0])\n",
    "    return np.array(dataX), np.array(dataY)"
   ]
  },
  {
   "cell_type": "code",
   "execution_count": 275,
   "id": "67367d71",
   "metadata": {
    "ExecuteTime": {
     "end_time": "2024-01-20T12:46:36.685104Z",
     "start_time": "2024-01-20T12:46:36.638373Z"
    }
   },
   "outputs": [],
   "source": [
    "# reshape into X=t and Y=t+1\n",
    "look_back = 1\n",
    "trainX, trainY = create_dataset(X_train, look_back)\n",
    "testX, testY = create_dataset(X_test, look_back)\n",
    "valX, valY = create_dataset(X_val, look_back)"
   ]
  },
  {
   "cell_type": "code",
   "execution_count": 290,
   "id": "2d272824",
   "metadata": {
    "ExecuteTime": {
     "end_time": "2024-01-20T12:48:45.562726Z",
     "start_time": "2024-01-20T12:48:45.551019Z"
    }
   },
   "outputs": [
    {
     "data": {
      "text/plain": [
       "(8730,)"
      ]
     },
     "execution_count": 290,
     "metadata": {},
     "output_type": "execute_result"
    }
   ],
   "source": [
    "trainY.shape"
   ]
  },
  {
   "cell_type": "code",
   "execution_count": 293,
   "id": "ffa9c0e4",
   "metadata": {
    "ExecuteTime": {
     "end_time": "2024-01-20T12:50:18.511207Z",
     "start_time": "2024-01-20T12:50:18.500546Z"
    }
   },
   "outputs": [
    {
     "data": {
      "text/plain": [
       "(8732, 1)"
      ]
     },
     "execution_count": 293,
     "metadata": {},
     "output_type": "execute_result"
    }
   ],
   "source": [
    "y_train.shape"
   ]
  },
  {
   "cell_type": "code",
   "execution_count": 291,
   "id": "f17c82a4",
   "metadata": {
    "ExecuteTime": {
     "end_time": "2024-01-20T12:49:11.498692Z",
     "start_time": "2024-01-20T12:49:11.492172Z"
    }
   },
   "outputs": [
    {
     "data": {
      "text/plain": [
       "array([0.37080368, 0.70636785, 0.44109678, ..., 0.5599871 , 0.47138622,\n",
       "       0.49634132], dtype=float32)"
      ]
     },
     "execution_count": 291,
     "metadata": {},
     "output_type": "execute_result"
    }
   ],
   "source": [
    "trainY"
   ]
  },
  {
   "cell_type": "code",
   "execution_count": 326,
   "id": "381eeb5d",
   "metadata": {
    "ExecuteTime": {
     "end_time": "2024-01-20T12:59:32.734208Z",
     "start_time": "2024-01-20T12:59:32.726764Z"
    }
   },
   "outputs": [],
   "source": [
    "trainY = to_categorical(trainY)\n",
    "testY = to_categorical(testY)\n",
    "valY = to_categorical(valY)"
   ]
  },
  {
   "cell_type": "code",
   "execution_count": 327,
   "id": "bad4f26c",
   "metadata": {
    "ExecuteTime": {
     "end_time": "2024-01-20T12:59:33.498183Z",
     "start_time": "2024-01-20T12:59:33.487182Z"
    }
   },
   "outputs": [],
   "source": [
    "# reshape input to be [samples, time steps, features]\n",
    "trainX = np.reshape(trainX, (trainX.shape[0], 1, trainX.shape[1]))\n",
    "testX = np.reshape(testX, (testX.shape[0], 1, testX.shape[1]))\n",
    "valX = np.reshape(valX, (valX.shape[0], 1, valX.shape[1]))"
   ]
  },
  {
   "cell_type": "code",
   "execution_count": 337,
   "id": "e063d856",
   "metadata": {
    "ExecuteTime": {
     "end_time": "2024-01-20T13:00:29.049579Z",
     "start_time": "2024-01-20T13:00:29.041286Z"
    }
   },
   "outputs": [
    {
     "data": {
      "text/plain": [
       "array([[[0., 1.],\n",
       "        [1., 0.]],\n",
       "\n",
       "       [[0., 1.],\n",
       "        [1., 0.]],\n",
       "\n",
       "       [[0., 1.],\n",
       "        [1., 0.]],\n",
       "\n",
       "       ...,\n",
       "\n",
       "       [[0., 1.],\n",
       "        [1., 0.]],\n",
       "\n",
       "       [[0., 1.],\n",
       "        [1., 0.]],\n",
       "\n",
       "       [[0., 1.],\n",
       "        [1., 0.]]], dtype=float32)"
      ]
     },
     "execution_count": 337,
     "metadata": {},
     "output_type": "execute_result"
    }
   ],
   "source": [
    "trainY"
   ]
  },
  {
   "cell_type": "code",
   "execution_count": 365,
   "id": "044a4fea",
   "metadata": {
    "ExecuteTime": {
     "end_time": "2024-01-20T13:08:56.080976Z",
     "start_time": "2024-01-20T13:08:55.902067Z"
    }
   },
   "outputs": [
    {
     "ename": "TypeError",
     "evalue": "'int' object is not iterable",
     "output_type": "error",
     "traceback": [
      "\u001b[1;31m---------------------------------------------------------------------------\u001b[0m",
      "\u001b[1;31mTypeError\u001b[0m                                 Traceback (most recent call last)",
      "Cell \u001b[1;32mIn[365], line 2\u001b[0m\n\u001b[0;32m      1\u001b[0m model2 \u001b[38;5;241m=\u001b[39m Sequential()\n\u001b[1;32m----> 2\u001b[0m model2\u001b[38;5;241m.\u001b[39madd(LSTM(\u001b[38;5;241m100\u001b[39m ,input_dim\u001b[38;5;241m=\u001b[39min_dim, input_shape\u001b[38;5;241m=\u001b[39m(\u001b[38;5;241m200\u001b[39m) , activation \u001b[38;5;241m=\u001b[39m \u001b[38;5;124m\"\u001b[39m\u001b[38;5;124mrelu\u001b[39m\u001b[38;5;124m\"\u001b[39m))\n\u001b[0;32m      3\u001b[0m model2\u001b[38;5;241m.\u001b[39madd(Dense(\u001b[38;5;241m120\u001b[39m,activation \u001b[38;5;241m=\u001b[39m \u001b[38;5;124m\"\u001b[39m\u001b[38;5;124mrelu\u001b[39m\u001b[38;5;124m\"\u001b[39m))\n\u001b[0;32m      4\u001b[0m \u001b[38;5;66;03m#model2.add(Dense(120,activation = \"relu\"))\u001b[39;00m\n",
      "File \u001b[1;32m~\\anaconda3\\Lib\\site-packages\\keras\\src\\layers\\rnn\\lstm.py:562\u001b[0m, in \u001b[0;36mLSTM.__init__\u001b[1;34m(self, units, activation, recurrent_activation, use_bias, kernel_initializer, recurrent_initializer, bias_initializer, unit_forget_bias, kernel_regularizer, recurrent_regularizer, bias_regularizer, activity_regularizer, kernel_constraint, recurrent_constraint, bias_constraint, dropout, recurrent_dropout, return_sequences, return_state, go_backwards, stateful, time_major, unroll, **kwargs)\u001b[0m\n\u001b[0;32m    538\u001b[0m     cell_kwargs \u001b[38;5;241m=\u001b[39m {}\n\u001b[0;32m    539\u001b[0m cell \u001b[38;5;241m=\u001b[39m LSTMCell(\n\u001b[0;32m    540\u001b[0m     units,\n\u001b[0;32m    541\u001b[0m     activation\u001b[38;5;241m=\u001b[39mactivation,\n\u001b[1;32m   (...)\u001b[0m\n\u001b[0;32m    560\u001b[0m     \u001b[38;5;241m*\u001b[39m\u001b[38;5;241m*\u001b[39mcell_kwargs,\n\u001b[0;32m    561\u001b[0m )\n\u001b[1;32m--> 562\u001b[0m \u001b[38;5;28msuper\u001b[39m()\u001b[38;5;241m.\u001b[39m\u001b[38;5;21m__init__\u001b[39m(\n\u001b[0;32m    563\u001b[0m     cell,\n\u001b[0;32m    564\u001b[0m     return_sequences\u001b[38;5;241m=\u001b[39mreturn_sequences,\n\u001b[0;32m    565\u001b[0m     return_state\u001b[38;5;241m=\u001b[39mreturn_state,\n\u001b[0;32m    566\u001b[0m     go_backwards\u001b[38;5;241m=\u001b[39mgo_backwards,\n\u001b[0;32m    567\u001b[0m     stateful\u001b[38;5;241m=\u001b[39mstateful,\n\u001b[0;32m    568\u001b[0m     time_major\u001b[38;5;241m=\u001b[39mtime_major,\n\u001b[0;32m    569\u001b[0m     unroll\u001b[38;5;241m=\u001b[39munroll,\n\u001b[0;32m    570\u001b[0m     \u001b[38;5;241m*\u001b[39m\u001b[38;5;241m*\u001b[39mkwargs,\n\u001b[0;32m    571\u001b[0m )\n\u001b[0;32m    572\u001b[0m \u001b[38;5;28mself\u001b[39m\u001b[38;5;241m.\u001b[39mactivity_regularizer \u001b[38;5;241m=\u001b[39m regularizers\u001b[38;5;241m.\u001b[39mget(activity_regularizer)\n\u001b[0;32m    573\u001b[0m \u001b[38;5;28mself\u001b[39m\u001b[38;5;241m.\u001b[39minput_spec \u001b[38;5;241m=\u001b[39m [InputSpec(ndim\u001b[38;5;241m=\u001b[39m\u001b[38;5;241m3\u001b[39m)]\n",
      "File \u001b[1;32m~\\anaconda3\\Lib\\site-packages\\keras\\src\\layers\\rnn\\dropout_rnn_cell_mixin.py:43\u001b[0m, in \u001b[0;36mDropoutRNNCellMixin.__init__\u001b[1;34m(self, *args, **kwargs)\u001b[0m\n\u001b[0;32m     41\u001b[0m \u001b[38;5;28;01mdef\u001b[39;00m \u001b[38;5;21m__init__\u001b[39m(\u001b[38;5;28mself\u001b[39m, \u001b[38;5;241m*\u001b[39margs, \u001b[38;5;241m*\u001b[39m\u001b[38;5;241m*\u001b[39mkwargs):\n\u001b[0;32m     42\u001b[0m     \u001b[38;5;28mself\u001b[39m\u001b[38;5;241m.\u001b[39m_create_non_trackable_mask_cache()\n\u001b[1;32m---> 43\u001b[0m     \u001b[38;5;28msuper\u001b[39m()\u001b[38;5;241m.\u001b[39m\u001b[38;5;21m__init__\u001b[39m(\u001b[38;5;241m*\u001b[39margs, \u001b[38;5;241m*\u001b[39m\u001b[38;5;241m*\u001b[39mkwargs)\n",
      "File \u001b[1;32m~\\anaconda3\\Lib\\site-packages\\keras\\src\\layers\\rnn\\base_rnn.py:271\u001b[0m, in \u001b[0;36mRNN.__init__\u001b[1;34m(self, cell, return_sequences, return_state, go_backwards, stateful, unroll, time_major, **kwargs)\u001b[0m\n\u001b[0;32m    265\u001b[0m     input_shape \u001b[38;5;241m=\u001b[39m (\n\u001b[0;32m    266\u001b[0m         kwargs\u001b[38;5;241m.\u001b[39mpop(\u001b[38;5;124m\"\u001b[39m\u001b[38;5;124minput_length\u001b[39m\u001b[38;5;124m\"\u001b[39m, \u001b[38;5;28;01mNone\u001b[39;00m),\n\u001b[0;32m    267\u001b[0m         kwargs\u001b[38;5;241m.\u001b[39mpop(\u001b[38;5;124m\"\u001b[39m\u001b[38;5;124minput_dim\u001b[39m\u001b[38;5;124m\"\u001b[39m, \u001b[38;5;28;01mNone\u001b[39;00m),\n\u001b[0;32m    268\u001b[0m     )\n\u001b[0;32m    269\u001b[0m     kwargs[\u001b[38;5;124m\"\u001b[39m\u001b[38;5;124minput_shape\u001b[39m\u001b[38;5;124m\"\u001b[39m] \u001b[38;5;241m=\u001b[39m input_shape\n\u001b[1;32m--> 271\u001b[0m \u001b[38;5;28msuper\u001b[39m()\u001b[38;5;241m.\u001b[39m\u001b[38;5;21m__init__\u001b[39m(\u001b[38;5;241m*\u001b[39m\u001b[38;5;241m*\u001b[39mkwargs)\n\u001b[0;32m    272\u001b[0m \u001b[38;5;28mself\u001b[39m\u001b[38;5;241m.\u001b[39mcell \u001b[38;5;241m=\u001b[39m cell\n\u001b[0;32m    273\u001b[0m \u001b[38;5;28mself\u001b[39m\u001b[38;5;241m.\u001b[39mreturn_sequences \u001b[38;5;241m=\u001b[39m return_sequences\n",
      "File \u001b[1;32m~\\anaconda3\\Lib\\site-packages\\tensorflow\\python\\trackable\\base.py:204\u001b[0m, in \u001b[0;36mno_automatic_dependency_tracking.<locals>._method_wrapper\u001b[1;34m(self, *args, **kwargs)\u001b[0m\n\u001b[0;32m    202\u001b[0m \u001b[38;5;28mself\u001b[39m\u001b[38;5;241m.\u001b[39m_self_setattr_tracking \u001b[38;5;241m=\u001b[39m \u001b[38;5;28;01mFalse\u001b[39;00m  \u001b[38;5;66;03m# pylint: disable=protected-access\u001b[39;00m\n\u001b[0;32m    203\u001b[0m \u001b[38;5;28;01mtry\u001b[39;00m:\n\u001b[1;32m--> 204\u001b[0m   result \u001b[38;5;241m=\u001b[39m method(\u001b[38;5;28mself\u001b[39m, \u001b[38;5;241m*\u001b[39margs, \u001b[38;5;241m*\u001b[39m\u001b[38;5;241m*\u001b[39mkwargs)\n\u001b[0;32m    205\u001b[0m \u001b[38;5;28;01mfinally\u001b[39;00m:\n\u001b[0;32m    206\u001b[0m   \u001b[38;5;28mself\u001b[39m\u001b[38;5;241m.\u001b[39m_self_setattr_tracking \u001b[38;5;241m=\u001b[39m previous_value  \u001b[38;5;66;03m# pylint: disable=protected-access\u001b[39;00m\n",
      "File \u001b[1;32m~\\anaconda3\\Lib\\site-packages\\keras\\src\\engine\\base_layer.py:3812\u001b[0m, in \u001b[0;36mBaseRandomLayer.__init__\u001b[1;34m(self, seed, force_generator, rng_type, **kwargs)\u001b[0m\n\u001b[0;32m   3784\u001b[0m \u001b[38;5;129m@tf\u001b[39m\u001b[38;5;241m.\u001b[39m__internal__\u001b[38;5;241m.\u001b[39mtracking\u001b[38;5;241m.\u001b[39mno_automatic_dependency_tracking\n\u001b[0;32m   3785\u001b[0m \u001b[38;5;28;01mdef\u001b[39;00m \u001b[38;5;21m__init__\u001b[39m(\n\u001b[0;32m   3786\u001b[0m     \u001b[38;5;28mself\u001b[39m, seed\u001b[38;5;241m=\u001b[39m\u001b[38;5;28;01mNone\u001b[39;00m, force_generator\u001b[38;5;241m=\u001b[39m\u001b[38;5;28;01mFalse\u001b[39;00m, rng_type\u001b[38;5;241m=\u001b[39m\u001b[38;5;28;01mNone\u001b[39;00m, \u001b[38;5;241m*\u001b[39m\u001b[38;5;241m*\u001b[39mkwargs\n\u001b[0;32m   3787\u001b[0m ):\n\u001b[0;32m   3788\u001b[0m \u001b[38;5;250m    \u001b[39m\u001b[38;5;124;03m\"\"\"Initialize the BaseRandomLayer.\u001b[39;00m\n\u001b[0;32m   3789\u001b[0m \n\u001b[0;32m   3790\u001b[0m \u001b[38;5;124;03m    Note that the constructor is annotated with\u001b[39;00m\n\u001b[1;32m   (...)\u001b[0m\n\u001b[0;32m   3810\u001b[0m \u001b[38;5;124;03m        *class\u001b[39;00m\n\u001b[0;32m   3811\u001b[0m \u001b[38;5;124;03m    \"\"\"\u001b[39;00m\n\u001b[1;32m-> 3812\u001b[0m     \u001b[38;5;28msuper\u001b[39m()\u001b[38;5;241m.\u001b[39m\u001b[38;5;21m__init__\u001b[39m(\u001b[38;5;241m*\u001b[39m\u001b[38;5;241m*\u001b[39mkwargs)\n\u001b[0;32m   3813\u001b[0m     \u001b[38;5;28mself\u001b[39m\u001b[38;5;241m.\u001b[39m_random_generator \u001b[38;5;241m=\u001b[39m backend\u001b[38;5;241m.\u001b[39mRandomGenerator(\n\u001b[0;32m   3814\u001b[0m         seed, force_generator\u001b[38;5;241m=\u001b[39mforce_generator, rng_type\u001b[38;5;241m=\u001b[39mrng_type\n\u001b[0;32m   3815\u001b[0m     )\n",
      "File \u001b[1;32m~\\anaconda3\\Lib\\site-packages\\tensorflow\\python\\trackable\\base.py:204\u001b[0m, in \u001b[0;36mno_automatic_dependency_tracking.<locals>._method_wrapper\u001b[1;34m(self, *args, **kwargs)\u001b[0m\n\u001b[0;32m    202\u001b[0m \u001b[38;5;28mself\u001b[39m\u001b[38;5;241m.\u001b[39m_self_setattr_tracking \u001b[38;5;241m=\u001b[39m \u001b[38;5;28;01mFalse\u001b[39;00m  \u001b[38;5;66;03m# pylint: disable=protected-access\u001b[39;00m\n\u001b[0;32m    203\u001b[0m \u001b[38;5;28;01mtry\u001b[39;00m:\n\u001b[1;32m--> 204\u001b[0m   result \u001b[38;5;241m=\u001b[39m method(\u001b[38;5;28mself\u001b[39m, \u001b[38;5;241m*\u001b[39margs, \u001b[38;5;241m*\u001b[39m\u001b[38;5;241m*\u001b[39mkwargs)\n\u001b[0;32m    205\u001b[0m \u001b[38;5;28;01mfinally\u001b[39;00m:\n\u001b[0;32m    206\u001b[0m   \u001b[38;5;28mself\u001b[39m\u001b[38;5;241m.\u001b[39m_self_setattr_tracking \u001b[38;5;241m=\u001b[39m previous_value  \u001b[38;5;66;03m# pylint: disable=protected-access\u001b[39;00m\n",
      "File \u001b[1;32m~\\anaconda3\\Lib\\site-packages\\keras\\src\\engine\\base_layer.py:452\u001b[0m, in \u001b[0;36mLayer.__init__\u001b[1;34m(self, trainable, name, dtype, dynamic, **kwargs)\u001b[0m\n\u001b[0;32m    450\u001b[0m         \u001b[38;5;28;01melse\u001b[39;00m:\n\u001b[0;32m    451\u001b[0m             batch_size \u001b[38;5;241m=\u001b[39m \u001b[38;5;28;01mNone\u001b[39;00m\n\u001b[1;32m--> 452\u001b[0m         batch_input_shape \u001b[38;5;241m=\u001b[39m (batch_size,) \u001b[38;5;241m+\u001b[39m \u001b[38;5;28mtuple\u001b[39m(kwargs[\u001b[38;5;124m\"\u001b[39m\u001b[38;5;124minput_shape\u001b[39m\u001b[38;5;124m\"\u001b[39m])\n\u001b[0;32m    453\u001b[0m     \u001b[38;5;28mself\u001b[39m\u001b[38;5;241m.\u001b[39m_batch_input_shape \u001b[38;5;241m=\u001b[39m batch_input_shape\n\u001b[0;32m    455\u001b[0m \u001b[38;5;66;03m# Manage initial weight values if passed.\u001b[39;00m\n",
      "\u001b[1;31mTypeError\u001b[0m: 'int' object is not iterable"
     ]
    }
   ],
   "source": [
    "model2 = Sequential()\n",
    "model2.add(LSTM(100 ,input_dim=in_dim, input_shape=(200) , activation = \"relu\"))\n",
    "model2.add(Dense(120,activation = \"relu\"))\n",
    "#model2.add(Dense(120,activation = \"relu\"))\n",
    "model2.add(Dense(60,activation = \"relu\"))\n",
    "model2.add(Dense(30,activation = \"relu\"))\n",
    "model2.add(Dense(20,activation = \"relu\"))\n",
    "model2.add(Dense(17,activation = \"softmax\"))"
   ]
  },
  {
   "cell_type": "code",
   "execution_count": 362,
   "id": "b611aed4",
   "metadata": {
    "ExecuteTime": {
     "end_time": "2024-01-20T13:08:36.592019Z",
     "start_time": "2024-01-20T13:08:36.563255Z"
    }
   },
   "outputs": [],
   "source": [
    "model2.compile(optimizer = 'sgd' , \n",
    "              loss = 'categorical_crossentropy' ,\n",
    "              metrics=[tf.keras.metrics.BinaryAccuracy(name='accuracy'),\n",
    "                       tf.keras.metrics.Precision(name='precision'),\n",
    "                       tf.keras.metrics.Recall(name='recall')])"
   ]
  },
  {
   "cell_type": "code",
   "execution_count": 363,
   "id": "e36cca9a",
   "metadata": {
    "ExecuteTime": {
     "end_time": "2024-01-20T13:08:37.528254Z",
     "start_time": "2024-01-20T13:08:37.353241Z"
    },
    "scrolled": true
   },
   "outputs": [
    {
     "name": "stdout",
     "output_type": "stream",
     "text": [
      "Epoch 1/10\n"
     ]
    },
    {
     "ename": "ValueError",
     "evalue": "in user code:\n\n    File \"C:\\Users\\Desktop\\anaconda3\\Lib\\site-packages\\keras\\src\\engine\\training.py\", line 1401, in train_function  *\n        return step_function(self, iterator)\n    File \"C:\\Users\\Desktop\\anaconda3\\Lib\\site-packages\\keras\\src\\engine\\training.py\", line 1384, in step_function  **\n        outputs = model.distribute_strategy.run(run_step, args=(data,))\n    File \"C:\\Users\\Desktop\\anaconda3\\Lib\\site-packages\\keras\\src\\engine\\training.py\", line 1373, in run_step  **\n        outputs = model.train_step(data)\n    File \"C:\\Users\\Desktop\\anaconda3\\Lib\\site-packages\\keras\\src\\engine\\training.py\", line 1150, in train_step\n        y_pred = self(x, training=True)\n    File \"C:\\Users\\Desktop\\anaconda3\\Lib\\site-packages\\keras\\src\\utils\\traceback_utils.py\", line 70, in error_handler\n        raise e.with_traceback(filtered_tb) from None\n    File \"C:\\Users\\Desktop\\anaconda3\\Lib\\site-packages\\keras\\src\\engine\\input_spec.py\", line 298, in assert_input_compatibility\n        raise ValueError(\n\n    ValueError: Input 0 of layer \"sequential_26\" is incompatible with the layer: expected shape=(None, 3, 1), found shape=(None, 200)\n",
     "output_type": "error",
     "traceback": [
      "\u001b[1;31m---------------------------------------------------------------------------\u001b[0m",
      "\u001b[1;31mValueError\u001b[0m                                Traceback (most recent call last)",
      "Cell \u001b[1;32mIn[363], line 1\u001b[0m\n\u001b[1;32m----> 1\u001b[0m model2\u001b[38;5;241m.\u001b[39mfit(X_train[:\u001b[38;5;241m7859\u001b[39m] , y_train1[:\u001b[38;5;241m7859\u001b[39m] , batch_size \u001b[38;5;241m=\u001b[39m \u001b[38;5;241m64\u001b[39m , epochs \u001b[38;5;241m=\u001b[39m \u001b[38;5;241m10\u001b[39m , validation_data\u001b[38;5;241m=\u001b[39m(X_val,y_val) ,verbose \u001b[38;5;241m=\u001b[39m\u001b[38;5;241m1\u001b[39m)\n",
      "File \u001b[1;32m~\\anaconda3\\Lib\\site-packages\\keras\\src\\utils\\traceback_utils.py:70\u001b[0m, in \u001b[0;36mfilter_traceback.<locals>.error_handler\u001b[1;34m(*args, **kwargs)\u001b[0m\n\u001b[0;32m     67\u001b[0m     filtered_tb \u001b[38;5;241m=\u001b[39m _process_traceback_frames(e\u001b[38;5;241m.\u001b[39m__traceback__)\n\u001b[0;32m     68\u001b[0m     \u001b[38;5;66;03m# To get the full stack trace, call:\u001b[39;00m\n\u001b[0;32m     69\u001b[0m     \u001b[38;5;66;03m# `tf.debugging.disable_traceback_filtering()`\u001b[39;00m\n\u001b[1;32m---> 70\u001b[0m     \u001b[38;5;28;01mraise\u001b[39;00m e\u001b[38;5;241m.\u001b[39mwith_traceback(filtered_tb) \u001b[38;5;28;01mfrom\u001b[39;00m \u001b[38;5;28;01mNone\u001b[39;00m\n\u001b[0;32m     71\u001b[0m \u001b[38;5;28;01mfinally\u001b[39;00m:\n\u001b[0;32m     72\u001b[0m     \u001b[38;5;28;01mdel\u001b[39;00m filtered_tb\n",
      "File \u001b[1;32m~\\AppData\\Local\\Temp\\__autograph_generated_filepa2ylaxb.py:15\u001b[0m, in \u001b[0;36mouter_factory.<locals>.inner_factory.<locals>.tf__train_function\u001b[1;34m(iterator)\u001b[0m\n\u001b[0;32m     13\u001b[0m \u001b[38;5;28;01mtry\u001b[39;00m:\n\u001b[0;32m     14\u001b[0m     do_return \u001b[38;5;241m=\u001b[39m \u001b[38;5;28;01mTrue\u001b[39;00m\n\u001b[1;32m---> 15\u001b[0m     retval_ \u001b[38;5;241m=\u001b[39m ag__\u001b[38;5;241m.\u001b[39mconverted_call(ag__\u001b[38;5;241m.\u001b[39mld(step_function), (ag__\u001b[38;5;241m.\u001b[39mld(\u001b[38;5;28mself\u001b[39m), ag__\u001b[38;5;241m.\u001b[39mld(iterator)), \u001b[38;5;28;01mNone\u001b[39;00m, fscope)\n\u001b[0;32m     16\u001b[0m \u001b[38;5;28;01mexcept\u001b[39;00m:\n\u001b[0;32m     17\u001b[0m     do_return \u001b[38;5;241m=\u001b[39m \u001b[38;5;28;01mFalse\u001b[39;00m\n",
      "\u001b[1;31mValueError\u001b[0m: in user code:\n\n    File \"C:\\Users\\Desktop\\anaconda3\\Lib\\site-packages\\keras\\src\\engine\\training.py\", line 1401, in train_function  *\n        return step_function(self, iterator)\n    File \"C:\\Users\\Desktop\\anaconda3\\Lib\\site-packages\\keras\\src\\engine\\training.py\", line 1384, in step_function  **\n        outputs = model.distribute_strategy.run(run_step, args=(data,))\n    File \"C:\\Users\\Desktop\\anaconda3\\Lib\\site-packages\\keras\\src\\engine\\training.py\", line 1373, in run_step  **\n        outputs = model.train_step(data)\n    File \"C:\\Users\\Desktop\\anaconda3\\Lib\\site-packages\\keras\\src\\engine\\training.py\", line 1150, in train_step\n        y_pred = self(x, training=True)\n    File \"C:\\Users\\Desktop\\anaconda3\\Lib\\site-packages\\keras\\src\\utils\\traceback_utils.py\", line 70, in error_handler\n        raise e.with_traceback(filtered_tb) from None\n    File \"C:\\Users\\Desktop\\anaconda3\\Lib\\site-packages\\keras\\src\\engine\\input_spec.py\", line 298, in assert_input_compatibility\n        raise ValueError(\n\n    ValueError: Input 0 of layer \"sequential_26\" is incompatible with the layer: expected shape=(None, 3, 1), found shape=(None, 200)\n"
     ]
    }
   ],
   "source": [
    "model2.fit(X_train[:7859] , y_train1[:7859] , batch_size = 64 , epochs = 10 , validation_data=(X_val,y_val) ,verbose =1)"
   ]
  },
  {
   "cell_type": "code",
   "execution_count": 364,
   "id": "ca1579b2",
   "metadata": {
    "ExecuteTime": {
     "end_time": "2024-01-20T13:08:38.558331Z",
     "start_time": "2024-01-20T13:08:38.520328Z"
    }
   },
   "outputs": [
    {
     "name": "stdout",
     "output_type": "stream",
     "text": [
      "Model: \"sequential_26\"\n",
      "_________________________________________________________________\n",
      " Layer (type)                Output Shape              Param #   \n",
      "=================================================================\n",
      " lstm_18 (LSTM)              (None, 100)               40800     \n",
      "                                                                 \n",
      " dense_173 (Dense)           (None, 120)               12120     \n",
      "                                                                 \n",
      " dense_174 (Dense)           (None, 60)                7260      \n",
      "                                                                 \n",
      " dense_175 (Dense)           (None, 30)                1830      \n",
      "                                                                 \n",
      " dense_176 (Dense)           (None, 20)                620       \n",
      "                                                                 \n",
      " dense_177 (Dense)           (None, 17)                357       \n",
      "                                                                 \n",
      "=================================================================\n",
      "Total params: 62987 (246.04 KB)\n",
      "Trainable params: 62987 (246.04 KB)\n",
      "Non-trainable params: 0 (0.00 Byte)\n",
      "_________________________________________________________________\n"
     ]
    }
   ],
   "source": [
    "model2.summary()"
   ]
  },
  {
   "cell_type": "code",
   "execution_count": 350,
   "id": "150523cd",
   "metadata": {
    "ExecuteTime": {
     "end_time": "2024-01-20T13:04:14.934345Z",
     "start_time": "2024-01-20T13:04:14.339299Z"
    }
   },
   "outputs": [
    {
     "ename": "ValueError",
     "evalue": "in user code:\n\n    File \"C:\\Users\\Desktop\\anaconda3\\Lib\\site-packages\\keras\\src\\engine\\training.py\", line 2066, in test_function  *\n        return step_function(self, iterator)\n    File \"C:\\Users\\Desktop\\anaconda3\\Lib\\site-packages\\keras\\src\\engine\\training.py\", line 2049, in step_function  **\n        outputs = model.distribute_strategy.run(run_step, args=(data,))\n    File \"C:\\Users\\Desktop\\anaconda3\\Lib\\site-packages\\keras\\src\\engine\\training.py\", line 2037, in run_step  **\n        outputs = model.test_step(data)\n    File \"C:\\Users\\Desktop\\anaconda3\\Lib\\site-packages\\keras\\src\\engine\\training.py\", line 1919, in test_step\n        self.compute_loss(x, y, y_pred, sample_weight)\n    File \"C:\\Users\\Desktop\\anaconda3\\Lib\\site-packages\\keras\\src\\engine\\training.py\", line 1209, in compute_loss\n        return self.compiled_loss(\n    File \"C:\\Users\\Desktop\\anaconda3\\Lib\\site-packages\\keras\\src\\engine\\compile_utils.py\", line 277, in __call__\n        loss_value = loss_obj(y_t, y_p, sample_weight=sw)\n    File \"C:\\Users\\Desktop\\anaconda3\\Lib\\site-packages\\keras\\src\\losses.py\", line 143, in __call__\n        losses = call_fn(y_true, y_pred)\n    File \"C:\\Users\\Desktop\\anaconda3\\Lib\\site-packages\\keras\\src\\losses.py\", line 270, in call  **\n        return ag_fn(y_true, y_pred, **self._fn_kwargs)\n    File \"C:\\Users\\Desktop\\anaconda3\\Lib\\site-packages\\keras\\src\\losses.py\", line 2221, in categorical_crossentropy\n        return backend.categorical_crossentropy(\n    File \"C:\\Users\\Desktop\\anaconda3\\Lib\\site-packages\\keras\\src\\backend.py\", line 5573, in categorical_crossentropy\n        target.shape.assert_is_compatible_with(output.shape)\n\n    ValueError: Shapes (None, 1) and (None, 17) are incompatible\n",
     "output_type": "error",
     "traceback": [
      "\u001b[1;31m---------------------------------------------------------------------------\u001b[0m",
      "\u001b[1;31mValueError\u001b[0m                                Traceback (most recent call last)",
      "Cell \u001b[1;32mIn[350], line 1\u001b[0m\n\u001b[1;32m----> 1\u001b[0m scores \u001b[38;5;241m=\u001b[39m model2\u001b[38;5;241m.\u001b[39mevaluate(testX, testY)\n\u001b[0;32m      3\u001b[0m \u001b[38;5;28;01mfor\u001b[39;00m i, m \u001b[38;5;129;01min\u001b[39;00m \u001b[38;5;28menumerate\u001b[39m(model2\u001b[38;5;241m.\u001b[39mmetrics_names):\n\u001b[0;32m      4\u001b[0m     \u001b[38;5;28mprint\u001b[39m(\u001b[38;5;124m\"\u001b[39m\u001b[38;5;130;01m\\n\u001b[39;00m\u001b[38;5;132;01m%s\u001b[39;00m\u001b[38;5;124m: \u001b[39m\u001b[38;5;132;01m%.3f\u001b[39;00m\u001b[38;5;124m\"\u001b[39m\u001b[38;5;241m%\u001b[39m (m, scores[i]))\n",
      "File \u001b[1;32m~\\anaconda3\\Lib\\site-packages\\keras\\src\\utils\\traceback_utils.py:70\u001b[0m, in \u001b[0;36mfilter_traceback.<locals>.error_handler\u001b[1;34m(*args, **kwargs)\u001b[0m\n\u001b[0;32m     67\u001b[0m     filtered_tb \u001b[38;5;241m=\u001b[39m _process_traceback_frames(e\u001b[38;5;241m.\u001b[39m__traceback__)\n\u001b[0;32m     68\u001b[0m     \u001b[38;5;66;03m# To get the full stack trace, call:\u001b[39;00m\n\u001b[0;32m     69\u001b[0m     \u001b[38;5;66;03m# `tf.debugging.disable_traceback_filtering()`\u001b[39;00m\n\u001b[1;32m---> 70\u001b[0m     \u001b[38;5;28;01mraise\u001b[39;00m e\u001b[38;5;241m.\u001b[39mwith_traceback(filtered_tb) \u001b[38;5;28;01mfrom\u001b[39;00m \u001b[38;5;28;01mNone\u001b[39;00m\n\u001b[0;32m     71\u001b[0m \u001b[38;5;28;01mfinally\u001b[39;00m:\n\u001b[0;32m     72\u001b[0m     \u001b[38;5;28;01mdel\u001b[39;00m filtered_tb\n",
      "File \u001b[1;32m~\\AppData\\Local\\Temp\\__autograph_generated_fileryit8iuw.py:15\u001b[0m, in \u001b[0;36mouter_factory.<locals>.inner_factory.<locals>.tf__test_function\u001b[1;34m(iterator)\u001b[0m\n\u001b[0;32m     13\u001b[0m \u001b[38;5;28;01mtry\u001b[39;00m:\n\u001b[0;32m     14\u001b[0m     do_return \u001b[38;5;241m=\u001b[39m \u001b[38;5;28;01mTrue\u001b[39;00m\n\u001b[1;32m---> 15\u001b[0m     retval_ \u001b[38;5;241m=\u001b[39m ag__\u001b[38;5;241m.\u001b[39mconverted_call(ag__\u001b[38;5;241m.\u001b[39mld(step_function), (ag__\u001b[38;5;241m.\u001b[39mld(\u001b[38;5;28mself\u001b[39m), ag__\u001b[38;5;241m.\u001b[39mld(iterator)), \u001b[38;5;28;01mNone\u001b[39;00m, fscope)\n\u001b[0;32m     16\u001b[0m \u001b[38;5;28;01mexcept\u001b[39;00m:\n\u001b[0;32m     17\u001b[0m     do_return \u001b[38;5;241m=\u001b[39m \u001b[38;5;28;01mFalse\u001b[39;00m\n",
      "\u001b[1;31mValueError\u001b[0m: in user code:\n\n    File \"C:\\Users\\Desktop\\anaconda3\\Lib\\site-packages\\keras\\src\\engine\\training.py\", line 2066, in test_function  *\n        return step_function(self, iterator)\n    File \"C:\\Users\\Desktop\\anaconda3\\Lib\\site-packages\\keras\\src\\engine\\training.py\", line 2049, in step_function  **\n        outputs = model.distribute_strategy.run(run_step, args=(data,))\n    File \"C:\\Users\\Desktop\\anaconda3\\Lib\\site-packages\\keras\\src\\engine\\training.py\", line 2037, in run_step  **\n        outputs = model.test_step(data)\n    File \"C:\\Users\\Desktop\\anaconda3\\Lib\\site-packages\\keras\\src\\engine\\training.py\", line 1919, in test_step\n        self.compute_loss(x, y, y_pred, sample_weight)\n    File \"C:\\Users\\Desktop\\anaconda3\\Lib\\site-packages\\keras\\src\\engine\\training.py\", line 1209, in compute_loss\n        return self.compiled_loss(\n    File \"C:\\Users\\Desktop\\anaconda3\\Lib\\site-packages\\keras\\src\\engine\\compile_utils.py\", line 277, in __call__\n        loss_value = loss_obj(y_t, y_p, sample_weight=sw)\n    File \"C:\\Users\\Desktop\\anaconda3\\Lib\\site-packages\\keras\\src\\losses.py\", line 143, in __call__\n        losses = call_fn(y_true, y_pred)\n    File \"C:\\Users\\Desktop\\anaconda3\\Lib\\site-packages\\keras\\src\\losses.py\", line 270, in call  **\n        return ag_fn(y_true, y_pred, **self._fn_kwargs)\n    File \"C:\\Users\\Desktop\\anaconda3\\Lib\\site-packages\\keras\\src\\losses.py\", line 2221, in categorical_crossentropy\n        return backend.categorical_crossentropy(\n    File \"C:\\Users\\Desktop\\anaconda3\\Lib\\site-packages\\keras\\src\\backend.py\", line 5573, in categorical_crossentropy\n        target.shape.assert_is_compatible_with(output.shape)\n\n    ValueError: Shapes (None, 1) and (None, 17) are incompatible\n"
     ]
    }
   ],
   "source": [
    "scores = model2.evaluate(testX, testY)\n",
    "\n",
    "for i, m in enumerate(model2.metrics_names):\n",
    "    print(\"\\n%s: %.3f\"% (m, scores[i]))"
   ]
  },
  {
   "cell_type": "code",
   "execution_count": 318,
   "id": "3764e3c7",
   "metadata": {
    "ExecuteTime": {
     "end_time": "2024-01-20T12:57:58.670940Z",
     "start_time": "2024-01-20T12:57:57.723769Z"
    }
   },
   "outputs": [
    {
     "name": "stdout",
     "output_type": "stream",
     "text": [
      "69/69 [==============================] - 1s 3ms/step\n"
     ]
    }
   ],
   "source": [
    "predictions2 = np.argmax(model2.predict(testX), axis=-1)"
   ]
  },
  {
   "cell_type": "code",
   "execution_count": 319,
   "id": "2f14fef7",
   "metadata": {
    "ExecuteTime": {
     "end_time": "2024-01-20T12:57:59.084132Z",
     "start_time": "2024-01-20T12:57:59.076644Z"
    }
   },
   "outputs": [
    {
     "data": {
      "text/plain": [
       "array([0, 0, 0, ..., 0, 0, 0], dtype=int64)"
      ]
     },
     "execution_count": 319,
     "metadata": {},
     "output_type": "execute_result"
    }
   ],
   "source": [
    "predictions2"
   ]
  },
  {
   "cell_type": "code",
   "execution_count": 320,
   "id": "8d54bb15",
   "metadata": {
    "ExecuteTime": {
     "end_time": "2024-01-20T12:57:59.783696Z",
     "start_time": "2024-01-20T12:57:59.676166Z"
    }
   },
   "outputs": [
    {
     "ename": "ValueError",
     "evalue": "Found input variables with inconsistent numbers of samples: [2183, 2181]",
     "output_type": "error",
     "traceback": [
      "\u001b[1;31m---------------------------------------------------------------------------\u001b[0m",
      "\u001b[1;31mValueError\u001b[0m                                Traceback (most recent call last)",
      "Cell \u001b[1;32mIn[320], line 1\u001b[0m\n\u001b[1;32m----> 1\u001b[0m \u001b[38;5;28mprint\u001b[39m(classification_report(y_test\u001b[38;5;241m.\u001b[39mvalues , predictions2))\n",
      "File \u001b[1;32m~\\anaconda3\\Lib\\site-packages\\sklearn\\utils\\_param_validation.py:211\u001b[0m, in \u001b[0;36mvalidate_params.<locals>.decorator.<locals>.wrapper\u001b[1;34m(*args, **kwargs)\u001b[0m\n\u001b[0;32m    205\u001b[0m \u001b[38;5;28;01mtry\u001b[39;00m:\n\u001b[0;32m    206\u001b[0m     \u001b[38;5;28;01mwith\u001b[39;00m config_context(\n\u001b[0;32m    207\u001b[0m         skip_parameter_validation\u001b[38;5;241m=\u001b[39m(\n\u001b[0;32m    208\u001b[0m             prefer_skip_nested_validation \u001b[38;5;129;01mor\u001b[39;00m global_skip_validation\n\u001b[0;32m    209\u001b[0m         )\n\u001b[0;32m    210\u001b[0m     ):\n\u001b[1;32m--> 211\u001b[0m         \u001b[38;5;28;01mreturn\u001b[39;00m func(\u001b[38;5;241m*\u001b[39margs, \u001b[38;5;241m*\u001b[39m\u001b[38;5;241m*\u001b[39mkwargs)\n\u001b[0;32m    212\u001b[0m \u001b[38;5;28;01mexcept\u001b[39;00m InvalidParameterError \u001b[38;5;28;01mas\u001b[39;00m e:\n\u001b[0;32m    213\u001b[0m     \u001b[38;5;66;03m# When the function is just a wrapper around an estimator, we allow\u001b[39;00m\n\u001b[0;32m    214\u001b[0m     \u001b[38;5;66;03m# the function to delegate validation to the estimator, but we replace\u001b[39;00m\n\u001b[0;32m    215\u001b[0m     \u001b[38;5;66;03m# the name of the estimator by the name of the function in the error\u001b[39;00m\n\u001b[0;32m    216\u001b[0m     \u001b[38;5;66;03m# message to avoid confusion.\u001b[39;00m\n\u001b[0;32m    217\u001b[0m     msg \u001b[38;5;241m=\u001b[39m re\u001b[38;5;241m.\u001b[39msub(\n\u001b[0;32m    218\u001b[0m         \u001b[38;5;124mr\u001b[39m\u001b[38;5;124m\"\u001b[39m\u001b[38;5;124mparameter of \u001b[39m\u001b[38;5;124m\\\u001b[39m\u001b[38;5;124mw+ must be\u001b[39m\u001b[38;5;124m\"\u001b[39m,\n\u001b[0;32m    219\u001b[0m         \u001b[38;5;124mf\u001b[39m\u001b[38;5;124m\"\u001b[39m\u001b[38;5;124mparameter of \u001b[39m\u001b[38;5;132;01m{\u001b[39;00mfunc\u001b[38;5;241m.\u001b[39m\u001b[38;5;18m__qualname__\u001b[39m\u001b[38;5;132;01m}\u001b[39;00m\u001b[38;5;124m must be\u001b[39m\u001b[38;5;124m\"\u001b[39m,\n\u001b[0;32m    220\u001b[0m         \u001b[38;5;28mstr\u001b[39m(e),\n\u001b[0;32m    221\u001b[0m     )\n",
      "File \u001b[1;32m~\\anaconda3\\Lib\\site-packages\\sklearn\\metrics\\_classification.py:2539\u001b[0m, in \u001b[0;36mclassification_report\u001b[1;34m(y_true, y_pred, labels, target_names, sample_weight, digits, output_dict, zero_division)\u001b[0m\n\u001b[0;32m   2405\u001b[0m \u001b[38;5;129m@validate_params\u001b[39m(\n\u001b[0;32m   2406\u001b[0m     {\n\u001b[0;32m   2407\u001b[0m         \u001b[38;5;124m\"\u001b[39m\u001b[38;5;124my_true\u001b[39m\u001b[38;5;124m\"\u001b[39m: [\u001b[38;5;124m\"\u001b[39m\u001b[38;5;124marray-like\u001b[39m\u001b[38;5;124m\"\u001b[39m, \u001b[38;5;124m\"\u001b[39m\u001b[38;5;124msparse matrix\u001b[39m\u001b[38;5;124m\"\u001b[39m],\n\u001b[1;32m   (...)\u001b[0m\n\u001b[0;32m   2430\u001b[0m     zero_division\u001b[38;5;241m=\u001b[39m\u001b[38;5;124m\"\u001b[39m\u001b[38;5;124mwarn\u001b[39m\u001b[38;5;124m\"\u001b[39m,\n\u001b[0;32m   2431\u001b[0m ):\n\u001b[0;32m   2432\u001b[0m \u001b[38;5;250m    \u001b[39m\u001b[38;5;124;03m\"\"\"Build a text report showing the main classification metrics.\u001b[39;00m\n\u001b[0;32m   2433\u001b[0m \n\u001b[0;32m   2434\u001b[0m \u001b[38;5;124;03m    Read more in the :ref:`User Guide <classification_report>`.\u001b[39;00m\n\u001b[1;32m   (...)\u001b[0m\n\u001b[0;32m   2536\u001b[0m \u001b[38;5;124;03m    <BLANKLINE>\u001b[39;00m\n\u001b[0;32m   2537\u001b[0m \u001b[38;5;124;03m    \"\"\"\u001b[39;00m\n\u001b[1;32m-> 2539\u001b[0m     y_type, y_true, y_pred \u001b[38;5;241m=\u001b[39m _check_targets(y_true, y_pred)\n\u001b[0;32m   2541\u001b[0m     \u001b[38;5;28;01mif\u001b[39;00m labels \u001b[38;5;129;01mis\u001b[39;00m \u001b[38;5;28;01mNone\u001b[39;00m:\n\u001b[0;32m   2542\u001b[0m         labels \u001b[38;5;241m=\u001b[39m unique_labels(y_true, y_pred)\n",
      "File \u001b[1;32m~\\anaconda3\\Lib\\site-packages\\sklearn\\metrics\\_classification.py:84\u001b[0m, in \u001b[0;36m_check_targets\u001b[1;34m(y_true, y_pred)\u001b[0m\n\u001b[0;32m     57\u001b[0m \u001b[38;5;28;01mdef\u001b[39;00m \u001b[38;5;21m_check_targets\u001b[39m(y_true, y_pred):\n\u001b[0;32m     58\u001b[0m \u001b[38;5;250m    \u001b[39m\u001b[38;5;124;03m\"\"\"Check that y_true and y_pred belong to the same classification task.\u001b[39;00m\n\u001b[0;32m     59\u001b[0m \n\u001b[0;32m     60\u001b[0m \u001b[38;5;124;03m    This converts multiclass or binary types to a common shape, and raises a\u001b[39;00m\n\u001b[1;32m   (...)\u001b[0m\n\u001b[0;32m     82\u001b[0m \u001b[38;5;124;03m    y_pred : array or indicator matrix\u001b[39;00m\n\u001b[0;32m     83\u001b[0m \u001b[38;5;124;03m    \"\"\"\u001b[39;00m\n\u001b[1;32m---> 84\u001b[0m     check_consistent_length(y_true, y_pred)\n\u001b[0;32m     85\u001b[0m     type_true \u001b[38;5;241m=\u001b[39m type_of_target(y_true, input_name\u001b[38;5;241m=\u001b[39m\u001b[38;5;124m\"\u001b[39m\u001b[38;5;124my_true\u001b[39m\u001b[38;5;124m\"\u001b[39m)\n\u001b[0;32m     86\u001b[0m     type_pred \u001b[38;5;241m=\u001b[39m type_of_target(y_pred, input_name\u001b[38;5;241m=\u001b[39m\u001b[38;5;124m\"\u001b[39m\u001b[38;5;124my_pred\u001b[39m\u001b[38;5;124m\"\u001b[39m)\n",
      "File \u001b[1;32m~\\anaconda3\\Lib\\site-packages\\sklearn\\utils\\validation.py:409\u001b[0m, in \u001b[0;36mcheck_consistent_length\u001b[1;34m(*arrays)\u001b[0m\n\u001b[0;32m    407\u001b[0m uniques \u001b[38;5;241m=\u001b[39m np\u001b[38;5;241m.\u001b[39munique(lengths)\n\u001b[0;32m    408\u001b[0m \u001b[38;5;28;01mif\u001b[39;00m \u001b[38;5;28mlen\u001b[39m(uniques) \u001b[38;5;241m>\u001b[39m \u001b[38;5;241m1\u001b[39m:\n\u001b[1;32m--> 409\u001b[0m     \u001b[38;5;28;01mraise\u001b[39;00m \u001b[38;5;167;01mValueError\u001b[39;00m(\n\u001b[0;32m    410\u001b[0m         \u001b[38;5;124m\"\u001b[39m\u001b[38;5;124mFound input variables with inconsistent numbers of samples: \u001b[39m\u001b[38;5;132;01m%r\u001b[39;00m\u001b[38;5;124m\"\u001b[39m\n\u001b[0;32m    411\u001b[0m         \u001b[38;5;241m%\u001b[39m [\u001b[38;5;28mint\u001b[39m(l) \u001b[38;5;28;01mfor\u001b[39;00m l \u001b[38;5;129;01min\u001b[39;00m lengths]\n\u001b[0;32m    412\u001b[0m     )\n",
      "\u001b[1;31mValueError\u001b[0m: Found input variables with inconsistent numbers of samples: [2183, 2181]"
     ]
    }
   ],
   "source": [
    "print(classification_report(y_test.values , predictions2))"
   ]
  },
  {
   "cell_type": "code",
   "execution_count": 321,
   "id": "fc1fd203",
   "metadata": {
    "ExecuteTime": {
     "end_time": "2024-01-20T12:58:00.394724Z",
     "start_time": "2024-01-20T12:58:00.266721Z"
    }
   },
   "outputs": [
    {
     "ename": "ValueError",
     "evalue": "Found input variables with inconsistent numbers of samples: [2183, 2181]",
     "output_type": "error",
     "traceback": [
      "\u001b[1;31m---------------------------------------------------------------------------\u001b[0m",
      "\u001b[1;31mValueError\u001b[0m                                Traceback (most recent call last)",
      "Cell \u001b[1;32mIn[321], line 2\u001b[0m\n\u001b[0;32m      1\u001b[0m \u001b[38;5;66;03m# Evaluating the model\u001b[39;00m\n\u001b[1;32m----> 2\u001b[0m \u001b[38;5;28mprint\u001b[39m(\u001b[38;5;124m'\u001b[39m\u001b[38;5;124mPrecision is \u001b[39m\u001b[38;5;132;01m{}\u001b[39;00m\u001b[38;5;124m'\u001b[39m\u001b[38;5;241m.\u001b[39mformat(precision_score(y_test\u001b[38;5;241m.\u001b[39mvalues, predictions2, average\u001b[38;5;241m=\u001b[39m\u001b[38;5;124m'\u001b[39m\u001b[38;5;124mmacro\u001b[39m\u001b[38;5;124m'\u001b[39m)))\n\u001b[0;32m      3\u001b[0m \u001b[38;5;28mprint\u001b[39m(\u001b[38;5;124m'\u001b[39m\u001b[38;5;124mRecall is \u001b[39m\u001b[38;5;132;01m{}\u001b[39;00m\u001b[38;5;124m'\u001b[39m\u001b[38;5;241m.\u001b[39mformat(recall_score(y_test\u001b[38;5;241m.\u001b[39mvalues, predictions2, average\u001b[38;5;241m=\u001b[39m\u001b[38;5;124m'\u001b[39m\u001b[38;5;124mmacro\u001b[39m\u001b[38;5;124m'\u001b[39m)))\n\u001b[0;32m      4\u001b[0m \u001b[38;5;28mprint\u001b[39m(\u001b[38;5;124m'\u001b[39m\u001b[38;5;124mF1:\u001b[39m\u001b[38;5;124m'\u001b[39m, f1_score(y_test\u001b[38;5;241m.\u001b[39mvalues, predictions2, average\u001b[38;5;241m=\u001b[39m\u001b[38;5;124m'\u001b[39m\u001b[38;5;124mmacro\u001b[39m\u001b[38;5;124m'\u001b[39m))\n",
      "File \u001b[1;32m~\\anaconda3\\Lib\\site-packages\\sklearn\\utils\\_param_validation.py:211\u001b[0m, in \u001b[0;36mvalidate_params.<locals>.decorator.<locals>.wrapper\u001b[1;34m(*args, **kwargs)\u001b[0m\n\u001b[0;32m    205\u001b[0m \u001b[38;5;28;01mtry\u001b[39;00m:\n\u001b[0;32m    206\u001b[0m     \u001b[38;5;28;01mwith\u001b[39;00m config_context(\n\u001b[0;32m    207\u001b[0m         skip_parameter_validation\u001b[38;5;241m=\u001b[39m(\n\u001b[0;32m    208\u001b[0m             prefer_skip_nested_validation \u001b[38;5;129;01mor\u001b[39;00m global_skip_validation\n\u001b[0;32m    209\u001b[0m         )\n\u001b[0;32m    210\u001b[0m     ):\n\u001b[1;32m--> 211\u001b[0m         \u001b[38;5;28;01mreturn\u001b[39;00m func(\u001b[38;5;241m*\u001b[39margs, \u001b[38;5;241m*\u001b[39m\u001b[38;5;241m*\u001b[39mkwargs)\n\u001b[0;32m    212\u001b[0m \u001b[38;5;28;01mexcept\u001b[39;00m InvalidParameterError \u001b[38;5;28;01mas\u001b[39;00m e:\n\u001b[0;32m    213\u001b[0m     \u001b[38;5;66;03m# When the function is just a wrapper around an estimator, we allow\u001b[39;00m\n\u001b[0;32m    214\u001b[0m     \u001b[38;5;66;03m# the function to delegate validation to the estimator, but we replace\u001b[39;00m\n\u001b[0;32m    215\u001b[0m     \u001b[38;5;66;03m# the name of the estimator by the name of the function in the error\u001b[39;00m\n\u001b[0;32m    216\u001b[0m     \u001b[38;5;66;03m# message to avoid confusion.\u001b[39;00m\n\u001b[0;32m    217\u001b[0m     msg \u001b[38;5;241m=\u001b[39m re\u001b[38;5;241m.\u001b[39msub(\n\u001b[0;32m    218\u001b[0m         \u001b[38;5;124mr\u001b[39m\u001b[38;5;124m\"\u001b[39m\u001b[38;5;124mparameter of \u001b[39m\u001b[38;5;124m\\\u001b[39m\u001b[38;5;124mw+ must be\u001b[39m\u001b[38;5;124m\"\u001b[39m,\n\u001b[0;32m    219\u001b[0m         \u001b[38;5;124mf\u001b[39m\u001b[38;5;124m\"\u001b[39m\u001b[38;5;124mparameter of \u001b[39m\u001b[38;5;132;01m{\u001b[39;00mfunc\u001b[38;5;241m.\u001b[39m\u001b[38;5;18m__qualname__\u001b[39m\u001b[38;5;132;01m}\u001b[39;00m\u001b[38;5;124m must be\u001b[39m\u001b[38;5;124m\"\u001b[39m,\n\u001b[0;32m    220\u001b[0m         \u001b[38;5;28mstr\u001b[39m(e),\n\u001b[0;32m    221\u001b[0m     )\n",
      "File \u001b[1;32m~\\anaconda3\\Lib\\site-packages\\sklearn\\metrics\\_classification.py:2127\u001b[0m, in \u001b[0;36mprecision_score\u001b[1;34m(y_true, y_pred, labels, pos_label, average, sample_weight, zero_division)\u001b[0m\n\u001b[0;32m   1970\u001b[0m \u001b[38;5;129m@validate_params\u001b[39m(\n\u001b[0;32m   1971\u001b[0m     {\n\u001b[0;32m   1972\u001b[0m         \u001b[38;5;124m\"\u001b[39m\u001b[38;5;124my_true\u001b[39m\u001b[38;5;124m\"\u001b[39m: [\u001b[38;5;124m\"\u001b[39m\u001b[38;5;124marray-like\u001b[39m\u001b[38;5;124m\"\u001b[39m, \u001b[38;5;124m\"\u001b[39m\u001b[38;5;124msparse matrix\u001b[39m\u001b[38;5;124m\"\u001b[39m],\n\u001b[1;32m   (...)\u001b[0m\n\u001b[0;32m   1996\u001b[0m     zero_division\u001b[38;5;241m=\u001b[39m\u001b[38;5;124m\"\u001b[39m\u001b[38;5;124mwarn\u001b[39m\u001b[38;5;124m\"\u001b[39m,\n\u001b[0;32m   1997\u001b[0m ):\n\u001b[0;32m   1998\u001b[0m \u001b[38;5;250m    \u001b[39m\u001b[38;5;124;03m\"\"\"Compute the precision.\u001b[39;00m\n\u001b[0;32m   1999\u001b[0m \n\u001b[0;32m   2000\u001b[0m \u001b[38;5;124;03m    The precision is the ratio ``tp / (tp + fp)`` where ``tp`` is the number of\u001b[39;00m\n\u001b[1;32m   (...)\u001b[0m\n\u001b[0;32m   2125\u001b[0m \u001b[38;5;124;03m    array([0.5, 1. , 1. ])\u001b[39;00m\n\u001b[0;32m   2126\u001b[0m \u001b[38;5;124;03m    \"\"\"\u001b[39;00m\n\u001b[1;32m-> 2127\u001b[0m     p, _, _, _ \u001b[38;5;241m=\u001b[39m precision_recall_fscore_support(\n\u001b[0;32m   2128\u001b[0m         y_true,\n\u001b[0;32m   2129\u001b[0m         y_pred,\n\u001b[0;32m   2130\u001b[0m         labels\u001b[38;5;241m=\u001b[39mlabels,\n\u001b[0;32m   2131\u001b[0m         pos_label\u001b[38;5;241m=\u001b[39mpos_label,\n\u001b[0;32m   2132\u001b[0m         average\u001b[38;5;241m=\u001b[39maverage,\n\u001b[0;32m   2133\u001b[0m         warn_for\u001b[38;5;241m=\u001b[39m(\u001b[38;5;124m\"\u001b[39m\u001b[38;5;124mprecision\u001b[39m\u001b[38;5;124m\"\u001b[39m,),\n\u001b[0;32m   2134\u001b[0m         sample_weight\u001b[38;5;241m=\u001b[39msample_weight,\n\u001b[0;32m   2135\u001b[0m         zero_division\u001b[38;5;241m=\u001b[39mzero_division,\n\u001b[0;32m   2136\u001b[0m     )\n\u001b[0;32m   2137\u001b[0m     \u001b[38;5;28;01mreturn\u001b[39;00m p\n",
      "File \u001b[1;32m~\\anaconda3\\Lib\\site-packages\\sklearn\\utils\\_param_validation.py:184\u001b[0m, in \u001b[0;36mvalidate_params.<locals>.decorator.<locals>.wrapper\u001b[1;34m(*args, **kwargs)\u001b[0m\n\u001b[0;32m    182\u001b[0m global_skip_validation \u001b[38;5;241m=\u001b[39m get_config()[\u001b[38;5;124m\"\u001b[39m\u001b[38;5;124mskip_parameter_validation\u001b[39m\u001b[38;5;124m\"\u001b[39m]\n\u001b[0;32m    183\u001b[0m \u001b[38;5;28;01mif\u001b[39;00m global_skip_validation:\n\u001b[1;32m--> 184\u001b[0m     \u001b[38;5;28;01mreturn\u001b[39;00m func(\u001b[38;5;241m*\u001b[39margs, \u001b[38;5;241m*\u001b[39m\u001b[38;5;241m*\u001b[39mkwargs)\n\u001b[0;32m    186\u001b[0m func_sig \u001b[38;5;241m=\u001b[39m signature(func)\n\u001b[0;32m    188\u001b[0m \u001b[38;5;66;03m# Map *args/**kwargs to the function signature\u001b[39;00m\n",
      "File \u001b[1;32m~\\anaconda3\\Lib\\site-packages\\sklearn\\metrics\\_classification.py:1721\u001b[0m, in \u001b[0;36mprecision_recall_fscore_support\u001b[1;34m(y_true, y_pred, beta, labels, pos_label, average, warn_for, sample_weight, zero_division)\u001b[0m\n\u001b[0;32m   1563\u001b[0m \u001b[38;5;250m\u001b[39m\u001b[38;5;124;03m\"\"\"Compute precision, recall, F-measure and support for each class.\u001b[39;00m\n\u001b[0;32m   1564\u001b[0m \n\u001b[0;32m   1565\u001b[0m \u001b[38;5;124;03mThe precision is the ratio ``tp / (tp + fp)`` where ``tp`` is the number of\u001b[39;00m\n\u001b[1;32m   (...)\u001b[0m\n\u001b[0;32m   1718\u001b[0m \u001b[38;5;124;03m array([2, 2, 2]))\u001b[39;00m\n\u001b[0;32m   1719\u001b[0m \u001b[38;5;124;03m\"\"\"\u001b[39;00m\n\u001b[0;32m   1720\u001b[0m zero_division_value \u001b[38;5;241m=\u001b[39m _check_zero_division(zero_division)\n\u001b[1;32m-> 1721\u001b[0m labels \u001b[38;5;241m=\u001b[39m _check_set_wise_labels(y_true, y_pred, average, labels, pos_label)\n\u001b[0;32m   1723\u001b[0m \u001b[38;5;66;03m# Calculate tp_sum, pred_sum, true_sum ###\u001b[39;00m\n\u001b[0;32m   1724\u001b[0m samplewise \u001b[38;5;241m=\u001b[39m average \u001b[38;5;241m==\u001b[39m \u001b[38;5;124m\"\u001b[39m\u001b[38;5;124msamples\u001b[39m\u001b[38;5;124m\"\u001b[39m\n",
      "File \u001b[1;32m~\\anaconda3\\Lib\\site-packages\\sklearn\\metrics\\_classification.py:1499\u001b[0m, in \u001b[0;36m_check_set_wise_labels\u001b[1;34m(y_true, y_pred, average, labels, pos_label)\u001b[0m\n\u001b[0;32m   1496\u001b[0m \u001b[38;5;28;01mif\u001b[39;00m average \u001b[38;5;129;01mnot\u001b[39;00m \u001b[38;5;129;01min\u001b[39;00m average_options \u001b[38;5;129;01mand\u001b[39;00m average \u001b[38;5;241m!=\u001b[39m \u001b[38;5;124m\"\u001b[39m\u001b[38;5;124mbinary\u001b[39m\u001b[38;5;124m\"\u001b[39m:\n\u001b[0;32m   1497\u001b[0m     \u001b[38;5;28;01mraise\u001b[39;00m \u001b[38;5;167;01mValueError\u001b[39;00m(\u001b[38;5;124m\"\u001b[39m\u001b[38;5;124maverage has to be one of \u001b[39m\u001b[38;5;124m\"\u001b[39m \u001b[38;5;241m+\u001b[39m \u001b[38;5;28mstr\u001b[39m(average_options))\n\u001b[1;32m-> 1499\u001b[0m y_type, y_true, y_pred \u001b[38;5;241m=\u001b[39m _check_targets(y_true, y_pred)\n\u001b[0;32m   1500\u001b[0m \u001b[38;5;66;03m# Convert to Python primitive type to avoid NumPy type / Python str\u001b[39;00m\n\u001b[0;32m   1501\u001b[0m \u001b[38;5;66;03m# comparison. See https://github.com/numpy/numpy/issues/6784\u001b[39;00m\n\u001b[0;32m   1502\u001b[0m present_labels \u001b[38;5;241m=\u001b[39m unique_labels(y_true, y_pred)\u001b[38;5;241m.\u001b[39mtolist()\n",
      "File \u001b[1;32m~\\anaconda3\\Lib\\site-packages\\sklearn\\metrics\\_classification.py:84\u001b[0m, in \u001b[0;36m_check_targets\u001b[1;34m(y_true, y_pred)\u001b[0m\n\u001b[0;32m     57\u001b[0m \u001b[38;5;28;01mdef\u001b[39;00m \u001b[38;5;21m_check_targets\u001b[39m(y_true, y_pred):\n\u001b[0;32m     58\u001b[0m \u001b[38;5;250m    \u001b[39m\u001b[38;5;124;03m\"\"\"Check that y_true and y_pred belong to the same classification task.\u001b[39;00m\n\u001b[0;32m     59\u001b[0m \n\u001b[0;32m     60\u001b[0m \u001b[38;5;124;03m    This converts multiclass or binary types to a common shape, and raises a\u001b[39;00m\n\u001b[1;32m   (...)\u001b[0m\n\u001b[0;32m     82\u001b[0m \u001b[38;5;124;03m    y_pred : array or indicator matrix\u001b[39;00m\n\u001b[0;32m     83\u001b[0m \u001b[38;5;124;03m    \"\"\"\u001b[39;00m\n\u001b[1;32m---> 84\u001b[0m     check_consistent_length(y_true, y_pred)\n\u001b[0;32m     85\u001b[0m     type_true \u001b[38;5;241m=\u001b[39m type_of_target(y_true, input_name\u001b[38;5;241m=\u001b[39m\u001b[38;5;124m\"\u001b[39m\u001b[38;5;124my_true\u001b[39m\u001b[38;5;124m\"\u001b[39m)\n\u001b[0;32m     86\u001b[0m     type_pred \u001b[38;5;241m=\u001b[39m type_of_target(y_pred, input_name\u001b[38;5;241m=\u001b[39m\u001b[38;5;124m\"\u001b[39m\u001b[38;5;124my_pred\u001b[39m\u001b[38;5;124m\"\u001b[39m)\n",
      "File \u001b[1;32m~\\anaconda3\\Lib\\site-packages\\sklearn\\utils\\validation.py:409\u001b[0m, in \u001b[0;36mcheck_consistent_length\u001b[1;34m(*arrays)\u001b[0m\n\u001b[0;32m    407\u001b[0m uniques \u001b[38;5;241m=\u001b[39m np\u001b[38;5;241m.\u001b[39munique(lengths)\n\u001b[0;32m    408\u001b[0m \u001b[38;5;28;01mif\u001b[39;00m \u001b[38;5;28mlen\u001b[39m(uniques) \u001b[38;5;241m>\u001b[39m \u001b[38;5;241m1\u001b[39m:\n\u001b[1;32m--> 409\u001b[0m     \u001b[38;5;28;01mraise\u001b[39;00m \u001b[38;5;167;01mValueError\u001b[39;00m(\n\u001b[0;32m    410\u001b[0m         \u001b[38;5;124m\"\u001b[39m\u001b[38;5;124mFound input variables with inconsistent numbers of samples: \u001b[39m\u001b[38;5;132;01m%r\u001b[39;00m\u001b[38;5;124m\"\u001b[39m\n\u001b[0;32m    411\u001b[0m         \u001b[38;5;241m%\u001b[39m [\u001b[38;5;28mint\u001b[39m(l) \u001b[38;5;28;01mfor\u001b[39;00m l \u001b[38;5;129;01min\u001b[39;00m lengths]\n\u001b[0;32m    412\u001b[0m     )\n",
      "\u001b[1;31mValueError\u001b[0m: Found input variables with inconsistent numbers of samples: [2183, 2181]"
     ]
    }
   ],
   "source": [
    "    # Evaluating the model\n",
    "print('Precision is {}'.format(precision_score(y_test.values, predictions2, average='macro')))\n",
    "print('Recall is {}'.format(recall_score(y_test.values, predictions2, average='macro')))\n",
    "print('F1:', f1_score(y_test.values, predictions2, average='macro'))"
   ]
  },
  {
   "cell_type": "markdown",
   "id": "6a7372a7",
   "metadata": {},
   "source": [
    "## MODEL3"
   ]
  },
  {
   "cell_type": "code",
   "execution_count": 405,
   "id": "c3955c66",
   "metadata": {
    "ExecuteTime": {
     "end_time": "2024-01-20T13:16:41.256713Z",
     "start_time": "2024-01-20T13:16:41.094702Z"
    }
   },
   "outputs": [],
   "source": [
    "model3 = Sequential()\n",
    "model3.add(Dense(180,input_dim=in_dim,activation = \"relu\"))\n",
    "model3.add(Dropout(0.1))\n",
    "model3.add(Dense(120,activation = \"relu\"))\n",
    "model3.add(Dense(60,activation = \"relu\"))\n",
    "model3.add(Dropout(0.3))\n",
    "model3.add(Dense(30,activation = \"relu\"))\n",
    "model3.add(Dense(20,activation = \"relu\"))\n",
    "model3.add(Dense(17,activation = \"softmax\"))"
   ]
  },
  {
   "cell_type": "code",
   "execution_count": 438,
   "id": "bc529819",
   "metadata": {
    "ExecuteTime": {
     "end_time": "2024-01-20T13:18:27.879833Z",
     "start_time": "2024-01-20T13:18:27.838306Z"
    }
   },
   "outputs": [],
   "source": [
    "model3.compile(optimizer = 'adam' , \n",
    "              loss = 'categorical_crossentropy' ,\n",
    "              metrics=[tf.keras.metrics.BinaryAccuracy(name='accuracy'),\n",
    "                       tf.keras.metrics.Precision(name='precision'),\n",
    "                       tf.keras.metrics.Recall(name='recall')])"
   ]
  },
  {
   "cell_type": "code",
   "execution_count": 463,
   "id": "82c3fc9c",
   "metadata": {
    "ExecuteTime": {
     "end_time": "2024-01-20T13:20:51.888253Z",
     "start_time": "2024-01-20T13:20:36.060551Z"
    },
    "scrolled": true
   },
   "outputs": [
    {
     "name": "stdout",
     "output_type": "stream",
     "text": [
      "Epoch 1/20\n",
      "246/246 [==============================] - 1s 4ms/step - loss: 0.8579 - accuracy: 0.9694 - precision: 0.7950 - recall: 0.6470 - val_loss: 1.0736 - val_accuracy: 0.9676 - val_precision: 0.7656 - val_recall: 0.6472\n",
      "Epoch 2/20\n",
      "246/246 [==============================] - 1s 3ms/step - loss: 0.8665 - accuracy: 0.9691 - precision: 0.7902 - recall: 0.6461 - val_loss: 1.0562 - val_accuracy: 0.9669 - val_precision: 0.7624 - val_recall: 0.6357\n",
      "Epoch 3/20\n",
      "246/246 [==============================] - 1s 3ms/step - loss: 0.8507 - accuracy: 0.9693 - precision: 0.7962 - recall: 0.6417 - val_loss: 1.0500 - val_accuracy: 0.9681 - val_precision: 0.7737 - val_recall: 0.6460\n",
      "Epoch 4/20\n",
      "246/246 [==============================] - 1s 3ms/step - loss: 0.8532 - accuracy: 0.9691 - precision: 0.7935 - recall: 0.6424 - val_loss: 1.0327 - val_accuracy: 0.9678 - val_precision: 0.7770 - val_recall: 0.6346\n",
      "Epoch 5/20\n",
      "246/246 [==============================] - 1s 3ms/step - loss: 0.8619 - accuracy: 0.9697 - precision: 0.8010 - recall: 0.6460 - val_loss: 1.0466 - val_accuracy: 0.9689 - val_precision: 0.7703 - val_recall: 0.6724\n",
      "Epoch 6/20\n",
      "246/246 [==============================] - 1s 3ms/step - loss: 0.8355 - accuracy: 0.9707 - precision: 0.8068 - recall: 0.6599 - val_loss: 1.0545 - val_accuracy: 0.9685 - val_precision: 0.7801 - val_recall: 0.6460\n",
      "Epoch 7/20\n",
      "246/246 [==============================] - 1s 3ms/step - loss: 0.8557 - accuracy: 0.9699 - precision: 0.7997 - recall: 0.6517 - val_loss: 1.0449 - val_accuracy: 0.9662 - val_precision: 0.7555 - val_recall: 0.6300\n",
      "Epoch 8/20\n",
      "246/246 [==============================] - 1s 3ms/step - loss: 0.8586 - accuracy: 0.9695 - precision: 0.7973 - recall: 0.6452 - val_loss: 1.0463 - val_accuracy: 0.9665 - val_precision: 0.7541 - val_recall: 0.6392\n",
      "Epoch 9/20\n",
      "246/246 [==============================] - 1s 3ms/step - loss: 0.8601 - accuracy: 0.9696 - precision: 0.7975 - recall: 0.6465 - val_loss: 1.0796 - val_accuracy: 0.9668 - val_precision: 0.7606 - val_recall: 0.6369\n",
      "Epoch 10/20\n",
      "246/246 [==============================] - 1s 3ms/step - loss: 0.8503 - accuracy: 0.9694 - precision: 0.7948 - recall: 0.6468 - val_loss: 1.0626 - val_accuracy: 0.9678 - val_precision: 0.7687 - val_recall: 0.6472\n",
      "Epoch 11/20\n",
      "246/246 [==============================] - 1s 3ms/step - loss: 0.8516 - accuracy: 0.9695 - precision: 0.7948 - recall: 0.6500 - val_loss: 1.0597 - val_accuracy: 0.9677 - val_precision: 0.7596 - val_recall: 0.6586\n",
      "Epoch 12/20\n",
      "246/246 [==============================] - 1s 3ms/step - loss: 0.8381 - accuracy: 0.9704 - precision: 0.8034 - recall: 0.6572 - val_loss: 1.1330 - val_accuracy: 0.9646 - val_precision: 0.7351 - val_recall: 0.6231\n",
      "Epoch 13/20\n",
      "246/246 [==============================] - 1s 3ms/step - loss: 0.8638 - accuracy: 0.9693 - precision: 0.7958 - recall: 0.6421 - val_loss: 1.1206 - val_accuracy: 0.9666 - val_precision: 0.7632 - val_recall: 0.6277\n",
      "Epoch 14/20\n",
      "246/246 [==============================] - 1s 3ms/step - loss: 0.8273 - accuracy: 0.9703 - precision: 0.8016 - recall: 0.6573 - val_loss: 1.0945 - val_accuracy: 0.9666 - val_precision: 0.7547 - val_recall: 0.6415\n",
      "Epoch 15/20\n",
      "246/246 [==============================] - 1s 3ms/step - loss: 0.8538 - accuracy: 0.9693 - precision: 0.7942 - recall: 0.6464 - val_loss: 1.0736 - val_accuracy: 0.9685 - val_precision: 0.7773 - val_recall: 0.6518\n",
      "Epoch 16/20\n",
      "246/246 [==============================] - 1s 3ms/step - loss: 0.8268 - accuracy: 0.9699 - precision: 0.7949 - recall: 0.6585 - val_loss: 1.0652 - val_accuracy: 0.9664 - val_precision: 0.7558 - val_recall: 0.6346\n",
      "Epoch 17/20\n",
      "246/246 [==============================] - 1s 3ms/step - loss: 0.8417 - accuracy: 0.9700 - precision: 0.8011 - recall: 0.6512 - val_loss: 1.0533 - val_accuracy: 0.9684 - val_precision: 0.7760 - val_recall: 0.6506\n",
      "Epoch 18/20\n",
      "246/246 [==============================] - 1s 3ms/step - loss: 0.8387 - accuracy: 0.9698 - precision: 0.7978 - recall: 0.6525 - val_loss: 1.0958 - val_accuracy: 0.9671 - val_precision: 0.7570 - val_recall: 0.6495\n",
      "Epoch 19/20\n",
      "246/246 [==============================] - 1s 3ms/step - loss: 0.8388 - accuracy: 0.9700 - precision: 0.8032 - recall: 0.6496 - val_loss: 1.0114 - val_accuracy: 0.9687 - val_precision: 0.7790 - val_recall: 0.6541\n",
      "Epoch 20/20\n",
      "246/246 [==============================] - 1s 3ms/step - loss: 0.8293 - accuracy: 0.9708 - precision: 0.8083 - recall: 0.6592 - val_loss: 1.0274 - val_accuracy: 0.9693 - val_precision: 0.7876 - val_recall: 0.6541\n"
     ]
    },
    {
     "data": {
      "text/plain": [
       "<keras.src.callbacks.History at 0x1909cc34bd0>"
      ]
     },
     "execution_count": 463,
     "metadata": {},
     "output_type": "execute_result"
    }
   ],
   "source": [
    "model3.fit(X_train[:7859] , y_train1[:7859] , batch_size = 32 , epochs = 20 , validation_data=(X_val,y_val) ,verbose =1)"
   ]
  },
  {
   "cell_type": "code",
   "execution_count": 464,
   "id": "b3e4ec24",
   "metadata": {
    "ExecuteTime": {
     "end_time": "2024-01-20T13:20:53.453110Z",
     "start_time": "2024-01-20T13:20:53.171352Z"
    }
   },
   "outputs": [
    {
     "name": "stdout",
     "output_type": "stream",
     "text": [
      "69/69 [==============================] - 0s 2ms/step - loss: 1.0355 - accuracy: 0.9666 - precision: 0.7561 - recall: 0.6377\n",
      "\n",
      "loss: 1.036\n",
      "\n",
      "accuracy: 0.967\n",
      "\n",
      "precision: 0.756\n",
      "\n",
      "recall: 0.638\n"
     ]
    }
   ],
   "source": [
    "scores = model3.evaluate(X_test, y_test1)\n",
    "\n",
    "for i, m in enumerate(model3.metrics_names):\n",
    "    print(\"\\n%s: %.3f\"% (m, scores[i]))"
   ]
  },
  {
   "cell_type": "code",
   "execution_count": 465,
   "id": "46610afb",
   "metadata": {
    "ExecuteTime": {
     "end_time": "2024-01-20T13:20:54.665882Z",
     "start_time": "2024-01-20T13:20:54.365695Z"
    }
   },
   "outputs": [
    {
     "name": "stdout",
     "output_type": "stream",
     "text": [
      "69/69 [==============================] - 0s 2ms/step\n"
     ]
    }
   ],
   "source": [
    "predictions3 = np.argmax(model3.predict(X_test), axis=-1)"
   ]
  },
  {
   "cell_type": "code",
   "execution_count": 466,
   "id": "3c8dd109",
   "metadata": {
    "ExecuteTime": {
     "end_time": "2024-01-20T13:20:55.945078Z",
     "start_time": "2024-01-20T13:20:55.933922Z"
    }
   },
   "outputs": [
    {
     "data": {
      "text/plain": [
       "array([14,  1, 16, ..., 11,  9, 12], dtype=int64)"
      ]
     },
     "execution_count": 466,
     "metadata": {},
     "output_type": "execute_result"
    }
   ],
   "source": [
    "predictions3"
   ]
  },
  {
   "cell_type": "code",
   "execution_count": 467,
   "id": "5a3ff8ee",
   "metadata": {
    "ExecuteTime": {
     "end_time": "2024-01-20T13:20:56.901643Z",
     "start_time": "2024-01-20T13:20:56.863044Z"
    }
   },
   "outputs": [
    {
     "name": "stdout",
     "output_type": "stream",
     "text": [
      "              precision    recall  f1-score   support\n",
      "\n",
      "           0       0.60      0.54      0.57        68\n",
      "           1       0.75      0.75      0.75       176\n",
      "           2       0.67      0.76      0.71        97\n",
      "           3       0.71      0.66      0.68        90\n",
      "           4       0.71      0.52      0.60        93\n",
      "           5       0.67      0.73      0.70       108\n",
      "           6       0.78      0.86      0.82       126\n",
      "           7       0.70      0.75      0.73       136\n",
      "           8       0.68      0.63      0.65       122\n",
      "           9       0.82      0.68      0.75       155\n",
      "          10       0.59      0.70      0.64        61\n",
      "          11       0.58      0.59      0.58       172\n",
      "          12       0.63      0.83      0.71       182\n",
      "          13       0.65      0.58      0.62       151\n",
      "          14       0.65      0.47      0.55       200\n",
      "          15       0.85      0.85      0.85       169\n",
      "          16       0.77      0.97      0.86        77\n",
      "\n",
      "    accuracy                           0.70      2183\n",
      "   macro avg       0.69      0.70      0.69      2183\n",
      "weighted avg       0.70      0.70      0.69      2183\n",
      "\n"
     ]
    }
   ],
   "source": [
    "print(classification_report(y_test.values , predictions3))"
   ]
  },
  {
   "cell_type": "code",
   "execution_count": 468,
   "id": "f6fc0008",
   "metadata": {
    "ExecuteTime": {
     "end_time": "2024-01-20T13:20:57.692276Z",
     "start_time": "2024-01-20T13:20:57.656974Z"
    }
   },
   "outputs": [
    {
     "name": "stdout",
     "output_type": "stream",
     "text": [
      "Precision is 0.693538657098652\n",
      "Recall is 0.6992945754023554\n",
      "F1: 0.6918869763924599\n"
     ]
    }
   ],
   "source": [
    "    # Evaluating the model\n",
    "print('Precision is {}'.format(precision_score(y_test.values, predictions3, average='macro')))\n",
    "print('Recall is {}'.format(recall_score(y_test.values, predictions3, average='macro')))\n",
    "print('F1:', f1_score(y_test.values, predictions3, average='macro'))"
   ]
  },
  {
   "cell_type": "code",
   "execution_count": 194,
   "id": "113a184d",
   "metadata": {
    "ExecuteTime": {
     "end_time": "2024-01-19T21:46:31.821865Z",
     "start_time": "2024-01-19T21:46:31.818409Z"
    }
   },
   "outputs": [],
   "source": [
    "# the result above is for 20 epochs"
   ]
  },
  {
   "cell_type": "markdown",
   "id": "87b4c635",
   "metadata": {},
   "source": [
    "## MODEL 4"
   ]
  },
  {
   "cell_type": "code",
   "execution_count": 195,
   "id": "d5455876",
   "metadata": {
    "ExecuteTime": {
     "end_time": "2024-01-19T21:47:13.266926Z",
     "start_time": "2024-01-19T21:47:13.166463Z"
    }
   },
   "outputs": [],
   "source": [
    "model4 = Sequential()\n",
    "model4.add(Dense(300,input_dim=in_dim,activation = \"relu\"))\n",
    "model4.add(Dense(120,activation = \"relu\"))\n",
    "model4.add(Dense(60,activation = \"relu\"))\n",
    "model4.add(Dense(30,activation = \"relu\"))\n",
    "model4.add(Dense(20,activation = \"relu\"))\n",
    "model4.add(Dense(17,activation = \"softmax\"))"
   ]
  },
  {
   "cell_type": "code",
   "execution_count": 196,
   "id": "45dc1c0d",
   "metadata": {
    "ExecuteTime": {
     "end_time": "2024-01-19T21:47:25.126947Z",
     "start_time": "2024-01-19T21:47:25.103808Z"
    }
   },
   "outputs": [],
   "source": [
    "model4.compile(optimizer = 'adam' , \n",
    "              loss = 'categorical_crossentropy' ,\n",
    "              metrics=[tf.keras.metrics.BinaryAccuracy(name='accuracy'),\n",
    "                       tf.keras.metrics.Precision(name='precision'),\n",
    "                       tf.keras.metrics.Recall(name='recall')])"
   ]
  },
  {
   "cell_type": "code",
   "execution_count": 198,
   "id": "8951630f",
   "metadata": {
    "ExecuteTime": {
     "end_time": "2024-01-19T21:48:12.441487Z",
     "start_time": "2024-01-19T21:47:50.835613Z"
    },
    "scrolled": true
   },
   "outputs": [
    {
     "name": "stdout",
     "output_type": "stream",
     "text": [
      "Epoch 1/30\n",
      "246/246 [==============================] - 1s 3ms/step - loss: 1.2867 - accuracy: 0.9572 - precision: 0.7395 - recall: 0.4200 - val_loss: 1.2383 - val_accuracy: 0.9591 - val_precision: 0.7481 - val_recall: 0.4593\n",
      "Epoch 2/30\n",
      "246/246 [==============================] - 1s 3ms/step - loss: 1.2637 - accuracy: 0.9579 - precision: 0.7437 - recall: 0.4326 - val_loss: 1.2782 - val_accuracy: 0.9585 - val_precision: 0.7429 - val_recall: 0.4502\n",
      "Epoch 3/30\n",
      "246/246 [==============================] - 1s 3ms/step - loss: 1.2414 - accuracy: 0.9583 - precision: 0.7427 - recall: 0.4464 - val_loss: 1.3162 - val_accuracy: 0.9595 - val_precision: 0.7625 - val_recall: 0.4525\n",
      "Epoch 4/30\n",
      "246/246 [==============================] - 1s 3ms/step - loss: 1.2068 - accuracy: 0.9597 - precision: 0.7528 - recall: 0.4680 - val_loss: 1.2205 - val_accuracy: 0.9619 - val_precision: 0.7740 - val_recall: 0.4983\n",
      "Epoch 5/30\n",
      "246/246 [==============================] - 1s 3ms/step - loss: 1.2224 - accuracy: 0.9587 - precision: 0.7440 - recall: 0.4549 - val_loss: 1.2446 - val_accuracy: 0.9614 - val_precision: 0.7613 - val_recall: 0.5006\n",
      "Epoch 6/30\n",
      "246/246 [==============================] - 1s 3ms/step - loss: 1.1821 - accuracy: 0.9603 - precision: 0.7543 - recall: 0.4814 - val_loss: 1.2048 - val_accuracy: 0.9613 - val_precision: 0.7670 - val_recall: 0.4903\n",
      "Epoch 7/30\n",
      "246/246 [==============================] - 1s 3ms/step - loss: 1.1694 - accuracy: 0.9597 - precision: 0.7450 - recall: 0.4795 - val_loss: 1.1732 - val_accuracy: 0.9631 - val_precision: 0.7617 - val_recall: 0.5418\n",
      "Epoch 8/30\n",
      "246/246 [==============================] - 1s 3ms/step - loss: 1.1968 - accuracy: 0.9596 - precision: 0.7456 - recall: 0.4763 - val_loss: 1.1603 - val_accuracy: 0.9623 - val_precision: 0.7661 - val_recall: 0.5178\n",
      "Epoch 9/30\n",
      "246/246 [==============================] - 1s 3ms/step - loss: 1.1376 - accuracy: 0.9610 - precision: 0.7530 - recall: 0.5003 - val_loss: 1.1699 - val_accuracy: 0.9631 - val_precision: 0.7722 - val_recall: 0.5281\n",
      "Epoch 10/30\n",
      "246/246 [==============================] - 1s 3ms/step - loss: 1.1234 - accuracy: 0.9615 - precision: 0.7569 - recall: 0.5094 - val_loss: 1.1529 - val_accuracy: 0.9631 - val_precision: 0.7860 - val_recall: 0.5132\n",
      "Epoch 11/30\n",
      "246/246 [==============================] - 1s 3ms/step - loss: 1.1133 - accuracy: 0.9616 - precision: 0.7567 - recall: 0.5109 - val_loss: 1.1537 - val_accuracy: 0.9635 - val_precision: 0.7652 - val_recall: 0.5487\n",
      "Epoch 12/30\n",
      "246/246 [==============================] - 1s 3ms/step - loss: 1.1116 - accuracy: 0.9618 - precision: 0.7551 - recall: 0.5184 - val_loss: 1.1572 - val_accuracy: 0.9639 - val_precision: 0.7679 - val_recall: 0.5533\n",
      "Epoch 13/30\n",
      "246/246 [==============================] - 1s 3ms/step - loss: 1.1167 - accuracy: 0.9615 - precision: 0.7532 - recall: 0.5127 - val_loss: 1.1528 - val_accuracy: 0.9631 - val_precision: 0.7681 - val_recall: 0.5349\n",
      "Epoch 14/30\n",
      "246/246 [==============================] - 1s 3ms/step - loss: 1.1105 - accuracy: 0.9619 - precision: 0.7565 - recall: 0.5188 - val_loss: 1.1457 - val_accuracy: 0.9629 - val_precision: 0.7643 - val_recall: 0.5349\n",
      "Epoch 15/30\n",
      "246/246 [==============================] - 1s 3ms/step - loss: 1.0839 - accuracy: 0.9626 - precision: 0.7637 - recall: 0.5268 - val_loss: 1.2215 - val_accuracy: 0.9623 - val_precision: 0.7810 - val_recall: 0.4983\n",
      "Epoch 16/30\n",
      "246/246 [==============================] - 1s 3ms/step - loss: 1.0858 - accuracy: 0.9627 - precision: 0.7644 - recall: 0.5297 - val_loss: 1.1048 - val_accuracy: 0.9646 - val_precision: 0.7788 - val_recall: 0.5567\n",
      "Epoch 17/30\n",
      "246/246 [==============================] - 1s 3ms/step - loss: 1.0811 - accuracy: 0.9620 - precision: 0.7571 - recall: 0.5212 - val_loss: 1.0973 - val_accuracy: 0.9652 - val_precision: 0.7825 - val_recall: 0.5647\n",
      "Epoch 18/30\n",
      "246/246 [==============================] - 1s 3ms/step - loss: 1.0651 - accuracy: 0.9627 - precision: 0.7590 - recall: 0.5371 - val_loss: 1.0591 - val_accuracy: 0.9661 - val_precision: 0.8003 - val_recall: 0.5647\n",
      "Epoch 19/30\n",
      "246/246 [==============================] - 1s 3ms/step - loss: 1.0457 - accuracy: 0.9632 - precision: 0.7649 - recall: 0.5418 - val_loss: 1.1243 - val_accuracy: 0.9647 - val_precision: 0.7689 - val_recall: 0.5716\n",
      "Epoch 20/30\n",
      "246/246 [==============================] - 1s 3ms/step - loss: 1.0440 - accuracy: 0.9636 - precision: 0.7675 - recall: 0.5470 - val_loss: 1.0967 - val_accuracy: 0.9656 - val_precision: 0.8017 - val_recall: 0.5510\n",
      "Epoch 21/30\n",
      "246/246 [==============================] - 1s 3ms/step - loss: 1.0406 - accuracy: 0.9641 - precision: 0.7729 - recall: 0.5530 - val_loss: 1.2224 - val_accuracy: 0.9612 - val_precision: 0.7376 - val_recall: 0.5281\n",
      "Epoch 22/30\n",
      "246/246 [==============================] - 1s 3ms/step - loss: 1.0261 - accuracy: 0.9644 - precision: 0.7767 - recall: 0.5545 - val_loss: 1.1181 - val_accuracy: 0.9646 - val_precision: 0.7702 - val_recall: 0.5682\n",
      "Epoch 23/30\n",
      "246/246 [==============================] - 1s 3ms/step - loss: 1.0292 - accuracy: 0.9636 - precision: 0.7628 - recall: 0.5529 - val_loss: 1.2089 - val_accuracy: 0.9617 - val_precision: 0.7266 - val_recall: 0.5601\n",
      "Epoch 24/30\n",
      "246/246 [==============================] - 1s 3ms/step - loss: 1.0308 - accuracy: 0.9638 - precision: 0.7702 - recall: 0.5493 - val_loss: 1.2664 - val_accuracy: 0.9588 - val_precision: 0.7003 - val_recall: 0.5246\n",
      "Epoch 25/30\n",
      "246/246 [==============================] - 1s 3ms/step - loss: 1.0173 - accuracy: 0.9644 - precision: 0.7715 - recall: 0.5608 - val_loss: 1.1889 - val_accuracy: 0.9640 - val_precision: 0.7657 - val_recall: 0.5578\n",
      "Epoch 26/30\n",
      "246/246 [==============================] - 1s 3ms/step - loss: 0.9943 - accuracy: 0.9653 - precision: 0.7788 - recall: 0.5728 - val_loss: 1.0926 - val_accuracy: 0.9650 - val_precision: 0.7762 - val_recall: 0.5682\n",
      "Epoch 27/30\n",
      "246/246 [==============================] - 1s 3ms/step - loss: 0.9964 - accuracy: 0.9649 - precision: 0.7741 - recall: 0.5707 - val_loss: 1.0776 - val_accuracy: 0.9654 - val_precision: 0.7636 - val_recall: 0.5956\n",
      "Epoch 28/30\n",
      "246/246 [==============================] - 1s 3ms/step - loss: 0.9864 - accuracy: 0.9651 - precision: 0.7748 - recall: 0.5740 - val_loss: 1.1140 - val_accuracy: 0.9644 - val_precision: 0.7829 - val_recall: 0.5452\n",
      "Epoch 29/30\n",
      "246/246 [==============================] - 1s 3ms/step - loss: 0.9761 - accuracy: 0.9661 - precision: 0.7871 - recall: 0.5818 - val_loss: 1.0667 - val_accuracy: 0.9659 - val_precision: 0.7845 - val_recall: 0.5796\n",
      "Epoch 30/30\n",
      "246/246 [==============================] - 1s 3ms/step - loss: 0.9812 - accuracy: 0.9654 - precision: 0.7764 - recall: 0.5788 - val_loss: 1.0394 - val_accuracy: 0.9662 - val_precision: 0.8006 - val_recall: 0.5659\n"
     ]
    },
    {
     "data": {
      "text/plain": [
       "<keras.src.callbacks.History at 0x21ae7038910>"
      ]
     },
     "execution_count": 198,
     "metadata": {},
     "output_type": "execute_result"
    }
   ],
   "source": [
    "model4.fit(X_train[:7859] , y_train1[:7859] , batch_size = 32 , epochs = 30 , validation_data=(X_val,y_val) ,verbose =1)"
   ]
  },
  {
   "cell_type": "code",
   "execution_count": 199,
   "id": "e4981935",
   "metadata": {
    "ExecuteTime": {
     "end_time": "2024-01-19T21:48:25.002603Z",
     "start_time": "2024-01-19T21:48:24.999532Z"
    }
   },
   "outputs": [],
   "source": [
    "# 40 EPOCHS IN TOTAL"
   ]
  },
  {
   "cell_type": "code",
   "execution_count": 200,
   "id": "bb7544c3",
   "metadata": {
    "ExecuteTime": {
     "end_time": "2024-01-19T21:48:42.020215Z",
     "start_time": "2024-01-19T21:48:41.760375Z"
    }
   },
   "outputs": [
    {
     "name": "stdout",
     "output_type": "stream",
     "text": [
      "69/69 [==============================] - 0s 2ms/step - loss: 1.0413 - accuracy: 0.9656 - precision: 0.7975 - recall: 0.5557\n",
      "\n",
      "loss: 1.041\n",
      "\n",
      "accuracy: 0.966\n",
      "\n",
      "precision: 0.798\n",
      "\n",
      "recall: 0.556\n"
     ]
    }
   ],
   "source": [
    "scores = model4.evaluate(X_test, y_test1)\n",
    "\n",
    "for i, m in enumerate(model4.metrics_names):\n",
    "    print(\"\\n%s: %.3f\"% (m, scores[i]))"
   ]
  },
  {
   "cell_type": "code",
   "execution_count": 201,
   "id": "ea99b158",
   "metadata": {
    "ExecuteTime": {
     "end_time": "2024-01-19T21:48:55.388946Z",
     "start_time": "2024-01-19T21:48:55.042922Z"
    }
   },
   "outputs": [
    {
     "name": "stdout",
     "output_type": "stream",
     "text": [
      "69/69 [==============================] - 0s 2ms/step\n"
     ]
    }
   ],
   "source": [
    "predictions4 = np.argmax(model4.predict(X_test), axis=-1)"
   ]
  },
  {
   "cell_type": "code",
   "execution_count": 202,
   "id": "ed128bde",
   "metadata": {
    "ExecuteTime": {
     "end_time": "2024-01-19T21:49:02.130818Z",
     "start_time": "2024-01-19T21:49:02.124350Z"
    }
   },
   "outputs": [
    {
     "data": {
      "text/plain": [
       "array([14,  1, 16, ..., 11,  9, 12], dtype=int64)"
      ]
     },
     "execution_count": 202,
     "metadata": {},
     "output_type": "execute_result"
    }
   ],
   "source": [
    "predictions4"
   ]
  },
  {
   "cell_type": "code",
   "execution_count": 203,
   "id": "bd20d2d8",
   "metadata": {
    "ExecuteTime": {
     "end_time": "2024-01-19T21:49:11.519550Z",
     "start_time": "2024-01-19T21:49:11.499029Z"
    }
   },
   "outputs": [
    {
     "name": "stdout",
     "output_type": "stream",
     "text": [
      "              precision    recall  f1-score   support\n",
      "\n",
      "           0       0.44      0.56      0.49        68\n",
      "           1       0.67      0.82      0.74       176\n",
      "           2       0.59      0.78      0.67        97\n",
      "           3       0.80      0.59      0.68        90\n",
      "           4       0.56      0.69      0.62        93\n",
      "           5       0.74      0.61      0.67       108\n",
      "           6       0.78      0.77      0.78       126\n",
      "           7       0.76      0.67      0.71       136\n",
      "           8       0.61      0.64      0.63       122\n",
      "           9       0.85      0.63      0.72       155\n",
      "          10       0.63      0.59      0.61        61\n",
      "          11       0.58      0.56      0.57       172\n",
      "          12       0.75      0.75      0.75       182\n",
      "          13       0.77      0.51      0.61       151\n",
      "          14       0.53      0.58      0.56       200\n",
      "          15       0.81      0.88      0.85       169\n",
      "          16       0.82      0.96      0.89        77\n",
      "\n",
      "    accuracy                           0.68      2183\n",
      "   macro avg       0.69      0.68      0.68      2183\n",
      "weighted avg       0.69      0.68      0.68      2183\n",
      "\n"
     ]
    }
   ],
   "source": [
    "print(classification_report(y_test.values , predictions4))"
   ]
  },
  {
   "cell_type": "code",
   "execution_count": 204,
   "id": "fcd5504d",
   "metadata": {
    "ExecuteTime": {
     "end_time": "2024-01-19T21:49:34.405775Z",
     "start_time": "2024-01-19T21:49:34.389654Z"
    }
   },
   "outputs": [
    {
     "name": "stdout",
     "output_type": "stream",
     "text": [
      "Precision is 0.6889257599801273\n",
      "Recall is 0.6818623383178373\n",
      "F1: 0.6786670782075368\n"
     ]
    }
   ],
   "source": [
    "    # Evaluating the model\n",
    "print('Precision is {}'.format(precision_score(y_test.values, predictions4, average='macro')))\n",
    "print('Recall is {}'.format(recall_score(y_test.values, predictions4, average='macro')))\n",
    "print('F1:', f1_score(y_test.values, predictions4, average='macro'))"
   ]
  },
  {
   "cell_type": "markdown",
   "id": "0fd6e1ee",
   "metadata": {},
   "source": [
    "## MODEL 5"
   ]
  },
  {
   "cell_type": "code",
   "execution_count": 226,
   "id": "df4af324",
   "metadata": {
    "ExecuteTime": {
     "end_time": "2024-01-19T21:53:32.504491Z",
     "start_time": "2024-01-19T21:53:32.391740Z"
    }
   },
   "outputs": [],
   "source": [
    "model5 = Sequential()\n",
    "model5.add(Dense(100,input_dim=in_dim,activation = \"relu\"))\n",
    "model5.add(Dense(320,activation = \"relu\"))\n",
    "model5.add(Dense(180,activation = \"relu\"))\n",
    "model5.add(Dense(100,activation = \"relu\"))\n",
    "model5.add(Dense(60,activation = \"relu\"))\n",
    "model5.add(Dense(30,activation = \"relu\"))\n",
    "model5.add(Dense(17,activation = \"softmax\"))"
   ]
  },
  {
   "cell_type": "code",
   "execution_count": 247,
   "id": "d9442e67",
   "metadata": {
    "ExecuteTime": {
     "end_time": "2024-01-19T21:57:50.293701Z",
     "start_time": "2024-01-19T21:57:50.267218Z"
    }
   },
   "outputs": [],
   "source": [
    "model5.compile(optimizer = 'rmsprop' , \n",
    "              loss = 'categorical_crossentropy' ,\n",
    "              metrics=[tf.keras.metrics.BinaryAccuracy(name='accuracy'),\n",
    "                       tf.keras.metrics.Precision(name='precision'),\n",
    "                       tf.keras.metrics.Recall(name='recall')])"
   ]
  },
  {
   "cell_type": "code",
   "execution_count": 248,
   "id": "345eeea3",
   "metadata": {
    "ExecuteTime": {
     "end_time": "2024-01-19T21:58:07.019151Z",
     "start_time": "2024-01-19T21:57:51.090957Z"
    },
    "scrolled": true
   },
   "outputs": [
    {
     "name": "stdout",
     "output_type": "stream",
     "text": [
      "Epoch 1/20\n",
      "246/246 [==============================] - 2s 4ms/step - loss: 1.0453 - accuracy: 0.9634 - precision: 0.7600 - recall: 0.5516 - val_loss: 1.1896 - val_accuracy: 0.9630 - val_precision: 0.7411 - val_recall: 0.5704\n",
      "Epoch 2/20\n",
      "246/246 [==============================] - 1s 3ms/step - loss: 1.0348 - accuracy: 0.9635 - precision: 0.7594 - recall: 0.5547 - val_loss: 1.1362 - val_accuracy: 0.9642 - val_precision: 0.7560 - val_recall: 0.5785\n",
      "Epoch 3/20\n",
      "246/246 [==============================] - 1s 3ms/step - loss: 1.0245 - accuracy: 0.9644 - precision: 0.7663 - recall: 0.5670 - val_loss: 1.1516 - val_accuracy: 0.9632 - val_precision: 0.7496 - val_recall: 0.5624\n",
      "Epoch 4/20\n",
      "246/246 [==============================] - 1s 3ms/step - loss: 1.0185 - accuracy: 0.9646 - precision: 0.7678 - recall: 0.5702 - val_loss: 1.1926 - val_accuracy: 0.9619 - val_precision: 0.7399 - val_recall: 0.5441\n",
      "Epoch 5/20\n",
      "246/246 [==============================] - 1s 3ms/step - loss: 1.0019 - accuracy: 0.9650 - precision: 0.7704 - recall: 0.5767 - val_loss: 1.0763 - val_accuracy: 0.9654 - val_precision: 0.7752 - val_recall: 0.5808\n",
      "Epoch 6/20\n",
      "246/246 [==============================] - 1s 3ms/step - loss: 0.9990 - accuracy: 0.9650 - precision: 0.7702 - recall: 0.5783 - val_loss: 1.3208 - val_accuracy: 0.9611 - val_precision: 0.7301 - val_recall: 0.5361\n",
      "Epoch 7/20\n",
      "246/246 [==============================] - 1s 3ms/step - loss: 0.9917 - accuracy: 0.9655 - precision: 0.7754 - recall: 0.5812 - val_loss: 1.2591 - val_accuracy: 0.9629 - val_precision: 0.7365 - val_recall: 0.5762\n",
      "Epoch 8/20\n",
      "246/246 [==============================] - 1s 3ms/step - loss: 0.9921 - accuracy: 0.9649 - precision: 0.7652 - recall: 0.5814 - val_loss: 1.3871 - val_accuracy: 0.9561 - val_precision: 0.6838 - val_recall: 0.4731\n",
      "Epoch 9/20\n",
      "246/246 [==============================] - 1s 3ms/step - loss: 0.9775 - accuracy: 0.9653 - precision: 0.7692 - recall: 0.5851 - val_loss: 1.1398 - val_accuracy: 0.9631 - val_precision: 0.7404 - val_recall: 0.5750\n",
      "Epoch 10/20\n",
      "246/246 [==============================] - 1s 3ms/step - loss: 0.9721 - accuracy: 0.9656 - precision: 0.7717 - recall: 0.5904 - val_loss: 1.1170 - val_accuracy: 0.9660 - val_precision: 0.7717 - val_recall: 0.6002\n",
      "Epoch 11/20\n",
      "246/246 [==============================] - 1s 3ms/step - loss: 0.9631 - accuracy: 0.9659 - precision: 0.7753 - recall: 0.5919 - val_loss: 1.1735 - val_accuracy: 0.9629 - val_precision: 0.7242 - val_recall: 0.5956\n",
      "Epoch 12/20\n",
      "246/246 [==============================] - 1s 3ms/step - loss: 0.9588 - accuracy: 0.9658 - precision: 0.7730 - recall: 0.5933 - val_loss: 1.2927 - val_accuracy: 0.9605 - val_precision: 0.7341 - val_recall: 0.5155\n",
      "Epoch 13/20\n",
      "246/246 [==============================] - 1s 3ms/step - loss: 0.9550 - accuracy: 0.9661 - precision: 0.7787 - recall: 0.5914 - val_loss: 1.0351 - val_accuracy: 0.9692 - val_precision: 0.8041 - val_recall: 0.6300\n",
      "Epoch 14/20\n",
      "246/246 [==============================] - 1s 3ms/step - loss: 0.9478 - accuracy: 0.9664 - precision: 0.7766 - recall: 0.6017 - val_loss: 1.2444 - val_accuracy: 0.9640 - val_precision: 0.7442 - val_recall: 0.5899\n",
      "Epoch 15/20\n",
      "246/246 [==============================] - 1s 3ms/step - loss: 0.9277 - accuracy: 0.9668 - precision: 0.7803 - recall: 0.6054 - val_loss: 1.1709 - val_accuracy: 0.9625 - val_precision: 0.7420 - val_recall: 0.5567\n",
      "Epoch 16/20\n",
      "246/246 [==============================] - 1s 3ms/step - loss: 0.9292 - accuracy: 0.9671 - precision: 0.7828 - recall: 0.6089 - val_loss: 1.0693 - val_accuracy: 0.9658 - val_precision: 0.7577 - val_recall: 0.6163\n",
      "Epoch 17/20\n",
      "246/246 [==============================] - 1s 3ms/step - loss: 0.9258 - accuracy: 0.9670 - precision: 0.7795 - recall: 0.6113 - val_loss: 1.0465 - val_accuracy: 0.9655 - val_precision: 0.7643 - val_recall: 0.5979\n",
      "Epoch 18/20\n",
      "246/246 [==============================] - 1s 3ms/step - loss: 0.9016 - accuracy: 0.9673 - precision: 0.7822 - recall: 0.6146 - val_loss: 1.0702 - val_accuracy: 0.9665 - val_precision: 0.7757 - val_recall: 0.6060\n",
      "Epoch 19/20\n",
      "246/246 [==============================] - 1s 3ms/step - loss: 0.9099 - accuracy: 0.9676 - precision: 0.7840 - recall: 0.6199 - val_loss: 1.2445 - val_accuracy: 0.9630 - val_precision: 0.7440 - val_recall: 0.5659\n",
      "Epoch 20/20\n",
      "246/246 [==============================] - 1s 3ms/step - loss: 0.9048 - accuracy: 0.9672 - precision: 0.7823 - recall: 0.6132 - val_loss: 1.0985 - val_accuracy: 0.9659 - val_precision: 0.7559 - val_recall: 0.6208\n"
     ]
    },
    {
     "data": {
      "text/plain": [
       "<keras.src.callbacks.History at 0x21add426810>"
      ]
     },
     "execution_count": 248,
     "metadata": {},
     "output_type": "execute_result"
    }
   ],
   "source": [
    "model5.fit(X_train[:7859] , y_train1[:7859] , batch_size = 32 , epochs = 20 , validation_data=(X_val,y_val) ,verbose =1)"
   ]
  },
  {
   "cell_type": "code",
   "execution_count": 249,
   "id": "eed68eb3",
   "metadata": {
    "ExecuteTime": {
     "end_time": "2024-01-19T21:58:09.933345Z",
     "start_time": "2024-01-19T21:58:09.684470Z"
    }
   },
   "outputs": [
    {
     "name": "stdout",
     "output_type": "stream",
     "text": [
      "69/69 [==============================] - 0s 2ms/step - loss: 1.0820 - accuracy: 0.9655 - precision: 0.7605 - recall: 0.6038\n",
      "\n",
      "loss: 1.082\n",
      "\n",
      "accuracy: 0.966\n",
      "\n",
      "precision: 0.761\n",
      "\n",
      "recall: 0.604\n"
     ]
    }
   ],
   "source": [
    "scores = model5.evaluate(X_test, y_test1)\n",
    "\n",
    "for i, m in enumerate(model5.metrics_names):\n",
    "    print(\"\\n%s: %.3f\"% (m, scores[i]))"
   ]
  },
  {
   "cell_type": "code",
   "execution_count": 250,
   "id": "6707cb67",
   "metadata": {
    "ExecuteTime": {
     "end_time": "2024-01-19T21:58:11.336257Z",
     "start_time": "2024-01-19T21:58:10.981301Z"
    }
   },
   "outputs": [
    {
     "name": "stdout",
     "output_type": "stream",
     "text": [
      "69/69 [==============================] - 0s 2ms/step\n"
     ]
    }
   ],
   "source": [
    "predictions5 = np.argmax(model5.predict(X_test), axis=-1)"
   ]
  },
  {
   "cell_type": "code",
   "execution_count": 251,
   "id": "ac83f0cd",
   "metadata": {
    "ExecuteTime": {
     "end_time": "2024-01-19T21:58:11.754551Z",
     "start_time": "2024-01-19T21:58:11.748278Z"
    }
   },
   "outputs": [
    {
     "data": {
      "text/plain": [
       "array([14,  1, 16, ..., 11,  9, 12], dtype=int64)"
      ]
     },
     "execution_count": 251,
     "metadata": {},
     "output_type": "execute_result"
    }
   ],
   "source": [
    "predictions5"
   ]
  },
  {
   "cell_type": "code",
   "execution_count": 252,
   "id": "6c1febeb",
   "metadata": {
    "ExecuteTime": {
     "end_time": "2024-01-19T21:58:13.400951Z",
     "start_time": "2024-01-19T21:58:13.381027Z"
    }
   },
   "outputs": [
    {
     "name": "stdout",
     "output_type": "stream",
     "text": [
      "              precision    recall  f1-score   support\n",
      "\n",
      "           0       0.70      0.47      0.56        68\n",
      "           1       0.66      0.84      0.74       176\n",
      "           2       0.70      0.68      0.69        97\n",
      "           3       0.79      0.61      0.69        90\n",
      "           4       0.71      0.48      0.58        93\n",
      "           5       0.59      0.81      0.68       108\n",
      "           6       0.83      0.75      0.79       126\n",
      "           7       0.78      0.65      0.71       136\n",
      "           8       0.65      0.52      0.58       122\n",
      "           9       0.60      0.78      0.68       155\n",
      "          10       0.57      0.66      0.61        61\n",
      "          11       0.71      0.49      0.58       172\n",
      "          12       0.78      0.73      0.75       182\n",
      "          13       0.76      0.49      0.60       151\n",
      "          14       0.47      0.66      0.55       200\n",
      "          15       0.82      0.89      0.86       169\n",
      "          16       0.85      0.97      0.91        77\n",
      "\n",
      "    accuracy                           0.68      2183\n",
      "   macro avg       0.70      0.68      0.68      2183\n",
      "weighted avg       0.70      0.68      0.68      2183\n",
      "\n"
     ]
    }
   ],
   "source": [
    "print(classification_report(y_test.values , predictions5))"
   ]
  },
  {
   "cell_type": "code",
   "execution_count": 253,
   "id": "f72e0838",
   "metadata": {
    "ExecuteTime": {
     "end_time": "2024-01-19T21:58:14.420712Z",
     "start_time": "2024-01-19T21:58:14.405651Z"
    }
   },
   "outputs": [
    {
     "name": "stdout",
     "output_type": "stream",
     "text": [
      "Precision is 0.7043281836758996\n",
      "Recall is 0.6759700902720309\n",
      "F1: 0.6792792116958751\n"
     ]
    }
   ],
   "source": [
    "    # Evaluating the model\n",
    "print('Precision is {}'.format(precision_score(y_test.values, predictions5, average='macro')))\n",
    "print('Recall is {}'.format(recall_score(y_test.values, predictions5, average='macro')))\n",
    "print('F1:', f1_score(y_test.values, predictions5, average='macro'))"
   ]
  },
  {
   "cell_type": "markdown",
   "id": "87cb7970",
   "metadata": {},
   "source": [
    "### try_error"
   ]
  },
  {
   "cell_type": "code",
   "execution_count": 254,
   "id": "52fd45d1",
   "metadata": {
    "ExecuteTime": {
     "end_time": "2024-01-19T22:02:40.095685Z",
     "start_time": "2024-01-19T22:02:39.834140Z"
    }
   },
   "outputs": [
    {
     "name": "stdout",
     "output_type": "stream",
     "text": [
      "69/69 [==============================] - 0s 2ms/step\n"
     ]
    }
   ],
   "source": [
    "predictions_shitty = model5.predict(X_test)"
   ]
  },
  {
   "cell_type": "code",
   "execution_count": 255,
   "id": "7c70f12c",
   "metadata": {
    "ExecuteTime": {
     "end_time": "2024-01-19T22:03:19.196913Z",
     "start_time": "2024-01-19T22:03:19.191925Z"
    }
   },
   "outputs": [],
   "source": [
    "class_shitty = np.argmax(predictions_shitty,axis=1)"
   ]
  },
  {
   "cell_type": "code",
   "execution_count": 256,
   "id": "64d3351f",
   "metadata": {
    "ExecuteTime": {
     "end_time": "2024-01-19T22:03:27.668562Z",
     "start_time": "2024-01-19T22:03:27.662562Z"
    }
   },
   "outputs": [
    {
     "data": {
      "text/plain": [
       "array([14,  1, 16, ..., 11,  9, 12], dtype=int64)"
      ]
     },
     "execution_count": 256,
     "metadata": {},
     "output_type": "execute_result"
    }
   ],
   "source": [
    "class_shitty"
   ]
  },
  {
   "cell_type": "code",
   "execution_count": 257,
   "id": "0356b6f4",
   "metadata": {
    "ExecuteTime": {
     "end_time": "2024-01-19T22:03:44.313619Z",
     "start_time": "2024-01-19T22:03:44.297514Z"
    }
   },
   "outputs": [
    {
     "name": "stdout",
     "output_type": "stream",
     "text": [
      "              precision    recall  f1-score   support\n",
      "\n",
      "           0       0.70      0.47      0.56        68\n",
      "           1       0.66      0.84      0.74       176\n",
      "           2       0.70      0.68      0.69        97\n",
      "           3       0.79      0.61      0.69        90\n",
      "           4       0.71      0.48      0.58        93\n",
      "           5       0.59      0.81      0.68       108\n",
      "           6       0.83      0.75      0.79       126\n",
      "           7       0.78      0.65      0.71       136\n",
      "           8       0.65      0.52      0.58       122\n",
      "           9       0.60      0.78      0.68       155\n",
      "          10       0.57      0.66      0.61        61\n",
      "          11       0.71      0.49      0.58       172\n",
      "          12       0.78      0.73      0.75       182\n",
      "          13       0.76      0.49      0.60       151\n",
      "          14       0.47      0.66      0.55       200\n",
      "          15       0.82      0.89      0.86       169\n",
      "          16       0.85      0.97      0.91        77\n",
      "\n",
      "    accuracy                           0.68      2183\n",
      "   macro avg       0.70      0.68      0.68      2183\n",
      "weighted avg       0.70      0.68      0.68      2183\n",
      "\n"
     ]
    }
   ],
   "source": [
    "print(classification_report(y_test.values , class_shitty))"
   ]
  },
  {
   "cell_type": "code",
   "execution_count": 258,
   "id": "4c076872",
   "metadata": {
    "ExecuteTime": {
     "end_time": "2024-01-19T22:04:00.120415Z",
     "start_time": "2024-01-19T22:04:00.106015Z"
    }
   },
   "outputs": [
    {
     "name": "stdout",
     "output_type": "stream",
     "text": [
      "Precision is 0.7043281836758996\n",
      "Recall is 0.6759700902720309\n",
      "F1: 0.6792792116958751\n"
     ]
    }
   ],
   "source": [
    "    # Evaluating the model\n",
    "print('Precision is {}'.format(precision_score(y_test.values, class_shitfuck, average='macro')))\n",
    "print('Recall is {}'.format(recall_score(y_test.values, class_shitfuck, average='macro')))\n",
    "print('F1:', f1_score(y_test.values, class_shitfuck, average='macro'))"
   ]
  },
  {
   "cell_type": "markdown",
   "id": "c31ce7da",
   "metadata": {},
   "source": [
    "## MODEL 6"
   ]
  },
  {
   "cell_type": "code",
   "execution_count": 368,
   "id": "3d4138e2",
   "metadata": {
    "ExecuteTime": {
     "end_time": "2024-01-19T22:17:12.847202Z",
     "start_time": "2024-01-19T22:17:12.633672Z"
    }
   },
   "outputs": [],
   "source": [
    "model6 = Sequential()\n",
    "model6.add(Dense(200,input_dim=in_dim,activation = \"relu\"))\n",
    "model6.add(Dense(180,activation = \"relu\"))\n",
    "model6.add(Dense(120,activation = \"relu\"))\n",
    "model6.add(Dense(180,activation = \"relu\"))\n",
    "model6.add(Dense(120,activation = \"relu\"))\n",
    "model6.add(Dense(180,activation = \"relu\"))\n",
    "model6.add(Dense(120,activation = \"relu\"))\n",
    "model6.add(Dense(60,activation = \"leaky_relu\"))\n",
    "model6.add(Dense(17,activation = \"softmax\"))"
   ]
  },
  {
   "cell_type": "code",
   "execution_count": 377,
   "id": "57dbd66f",
   "metadata": {
    "ExecuteTime": {
     "end_time": "2024-01-19T22:17:48.404944Z",
     "start_time": "2024-01-19T22:17:48.355419Z"
    }
   },
   "outputs": [],
   "source": [
    "model6.compile(optimizer = 'adam' , \n",
    "              loss = 'categorical_crossentropy' ,\n",
    "              metrics=[tf.keras.metrics.BinaryAccuracy(name='accuracy'),\n",
    "                       tf.keras.metrics.Precision(name='precision'),\n",
    "                       tf.keras.metrics.Recall(name='recall')])"
   ]
  },
  {
   "cell_type": "code",
   "execution_count": 378,
   "id": "8815a004",
   "metadata": {
    "ExecuteTime": {
     "end_time": "2024-01-19T22:17:49.278894Z",
     "start_time": "2024-01-19T22:17:49.234504Z"
    }
   },
   "outputs": [
    {
     "name": "stdout",
     "output_type": "stream",
     "text": [
      "Model: \"sequential_26\"\n",
      "_________________________________________________________________\n",
      " Layer (type)                Output Shape              Param #   \n",
      "=================================================================\n",
      " dense_169 (Dense)           (None, 200)               40200     \n",
      "                                                                 \n",
      " dense_170 (Dense)           (None, 180)               36180     \n",
      "                                                                 \n",
      " dense_171 (Dense)           (None, 120)               21720     \n",
      "                                                                 \n",
      " dense_172 (Dense)           (None, 180)               21780     \n",
      "                                                                 \n",
      " dense_173 (Dense)           (None, 120)               21720     \n",
      "                                                                 \n",
      " dense_174 (Dense)           (None, 180)               21780     \n",
      "                                                                 \n",
      " dense_175 (Dense)           (None, 120)               21720     \n",
      "                                                                 \n",
      " dense_176 (Dense)           (None, 60)                7260      \n",
      "                                                                 \n",
      " dense_177 (Dense)           (None, 17)                1037      \n",
      "                                                                 \n",
      "=================================================================\n",
      "Total params: 193397 (755.46 KB)\n",
      "Trainable params: 193397 (755.46 KB)\n",
      "Non-trainable params: 0 (0.00 Byte)\n",
      "_________________________________________________________________\n"
     ]
    }
   ],
   "source": [
    "model6.summary()"
   ]
  },
  {
   "cell_type": "code",
   "execution_count": 385,
   "id": "daaf01e2",
   "metadata": {
    "ExecuteTime": {
     "end_time": "2024-01-19T22:18:58.565359Z",
     "start_time": "2024-01-19T22:18:28.035065Z"
    },
    "scrolled": true
   },
   "outputs": [
    {
     "name": "stdout",
     "output_type": "stream",
     "text": [
      "Epoch 1/18\n",
      "492/492 [==============================] - 2s 4ms/step - loss: 1.1710 - accuracy: 0.9604 - precision: 0.7500 - recall: 0.4906 - val_loss: 1.3691 - val_accuracy: 0.9580 - val_precision: 0.6973 - val_recall: 0.5040\n",
      "Epoch 2/18\n",
      "492/492 [==============================] - 2s 3ms/step - loss: 1.0896 - accuracy: 0.9621 - precision: 0.7536 - recall: 0.5281 - val_loss: 1.2175 - val_accuracy: 0.9601 - val_precision: 0.7410 - val_recall: 0.4948\n",
      "Epoch 3/18\n",
      "492/492 [==============================] - 2s 3ms/step - loss: 1.0459 - accuracy: 0.9631 - precision: 0.7588 - recall: 0.5464 - val_loss: 1.1399 - val_accuracy: 0.9640 - val_precision: 0.7612 - val_recall: 0.5659\n",
      "Epoch 4/18\n",
      "492/492 [==============================] - 2s 3ms/step - loss: 1.0210 - accuracy: 0.9642 - precision: 0.7689 - recall: 0.5596 - val_loss: 1.1649 - val_accuracy: 0.9635 - val_precision: 0.7627 - val_recall: 0.5521\n",
      "Epoch 5/18\n",
      "492/492 [==============================] - 2s 3ms/step - loss: 1.0118 - accuracy: 0.9643 - precision: 0.7673 - recall: 0.5651 - val_loss: 1.1792 - val_accuracy: 0.9598 - val_precision: 0.7085 - val_recall: 0.5372\n",
      "Epoch 6/18\n",
      "492/492 [==============================] - 2s 3ms/step - loss: 1.0012 - accuracy: 0.9644 - precision: 0.7679 - recall: 0.5651 - val_loss: 1.1155 - val_accuracy: 0.9636 - val_precision: 0.7504 - val_recall: 0.5716\n",
      "Epoch 7/18\n",
      "492/492 [==============================] - 2s 3ms/step - loss: 0.9923 - accuracy: 0.9646 - precision: 0.7670 - recall: 0.5713 - val_loss: 1.1423 - val_accuracy: 0.9625 - val_precision: 0.7420 - val_recall: 0.5567\n",
      "Epoch 8/18\n",
      "492/492 [==============================] - 2s 3ms/step - loss: 0.9758 - accuracy: 0.9651 - precision: 0.7708 - recall: 0.5778 - val_loss: 1.1948 - val_accuracy: 0.9618 - val_precision: 0.7361 - val_recall: 0.5464\n",
      "Epoch 9/18\n",
      "492/492 [==============================] - 2s 3ms/step - loss: 0.9730 - accuracy: 0.9655 - precision: 0.7765 - recall: 0.5812 - val_loss: 1.1243 - val_accuracy: 0.9648 - val_precision: 0.7507 - val_recall: 0.6002\n",
      "Epoch 10/18\n",
      "492/492 [==============================] - 2s 3ms/step - loss: 0.9535 - accuracy: 0.9662 - precision: 0.7793 - recall: 0.5936 - val_loss: 1.1889 - val_accuracy: 0.9621 - val_precision: 0.7313 - val_recall: 0.5613\n",
      "Epoch 11/18\n",
      "492/492 [==============================] - 2s 4ms/step - loss: 0.9617 - accuracy: 0.9656 - precision: 0.7711 - recall: 0.5907 - val_loss: 1.1734 - val_accuracy: 0.9637 - val_precision: 0.7663 - val_recall: 0.5521\n",
      "Epoch 12/18\n",
      "492/492 [==============================] - 2s 3ms/step - loss: 0.9463 - accuracy: 0.9660 - precision: 0.7777 - recall: 0.5898 - val_loss: 1.2016 - val_accuracy: 0.9602 - val_precision: 0.7194 - val_recall: 0.5315\n",
      "Epoch 13/18\n",
      "492/492 [==============================] - 2s 3ms/step - loss: 0.9511 - accuracy: 0.9663 - precision: 0.7791 - recall: 0.5952 - val_loss: 1.1975 - val_accuracy: 0.9622 - val_precision: 0.7400 - val_recall: 0.5510\n",
      "Epoch 14/18\n",
      "492/492 [==============================] - 2s 3ms/step - loss: 0.9367 - accuracy: 0.9664 - precision: 0.7786 - recall: 0.5992 - val_loss: 1.1323 - val_accuracy: 0.9633 - val_precision: 0.7496 - val_recall: 0.5659\n",
      "Epoch 15/18\n",
      "492/492 [==============================] - 2s 3ms/step - loss: 0.9299 - accuracy: 0.9668 - precision: 0.7811 - recall: 0.6040 - val_loss: 1.0803 - val_accuracy: 0.9669 - val_precision: 0.7784 - val_recall: 0.6117\n",
      "Epoch 16/18\n",
      "492/492 [==============================] - 2s 3ms/step - loss: 0.9039 - accuracy: 0.9665 - precision: 0.7765 - recall: 0.6053 - val_loss: 1.1367 - val_accuracy: 0.9655 - val_precision: 0.7635 - val_recall: 0.5991\n",
      "Epoch 17/18\n",
      "492/492 [==============================] - 2s 3ms/step - loss: 0.9004 - accuracy: 0.9669 - precision: 0.7801 - recall: 0.6091 - val_loss: 1.0779 - val_accuracy: 0.9658 - val_precision: 0.7761 - val_recall: 0.5876\n",
      "Epoch 18/18\n",
      "492/492 [==============================] - 2s 3ms/step - loss: 0.8813 - accuracy: 0.9673 - precision: 0.7811 - recall: 0.6180 - val_loss: 1.1527 - val_accuracy: 0.9648 - val_precision: 0.7604 - val_recall: 0.5853\n"
     ]
    },
    {
     "data": {
      "text/plain": [
       "<keras.src.callbacks.History at 0x21aeb6fc4d0>"
      ]
     },
     "execution_count": 385,
     "metadata": {},
     "output_type": "execute_result"
    }
   ],
   "source": [
    "model6.fit(X_train[:7859] , y_train1[:7859] , batch_size = 32 , epochs = 18 , validation_data=(X_val,y_val) ,verbose =1)"
   ]
  },
  {
   "cell_type": "code",
   "execution_count": 386,
   "id": "e2cfb490",
   "metadata": {
    "ExecuteTime": {
     "end_time": "2024-01-19T22:19:02.419886Z",
     "start_time": "2024-01-19T22:19:02.030135Z"
    }
   },
   "outputs": [
    {
     "name": "stdout",
     "output_type": "stream",
     "text": [
      "69/69 [==============================] - 0s 3ms/step - loss: 1.1564 - accuracy: 0.9629 - precision: 0.7434 - recall: 0.5639\n",
      "\n",
      "loss: 1.156\n",
      "\n",
      "accuracy: 0.963\n",
      "\n",
      "precision: 0.743\n",
      "\n",
      "recall: 0.564\n"
     ]
    }
   ],
   "source": [
    "scores = model6.evaluate(X_test, y_test1)\n",
    "\n",
    "\n",
    "for i, m in enumerate(model6.metrics_names):\n",
    "    print(\"\\n%s: %.3f\"% (m, scores[i]))"
   ]
  },
  {
   "cell_type": "code",
   "execution_count": 387,
   "id": "d20936e1",
   "metadata": {
    "ExecuteTime": {
     "end_time": "2024-01-19T22:19:03.768533Z",
     "start_time": "2024-01-19T22:19:03.336225Z"
    }
   },
   "outputs": [
    {
     "name": "stdout",
     "output_type": "stream",
     "text": [
      "69/69 [==============================] - 0s 3ms/step\n"
     ]
    }
   ],
   "source": [
    "predictions6 = model6.predict(X_test)"
   ]
  },
  {
   "cell_type": "code",
   "execution_count": 388,
   "id": "234e2e4d",
   "metadata": {
    "ExecuteTime": {
     "end_time": "2024-01-19T22:19:04.270780Z",
     "start_time": "2024-01-19T22:19:04.262596Z"
    }
   },
   "outputs": [],
   "source": [
    "predictions6 = np.argmax(predictions6,axis=1)"
   ]
  },
  {
   "cell_type": "code",
   "execution_count": 389,
   "id": "bc4ab557",
   "metadata": {
    "ExecuteTime": {
     "end_time": "2024-01-19T22:19:04.928542Z",
     "start_time": "2024-01-19T22:19:04.885610Z"
    }
   },
   "outputs": [
    {
     "name": "stdout",
     "output_type": "stream",
     "text": [
      "              precision    recall  f1-score   support\n",
      "\n",
      "           0       0.53      0.31      0.39        68\n",
      "           1       0.67      0.83      0.74       176\n",
      "           2       0.55      0.76      0.64        97\n",
      "           3       0.52      0.79      0.63        90\n",
      "           4       0.73      0.43      0.54        93\n",
      "           5       0.56      0.71      0.63       108\n",
      "           6       0.80      0.69      0.74       126\n",
      "           7       0.74      0.63      0.68       136\n",
      "           8       0.73      0.40      0.52       122\n",
      "           9       0.75      0.61      0.68       155\n",
      "          10       0.62      0.67      0.65        61\n",
      "          11       0.66      0.41      0.51       172\n",
      "          12       0.67      0.82      0.74       182\n",
      "          13       0.49      0.65      0.56       151\n",
      "          14       0.70      0.45      0.55       200\n",
      "          15       0.64      0.92      0.76       169\n",
      "          16       0.90      0.90      0.90        77\n",
      "\n",
      "    accuracy                           0.65      2183\n",
      "   macro avg       0.66      0.65      0.64      2183\n",
      "weighted avg       0.67      0.65      0.64      2183\n",
      "\n"
     ]
    }
   ],
   "source": [
    "print(classification_report(y_test.values , predictions6))"
   ]
  },
  {
   "cell_type": "code",
   "execution_count": 390,
   "id": "f525aa5d",
   "metadata": {
    "ExecuteTime": {
     "end_time": "2024-01-19T22:19:05.695997Z",
     "start_time": "2024-01-19T22:19:05.660995Z"
    }
   },
   "outputs": [
    {
     "name": "stdout",
     "output_type": "stream",
     "text": [
      "Precision is 0.6629182165685473\n",
      "Recall is 0.6469336337317027\n",
      "F1: 0.6376699424054997\n"
     ]
    }
   ],
   "source": [
    "    # Evaluating the model\n",
    "print('Precision is {}'.format(precision_score(y_test.values, predictions6, average='macro')))\n",
    "print('Recall is {}'.format(recall_score(y_test.values, predictions6, average='macro')))\n",
    "print('F1:', f1_score(y_test.values, predictions6, average='macro'))"
   ]
  },
  {
   "cell_type": "code",
   "execution_count": null,
   "id": "448f7f58",
   "metadata": {},
   "outputs": [],
   "source": []
  },
  {
   "cell_type": "markdown",
   "id": "c48058ad",
   "metadata": {},
   "source": [
    "### MODEL 7"
   ]
  },
  {
   "cell_type": "code",
   "execution_count": 538,
   "id": "df7cfa56",
   "metadata": {
    "ExecuteTime": {
     "end_time": "2024-01-20T13:30:13.203631Z",
     "start_time": "2024-01-20T13:30:13.019923Z"
    }
   },
   "outputs": [],
   "source": [
    "model7 = Sequential()\n",
    "model7.add(Dense(100,input_dim=in_dim,activation = \"leaky_relu\"))\n",
    "model7.add(Dropout(0.1))\n",
    "model7.add(Dense(320,activation = \"leaky_relu\"))\n",
    "model7.add(Dense(180,activation = \"leaky_relu\"))\n",
    "model7.add(Dense(100,activation = \"leaky_relu\"))\n",
    "model7.add(Dense(60,activation = \"leaky_relu\"))\n",
    "model7.add(Dense(30,activation = \"leaky_relu\"))\n",
    "model7.add(Dense(17,activation = \"softmax\"))"
   ]
  },
  {
   "cell_type": "code",
   "execution_count": null,
   "id": "8610a3e6",
   "metadata": {},
   "outputs": [],
   "source": []
  },
  {
   "cell_type": "code",
   "execution_count": 539,
   "id": "d5580146",
   "metadata": {
    "ExecuteTime": {
     "end_time": "2024-01-20T13:30:13.813461Z",
     "start_time": "2024-01-20T13:30:13.769270Z"
    }
   },
   "outputs": [],
   "source": [
    "model7.compile(optimizer = 'adam' , \n",
    "              loss = 'categorical_crossentropy' ,\n",
    "              metrics=[tf.keras.metrics.BinaryAccuracy(name='accuracy'),\n",
    "                       tf.keras.metrics.Precision(name='precision'),\n",
    "                       tf.keras.metrics.Recall(name='recall')])"
   ]
  },
  {
   "cell_type": "code",
   "execution_count": 560,
   "id": "99ddf00a",
   "metadata": {
    "ExecuteTime": {
     "end_time": "2024-01-20T13:31:45.600783Z",
     "start_time": "2024-01-20T13:31:39.963790Z"
    }
   },
   "outputs": [
    {
     "name": "stdout",
     "output_type": "stream",
     "text": [
      "Epoch 1/10\n",
      "123/123 [==============================] - 1s 5ms/step - loss: 0.6777 - accuracy: 0.9743 - precision: 0.8274 - recall: 0.7113 - val_loss: 1.1485 - val_accuracy: 0.9666 - val_precision: 0.7493 - val_recall: 0.6506\n",
      "Epoch 2/10\n",
      "123/123 [==============================] - 1s 5ms/step - loss: 0.6783 - accuracy: 0.9744 - precision: 0.8264 - recall: 0.7142 - val_loss: 1.0782 - val_accuracy: 0.9666 - val_precision: 0.7445 - val_recall: 0.6575\n",
      "Epoch 3/10\n",
      "123/123 [==============================] - 1s 4ms/step - loss: 0.6693 - accuracy: 0.9739 - precision: 0.8238 - recall: 0.7072 - val_loss: 1.0404 - val_accuracy: 0.9683 - val_precision: 0.7624 - val_recall: 0.6690\n",
      "Epoch 4/10\n",
      "123/123 [==============================] - 1s 4ms/step - loss: 0.6466 - accuracy: 0.9749 - precision: 0.8303 - recall: 0.7204 - val_loss: 1.0740 - val_accuracy: 0.9675 - val_precision: 0.7529 - val_recall: 0.6667\n",
      "Epoch 5/10\n",
      "123/123 [==============================] - 1s 4ms/step - loss: 0.6820 - accuracy: 0.9738 - precision: 0.8220 - recall: 0.7089 - val_loss: 1.0844 - val_accuracy: 0.9668 - val_precision: 0.7620 - val_recall: 0.6346\n",
      "Epoch 6/10\n",
      "123/123 [==============================] - 1s 4ms/step - loss: 0.6654 - accuracy: 0.9744 - precision: 0.8294 - recall: 0.7104 - val_loss: 1.1300 - val_accuracy: 0.9645 - val_precision: 0.7235 - val_recall: 0.6415\n",
      "Epoch 7/10\n",
      "123/123 [==============================] - 1s 4ms/step - loss: 0.6354 - accuracy: 0.9757 - precision: 0.8389 - recall: 0.7269 - val_loss: 1.0201 - val_accuracy: 0.9689 - val_precision: 0.7658 - val_recall: 0.6781\n",
      "Epoch 8/10\n",
      "123/123 [==============================] - 1s 4ms/step - loss: 0.6486 - accuracy: 0.9746 - precision: 0.8265 - recall: 0.7184 - val_loss: 1.0351 - val_accuracy: 0.9686 - val_precision: 0.7646 - val_recall: 0.6735\n",
      "Epoch 9/10\n",
      "123/123 [==============================] - 1s 4ms/step - loss: 0.6449 - accuracy: 0.9746 - precision: 0.8264 - recall: 0.7189 - val_loss: 1.0532 - val_accuracy: 0.9681 - val_precision: 0.7642 - val_recall: 0.6609\n",
      "Epoch 10/10\n",
      "123/123 [==============================] - 1s 4ms/step - loss: 0.6420 - accuracy: 0.9748 - precision: 0.8288 - recall: 0.7199 - val_loss: 1.0850 - val_accuracy: 0.9656 - val_precision: 0.7332 - val_recall: 0.6518\n"
     ]
    },
    {
     "data": {
      "text/plain": [
       "<keras.src.callbacks.History at 0x190a0f3c390>"
      ]
     },
     "execution_count": 560,
     "metadata": {},
     "output_type": "execute_result"
    }
   ],
   "source": [
    "model7.fit(X_train[:7859] , y_train1[:7859] , batch_size = 64 , epochs = 10 , validation_data=(X_val,y_val) ,verbose =1)"
   ]
  },
  {
   "cell_type": "code",
   "execution_count": 561,
   "id": "ce8ba9f2",
   "metadata": {
    "ExecuteTime": {
     "end_time": "2024-01-20T13:31:47.440411Z",
     "start_time": "2024-01-20T13:31:47.133055Z"
    }
   },
   "outputs": [
    {
     "name": "stdout",
     "output_type": "stream",
     "text": [
      "69/69 [==============================] - 0s 2ms/step\n"
     ]
    }
   ],
   "source": [
    "predictions7 = model7.predict(X_test)"
   ]
  },
  {
   "cell_type": "code",
   "execution_count": 562,
   "id": "77bf798a",
   "metadata": {
    "ExecuteTime": {
     "end_time": "2024-01-20T13:31:48.717649Z",
     "start_time": "2024-01-20T13:31:48.709649Z"
    }
   },
   "outputs": [],
   "source": [
    "predictions7 = np.argmax(predictions7,axis=1)"
   ]
  },
  {
   "cell_type": "code",
   "execution_count": 563,
   "id": "4bfb66f1",
   "metadata": {
    "ExecuteTime": {
     "end_time": "2024-01-20T13:31:49.444878Z",
     "start_time": "2024-01-20T13:31:49.404210Z"
    }
   },
   "outputs": [
    {
     "name": "stdout",
     "output_type": "stream",
     "text": [
      "              precision    recall  f1-score   support\n",
      "\n",
      "           0       0.67      0.59      0.62        68\n",
      "           1       0.82      0.72      0.77       176\n",
      "           2       0.69      0.68      0.69        97\n",
      "           3       0.66      0.68      0.67        90\n",
      "           4       0.74      0.54      0.62        93\n",
      "           5       0.78      0.64      0.70       108\n",
      "           6       0.78      0.83      0.80       126\n",
      "           7       0.81      0.60      0.69       136\n",
      "           8       0.67      0.69      0.68       122\n",
      "           9       0.79      0.75      0.77       155\n",
      "          10       0.62      0.62      0.62        61\n",
      "          11       0.51      0.76      0.61       172\n",
      "          12       0.73      0.74      0.73       182\n",
      "          13       0.63      0.61      0.62       151\n",
      "          14       0.58      0.62      0.60       200\n",
      "          15       0.84      0.86      0.85       169\n",
      "          16       0.89      0.92      0.90        77\n",
      "\n",
      "    accuracy                           0.70      2183\n",
      "   macro avg       0.72      0.70      0.70      2183\n",
      "weighted avg       0.71      0.70      0.70      2183\n",
      "\n"
     ]
    }
   ],
   "source": [
    "print(classification_report(y_test.values , predictions7))"
   ]
  },
  {
   "cell_type": "code",
   "execution_count": 564,
   "id": "9506955b",
   "metadata": {
    "ExecuteTime": {
     "end_time": "2024-01-20T13:31:50.159377Z",
     "start_time": "2024-01-20T13:31:50.124007Z"
    }
   },
   "outputs": [
    {
     "name": "stdout",
     "output_type": "stream",
     "text": [
      "Precision is 0.717422154323419\n",
      "Recall is 0.6968372772048624\n",
      "F1: 0.7029330342203923\n"
     ]
    }
   ],
   "source": [
    "    # Evaluating the model\n",
    "print('Precision is {}'.format(precision_score(y_test.values, predictions7, average='macro')))\n",
    "print('Recall is {}'.format(recall_score(y_test.values, predictions7, average='macro')))\n",
    "print('F1:', f1_score(y_test.values, predictions7, average='macro'))"
   ]
  },
  {
   "cell_type": "code",
   "execution_count": 566,
   "id": "2a4f3e65",
   "metadata": {
    "ExecuteTime": {
     "end_time": "2024-01-20T13:32:27.368155Z",
     "start_time": "2024-01-20T13:32:27.362155Z"
    }
   },
   "outputs": [],
   "source": [
    "## the above is for ~= 70 epochs"
   ]
  },
  {
   "cell_type": "code",
   "execution_count": 587,
   "id": "4ee198be",
   "metadata": {
    "ExecuteTime": {
     "end_time": "2024-01-20T13:34:00.729715Z",
     "start_time": "2024-01-20T13:33:55.117750Z"
    }
   },
   "outputs": [
    {
     "name": "stdout",
     "output_type": "stream",
     "text": [
      "Epoch 1/10\n",
      "123/123 [==============================] - 1s 5ms/step - loss: 0.4897 - accuracy: 0.9801 - precision: 0.8599 - recall: 0.7909 - val_loss: 1.2282 - val_accuracy: 0.9652 - val_precision: 0.7280 - val_recall: 0.6529\n",
      "Epoch 2/10\n",
      "123/123 [==============================] - 1s 4ms/step - loss: 0.4533 - accuracy: 0.9813 - precision: 0.8690 - recall: 0.8025 - val_loss: 1.2694 - val_accuracy: 0.9668 - val_precision: 0.7378 - val_recall: 0.6770\n",
      "Epoch 3/10\n",
      "123/123 [==============================] - 1s 4ms/step - loss: 0.4536 - accuracy: 0.9816 - precision: 0.8730 - recall: 0.8049 - val_loss: 1.2530 - val_accuracy: 0.9664 - val_precision: 0.7329 - val_recall: 0.6758\n",
      "Epoch 4/10\n",
      "123/123 [==============================] - 1s 4ms/step - loss: 0.4457 - accuracy: 0.9820 - precision: 0.8736 - recall: 0.8107 - val_loss: 1.2660 - val_accuracy: 0.9679 - val_precision: 0.7503 - val_recall: 0.6816\n",
      "Epoch 5/10\n",
      "123/123 [==============================] - 1s 4ms/step - loss: 0.4566 - accuracy: 0.9816 - precision: 0.8707 - recall: 0.8068 - val_loss: 1.2696 - val_accuracy: 0.9667 - val_precision: 0.7348 - val_recall: 0.6793\n",
      "Epoch 6/10\n",
      "123/123 [==============================] - 1s 4ms/step - loss: 0.4978 - accuracy: 0.9793 - precision: 0.8498 - recall: 0.7867 - val_loss: 1.2256 - val_accuracy: 0.9654 - val_precision: 0.7241 - val_recall: 0.6644\n",
      "Epoch 7/10\n",
      "123/123 [==============================] - 1s 4ms/step - loss: 0.4430 - accuracy: 0.9817 - precision: 0.8726 - recall: 0.8067 - val_loss: 1.2672 - val_accuracy: 0.9656 - val_precision: 0.7277 - val_recall: 0.6644\n",
      "Epoch 8/10\n",
      "123/123 [==============================] - 1s 5ms/step - loss: 0.4695 - accuracy: 0.9806 - precision: 0.8614 - recall: 0.7992 - val_loss: 1.2076 - val_accuracy: 0.9671 - val_precision: 0.7374 - val_recall: 0.6850\n",
      "Epoch 9/10\n",
      "123/123 [==============================] - 1s 4ms/step - loss: 0.4479 - accuracy: 0.9813 - precision: 0.8686 - recall: 0.8026 - val_loss: 1.2296 - val_accuracy: 0.9675 - val_precision: 0.7425 - val_recall: 0.6838\n",
      "Epoch 10/10\n",
      "123/123 [==============================] - 1s 4ms/step - loss: 0.4353 - accuracy: 0.9824 - precision: 0.8771 - recall: 0.8158 - val_loss: 1.2847 - val_accuracy: 0.9654 - val_precision: 0.7256 - val_recall: 0.6632\n"
     ]
    },
    {
     "data": {
      "text/plain": [
       "<keras.src.callbacks.History at 0x190984bb7d0>"
      ]
     },
     "execution_count": 587,
     "metadata": {},
     "output_type": "execute_result"
    }
   ],
   "source": [
    "model7.fit(X_train[:7859] , y_train1[:7859] , batch_size = 64 , epochs = 10 , validation_data=(X_val,y_val) ,verbose =1)"
   ]
  },
  {
   "cell_type": "code",
   "execution_count": 588,
   "id": "0423c84d",
   "metadata": {
    "ExecuteTime": {
     "end_time": "2024-01-20T13:34:02.060090Z",
     "start_time": "2024-01-20T13:34:01.738969Z"
    }
   },
   "outputs": [
    {
     "name": "stdout",
     "output_type": "stream",
     "text": [
      "69/69 [==============================] - 0s 2ms/step\n"
     ]
    }
   ],
   "source": [
    "predictions7 = model7.predict(X_test)"
   ]
  },
  {
   "cell_type": "code",
   "execution_count": 589,
   "id": "c85c5c93",
   "metadata": {
    "ExecuteTime": {
     "end_time": "2024-01-20T13:34:02.387615Z",
     "start_time": "2024-01-20T13:34:02.381616Z"
    }
   },
   "outputs": [],
   "source": [
    "predictions7 = np.argmax(predictions7,axis=1)"
   ]
  },
  {
   "cell_type": "code",
   "execution_count": 590,
   "id": "63e1b4eb",
   "metadata": {
    "ExecuteTime": {
     "end_time": "2024-01-20T13:34:02.968659Z",
     "start_time": "2024-01-20T13:34:02.939656Z"
    }
   },
   "outputs": [
    {
     "name": "stdout",
     "output_type": "stream",
     "text": [
      "              precision    recall  f1-score   support\n",
      "\n",
      "           0       0.66      0.68      0.67        68\n",
      "           1       0.79      0.73      0.76       176\n",
      "           2       0.64      0.80      0.72        97\n",
      "           3       0.69      0.66      0.67        90\n",
      "           4       0.74      0.46      0.57        93\n",
      "           5       0.70      0.73      0.71       108\n",
      "           6       0.80      0.64      0.71       126\n",
      "           7       0.72      0.81      0.76       136\n",
      "           8       0.66      0.69      0.67       122\n",
      "           9       0.74      0.70      0.72       155\n",
      "          10       0.68      0.64      0.66        61\n",
      "          11       0.66      0.54      0.59       172\n",
      "          12       0.73      0.75      0.74       182\n",
      "          13       0.51      0.72      0.59       151\n",
      "          14       0.61      0.61      0.61       200\n",
      "          15       0.89      0.83      0.86       169\n",
      "          16       0.83      0.97      0.90        77\n",
      "\n",
      "    accuracy                           0.70      2183\n",
      "   macro avg       0.71      0.70      0.70      2183\n",
      "weighted avg       0.71      0.70      0.70      2183\n",
      "\n"
     ]
    }
   ],
   "source": [
    "print(classification_report(y_test.values , predictions7))"
   ]
  },
  {
   "cell_type": "code",
   "execution_count": 586,
   "id": "307dce22",
   "metadata": {
    "ExecuteTime": {
     "end_time": "2024-01-20T13:33:49.979376Z",
     "start_time": "2024-01-20T13:33:49.945516Z"
    }
   },
   "outputs": [
    {
     "name": "stdout",
     "output_type": "stream",
     "text": [
      "Precision is 0.7188830928421032\n",
      "Recall is 0.6994434200956823\n",
      "F1: 0.7015231796089909\n"
     ]
    }
   ],
   "source": [
    "    # Evaluating the model\n",
    "print('Precision is {}'.format(precision_score(y_test.values, predictions7, average='macro')))\n",
    "print('Recall is {}'.format(recall_score(y_test.values, predictions7, average='macro')))\n",
    "print('F1:', f1_score(y_test.values, predictions7, average='macro'))"
   ]
  },
  {
   "cell_type": "markdown",
   "id": "8f1fa75b",
   "metadata": {},
   "source": [
    "### MODEL 8 "
   ]
  },
  {
   "cell_type": "code",
   "execution_count": 696,
   "id": "9f2668ab",
   "metadata": {
    "ExecuteTime": {
     "end_time": "2024-01-20T13:46:38.733800Z",
     "start_time": "2024-01-20T13:46:38.577976Z"
    }
   },
   "outputs": [],
   "source": [
    "model8 = Sequential()\n",
    "model8.add(Dense(500,input_dim=in_dim,activation = \"leaky_relu\"))\n",
    "model8.add(Dropout(0.2))\n",
    "model8.add(Dense(400,activation = \"leaky_relu\"))\n",
    "model8.add(Dropout(0.2))\n",
    "model8.add(Dense(320,activation = \"leaky_relu\"))\n",
    "model8.add(Dropout(0.2))\n",
    "model8.add(Dense(180,activation = \"leaky_relu\"))\n",
    "model8.add(Dropout(0.2))\n",
    "model8.add(Dense(100,activation = \"leaky_relu\"))\n",
    "model8.add(Dense(60,activation = \"leaky_relu\"))\n",
    "model8.add(Dense(30,activation = \"leaky_relu\"))\n",
    "model8.add(Dense(17,activation = \"softmax\"))"
   ]
  },
  {
   "cell_type": "code",
   "execution_count": 697,
   "id": "629226ca",
   "metadata": {
    "ExecuteTime": {
     "end_time": "2024-01-20T13:46:40.213020Z",
     "start_time": "2024-01-20T13:46:40.148015Z"
    }
   },
   "outputs": [],
   "source": [
    "model8.compile(optimizer = 'adam' , \n",
    "              loss = 'categorical_crossentropy' ,\n",
    "              metrics=[tf.keras.metrics.BinaryAccuracy(name='accuracy'),\n",
    "                       tf.keras.metrics.Precision(name='precision'),\n",
    "                       tf.keras.metrics.Recall(name='recall')])"
   ]
  },
  {
   "cell_type": "code",
   "execution_count": 708,
   "id": "149c9c84",
   "metadata": {
    "ExecuteTime": {
     "end_time": "2024-01-20T13:48:02.056913Z",
     "start_time": "2024-01-20T13:47:41.769868Z"
    }
   },
   "outputs": [
    {
     "name": "stdout",
     "output_type": "stream",
     "text": [
      "Epoch 1/20\n",
      "123/123 [==============================] - 1s 9ms/step - loss: 1.0175 - accuracy: 0.9632 - precision: 0.7597 - recall: 0.5488 - val_loss: 1.0518 - val_accuracy: 0.9656 - val_precision: 0.7589 - val_recall: 0.6094\n",
      "Epoch 2/20\n",
      "123/123 [==============================] - 1s 8ms/step - loss: 1.0229 - accuracy: 0.9639 - precision: 0.7658 - recall: 0.5576 - val_loss: 1.0543 - val_accuracy: 0.9658 - val_precision: 0.7611 - val_recall: 0.6094\n",
      "Epoch 3/20\n",
      "123/123 [==============================] - 1s 8ms/step - loss: 1.0281 - accuracy: 0.9634 - precision: 0.7603 - recall: 0.5517 - val_loss: 1.0789 - val_accuracy: 0.9646 - val_precision: 0.7625 - val_recall: 0.5773\n",
      "Epoch 4/20\n",
      "123/123 [==============================] - 1s 8ms/step - loss: 1.0167 - accuracy: 0.9642 - precision: 0.7674 - recall: 0.5614 - val_loss: 1.0709 - val_accuracy: 0.9664 - val_precision: 0.7907 - val_recall: 0.5842\n",
      "Epoch 5/20\n",
      "123/123 [==============================] - 1s 9ms/step - loss: 1.0029 - accuracy: 0.9647 - precision: 0.7747 - recall: 0.5634 - val_loss: 1.0774 - val_accuracy: 0.9653 - val_precision: 0.7780 - val_recall: 0.5739\n",
      "Epoch 6/20\n",
      "123/123 [==============================] - 1s 8ms/step - loss: 0.9997 - accuracy: 0.9649 - precision: 0.7755 - recall: 0.5669 - val_loss: 1.0557 - val_accuracy: 0.9670 - val_precision: 0.7862 - val_recall: 0.6025\n",
      "Epoch 7/20\n",
      "123/123 [==============================] - 1s 8ms/step - loss: 0.9934 - accuracy: 0.9648 - precision: 0.7717 - recall: 0.5700 - val_loss: 1.0571 - val_accuracy: 0.9661 - val_precision: 0.8013 - val_recall: 0.5636\n",
      "Epoch 8/20\n",
      "123/123 [==============================] - 1s 8ms/step - loss: 0.9841 - accuracy: 0.9654 - precision: 0.7777 - recall: 0.5765 - val_loss: 1.0935 - val_accuracy: 0.9664 - val_precision: 0.7637 - val_recall: 0.6220\n",
      "Epoch 9/20\n",
      "123/123 [==============================] - 1s 8ms/step - loss: 0.9945 - accuracy: 0.9646 - precision: 0.7672 - recall: 0.5725 - val_loss: 1.0325 - val_accuracy: 0.9654 - val_precision: 0.7774 - val_recall: 0.5762\n",
      "Epoch 10/20\n",
      "123/123 [==============================] - 1s 8ms/step - loss: 0.9886 - accuracy: 0.9648 - precision: 0.7685 - recall: 0.5758 - val_loss: 1.0281 - val_accuracy: 0.9657 - val_precision: 0.7791 - val_recall: 0.5819\n",
      "Epoch 11/20\n",
      "123/123 [==============================] - 1s 8ms/step - loss: 0.9827 - accuracy: 0.9649 - precision: 0.7726 - recall: 0.5712 - val_loss: 1.0696 - val_accuracy: 0.9659 - val_precision: 0.7776 - val_recall: 0.5888\n",
      "Epoch 12/20\n",
      "123/123 [==============================] - 1s 8ms/step - loss: 0.9731 - accuracy: 0.9649 - precision: 0.7719 - recall: 0.5735 - val_loss: 1.0749 - val_accuracy: 0.9654 - val_precision: 0.7671 - val_recall: 0.5922\n",
      "Epoch 13/20\n",
      "123/123 [==============================] - 1s 8ms/step - loss: 0.9689 - accuracy: 0.9654 - precision: 0.7734 - recall: 0.5815 - val_loss: 1.1265 - val_accuracy: 0.9637 - val_precision: 0.7511 - val_recall: 0.5739\n",
      "Epoch 14/20\n",
      "123/123 [==============================] - 1s 8ms/step - loss: 0.9808 - accuracy: 0.9648 - precision: 0.7713 - recall: 0.5708 - val_loss: 1.0008 - val_accuracy: 0.9667 - val_precision: 0.7734 - val_recall: 0.6140\n",
      "Epoch 15/20\n",
      "123/123 [==============================] - 1s 9ms/step - loss: 0.9534 - accuracy: 0.9654 - precision: 0.7737 - recall: 0.5825 - val_loss: 1.0461 - val_accuracy: 0.9659 - val_precision: 0.7640 - val_recall: 0.6082\n",
      "Epoch 16/20\n",
      "123/123 [==============================] - 1s 8ms/step - loss: 0.9634 - accuracy: 0.9654 - precision: 0.7736 - recall: 0.5821 - val_loss: 1.0965 - val_accuracy: 0.9652 - val_precision: 0.7941 - val_recall: 0.5521\n",
      "Epoch 17/20\n",
      "123/123 [==============================] - 1s 8ms/step - loss: 0.9601 - accuracy: 0.9653 - precision: 0.7731 - recall: 0.5806 - val_loss: 1.0792 - val_accuracy: 0.9646 - val_precision: 0.7589 - val_recall: 0.5842\n",
      "Epoch 18/20\n",
      "123/123 [==============================] - 1s 8ms/step - loss: 0.9595 - accuracy: 0.9654 - precision: 0.7711 - recall: 0.5858 - val_loss: 1.1097 - val_accuracy: 0.9633 - val_precision: 0.7481 - val_recall: 0.5682\n",
      "Epoch 19/20\n",
      "123/123 [==============================] - 1s 8ms/step - loss: 0.9503 - accuracy: 0.9656 - precision: 0.7763 - recall: 0.5842 - val_loss: 1.0675 - val_accuracy: 0.9647 - val_precision: 0.7656 - val_recall: 0.5762\n",
      "Epoch 20/20\n",
      "123/123 [==============================] - 1s 8ms/step - loss: 0.9520 - accuracy: 0.9655 - precision: 0.7734 - recall: 0.5838 - val_loss: 1.0687 - val_accuracy: 0.9675 - val_precision: 0.7810 - val_recall: 0.6208\n"
     ]
    },
    {
     "data": {
      "text/plain": [
       "<keras.src.callbacks.History at 0x1909cb19750>"
      ]
     },
     "execution_count": 708,
     "metadata": {},
     "output_type": "execute_result"
    }
   ],
   "source": [
    "model8.fit(X_train[:7859] , y_train1[:7859] , batch_size = 64 , epochs = 20 , validation_data=(X_val,y_val) ,verbose =1)"
   ]
  },
  {
   "cell_type": "code",
   "execution_count": 709,
   "id": "1f8606af",
   "metadata": {
    "ExecuteTime": {
     "end_time": "2024-01-20T13:48:03.779334Z",
     "start_time": "2024-01-20T13:48:03.456392Z"
    }
   },
   "outputs": [
    {
     "name": "stdout",
     "output_type": "stream",
     "text": [
      "69/69 [==============================] - 0s 3ms/step\n"
     ]
    }
   ],
   "source": [
    "predictions8 = model8.predict(X_test)"
   ]
  },
  {
   "cell_type": "code",
   "execution_count": 710,
   "id": "a1176c80",
   "metadata": {
    "ExecuteTime": {
     "end_time": "2024-01-20T13:48:04.025342Z",
     "start_time": "2024-01-20T13:48:04.021547Z"
    }
   },
   "outputs": [],
   "source": [
    "predictions8 = np.argmax(predictions8,axis=1)"
   ]
  },
  {
   "cell_type": "code",
   "execution_count": 711,
   "id": "b6cd0608",
   "metadata": {
    "ExecuteTime": {
     "end_time": "2024-01-20T13:48:04.535990Z",
     "start_time": "2024-01-20T13:48:04.517056Z"
    }
   },
   "outputs": [
    {
     "name": "stdout",
     "output_type": "stream",
     "text": [
      "              precision    recall  f1-score   support\n",
      "\n",
      "           0       0.69      0.32      0.44        68\n",
      "           1       0.69      0.84      0.75       176\n",
      "           2       0.81      0.53      0.64        97\n",
      "           3       0.69      0.61      0.65        90\n",
      "           4       0.60      0.51      0.55        93\n",
      "           5       0.64      0.82      0.72       108\n",
      "           6       0.83      0.72      0.77       126\n",
      "           7       0.73      0.78      0.75       136\n",
      "           8       0.55      0.69      0.61       122\n",
      "           9       0.70      0.77      0.73       155\n",
      "          10       0.71      0.61      0.65        61\n",
      "          11       0.61      0.60      0.61       172\n",
      "          12       0.78      0.80      0.79       182\n",
      "          13       0.64      0.54      0.59       151\n",
      "          14       0.59      0.60      0.60       200\n",
      "          15       0.83      0.79      0.81       169\n",
      "          16       0.78      0.99      0.87        77\n",
      "\n",
      "    accuracy                           0.69      2183\n",
      "   macro avg       0.70      0.68      0.68      2183\n",
      "weighted avg       0.70      0.69      0.69      2183\n",
      "\n"
     ]
    }
   ],
   "source": [
    "print(classification_report(y_test.values , predictions8))"
   ]
  },
  {
   "cell_type": "code",
   "execution_count": 712,
   "id": "0a063f46",
   "metadata": {
    "ExecuteTime": {
     "end_time": "2024-01-20T13:48:05.609803Z",
     "start_time": "2024-01-20T13:48:05.574624Z"
    }
   },
   "outputs": [
    {
     "name": "stdout",
     "output_type": "stream",
     "text": [
      "Precision is 0.6978324524777793\n",
      "Recall is 0.6772860300983213\n",
      "F1: 0.6783898482524271\n"
     ]
    }
   ],
   "source": [
    "    # Evaluating the model\n",
    "print('Precision is {}'.format(precision_score(y_test.values, predictions8, average='macro')))\n",
    "print('Recall is {}'.format(recall_score(y_test.values, predictions8, average='macro')))\n",
    "print('F1:', f1_score(y_test.values, predictions8, average='macro'))"
   ]
  },
  {
   "cell_type": "code",
   "execution_count": 695,
   "id": "ae1dc266",
   "metadata": {
    "ExecuteTime": {
     "end_time": "2024-01-20T13:45:43.857947Z",
     "start_time": "2024-01-20T13:45:43.853948Z"
    }
   },
   "outputs": [],
   "source": [
    "# for 30 epochs model8 scored 71% accuracy , with adamW optimizer , with act_funct = leaky_relu"
   ]
  },
  {
   "cell_type": "code",
   "execution_count": 624,
   "id": "87c8ce64",
   "metadata": {
    "ExecuteTime": {
     "end_time": "2024-01-20T13:40:08.188546Z",
     "start_time": "2024-01-20T13:40:08.181544Z"
    }
   },
   "outputs": [],
   "source": [
    "# for 30+20 epochs model8 scored 72% accuracy , with adamW optimizer , with act_funct = leaky_relu"
   ]
  },
  {
   "cell_type": "markdown",
   "id": "a0c0ed8e",
   "metadata": {},
   "source": [
    "### MODE: L 9"
   ]
  },
  {
   "cell_type": "code",
   "execution_count": 1421,
   "id": "74a36452",
   "metadata": {
    "ExecuteTime": {
     "end_time": "2024-01-20T14:52:08.072627Z",
     "start_time": "2024-01-20T14:52:07.902704Z"
    }
   },
   "outputs": [],
   "source": [
    "model9 = Sequential()\n",
    "model9.add(Dense(17,input_dim=in_dim,activation = \"leaky_relu\"))\n",
    "model9.add(Dense(320,activation = \"leaky_relu\"))\n",
    "model9.add(Dropout(0.2))\n",
    "model9.add(Dense(180,activation = \"leaky_relu\"))\n",
    "#model9.add(Dropout(0.1))\n",
    "model9.add(Dense(100,activation = \"leaky_relu\"))\n",
    "model9.add(Dense(60,activation = \"leaky_relu\"))\n",
    "model9.add(Dense(30,activation = \"leaky_relu\"))\n",
    "model9.add(Dense(17,activation = \"softmax\"))"
   ]
  },
  {
   "cell_type": "code",
   "execution_count": 1425,
   "id": "7b3fa13f",
   "metadata": {
    "ExecuteTime": {
     "end_time": "2024-01-20T14:52:24.944817Z",
     "start_time": "2024-01-20T14:52:24.905876Z"
    }
   },
   "outputs": [],
   "source": [
    "model9.compile(optimizer = opt6 , \n",
    "              loss = 'categorical_crossentropy' ,\n",
    "              metrics=[tf.keras.metrics.BinaryAccuracy(name='accuracy'),\n",
    "                       tf.keras.metrics.Precision(name='precision'),\n",
    "                       tf.keras.metrics.Recall(name='recall')])"
   ]
  },
  {
   "cell_type": "code",
   "execution_count": 1426,
   "id": "40ff96cb",
   "metadata": {
    "ExecuteTime": {
     "end_time": "2024-01-20T14:52:58.515338Z",
     "start_time": "2024-01-20T14:52:25.688107Z"
    }
   },
   "outputs": [
    {
     "name": "stdout",
     "output_type": "stream",
     "text": [
      "Epoch 1/55\n",
      "123/123 [==============================] - 3s 7ms/step - loss: 1.9848 - accuracy: 0.9454 - precision: 0.6509 - recall: 0.1542 - val_loss: 1.5788 - val_accuracy: 0.9499 - val_precision: 0.6826 - val_recall: 0.2784\n",
      "Epoch 2/55\n",
      "123/123 [==============================] - 1s 4ms/step - loss: 1.5294 - accuracy: 0.9507 - precision: 0.6856 - recall: 0.2994 - val_loss: 1.5151 - val_accuracy: 0.9543 - val_precision: 0.7053 - val_recall: 0.3837\n",
      "Epoch 3/55\n",
      "123/123 [==============================] - 1s 4ms/step - loss: 1.4089 - accuracy: 0.9544 - precision: 0.7192 - recall: 0.3683 - val_loss: 1.3971 - val_accuracy: 0.9570 - val_precision: 0.7474 - val_recall: 0.4066\n",
      "Epoch 4/55\n",
      "123/123 [==============================] - 1s 4ms/step - loss: 1.3345 - accuracy: 0.9565 - precision: 0.7292 - recall: 0.4132 - val_loss: 1.3111 - val_accuracy: 0.9590 - val_precision: 0.7449 - val_recall: 0.4616\n",
      "Epoch 5/55\n",
      "123/123 [==============================] - 1s 4ms/step - loss: 1.2513 - accuracy: 0.9598 - precision: 0.7584 - recall: 0.4639 - val_loss: 1.2556 - val_accuracy: 0.9610 - val_precision: 0.7753 - val_recall: 0.4742\n",
      "Epoch 6/55\n",
      "123/123 [==============================] - 1s 4ms/step - loss: 1.2100 - accuracy: 0.9608 - precision: 0.7564 - recall: 0.4922 - val_loss: 1.3372 - val_accuracy: 0.9586 - val_precision: 0.7143 - val_recall: 0.4926\n",
      "Epoch 7/55\n",
      "123/123 [==============================] - 1s 4ms/step - loss: 1.1947 - accuracy: 0.9613 - precision: 0.7637 - recall: 0.4964 - val_loss: 1.3950 - val_accuracy: 0.9551 - val_precision: 0.6957 - val_recall: 0.4215\n",
      "Epoch 8/55\n",
      "123/123 [==============================] - 1s 5ms/step - loss: 1.1610 - accuracy: 0.9624 - precision: 0.7632 - recall: 0.5227 - val_loss: 1.2912 - val_accuracy: 0.9598 - val_precision: 0.7347 - val_recall: 0.4948\n",
      "Epoch 9/55\n",
      "123/123 [==============================] - 1s 4ms/step - loss: 1.1217 - accuracy: 0.9624 - precision: 0.7603 - recall: 0.5260 - val_loss: 1.2185 - val_accuracy: 0.9641 - val_precision: 0.7724 - val_recall: 0.5521\n",
      "Epoch 10/55\n",
      "123/123 [==============================] - 1s 5ms/step - loss: 1.0961 - accuracy: 0.9638 - precision: 0.7724 - recall: 0.5443 - val_loss: 1.2369 - val_accuracy: 0.9619 - val_precision: 0.7326 - val_recall: 0.5556\n",
      "Epoch 11/55\n",
      "123/123 [==============================] - 1s 4ms/step - loss: 1.0912 - accuracy: 0.9646 - precision: 0.7783 - recall: 0.5562 - val_loss: 1.3672 - val_accuracy: 0.9586 - val_precision: 0.6908 - val_recall: 0.5349\n",
      "Epoch 12/55\n",
      "123/123 [==============================] - 1s 5ms/step - loss: 1.0768 - accuracy: 0.9645 - precision: 0.7767 - recall: 0.5576 - val_loss: 1.2886 - val_accuracy: 0.9623 - val_precision: 0.7401 - val_recall: 0.5544\n",
      "Epoch 13/55\n",
      "123/123 [==============================] - 1s 5ms/step - loss: 1.0806 - accuracy: 0.9647 - precision: 0.7762 - recall: 0.5610 - val_loss: 1.1925 - val_accuracy: 0.9654 - val_precision: 0.7848 - val_recall: 0.5682\n",
      "Epoch 14/55\n",
      "123/123 [==============================] - 1s 4ms/step - loss: 1.0317 - accuracy: 0.9661 - precision: 0.7853 - recall: 0.5825 - val_loss: 1.1896 - val_accuracy: 0.9646 - val_precision: 0.7574 - val_recall: 0.5865\n",
      "Epoch 15/55\n",
      "123/123 [==============================] - 1s 4ms/step - loss: 1.0441 - accuracy: 0.9652 - precision: 0.7774 - recall: 0.5720 - val_loss: 1.2318 - val_accuracy: 0.9643 - val_precision: 0.7634 - val_recall: 0.5693\n",
      "Epoch 16/55\n",
      "123/123 [==============================] - 1s 4ms/step - loss: 0.9912 - accuracy: 0.9671 - precision: 0.7877 - recall: 0.6040 - val_loss: 1.1602 - val_accuracy: 0.9663 - val_precision: 0.7788 - val_recall: 0.5968\n",
      "Epoch 17/55\n",
      "123/123 [==============================] - 1s 4ms/step - loss: 0.9833 - accuracy: 0.9669 - precision: 0.7872 - recall: 0.5985 - val_loss: 1.2347 - val_accuracy: 0.9642 - val_precision: 0.7422 - val_recall: 0.6002\n",
      "Epoch 18/55\n",
      "123/123 [==============================] - 1s 4ms/step - loss: 1.0212 - accuracy: 0.9662 - precision: 0.7836 - recall: 0.5888 - val_loss: 1.1946 - val_accuracy: 0.9639 - val_precision: 0.7411 - val_recall: 0.5934\n",
      "Epoch 19/55\n",
      "123/123 [==============================] - 1s 4ms/step - loss: 1.0090 - accuracy: 0.9664 - precision: 0.7819 - recall: 0.5935 - val_loss: 1.2227 - val_accuracy: 0.9651 - val_precision: 0.7718 - val_recall: 0.5773\n",
      "Epoch 20/55\n",
      "123/123 [==============================] - 1s 4ms/step - loss: 0.9499 - accuracy: 0.9686 - precision: 0.7996 - recall: 0.6220 - val_loss: 1.2399 - val_accuracy: 0.9647 - val_precision: 0.7672 - val_recall: 0.5739\n",
      "Epoch 21/55\n",
      "123/123 [==============================] - 1s 4ms/step - loss: 0.9559 - accuracy: 0.9682 - precision: 0.7995 - recall: 0.6130 - val_loss: 1.2431 - val_accuracy: 0.9646 - val_precision: 0.7507 - val_recall: 0.5968\n",
      "Epoch 22/55\n",
      "123/123 [==============================] - 1s 4ms/step - loss: 0.9564 - accuracy: 0.9680 - precision: 0.7931 - recall: 0.6176 - val_loss: 1.2428 - val_accuracy: 0.9665 - val_precision: 0.7693 - val_recall: 0.6151\n",
      "Epoch 23/55\n",
      "123/123 [==============================] - 1s 4ms/step - loss: 0.9742 - accuracy: 0.9681 - precision: 0.7940 - recall: 0.6170 - val_loss: 1.2561 - val_accuracy: 0.9633 - val_precision: 0.7531 - val_recall: 0.5590\n",
      "Epoch 24/55\n",
      "123/123 [==============================] - 1s 4ms/step - loss: 0.9450 - accuracy: 0.9690 - precision: 0.8009 - recall: 0.6295 - val_loss: 1.2324 - val_accuracy: 0.9655 - val_precision: 0.7627 - val_recall: 0.6002\n",
      "Epoch 25/55\n",
      "123/123 [==============================] - 1s 4ms/step - loss: 0.9400 - accuracy: 0.9691 - precision: 0.8038 - recall: 0.6273 - val_loss: 1.2784 - val_accuracy: 0.9646 - val_precision: 0.7447 - val_recall: 0.6048\n",
      "Epoch 26/55\n",
      "123/123 [==============================] - 1s 4ms/step - loss: 0.9282 - accuracy: 0.9691 - precision: 0.7965 - recall: 0.6367 - val_loss: 1.2095 - val_accuracy: 0.9647 - val_precision: 0.7489 - val_recall: 0.6014\n",
      "Epoch 27/55\n",
      "123/123 [==============================] - 1s 4ms/step - loss: 0.9229 - accuracy: 0.9688 - precision: 0.7959 - recall: 0.6321 - val_loss: 1.2865 - val_accuracy: 0.9629 - val_precision: 0.7291 - val_recall: 0.5888\n",
      "Epoch 28/55\n",
      "123/123 [==============================] - 1s 4ms/step - loss: 0.8937 - accuracy: 0.9704 - precision: 0.8106 - recall: 0.6477 - val_loss: 1.2134 - val_accuracy: 0.9640 - val_precision: 0.7321 - val_recall: 0.6105\n",
      "Epoch 29/55\n",
      "123/123 [==============================] - 1s 4ms/step - loss: 0.9214 - accuracy: 0.9695 - precision: 0.8013 - recall: 0.6391 - val_loss: 1.2672 - val_accuracy: 0.9612 - val_precision: 0.7220 - val_recall: 0.5533\n",
      "Epoch 30/55\n",
      "123/123 [==============================] - 1s 4ms/step - loss: 0.8993 - accuracy: 0.9706 - precision: 0.8094 - recall: 0.6542 - val_loss: 1.2411 - val_accuracy: 0.9637 - val_precision: 0.7389 - val_recall: 0.5934\n",
      "Epoch 31/55\n",
      "123/123 [==============================] - 1s 4ms/step - loss: 0.8823 - accuracy: 0.9708 - precision: 0.8114 - recall: 0.6568 - val_loss: 1.3011 - val_accuracy: 0.9631 - val_precision: 0.7235 - val_recall: 0.6025\n",
      "Epoch 32/55\n",
      "123/123 [==============================] - 1s 4ms/step - loss: 0.8900 - accuracy: 0.9700 - precision: 0.8040 - recall: 0.6469 - val_loss: 1.4068 - val_accuracy: 0.9614 - val_precision: 0.7168 - val_recall: 0.5682\n",
      "Epoch 33/55\n",
      "123/123 [==============================] - 1s 5ms/step - loss: 0.9008 - accuracy: 0.9698 - precision: 0.8016 - recall: 0.6457 - val_loss: 1.2313 - val_accuracy: 0.9644 - val_precision: 0.7486 - val_recall: 0.5934\n",
      "Epoch 34/55\n",
      "123/123 [==============================] - 1s 4ms/step - loss: 0.8603 - accuracy: 0.9707 - precision: 0.8070 - recall: 0.6588 - val_loss: 1.1754 - val_accuracy: 0.9672 - val_precision: 0.7749 - val_recall: 0.6231\n",
      "Epoch 35/55\n",
      "123/123 [==============================] - 1s 4ms/step - loss: 0.8845 - accuracy: 0.9705 - precision: 0.8075 - recall: 0.6550 - val_loss: 1.2125 - val_accuracy: 0.9662 - val_precision: 0.7467 - val_recall: 0.6449\n",
      "Epoch 36/55\n",
      "123/123 [==============================] - 1s 5ms/step - loss: 0.8701 - accuracy: 0.9708 - precision: 0.8065 - recall: 0.6620 - val_loss: 1.2466 - val_accuracy: 0.9640 - val_precision: 0.7549 - val_recall: 0.5750\n",
      "Epoch 37/55\n",
      "123/123 [==============================] - 1s 5ms/step - loss: 0.8538 - accuracy: 0.9709 - precision: 0.8112 - recall: 0.6596 - val_loss: 1.2822 - val_accuracy: 0.9625 - val_precision: 0.7198 - val_recall: 0.5945\n",
      "Epoch 38/55\n",
      "123/123 [==============================] - 1s 4ms/step - loss: 0.8342 - accuracy: 0.9717 - precision: 0.8143 - recall: 0.6724 - val_loss: 1.2473 - val_accuracy: 0.9655 - val_precision: 0.7698 - val_recall: 0.5899\n",
      "Epoch 39/55\n",
      "123/123 [==============================] - 1s 5ms/step - loss: 0.8670 - accuracy: 0.9709 - precision: 0.8084 - recall: 0.6614 - val_loss: 1.3651 - val_accuracy: 0.9631 - val_precision: 0.7283 - val_recall: 0.5956\n",
      "Epoch 40/55\n",
      "123/123 [==============================] - 1s 4ms/step - loss: 0.8815 - accuracy: 0.9709 - precision: 0.8117 - recall: 0.6577 - val_loss: 1.3168 - val_accuracy: 0.9650 - val_precision: 0.7475 - val_recall: 0.6105\n",
      "Epoch 41/55\n",
      "123/123 [==============================] - 1s 5ms/step - loss: 0.8736 - accuracy: 0.9708 - precision: 0.8086 - recall: 0.6602 - val_loss: 1.1693 - val_accuracy: 0.9664 - val_precision: 0.7590 - val_recall: 0.6277\n",
      "Epoch 42/55\n",
      "123/123 [==============================] - 1s 5ms/step - loss: 0.8488 - accuracy: 0.9709 - precision: 0.8073 - recall: 0.6633 - val_loss: 1.2686 - val_accuracy: 0.9652 - val_precision: 0.7390 - val_recall: 0.6323\n",
      "Epoch 43/55\n",
      "123/123 [==============================] - 1s 5ms/step - loss: 0.8568 - accuracy: 0.9706 - precision: 0.8086 - recall: 0.6563 - val_loss: 1.2811 - val_accuracy: 0.9640 - val_precision: 0.7380 - val_recall: 0.6002\n",
      "Epoch 44/55\n",
      "123/123 [==============================] - 1s 4ms/step - loss: 0.8452 - accuracy: 0.9716 - precision: 0.8145 - recall: 0.6695 - val_loss: 1.3009 - val_accuracy: 0.9639 - val_precision: 0.7357 - val_recall: 0.6025\n",
      "Epoch 45/55\n",
      "123/123 [==============================] - 1s 4ms/step - loss: 0.8226 - accuracy: 0.9723 - precision: 0.8189 - recall: 0.6797 - val_loss: 1.2947 - val_accuracy: 0.9642 - val_precision: 0.7471 - val_recall: 0.5922\n",
      "Epoch 46/55\n",
      "123/123 [==============================] - 1s 5ms/step - loss: 0.8430 - accuracy: 0.9718 - precision: 0.8165 - recall: 0.6710 - val_loss: 1.3360 - val_accuracy: 0.9641 - val_precision: 0.7273 - val_recall: 0.6231\n",
      "Epoch 47/55\n",
      "123/123 [==============================] - 1s 4ms/step - loss: 0.8221 - accuracy: 0.9720 - precision: 0.8152 - recall: 0.6771 - val_loss: 1.2838 - val_accuracy: 0.9643 - val_precision: 0.7385 - val_recall: 0.6082\n",
      "Epoch 48/55\n",
      "123/123 [==============================] - 1s 4ms/step - loss: 0.8297 - accuracy: 0.9721 - precision: 0.8161 - recall: 0.6783 - val_loss: 1.2622 - val_accuracy: 0.9659 - val_precision: 0.7663 - val_recall: 0.6048\n",
      "Epoch 49/55\n",
      "123/123 [==============================] - 1s 4ms/step - loss: 0.8346 - accuracy: 0.9721 - precision: 0.8183 - recall: 0.6757 - val_loss: 1.3619 - val_accuracy: 0.9634 - val_precision: 0.7273 - val_recall: 0.6048\n",
      "Epoch 50/55\n",
      "123/123 [==============================] - 1s 4ms/step - loss: 0.8342 - accuracy: 0.9719 - precision: 0.8155 - recall: 0.6755 - val_loss: 1.2970 - val_accuracy: 0.9652 - val_precision: 0.7405 - val_recall: 0.6277\n",
      "Epoch 51/55\n",
      "123/123 [==============================] - 1s 4ms/step - loss: 0.8211 - accuracy: 0.9726 - precision: 0.8214 - recall: 0.6820 - val_loss: 1.2995 - val_accuracy: 0.9638 - val_precision: 0.7295 - val_recall: 0.6117\n",
      "Epoch 52/55\n",
      "123/123 [==============================] - 1s 4ms/step - loss: 0.8082 - accuracy: 0.9725 - precision: 0.8183 - recall: 0.6845 - val_loss: 1.2627 - val_accuracy: 0.9660 - val_precision: 0.7552 - val_recall: 0.6254\n",
      "Epoch 53/55\n",
      "123/123 [==============================] - 1s 4ms/step - loss: 0.8116 - accuracy: 0.9725 - precision: 0.8199 - recall: 0.6820 - val_loss: 1.2206 - val_accuracy: 0.9659 - val_precision: 0.7463 - val_recall: 0.6369\n",
      "Epoch 54/55\n",
      "123/123 [==============================] - 1s 4ms/step - loss: 0.7890 - accuracy: 0.9731 - precision: 0.8242 - recall: 0.6896 - val_loss: 1.3036 - val_accuracy: 0.9648 - val_precision: 0.7291 - val_recall: 0.6380\n",
      "Epoch 55/55\n",
      "123/123 [==============================] - 1s 5ms/step - loss: 0.8101 - accuracy: 0.9731 - precision: 0.8212 - recall: 0.6932 - val_loss: 1.2202 - val_accuracy: 0.9670 - val_precision: 0.7634 - val_recall: 0.6357\n"
     ]
    },
    {
     "data": {
      "text/plain": [
       "<keras.src.callbacks.History at 0x190ce01d510>"
      ]
     },
     "execution_count": 1426,
     "metadata": {},
     "output_type": "execute_result"
    }
   ],
   "source": [
    "model9.fit(X_train[:7858].values , y_train1[:7858] , batch_size = 64 , epochs = 55, validation_data=(X_val.values,y_val) ,verbose =1)"
   ]
  },
  {
   "cell_type": "code",
   "execution_count": 1427,
   "id": "82344b7e",
   "metadata": {
    "ExecuteTime": {
     "end_time": "2024-01-20T14:53:04.127049Z",
     "start_time": "2024-01-20T14:53:03.675015Z"
    }
   },
   "outputs": [
    {
     "name": "stdout",
     "output_type": "stream",
     "text": [
      "69/69 [==============================] - 0s 3ms/step\n"
     ]
    }
   ],
   "source": [
    "predictions9 = model9.predict(X_test.values)"
   ]
  },
  {
   "cell_type": "code",
   "execution_count": 1428,
   "id": "8aa782ec",
   "metadata": {
    "ExecuteTime": {
     "end_time": "2024-01-20T14:53:04.859443Z",
     "start_time": "2024-01-20T14:53:04.851105Z"
    }
   },
   "outputs": [],
   "source": [
    "predictions9 = np.argmax(predictions9,axis=1)"
   ]
  },
  {
   "cell_type": "code",
   "execution_count": 1429,
   "id": "441167d4",
   "metadata": {
    "ExecuteTime": {
     "end_time": "2024-01-20T14:53:05.828589Z",
     "start_time": "2024-01-20T14:53:05.789586Z"
    }
   },
   "outputs": [
    {
     "name": "stdout",
     "output_type": "stream",
     "text": [
      "              precision    recall  f1-score   support\n",
      "\n",
      "           0       0.61      0.54      0.57        68\n",
      "           1       0.82      0.80      0.81       176\n",
      "           2       0.74      0.72      0.73        97\n",
      "           3       0.71      0.64      0.67        90\n",
      "           4       0.63      0.56      0.59        93\n",
      "           5       0.67      0.75      0.71       108\n",
      "           6       0.85      0.81      0.83       126\n",
      "           7       0.69      0.76      0.73       136\n",
      "           8       0.78      0.71      0.74       122\n",
      "           9       0.81      0.73      0.77       155\n",
      "          10       0.68      0.66      0.67        61\n",
      "          11       0.64      0.63      0.64       172\n",
      "          12       0.72      0.83      0.77       182\n",
      "          13       0.71      0.63      0.67       151\n",
      "          14       0.56      0.59      0.58       200\n",
      "          15       0.82      0.85      0.84       169\n",
      "          16       0.84      0.97      0.90        77\n",
      "\n",
      "    accuracy                           0.72      2183\n",
      "   macro avg       0.72      0.72      0.72      2183\n",
      "weighted avg       0.72      0.72      0.72      2183\n",
      "\n"
     ]
    }
   ],
   "source": [
    "print(classification_report(y_test.values , predictions9))"
   ]
  },
  {
   "cell_type": "code",
   "execution_count": 1430,
   "id": "7213897c",
   "metadata": {
    "ExecuteTime": {
     "end_time": "2024-01-20T14:53:06.525754Z",
     "start_time": "2024-01-20T14:53:06.491457Z"
    }
   },
   "outputs": [
    {
     "name": "stdout",
     "output_type": "stream",
     "text": [
      "Precision is 0.7220791807689374\n",
      "Recall is 0.7176792722406762\n",
      "F1: 0.7183660390237607\n"
     ]
    }
   ],
   "source": [
    "    # Evaluating the model\n",
    "print('Precision is {}'.format(precision_score(y_test.values, predictions9, average='macro')))\n",
    "print('Recall is {}'.format(recall_score(y_test.values, predictions9, average='macro')))\n",
    "print('F1:', f1_score(y_test.values, predictions9, average='macro'))"
   ]
  },
  {
   "cell_type": "code",
   "execution_count": 1424,
   "id": "2abb9f56",
   "metadata": {
    "ExecuteTime": {
     "end_time": "2024-01-20T14:52:15.740202Z",
     "start_time": "2024-01-20T14:52:15.727506Z"
    }
   },
   "outputs": [],
   "source": [
    "opt6 = tf.keras.optimizers.AdamW(learning_rate =0.01 , beta_1=0.9,\n",
    "    beta_2=0.999,\n",
    "    use_ema=True,\n",
    "    ema_momentum=0.99)"
   ]
  },
  {
   "cell_type": "code",
   "execution_count": 1325,
   "id": "8c2d4ebe",
   "metadata": {
    "ExecuteTime": {
     "end_time": "2024-01-20T14:42:40.703456Z",
     "start_time": "2024-01-20T14:42:40.697967Z"
    }
   },
   "outputs": [],
   "source": [
    "# with opt3 model9 scored for 15 epochs 72% accuracy with batchsize 64"
   ]
  },
  {
   "cell_type": "code",
   "execution_count": 1410,
   "id": "692954f3",
   "metadata": {
    "ExecuteTime": {
     "end_time": "2024-01-20T14:50:38.332514Z",
     "start_time": "2024-01-20T14:50:38.292433Z"
    }
   },
   "outputs": [
    {
     "name": "stdout",
     "output_type": "stream",
     "text": [
      "Model: \"sequential_73\"\n",
      "_________________________________________________________________\n",
      " Layer (type)                Output Shape              Param #   \n",
      "=================================================================\n",
      " dense_468 (Dense)           (None, 17)                3417      \n",
      "                                                                 \n",
      " dense_469 (Dense)           (None, 320)               5760      \n",
      "                                                                 \n",
      " dropout_54 (Dropout)        (None, 320)               0         \n",
      "                                                                 \n",
      " dense_470 (Dense)           (None, 180)               57780     \n",
      "                                                                 \n",
      " dense_471 (Dense)           (None, 100)               18100     \n",
      "                                                                 \n",
      " dense_472 (Dense)           (None, 60)                6060      \n",
      "                                                                 \n",
      " dense_473 (Dense)           (None, 30)                1830      \n",
      "                                                                 \n",
      " dense_474 (Dense)           (None, 17)                527       \n",
      "                                                                 \n",
      "=================================================================\n",
      "Total params: 93474 (365.13 KB)\n",
      "Trainable params: 93474 (365.13 KB)\n",
      "Non-trainable params: 0 (0.00 Byte)\n",
      "_________________________________________________________________\n"
     ]
    }
   ],
   "source": [
    "model9.summary()"
   ]
  },
  {
   "cell_type": "code",
   "execution_count": 1332,
   "id": "58e02a77",
   "metadata": {
    "ExecuteTime": {
     "end_time": "2024-01-20T14:44:02.935119Z",
     "start_time": "2024-01-20T14:44:02.930226Z"
    }
   },
   "outputs": [],
   "source": [
    "# with opt3 model9 scored for 55 epochs 73% accuracy with batchsize 64"
   ]
  },
  {
   "cell_type": "code",
   "execution_count": 1393,
   "id": "f5fe7442",
   "metadata": {
    "ExecuteTime": {
     "end_time": "2024-01-20T14:48:20.125089Z",
     "start_time": "2024-01-20T14:48:20.111559Z"
    }
   },
   "outputs": [],
   "source": [
    "opt4 = tf.keras.optimizers.AdamW(learning_rate =0.06 , beta_1=0.9,\n",
    "    beta_2=0.999,\n",
    "    use_ema=True,\n",
    "    ema_momentum=0.99)"
   ]
  },
  {
   "cell_type": "markdown",
   "id": "a3073b80",
   "metadata": {
    "ExecuteTime": {
     "end_time": "2024-01-20T14:55:47.759459Z",
     "start_time": "2024-01-20T14:55:47.755940Z"
    }
   },
   "source": [
    "### MODEL 10"
   ]
  },
  {
   "cell_type": "code",
   "execution_count": 1574,
   "id": "33253040",
   "metadata": {
    "ExecuteTime": {
     "end_time": "2024-01-20T15:04:02.120119Z",
     "start_time": "2024-01-20T15:04:02.049842Z"
    }
   },
   "outputs": [],
   "source": [
    "model10 = Sequential()\n",
    "model10.add(Dense(17,input_dim=in_dim,activation = \"leaky_relu\"))\n",
    "model10.add(Dense(320,activation = \"leaky_relu\"))\n",
    "model10.add(Dropout(0.2))\n",
    "#model9.add(Dense(180,activation = \"leaky_relu\"))\n",
    "#model9.add(Dropout(0.1))\n",
    "model10.add(Dense(100,activation = \"leaky_relu\"))\n",
    "model10.add(Dropout(0.1))\n",
    "#model10.add(Dense(60,activation = \"leaky_relu\"))\n",
    "#model10.add(Dense(30,activation = \"leaky_relu\"))\n",
    "model10.add(Dense(17,activation = \"softmax\"))"
   ]
  },
  {
   "cell_type": "code",
   "execution_count": 1575,
   "id": "990c55f4",
   "metadata": {
    "ExecuteTime": {
     "end_time": "2024-01-20T15:04:02.733956Z",
     "start_time": "2024-01-20T15:04:02.712160Z"
    }
   },
   "outputs": [],
   "source": [
    "model10.compile(optimizer = opt7 , \n",
    "              loss = 'categorical_crossentropy' ,\n",
    "              metrics=[tf.keras.metrics.BinaryAccuracy(name='accuracy'),\n",
    "                       tf.keras.metrics.Precision(name='precision'),\n",
    "                       tf.keras.metrics.Recall(name='recall')])"
   ]
  },
  {
   "cell_type": "code",
   "execution_count": 1576,
   "id": "a0260abc",
   "metadata": {
    "ExecuteTime": {
     "end_time": "2024-01-20T15:04:03.308569Z",
     "start_time": "2024-01-20T15:04:03.303052Z"
    }
   },
   "outputs": [],
   "source": [
    "opt7 = tf.keras.optimizers.AdamW(learning_rate =0.01 , beta_1=0.9,\n",
    "    beta_2=0.999,\n",
    "    use_ema=True,\n",
    "    ema_momentum=0.99)"
   ]
  },
  {
   "cell_type": "code",
   "execution_count": 1597,
   "id": "a088f1f6",
   "metadata": {
    "ExecuteTime": {
     "end_time": "2024-01-20T15:04:44.505840Z",
     "start_time": "2024-01-20T15:04:42.270007Z"
    }
   },
   "outputs": [
    {
     "name": "stdout",
     "output_type": "stream",
     "text": [
      "Epoch 1/5\n",
      "123/123 [==============================] - 0s 4ms/step - loss: 0.8257 - accuracy: 0.9706 - precision: 0.8024 - recall: 0.6629 - val_loss: 1.2321 - val_accuracy: 0.9647 - val_precision: 0.7447 - val_recall: 0.6082\n",
      "Epoch 2/5\n",
      "123/123 [==============================] - 0s 3ms/step - loss: 0.8383 - accuracy: 0.9701 - precision: 0.7951 - recall: 0.6616 - val_loss: 1.1178 - val_accuracy: 0.9657 - val_precision: 0.7615 - val_recall: 0.6071\n",
      "Epoch 3/5\n",
      "123/123 [==============================] - 0s 3ms/step - loss: 0.8329 - accuracy: 0.9703 - precision: 0.7978 - recall: 0.6624 - val_loss: 1.1771 - val_accuracy: 0.9647 - val_precision: 0.7468 - val_recall: 0.6048\n",
      "Epoch 4/5\n",
      "123/123 [==============================] - 0s 3ms/step - loss: 0.8364 - accuracy: 0.9702 - precision: 0.7988 - recall: 0.6593 - val_loss: 1.2063 - val_accuracy: 0.9660 - val_precision: 0.7563 - val_recall: 0.6220\n",
      "Epoch 5/5\n",
      "123/123 [==============================] - 0s 3ms/step - loss: 0.8427 - accuracy: 0.9706 - precision: 0.8015 - recall: 0.6640 - val_loss: 1.1498 - val_accuracy: 0.9660 - val_precision: 0.7644 - val_recall: 0.6094\n"
     ]
    },
    {
     "data": {
      "text/plain": [
       "<keras.src.callbacks.History at 0x190e2da6110>"
      ]
     },
     "execution_count": 1597,
     "metadata": {},
     "output_type": "execute_result"
    }
   ],
   "source": [
    "model10.fit(X_train[:7858].values , y_train1[:7858] , batch_size = 64 , epochs = 5, validation_data=(X_val.values,y_val) ,verbose =1)"
   ]
  },
  {
   "cell_type": "code",
   "execution_count": 1598,
   "id": "fc7772e7",
   "metadata": {
    "ExecuteTime": {
     "end_time": "2024-01-20T15:04:45.417597Z",
     "start_time": "2024-01-20T15:04:45.188581Z"
    }
   },
   "outputs": [
    {
     "name": "stdout",
     "output_type": "stream",
     "text": [
      "69/69 [==============================] - 0s 2ms/step\n"
     ]
    }
   ],
   "source": [
    "predictions10 = model10.predict(X_test.values)\n",
    "predictions10 = np.argmax(predictions10,axis=1)"
   ]
  },
  {
   "cell_type": "code",
   "execution_count": 1599,
   "id": "75a5321e",
   "metadata": {
    "ExecuteTime": {
     "end_time": "2024-01-20T15:04:45.797447Z",
     "start_time": "2024-01-20T15:04:45.780445Z"
    }
   },
   "outputs": [
    {
     "name": "stdout",
     "output_type": "stream",
     "text": [
      "              precision    recall  f1-score   support\n",
      "\n",
      "           0       0.58      0.51      0.55        68\n",
      "           1       0.80      0.80      0.80       176\n",
      "           2       0.72      0.80      0.76        97\n",
      "           3       0.73      0.66      0.69        90\n",
      "           4       0.67      0.58      0.62        93\n",
      "           5       0.67      0.81      0.73       108\n",
      "           6       0.85      0.83      0.84       126\n",
      "           7       0.72      0.82      0.77       136\n",
      "           8       0.73      0.66      0.69       122\n",
      "           9       0.79      0.70      0.74       155\n",
      "          10       0.70      0.64      0.67        61\n",
      "          11       0.62      0.65      0.64       172\n",
      "          12       0.76      0.81      0.79       182\n",
      "          13       0.73      0.62      0.67       151\n",
      "          14       0.61      0.60      0.61       200\n",
      "          15       0.81      0.88      0.84       169\n",
      "          16       0.86      0.96      0.91        77\n",
      "\n",
      "    accuracy                           0.73      2183\n",
      "   macro avg       0.73      0.72      0.72      2183\n",
      "weighted avg       0.73      0.73      0.73      2183\n",
      "\n"
     ]
    }
   ],
   "source": [
    "print(classification_report(y_test.values , predictions10))"
   ]
  },
  {
   "cell_type": "code",
   "execution_count": 1600,
   "id": "085e1c06",
   "metadata": {
    "ExecuteTime": {
     "end_time": "2024-01-20T15:04:46.233642Z",
     "start_time": "2024-01-20T15:04:46.219459Z"
    }
   },
   "outputs": [
    {
     "name": "stdout",
     "output_type": "stream",
     "text": [
      "Precision is 0.7264048178436643\n",
      "Recall is 0.72420541870145\n",
      "F1: 0.7232623071801931\n"
     ]
    }
   ],
   "source": [
    "    # Evaluating the model\n",
    "print('Precision is {}'.format(precision_score(y_test.values, predictions10, average='macro')))\n",
    "print('Recall is {}'.format(recall_score(y_test.values, predictions10, average='macro')))\n",
    "print('F1:', f1_score(y_test.values, predictions10, average='macro'))"
   ]
  },
  {
   "cell_type": "code",
   "execution_count": 1606,
   "id": "044a2f7f",
   "metadata": {
    "ExecuteTime": {
     "end_time": "2024-01-20T15:12:29.046748Z",
     "start_time": "2024-01-20T15:12:28.810731Z"
    }
   },
   "outputs": [
    {
     "name": "stdout",
     "output_type": "stream",
     "text": [
      "69/69 - 0s - loss: 0.9691 - accuracy: 0.9697 - precision: 0.7916 - recall: 0.6578 - 175ms/epoch - 3ms/step\n"
     ]
    }
   ],
   "source": [
    "score = model10.evaluate(X_test.values , y_test1 , batch_size = 32 , verbose =2)"
   ]
  },
  {
   "cell_type": "code",
   "execution_count": null,
   "id": "410b392f",
   "metadata": {},
   "outputs": [],
   "source": []
  }
 ],
 "metadata": {
  "hide_input": false,
  "kernelspec": {
   "display_name": "Python 3 (ipykernel)",
   "language": "python",
   "name": "python3"
  },
  "language_info": {
   "codemirror_mode": {
    "name": "ipython",
    "version": 3
   },
   "file_extension": ".py",
   "mimetype": "text/x-python",
   "name": "python",
   "nbconvert_exporter": "python",
   "pygments_lexer": "ipython3",
   "version": "3.11.5"
  },
  "nbTranslate": {
   "displayLangs": [
    "*"
   ],
   "hotkey": "alt-t",
   "langInMainMenu": true,
   "sourceLang": "en",
   "targetLang": "fr",
   "useGoogleTranslate": true
  },
  "toc": {
   "base_numbering": 1,
   "nav_menu": {},
   "number_sections": true,
   "sideBar": true,
   "skip_h1_title": false,
   "title_cell": "Table of Contents",
   "title_sidebar": "Contents",
   "toc_cell": false,
   "toc_position": {},
   "toc_section_display": true,
   "toc_window_display": false
  },
  "varInspector": {
   "cols": {
    "lenName": 16,
    "lenType": 16,
    "lenVar": 40
   },
   "kernels_config": {
    "python": {
     "delete_cmd_postfix": "",
     "delete_cmd_prefix": "del ",
     "library": "var_list.py",
     "varRefreshCmd": "print(var_dic_list())"
    },
    "r": {
     "delete_cmd_postfix": ") ",
     "delete_cmd_prefix": "rm(",
     "library": "var_list.r",
     "varRefreshCmd": "cat(var_dic_list()) "
    }
   },
   "types_to_exclude": [
    "module",
    "function",
    "builtin_function_or_method",
    "instance",
    "_Feature"
   ],
   "window_display": false
  }
 },
 "nbformat": 4,
 "nbformat_minor": 5
}
