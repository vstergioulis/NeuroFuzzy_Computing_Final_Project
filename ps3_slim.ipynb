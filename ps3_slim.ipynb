{
 "cells": [
  {
   "cell_type": "code",
   "execution_count": 1,
   "id": "2bb8233a",
   "metadata": {
    "ExecuteTime": {
     "end_time": "2024-01-20T16:36:03.452652Z",
     "start_time": "2024-01-20T16:36:01.807530Z"
    }
   },
   "outputs": [],
   "source": [
    "import numpy as np\n",
    "import pandas as pd\n",
    "import matplotlib.pyplot as plt\n",
    "\n",
    "from sklearn.datasets import make_classification"
   ]
  },
  {
   "cell_type": "code",
   "execution_count": 2,
   "id": "fb7fc4c7",
   "metadata": {
    "ExecuteTime": {
     "end_time": "2024-01-20T16:36:10.952270Z",
     "start_time": "2024-01-20T16:36:03.966228Z"
    }
   },
   "outputs": [
    {
     "name": "stdout",
     "output_type": "stream",
     "text": [
      "WARNING:tensorflow:From C:\\Users\\Desktop\\anaconda3\\Lib\\site-packages\\keras\\src\\losses.py:2976: The name tf.losses.sparse_softmax_cross_entropy is deprecated. Please use tf.compat.v1.losses.sparse_softmax_cross_entropy instead.\n",
      "\n"
     ]
    }
   ],
   "source": [
    "from tensorflow.keras.models import Sequential\n",
    "from tensorflow.keras.layers import Dense, Activation\n",
    "import tensorflow as tf\n",
    "\n",
    "from sklearn.model_selection import train_test_split\n",
    "from sklearn.preprocessing import LabelEncoder\n",
    "from sklearn.preprocessing import MinMaxScaler\n",
    "import gensim"
   ]
  },
  {
   "cell_type": "code",
   "execution_count": 3,
   "id": "f7cb131c",
   "metadata": {
    "ExecuteTime": {
     "end_time": "2024-01-20T16:36:11.499145Z",
     "start_time": "2024-01-20T16:36:11.494668Z"
    }
   },
   "outputs": [],
   "source": [
    "from gensim.models import Word2Vec, KeyedVectors"
   ]
  },
  {
   "cell_type": "code",
   "execution_count": 4,
   "id": "80853a4e",
   "metadata": {
    "ExecuteTime": {
     "end_time": "2024-01-20T16:36:14.047053Z",
     "start_time": "2024-01-20T16:36:13.614679Z"
    }
   },
   "outputs": [],
   "source": [
    "from nltk.stem import WordNetLemmatizer\n",
    "from nltk.corpus import stopwords\n",
    "from nltk.tokenize import RegexpTokenizer\n",
    "import re\n",
    "import matplotlib.pyplot as plt\n",
    "import nltk"
   ]
  },
  {
   "cell_type": "code",
   "execution_count": 5,
   "id": "80a114b0",
   "metadata": {
    "ExecuteTime": {
     "end_time": "2024-01-20T16:36:14.767215Z",
     "start_time": "2024-01-20T16:36:14.762112Z"
    }
   },
   "outputs": [],
   "source": [
    "from tensorflow.keras.utils import to_categorical"
   ]
  },
  {
   "cell_type": "code",
   "execution_count": 6,
   "id": "e2104d79",
   "metadata": {
    "ExecuteTime": {
     "end_time": "2024-01-20T16:36:15.749165Z",
     "start_time": "2024-01-20T16:36:15.152678Z"
    }
   },
   "outputs": [],
   "source": [
    "data = pd.read_csv(\"data/news_class.csv\")"
   ]
  },
  {
   "cell_type": "code",
   "execution_count": 7,
   "id": "142478f7",
   "metadata": {
    "ExecuteTime": {
     "end_time": "2024-01-20T16:36:15.774858Z",
     "start_time": "2024-01-20T16:36:15.769167Z"
    }
   },
   "outputs": [],
   "source": [
    "df = data.copy() # to be safe and avoid errors"
   ]
  },
  {
   "cell_type": "code",
   "execution_count": 8,
   "id": "01b4b663",
   "metadata": {
    "ExecuteTime": {
     "end_time": "2024-01-20T16:36:16.358109Z",
     "start_time": "2024-01-20T16:36:16.351124Z"
    }
   },
   "outputs": [],
   "source": [
    "df = df.loc[:,[\"data_id\" , \"content\" , \"category_level_1\" , \"category_level_2\"]]"
   ]
  },
  {
   "cell_type": "code",
   "execution_count": 9,
   "id": "a5a4868e",
   "metadata": {
    "ExecuteTime": {
     "end_time": "2024-01-20T16:36:16.731861Z",
     "start_time": "2024-01-20T16:36:16.727019Z"
    }
   },
   "outputs": [],
   "source": [
    "def labeler(dataframe_column):\n",
    "    encoder=LabelEncoder()\n",
    "    \n",
    "    labels = encoder.fit_transform(dataframe_column)\n",
    "    print(encoder.classes_)\n",
    "    print(\"We did it boys , labels have been created\")\n",
    "    \n",
    "    return(pd.DataFrame(labels))"
   ]
  },
  {
   "cell_type": "code",
   "execution_count": 10,
   "id": "0d5b5946",
   "metadata": {
    "ExecuteTime": {
     "end_time": "2024-01-20T16:36:17.423999Z",
     "start_time": "2024-01-20T16:36:17.415903Z"
    }
   },
   "outputs": [],
   "source": [
    "# Function for removing ASCII characters\n",
    "def _removeNonAscii(s):\n",
    "    return \"\".join(i for i in s if  ord(i)<128)\n",
    "\n",
    "# Function for converting to lower case\n",
    "def make_lower_case(text):\n",
    "    return text.lower()\n",
    "\n",
    "# Function for removing stop words\n",
    "def remove_stop_words(text):\n",
    "    text = text.split()\n",
    "    stops = set(stopwords.words(\"english\"))\n",
    "    text = [w for w in text if not w in stops]\n",
    "    text = \" \".join(text)\n",
    "    return text\n",
    "\n",
    "# Function for removing html\n",
    "def remove_html(text):\n",
    "    html_pattern = re.compile('<.*?>')\n",
    "    return html_pattern.sub(r'', text)\n",
    "\n",
    "# Function for removing punctuation\n",
    "def remove_punctuation(text):\n",
    "    tokenizer = RegexpTokenizer(r'\\w+')\n",
    "    text = tokenizer.tokenize(text)\n",
    "    text = \" \".join(text)\n",
    "    return text\n",
    "\n",
    "def lemm_text(text):\n",
    "    lemm=WordNetLemmatizer()\n",
    "    tokenizer = RegexpTokenizer(r'\\w+')\n",
    "    text = tokenizer.tokenize(text)\n",
    "    tokens = text\n",
    "    return ' '.join([lemm.lemmatize(t) for t in tokens])"
   ]
  },
  {
   "cell_type": "code",
   "execution_count": 11,
   "id": "3ba25a72",
   "metadata": {
    "ExecuteTime": {
     "end_time": "2024-01-20T16:36:51.716847Z",
     "start_time": "2024-01-20T16:36:17.959312Z"
    }
   },
   "outputs": [],
   "source": [
    "df['Cleaned'] = df['content'].apply(_removeNonAscii)\n",
    "df['Cleaned'] = df.Cleaned.apply(func = make_lower_case)\n",
    "df['Cleaned'] = df.Cleaned.apply(func = remove_stop_words)\n",
    "df['Cleaned'] = df.Cleaned.apply(func = remove_punctuation)\n",
    "df['Cleaned'] = df.Cleaned.apply(func = remove_html)\n",
    "df['Cleaned'] = df.Cleaned.apply(func = lemm_text)\n",
    "df = df.drop('content' , axis =1)"
   ]
  },
  {
   "cell_type": "code",
   "execution_count": 12,
   "id": "212263b5",
   "metadata": {
    "ExecuteTime": {
     "end_time": "2024-01-20T16:36:51.746684Z",
     "start_time": "2024-01-20T16:36:51.740482Z"
    }
   },
   "outputs": [],
   "source": [
    "io = df.copy()"
   ]
  },
  {
   "cell_type": "code",
   "execution_count": 13,
   "id": "19efb536",
   "metadata": {
    "ExecuteTime": {
     "end_time": "2024-01-20T16:36:52.136676Z",
     "start_time": "2024-01-20T16:36:51.765649Z"
    }
   },
   "outputs": [],
   "source": [
    "io = io.drop([374]).reset_index(drop=True)\n",
    "io = io.drop([6527]).reset_index(drop=True)\n",
    "\n",
    "\n",
    "corpus_full = []\n",
    "for words in io['Cleaned']:\n",
    "    corpus_full.append(words.split())  "
   ]
  },
  {
   "cell_type": "code",
   "execution_count": 14,
   "id": "b0eaf8bb",
   "metadata": {
    "ExecuteTime": {
     "end_time": "2024-01-20T16:36:52.174287Z",
     "start_time": "2024-01-20T16:36:52.165904Z"
    }
   },
   "outputs": [],
   "source": [
    "def vectorizer():\n",
    "    \n",
    "    \n",
    "    # Creating a list for storing the vectors ('Description' into vectors)\n",
    "    #global word_embeddings\n",
    "    word_embeddings = []\n",
    "    i = 0\n",
    "    # Reading the each 'Description'\n",
    "    for line in io['Cleaned']:\n",
    "        avgword2vec = None\n",
    "        count = 0\n",
    "        for word in line.split():\n",
    "            if word in model.wv.key_to_index:\n",
    "                count += 1\n",
    "                if avgword2vec is None:\n",
    "                    avgword2vec = model.wv[word]\n",
    "                else:\n",
    "                    avgword2vec = avgword2vec + model.wv[word]\n",
    "                \n",
    "        if avgword2vec is not None:\n",
    "            avgword2vec = avgword2vec / count\n",
    "            word_embeddings.append(avgword2vec)\n",
    "        else:\n",
    "            print(\"I found it , the error occurs at line:\" , i)\n",
    "          \n",
    "        i +=1 \n",
    "\n",
    "    return(pd.DataFrame(word_embeddings))  # Returning our Data as a Dataframe (aesthetic reasons)"
   ]
  },
  {
   "cell_type": "code",
   "execution_count": 15,
   "id": "98a83172",
   "metadata": {
    "ExecuteTime": {
     "end_time": "2024-01-20T16:36:52.486742Z",
     "start_time": "2024-01-20T16:36:52.202978Z"
    }
   },
   "outputs": [],
   "source": [
    "model = Word2Vec.load(\"word2vec.model3\")"
   ]
  },
  {
   "cell_type": "code",
   "execution_count": 16,
   "id": "00d3efe6",
   "metadata": {
    "ExecuteTime": {
     "end_time": "2024-01-20T16:37:03.867147Z",
     "start_time": "2024-01-20T16:36:52.519329Z"
    }
   },
   "outputs": [],
   "source": [
    "vect = vectorizer()"
   ]
  },
  {
   "cell_type": "code",
   "execution_count": 17,
   "id": "4d6efc31",
   "metadata": {
    "ExecuteTime": {
     "end_time": "2024-01-20T16:37:03.919293Z",
     "start_time": "2024-01-20T16:37:03.912998Z"
    }
   },
   "outputs": [
    {
     "name": "stdout",
     "output_type": "stream",
     "text": [
      "['arts, culture, entertainment and media' 'conflict, war and peace'\n",
      " 'crime, law and justice' 'disaster, accident and emergency incident'\n",
      " 'economy, business and finance' 'education' 'environment' 'health'\n",
      " 'human interest' 'labour' 'lifestyle and leisure' 'politics'\n",
      " 'religion and belief' 'science and technology' 'society' 'sport'\n",
      " 'weather']\n",
      "We did it boys , labels have been created\n"
     ]
    }
   ],
   "source": [
    "y1 = labeler(io[\"category_level_1\"])"
   ]
  },
  {
   "cell_type": "code",
   "execution_count": 18,
   "id": "ef41ee9f",
   "metadata": {
    "ExecuteTime": {
     "end_time": "2024-01-20T16:37:03.964826Z",
     "start_time": "2024-01-20T16:37:03.958907Z"
    }
   },
   "outputs": [],
   "source": [
    "X = vect.copy()"
   ]
  },
  {
   "cell_type": "code",
   "execution_count": 19,
   "id": "71a62371",
   "metadata": {
    "ExecuteTime": {
     "end_time": "2024-01-20T16:37:04.050236Z",
     "start_time": "2024-01-20T16:37:04.019233Z"
    }
   },
   "outputs": [
    {
     "data": {
      "text/html": [
       "<div>\n",
       "<style scoped>\n",
       "    .dataframe tbody tr th:only-of-type {\n",
       "        vertical-align: middle;\n",
       "    }\n",
       "\n",
       "    .dataframe tbody tr th {\n",
       "        vertical-align: top;\n",
       "    }\n",
       "\n",
       "    .dataframe thead th {\n",
       "        text-align: right;\n",
       "    }\n",
       "</style>\n",
       "<table border=\"1\" class=\"dataframe\">\n",
       "  <thead>\n",
       "    <tr style=\"text-align: right;\">\n",
       "      <th></th>\n",
       "      <th>0</th>\n",
       "      <th>1</th>\n",
       "      <th>2</th>\n",
       "      <th>3</th>\n",
       "      <th>4</th>\n",
       "      <th>5</th>\n",
       "      <th>6</th>\n",
       "      <th>7</th>\n",
       "      <th>8</th>\n",
       "      <th>9</th>\n",
       "      <th>...</th>\n",
       "      <th>190</th>\n",
       "      <th>191</th>\n",
       "      <th>192</th>\n",
       "      <th>193</th>\n",
       "      <th>194</th>\n",
       "      <th>195</th>\n",
       "      <th>196</th>\n",
       "      <th>197</th>\n",
       "      <th>198</th>\n",
       "      <th>199</th>\n",
       "    </tr>\n",
       "  </thead>\n",
       "  <tbody>\n",
       "    <tr>\n",
       "      <th>0</th>\n",
       "      <td>0.010030</td>\n",
       "      <td>-0.072825</td>\n",
       "      <td>-0.051542</td>\n",
       "      <td>0.033568</td>\n",
       "      <td>0.084110</td>\n",
       "      <td>0.027619</td>\n",
       "      <td>-0.071665</td>\n",
       "      <td>0.015907</td>\n",
       "      <td>-0.006390</td>\n",
       "      <td>0.152007</td>\n",
       "      <td>...</td>\n",
       "      <td>-0.087481</td>\n",
       "      <td>0.150550</td>\n",
       "      <td>0.010014</td>\n",
       "      <td>0.063487</td>\n",
       "      <td>0.218890</td>\n",
       "      <td>0.049933</td>\n",
       "      <td>0.014407</td>\n",
       "      <td>-0.129096</td>\n",
       "      <td>0.003949</td>\n",
       "      <td>-0.131842</td>\n",
       "    </tr>\n",
       "    <tr>\n",
       "      <th>1</th>\n",
       "      <td>0.071578</td>\n",
       "      <td>-0.083879</td>\n",
       "      <td>-0.080275</td>\n",
       "      <td>0.015637</td>\n",
       "      <td>0.068045</td>\n",
       "      <td>0.007964</td>\n",
       "      <td>-0.054446</td>\n",
       "      <td>0.003107</td>\n",
       "      <td>0.003455</td>\n",
       "      <td>0.160702</td>\n",
       "      <td>...</td>\n",
       "      <td>-0.032729</td>\n",
       "      <td>0.109924</td>\n",
       "      <td>0.010929</td>\n",
       "      <td>0.027677</td>\n",
       "      <td>0.182586</td>\n",
       "      <td>0.082423</td>\n",
       "      <td>-0.014971</td>\n",
       "      <td>-0.097462</td>\n",
       "      <td>-0.027377</td>\n",
       "      <td>-0.059375</td>\n",
       "    </tr>\n",
       "    <tr>\n",
       "      <th>2</th>\n",
       "      <td>0.028660</td>\n",
       "      <td>-0.003605</td>\n",
       "      <td>-0.043669</td>\n",
       "      <td>0.050716</td>\n",
       "      <td>0.109462</td>\n",
       "      <td>0.030837</td>\n",
       "      <td>-0.033665</td>\n",
       "      <td>0.022952</td>\n",
       "      <td>-0.026909</td>\n",
       "      <td>0.246786</td>\n",
       "      <td>...</td>\n",
       "      <td>-0.016610</td>\n",
       "      <td>0.091539</td>\n",
       "      <td>-0.029639</td>\n",
       "      <td>0.123434</td>\n",
       "      <td>0.160820</td>\n",
       "      <td>0.140771</td>\n",
       "      <td>-0.031121</td>\n",
       "      <td>-0.071247</td>\n",
       "      <td>-0.039745</td>\n",
       "      <td>-0.078560</td>\n",
       "    </tr>\n",
       "    <tr>\n",
       "      <th>3</th>\n",
       "      <td>0.068074</td>\n",
       "      <td>-0.112016</td>\n",
       "      <td>-0.055053</td>\n",
       "      <td>0.045375</td>\n",
       "      <td>0.063676</td>\n",
       "      <td>0.016817</td>\n",
       "      <td>-0.061693</td>\n",
       "      <td>-0.026442</td>\n",
       "      <td>-0.031120</td>\n",
       "      <td>0.191916</td>\n",
       "      <td>...</td>\n",
       "      <td>-0.073135</td>\n",
       "      <td>0.135709</td>\n",
       "      <td>0.006571</td>\n",
       "      <td>0.004580</td>\n",
       "      <td>0.166603</td>\n",
       "      <td>0.121948</td>\n",
       "      <td>-0.031010</td>\n",
       "      <td>-0.095062</td>\n",
       "      <td>0.007649</td>\n",
       "      <td>-0.106070</td>\n",
       "    </tr>\n",
       "    <tr>\n",
       "      <th>4</th>\n",
       "      <td>0.040953</td>\n",
       "      <td>-0.028588</td>\n",
       "      <td>-0.063608</td>\n",
       "      <td>0.046010</td>\n",
       "      <td>0.081183</td>\n",
       "      <td>-0.021608</td>\n",
       "      <td>-0.077216</td>\n",
       "      <td>0.027718</td>\n",
       "      <td>-0.030726</td>\n",
       "      <td>0.168264</td>\n",
       "      <td>...</td>\n",
       "      <td>-0.064928</td>\n",
       "      <td>0.073787</td>\n",
       "      <td>-0.000367</td>\n",
       "      <td>0.074108</td>\n",
       "      <td>0.142589</td>\n",
       "      <td>0.093344</td>\n",
       "      <td>0.004230</td>\n",
       "      <td>-0.099472</td>\n",
       "      <td>-0.069675</td>\n",
       "      <td>-0.046723</td>\n",
       "    </tr>\n",
       "    <tr>\n",
       "      <th>...</th>\n",
       "      <td>...</td>\n",
       "      <td>...</td>\n",
       "      <td>...</td>\n",
       "      <td>...</td>\n",
       "      <td>...</td>\n",
       "      <td>...</td>\n",
       "      <td>...</td>\n",
       "      <td>...</td>\n",
       "      <td>...</td>\n",
       "      <td>...</td>\n",
       "      <td>...</td>\n",
       "      <td>...</td>\n",
       "      <td>...</td>\n",
       "      <td>...</td>\n",
       "      <td>...</td>\n",
       "      <td>...</td>\n",
       "      <td>...</td>\n",
       "      <td>...</td>\n",
       "      <td>...</td>\n",
       "      <td>...</td>\n",
       "      <td>...</td>\n",
       "    </tr>\n",
       "    <tr>\n",
       "      <th>10910</th>\n",
       "      <td>0.025258</td>\n",
       "      <td>-0.056760</td>\n",
       "      <td>-0.053916</td>\n",
       "      <td>-0.080924</td>\n",
       "      <td>0.025728</td>\n",
       "      <td>-0.042500</td>\n",
       "      <td>0.016543</td>\n",
       "      <td>-0.056844</td>\n",
       "      <td>-0.068292</td>\n",
       "      <td>0.035164</td>\n",
       "      <td>...</td>\n",
       "      <td>-0.116704</td>\n",
       "      <td>0.099249</td>\n",
       "      <td>0.008260</td>\n",
       "      <td>0.035744</td>\n",
       "      <td>0.203707</td>\n",
       "      <td>-0.003986</td>\n",
       "      <td>0.023136</td>\n",
       "      <td>-0.156268</td>\n",
       "      <td>-0.018444</td>\n",
       "      <td>-0.033398</td>\n",
       "    </tr>\n",
       "    <tr>\n",
       "      <th>10911</th>\n",
       "      <td>0.122435</td>\n",
       "      <td>-0.154742</td>\n",
       "      <td>-0.159965</td>\n",
       "      <td>-0.032322</td>\n",
       "      <td>0.095427</td>\n",
       "      <td>-0.047862</td>\n",
       "      <td>0.000538</td>\n",
       "      <td>-0.144428</td>\n",
       "      <td>-0.148185</td>\n",
       "      <td>0.052159</td>\n",
       "      <td>...</td>\n",
       "      <td>-0.061774</td>\n",
       "      <td>0.067999</td>\n",
       "      <td>0.021077</td>\n",
       "      <td>0.097443</td>\n",
       "      <td>0.181980</td>\n",
       "      <td>0.091247</td>\n",
       "      <td>0.007482</td>\n",
       "      <td>-0.320918</td>\n",
       "      <td>-0.028273</td>\n",
       "      <td>-0.004733</td>\n",
       "    </tr>\n",
       "    <tr>\n",
       "      <th>10912</th>\n",
       "      <td>0.079171</td>\n",
       "      <td>-0.031492</td>\n",
       "      <td>-0.051477</td>\n",
       "      <td>-0.086577</td>\n",
       "      <td>0.101841</td>\n",
       "      <td>0.017272</td>\n",
       "      <td>-0.046363</td>\n",
       "      <td>-0.008180</td>\n",
       "      <td>-0.058952</td>\n",
       "      <td>0.015870</td>\n",
       "      <td>...</td>\n",
       "      <td>-0.013864</td>\n",
       "      <td>0.051082</td>\n",
       "      <td>-0.004890</td>\n",
       "      <td>0.170762</td>\n",
       "      <td>0.141724</td>\n",
       "      <td>0.000773</td>\n",
       "      <td>-0.022615</td>\n",
       "      <td>-0.110620</td>\n",
       "      <td>0.037668</td>\n",
       "      <td>-0.070821</td>\n",
       "    </tr>\n",
       "    <tr>\n",
       "      <th>10913</th>\n",
       "      <td>0.015078</td>\n",
       "      <td>-0.098757</td>\n",
       "      <td>-0.091811</td>\n",
       "      <td>-0.046112</td>\n",
       "      <td>0.102823</td>\n",
       "      <td>0.005763</td>\n",
       "      <td>-0.019206</td>\n",
       "      <td>-0.023700</td>\n",
       "      <td>-0.079233</td>\n",
       "      <td>0.044035</td>\n",
       "      <td>...</td>\n",
       "      <td>-0.014461</td>\n",
       "      <td>0.088623</td>\n",
       "      <td>0.036835</td>\n",
       "      <td>0.127098</td>\n",
       "      <td>0.156737</td>\n",
       "      <td>-0.003581</td>\n",
       "      <td>-0.047630</td>\n",
       "      <td>-0.176579</td>\n",
       "      <td>0.055320</td>\n",
       "      <td>-0.069404</td>\n",
       "    </tr>\n",
       "    <tr>\n",
       "      <th>10914</th>\n",
       "      <td>0.054540</td>\n",
       "      <td>-0.118217</td>\n",
       "      <td>-0.089521</td>\n",
       "      <td>0.012284</td>\n",
       "      <td>0.040246</td>\n",
       "      <td>-0.023135</td>\n",
       "      <td>-0.092320</td>\n",
       "      <td>-0.064904</td>\n",
       "      <td>-0.042663</td>\n",
       "      <td>0.041135</td>\n",
       "      <td>...</td>\n",
       "      <td>-0.077589</td>\n",
       "      <td>0.052324</td>\n",
       "      <td>-0.065146</td>\n",
       "      <td>0.070479</td>\n",
       "      <td>0.192898</td>\n",
       "      <td>0.017426</td>\n",
       "      <td>0.013624</td>\n",
       "      <td>-0.171379</td>\n",
       "      <td>-0.016206</td>\n",
       "      <td>-0.046442</td>\n",
       "    </tr>\n",
       "  </tbody>\n",
       "</table>\n",
       "<p>10915 rows × 200 columns</p>\n",
       "</div>"
      ],
      "text/plain": [
       "            0         1         2         3         4         5         6    \\\n",
       "0      0.010030 -0.072825 -0.051542  0.033568  0.084110  0.027619 -0.071665   \n",
       "1      0.071578 -0.083879 -0.080275  0.015637  0.068045  0.007964 -0.054446   \n",
       "2      0.028660 -0.003605 -0.043669  0.050716  0.109462  0.030837 -0.033665   \n",
       "3      0.068074 -0.112016 -0.055053  0.045375  0.063676  0.016817 -0.061693   \n",
       "4      0.040953 -0.028588 -0.063608  0.046010  0.081183 -0.021608 -0.077216   \n",
       "...         ...       ...       ...       ...       ...       ...       ...   \n",
       "10910  0.025258 -0.056760 -0.053916 -0.080924  0.025728 -0.042500  0.016543   \n",
       "10911  0.122435 -0.154742 -0.159965 -0.032322  0.095427 -0.047862  0.000538   \n",
       "10912  0.079171 -0.031492 -0.051477 -0.086577  0.101841  0.017272 -0.046363   \n",
       "10913  0.015078 -0.098757 -0.091811 -0.046112  0.102823  0.005763 -0.019206   \n",
       "10914  0.054540 -0.118217 -0.089521  0.012284  0.040246 -0.023135 -0.092320   \n",
       "\n",
       "            7         8         9    ...       190       191       192  \\\n",
       "0      0.015907 -0.006390  0.152007  ... -0.087481  0.150550  0.010014   \n",
       "1      0.003107  0.003455  0.160702  ... -0.032729  0.109924  0.010929   \n",
       "2      0.022952 -0.026909  0.246786  ... -0.016610  0.091539 -0.029639   \n",
       "3     -0.026442 -0.031120  0.191916  ... -0.073135  0.135709  0.006571   \n",
       "4      0.027718 -0.030726  0.168264  ... -0.064928  0.073787 -0.000367   \n",
       "...         ...       ...       ...  ...       ...       ...       ...   \n",
       "10910 -0.056844 -0.068292  0.035164  ... -0.116704  0.099249  0.008260   \n",
       "10911 -0.144428 -0.148185  0.052159  ... -0.061774  0.067999  0.021077   \n",
       "10912 -0.008180 -0.058952  0.015870  ... -0.013864  0.051082 -0.004890   \n",
       "10913 -0.023700 -0.079233  0.044035  ... -0.014461  0.088623  0.036835   \n",
       "10914 -0.064904 -0.042663  0.041135  ... -0.077589  0.052324 -0.065146   \n",
       "\n",
       "            193       194       195       196       197       198       199  \n",
       "0      0.063487  0.218890  0.049933  0.014407 -0.129096  0.003949 -0.131842  \n",
       "1      0.027677  0.182586  0.082423 -0.014971 -0.097462 -0.027377 -0.059375  \n",
       "2      0.123434  0.160820  0.140771 -0.031121 -0.071247 -0.039745 -0.078560  \n",
       "3      0.004580  0.166603  0.121948 -0.031010 -0.095062  0.007649 -0.106070  \n",
       "4      0.074108  0.142589  0.093344  0.004230 -0.099472 -0.069675 -0.046723  \n",
       "...         ...       ...       ...       ...       ...       ...       ...  \n",
       "10910  0.035744  0.203707 -0.003986  0.023136 -0.156268 -0.018444 -0.033398  \n",
       "10911  0.097443  0.181980  0.091247  0.007482 -0.320918 -0.028273 -0.004733  \n",
       "10912  0.170762  0.141724  0.000773 -0.022615 -0.110620  0.037668 -0.070821  \n",
       "10913  0.127098  0.156737 -0.003581 -0.047630 -0.176579  0.055320 -0.069404  \n",
       "10914  0.070479  0.192898  0.017426  0.013624 -0.171379 -0.016206 -0.046442  \n",
       "\n",
       "[10915 rows x 200 columns]"
      ]
     },
     "execution_count": 19,
     "metadata": {},
     "output_type": "execute_result"
    }
   ],
   "source": [
    "X"
   ]
  },
  {
   "cell_type": "markdown",
   "id": "0f67f786",
   "metadata": {},
   "source": [
    "# BUILDING OUR KERAS MODEL"
   ]
  },
  {
   "cell_type": "code",
   "execution_count": 20,
   "id": "1567175e",
   "metadata": {
    "ExecuteTime": {
     "end_time": "2024-01-20T16:37:27.764791Z",
     "start_time": "2024-01-20T16:37:27.743521Z"
    }
   },
   "outputs": [],
   "source": [
    "X_train, X_test, y_train, y_test = train_test_split(X, y1, test_size=0.2,random_state=42)"
   ]
  },
  {
   "cell_type": "code",
   "execution_count": 21,
   "id": "2e96dcff",
   "metadata": {
    "ExecuteTime": {
     "end_time": "2024-01-20T16:37:28.236475Z",
     "start_time": "2024-01-20T16:37:28.231077Z"
    }
   },
   "outputs": [
    {
     "data": {
      "text/plain": [
       "(8732, 200)"
      ]
     },
     "execution_count": 21,
     "metadata": {},
     "output_type": "execute_result"
    }
   ],
   "source": [
    "X_train.shape"
   ]
  },
  {
   "cell_type": "code",
   "execution_count": 22,
   "id": "253a6ebc",
   "metadata": {
    "ExecuteTime": {
     "end_time": "2024-01-20T16:37:28.729815Z",
     "start_time": "2024-01-20T16:37:28.720537Z"
    }
   },
   "outputs": [
    {
     "data": {
      "text/html": [
       "<div>\n",
       "<style scoped>\n",
       "    .dataframe tbody tr th:only-of-type {\n",
       "        vertical-align: middle;\n",
       "    }\n",
       "\n",
       "    .dataframe tbody tr th {\n",
       "        vertical-align: top;\n",
       "    }\n",
       "\n",
       "    .dataframe thead th {\n",
       "        text-align: right;\n",
       "    }\n",
       "</style>\n",
       "<table border=\"1\" class=\"dataframe\">\n",
       "  <thead>\n",
       "    <tr style=\"text-align: right;\">\n",
       "      <th></th>\n",
       "      <th>0</th>\n",
       "    </tr>\n",
       "  </thead>\n",
       "  <tbody>\n",
       "    <tr>\n",
       "      <th>6365</th>\n",
       "      <td>14</td>\n",
       "    </tr>\n",
       "    <tr>\n",
       "      <th>157</th>\n",
       "      <td>2</td>\n",
       "    </tr>\n",
       "    <tr>\n",
       "      <th>6965</th>\n",
       "      <td>6</td>\n",
       "    </tr>\n",
       "    <tr>\n",
       "      <th>6350</th>\n",
       "      <td>14</td>\n",
       "    </tr>\n",
       "    <tr>\n",
       "      <th>1441</th>\n",
       "      <td>6</td>\n",
       "    </tr>\n",
       "    <tr>\n",
       "      <th>...</th>\n",
       "      <td>...</td>\n",
       "    </tr>\n",
       "    <tr>\n",
       "      <th>5734</th>\n",
       "      <td>10</td>\n",
       "    </tr>\n",
       "    <tr>\n",
       "      <th>5191</th>\n",
       "      <td>2</td>\n",
       "    </tr>\n",
       "    <tr>\n",
       "      <th>5390</th>\n",
       "      <td>10</td>\n",
       "    </tr>\n",
       "    <tr>\n",
       "      <th>860</th>\n",
       "      <td>16</td>\n",
       "    </tr>\n",
       "    <tr>\n",
       "      <th>7270</th>\n",
       "      <td>14</td>\n",
       "    </tr>\n",
       "  </tbody>\n",
       "</table>\n",
       "<p>8732 rows × 1 columns</p>\n",
       "</div>"
      ],
      "text/plain": [
       "       0\n",
       "6365  14\n",
       "157    2\n",
       "6965   6\n",
       "6350  14\n",
       "1441   6\n",
       "...   ..\n",
       "5734  10\n",
       "5191   2\n",
       "5390  10\n",
       "860   16\n",
       "7270  14\n",
       "\n",
       "[8732 rows x 1 columns]"
      ]
     },
     "execution_count": 22,
     "metadata": {},
     "output_type": "execute_result"
    }
   ],
   "source": [
    "y_train"
   ]
  },
  {
   "cell_type": "code",
   "execution_count": 23,
   "id": "cb630d0f",
   "metadata": {
    "ExecuteTime": {
     "end_time": "2024-01-20T16:37:29.244701Z",
     "start_time": "2024-01-20T16:37:29.239364Z"
    }
   },
   "outputs": [
    {
     "data": {
      "text/plain": [
       "array([[14],\n",
       "       [ 2],\n",
       "       [ 6],\n",
       "       ...,\n",
       "       [10],\n",
       "       [16],\n",
       "       [14]])"
      ]
     },
     "execution_count": 23,
     "metadata": {},
     "output_type": "execute_result"
    }
   ],
   "source": [
    "y_train.values"
   ]
  },
  {
   "cell_type": "code",
   "execution_count": 30,
   "id": "2213038d",
   "metadata": {
    "ExecuteTime": {
     "end_time": "2024-01-20T16:37:49.359494Z",
     "start_time": "2024-01-20T16:37:49.356078Z"
    }
   },
   "outputs": [],
   "source": [
    "X_train = X_train.values"
   ]
  },
  {
   "cell_type": "code",
   "execution_count": 31,
   "id": "f5b5b850",
   "metadata": {
    "ExecuteTime": {
     "end_time": "2024-01-20T16:37:50.414604Z",
     "start_time": "2024-01-20T16:37:50.409824Z"
    }
   },
   "outputs": [
    {
     "data": {
      "text/plain": [
       "(8732, 200)"
      ]
     },
     "execution_count": 31,
     "metadata": {},
     "output_type": "execute_result"
    }
   ],
   "source": [
    "X_train.shape"
   ]
  },
  {
   "cell_type": "code",
   "execution_count": 32,
   "id": "54919177",
   "metadata": {
    "ExecuteTime": {
     "end_time": "2024-01-20T16:37:50.918459Z",
     "start_time": "2024-01-20T16:37:50.913629Z"
    }
   },
   "outputs": [],
   "source": [
    "y_train1 = to_categorical(y_train)"
   ]
  },
  {
   "cell_type": "code",
   "execution_count": 33,
   "id": "5063921c",
   "metadata": {
    "ExecuteTime": {
     "end_time": "2024-01-20T16:37:51.417945Z",
     "start_time": "2024-01-20T16:37:51.414129Z"
    }
   },
   "outputs": [],
   "source": [
    "y_test1 = to_categorical(y_test)"
   ]
  },
  {
   "cell_type": "code",
   "execution_count": 34,
   "id": "09d8895f",
   "metadata": {
    "ExecuteTime": {
     "end_time": "2024-01-20T16:37:52.063795Z",
     "start_time": "2024-01-20T16:37:52.057219Z"
    }
   },
   "outputs": [
    {
     "data": {
      "text/plain": [
       "array([[0., 0., 0., ..., 1., 0., 0.],\n",
       "       [0., 0., 1., ..., 0., 0., 0.],\n",
       "       [0., 0., 0., ..., 0., 0., 0.],\n",
       "       ...,\n",
       "       [0., 0., 0., ..., 0., 0., 0.],\n",
       "       [0., 0., 0., ..., 0., 0., 1.],\n",
       "       [0., 0., 0., ..., 1., 0., 0.]], dtype=float32)"
      ]
     },
     "execution_count": 34,
     "metadata": {},
     "output_type": "execute_result"
    }
   ],
   "source": [
    "y_train1"
   ]
  },
  {
   "cell_type": "code",
   "execution_count": 35,
   "id": "80372d36",
   "metadata": {
    "ExecuteTime": {
     "end_time": "2024-01-20T16:37:52.590338Z",
     "start_time": "2024-01-20T16:37:52.585338Z"
    }
   },
   "outputs": [],
   "source": [
    "X_val = X_train[7859:]\n",
    "y_val = y_train1[7859:]"
   ]
  },
  {
   "cell_type": "markdown",
   "id": "42b71991",
   "metadata": {},
   "source": [
    "## MODEL"
   ]
  },
  {
   "cell_type": "code",
   "execution_count": 43,
   "id": "dbf75f64",
   "metadata": {
    "ExecuteTime": {
     "end_time": "2024-01-20T16:39:36.745346Z",
     "start_time": "2024-01-20T16:39:36.741341Z"
    }
   },
   "outputs": [],
   "source": [
    "from tensorflow.keras.layers import LSTM , Dropout , SpatialDropout1D"
   ]
  },
  {
   "cell_type": "code",
   "execution_count": 37,
   "id": "bdc4e3f6",
   "metadata": {
    "ExecuteTime": {
     "end_time": "2024-01-20T16:37:55.428444Z",
     "start_time": "2024-01-20T16:37:55.425677Z"
    }
   },
   "outputs": [],
   "source": [
    "in_dim = 200"
   ]
  },
  {
   "cell_type": "code",
   "execution_count": 38,
   "id": "40f05f01",
   "metadata": {
    "ExecuteTime": {
     "end_time": "2024-01-20T16:37:55.943871Z",
     "start_time": "2024-01-20T16:37:55.938812Z"
    }
   },
   "outputs": [],
   "source": [
    "jazz_size = 32"
   ]
  },
  {
   "cell_type": "code",
   "execution_count": 39,
   "id": "ca229892",
   "metadata": {
    "ExecuteTime": {
     "end_time": "2024-01-20T16:37:56.669264Z",
     "start_time": "2024-01-20T16:37:56.665742Z"
    }
   },
   "outputs": [],
   "source": [
    "tot_layers = 600"
   ]
  },
  {
   "cell_type": "code",
   "execution_count": 40,
   "id": "6198051d",
   "metadata": {
    "ExecuteTime": {
     "end_time": "2024-01-20T16:37:57.967255Z",
     "start_time": "2024-01-20T16:37:57.961853Z"
    }
   },
   "outputs": [
    {
     "data": {
      "text/plain": [
       "400"
      ]
     },
     "execution_count": 40,
     "metadata": {},
     "output_type": "execute_result"
    }
   ],
   "source": [
    "(tot_layers//3)*2"
   ]
  },
  {
   "cell_type": "code",
   "execution_count": 48,
   "id": "e47e68bf",
   "metadata": {
    "ExecuteTime": {
     "end_time": "2024-01-20T16:42:55.253711Z",
     "start_time": "2024-01-20T16:42:55.250085Z"
    }
   },
   "outputs": [],
   "source": [
    "n_most_common_words = 15\n",
    "emb_dim = 200"
   ]
  },
  {
   "cell_type": "code",
   "execution_count": null,
   "id": "4edc3a9b",
   "metadata": {
    "ExecuteTime": {
     "end_time": "2024-01-20T16:59:00.091042Z",
     "start_time": "2024-01-20T16:59:00.091042Z"
    }
   },
   "outputs": [],
   "source": [
    "from sklearn.metrics import classification_report, confusion_matrix"
   ]
  },
  {
   "cell_type": "code",
   "execution_count": 78,
   "id": "b5a679f1",
   "metadata": {
    "ExecuteTime": {
     "end_time": "2024-01-20T16:55:02.450736Z",
     "start_time": "2024-01-20T16:55:02.446636Z"
    }
   },
   "outputs": [],
   "source": [
    "from tensorflow.keras.layers import Flatten , Input , Conv2D , MaxPooling2D , BatchNormalization"
   ]
  },
  {
   "cell_type": "code",
   "execution_count": 154,
   "id": "c4257314",
   "metadata": {
    "ExecuteTime": {
     "end_time": "2024-01-20T17:00:36.441198Z",
     "start_time": "2024-01-20T17:00:36.339033Z"
    }
   },
   "outputs": [],
   "source": [
    "model10 = Sequential()\n",
    "model10.add(Dense(100,input_dim=in_dim,activation = \"leaky_relu\"))\n",
    "model10.add(Dropout(0.2))\n",
    "model10.add(Dense(80,activation = \"leaky_relu\"))\n",
    "model10.add(Dense(40,activation = \"leaky_relu\"))\n",
    "model10.add(Dense(25,activation = \"leaky_relu\"))\n",
    "model10.add(Dense(17,activation = \"softmax\"))"
   ]
  },
  {
   "cell_type": "code",
   "execution_count": 155,
   "id": "1c0068a4",
   "metadata": {
    "ExecuteTime": {
     "end_time": "2024-01-20T17:00:37.224314Z",
     "start_time": "2024-01-20T17:00:37.217572Z"
    }
   },
   "outputs": [],
   "source": [
    "opt = tf.keras.optimizers.AdamW(learning_rate =0.007 , beta_1=0.9,\n",
    "    beta_2=0.999,\n",
    "    use_ema=True,\n",
    "    ema_momentum=0.99)"
   ]
  },
  {
   "cell_type": "code",
   "execution_count": 156,
   "id": "ba1afd68",
   "metadata": {
    "ExecuteTime": {
     "end_time": "2024-01-20T17:00:38.133667Z",
     "start_time": "2024-01-20T17:00:38.113752Z"
    }
   },
   "outputs": [],
   "source": [
    "model10.compile(optimizer = opt , \n",
    "              loss = 'categorical_crossentropy' ,\n",
    "              metrics=[tf.keras.metrics.BinaryAccuracy(name='accuracy'),\n",
    "                       tf.keras.metrics.Precision(name='precision'),\n",
    "                       tf.keras.metrics.Recall(name='recall')])"
   ]
  },
  {
   "cell_type": "code",
   "execution_count": 206,
   "id": "af0d712e",
   "metadata": {
    "ExecuteTime": {
     "end_time": "2024-01-20T17:02:41.838690Z",
     "start_time": "2024-01-20T17:02:37.950067Z"
    }
   },
   "outputs": [
    {
     "name": "stdout",
     "output_type": "stream",
     "text": [
      "Epoch 1/10\n",
      "123/123 [==============================] - 0s 4ms/step - loss: 0.6319 - accuracy: 0.9758 - precision: 0.8340 - recall: 0.7356 - val_loss: 1.1769 - val_accuracy: 0.9671 - val_precision: 0.7516 - val_recall: 0.6586\n",
      "Epoch 2/10\n",
      "123/123 [==============================] - 0s 3ms/step - loss: 0.6381 - accuracy: 0.9761 - precision: 0.8363 - recall: 0.7372 - val_loss: 1.1220 - val_accuracy: 0.9662 - val_precision: 0.7428 - val_recall: 0.6518\n",
      "Epoch 3/10\n",
      "123/123 [==============================] - 0s 3ms/step - loss: 0.6306 - accuracy: 0.9762 - precision: 0.8393 - recall: 0.7371 - val_loss: 1.1143 - val_accuracy: 0.9667 - val_precision: 0.7510 - val_recall: 0.6495\n",
      "Epoch 4/10\n",
      "123/123 [==============================] - 0s 3ms/step - loss: 0.6193 - accuracy: 0.9762 - precision: 0.8399 - recall: 0.7362 - val_loss: 1.1683 - val_accuracy: 0.9670 - val_precision: 0.7477 - val_recall: 0.6621\n",
      "Epoch 5/10\n",
      "123/123 [==============================] - 0s 3ms/step - loss: 0.6384 - accuracy: 0.9762 - precision: 0.8348 - recall: 0.7426 - val_loss: 1.1260 - val_accuracy: 0.9675 - val_precision: 0.7536 - val_recall: 0.6655\n",
      "Epoch 6/10\n",
      "123/123 [==============================] - 0s 3ms/step - loss: 0.6210 - accuracy: 0.9768 - precision: 0.8428 - recall: 0.7455 - val_loss: 1.1428 - val_accuracy: 0.9693 - val_precision: 0.7690 - val_recall: 0.6827\n",
      "Epoch 7/10\n",
      "123/123 [==============================] - 0s 3ms/step - loss: 0.6091 - accuracy: 0.9771 - precision: 0.8439 - recall: 0.7484 - val_loss: 1.0886 - val_accuracy: 0.9689 - val_precision: 0.7665 - val_recall: 0.6770\n",
      "Epoch 8/10\n",
      "123/123 [==============================] - 0s 3ms/step - loss: 0.5955 - accuracy: 0.9769 - precision: 0.8412 - recall: 0.7491 - val_loss: 1.1980 - val_accuracy: 0.9674 - val_precision: 0.7516 - val_recall: 0.6655\n",
      "Epoch 9/10\n",
      "123/123 [==============================] - 0s 3ms/step - loss: 0.5925 - accuracy: 0.9773 - precision: 0.8429 - recall: 0.7545 - val_loss: 1.1689 - val_accuracy: 0.9669 - val_precision: 0.7481 - val_recall: 0.6598\n",
      "Epoch 10/10\n",
      "123/123 [==============================] - 0s 3ms/step - loss: 0.5967 - accuracy: 0.9768 - precision: 0.8397 - recall: 0.7491 - val_loss: 1.1632 - val_accuracy: 0.9680 - val_precision: 0.7513 - val_recall: 0.6816\n"
     ]
    },
    {
     "data": {
      "text/plain": [
       "<keras.src.callbacks.History at 0x244985263d0>"
      ]
     },
     "execution_count": 206,
     "metadata": {},
     "output_type": "execute_result"
    }
   ],
   "source": [
    "model10.fit(X_train[:7859] , y_train1[:7859] , batch_size = 64 , epochs = 10 , validation_data=(X_val,y_val) ,verbose =1)"
   ]
  },
  {
   "cell_type": "code",
   "execution_count": 207,
   "id": "e506a317",
   "metadata": {
    "ExecuteTime": {
     "end_time": "2024-01-20T17:02:42.374208Z",
     "start_time": "2024-01-20T17:02:42.358209Z"
    }
   },
   "outputs": [
    {
     "name": "stdout",
     "output_type": "stream",
     "text": [
      "Model: \"sequential_6\"\n",
      "_________________________________________________________________\n",
      " Layer (type)                Output Shape              Param #   \n",
      "=================================================================\n",
      " dense_10 (Dense)            (None, 100)               20100     \n",
      "                                                                 \n",
      " dropout_2 (Dropout)         (None, 100)               0         \n",
      "                                                                 \n",
      " dense_11 (Dense)            (None, 80)                8080      \n",
      "                                                                 \n",
      " dense_12 (Dense)            (None, 40)                3240      \n",
      "                                                                 \n",
      " dense_13 (Dense)            (None, 25)                1025      \n",
      "                                                                 \n",
      " dense_14 (Dense)            (None, 17)                442       \n",
      "                                                                 \n",
      "=================================================================\n",
      "Total params: 32887 (128.46 KB)\n",
      "Trainable params: 32887 (128.46 KB)\n",
      "Non-trainable params: 0 (0.00 Byte)\n",
      "_________________________________________________________________\n"
     ]
    }
   ],
   "source": [
    "model10.summary()"
   ]
  },
  {
   "cell_type": "code",
   "execution_count": 208,
   "id": "05105528",
   "metadata": {
    "ExecuteTime": {
     "end_time": "2024-01-20T17:02:42.977778Z",
     "start_time": "2024-01-20T17:02:42.974275Z"
    }
   },
   "outputs": [],
   "source": [
    "#scores = model.evaluate(X_test, y_test1)\n",
    "\n",
    "#for i, m in enumerate(model.metrics_names):\n",
    " #   print(\"\\n%s: %.3f\"% (m, scores[i]))"
   ]
  },
  {
   "cell_type": "code",
   "execution_count": 209,
   "id": "e1febed1",
   "metadata": {
    "ExecuteTime": {
     "end_time": "2024-01-20T17:02:43.894343Z",
     "start_time": "2024-01-20T17:02:43.631135Z"
    }
   },
   "outputs": [
    {
     "name": "stdout",
     "output_type": "stream",
     "text": [
      "69/69 [==============================] - 0s 2ms/step\n"
     ]
    }
   ],
   "source": [
    "predictions = np.argmax(model10.predict(X_test), axis=-1)"
   ]
  },
  {
   "cell_type": "code",
   "execution_count": 210,
   "id": "cb395b3c",
   "metadata": {
    "ExecuteTime": {
     "end_time": "2024-01-20T17:02:44.253073Z",
     "start_time": "2024-01-20T17:02:44.246690Z"
    }
   },
   "outputs": [
    {
     "data": {
      "text/plain": [
       "array([14,  1, 16, ..., 11,  9, 12], dtype=int64)"
      ]
     },
     "execution_count": 210,
     "metadata": {},
     "output_type": "execute_result"
    }
   ],
   "source": [
    "predictions"
   ]
  },
  {
   "cell_type": "code",
   "execution_count": 211,
   "id": "3341daec",
   "metadata": {
    "ExecuteTime": {
     "end_time": "2024-01-20T17:02:47.066318Z",
     "start_time": "2024-01-20T17:02:47.063582Z"
    }
   },
   "outputs": [],
   "source": [
    "#len(predictions)"
   ]
  },
  {
   "cell_type": "code",
   "execution_count": 212,
   "id": "790577a6",
   "metadata": {
    "ExecuteTime": {
     "end_time": "2024-01-20T17:02:47.602703Z",
     "start_time": "2024-01-20T17:02:47.599026Z"
    }
   },
   "outputs": [],
   "source": [
    "#y_test.shape"
   ]
  },
  {
   "cell_type": "code",
   "execution_count": 213,
   "id": "23c5e829",
   "metadata": {
    "ExecuteTime": {
     "end_time": "2024-01-20T17:02:48.796974Z",
     "start_time": "2024-01-20T17:02:48.791476Z"
    }
   },
   "outputs": [
    {
     "data": {
      "text/plain": [
       "array([[14],\n",
       "       [ 1],\n",
       "       [16],\n",
       "       ...,\n",
       "       [11],\n",
       "       [14],\n",
       "       [12]])"
      ]
     },
     "execution_count": 213,
     "metadata": {},
     "output_type": "execute_result"
    }
   ],
   "source": [
    "y_test.values"
   ]
  },
  {
   "cell_type": "code",
   "execution_count": 214,
   "id": "d44ef9d5",
   "metadata": {
    "ExecuteTime": {
     "end_time": "2024-01-20T17:02:49.546346Z",
     "start_time": "2024-01-20T17:02:49.526923Z"
    }
   },
   "outputs": [
    {
     "name": "stdout",
     "output_type": "stream",
     "text": [
      "              precision    recall  f1-score   support\n",
      "\n",
      "           0       0.64      0.60      0.62        68\n",
      "           1       0.78      0.80      0.79       176\n",
      "           2       0.73      0.76      0.74        97\n",
      "           3       0.70      0.64      0.67        90\n",
      "           4       0.71      0.60      0.65        93\n",
      "           5       0.67      0.78      0.72       108\n",
      "           6       0.85      0.82      0.83       126\n",
      "           7       0.74      0.79      0.77       136\n",
      "           8       0.75      0.68      0.72       122\n",
      "           9       0.81      0.75      0.78       155\n",
      "          10       0.74      0.69      0.71        61\n",
      "          11       0.66      0.60      0.63       172\n",
      "          12       0.76      0.84      0.80       182\n",
      "          13       0.72      0.67      0.69       151\n",
      "          14       0.63      0.62      0.63       200\n",
      "          15       0.83      0.91      0.86       169\n",
      "          16       0.81      0.96      0.88        77\n",
      "\n",
      "    accuracy                           0.74      2183\n",
      "   macro avg       0.74      0.74      0.73      2183\n",
      "weighted avg       0.74      0.74      0.74      2183\n",
      "\n"
     ]
    }
   ],
   "source": [
    "print(classification_report(y_test.values , predictions))"
   ]
  },
  {
   "cell_type": "code",
   "execution_count": 215,
   "id": "885a18c3",
   "metadata": {
    "ExecuteTime": {
     "end_time": "2024-01-20T17:02:50.166067Z",
     "start_time": "2024-01-20T17:02:50.151032Z"
    }
   },
   "outputs": [
    {
     "name": "stdout",
     "output_type": "stream",
     "text": [
      "Precision is 0.7367116931285698\n",
      "Recall is 0.7361486573527378\n",
      "F1: 0.7348066061695032\n"
     ]
    }
   ],
   "source": [
    "    # Evaluating the model\n",
    "print('Precision is {}'.format(precision_score(y_test.values, predictions, average='macro')))\n",
    "print('Recall is {}'.format(recall_score(y_test.values, predictions, average='macro')))\n",
    "print('F1:', f1_score(y_test.values, predictions, average='macro'))"
   ]
  },
  {
   "cell_type": "code",
   "execution_count": 205,
   "id": "2824bbc4",
   "metadata": {
    "ExecuteTime": {
     "end_time": "2024-01-20T17:02:32.073189Z",
     "start_time": "2024-01-20T17:02:32.069427Z"
    }
   },
   "outputs": [],
   "source": [
    "# 40 epanalipseis --->74% accuracy"
   ]
  },
  {
   "cell_type": "markdown",
   "id": "b77aa8e1",
   "metadata": {},
   "source": [
    "# Building a different w2vec model to really see what is the root of evil on our 70% accuracy"
   ]
  },
  {
   "cell_type": "code",
   "execution_count": 216,
   "id": "76f0d7a5",
   "metadata": {
    "ExecuteTime": {
     "end_time": "2024-01-20T17:09:07.288470Z",
     "start_time": "2024-01-20T17:05:00.710235Z"
    }
   },
   "outputs": [],
   "source": [
    "model_w2v2= Word2Vec(sentences=corpus_full, vector_size=500, window=4, min_count=15, sg = 1 , hs = 1)  # skipgram architecture"
   ]
  },
  {
   "cell_type": "code",
   "execution_count": 217,
   "id": "68bab4db",
   "metadata": {
    "ExecuteTime": {
     "end_time": "2024-01-20T17:09:11.077154Z",
     "start_time": "2024-01-20T17:09:10.671735Z"
    }
   },
   "outputs": [],
   "source": [
    "model_w2v2.save(\"word2vec.i_dont_even_know_how_shitty_this_model_is\")"
   ]
  },
  {
   "cell_type": "code",
   "execution_count": 218,
   "id": "1cb37022",
   "metadata": {
    "ExecuteTime": {
     "end_time": "2024-01-20T17:09:11.648846Z",
     "start_time": "2024-01-20T17:09:11.640411Z"
    }
   },
   "outputs": [],
   "source": [
    "def vectorizer2():\n",
    "    \n",
    "    \n",
    "    # Creating a list for storing the vectors ('Description' into vectors)\n",
    "    #global word_embeddings\n",
    "    word_embeddings = []\n",
    "    i = 0\n",
    "    # Reading the each 'Description'\n",
    "    for line in io['Cleaned']:\n",
    "        avgword2vec = None\n",
    "        count = 0\n",
    "        for word in line.split():\n",
    "            if word in model_w2v2.wv.key_to_index:\n",
    "                count += 1\n",
    "                if avgword2vec is None:\n",
    "                    avgword2vec = model_w2v2.wv[word]\n",
    "                else:\n",
    "                    avgword2vec = avgword2vec + model_w2v2.wv[word]\n",
    "                \n",
    "        if avgword2vec is not None:\n",
    "            avgword2vec = avgword2vec / count\n",
    "            word_embeddings.append(avgword2vec)\n",
    "        else:\n",
    "            print(\"I found it , the error occurs at line:\" , i)\n",
    "          \n",
    "        i +=1 \n",
    "\n",
    "    return(pd.DataFrame(word_embeddings))  # Returning our Data as a Dataframe (aesthetic reasons)"
   ]
  },
  {
   "cell_type": "code",
   "execution_count": 219,
   "id": "e7a36c8c",
   "metadata": {
    "ExecuteTime": {
     "end_time": "2024-01-20T17:09:46.240455Z",
     "start_time": "2024-01-20T17:09:31.931279Z"
    }
   },
   "outputs": [],
   "source": [
    "X2 = vectorizer2()"
   ]
  },
  {
   "cell_type": "code",
   "execution_count": 220,
   "id": "d2b25241",
   "metadata": {
    "ExecuteTime": {
     "end_time": "2024-01-20T17:10:11.148045Z",
     "start_time": "2024-01-20T17:10:11.094606Z"
    }
   },
   "outputs": [],
   "source": [
    "X_train, X_test, y_train, y_test = train_test_split(X2.values, y1, test_size=0.2,random_state=42)"
   ]
  },
  {
   "cell_type": "code",
   "execution_count": 221,
   "id": "35102f14",
   "metadata": {
    "ExecuteTime": {
     "end_time": "2024-01-20T17:10:28.748665Z",
     "start_time": "2024-01-20T17:10:28.744397Z"
    }
   },
   "outputs": [],
   "source": [
    "y_train1 = to_categorical(y_train)"
   ]
  },
  {
   "cell_type": "code",
   "execution_count": 222,
   "id": "556a7255",
   "metadata": {
    "ExecuteTime": {
     "end_time": "2024-01-20T17:10:39.565210Z",
     "start_time": "2024-01-20T17:10:39.560621Z"
    }
   },
   "outputs": [],
   "source": [
    "y_test1 = to_categorical(y_test)"
   ]
  },
  {
   "cell_type": "code",
   "execution_count": 223,
   "id": "7cb0ca95",
   "metadata": {
    "ExecuteTime": {
     "end_time": "2024-01-20T17:10:48.285959Z",
     "start_time": "2024-01-20T17:10:48.281803Z"
    }
   },
   "outputs": [],
   "source": [
    "X_val = X_train[7859:]\n",
    "y_val = y_train1[7859:]"
   ]
  },
  {
   "cell_type": "markdown",
   "id": "f500dd06",
   "metadata": {},
   "source": [
    "## KERAS TIME"
   ]
  },
  {
   "cell_type": "code",
   "execution_count": 229,
   "id": "6e24121b",
   "metadata": {
    "ExecuteTime": {
     "end_time": "2024-01-20T17:12:36.155880Z",
     "start_time": "2024-01-20T17:12:36.069717Z"
    }
   },
   "outputs": [],
   "source": [
    "model = Sequential()\n",
    "model.add(Dense(100,input_dim=500,activation = \"leaky_relu\"))\n",
    "model.add(Dropout(0.2))\n",
    "model.add(Dense(80,activation = \"leaky_relu\"))\n",
    "model.add(Dense(40,activation = \"leaky_relu\"))\n",
    "model.add(Dense(25,activation = \"leaky_relu\"))\n",
    "model.add(Dense(17,activation = \"softmax\"))"
   ]
  },
  {
   "cell_type": "code",
   "execution_count": 230,
   "id": "cd5701c0",
   "metadata": {
    "ExecuteTime": {
     "end_time": "2024-01-20T17:12:36.718841Z",
     "start_time": "2024-01-20T17:12:36.702636Z"
    }
   },
   "outputs": [
    {
     "name": "stdout",
     "output_type": "stream",
     "text": [
      "Model: \"sequential_8\"\n",
      "_________________________________________________________________\n",
      " Layer (type)                Output Shape              Param #   \n",
      "=================================================================\n",
      " dense_20 (Dense)            (None, 100)               50100     \n",
      "                                                                 \n",
      " dropout_4 (Dropout)         (None, 100)               0         \n",
      "                                                                 \n",
      " dense_21 (Dense)            (None, 80)                8080      \n",
      "                                                                 \n",
      " dense_22 (Dense)            (None, 40)                3240      \n",
      "                                                                 \n",
      " dense_23 (Dense)            (None, 25)                1025      \n",
      "                                                                 \n",
      " dense_24 (Dense)            (None, 17)                442       \n",
      "                                                                 \n",
      "=================================================================\n",
      "Total params: 62887 (245.65 KB)\n",
      "Trainable params: 62887 (245.65 KB)\n",
      "Non-trainable params: 0 (0.00 Byte)\n",
      "_________________________________________________________________\n"
     ]
    }
   ],
   "source": [
    "model.summary()"
   ]
  },
  {
   "cell_type": "code",
   "execution_count": 231,
   "id": "b15b1f19",
   "metadata": {
    "ExecuteTime": {
     "end_time": "2024-01-20T17:12:37.212374Z",
     "start_time": "2024-01-20T17:12:37.205213Z"
    }
   },
   "outputs": [],
   "source": [
    "opt = tf.keras.optimizers.AdamW(learning_rate =0.007 , beta_1=0.9,\n",
    "    beta_2=0.999,\n",
    "    use_ema=True,\n",
    "    ema_momentum=0.99)"
   ]
  },
  {
   "cell_type": "code",
   "execution_count": 232,
   "id": "90ab57df",
   "metadata": {
    "ExecuteTime": {
     "end_time": "2024-01-20T17:12:38.687788Z",
     "start_time": "2024-01-20T17:12:38.662155Z"
    }
   },
   "outputs": [],
   "source": [
    "model.compile(optimizer = opt , \n",
    "              loss = 'categorical_crossentropy' ,\n",
    "              metrics=[tf.keras.metrics.BinaryAccuracy(name='accuracy'),\n",
    "                       tf.keras.metrics.Precision(name='precision'),\n",
    "                       tf.keras.metrics.Recall(name='recall')])"
   ]
  },
  {
   "cell_type": "code",
   "execution_count": 249,
   "id": "bf34e559",
   "metadata": {
    "ExecuteTime": {
     "end_time": "2024-01-20T17:14:27.096144Z",
     "start_time": "2024-01-20T17:14:22.737491Z"
    }
   },
   "outputs": [
    {
     "name": "stdout",
     "output_type": "stream",
     "text": [
      "Epoch 1/10\n",
      "123/123 [==============================] - 1s 4ms/step - loss: 0.5686 - accuracy: 0.9789 - precision: 0.8582 - recall: 0.7687 - val_loss: 1.1762 - val_accuracy: 0.9674 - val_precision: 0.7503 - val_recall: 0.6678\n",
      "Epoch 2/10\n",
      "123/123 [==============================] - 0s 4ms/step - loss: 0.5641 - accuracy: 0.9793 - precision: 0.8592 - recall: 0.7744 - val_loss: 1.2417 - val_accuracy: 0.9671 - val_precision: 0.7437 - val_recall: 0.6712\n",
      "Epoch 3/10\n",
      "123/123 [==============================] - 0s 3ms/step - loss: 0.5713 - accuracy: 0.9781 - precision: 0.8486 - recall: 0.7633 - val_loss: 1.2177 - val_accuracy: 0.9664 - val_precision: 0.7385 - val_recall: 0.6632\n",
      "Epoch 4/10\n",
      "123/123 [==============================] - 0s 3ms/step - loss: 0.5585 - accuracy: 0.9790 - precision: 0.8566 - recall: 0.7724 - val_loss: 1.1978 - val_accuracy: 0.9693 - val_precision: 0.7693 - val_recall: 0.6838\n",
      "Epoch 5/10\n",
      "123/123 [==============================] - 0s 3ms/step - loss: 0.5759 - accuracy: 0.9780 - precision: 0.8501 - recall: 0.7600 - val_loss: 1.2297 - val_accuracy: 0.9673 - val_precision: 0.7519 - val_recall: 0.6632\n",
      "Epoch 6/10\n",
      "123/123 [==============================] - 0s 3ms/step - loss: 0.5360 - accuracy: 0.9797 - precision: 0.8607 - recall: 0.7806 - val_loss: 1.1841 - val_accuracy: 0.9697 - val_precision: 0.7654 - val_recall: 0.6987\n",
      "Epoch 7/10\n",
      "123/123 [==============================] - 0s 3ms/step - loss: 0.5086 - accuracy: 0.9805 - precision: 0.8652 - recall: 0.7927 - val_loss: 1.2445 - val_accuracy: 0.9675 - val_precision: 0.7484 - val_recall: 0.6747\n",
      "Epoch 8/10\n",
      "123/123 [==============================] - 0s 3ms/step - loss: 0.5407 - accuracy: 0.9797 - precision: 0.8639 - recall: 0.7781 - val_loss: 1.2084 - val_accuracy: 0.9677 - val_precision: 0.7456 - val_recall: 0.6850\n",
      "Epoch 9/10\n",
      "123/123 [==============================] - 0s 3ms/step - loss: 0.5215 - accuracy: 0.9803 - precision: 0.8614 - recall: 0.7935 - val_loss: 1.3657 - val_accuracy: 0.9651 - val_precision: 0.7227 - val_recall: 0.6598\n",
      "Epoch 10/10\n",
      "123/123 [==============================] - 0s 3ms/step - loss: 0.5446 - accuracy: 0.9793 - precision: 0.8576 - recall: 0.7776 - val_loss: 1.1604 - val_accuracy: 0.9691 - val_precision: 0.7650 - val_recall: 0.6861\n"
     ]
    },
    {
     "data": {
      "text/plain": [
       "<keras.src.callbacks.History at 0x24493c935d0>"
      ]
     },
     "execution_count": 249,
     "metadata": {},
     "output_type": "execute_result"
    }
   ],
   "source": [
    "model.fit(X_train[:7859] , y_train1[:7859] , batch_size = 64 , epochs = 10 , validation_data=(X_val,y_val) ,verbose =1)"
   ]
  },
  {
   "cell_type": "code",
   "execution_count": 250,
   "id": "0255a780",
   "metadata": {
    "ExecuteTime": {
     "end_time": "2024-01-20T17:14:31.909418Z",
     "start_time": "2024-01-20T17:14:31.650735Z"
    }
   },
   "outputs": [
    {
     "name": "stdout",
     "output_type": "stream",
     "text": [
      "69/69 [==============================] - 0s 2ms/step\n"
     ]
    }
   ],
   "source": [
    "predictions = np.argmax(model.predict(X_test), axis=-1)"
   ]
  },
  {
   "cell_type": "code",
   "execution_count": 251,
   "id": "b88c0e9e",
   "metadata": {
    "ExecuteTime": {
     "end_time": "2024-01-20T17:14:34.207778Z",
     "start_time": "2024-01-20T17:14:34.202541Z"
    }
   },
   "outputs": [
    {
     "data": {
      "text/plain": [
       "array([14,  1, 16, ..., 11,  9, 12], dtype=int64)"
      ]
     },
     "execution_count": 251,
     "metadata": {},
     "output_type": "execute_result"
    }
   ],
   "source": [
    "predictions"
   ]
  },
  {
   "cell_type": "code",
   "execution_count": 252,
   "id": "125dbf26",
   "metadata": {
    "ExecuteTime": {
     "end_time": "2024-01-20T17:14:36.606839Z",
     "start_time": "2024-01-20T17:14:36.586424Z"
    }
   },
   "outputs": [
    {
     "name": "stdout",
     "output_type": "stream",
     "text": [
      "              precision    recall  f1-score   support\n",
      "\n",
      "           0       0.68      0.62      0.65        68\n",
      "           1       0.76      0.84      0.80       176\n",
      "           2       0.67      0.79      0.73        97\n",
      "           3       0.69      0.64      0.67        90\n",
      "           4       0.71      0.61      0.66        93\n",
      "           5       0.71      0.76      0.73       108\n",
      "           6       0.84      0.79      0.81       126\n",
      "           7       0.74      0.81      0.77       136\n",
      "           8       0.75      0.74      0.74       122\n",
      "           9       0.82      0.73      0.77       155\n",
      "          10       0.71      0.74      0.73        61\n",
      "          11       0.71      0.59      0.64       172\n",
      "          12       0.76      0.81      0.79       182\n",
      "          13       0.69      0.67      0.68       151\n",
      "          14       0.66      0.65      0.65       200\n",
      "          15       0.87      0.90      0.88       169\n",
      "          16       0.85      0.97      0.91        77\n",
      "\n",
      "    accuracy                           0.75      2183\n",
      "   macro avg       0.74      0.74      0.74      2183\n",
      "weighted avg       0.74      0.75      0.74      2183\n",
      "\n"
     ]
    }
   ],
   "source": [
    "print(classification_report(y_test.values , predictions))"
   ]
  },
  {
   "cell_type": "code",
   "execution_count": 253,
   "id": "5221260c",
   "metadata": {
    "ExecuteTime": {
     "end_time": "2024-01-20T17:14:37.153213Z",
     "start_time": "2024-01-20T17:14:37.139017Z"
    }
   },
   "outputs": [
    {
     "name": "stdout",
     "output_type": "stream",
     "text": [
      "Precision is 0.7418189155522188\n",
      "Recall is 0.7444507039550632\n",
      "F1: 0.7413394435123317\n"
     ]
    }
   ],
   "source": [
    "    # Evaluating the model\n",
    "print('Precision is {}'.format(precision_score(y_test.values, predictions, average='macro')))\n",
    "print('Recall is {}'.format(recall_score(y_test.values, predictions, average='macro')))\n",
    "print('F1:', f1_score(y_test.values, predictions, average='macro'))"
   ]
  },
  {
   "cell_type": "code",
   "execution_count": 238,
   "id": "e79ae334",
   "metadata": {
    "ExecuteTime": {
     "end_time": "2024-01-20T17:13:45.721102Z",
     "start_time": "2024-01-20T17:13:45.717742Z"
    }
   },
   "outputs": [],
   "source": [
    "# For 10 epochs the above scored 73% accuracy"
   ]
  },
  {
   "cell_type": "code",
   "execution_count": 254,
   "id": "20d2a54d",
   "metadata": {
    "ExecuteTime": {
     "end_time": "2024-01-20T17:14:48.327387Z",
     "start_time": "2024-01-20T17:14:48.323740Z"
    }
   },
   "outputs": [],
   "source": [
    "# For 30 epochs the above scored 74% accuracy"
   ]
  },
  {
   "cell_type": "markdown",
   "id": "dbe32c74",
   "metadata": {},
   "source": [
    "## Model 2"
   ]
  },
  {
   "cell_type": "code",
   "execution_count": 316,
   "id": "5432469c",
   "metadata": {
    "ExecuteTime": {
     "end_time": "2024-01-20T17:21:42.990067Z",
     "start_time": "2024-01-20T17:21:42.911593Z"
    }
   },
   "outputs": [],
   "source": [
    "model2 = Sequential()\n",
    "model2.add(Dense(100,input_dim=500,activation = \"leaky_relu\"))\n",
    "model2.add(Dense(180,activation = \"leaky_relu\"))\n",
    "model2.add(Dropout(0.2))\n",
    "model2.add(Dense(60,activation = \"leaky_relu\"))\n",
    "#model2.add(Dense(30,activation = \"leaky_relu\"))\n",
    "model2.add(Dense(17,activation = \"softmax\"))"
   ]
  },
  {
   "cell_type": "code",
   "execution_count": 317,
   "id": "52f93b40",
   "metadata": {
    "ExecuteTime": {
     "end_time": "2024-01-20T17:21:43.343178Z",
     "start_time": "2024-01-20T17:21:43.335933Z"
    }
   },
   "outputs": [],
   "source": [
    "opt = tf.keras.optimizers.AdamW(learning_rate =0.007 , beta_1=0.9,\n",
    "    beta_2=0.999,\n",
    "    use_ema=True,\n",
    "    ema_momentum=0.99)"
   ]
  },
  {
   "cell_type": "code",
   "execution_count": 318,
   "id": "daee9241",
   "metadata": {
    "ExecuteTime": {
     "end_time": "2024-01-20T17:21:43.750505Z",
     "start_time": "2024-01-20T17:21:43.727729Z"
    }
   },
   "outputs": [],
   "source": [
    "model2.compile(optimizer = opt , \n",
    "              loss = 'categorical_crossentropy' ,\n",
    "              metrics=[tf.keras.metrics.BinaryAccuracy(name='accuracy'),\n",
    "                       tf.keras.metrics.Precision(name='precision'),\n",
    "                       tf.keras.metrics.Recall(name='recall')])"
   ]
  },
  {
   "cell_type": "code",
   "execution_count": 325,
   "id": "74a3aff6",
   "metadata": {
    "ExecuteTime": {
     "end_time": "2024-01-20T17:22:27.858263Z",
     "start_time": "2024-01-20T17:22:23.260833Z"
    }
   },
   "outputs": [
    {
     "name": "stdout",
     "output_type": "stream",
     "text": [
      "Epoch 1/10\n",
      "123/123 [==============================] - 1s 4ms/step - loss: 0.6890 - accuracy: 0.9749 - precision: 0.8340 - recall: 0.7168 - val_loss: 1.0679 - val_accuracy: 0.9682 - val_precision: 0.7663 - val_recall: 0.6609\n",
      "Epoch 2/10\n",
      "123/123 [==============================] - 0s 4ms/step - loss: 0.6792 - accuracy: 0.9750 - precision: 0.8303 - recall: 0.7234 - val_loss: 1.1319 - val_accuracy: 0.9675 - val_precision: 0.7589 - val_recall: 0.6564\n",
      "Epoch 3/10\n",
      "123/123 [==============================] - 0s 4ms/step - loss: 0.6572 - accuracy: 0.9751 - precision: 0.8340 - recall: 0.7210 - val_loss: 1.1288 - val_accuracy: 0.9676 - val_precision: 0.7593 - val_recall: 0.6575\n",
      "Epoch 4/10\n",
      "123/123 [==============================] - 0s 4ms/step - loss: 0.6285 - accuracy: 0.9768 - precision: 0.8444 - recall: 0.7431 - val_loss: 1.1321 - val_accuracy: 0.9683 - val_precision: 0.7627 - val_recall: 0.6701\n",
      "Epoch 5/10\n",
      "123/123 [==============================] - 0s 4ms/step - loss: 0.6421 - accuracy: 0.9769 - precision: 0.8425 - recall: 0.7462 - val_loss: 1.1380 - val_accuracy: 0.9666 - val_precision: 0.7503 - val_recall: 0.6472\n",
      "Epoch 6/10\n",
      "123/123 [==============================] - 0s 4ms/step - loss: 0.5795 - accuracy: 0.9780 - precision: 0.8507 - recall: 0.7591 - val_loss: 1.2534 - val_accuracy: 0.9687 - val_precision: 0.7576 - val_recall: 0.6873\n",
      "Epoch 7/10\n",
      "123/123 [==============================] - 0s 4ms/step - loss: 0.5725 - accuracy: 0.9784 - precision: 0.8521 - recall: 0.7661 - val_loss: 1.1726 - val_accuracy: 0.9671 - val_precision: 0.7455 - val_recall: 0.6678\n",
      "Epoch 8/10\n",
      "123/123 [==============================] - 0s 4ms/step - loss: 0.5496 - accuracy: 0.9791 - precision: 0.8566 - recall: 0.7747 - val_loss: 1.2196 - val_accuracy: 0.9688 - val_precision: 0.7569 - val_recall: 0.6919\n",
      "Epoch 9/10\n",
      "123/123 [==============================] - 0s 4ms/step - loss: 0.5546 - accuracy: 0.9790 - precision: 0.8525 - recall: 0.7772 - val_loss: 1.1972 - val_accuracy: 0.9687 - val_precision: 0.7589 - val_recall: 0.6850\n",
      "Epoch 10/10\n",
      "123/123 [==============================] - 0s 4ms/step - loss: 0.5324 - accuracy: 0.9801 - precision: 0.8644 - recall: 0.7841 - val_loss: 1.2982 - val_accuracy: 0.9686 - val_precision: 0.7560 - val_recall: 0.6884\n"
     ]
    },
    {
     "data": {
      "text/plain": [
       "<keras.src.callbacks.History at 0x244972695d0>"
      ]
     },
     "execution_count": 325,
     "metadata": {},
     "output_type": "execute_result"
    }
   ],
   "source": [
    "model2.fit(X_train[:7859] , y_train1[:7859] , batch_size = 64 , epochs = 10 , validation_data=(X_val,y_val) ,verbose =1)"
   ]
  },
  {
   "cell_type": "code",
   "execution_count": 326,
   "id": "3d973411",
   "metadata": {
    "ExecuteTime": {
     "end_time": "2024-01-20T17:22:31.165160Z",
     "start_time": "2024-01-20T17:22:30.916950Z"
    }
   },
   "outputs": [
    {
     "name": "stdout",
     "output_type": "stream",
     "text": [
      "69/69 [==============================] - 0s 2ms/step\n"
     ]
    },
    {
     "data": {
      "text/plain": [
       "array([14,  1, 16, ..., 11,  9, 12], dtype=int64)"
      ]
     },
     "execution_count": 326,
     "metadata": {},
     "output_type": "execute_result"
    }
   ],
   "source": [
    "predictions = np.argmax(model2.predict(X_test), axis=-1)\n",
    "\n",
    "predictions"
   ]
  },
  {
   "cell_type": "code",
   "execution_count": 327,
   "id": "cdf9798f",
   "metadata": {
    "ExecuteTime": {
     "end_time": "2024-01-20T17:22:32.953108Z",
     "start_time": "2024-01-20T17:22:32.933381Z"
    }
   },
   "outputs": [
    {
     "name": "stdout",
     "output_type": "stream",
     "text": [
      "              precision    recall  f1-score   support\n",
      "\n",
      "           0       0.69      0.62      0.65        68\n",
      "           1       0.78      0.82      0.80       176\n",
      "           2       0.69      0.74      0.71        97\n",
      "           3       0.72      0.63      0.67        90\n",
      "           4       0.76      0.61      0.68        93\n",
      "           5       0.68      0.81      0.74       108\n",
      "           6       0.85      0.83      0.84       126\n",
      "           7       0.74      0.78      0.76       136\n",
      "           8       0.77      0.72      0.74       122\n",
      "           9       0.81      0.71      0.76       155\n",
      "          10       0.78      0.75      0.77        61\n",
      "          11       0.66      0.63      0.64       172\n",
      "          12       0.79      0.80      0.79       182\n",
      "          13       0.68      0.70      0.69       151\n",
      "          14       0.67      0.67      0.67       200\n",
      "          15       0.86      0.89      0.88       169\n",
      "          16       0.84      0.99      0.90        77\n",
      "\n",
      "    accuracy                           0.75      2183\n",
      "   macro avg       0.75      0.75      0.75      2183\n",
      "weighted avg       0.75      0.75      0.75      2183\n",
      "\n"
     ]
    }
   ],
   "source": [
    "print(classification_report(y_test.values , predictions))"
   ]
  },
  {
   "cell_type": "code",
   "execution_count": 328,
   "id": "0641cdbe",
   "metadata": {
    "ExecuteTime": {
     "end_time": "2024-01-20T17:22:33.725235Z",
     "start_time": "2024-01-20T17:22:33.709409Z"
    }
   },
   "outputs": [
    {
     "name": "stdout",
     "output_type": "stream",
     "text": [
      "Precision is 0.7497295033663197\n",
      "Recall is 0.7478797082622529\n",
      "F1: 0.7468548054573868\n"
     ]
    }
   ],
   "source": [
    "    # Evaluating the model\n",
    "print('Precision is {}'.format(precision_score(y_test.values, predictions, average='macro')))\n",
    "print('Recall is {}'.format(recall_score(y_test.values, predictions, average='macro')))\n",
    "print('F1:', f1_score(y_test.values, predictions, average='macro'))"
   ]
  },
  {
   "cell_type": "code",
   "execution_count": 324,
   "id": "d2cb1d0b",
   "metadata": {
    "ExecuteTime": {
     "end_time": "2024-01-20T17:22:16.671108Z",
     "start_time": "2024-01-20T17:22:16.667981Z"
    }
   },
   "outputs": [],
   "source": [
    "# 74% for 10 epochs (model2)"
   ]
  },
  {
   "cell_type": "code",
   "execution_count": 329,
   "id": "33dba691",
   "metadata": {
    "ExecuteTime": {
     "end_time": "2024-01-20T17:22:47.978122Z",
     "start_time": "2024-01-20T17:22:47.974895Z"
    }
   },
   "outputs": [],
   "source": [
    "# 75% for 20 epochs"
   ]
  },
  {
   "cell_type": "markdown",
   "id": "aa261cd8",
   "metadata": {},
   "source": [
    "### Model 3"
   ]
  },
  {
   "cell_type": "code",
   "execution_count": 372,
   "id": "756776ac",
   "metadata": {
    "ExecuteTime": {
     "end_time": "2024-01-20T17:28:25.535726Z",
     "start_time": "2024-01-20T17:28:25.466897Z"
    }
   },
   "outputs": [],
   "source": [
    "model6 = Sequential()\n",
    "model6.add(Dense(100,input_dim=500,activation = \"leaky_relu\"))\n",
    "model6.add(Dense(180,activation = \"leaky_relu\"))\n",
    "model6.add(Dropout(0.2))\n",
    "model6.add(Dense(60,activation = \"leaky_relu\"))\n",
    "#model2.add(Dense(30,activation = \"leaky_relu\"))\n",
    "model6.add(Dense(17,activation = \"softmax\"))"
   ]
  },
  {
   "cell_type": "code",
   "execution_count": 373,
   "id": "98bb24e9",
   "metadata": {
    "ExecuteTime": {
     "end_time": "2024-01-20T17:28:25.913286Z",
     "start_time": "2024-01-20T17:28:25.907122Z"
    }
   },
   "outputs": [],
   "source": [
    "opt = tf.keras.optimizers.AdamW(learning_rate =0.007 , beta_1=0.9,\n",
    "    beta_2=0.999,\n",
    "    use_ema=True,\n",
    "    ema_momentum=0.99)"
   ]
  },
  {
   "cell_type": "code",
   "execution_count": 374,
   "id": "e5118d5f",
   "metadata": {
    "ExecuteTime": {
     "end_time": "2024-01-20T17:28:26.303893Z",
     "start_time": "2024-01-20T17:28:26.283379Z"
    }
   },
   "outputs": [],
   "source": [
    "model6.compile(optimizer = opt , \n",
    "              loss = 'categorical_crossentropy' ,\n",
    "              metrics=[tf.keras.metrics.BinaryAccuracy(name='accuracy'),\n",
    "                       tf.keras.metrics.Precision(name='precision'),\n",
    "                       tf.keras.metrics.Recall(name='recall')])"
   ]
  },
  {
   "cell_type": "code",
   "execution_count": 379,
   "id": "83868c2d",
   "metadata": {
    "ExecuteTime": {
     "end_time": "2024-01-20T17:28:56.409966Z",
     "start_time": "2024-01-20T17:28:52.622171Z"
    }
   },
   "outputs": [
    {
     "name": "stdout",
     "output_type": "stream",
     "text": [
      "Epoch 1/5\n",
      "246/246 [==============================] - 1s 3ms/step - loss: 0.7565 - accuracy: 0.9733 - precision: 0.8223 - recall: 0.6967 - val_loss: 1.1208 - val_accuracy: 0.9648 - val_precision: 0.7455 - val_recall: 0.6105\n",
      "Epoch 2/5\n",
      "246/246 [==============================] - 1s 3ms/step - loss: 0.7484 - accuracy: 0.9731 - precision: 0.8177 - recall: 0.6979 - val_loss: 1.2005 - val_accuracy: 0.9652 - val_precision: 0.7371 - val_recall: 0.6357\n",
      "Epoch 3/5\n",
      "246/246 [==============================] - 1s 3ms/step - loss: 0.7429 - accuracy: 0.9732 - precision: 0.8173 - recall: 0.7015 - val_loss: 1.2353 - val_accuracy: 0.9652 - val_precision: 0.7399 - val_recall: 0.6289\n",
      "Epoch 4/5\n",
      "246/246 [==============================] - 1s 3ms/step - loss: 0.7114 - accuracy: 0.9740 - precision: 0.8227 - recall: 0.7110 - val_loss: 1.1582 - val_accuracy: 0.9675 - val_precision: 0.7621 - val_recall: 0.6495\n",
      "Epoch 5/5\n",
      "246/246 [==============================] - 1s 3ms/step - loss: 0.6689 - accuracy: 0.9756 - precision: 0.8360 - recall: 0.7285 - val_loss: 1.2264 - val_accuracy: 0.9679 - val_precision: 0.7615 - val_recall: 0.6621\n"
     ]
    },
    {
     "data": {
      "text/plain": [
       "<keras.src.callbacks.History at 0x244985bf890>"
      ]
     },
     "execution_count": 379,
     "metadata": {},
     "output_type": "execute_result"
    }
   ],
   "source": [
    "model6.fit(X_train[:7859] , y_train1[:7859] , batch_size = 32 , epochs = 5 , validation_data=(X_val,y_val) ,verbose =1)"
   ]
  },
  {
   "cell_type": "code",
   "execution_count": 380,
   "id": "8b1fd479",
   "metadata": {
    "ExecuteTime": {
     "end_time": "2024-01-20T17:28:58.411332Z",
     "start_time": "2024-01-20T17:28:58.182588Z"
    }
   },
   "outputs": [
    {
     "name": "stdout",
     "output_type": "stream",
     "text": [
      "69/69 [==============================] - 0s 2ms/step\n"
     ]
    },
    {
     "data": {
      "text/plain": [
       "array([14,  1, 16, ..., 11,  9, 12], dtype=int64)"
      ]
     },
     "execution_count": 380,
     "metadata": {},
     "output_type": "execute_result"
    }
   ],
   "source": [
    "predictions = np.argmax(model6.predict(X_test), axis=-1)\n",
    "\n",
    "predictions"
   ]
  },
  {
   "cell_type": "code",
   "execution_count": 381,
   "id": "a60fc5c2",
   "metadata": {
    "ExecuteTime": {
     "end_time": "2024-01-20T17:28:59.202925Z",
     "start_time": "2024-01-20T17:28:59.183158Z"
    }
   },
   "outputs": [
    {
     "name": "stdout",
     "output_type": "stream",
     "text": [
      "              precision    recall  f1-score   support\n",
      "\n",
      "           0       0.69      0.60      0.65        68\n",
      "           1       0.81      0.82      0.82       176\n",
      "           2       0.72      0.74      0.73        97\n",
      "           3       0.73      0.63      0.68        90\n",
      "           4       0.75      0.59      0.66        93\n",
      "           5       0.74      0.75      0.74       108\n",
      "           6       0.83      0.83      0.83       126\n",
      "           7       0.76      0.78      0.77       136\n",
      "           8       0.81      0.67      0.74       122\n",
      "           9       0.84      0.70      0.77       155\n",
      "          10       0.68      0.70      0.69        61\n",
      "          11       0.66      0.67      0.66       172\n",
      "          12       0.77      0.82      0.79       182\n",
      "          13       0.68      0.70      0.69       151\n",
      "          14       0.61      0.70      0.65       200\n",
      "          15       0.84      0.89      0.87       169\n",
      "          16       0.84      0.97      0.90        77\n",
      "\n",
      "    accuracy                           0.75      2183\n",
      "   macro avg       0.75      0.74      0.74      2183\n",
      "weighted avg       0.75      0.75      0.75      2183\n",
      "\n"
     ]
    }
   ],
   "source": [
    "print(classification_report(y_test.values , predictions))"
   ]
  },
  {
   "cell_type": "code",
   "execution_count": 382,
   "id": "6d37268d",
   "metadata": {
    "ExecuteTime": {
     "end_time": "2024-01-20T17:28:59.728297Z",
     "start_time": "2024-01-20T17:28:59.711025Z"
    }
   },
   "outputs": [
    {
     "name": "stdout",
     "output_type": "stream",
     "text": [
      "Precision is 0.7515128800775556\n",
      "Recall is 0.7414660237509374\n",
      "F1: 0.7441367038194585\n"
     ]
    }
   ],
   "source": [
    "    # Evaluating the model\n",
    "print('Precision is {}'.format(precision_score(y_test.values, predictions, average='macro')))\n",
    "print('Recall is {}'.format(recall_score(y_test.values, predictions, average='macro')))\n",
    "print('F1:', f1_score(y_test.values, predictions, average='macro'))"
   ]
  },
  {
   "cell_type": "code",
   "execution_count": 383,
   "id": "87d4e769",
   "metadata": {
    "ExecuteTime": {
     "end_time": "2024-01-20T17:29:19.332223Z",
     "start_time": "2024-01-20T17:29:19.328746Z"
    }
   },
   "outputs": [],
   "source": [
    "# 15 epochs , batch size = 32 , adamw"
   ]
  },
  {
   "cell_type": "code",
   "execution_count": null,
   "id": "88ed38c3",
   "metadata": {},
   "outputs": [],
   "source": []
  }
 ],
 "metadata": {
  "hide_input": false,
  "kernelspec": {
   "display_name": "Python 3 (ipykernel)",
   "language": "python",
   "name": "python3"
  },
  "language_info": {
   "codemirror_mode": {
    "name": "ipython",
    "version": 3
   },
   "file_extension": ".py",
   "mimetype": "text/x-python",
   "name": "python",
   "nbconvert_exporter": "python",
   "pygments_lexer": "ipython3",
   "version": "3.11.5"
  },
  "nbTranslate": {
   "displayLangs": [
    "*"
   ],
   "hotkey": "alt-t",
   "langInMainMenu": true,
   "sourceLang": "en",
   "targetLang": "fr",
   "useGoogleTranslate": true
  },
  "toc": {
   "base_numbering": 1,
   "nav_menu": {},
   "number_sections": true,
   "sideBar": true,
   "skip_h1_title": false,
   "title_cell": "Table of Contents",
   "title_sidebar": "Contents",
   "toc_cell": false,
   "toc_position": {},
   "toc_section_display": true,
   "toc_window_display": false
  },
  "varInspector": {
   "cols": {
    "lenName": 16,
    "lenType": 16,
    "lenVar": 40
   },
   "kernels_config": {
    "python": {
     "delete_cmd_postfix": "",
     "delete_cmd_prefix": "del ",
     "library": "var_list.py",
     "varRefreshCmd": "print(var_dic_list())"
    },
    "r": {
     "delete_cmd_postfix": ") ",
     "delete_cmd_prefix": "rm(",
     "library": "var_list.r",
     "varRefreshCmd": "cat(var_dic_list()) "
    }
   },
   "types_to_exclude": [
    "module",
    "function",
    "builtin_function_or_method",
    "instance",
    "_Feature"
   ],
   "window_display": false
  }
 },
 "nbformat": 4,
 "nbformat_minor": 5
}
