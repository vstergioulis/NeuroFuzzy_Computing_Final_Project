{
 "cells": [
  {
   "cell_type": "code",
   "execution_count": 1,
   "id": "1d2774f6",
   "metadata": {
    "ExecuteTime": {
     "end_time": "2024-02-18T13:58:51.233889Z",
     "start_time": "2024-02-18T13:58:40.244805Z"
    }
   },
   "outputs": [
    {
     "name": "stdout",
     "output_type": "stream",
     "text": [
      "WARNING:tensorflow:From C:\\Users\\Desktop\\anaconda3\\Lib\\site-packages\\keras\\src\\losses.py:2976: The name tf.losses.sparse_softmax_cross_entropy is deprecated. Please use tf.compat.v1.losses.sparse_softmax_cross_entropy instead.\n",
      "\n"
     ]
    }
   ],
   "source": [
    "import numpy as np\n",
    "import pandas as pd\n",
    "import matplotlib.pyplot as plt\n",
    "\n",
    "from tensorflow.keras.models import Sequential\n",
    "from tensorflow.keras.layers import Dense, Activation\n",
    "import tensorflow as tf\n",
    "\n",
    "from sklearn.model_selection import train_test_split\n",
    "from sklearn.preprocessing import LabelEncoder\n",
    "from sklearn.preprocessing import MinMaxScaler\n",
    "import gensim\n",
    "\n",
    "from gensim.models import Word2Vec, KeyedVectors\n",
    "\n",
    "from nltk.stem import WordNetLemmatizer\n",
    "from nltk.corpus import stopwords\n",
    "from nltk.tokenize import RegexpTokenizer\n",
    "import re\n",
    "import matplotlib.pyplot as plt\n",
    "import nltk\n",
    "\n",
    "from tensorflow.keras.utils import to_categorical"
   ]
  },
  {
   "cell_type": "code",
   "execution_count": 2,
   "id": "4d42115a",
   "metadata": {
    "ExecuteTime": {
     "end_time": "2024-02-18T13:58:53.719242Z",
     "start_time": "2024-02-18T13:58:53.699173Z"
    }
   },
   "outputs": [],
   "source": [
    "from wordcloud import WordCloud"
   ]
  },
  {
   "cell_type": "code",
   "execution_count": 3,
   "id": "f44d5510",
   "metadata": {
    "ExecuteTime": {
     "end_time": "2024-02-18T13:58:54.791735Z",
     "start_time": "2024-02-18T13:58:54.148788Z"
    }
   },
   "outputs": [
    {
     "data": {
      "text/plain": [
       "category_level_1\n",
       "arts, culture, entertainment and media        300\n",
       "conflict, war and peace                       800\n",
       "crime, law and justice                        500\n",
       "disaster, accident and emergency incident     500\n",
       "economy, business and finance                 400\n",
       "education                                     607\n",
       "environment                                   600\n",
       "health                                        700\n",
       "human interest                                600\n",
       "labour                                        703\n",
       "lifestyle and leisure                         300\n",
       "politics                                      900\n",
       "religion and belief                           800\n",
       "science and technology                        800\n",
       "society                                      1100\n",
       "sport                                         907\n",
       "weather                                       400\n",
       "Name: data_id, dtype: int64"
      ]
     },
     "execution_count": 3,
     "metadata": {},
     "output_type": "execute_result"
    }
   ],
   "source": [
    "data = pd.read_csv(\"data/news_class.csv\")\n",
    "\n",
    "df = data.copy() # to be safe and avoid errors\n",
    "\n",
    "df = df.loc[:,[\"data_id\" , \"content\" , \"category_level_1\" , \"category_level_2\"]]\n",
    "df.groupby(['category_level_1'])['data_id'].agg('count')"
   ]
  },
  {
   "cell_type": "code",
   "execution_count": 4,
   "id": "fabccc29",
   "metadata": {
    "ExecuteTime": {
     "end_time": "2024-02-18T13:58:55.578117Z",
     "start_time": "2024-02-18T13:58:55.571843Z"
    }
   },
   "outputs": [
    {
     "data": {
      "text/plain": [
       "'A fitness class has become the first in Scotland to practice pilates - with goats.\\n\\nThe bizarre exercise , which involves two baby goats climbing on top of participants, has taken off at Bellcraig Farm, Glenrothes, Fife.\\n\\nOrganiser Jo Munro said one-year-old kids Hazel and Mabel love to interact with humans at the fitness class.\\n\\nThe loveable animals help release feel-good hormones such as serotonin and make pilate-goers relax more as they stretch on their mats in a barn.\\n\\nInstructor Jo, 39, was inspired to launch the first classes in Scotland after taking part in goat yoga classes while on holiday in the US.\\n\\nThe classes of up to six participants start by collecting the kids from the field before standing on mats in a stone built cottage.\\n\\nThe group, which is the first in the UK to use African pygmy goats, warms up, while their four-legged friends inquisitively sniff around.\\n\\nJo, from Edinburgh, said: \"I went to California last year and it\\'s massive there so I went and tried it and thought I have to bring this back to Scotland.\\n\\n\"It\\'s not sore but the goats are reasonably heavy so it does make it more challenging.\\n\\n\"The kids are quite agile and nimble so it can be like a massage with their hooves, but you wouldn\\'t want it on your bare skin.\\n\\n\"When people arrive we go and collect the goats from the field and take them into this little stone cottage which has a stove so it\\'s nice and cosy.\\n\\n\"There is a maximum of six people to two goats.\\n\\n\"Goat pilates is something everyone has seen on YouTube and I think you either love it or hate it.\\n\\n\"It is complete hilarity and it makes everyone really happy and they leave on a high feeling really joyful.\\n\\n\"There is an animal therapy side to it. You let out endorphins that make you feel good, like when you pet an animal.\\n\\n\"The goats add that extra element to the pilates. If you are holding a plank with a 10kg goat on your back it is going to be much harder.\"\\n\\nOnce the classes are finished participants will be able to feed the lambs and play with the farm\\'s dogs.\\n\\nAnd it has proved a hit with Scots as classes book up.\\n\\nJo said: \"We have been doing it for a couple of months now and it has been really popular with fully booked classes.\\n\\n\"It seems to have really captured people who were intrigued and finding it really cute.\"'"
      ]
     },
     "execution_count": 4,
     "metadata": {},
     "output_type": "execute_result"
    }
   ],
   "source": [
    "df.content[371]"
   ]
  },
  {
   "cell_type": "code",
   "execution_count": 5,
   "id": "6fc7c16c",
   "metadata": {
    "ExecuteTime": {
     "end_time": "2024-02-18T13:58:56.227520Z",
     "start_time": "2024-02-18T13:58:56.219649Z"
    }
   },
   "outputs": [
    {
     "data": {
      "text/plain": [
       "data_id                                                        649424\n",
       "content             A fitness class has become the first in Scotla...\n",
       "category_level_1                                lifestyle and leisure\n",
       "category_level_2                                 exercise and fitness\n",
       "Name: 371, dtype: object"
      ]
     },
     "execution_count": 5,
     "metadata": {},
     "output_type": "execute_result"
    }
   ],
   "source": [
    "df.loc[371]"
   ]
  },
  {
   "cell_type": "code",
   "execution_count": 6,
   "id": "1935ed95",
   "metadata": {
    "ExecuteTime": {
     "end_time": "2024-02-18T13:58:56.746033Z",
     "start_time": "2024-02-18T13:58:56.740390Z"
    }
   },
   "outputs": [
    {
     "data": {
      "text/plain": [
       "'A fitness class has become the first in Scotland to practice pilates - with GOATS.\\n\\nThe bizarre exercise, which involves two baby goats climbing on top of participants, has taken off at Bellcraig Farm, Glenrothes, Fife.\\n\\nOrganiser Jo Munro said one-year-old kids Hazel and Mabel love to interact with humans at the fitness class.\\n\\nThe loveable animals help release \"feelgood\" hormones such as serotonin and make pilate-goers relax more as they stretch on their mats in a barn.\\n\\nInstructor Jo, 39, was inspired to launch the first classes in Scotland after taking part in goat yoga classes while on holiday in the US.\\n\\nThe classes of up to six participants start by collecting the kids from the field before standing on mats in a stone built cottage.\\n\\nThe group, which is the first in the UK to use African pygmy goats, warms up, while their four-legged friends inquisitively sniff around.\\n\\nJo, from Edinburgh, said: \"I went to California last year and it\\'s massive there so I went and tried it and thought I have to bring this back to Scotland.\\n\\n\"It\\'s not sore but the goats are reasonably heavy so it does make it more challenging.\\n\\n\"The kids are quite agile and nimble so it can be like a massage with their hooves, but you wouldn\\'t want it on your bare skin.\\n\\n\"When people arrive we go and collect the goats from the field and take them into this little stone cottage which has a stove so it\\'s nice and cosy.\\n\\n\"There is a maximum of six people to two goats.\\n\\n\"Goat pilates is something everyone has seen on YouTube and I think you either love it or hate it.\\n\\n\"It is complete hilarity and it makes everyone really happy and they leave on a high feeling really joyful.\\n\\n\"There is an animal therapy side to it. You let out endorphins that make you feel good, like when you pet an animal.\\n\\n\"The goats add that extra element to the pilates. If you are holding a plank with a 10kg goat on your back it is going to be much harder.\"\\n\\nOnce the classes are finished participants will be able to feed the lambs and play with the farm\\'s dogs.\\n\\nAnd it has proved a hit with Scots as classes book up.\\n\\nJo said: \"We have been doing it for a couple of months now and it has been really popular with fully booked classes.\\n\\n\"It seems to have really captured people who were intrigued and finding it really cute.\"'"
      ]
     },
     "execution_count": 6,
     "metadata": {},
     "output_type": "execute_result"
    }
   ],
   "source": [
    "df.content[374]"
   ]
  },
  {
   "cell_type": "code",
   "execution_count": 7,
   "id": "a672d737",
   "metadata": {
    "ExecuteTime": {
     "end_time": "2024-02-18T13:58:57.185644Z",
     "start_time": "2024-02-18T13:58:57.180533Z"
    }
   },
   "outputs": [
    {
     "data": {
      "text/plain": [
       "'\\n\\n'"
      ]
     },
     "execution_count": 7,
     "metadata": {},
     "output_type": "execute_result"
    }
   ],
   "source": [
    "df.content[6528]"
   ]
  },
  {
   "cell_type": "code",
   "execution_count": 8,
   "id": "bbcfde7d",
   "metadata": {
    "ExecuteTime": {
     "end_time": "2024-02-18T13:58:57.619573Z",
     "start_time": "2024-02-18T13:58:57.612528Z"
    }
   },
   "outputs": [
    {
     "data": {
      "text/plain": [
       "data_id                  142211\n",
       "content                    \\n\\n\n",
       "category_level_1          sport\n",
       "category_level_2    sport event\n",
       "Name: 6528, dtype: object"
      ]
     },
     "execution_count": 8,
     "metadata": {},
     "output_type": "execute_result"
    }
   ],
   "source": [
    "df.loc[6528]"
   ]
  },
  {
   "cell_type": "code",
   "execution_count": null,
   "id": "91e90b26",
   "metadata": {},
   "outputs": [],
   "source": []
  },
  {
   "cell_type": "code",
   "execution_count": null,
   "id": "9ac6d5bf",
   "metadata": {},
   "outputs": [],
   "source": []
  },
  {
   "cell_type": "code",
   "execution_count": null,
   "id": "d17bbc98",
   "metadata": {},
   "outputs": [],
   "source": []
  },
  {
   "cell_type": "code",
   "execution_count": 9,
   "id": "68e8a07a",
   "metadata": {
    "ExecuteTime": {
     "end_time": "2024-02-18T13:58:59.473551Z",
     "start_time": "2024-02-18T13:58:59.459702Z"
    }
   },
   "outputs": [
    {
     "data": {
      "text/html": [
       "<div>\n",
       "<style scoped>\n",
       "    .dataframe tbody tr th:only-of-type {\n",
       "        vertical-align: middle;\n",
       "    }\n",
       "\n",
       "    .dataframe tbody tr th {\n",
       "        vertical-align: top;\n",
       "    }\n",
       "\n",
       "    .dataframe thead th {\n",
       "        text-align: right;\n",
       "    }\n",
       "</style>\n",
       "<table border=\"1\" class=\"dataframe\">\n",
       "  <thead>\n",
       "    <tr style=\"text-align: right;\">\n",
       "      <th></th>\n",
       "      <th>data_id</th>\n",
       "      <th>content</th>\n",
       "      <th>category_level_1</th>\n",
       "      <th>category_level_2</th>\n",
       "    </tr>\n",
       "  </thead>\n",
       "  <tbody>\n",
       "    <tr>\n",
       "      <th>10912</th>\n",
       "      <td>907640</td>\n",
       "      <td>This post was originally published on this sit...</td>\n",
       "      <td>conflict, war and peace</td>\n",
       "      <td>post-war reconstruction</td>\n",
       "    </tr>\n",
       "    <tr>\n",
       "      <th>10913</th>\n",
       "      <td>892720</td>\n",
       "      <td>This post was originally published on this sit...</td>\n",
       "      <td>conflict, war and peace</td>\n",
       "      <td>post-war reconstruction</td>\n",
       "    </tr>\n",
       "    <tr>\n",
       "      <th>10914</th>\n",
       "      <td>870499</td>\n",
       "      <td>This\\n\\n[post](http://www.presstv.ir/Detail/20...</td>\n",
       "      <td>conflict, war and peace</td>\n",
       "      <td>post-war reconstruction</td>\n",
       "    </tr>\n",
       "    <tr>\n",
       "      <th>10915</th>\n",
       "      <td>887334</td>\n",
       "      <td>This\\n\\n[post](http://www.presstv.ir/Detail/20...</td>\n",
       "      <td>conflict, war and peace</td>\n",
       "      <td>post-war reconstruction</td>\n",
       "    </tr>\n",
       "    <tr>\n",
       "      <th>10916</th>\n",
       "      <td>885988</td>\n",
       "      <td>This\\n\\n[post](https://tass.com/politics/10791...</td>\n",
       "      <td>conflict, war and peace</td>\n",
       "      <td>post-war reconstruction</td>\n",
       "    </tr>\n",
       "  </tbody>\n",
       "</table>\n",
       "</div>"
      ],
      "text/plain": [
       "       data_id                                            content  \\\n",
       "10912   907640  This post was originally published on this sit...   \n",
       "10913   892720  This post was originally published on this sit...   \n",
       "10914   870499  This\\n\\n[post](http://www.presstv.ir/Detail/20...   \n",
       "10915   887334  This\\n\\n[post](http://www.presstv.ir/Detail/20...   \n",
       "10916   885988  This\\n\\n[post](https://tass.com/politics/10791...   \n",
       "\n",
       "              category_level_1         category_level_2  \n",
       "10912  conflict, war and peace  post-war reconstruction  \n",
       "10913  conflict, war and peace  post-war reconstruction  \n",
       "10914  conflict, war and peace  post-war reconstruction  \n",
       "10915  conflict, war and peace  post-war reconstruction  \n",
       "10916  conflict, war and peace  post-war reconstruction  "
      ]
     },
     "execution_count": 9,
     "metadata": {},
     "output_type": "execute_result"
    }
   ],
   "source": [
    "df.tail()"
   ]
  },
  {
   "cell_type": "code",
   "execution_count": 10,
   "id": "77440225",
   "metadata": {
    "ExecuteTime": {
     "end_time": "2024-02-18T13:58:59.973711Z",
     "start_time": "2024-02-18T13:58:59.965367Z"
    }
   },
   "outputs": [
    {
     "data": {
      "text/plain": [
       "category_level_2\n",
       "accident and emergency incident    100\n",
       "accomplishment                     100\n",
       "act of terror                      100\n",
       "animal                             100\n",
       "anniversary                        100\n",
       "                                  ... \n",
       "weather forecast                   100\n",
       "weather phenomena                  100\n",
       "weather statistic                  100\n",
       "weather warning                    100\n",
       "welfare                            100\n",
       "Name: data_id, Length: 109, dtype: int64"
      ]
     },
     "execution_count": 10,
     "metadata": {},
     "output_type": "execute_result"
    }
   ],
   "source": [
    "df.groupby(['category_level_2'])['data_id'].agg('count')"
   ]
  },
  {
   "cell_type": "code",
   "execution_count": 11,
   "id": "a4e4dbd7",
   "metadata": {
    "ExecuteTime": {
     "end_time": "2024-02-18T13:59:00.864197Z",
     "start_time": "2024-02-18T13:59:00.524703Z"
    }
   },
   "outputs": [
    {
     "data": {
      "text/plain": [
       "<Axes: ylabel='category_level_1'>"
      ]
     },
     "execution_count": 11,
     "metadata": {},
     "output_type": "execute_result"
    },
    {
     "data": {
      "image/png": "[encoded data removed]",
      "text/plain": [
       "<Figure size 640x480 with 1 Axes>"
      ]
     },
     "metadata": {},
     "output_type": "display_data"
    }
   ],
   "source": [
    "df['category_level_1'].value_counts().plot(kind='barh' , colormap = 'gist_heat')"
   ]
  },
  {
   "cell_type": "code",
   "execution_count": 12,
   "id": "cdd41769",
   "metadata": {
    "ExecuteTime": {
     "end_time": "2024-02-18T13:59:01.028882Z",
     "start_time": "2024-02-18T13:59:01.021549Z"
    }
   },
   "outputs": [],
   "source": [
    "# Function for removing ASCII characters\n",
    "def _removeNonAscii(s):\n",
    "    return \"\".join(i for i in s if  ord(i)<128)\n",
    "\n",
    "# Function for converting to lower case\n",
    "def make_lower_case(text):\n",
    "    return text.lower()\n",
    "\n",
    "# Function for removing stop words\n",
    "\n",
    "def remove_stop_words(text):\n",
    "    tokenizer = RegexpTokenizer(r'\\w+')\n",
    "    text =  tokenizer.tokenize(text)\n",
    "    stops = set(stopwords.words(\"english\"))\n",
    "    text = [w for w in text if not w in stops]\n",
    "    text = \" \".join(text)\n",
    "    return text\n",
    "\n",
    "\n",
    "# Function for removing html\n",
    "def remove_html(text):\n",
    "    html_pattern = re.compile('<.*?>')\n",
    "    return html_pattern.sub(r'', text)\n",
    "\n",
    "# Function for removing punctuation\n",
    "def remove_punctuation(text):\n",
    "    tokenizer = RegexpTokenizer(r'\\w+')\n",
    "    text = tokenizer.tokenize(text)\n",
    "    text = \" \".join(text)\n",
    "    return text\n",
    "\n",
    "def lemm_text(text):\n",
    "    lemm=WordNetLemmatizer()\n",
    "    tokenizer = RegexpTokenizer(r'\\w+')\n",
    "    text = tokenizer.tokenize(text)\n",
    "    tokens = text\n",
    "    return ' '.join([lemm.lemmatize(t) for t in tokens])\n",
    "\n",
    "\n",
    "def remove_digits(text):\n",
    "    text = re.sub(r'\\d', '', text)\n",
    "    #text = \" \".join(text)\n",
    "    return text"
   ]
  },
  {
   "cell_type": "code",
   "execution_count": 13,
   "id": "3606eb61",
   "metadata": {
    "ExecuteTime": {
     "end_time": "2024-02-18T13:59:37.198000Z",
     "start_time": "2024-02-18T13:59:01.749277Z"
    }
   },
   "outputs": [],
   "source": [
    "df['Cleaned'] = df['content'].apply(_removeNonAscii)\n",
    "df['Cleaned'] = df.Cleaned.apply(func = make_lower_case)\n",
    "df['Cleaned'] = df.Cleaned.apply(func = remove_stop_words)\n",
    "df['Cleaned'] = df.Cleaned.apply(func = remove_punctuation)\n",
    "df['Cleaned'] = df.Cleaned.apply(func = remove_html)\n",
    "df['Cleaned'] = df.Cleaned.apply(func = lemm_text)\n",
    "df['Cleaned'] = df.Cleaned.apply(func = remove_digits)\n",
    "df = df.drop('content' , axis =1)"
   ]
  },
  {
   "cell_type": "code",
   "execution_count": 14,
   "id": "91085ba6",
   "metadata": {
    "ExecuteTime": {
     "end_time": "2024-02-18T14:00:04.777519Z",
     "start_time": "2024-02-18T14:00:04.771511Z"
    }
   },
   "outputs": [
    {
     "data": {
      "text/plain": [
       "'fitness class become first scotland practice pilate goat bizarre exercise involves two baby goat climbing top participant taken bellcraig farm glenrothes fife organiser jo munro said one year old kid hazel mabel love interact human fitness class loveable animal help release feel good hormone serotonin make pilate goer relax stretch mat barn instructor jo  inspired launch first class scotland taking part goat yoga class holiday u class six participant start collecting kid field standing mat stone built cottage group first uk use african pygmy goat warms four legged friend inquisitively sniff around jo edinburgh said went california last year massive went tried thought bring back scotland sore goat reasonably heavy make challenging kid quite agile nimble like massage hoof want bare skin people arrive go collect goat field take little stone cottage stove nice cosy maximum six people two goat goat pilate something everyone seen youtube think either love hate complete hilarity make everyone really happy leave high feeling really joyful animal therapy side let endorphin make feel good like pet animal goat add extra element pilate holding plank kg goat back going much harder class finished participant able feed lamb play farm dog proved hit scot class book jo said couple month really popular fully booked class seems really captured people intrigued finding really cute'"
      ]
     },
     "execution_count": 14,
     "metadata": {},
     "output_type": "execute_result"
    }
   ],
   "source": [
    "df.Cleaned[371]"
   ]
  },
  {
   "cell_type": "code",
   "execution_count": 15,
   "id": "07d45e3c",
   "metadata": {
    "ExecuteTime": {
     "end_time": "2024-02-18T14:00:05.425630Z",
     "start_time": "2024-02-18T14:00:05.419770Z"
    }
   },
   "outputs": [
    {
     "data": {
      "text/plain": [
       "'fitness class become first scotland practice pilate goat bizarre exercise involves two baby goat climbing top participant taken bellcraig farm glenrothes fife organiser jo munro said one year old kid hazel mabel love interact human fitness class loveable animal help release feelgood hormone serotonin make pilate goer relax stretch mat barn instructor jo  inspired launch first class scotland taking part goat yoga class holiday u class six participant start collecting kid field standing mat stone built cottage group first uk use african pygmy goat warms four legged friend inquisitively sniff around jo edinburgh said went california last year massive went tried thought bring back scotland sore goat reasonably heavy make challenging kid quite agile nimble like massage hoof want bare skin people arrive go collect goat field take little stone cottage stove nice cosy maximum six people two goat goat pilate something everyone seen youtube think either love hate complete hilarity make everyone really happy leave high feeling really joyful animal therapy side let endorphin make feel good like pet animal goat add extra element pilate holding plank kg goat back going much harder class finished participant able feed lamb play farm dog proved hit scot class book jo said couple month really popular fully booked class seems really captured people intrigued finding really cute'"
      ]
     },
     "execution_count": 15,
     "metadata": {},
     "output_type": "execute_result"
    }
   ],
   "source": [
    "df.Cleaned[374]"
   ]
  },
  {
   "cell_type": "code",
   "execution_count": 16,
   "id": "3924b446",
   "metadata": {
    "ExecuteTime": {
     "end_time": "2024-02-18T14:00:08.025586Z",
     "start_time": "2024-02-18T14:00:08.019311Z"
    }
   },
   "outputs": [
    {
     "data": {
      "text/plain": [
       "''"
      ]
     },
     "execution_count": 16,
     "metadata": {},
     "output_type": "execute_result"
    }
   ],
   "source": [
    "df.Cleaned[6528]"
   ]
  },
  {
   "cell_type": "code",
   "execution_count": null,
   "id": "76cd80b0",
   "metadata": {},
   "outputs": [],
   "source": []
  },
  {
   "cell_type": "code",
   "execution_count": 17,
   "id": "e1fb30ad",
   "metadata": {
    "ExecuteTime": {
     "end_time": "2024-02-18T14:00:09.548979Z",
     "start_time": "2024-02-18T14:00:09.187974Z"
    }
   },
   "outputs": [],
   "source": [
    "io = df.copy()\n",
    "\n",
    "io = io.drop([374]).reset_index(drop=True)\n",
    "io = io.drop([6527]).reset_index(drop=True)\n",
    "\n",
    "corpus_full = []\n",
    "for words in io['Cleaned']:\n",
    "    corpus_full.append(words.split()) "
   ]
  },
  {
   "cell_type": "code",
   "execution_count": 53,
   "id": "918e93d7",
   "metadata": {
    "ExecuteTime": {
     "end_time": "2024-02-18T14:27:43.262441Z",
     "start_time": "2024-02-18T14:27:43.251057Z"
    },
    "scrolled": true
   },
   "outputs": [
    {
     "data": {
      "text/plain": [
       "['authority',\n",
       " 'trying',\n",
       " 'determine',\n",
       " 'anyone',\n",
       " 'helped',\n",
       " 'two',\n",
       " 'inmate',\n",
       " 'escaped',\n",
       " 'california',\n",
       " 'jail',\n",
       " 'traveled',\n",
       " 'hundred',\n",
       " 'mile',\n",
       " 'crossed',\n",
       " 'mexico',\n",
       " 'captured',\n",
       " 'trying',\n",
       " 'walk',\n",
       " 'back',\n",
       " 'united',\n",
       " 'state',\n",
       " 'jonathan',\n",
       " 'salazar',\n",
       " 'santos',\n",
       " 'fonseca',\n",
       " 'arrested',\n",
       " 'u',\n",
       " 'custom',\n",
       " 'border',\n",
       " 'protection',\n",
       " 'official',\n",
       " 'port',\n",
       " 'entry',\n",
       " 'san',\n",
       " 'ysidro',\n",
       " 'nation',\n",
       " 'largest',\n",
       " 'border',\n",
       " 'crossing',\n",
       " 'early',\n",
       " 'wednesday',\n",
       " 'monterey',\n",
       " 'county',\n",
       " 'sheriff',\n",
       " 'office',\n",
       " 'capt',\n",
       " 'john',\n",
       " 'thornburg',\n",
       " 'said',\n",
       " 'thornburg',\n",
       " 'said',\n",
       " 'two',\n",
       " 'custody',\n",
       " 'monterey',\n",
       " 'county',\n",
       " 'official',\n",
       " 'returned',\n",
       " 'jail',\n",
       " 'salina',\n",
       " 'farming',\n",
       " 'city',\n",
       " 'people',\n",
       " 'roughly',\n",
       " 'mile',\n",
       " 'kilometer',\n",
       " 'south',\n",
       " 'san',\n",
       " 'francisco',\n",
       " 'salazar',\n",
       " 'fonseca',\n",
       " 'escaped',\n",
       " 'sunday',\n",
       " 'lockup',\n",
       " 'salina',\n",
       " 'climbing',\n",
       " 'hole',\n",
       " 'made',\n",
       " 'ceiling',\n",
       " 'bathroom',\n",
       " 'squeezing',\n",
       " 'hollow',\n",
       " 'wall',\n",
       " 'kicking',\n",
       " 'open',\n",
       " 'hatch',\n",
       " 'official',\n",
       " 'found',\n",
       " 'jail',\n",
       " 'issued',\n",
       " 'jumpsuit',\n",
       " 'outside',\n",
       " 'building',\n",
       " 'inmate',\n",
       " 'often',\n",
       " 'wear',\n",
       " 'clothes',\n",
       " 'jumpsuit',\n",
       " 'thornburg',\n",
       " 'said',\n",
       " 'investigator',\n",
       " 'yet',\n",
       " 'determined',\n",
       " 'long',\n",
       " 'worked',\n",
       " 'making',\n",
       " 'hole',\n",
       " 'anyone',\n",
       " 'else',\n",
       " 'helped',\n",
       " 'escape',\n",
       " 'helped',\n",
       " 'reported',\n",
       " 'missing',\n",
       " 'sunday',\n",
       " 'thornburg',\n",
       " 'said',\n",
       " 'authority',\n",
       " 'received',\n",
       " 'tip',\n",
       " 'pair',\n",
       " 'born',\n",
       " 'raised',\n",
       " 'salina',\n",
       " 'spotted',\n",
       " 'mexican',\n",
       " 'border',\n",
       " 'city',\n",
       " 'tijuana',\n",
       " 'around',\n",
       " 'mile',\n",
       " 'kilometer',\n",
       " 'south',\n",
       " 'monterey',\n",
       " 'county',\n",
       " 'alerted',\n",
       " 'federal',\n",
       " 'official',\n",
       " 'cbp',\n",
       " 'spokeswoman',\n",
       " 'jackie',\n",
       " 'wasiluk',\n",
       " 'said',\n",
       " 'men',\n",
       " 'present',\n",
       " 'document',\n",
       " 'said',\n",
       " 'u',\n",
       " 'citizen',\n",
       " 'check',\n",
       " 'law',\n",
       " 'enforcement',\n",
       " 'database',\n",
       " 'told',\n",
       " 'border',\n",
       " 'inspector',\n",
       " 'wanted',\n",
       " 'authority',\n",
       " 'pair',\n",
       " 'made',\n",
       " 'mexico',\n",
       " 'decided',\n",
       " 'travel',\n",
       " 'together',\n",
       " 'since',\n",
       " 'allegedly',\n",
       " 'belong',\n",
       " 'rival',\n",
       " 'gang',\n",
       " 'returned',\n",
       " 'united',\n",
       " 'state',\n",
       " 'investigation',\n",
       " 'thornburg',\n",
       " 'said',\n",
       " 'good',\n",
       " 'news',\n",
       " 'custody',\n",
       " 'thornburg',\n",
       " 'said',\n",
       " 'salazar',\n",
       " 'fonseca',\n",
       " 'housed',\n",
       " 'separately',\n",
       " 'different',\n",
       " 'housing',\n",
       " 'unit',\n",
       " 'one',\n",
       " 'escaped',\n",
       " 'thornburg',\n",
       " 'said',\n",
       " 'adding',\n",
       " 'official',\n",
       " 'already',\n",
       " 'made',\n",
       " 'security',\n",
       " 'improvement',\n",
       " 'jail',\n",
       " 'said',\n",
       " 'provide',\n",
       " 'detail',\n",
       " 'spotted',\n",
       " 'tijuana',\n",
       " 'investigator',\n",
       " 'received',\n",
       " 'credible',\n",
       " 'tip',\n",
       " 'employee',\n",
       " 'motel',\n",
       " 'marina',\n",
       " 'mile',\n",
       " 'kilometer',\n",
       " 'jail',\n",
       " 'told',\n",
       " 'authority',\n",
       " 'salazar',\n",
       " 'checked',\n",
       " 'tuesday',\n",
       " 'morning',\n",
       " 'authority',\n",
       " 'found',\n",
       " 'one',\n",
       " 'room',\n",
       " 'nearly',\n",
       " 'eight',\n",
       " 'hour',\n",
       " 'standoff',\n",
       " 'thornburg',\n",
       " 'said',\n",
       " 'looked',\n",
       " 'like',\n",
       " 'mr',\n",
       " 'salazar',\n",
       " 'motel',\n",
       " 'said',\n",
       " 'unfortunately',\n",
       " 'last',\n",
       " 'night',\n",
       " 'custody',\n",
       " 'since',\n",
       " 'awaiting',\n",
       " 'trial',\n",
       " 'murder',\n",
       " 'count',\n",
       " 'numerous',\n",
       " 'felony',\n",
       " 'charge',\n",
       " 'separate',\n",
       " 'case',\n",
       " 'salazar',\n",
       " 'arrested',\n",
       " 'shooting',\n",
       " 'death',\n",
       " 'year',\n",
       " 'old',\n",
       " 'jaime',\n",
       " 'martinez',\n",
       " 'victim',\n",
       " 'drove',\n",
       " 'salina',\n",
       " 'girlfriend',\n",
       " 'month',\n",
       " 'old',\n",
       " 'son',\n",
       " 'woman',\n",
       " 'shot',\n",
       " 'treated',\n",
       " 'hospital',\n",
       " 'child',\n",
       " 'hurt',\n",
       " 'police',\n",
       " 'investigated',\n",
       " 'oct',\n",
       " 'shooting',\n",
       " 'gang',\n",
       " 'related',\n",
       " 'officer',\n",
       " 'said',\n",
       " 'tattoo',\n",
       " 'including',\n",
       " 'letter',\n",
       " 'p',\n",
       " 'cheek',\n",
       " 'refer',\n",
       " 'sureo',\n",
       " 'offshoot',\n",
       " 'gang',\n",
       " 'la',\n",
       " 'posada',\n",
       " 'trece',\n",
       " 'californian',\n",
       " 'reported',\n",
       " 'trial',\n",
       " 'scheduled',\n",
       " 'begin',\n",
       " 'january',\n",
       " 'fonseca',\n",
       " 'told',\n",
       " 'police',\n",
       " 'arrest',\n",
       " 'homicide',\n",
       " 'charge',\n",
       " 'gang',\n",
       " 'leader',\n",
       " 'told',\n",
       " 'kill',\n",
       " 'someone',\n",
       " 'prove',\n",
       " 'still',\n",
       " 'loyal',\n",
       " 'boronda',\n",
       " 'boy',\n",
       " 'subset',\n",
       " 'norteo',\n",
       " 'gang',\n",
       " 'detective',\n",
       " 'gabriela',\n",
       " 'contreras',\n",
       " 'testified',\n",
       " 'fonseca',\n",
       " 'charged',\n",
       " 'shooting',\n",
       " 'lorenzo',\n",
       " 'gomez',\n",
       " 'acosta',\n",
       " 'death',\n",
       " 'june',\n",
       " 'victim',\n",
       " 'sat',\n",
       " 'car',\n",
       " 'video',\n",
       " 'call',\n",
       " 'wife',\n",
       " 'mexico',\n",
       " 'californian',\n",
       " 'reported',\n",
       " 'saw',\n",
       " 'scuffle',\n",
       " 'heard',\n",
       " 'husband',\n",
       " 'screaming',\n",
       " 'gunshot',\n",
       " 'rang',\n",
       " 'salina',\n",
       " 'police',\n",
       " 'officer',\n",
       " 'froylan',\n",
       " 'aranda',\n",
       " 'said',\n",
       " 'acosta',\n",
       " 'reportedly',\n",
       " 'chosen',\n",
       " 'random',\n",
       " 'three',\n",
       " 'day',\n",
       " 'later',\n",
       " 'fonseca',\n",
       " 'shot',\n",
       " 'killed',\n",
       " 'ernesto',\n",
       " 'garcia',\n",
       " 'cruz',\n",
       " 'salina',\n",
       " 'park',\n",
       " 'authority',\n",
       " 'said',\n",
       " 'told',\n",
       " 'police',\n",
       " 'gang',\n",
       " 'leader',\n",
       " 'also',\n",
       " 'ordered',\n",
       " 'slaying',\n",
       " 'picked',\n",
       " 'girlfriend',\n",
       " 'ex',\n",
       " 'boyfriend',\n",
       " 'send',\n",
       " 'message',\n",
       " 'contreras',\n",
       " 'said',\n",
       " 'associated',\n",
       " 'press',\n",
       " 'journalist',\n",
       " 'elliot',\n",
       " 'spagat',\n",
       " 'san',\n",
       " 'diego',\n",
       " 'contributed',\n",
       " 'report']"
      ]
     },
     "execution_count": 53,
     "metadata": {},
     "output_type": "execute_result"
    }
   ],
   "source": [
    "corpus_full[1]"
   ]
  },
  {
   "cell_type": "code",
   "execution_count": null,
   "id": "0d688dce",
   "metadata": {},
   "outputs": [],
   "source": []
  },
  {
   "cell_type": "code",
   "execution_count": 37,
   "id": "3b13b37f",
   "metadata": {
    "ExecuteTime": {
     "end_time": "2024-02-18T14:09:09.025855Z",
     "start_time": "2024-02-18T14:09:09.021345Z"
    }
   },
   "outputs": [],
   "source": [
    "def labeler(dataframe_column):\n",
    "    encoder=LabelEncoder()\n",
    "    \n",
    "    labels = encoder.fit_transform(dataframe_column)\n",
    "    print(encoder.classes_)\n",
    "    print(\"We did it boys , labels have been created\")\n",
    "    \n",
    "    return(pd.DataFrame(labels))"
   ]
  },
  {
   "cell_type": "code",
   "execution_count": 38,
   "id": "dcdec839",
   "metadata": {
    "ExecuteTime": {
     "end_time": "2024-02-18T14:09:09.692355Z",
     "start_time": "2024-02-18T14:09:09.684909Z"
    }
   },
   "outputs": [],
   "source": [
    "def vectorizer():\n",
    "    \n",
    "    \n",
    "    # Creating a list for storing the vectors ('Description' into vectors)\n",
    "    #global word_embeddings\n",
    "    word_embeddings = []\n",
    "    i = 0\n",
    "    # Reading the each 'Description'\n",
    "    for line in io['Cleaned']:\n",
    "        avgword2vec = None\n",
    "        count = 0\n",
    "        for word in line.split():\n",
    "            if word in model.wv.key_to_index:\n",
    "                count += 1\n",
    "                if avgword2vec is None:\n",
    "                    avgword2vec = model.wv[word]\n",
    "                else:\n",
    "                    avgword2vec = avgword2vec + model.wv[word]\n",
    "                \n",
    "        if avgword2vec is not None:\n",
    "            avgword2vec = avgword2vec / count\n",
    "            word_embeddings.append(avgword2vec)\n",
    "        else:\n",
    "            print(\"I found it , the error occurs at line:\" , i)\n",
    "          \n",
    "        i +=1 \n",
    "\n",
    "    return(pd.DataFrame(word_embeddings))  # Returning our Data as a Dataframe (aesthetic reasons)"
   ]
  },
  {
   "cell_type": "code",
   "execution_count": 8,
   "id": "fcd40ddf",
   "metadata": {
    "ExecuteTime": {
     "end_time": "2024-02-14T14:25:35.108051Z",
     "start_time": "2024-02-14T14:20:39.356475Z"
    }
   },
   "outputs": [],
   "source": [
    "model = Word2Vec(sentences=corpus_full, vector_size=600, window=4, min_count=10, sg = 1 , hs = 1)  # skipgram architecture"
   ]
  },
  {
   "cell_type": "code",
   "execution_count": 10,
   "id": "6098e64f",
   "metadata": {
    "ExecuteTime": {
     "end_time": "2024-02-14T14:25:51.205131Z",
     "start_time": "2024-02-14T14:25:50.369434Z"
    }
   },
   "outputs": [],
   "source": [
    "model.save(\"model_4_a_parenthesis.h3\")"
   ]
  },
  {
   "cell_type": "code",
   "execution_count": 39,
   "id": "69e1d5ef",
   "metadata": {
    "ExecuteTime": {
     "end_time": "2024-02-18T14:09:14.570909Z",
     "start_time": "2024-02-18T14:09:13.932980Z"
    }
   },
   "outputs": [],
   "source": [
    "model = Word2Vec.load(\"model_4_a_parenthesis.h3\")"
   ]
  },
  {
   "cell_type": "code",
   "execution_count": 40,
   "id": "22133278",
   "metadata": {
    "ExecuteTime": {
     "end_time": "2024-02-18T14:09:20.334493Z",
     "start_time": "2024-02-18T14:09:20.329051Z"
    }
   },
   "outputs": [
    {
     "name": "stdout",
     "output_type": "stream",
     "text": [
      "Word2Vec<vocab=21958, vector_size=600, alpha=0.025>\n"
     ]
    }
   ],
   "source": [
    "print(model)"
   ]
  },
  {
   "cell_type": "code",
   "execution_count": 41,
   "id": "556a0f3f",
   "metadata": {
    "ExecuteTime": {
     "end_time": "2024-02-18T14:09:40.196366Z",
     "start_time": "2024-02-18T14:09:26.614953Z"
    }
   },
   "outputs": [],
   "source": [
    "vect = vectorizer()"
   ]
  },
  {
   "cell_type": "code",
   "execution_count": 44,
   "id": "1cf50feb",
   "metadata": {
    "ExecuteTime": {
     "end_time": "2024-02-18T14:14:56.390849Z",
     "start_time": "2024-02-18T14:14:56.345467Z"
    }
   },
   "outputs": [
    {
     "name": "stdout",
     "output_type": "stream",
     "text": [
      "['arts, culture, entertainment and media' 'conflict, war and peace'\n",
      " 'crime, law and justice' 'disaster, accident and emergency incident'\n",
      " 'economy, business and finance' 'education' 'environment' 'health'\n",
      " 'human interest' 'labour' 'lifestyle and leisure' 'politics'\n",
      " 'religion and belief' 'science and technology' 'society' 'sport'\n",
      " 'weather']\n",
      "We did it boys , labels have been created\n"
     ]
    }
   ],
   "source": [
    "y1 = labeler(io[\"category_level_1\"])\n",
    "\n",
    "\n",
    "X = vect.copy()\n",
    "\n",
    "X_train, X_test, y_train, y_test = train_test_split(X, y1, test_size=0.2,random_state=42)\n",
    "\n",
    "y_train1 = to_categorical(y_train)"
   ]
  },
  {
   "cell_type": "code",
   "execution_count": 45,
   "id": "57414c91",
   "metadata": {
    "ExecuteTime": {
     "end_time": "2024-02-18T14:14:57.711007Z",
     "start_time": "2024-02-18T14:14:57.707309Z"
    }
   },
   "outputs": [],
   "source": [
    "y_test1 = to_categorical(y_test)"
   ]
  },
  {
   "cell_type": "code",
   "execution_count": 46,
   "id": "c158d364",
   "metadata": {
    "ExecuteTime": {
     "end_time": "2024-02-18T14:14:58.528083Z",
     "start_time": "2024-02-18T14:14:58.524045Z"
    }
   },
   "outputs": [],
   "source": [
    "from sklearn.metrics import classification_report, confusion_matrix\n",
    "from tensorflow.keras.layers import Flatten , Input , Conv2D , MaxPooling2D , BatchNormalization"
   ]
  },
  {
   "cell_type": "code",
   "execution_count": 47,
   "id": "bc96d5aa",
   "metadata": {
    "ExecuteTime": {
     "end_time": "2024-02-18T14:15:01.695592Z",
     "start_time": "2024-02-18T14:15:01.401669Z"
    }
   },
   "outputs": [
    {
     "name": "stdout",
     "output_type": "stream",
     "text": [
      "WARNING:tensorflow:From C:\\Users\\Desktop\\anaconda3\\Lib\\site-packages\\keras\\src\\backend.py:1398: The name tf.executing_eagerly_outside_functions is deprecated. Please use tf.compat.v1.executing_eagerly_outside_functions instead.\n",
      "\n"
     ]
    }
   ],
   "source": [
    "fc_input = tf.keras.Input(shape=(600,), name=\"embs\")\n",
    "x = tf.keras.layers.Dense(200, activation=\"sigmoid\")(fc_input)\n",
    "#x = tf.keras.activations.swish(x)\n",
    "x = tf.keras.layers.Dense(360, activation=\"leaky_relu\")(x)\n",
    "x = tf.keras.layers.Dropout(0.2)(x)\n",
    "#x = tf.keras.activations.swish(x)\n",
    "fc_out = tf.keras.layers.Dense(17, activation=\"softmax\")(x)"
   ]
  },
  {
   "cell_type": "code",
   "execution_count": 48,
   "id": "70103cf8",
   "metadata": {
    "ExecuteTime": {
     "end_time": "2024-02-18T14:15:02.251294Z",
     "start_time": "2024-02-18T14:15:02.234370Z"
    }
   },
   "outputs": [],
   "source": [
    "my_model= tf.keras.Model(inputs=fc_input, outputs=fc_out, name=\"News_Classifier\")"
   ]
  },
  {
   "cell_type": "code",
   "execution_count": 49,
   "id": "72cacbe0",
   "metadata": {
    "ExecuteTime": {
     "end_time": "2024-02-18T14:15:02.976823Z",
     "start_time": "2024-02-18T14:15:02.961761Z"
    }
   },
   "outputs": [
    {
     "name": "stdout",
     "output_type": "stream",
     "text": [
      "Model: \"News_Classifier\"\n",
      "_________________________________________________________________\n",
      " Layer (type)                Output Shape              Param #   \n",
      "=================================================================\n",
      " embs (InputLayer)           [(None, 600)]             0         \n",
      "                                                                 \n",
      " dense (Dense)               (None, 200)               120200    \n",
      "                                                                 \n",
      " dense_1 (Dense)             (None, 360)               72360     \n",
      "                                                                 \n",
      " dropout (Dropout)           (None, 360)               0         \n",
      "                                                                 \n",
      " dense_2 (Dense)             (None, 17)                6137      \n",
      "                                                                 \n",
      "=================================================================\n",
      "Total params: 198697 (776.16 KB)\n",
      "Trainable params: 198697 (776.16 KB)\n",
      "Non-trainable params: 0 (0.00 Byte)\n",
      "_________________________________________________________________\n"
     ]
    }
   ],
   "source": [
    "my_model.summary()"
   ]
  },
  {
   "cell_type": "code",
   "execution_count": 50,
   "id": "cdb12dd3",
   "metadata": {
    "ExecuteTime": {
     "end_time": "2024-02-18T14:15:03.740557Z",
     "start_time": "2024-02-18T14:15:03.729945Z"
    }
   },
   "outputs": [],
   "source": [
    "opt = tf.keras.optimizers.AdamW(learning_rate =0.007 , beta_1=0.9,\n",
    "    beta_2=0.999,\n",
    "    use_ema=True,\n",
    "    ema_momentum=0.99)"
   ]
  },
  {
   "cell_type": "code",
   "execution_count": 51,
   "id": "27e00b3c",
   "metadata": {
    "ExecuteTime": {
     "end_time": "2024-02-18T14:15:05.445420Z",
     "start_time": "2024-02-18T14:15:05.410154Z"
    }
   },
   "outputs": [],
   "source": [
    "my_model.compile(optimizer = opt , \n",
    "              loss = 'categorical_crossentropy' ,\n",
    "              metrics=[tf.keras.metrics.BinaryAccuracy(name='accuracy'),\n",
    "                       tf.keras.metrics.Precision(name='precision'),\n",
    "                       tf.keras.metrics.Recall(name='recall')])"
   ]
  },
  {
   "cell_type": "code",
   "execution_count": 52,
   "id": "61d85573",
   "metadata": {
    "ExecuteTime": {
     "end_time": "2024-02-18T14:15:23.126094Z",
     "start_time": "2024-02-18T14:15:06.349781Z"
    }
   },
   "outputs": [
    {
     "name": "stdout",
     "output_type": "stream",
     "text": [
      "Epoch 1/10\n",
      "WARNING:tensorflow:From C:\\Users\\Desktop\\anaconda3\\Lib\\site-packages\\keras\\src\\utils\\tf_utils.py:492: The name tf.ragged.RaggedTensorValue is deprecated. Please use tf.compat.v1.ragged.RaggedTensorValue instead.\n",
      "\n",
      "437/437 [==============================] - 3s 4ms/step - loss: 1.8567 - accuracy: 0.9489 - precision: 0.7047 - recall: 0.2262 - val_loss: 1.2762 - val_accuracy: 0.9583 - val_precision: 0.7634 - val_recall: 0.4230\n",
      "Epoch 2/10\n",
      "437/437 [==============================] - 2s 4ms/step - loss: 1.2124 - accuracy: 0.9591 - precision: 0.7453 - recall: 0.4639 - val_loss: 1.1716 - val_accuracy: 0.9624 - val_precision: 0.7654 - val_recall: 0.5192\n",
      "Epoch 3/10\n",
      "437/437 [==============================] - 2s 4ms/step - loss: 1.0547 - accuracy: 0.9641 - precision: 0.7749 - recall: 0.5490 - val_loss: 1.1453 - val_accuracy: 0.9629 - val_precision: 0.7547 - val_recall: 0.5478\n",
      "Epoch 4/10\n",
      "437/437 [==============================] - 2s 3ms/step - loss: 0.9656 - accuracy: 0.9668 - precision: 0.7905 - recall: 0.5920 - val_loss: 1.1085 - val_accuracy: 0.9644 - val_precision: 0.7554 - val_recall: 0.5833\n",
      "Epoch 5/10\n",
      "437/437 [==============================] - 1s 3ms/step - loss: 0.9063 - accuracy: 0.9691 - precision: 0.8063 - recall: 0.6245 - val_loss: 1.1323 - val_accuracy: 0.9624 - val_precision: 0.7268 - val_recall: 0.5787\n",
      "Epoch 6/10\n",
      "437/437 [==============================] - 1s 3ms/step - loss: 0.8392 - accuracy: 0.9706 - precision: 0.8130 - recall: 0.6494 - val_loss: 1.0836 - val_accuracy: 0.9663 - val_precision: 0.7740 - val_recall: 0.6039\n",
      "Epoch 7/10\n",
      "437/437 [==============================] - 1s 3ms/step - loss: 0.8013 - accuracy: 0.9717 - precision: 0.8180 - recall: 0.6664 - val_loss: 1.1637 - val_accuracy: 0.9646 - val_precision: 0.7393 - val_recall: 0.6153\n",
      "Epoch 8/10\n",
      "437/437 [==============================] - 1s 3ms/step - loss: 0.7601 - accuracy: 0.9734 - precision: 0.8338 - recall: 0.6846 - val_loss: 1.1093 - val_accuracy: 0.9661 - val_precision: 0.7595 - val_recall: 0.6199\n",
      "Epoch 9/10\n",
      "437/437 [==============================] - 1s 3ms/step - loss: 0.7228 - accuracy: 0.9741 - precision: 0.8350 - recall: 0.6971 - val_loss: 1.1524 - val_accuracy: 0.9656 - val_precision: 0.7463 - val_recall: 0.6297\n",
      "Epoch 10/10\n",
      "437/437 [==============================] - 1s 3ms/step - loss: 0.6907 - accuracy: 0.9759 - precision: 0.8451 - recall: 0.7220 - val_loss: 1.1265 - val_accuracy: 0.9671 - val_precision: 0.7676 - val_recall: 0.6314\n",
      "69/69 [==============================] - 0s 2ms/step\n",
      "[14  1 16 ... 11  9 12]\n",
      "              precision    recall  f1-score   support\n",
      "\n",
      "           0       0.63      0.53      0.58        68\n",
      "           1       0.80      0.80      0.80       176\n",
      "           2       0.69      0.76      0.73        97\n",
      "           3       0.68      0.76      0.72        90\n",
      "           4       0.80      0.60      0.69        93\n",
      "           5       0.71      0.78      0.74       108\n",
      "           6       0.86      0.84      0.85       126\n",
      "           7       0.76      0.78      0.77       136\n",
      "           8       0.74      0.71      0.73       122\n",
      "           9       0.83      0.73      0.78       155\n",
      "          10       0.82      0.67      0.74        61\n",
      "          11       0.68      0.66      0.67       172\n",
      "          12       0.72      0.80      0.76       182\n",
      "          13       0.73      0.65      0.69       151\n",
      "          14       0.62      0.66      0.64       200\n",
      "          15       0.83      0.93      0.88       169\n",
      "          16       0.86      0.91      0.89        77\n",
      "\n",
      "    accuracy                           0.75      2183\n",
      "   macro avg       0.75      0.74      0.74      2183\n",
      "weighted avg       0.75      0.75      0.74      2183\n",
      "\n"
     ]
    }
   ],
   "source": [
    "my_model.fit(X_train , y_train1 , batch_size = 16 , epochs = 10 , validation_split=(0.2) ,verbose =1)\n",
    "\n",
    "\n",
    "predictions = np.argmax(my_model.predict(X_test), axis=-1)\n",
    "\n",
    "print(predictions)\n",
    "\n",
    "\n",
    "print(classification_report(y_test.values , predictions))"
   ]
  },
  {
   "cell_type": "code",
   "execution_count": 185,
   "id": "fa019aaf",
   "metadata": {
    "ExecuteTime": {
     "end_time": "2024-02-14T15:03:03.046293Z",
     "start_time": "2024-02-14T15:02:46.453882Z"
    }
   },
   "outputs": [
    {
     "name": "stdout",
     "output_type": "stream",
     "text": [
      "Epoch 1/10\n",
      "437/437 [==============================] - 2s 4ms/step - loss: 0.6613 - accuracy: 0.9763 - precision: 0.8468 - recall: 0.7296 - val_loss: 1.2506 - val_accuracy: 0.9658 - val_precision: 0.7424 - val_recall: 0.6417\n",
      "Epoch 2/10\n",
      "437/437 [==============================] - 2s 4ms/step - loss: 0.6440 - accuracy: 0.9770 - precision: 0.8522 - recall: 0.7366 - val_loss: 1.2004 - val_accuracy: 0.9683 - val_precision: 0.7680 - val_recall: 0.6611\n",
      "Epoch 3/10\n",
      "437/437 [==============================] - 2s 4ms/step - loss: 0.6256 - accuracy: 0.9776 - precision: 0.8568 - recall: 0.7437 - val_loss: 1.2966 - val_accuracy: 0.9663 - val_precision: 0.7467 - val_recall: 0.6463\n",
      "Epoch 4/10\n",
      "437/437 [==============================] - 2s 4ms/step - loss: 0.5815 - accuracy: 0.9791 - precision: 0.8657 - recall: 0.7632 - val_loss: 1.3557 - val_accuracy: 0.9660 - val_precision: 0.7415 - val_recall: 0.6468\n",
      "Epoch 5/10\n",
      "437/437 [==============================] - 2s 4ms/step - loss: 0.5512 - accuracy: 0.9805 - precision: 0.8746 - recall: 0.7795 - val_loss: 1.3146 - val_accuracy: 0.9668 - val_precision: 0.7527 - val_recall: 0.6497\n",
      "Epoch 6/10\n",
      "437/437 [==============================] - 2s 4ms/step - loss: 0.5417 - accuracy: 0.9802 - precision: 0.8700 - recall: 0.7801 - val_loss: 1.2824 - val_accuracy: 0.9666 - val_precision: 0.7503 - val_recall: 0.6485\n",
      "Epoch 7/10\n",
      "437/437 [==============================] - 2s 4ms/step - loss: 0.5176 - accuracy: 0.9814 - precision: 0.8789 - recall: 0.7926 - val_loss: 1.3366 - val_accuracy: 0.9666 - val_precision: 0.7451 - val_recall: 0.6577\n",
      "Epoch 8/10\n",
      "437/437 [==============================] - 2s 4ms/step - loss: 0.4945 - accuracy: 0.9817 - precision: 0.8821 - recall: 0.7958 - val_loss: 1.3650 - val_accuracy: 0.9682 - val_precision: 0.7634 - val_recall: 0.6669\n",
      "Epoch 9/10\n",
      "437/437 [==============================] - 2s 4ms/step - loss: 0.4774 - accuracy: 0.9824 - precision: 0.8845 - recall: 0.8067 - val_loss: 1.4899 - val_accuracy: 0.9669 - val_precision: 0.7523 - val_recall: 0.6520\n",
      "Epoch 10/10\n",
      "437/437 [==============================] - 2s 4ms/step - loss: 0.4658 - accuracy: 0.9825 - precision: 0.8827 - recall: 0.8099 - val_loss: 1.4701 - val_accuracy: 0.9669 - val_precision: 0.7449 - val_recall: 0.6651\n",
      "69/69 [==============================] - 0s 2ms/step\n",
      "[14  1 16 ... 11  9 12]\n",
      "              precision    recall  f1-score   support\n",
      "\n",
      "           0       0.73      0.60      0.66        68\n",
      "           1       0.81      0.79      0.80       176\n",
      "           2       0.74      0.77      0.75        97\n",
      "           3       0.69      0.68      0.68        90\n",
      "           4       0.77      0.62      0.69        93\n",
      "           5       0.70      0.80      0.74       108\n",
      "           6       0.84      0.81      0.82       126\n",
      "           7       0.81      0.77      0.79       136\n",
      "           8       0.77      0.73      0.75       122\n",
      "           9       0.80      0.74      0.77       155\n",
      "          10       0.78      0.69      0.73        61\n",
      "          11       0.67      0.65      0.66       172\n",
      "          12       0.74      0.76      0.75       182\n",
      "          13       0.67      0.69      0.68       151\n",
      "          14       0.60      0.68      0.64       200\n",
      "          15       0.87      0.92      0.89       169\n",
      "          16       0.82      0.96      0.89        77\n",
      "\n",
      "    accuracy                           0.75      2183\n",
      "   macro avg       0.75      0.74      0.75      2183\n",
      "weighted avg       0.75      0.75      0.75      2183\n",
      "\n"
     ]
    }
   ],
   "source": [
    "my_model.fit(X_train , y_train1 , batch_size = 16 , epochs = 10 , validation_split=(0.2) ,verbose =1)\n",
    "\n",
    "\n",
    "predictions = np.argmax(my_model.predict(X_test), axis=-1)\n",
    "\n",
    "print(predictions)\n",
    "\n",
    "\n",
    "print(classification_report(y_test.values , predictions))"
   ]
  },
  {
   "cell_type": "code",
   "execution_count": 186,
   "id": "ef32d26e",
   "metadata": {
    "ExecuteTime": {
     "end_time": "2024-02-14T15:03:22.236918Z",
     "start_time": "2024-02-14T15:03:22.234013Z"
    }
   },
   "outputs": [],
   "source": [
    "#############################################################################################################################"
   ]
  },
  {
   "cell_type": "code",
   "execution_count": 190,
   "id": "e45263c7",
   "metadata": {
    "ExecuteTime": {
     "end_time": "2024-02-14T15:04:54.936428Z",
     "start_time": "2024-02-14T15:04:54.846424Z"
    }
   },
   "outputs": [],
   "source": [
    "fc_input = tf.keras.Input(shape=(600,), name=\"embs\")\n",
    "x = tf.keras.layers.Dense(200, activation=\"gelu\")(fc_input)\n",
    "#x = tf.keras.activations.swish(x)\n",
    "x = tf.keras.layers.Dense(360, activation=\"leaky_relu\")(x)\n",
    "x = tf.keras.layers.Dropout(0.2)(x)\n",
    "#x = tf.keras.activations.swish(x)\n",
    "fc_out = tf.keras.layers.Dense(17, activation=\"softmax\")(x)"
   ]
  },
  {
   "cell_type": "code",
   "execution_count": 191,
   "id": "9a6cdef5",
   "metadata": {
    "ExecuteTime": {
     "end_time": "2024-02-14T15:04:55.284021Z",
     "start_time": "2024-02-14T15:04:55.274895Z"
    }
   },
   "outputs": [],
   "source": [
    "my_model2= tf.keras.Model(inputs=fc_input, outputs=fc_out, name=\"News_Classifier\")"
   ]
  },
  {
   "cell_type": "code",
   "execution_count": 192,
   "id": "7a6861e1",
   "metadata": {
    "ExecuteTime": {
     "end_time": "2024-02-14T15:05:14.031955Z",
     "start_time": "2024-02-14T15:04:55.712323Z"
    }
   },
   "outputs": [
    {
     "name": "stdout",
     "output_type": "stream",
     "text": [
      "Epoch 1/10\n",
      "437/437 [==============================] - 3s 4ms/step - loss: 1.5045 - accuracy: 0.9534 - precision: 0.6876 - recall: 0.3800 - val_loss: 1.4381 - val_accuracy: 0.9560 - val_precision: 0.6730 - val_recall: 0.4888\n",
      "Epoch 2/10\n",
      "437/437 [==============================] - 2s 4ms/step - loss: 1.2641 - accuracy: 0.9600 - precision: 0.7316 - recall: 0.5045 - val_loss: 1.2506 - val_accuracy: 0.9619 - val_precision: 0.7667 - val_recall: 0.5060\n",
      "Epoch 3/10\n",
      "437/437 [==============================] - 2s 4ms/step - loss: 1.0821 - accuracy: 0.9640 - precision: 0.7585 - recall: 0.5688 - val_loss: 1.3527 - val_accuracy: 0.9593 - val_precision: 0.7125 - val_recall: 0.5163\n",
      "Epoch 4/10\n",
      "437/437 [==============================] - 2s 4ms/step - loss: 0.9997 - accuracy: 0.9663 - precision: 0.7724 - recall: 0.6050 - val_loss: 1.1957 - val_accuracy: 0.9646 - val_precision: 0.7758 - val_recall: 0.5604\n",
      "Epoch 5/10\n",
      "437/437 [==============================] - 2s 4ms/step - loss: 0.9406 - accuracy: 0.9680 - precision: 0.7840 - recall: 0.6292 - val_loss: 1.2932 - val_accuracy: 0.9636 - val_precision: 0.7554 - val_recall: 0.5638\n",
      "Epoch 6/10\n",
      "437/437 [==============================] - 2s 4ms/step - loss: 0.9103 - accuracy: 0.9692 - precision: 0.7927 - recall: 0.6444 - val_loss: 1.1454 - val_accuracy: 0.9653 - val_precision: 0.7427 - val_recall: 0.6262\n",
      "Epoch 7/10\n",
      "437/437 [==============================] - 2s 4ms/step - loss: 0.8438 - accuracy: 0.9710 - precision: 0.8033 - recall: 0.6724 - val_loss: 1.2961 - val_accuracy: 0.9619 - val_precision: 0.7458 - val_recall: 0.5341\n",
      "Epoch 8/10\n",
      "437/437 [==============================] - 2s 4ms/step - loss: 0.7947 - accuracy: 0.9726 - precision: 0.8159 - recall: 0.6908 - val_loss: 1.1925 - val_accuracy: 0.9643 - val_precision: 0.7395 - val_recall: 0.6062\n",
      "Epoch 9/10\n",
      "437/437 [==============================] - 2s 4ms/step - loss: 0.7667 - accuracy: 0.9731 - precision: 0.8186 - recall: 0.6976 - val_loss: 1.2453 - val_accuracy: 0.9657 - val_precision: 0.7562 - val_recall: 0.6142\n",
      "Epoch 10/10\n",
      "437/437 [==============================] - 2s 4ms/step - loss: 0.7674 - accuracy: 0.9730 - precision: 0.8141 - recall: 0.7002 - val_loss: 1.3094 - val_accuracy: 0.9652 - val_precision: 0.7437 - val_recall: 0.6228\n",
      "69/69 [==============================] - 0s 2ms/step\n",
      "[14  1 16 ... 11  9 12]\n",
      "              precision    recall  f1-score   support\n",
      "\n",
      "           0       0.75      0.53      0.62        68\n",
      "           1       0.82      0.83      0.82       176\n",
      "           2       0.73      0.77      0.75        97\n",
      "           3       0.75      0.68      0.71        90\n",
      "           4       0.78      0.65      0.71        93\n",
      "           5       0.74      0.79      0.76       108\n",
      "           6       0.84      0.85      0.84       126\n",
      "           7       0.74      0.82      0.77       136\n",
      "           8       0.76      0.66      0.71       122\n",
      "           9       0.82      0.68      0.74       155\n",
      "          10       0.78      0.77      0.78        61\n",
      "          11       0.65      0.65      0.65       172\n",
      "          12       0.74      0.79      0.77       182\n",
      "          13       0.69      0.67      0.68       151\n",
      "          14       0.58      0.67      0.62       200\n",
      "          15       0.85      0.90      0.88       169\n",
      "          16       0.83      0.95      0.88        77\n",
      "\n",
      "    accuracy                           0.75      2183\n",
      "   macro avg       0.76      0.74      0.75      2183\n",
      "weighted avg       0.75      0.75      0.74      2183\n",
      "\n"
     ]
    }
   ],
   "source": [
    "opt = tf.keras.optimizers.AdamW(learning_rate =0.007 , beta_1=0.9,\n",
    "    beta_2=0.999,\n",
    "    use_ema=True,\n",
    "    ema_momentum=0.99)\n",
    "\n",
    "\n",
    "\n",
    "\n",
    "\n",
    "my_model2.compile(optimizer = opt , \n",
    "              loss = 'categorical_crossentropy' ,\n",
    "              metrics=[tf.keras.metrics.BinaryAccuracy(name='accuracy'),\n",
    "                       tf.keras.metrics.Precision(name='precision'),\n",
    "                       tf.keras.metrics.Recall(name='recall')])\n",
    "\n",
    "\n",
    "\n",
    "\n",
    "\n",
    "my_model2.fit(X_train , y_train1 , batch_size = 16 , epochs = 10 , validation_split=(0.2) ,verbose =1)\n",
    "\n",
    "\n",
    "predictions = np.argmax(my_model2.predict(X_test), axis=-1)\n",
    "\n",
    "print(predictions)\n",
    "\n",
    "\n",
    "print(classification_report(y_test.values , predictions))"
   ]
  },
  {
   "cell_type": "code",
   "execution_count": 193,
   "id": "d9d805d1",
   "metadata": {
    "ExecuteTime": {
     "end_time": "2024-02-14T15:05:33.628268Z",
     "start_time": "2024-02-14T15:05:33.621271Z"
    }
   },
   "outputs": [],
   "source": [
    "#############################################################################################################################"
   ]
  },
  {
   "cell_type": "code",
   "execution_count": 200,
   "id": "8d94f22d",
   "metadata": {
    "ExecuteTime": {
     "end_time": "2024-02-14T15:08:22.233423Z",
     "start_time": "2024-02-14T15:08:04.167636Z"
    }
   },
   "outputs": [
    {
     "name": "stdout",
     "output_type": "stream",
     "text": [
      "Epoch 1/10\n",
      "437/437 [==============================] - 3s 5ms/step - loss: 1.8772 - accuracy: 0.9483 - precision: 0.6887 - recall: 0.2210 - val_loss: 1.3498 - val_accuracy: 0.9566 - val_precision: 0.7956 - val_recall: 0.3520\n",
      "Epoch 2/10\n",
      "437/437 [==============================] - 2s 4ms/step - loss: 1.2261 - accuracy: 0.9590 - precision: 0.7452 - recall: 0.4594 - val_loss: 1.2958 - val_accuracy: 0.9593 - val_precision: 0.7526 - val_recall: 0.4579\n",
      "Epoch 3/10\n",
      "437/437 [==============================] - 2s 4ms/step - loss: 1.0767 - accuracy: 0.9635 - precision: 0.7763 - recall: 0.5340 - val_loss: 1.2136 - val_accuracy: 0.9613 - val_precision: 0.7475 - val_recall: 0.5169\n",
      "Epoch 4/10\n",
      "437/437 [==============================] - 2s 4ms/step - loss: 0.9843 - accuracy: 0.9663 - precision: 0.7929 - recall: 0.5772 - val_loss: 1.1505 - val_accuracy: 0.9638 - val_precision: 0.7579 - val_recall: 0.5644\n",
      "Epoch 5/10\n",
      "437/437 [==============================] - 2s 4ms/step - loss: 0.9232 - accuracy: 0.9679 - precision: 0.8009 - recall: 0.6043 - val_loss: 1.1431 - val_accuracy: 0.9644 - val_precision: 0.7873 - val_recall: 0.5404\n",
      "Epoch 6/10\n",
      "437/437 [==============================] - 2s 4ms/step - loss: 0.8760 - accuracy: 0.9698 - precision: 0.8127 - recall: 0.6322 - val_loss: 1.1877 - val_accuracy: 0.9640 - val_precision: 0.7574 - val_recall: 0.5718\n",
      "Epoch 7/10\n",
      "437/437 [==============================] - 2s 4ms/step - loss: 0.8141 - accuracy: 0.9713 - precision: 0.8193 - recall: 0.6570 - val_loss: 1.2003 - val_accuracy: 0.9648 - val_precision: 0.7591 - val_recall: 0.5879\n",
      "Epoch 8/10\n",
      "437/437 [==============================] - 2s 4ms/step - loss: 0.7726 - accuracy: 0.9728 - precision: 0.8318 - recall: 0.6747 - val_loss: 1.1168 - val_accuracy: 0.9661 - val_precision: 0.7755 - val_recall: 0.5970\n",
      "Epoch 9/10\n",
      "437/437 [==============================] - 2s 4ms/step - loss: 0.7332 - accuracy: 0.9743 - precision: 0.8384 - recall: 0.6968 - val_loss: 1.1706 - val_accuracy: 0.9671 - val_precision: 0.7817 - val_recall: 0.6108\n",
      "Epoch 10/10\n",
      "437/437 [==============================] - 2s 4ms/step - loss: 0.6977 - accuracy: 0.9751 - precision: 0.8443 - recall: 0.7079 - val_loss: 1.3135 - val_accuracy: 0.9655 - val_precision: 0.7488 - val_recall: 0.6228\n",
      "69/69 [==============================] - 0s 2ms/step\n",
      "[14  1 16 ... 11  9 12]\n",
      "              precision    recall  f1-score   support\n",
      "\n",
      "           0       0.67      0.62      0.64        68\n",
      "           1       0.80      0.78      0.79       176\n",
      "           2       0.74      0.75      0.75        97\n",
      "           3       0.73      0.68      0.70        90\n",
      "           4       0.73      0.59      0.65        93\n",
      "           5       0.74      0.78      0.76       108\n",
      "           6       0.85      0.83      0.84       126\n",
      "           7       0.73      0.79      0.76       136\n",
      "           8       0.75      0.68      0.72       122\n",
      "           9       0.82      0.71      0.76       155\n",
      "          10       0.77      0.70      0.74        61\n",
      "          11       0.63      0.69      0.66       172\n",
      "          12       0.75      0.79      0.77       182\n",
      "          13       0.69      0.64      0.66       151\n",
      "          14       0.58      0.64      0.61       200\n",
      "          15       0.87      0.92      0.90       169\n",
      "          16       0.81      0.96      0.88        77\n",
      "\n",
      "    accuracy                           0.74      2183\n",
      "   macro avg       0.75      0.74      0.74      2183\n",
      "weighted avg       0.74      0.74      0.74      2183\n",
      "\n"
     ]
    }
   ],
   "source": [
    "fc_input = tf.keras.Input(shape=(600,), name=\"embs\")\n",
    "x = tf.keras.layers.Dense(200, activation=\"softplus\")(fc_input)\n",
    "#x = tf.keras.activations.swish(x)\n",
    "x = tf.keras.layers.Dense(360, activation=\"leaky_relu\")(x)\n",
    "x = tf.keras.layers.Dropout(0.2)(x)\n",
    "#x = tf.keras.activations.swish(x)\n",
    "fc_out = tf.keras.layers.Dense(17, activation=\"softmax\")(x)\n",
    "\n",
    "my_model3= tf.keras.Model(inputs=fc_input, outputs=fc_out, name=\"News_Classifier\")\n",
    "\n",
    "\n",
    "opt = tf.keras.optimizers.AdamW(learning_rate =0.007 , beta_1=0.9,\n",
    "    beta_2=0.999,\n",
    "    use_ema=True,\n",
    "    ema_momentum=0.99)\n",
    "\n",
    "\n",
    "\n",
    "\n",
    "\n",
    "my_model3.compile(optimizer = opt , \n",
    "              loss = 'categorical_crossentropy' ,\n",
    "              metrics=[tf.keras.metrics.BinaryAccuracy(name='accuracy'),\n",
    "                       tf.keras.metrics.Precision(name='precision'),\n",
    "                       tf.keras.metrics.Recall(name='recall')])\n",
    "\n",
    "\n",
    "\n",
    "\n",
    "\n",
    "my_model3.fit(X_train , y_train1 , batch_size = 16 , epochs = 10 , validation_split=(0.2) ,verbose =1)\n",
    "\n",
    "\n",
    "predictions = np.argmax(my_model3.predict(X_test), axis=-1)\n",
    "\n",
    "print(predictions)\n",
    "\n",
    "\n",
    "print(classification_report(y_test.values , predictions))"
   ]
  },
  {
   "cell_type": "code",
   "execution_count": 231,
   "id": "ea80fc1b",
   "metadata": {
    "ExecuteTime": {
     "end_time": "2024-02-14T18:09:52.068026Z",
     "start_time": "2024-02-14T18:09:52.064134Z"
    }
   },
   "outputs": [],
   "source": [
    "#############################################################################################################################"
   ]
  },
  {
   "cell_type": "markdown",
   "id": "53c3473a",
   "metadata": {},
   "source": [
    "# THE BEST OF THE BEST LESGOO"
   ]
  },
  {
   "cell_type": "code",
   "execution_count": 201,
   "id": "ff7983e7",
   "metadata": {
    "ExecuteTime": {
     "end_time": "2024-02-14T15:09:31.149020Z",
     "start_time": "2024-02-14T15:09:31.144020Z"
    }
   },
   "outputs": [],
   "source": [
    "y_test1 = to_categorical(y_test , dtype = int)"
   ]
  },
  {
   "cell_type": "code",
   "execution_count": 202,
   "id": "f65b19a7",
   "metadata": {
    "ExecuteTime": {
     "end_time": "2024-02-14T15:09:34.406397Z",
     "start_time": "2024-02-14T15:09:34.400396Z"
    }
   },
   "outputs": [
    {
     "data": {
      "text/plain": [
       "array([[0, 0, 0, ..., 1, 0, 0],\n",
       "       [0, 1, 0, ..., 0, 0, 0],\n",
       "       [0, 0, 0, ..., 0, 0, 1],\n",
       "       ...,\n",
       "       [0, 0, 0, ..., 0, 0, 0],\n",
       "       [0, 0, 0, ..., 1, 0, 0],\n",
       "       [0, 0, 0, ..., 0, 0, 0]])"
      ]
     },
     "execution_count": 202,
     "metadata": {},
     "output_type": "execute_result"
    }
   ],
   "source": [
    "y_test1"
   ]
  },
  {
   "cell_type": "code",
   "execution_count": 229,
   "id": "394f91c8",
   "metadata": {
    "ExecuteTime": {
     "end_time": "2024-02-14T15:23:38.950938Z",
     "start_time": "2024-02-14T15:23:18.919042Z"
    }
   },
   "outputs": [
    {
     "name": "stdout",
     "output_type": "stream",
     "text": [
      "Epoch 1/10\n",
      "437/437 [==============================] - 3s 4ms/step - loss: 1.5388 - accuracy: 0.9537 - precision: 0.6983 - recall: 0.3741 - val_loss: 1.2800 - val_accuracy: 0.9600 - val_precision: 0.7504 - val_recall: 0.4785\n",
      "Epoch 2/10\n",
      "437/437 [==============================] - 2s 4ms/step - loss: 1.2314 - accuracy: 0.9608 - precision: 0.7358 - recall: 0.5211 - val_loss: 1.2085 - val_accuracy: 0.9612 - val_precision: 0.7423 - val_recall: 0.5226\n",
      "Epoch 3/10\n",
      "437/437 [==============================] - 2s 4ms/step - loss: 1.1424 - accuracy: 0.9632 - precision: 0.7482 - recall: 0.5651 - val_loss: 1.2361 - val_accuracy: 0.9608 - val_precision: 0.7152 - val_recall: 0.5535\n",
      "Epoch 4/10\n",
      "437/437 [==============================] - 2s 4ms/step - loss: 1.0405 - accuracy: 0.9661 - precision: 0.7715 - recall: 0.6029 - val_loss: 1.3299 - val_accuracy: 0.9632 - val_precision: 0.7385 - val_recall: 0.5804\n",
      "Epoch 5/10\n",
      "437/437 [==============================] - 2s 4ms/step - loss: 1.0124 - accuracy: 0.9672 - precision: 0.7733 - recall: 0.6262 - val_loss: 1.4176 - val_accuracy: 0.9628 - val_precision: 0.7235 - val_recall: 0.5947\n",
      "Epoch 6/10\n",
      "437/437 [==============================] - 2s 4ms/step - loss: 1.0091 - accuracy: 0.9673 - precision: 0.7712 - recall: 0.6318 - val_loss: 1.2046 - val_accuracy: 0.9657 - val_precision: 0.7607 - val_recall: 0.6079\n",
      "Epoch 7/10\n",
      "437/437 [==============================] - 2s 4ms/step - loss: 0.9379 - accuracy: 0.9689 - precision: 0.7822 - recall: 0.6538 - val_loss: 1.6437 - val_accuracy: 0.9611 - val_precision: 0.6888 - val_recall: 0.6171\n",
      "Epoch 8/10\n",
      "437/437 [==============================] - 2s 5ms/step - loss: 0.9291 - accuracy: 0.9694 - precision: 0.7829 - recall: 0.6646 - val_loss: 1.3847 - val_accuracy: 0.9654 - val_precision: 0.7403 - val_recall: 0.6331\n",
      "Epoch 9/10\n",
      "437/437 [==============================] - 2s 5ms/step - loss: 0.8824 - accuracy: 0.9714 - precision: 0.7996 - recall: 0.6850 - val_loss: 1.6025 - val_accuracy: 0.9622 - val_precision: 0.7120 - val_recall: 0.5987\n",
      "Epoch 10/10\n",
      "437/437 [==============================] - 2s 5ms/step - loss: 0.8433 - accuracy: 0.9725 - precision: 0.8082 - recall: 0.6981 - val_loss: 1.3517 - val_accuracy: 0.9672 - val_precision: 0.7568 - val_recall: 0.6520\n",
      "69/69 [==============================] - 0s 2ms/step\n",
      "[14  1  3 ... 11 14 12]\n",
      "              precision    recall  f1-score   support\n",
      "\n",
      "           0       1.00      0.10      0.19        68\n",
      "           1       0.85      0.59      0.69       176\n",
      "           2       0.86      0.56      0.68        97\n",
      "           3       0.68      0.70      0.69        90\n",
      "           4       0.95      0.42      0.58        93\n",
      "           5       0.79      0.64      0.71       108\n",
      "           6       0.90      0.66      0.76       126\n",
      "           7       0.86      0.51      0.64       136\n",
      "           8       0.71      0.46      0.56       122\n",
      "           9       0.93      0.26      0.41       155\n",
      "          10       0.92      0.20      0.32        61\n",
      "          11       0.51      0.68      0.58       172\n",
      "          12       0.69      0.73      0.71       182\n",
      "          13       0.64      0.64      0.64       151\n",
      "          14       0.26      0.89      0.40       200\n",
      "          15       0.89      0.74      0.81       169\n",
      "          16       0.95      0.75      0.84        77\n",
      "\n",
      "    accuracy                           0.60      2183\n",
      "   macro avg       0.79      0.56      0.60      2183\n",
      "weighted avg       0.75      0.60      0.61      2183\n",
      "\n"
     ]
    }
   ],
   "source": [
    "fc_input = tf.keras.Input(shape=(600,), name=\"embs\")\n",
    "x = tf.keras.layers.Dense(200, activation=\"leaky_relu\")(fc_input)\n",
    "#x = tf.keras.activations.swish(x)\n",
    "x = tf.keras.layers.Dense(360, activation=\"leaky_relu\")(x)\n",
    "x = tf.keras.layers.Dropout(0.2)(x)\n",
    "#x = tf.keras.activations.swish(x)\n",
    "fc_out = tf.keras.layers.Dense(17, activation=\"softmax\")(x)\n",
    "\n",
    "my_model3= tf.keras.Model(inputs=fc_input, outputs=fc_out, name=\"News_Classifier\")\n",
    "\n",
    "\n",
    "opt = tf.keras.optimizers.AdamW(learning_rate =0.007 , beta_1=0.9,\n",
    "    beta_2=0.999,\n",
    "    use_ema=True,\n",
    "    ema_momentum=0.9999)\n",
    "\n",
    "\n",
    "\n",
    "\n",
    "\n",
    "my_model3.compile(optimizer = opt , \n",
    "              loss = 'categorical_crossentropy' ,\n",
    "              metrics=[tf.keras.metrics.BinaryAccuracy(name='accuracy'),\n",
    "                       tf.keras.metrics.Precision(name='precision'),\n",
    "                       tf.keras.metrics.Recall(name='recall')])\n",
    "\n",
    "\n",
    "\n",
    "\n",
    "\n",
    "my_model3.fit(X_train , y_train1 , batch_size = 16 , epochs = 10 , validation_split=(0.2) ,verbose =1)\n",
    "\n",
    "\n",
    "predictions = np.argmax(my_model3.predict(X_test), axis=-1)\n",
    "\n",
    "print(predictions)\n",
    "\n",
    "\n",
    "print(classification_report(y_test.values , predictions))"
   ]
  },
  {
   "cell_type": "code",
   "execution_count": 230,
   "id": "d9bbc5a1",
   "metadata": {
    "ExecuteTime": {
     "end_time": "2024-02-14T18:09:04.698178Z",
     "start_time": "2024-02-14T18:09:04.691767Z"
    }
   },
   "outputs": [],
   "source": [
    "#############################################################################################################################"
   ]
  },
  {
   "cell_type": "code",
   "execution_count": 237,
   "id": "e23ca6ce",
   "metadata": {
    "ExecuteTime": {
     "end_time": "2024-02-14T18:12:43.716897Z",
     "start_time": "2024-02-14T18:12:27.081276Z"
    }
   },
   "outputs": [
    {
     "name": "stdout",
     "output_type": "stream",
     "text": [
      "Epoch 1/10\n",
      "437/437 [==============================] - 3s 4ms/step - loss: 1.5412 - accuracy: 0.9531 - precision: 0.6889 - recall: 0.3696 - val_loss: 1.3762 - val_accuracy: 0.9590 - val_precision: 0.7272 - val_recall: 0.4837\n",
      "Epoch 2/10\n",
      "437/437 [==============================] - 1s 3ms/step - loss: 1.2332 - accuracy: 0.9594 - precision: 0.7222 - recall: 0.5047 - val_loss: 1.6390 - val_accuracy: 0.9524 - val_precision: 0.6296 - val_recall: 0.4631\n",
      "Epoch 3/10\n",
      "437/437 [==============================] - 1s 3ms/step - loss: 1.1459 - accuracy: 0.9631 - precision: 0.7472 - recall: 0.5634 - val_loss: 1.2936 - val_accuracy: 0.9621 - val_precision: 0.7478 - val_recall: 0.5363\n",
      "Epoch 4/10\n",
      "437/437 [==============================] - 1s 3ms/step - loss: 1.0808 - accuracy: 0.9646 - precision: 0.7531 - recall: 0.5914 - val_loss: 1.3282 - val_accuracy: 0.9598 - val_precision: 0.7025 - val_recall: 0.5501\n",
      "Epoch 5/10\n",
      "437/437 [==============================] - 1s 3ms/step - loss: 1.0472 - accuracy: 0.9660 - precision: 0.7638 - recall: 0.6100 - val_loss: 1.3009 - val_accuracy: 0.9639 - val_precision: 0.7380 - val_recall: 0.5999\n",
      "Epoch 6/10\n",
      "437/437 [==============================] - 1s 3ms/step - loss: 0.9817 - accuracy: 0.9683 - precision: 0.7796 - recall: 0.6417 - val_loss: 1.3846 - val_accuracy: 0.9638 - val_precision: 0.7380 - val_recall: 0.5965\n",
      "Epoch 7/10\n",
      "437/437 [==============================] - 2s 4ms/step - loss: 0.9382 - accuracy: 0.9689 - precision: 0.7799 - recall: 0.6564 - val_loss: 1.3724 - val_accuracy: 0.9647 - val_precision: 0.7330 - val_recall: 0.6285\n",
      "Epoch 8/10\n",
      "437/437 [==============================] - 2s 4ms/step - loss: 0.9161 - accuracy: 0.9703 - precision: 0.7916 - recall: 0.6722 - val_loss: 1.4363 - val_accuracy: 0.9640 - val_precision: 0.7325 - val_recall: 0.6113\n",
      "Epoch 9/10\n",
      "437/437 [==============================] - 1s 3ms/step - loss: 0.9130 - accuracy: 0.9701 - precision: 0.7866 - recall: 0.6739 - val_loss: 1.3394 - val_accuracy: 0.9668 - val_precision: 0.7566 - val_recall: 0.6422\n",
      "Epoch 10/10\n",
      "437/437 [==============================] - 1s 3ms/step - loss: 0.8711 - accuracy: 0.9715 - precision: 0.7987 - recall: 0.6892 - val_loss: 1.3454 - val_accuracy: 0.9662 - val_precision: 0.7520 - val_recall: 0.6354\n",
      "69/69 [==============================] - 0s 2ms/step\n",
      "[14  1  3 ... 11  9 12]\n",
      "              precision    recall  f1-score   support\n",
      "\n",
      "           0       1.00      0.09      0.16        68\n",
      "           1       0.85      0.57      0.68       176\n",
      "           2       0.89      0.33      0.48        97\n",
      "           3       0.73      0.63      0.68        90\n",
      "           4       0.89      0.45      0.60        93\n",
      "           5       0.79      0.62      0.69       108\n",
      "           6       0.88      0.71      0.78       126\n",
      "           7       0.87      0.55      0.68       136\n",
      "           8       0.75      0.32      0.45       122\n",
      "           9       0.86      0.45      0.59       155\n",
      "          10       1.00      0.11      0.21        61\n",
      "          11       0.50      0.70      0.58       172\n",
      "          12       0.73      0.67      0.70       182\n",
      "          13       0.63      0.62      0.63       151\n",
      "          14       0.23      0.89      0.37       200\n",
      "          15       0.94      0.60      0.73       169\n",
      "          16       0.94      0.78      0.85        77\n",
      "\n",
      "    accuracy                           0.58      2183\n",
      "   macro avg       0.79      0.53      0.58      2183\n",
      "weighted avg       0.75      0.58      0.60      2183\n",
      "\n"
     ]
    }
   ],
   "source": [
    "fc_input = tf.keras.Input(shape=(600,), name=\"embs\")\n",
    "x = tf.keras.layers.Dense(200, activation=\"leaky_relu\")(fc_input)\n",
    "#x = tf.keras.activations.swish(x)\n",
    "x = tf.keras.layers.Dense(360, activation=\"leaky_relu\")(x)\n",
    "x = tf.keras.layers.Dropout(0.2)(x)\n",
    "#x = tf.keras.activations.swish(x)\n",
    "fc_out = tf.keras.layers.Dense(17, activation=\"softmax\")(x)\n",
    "\n",
    "my_model6= tf.keras.Model(inputs=fc_input, outputs=fc_out, name=\"News_Classifier\")\n",
    "\n",
    "\n",
    "opt = tf.keras.optimizers.AdamW(learning_rate =0.007 , beta_1=0.9,\n",
    "    beta_2=0.999,\n",
    "    use_ema=True,\n",
    "    ema_momentum=0.9999,\n",
    "    weight_decay = 0.0005)\n",
    "\n",
    "\n",
    "\n",
    "\n",
    "\n",
    "my_model6.compile(optimizer = opt , \n",
    "              loss = 'categorical_crossentropy' ,\n",
    "              metrics=[tf.keras.metrics.BinaryAccuracy(name='accuracy'),\n",
    "                       tf.keras.metrics.Precision(name='precision'),\n",
    "                       tf.keras.metrics.Recall(name='recall')])\n",
    "\n",
    "\n",
    "\n",
    "\n",
    "\n",
    "my_model6.fit(X_train , y_train1 , batch_size = 16 , epochs = 10 , validation_split=(0.2) ,verbose =1)\n",
    "\n",
    "\n",
    "predictions = np.argmax(my_model6.predict(X_test), axis=-1)\n",
    "\n",
    "print(predictions)\n",
    "\n",
    "\n",
    "print(classification_report(y_test.values , predictions))"
   ]
  },
  {
   "cell_type": "code",
   "execution_count": 238,
   "id": "384ba2b0",
   "metadata": {
    "ExecuteTime": {
     "end_time": "2024-02-14T18:13:01.367813Z",
     "start_time": "2024-02-14T18:13:01.364462Z"
    }
   },
   "outputs": [],
   "source": [
    "#############################################################################################################################"
   ]
  },
  {
   "cell_type": "code",
   "execution_count": 260,
   "id": "d66f1dbb",
   "metadata": {
    "ExecuteTime": {
     "end_time": "2024-02-14T18:23:33.386166Z",
     "start_time": "2024-02-14T18:23:15.916457Z"
    }
   },
   "outputs": [
    {
     "name": "stdout",
     "output_type": "stream",
     "text": [
      "Epoch 1/10\n",
      "437/437 [==============================] - 3s 4ms/step - loss: 1.5354 - accuracy: 0.9531 - precision: 0.6893 - recall: 0.3691 - val_loss: 1.3021 - val_accuracy: 0.9590 - val_precision: 0.7092 - val_recall: 0.5123\n",
      "Epoch 2/10\n",
      "437/437 [==============================] - 2s 4ms/step - loss: 1.2181 - accuracy: 0.9606 - precision: 0.7325 - recall: 0.5191 - val_loss: 1.2161 - val_accuracy: 0.9623 - val_precision: 0.7411 - val_recall: 0.5507\n",
      "Epoch 3/10\n",
      "437/437 [==============================] - 2s 3ms/step - loss: 1.1410 - accuracy: 0.9634 - precision: 0.7490 - recall: 0.5685 - val_loss: 1.4788 - val_accuracy: 0.9581 - val_precision: 0.7106 - val_recall: 0.4848\n",
      "Epoch 4/10\n",
      "437/437 [==============================] - 2s 3ms/step - loss: 1.1059 - accuracy: 0.9644 - precision: 0.7544 - recall: 0.5853 - val_loss: 1.2807 - val_accuracy: 0.9626 - val_precision: 0.7232 - val_recall: 0.5907\n",
      "Epoch 5/10\n",
      "437/437 [==============================] - 1s 3ms/step - loss: 1.0261 - accuracy: 0.9663 - precision: 0.7652 - recall: 0.6162 - val_loss: 1.2804 - val_accuracy: 0.9652 - val_precision: 0.7709 - val_recall: 0.5816\n",
      "Epoch 6/10\n",
      "437/437 [==============================] - 2s 4ms/step - loss: 0.9717 - accuracy: 0.9681 - precision: 0.7787 - recall: 0.6387 - val_loss: 1.2314 - val_accuracy: 0.9643 - val_precision: 0.7581 - val_recall: 0.5776\n",
      "Epoch 7/10\n",
      "437/437 [==============================] - 1s 3ms/step - loss: 0.9367 - accuracy: 0.9694 - precision: 0.7885 - recall: 0.6548 - val_loss: 1.4254 - val_accuracy: 0.9648 - val_precision: 0.7417 - val_recall: 0.6165\n",
      "Epoch 8/10\n",
      "437/437 [==============================] - 2s 3ms/step - loss: 0.9046 - accuracy: 0.9699 - precision: 0.7910 - recall: 0.6637 - val_loss: 1.5859 - val_accuracy: 0.9604 - val_precision: 0.6870 - val_recall: 0.5993\n",
      "Epoch 9/10\n",
      "437/437 [==============================] - 2s 4ms/step - loss: 0.8938 - accuracy: 0.9704 - precision: 0.7908 - recall: 0.6754 - val_loss: 1.5765 - val_accuracy: 0.9623 - val_precision: 0.7094 - val_recall: 0.6079\n",
      "Epoch 10/10\n",
      "437/437 [==============================] - 2s 4ms/step - loss: 0.8698 - accuracy: 0.9717 - precision: 0.8017 - recall: 0.6905 - val_loss: 1.4778 - val_accuracy: 0.9644 - val_precision: 0.7357 - val_recall: 0.6165\n",
      "69/69 [==============================] - 0s 2ms/step\n",
      "[14  1  3 ... 11 14 12]\n",
      "              precision    recall  f1-score   support\n",
      "\n",
      "           0       1.00      0.07      0.14        68\n",
      "           1       0.87      0.49      0.63       176\n",
      "           2       0.81      0.56      0.66        97\n",
      "           3       0.75      0.73      0.74        90\n",
      "           4       0.96      0.25      0.39        93\n",
      "           5       0.85      0.58      0.69       108\n",
      "           6       0.95      0.59      0.73       126\n",
      "           7       0.75      0.65      0.70       136\n",
      "           8       0.70      0.51      0.59       122\n",
      "           9       0.93      0.33      0.49       155\n",
      "          10       0.90      0.30      0.44        61\n",
      "          11       0.40      0.69      0.51       172\n",
      "          12       0.75      0.72      0.73       182\n",
      "          13       0.81      0.34      0.48       151\n",
      "          14       0.27      0.91      0.41       200\n",
      "          15       0.81      0.89      0.85       169\n",
      "          16       0.93      0.82      0.87        77\n",
      "\n",
      "    accuracy                           0.59      2183\n",
      "   macro avg       0.79      0.55      0.59      2183\n",
      "weighted avg       0.75      0.59      0.60      2183\n",
      "\n"
     ]
    }
   ],
   "source": [
    "fc_input = tf.keras.Input(shape=(600,), name=\"embs\")\n",
    "x = tf.keras.layers.Dense(200, activation=\"leaky_relu\")(fc_input)\n",
    "#x = tf.keras.activations.swish(x)\n",
    "x = tf.keras.layers.Dense(360, activation=\"leaky_relu\")(x)\n",
    "x = tf.keras.layers.Dropout(0.2)(x)\n",
    "#x = tf.keras.activations.swish(x)\n",
    "fc_out = tf.keras.layers.Dense(17, activation=\"softmax\")(x)\n",
    "\n",
    "my_model7= tf.keras.Model(inputs=fc_input, outputs=fc_out, name=\"News_Classifier\")\n",
    "\n",
    "\n",
    "opt = tf.keras.optimizers.AdamW(learning_rate =0.007 , beta_1=0.9,\n",
    "    beta_2=0.999,\n",
    "    use_ema=True,\n",
    "    ema_momentum=0.9999)\n",
    "\n",
    "\n",
    "\n",
    "\n",
    "\n",
    "my_model7.compile(optimizer = opt , \n",
    "              loss = 'categorical_crossentropy' ,\n",
    "              metrics=[tf.keras.metrics.BinaryAccuracy(name='accuracy'),\n",
    "                       tf.keras.metrics.Precision(name='precision'),\n",
    "                       tf.keras.metrics.Recall(name='recall')])\n",
    "\n",
    "\n",
    "\n",
    "\n",
    "\n",
    "my_model7.fit(X_train , y_train1 , batch_size = 16 , epochs = 10 , validation_split=(0.2) ,verbose =1)\n",
    "\n",
    "\n",
    "predictions = np.argmax(my_model7.predict(X_test), axis=-1)\n",
    "\n",
    "print(predictions)\n",
    "\n",
    "\n",
    "print(classification_report(y_test.values , predictions))"
   ]
  },
  {
   "cell_type": "code",
   "execution_count": 262,
   "id": "3f95fc1d",
   "metadata": {
    "ExecuteTime": {
     "end_time": "2024-02-14T18:24:05.557010Z",
     "start_time": "2024-02-14T18:24:05.553775Z"
    }
   },
   "outputs": [],
   "source": [
    "############################################################################################################################"
   ]
  },
  {
   "cell_type": "code",
   "execution_count": 264,
   "id": "505c707d",
   "metadata": {
    "ExecuteTime": {
     "end_time": "2024-02-14T18:25:26.509296Z",
     "start_time": "2024-02-14T18:24:52.269103Z"
    }
   },
   "outputs": [
    {
     "name": "stdout",
     "output_type": "stream",
     "text": [
      "Epoch 1/20\n",
      "437/437 [==============================] - 3s 5ms/step - loss: 1.5319 - accuracy: 0.9522 - precision: 0.6732 - recall: 0.3631 - val_loss: 1.2065 - val_accuracy: 0.9616 - val_precision: 0.7452 - val_recall: 0.5289\n",
      "Epoch 2/20\n",
      "437/437 [==============================] - 2s 4ms/step - loss: 1.2314 - accuracy: 0.9609 - precision: 0.7380 - recall: 0.5201 - val_loss: 1.3648 - val_accuracy: 0.9608 - val_precision: 0.7378 - val_recall: 0.5186\n",
      "Epoch 3/20\n",
      "437/437 [==============================] - 2s 4ms/step - loss: 1.1353 - accuracy: 0.9633 - precision: 0.7503 - recall: 0.5632 - val_loss: 1.3212 - val_accuracy: 0.9621 - val_precision: 0.7354 - val_recall: 0.5552\n",
      "Epoch 4/20\n",
      "437/437 [==============================] - 2s 4ms/step - loss: 1.0689 - accuracy: 0.9648 - precision: 0.7551 - recall: 0.5936 - val_loss: 1.2892 - val_accuracy: 0.9631 - val_precision: 0.7192 - val_recall: 0.6113\n",
      "Epoch 5/20\n",
      "437/437 [==============================] - 2s 4ms/step - loss: 0.9998 - accuracy: 0.9673 - precision: 0.7748 - recall: 0.6261 - val_loss: 1.3811 - val_accuracy: 0.9610 - val_precision: 0.7086 - val_recall: 0.5736\n",
      "Epoch 6/20\n",
      "437/437 [==============================] - 2s 4ms/step - loss: 0.9863 - accuracy: 0.9681 - precision: 0.7781 - recall: 0.6409 - val_loss: 1.4514 - val_accuracy: 0.9620 - val_precision: 0.7104 - val_recall: 0.5982\n",
      "Epoch 7/20\n",
      "437/437 [==============================] - 2s 4ms/step - loss: 0.9591 - accuracy: 0.9685 - precision: 0.7788 - recall: 0.6485 - val_loss: 1.5961 - val_accuracy: 0.9599 - val_precision: 0.6829 - val_recall: 0.5942\n",
      "Epoch 8/20\n",
      "437/437 [==============================] - 2s 4ms/step - loss: 0.9088 - accuracy: 0.9698 - precision: 0.7873 - recall: 0.6667 - val_loss: 1.5301 - val_accuracy: 0.9611 - val_precision: 0.7061 - val_recall: 0.5804\n",
      "Epoch 9/20\n",
      "437/437 [==============================] - 2s 4ms/step - loss: 0.8862 - accuracy: 0.9714 - precision: 0.8009 - recall: 0.6826 - val_loss: 1.3697 - val_accuracy: 0.9637 - val_precision: 0.7236 - val_recall: 0.6188\n",
      "Epoch 10/20\n",
      "437/437 [==============================] - 2s 4ms/step - loss: 0.8460 - accuracy: 0.9719 - precision: 0.8004 - recall: 0.6963 - val_loss: 1.3959 - val_accuracy: 0.9650 - val_precision: 0.7421 - val_recall: 0.6211\n",
      "Epoch 11/20\n",
      "437/437 [==============================] - 2s 4ms/step - loss: 0.8884 - accuracy: 0.9718 - precision: 0.7982 - recall: 0.6975 - val_loss: 1.5193 - val_accuracy: 0.9637 - val_precision: 0.7188 - val_recall: 0.6291\n",
      "Epoch 12/20\n",
      "437/437 [==============================] - 2s 4ms/step - loss: 0.8040 - accuracy: 0.9732 - precision: 0.8119 - recall: 0.7095 - val_loss: 1.5411 - val_accuracy: 0.9641 - val_precision: 0.7304 - val_recall: 0.6171\n",
      "Epoch 13/20\n",
      "437/437 [==============================] - 2s 4ms/step - loss: 0.8542 - accuracy: 0.9724 - precision: 0.8004 - recall: 0.7067 - val_loss: 1.6123 - val_accuracy: 0.9638 - val_precision: 0.7254 - val_recall: 0.6199\n",
      "Epoch 14/20\n",
      "437/437 [==============================] - 2s 3ms/step - loss: 0.7825 - accuracy: 0.9741 - precision: 0.8157 - recall: 0.7230 - val_loss: 1.5464 - val_accuracy: 0.9668 - val_precision: 0.7479 - val_recall: 0.6571\n",
      "Epoch 15/20\n",
      "437/437 [==============================] - 2s 4ms/step - loss: 0.7827 - accuracy: 0.9747 - precision: 0.8188 - recall: 0.7311 - val_loss: 1.6656 - val_accuracy: 0.9627 - val_precision: 0.7008 - val_recall: 0.6394\n",
      "Epoch 16/20\n",
      "437/437 [==============================] - 2s 4ms/step - loss: 0.7725 - accuracy: 0.9750 - precision: 0.8198 - recall: 0.7369 - val_loss: 1.6608 - val_accuracy: 0.9626 - val_precision: 0.7125 - val_recall: 0.6113\n",
      "Epoch 17/20\n",
      "437/437 [==============================] - 2s 4ms/step - loss: 0.7614 - accuracy: 0.9748 - precision: 0.8175 - recall: 0.7361 - val_loss: 1.7095 - val_accuracy: 0.9641 - val_precision: 0.7196 - val_recall: 0.6377\n",
      "Epoch 18/20\n",
      "437/437 [==============================] - 2s 4ms/step - loss: 0.7576 - accuracy: 0.9749 - precision: 0.8161 - recall: 0.7394 - val_loss: 1.9046 - val_accuracy: 0.9607 - val_precision: 0.6826 - val_recall: 0.6205\n",
      "Epoch 19/20\n",
      "437/437 [==============================] - 2s 4ms/step - loss: 0.7398 - accuracy: 0.9762 - precision: 0.8281 - recall: 0.7512 - val_loss: 1.9368 - val_accuracy: 0.9604 - val_precision: 0.6790 - val_recall: 0.6188\n",
      "Epoch 20/20\n",
      "437/437 [==============================] - 2s 4ms/step - loss: 0.7532 - accuracy: 0.9754 - precision: 0.8181 - recall: 0.7489 - val_loss: 1.7641 - val_accuracy: 0.9620 - val_precision: 0.7003 - val_recall: 0.6193\n",
      "69/69 [==============================] - 0s 2ms/step\n",
      "[14  1 16 ... 11  9 12]\n",
      "              precision    recall  f1-score   support\n",
      "\n",
      "           0       0.96      0.35      0.52        68\n",
      "           1       0.87      0.62      0.73       176\n",
      "           2       0.70      0.77      0.74        97\n",
      "           3       0.76      0.73      0.75        90\n",
      "           4       0.95      0.43      0.59        93\n",
      "           5       0.67      0.78      0.72       108\n",
      "           6       0.88      0.77      0.82       126\n",
      "           7       0.78      0.74      0.76       136\n",
      "           8       0.68      0.66      0.67       122\n",
      "           9       0.89      0.59      0.71       155\n",
      "          10       0.88      0.49      0.63        61\n",
      "          11       0.52      0.74      0.62       172\n",
      "          12       0.76      0.76      0.76       182\n",
      "          13       0.75      0.56      0.64       151\n",
      "          14       0.41      0.77      0.53       200\n",
      "          15       0.86      0.92      0.89       169\n",
      "          16       0.89      0.88      0.89        77\n",
      "\n",
      "    accuracy                           0.70      2183\n",
      "   macro avg       0.78      0.68      0.70      2183\n",
      "weighted avg       0.75      0.70      0.70      2183\n",
      "\n"
     ]
    }
   ],
   "source": [
    "fc_input = tf.keras.Input(shape=(600,), name=\"embs\")\n",
    "x = tf.keras.layers.Dense(200, activation=\"leaky_relu\")(fc_input)\n",
    "#x = tf.keras.activations.swish(x)\n",
    "x = tf.keras.layers.Dense(360, activation=\"leaky_relu\")(x)\n",
    "x = tf.keras.layers.Dropout(0.2)(x)\n",
    "#x = tf.keras.activations.swish(x)\n",
    "fc_out = tf.keras.layers.Dense(17, activation=\"softmax\")(x)\n",
    "\n",
    "my_model7= tf.keras.Model(inputs=fc_input, outputs=fc_out, name=\"News_Classifier\")\n",
    "\n",
    "\n",
    "opt = tf.keras.optimizers.AdamW(learning_rate =0.007 , beta_1=0.9,\n",
    "    beta_2=0.999,\n",
    "    use_ema=True,\n",
    "    ema_momentum=0.9999)\n",
    "\n",
    "\n",
    "\n",
    "\n",
    "\n",
    "my_model7.compile(optimizer = opt , \n",
    "              loss = 'categorical_crossentropy' ,\n",
    "              metrics=[tf.keras.metrics.BinaryAccuracy(name='accuracy'),\n",
    "                       tf.keras.metrics.Precision(name='precision'),\n",
    "                       tf.keras.metrics.Recall(name='recall')])\n",
    "\n",
    "\n",
    "\n",
    "\n",
    "\n",
    "HIST = my_model7.fit(X_train , y_train1 , batch_size = 16 , epochs = 20 , validation_split=(0.2) ,verbose =1)\n",
    "\n",
    "\n",
    "predictions = np.argmax(my_model7.predict(X_test), axis=-1)\n",
    "\n",
    "print(predictions)\n",
    "\n",
    "\n",
    "print(classification_report(y_test.values , predictions))"
   ]
  },
  {
   "cell_type": "code",
   "execution_count": 161,
   "id": "01d8f804",
   "metadata": {
    "ExecuteTime": {
     "end_time": "2024-02-20T18:19:38.409228Z",
     "start_time": "2024-02-20T18:19:38.401533Z"
    },
    "scrolled": false
   },
   "outputs": [],
   "source": [
    "def plot_history(history):\n",
    "    acc = history.history['accuracy']\n",
    "    val_acc = history.history['val_accuracy']\n",
    "    loss = history.history['loss']\n",
    "    val_loss = history.history['val_loss']\n",
    "    x = range(1, len(acc) + 1)\n",
    "\n",
    "    plt.figure(figsize=(12, 5))\n",
    "    plt.subplot(1, 2, 1)\n",
    "    plt.plot(x, acc, 'b', label='Training acc')\n",
    "    plt.plot(x, val_acc, 'r', label='Validation acc')\n",
    "    plt.title('Training and validation accuracy')\n",
    "    plt.legend()\n",
    "    plt.subplot(1, 2, 2)\n",
    "    plt.plot(x, loss, 'b', label='Training loss')\n",
    "    plt.plot(x, val_loss, 'r', label='Validation loss')\n",
    "    plt.title('Training and validation loss')\n",
    "    plt.legend()\n",
    "    \n",
    "    \n",
    "    \n",
    "    \n",
    "#plot_history(HIST)"
   ]
  },
  {
   "cell_type": "code",
   "execution_count": 146,
   "id": "0181ff70",
   "metadata": {
    "ExecuteTime": {
     "end_time": "2024-02-20T18:14:26.572332Z",
     "start_time": "2024-02-20T18:14:26.568255Z"
    }
   },
   "outputs": [],
   "source": [
    "#~~~~~~~~~~~~~~~~~~~~~~~~~~~~~~~~~~~~~~~~~~~~~~~~~~~~~~~~~~~~~~~~~~~~~~~~~~~~~~~~~~~~~~~~~~~~~~~~~~~~~~~~~~~~~~~~~~~~~~~~~~~#\n",
    "#############################################################################################################################"
   ]
  },
  {
   "cell_type": "code",
   "execution_count": 127,
   "id": "bd94bd3e",
   "metadata": {
    "ExecuteTime": {
     "end_time": "2024-02-20T18:08:38.048757Z",
     "start_time": "2024-02-20T18:08:38.043587Z"
    }
   },
   "outputs": [
    {
     "data": {
      "text/plain": [
       "324.0"
      ]
     },
     "execution_count": 127,
     "metadata": {},
     "output_type": "execute_result"
    }
   ],
   "source": [
    "180*1.8"
   ]
  },
  {
   "cell_type": "code",
   "execution_count": 128,
   "id": "f8d284dc",
   "metadata": {
    "ExecuteTime": {
     "end_time": "2024-02-20T18:08:45.278087Z",
     "start_time": "2024-02-20T18:08:45.253255Z"
    }
   },
   "outputs": [
    {
     "data": {
      "text/html": [
       "<div>\n",
       "<style scoped>\n",
       "    .dataframe tbody tr th:only-of-type {\n",
       "        vertical-align: middle;\n",
       "    }\n",
       "\n",
       "    .dataframe tbody tr th {\n",
       "        vertical-align: top;\n",
       "    }\n",
       "\n",
       "    .dataframe thead th {\n",
       "        text-align: right;\n",
       "    }\n",
       "</style>\n",
       "<table border=\"1\" class=\"dataframe\">\n",
       "  <thead>\n",
       "    <tr style=\"text-align: right;\">\n",
       "      <th></th>\n",
       "      <th>0</th>\n",
       "      <th>1</th>\n",
       "      <th>2</th>\n",
       "      <th>3</th>\n",
       "      <th>4</th>\n",
       "      <th>5</th>\n",
       "      <th>6</th>\n",
       "      <th>7</th>\n",
       "      <th>8</th>\n",
       "      <th>9</th>\n",
       "      <th>...</th>\n",
       "      <th>590</th>\n",
       "      <th>591</th>\n",
       "      <th>592</th>\n",
       "      <th>593</th>\n",
       "      <th>594</th>\n",
       "      <th>595</th>\n",
       "      <th>596</th>\n",
       "      <th>597</th>\n",
       "      <th>598</th>\n",
       "      <th>599</th>\n",
       "    </tr>\n",
       "  </thead>\n",
       "  <tbody>\n",
       "    <tr>\n",
       "      <th>6365</th>\n",
       "      <td>0.042972</td>\n",
       "      <td>-0.026970</td>\n",
       "      <td>0.082598</td>\n",
       "      <td>0.056326</td>\n",
       "      <td>-0.082835</td>\n",
       "      <td>-0.043904</td>\n",
       "      <td>-0.013512</td>\n",
       "      <td>0.062725</td>\n",
       "      <td>-0.070609</td>\n",
       "      <td>0.002231</td>\n",
       "      <td>...</td>\n",
       "      <td>0.046180</td>\n",
       "      <td>0.035136</td>\n",
       "      <td>0.067707</td>\n",
       "      <td>-0.024073</td>\n",
       "      <td>0.020162</td>\n",
       "      <td>0.028918</td>\n",
       "      <td>-0.009105</td>\n",
       "      <td>-0.080018</td>\n",
       "      <td>-0.033139</td>\n",
       "      <td>-0.146715</td>\n",
       "    </tr>\n",
       "    <tr>\n",
       "      <th>157</th>\n",
       "      <td>0.107416</td>\n",
       "      <td>0.001134</td>\n",
       "      <td>0.047227</td>\n",
       "      <td>-0.008474</td>\n",
       "      <td>-0.074913</td>\n",
       "      <td>-0.084671</td>\n",
       "      <td>0.008768</td>\n",
       "      <td>0.057579</td>\n",
       "      <td>-0.014523</td>\n",
       "      <td>0.001939</td>\n",
       "      <td>...</td>\n",
       "      <td>0.029622</td>\n",
       "      <td>0.023736</td>\n",
       "      <td>0.113346</td>\n",
       "      <td>0.006454</td>\n",
       "      <td>-0.018957</td>\n",
       "      <td>0.073273</td>\n",
       "      <td>0.063576</td>\n",
       "      <td>-0.079295</td>\n",
       "      <td>-0.064057</td>\n",
       "      <td>-0.051726</td>\n",
       "    </tr>\n",
       "    <tr>\n",
       "      <th>6965</th>\n",
       "      <td>-0.009282</td>\n",
       "      <td>0.007703</td>\n",
       "      <td>0.020394</td>\n",
       "      <td>-0.006004</td>\n",
       "      <td>-0.013132</td>\n",
       "      <td>-0.048185</td>\n",
       "      <td>0.005805</td>\n",
       "      <td>0.103729</td>\n",
       "      <td>0.011492</td>\n",
       "      <td>0.023246</td>\n",
       "      <td>...</td>\n",
       "      <td>0.039360</td>\n",
       "      <td>0.000841</td>\n",
       "      <td>0.060884</td>\n",
       "      <td>0.001680</td>\n",
       "      <td>-0.012822</td>\n",
       "      <td>0.018115</td>\n",
       "      <td>-0.038773</td>\n",
       "      <td>-0.005132</td>\n",
       "      <td>-0.025598</td>\n",
       "      <td>-0.033229</td>\n",
       "    </tr>\n",
       "    <tr>\n",
       "      <th>6350</th>\n",
       "      <td>0.072587</td>\n",
       "      <td>-0.021215</td>\n",
       "      <td>0.027167</td>\n",
       "      <td>0.029208</td>\n",
       "      <td>-0.045581</td>\n",
       "      <td>-0.062709</td>\n",
       "      <td>-0.004871</td>\n",
       "      <td>0.058923</td>\n",
       "      <td>-0.045850</td>\n",
       "      <td>-0.031050</td>\n",
       "      <td>...</td>\n",
       "      <td>0.001256</td>\n",
       "      <td>0.048269</td>\n",
       "      <td>0.060344</td>\n",
       "      <td>0.003060</td>\n",
       "      <td>-0.025728</td>\n",
       "      <td>0.044791</td>\n",
       "      <td>0.026911</td>\n",
       "      <td>-0.050924</td>\n",
       "      <td>0.008124</td>\n",
       "      <td>-0.111648</td>\n",
       "    </tr>\n",
       "    <tr>\n",
       "      <th>1441</th>\n",
       "      <td>0.037438</td>\n",
       "      <td>0.003314</td>\n",
       "      <td>0.051365</td>\n",
       "      <td>0.066669</td>\n",
       "      <td>-0.047582</td>\n",
       "      <td>-0.025038</td>\n",
       "      <td>0.022082</td>\n",
       "      <td>0.063387</td>\n",
       "      <td>-0.015277</td>\n",
       "      <td>-0.006303</td>\n",
       "      <td>...</td>\n",
       "      <td>0.014011</td>\n",
       "      <td>0.008331</td>\n",
       "      <td>0.077442</td>\n",
       "      <td>-0.031182</td>\n",
       "      <td>0.000692</td>\n",
       "      <td>0.003353</td>\n",
       "      <td>-0.040218</td>\n",
       "      <td>-0.080613</td>\n",
       "      <td>-0.019301</td>\n",
       "      <td>-0.075367</td>\n",
       "    </tr>\n",
       "    <tr>\n",
       "      <th>...</th>\n",
       "      <td>...</td>\n",
       "      <td>...</td>\n",
       "      <td>...</td>\n",
       "      <td>...</td>\n",
       "      <td>...</td>\n",
       "      <td>...</td>\n",
       "      <td>...</td>\n",
       "      <td>...</td>\n",
       "      <td>...</td>\n",
       "      <td>...</td>\n",
       "      <td>...</td>\n",
       "      <td>...</td>\n",
       "      <td>...</td>\n",
       "      <td>...</td>\n",
       "      <td>...</td>\n",
       "      <td>...</td>\n",
       "      <td>...</td>\n",
       "      <td>...</td>\n",
       "      <td>...</td>\n",
       "      <td>...</td>\n",
       "      <td>...</td>\n",
       "    </tr>\n",
       "    <tr>\n",
       "      <th>5734</th>\n",
       "      <td>0.054834</td>\n",
       "      <td>-0.084066</td>\n",
       "      <td>0.041280</td>\n",
       "      <td>0.068400</td>\n",
       "      <td>-0.040769</td>\n",
       "      <td>-0.039861</td>\n",
       "      <td>-0.011619</td>\n",
       "      <td>0.081288</td>\n",
       "      <td>-0.012295</td>\n",
       "      <td>-0.001441</td>\n",
       "      <td>...</td>\n",
       "      <td>0.025923</td>\n",
       "      <td>0.039915</td>\n",
       "      <td>0.054187</td>\n",
       "      <td>-0.024489</td>\n",
       "      <td>-0.009662</td>\n",
       "      <td>-0.015956</td>\n",
       "      <td>0.021816</td>\n",
       "      <td>-0.044742</td>\n",
       "      <td>0.012687</td>\n",
       "      <td>-0.077226</td>\n",
       "    </tr>\n",
       "    <tr>\n",
       "      <th>5191</th>\n",
       "      <td>0.003374</td>\n",
       "      <td>-0.038486</td>\n",
       "      <td>0.042642</td>\n",
       "      <td>0.046518</td>\n",
       "      <td>-0.073527</td>\n",
       "      <td>-0.036063</td>\n",
       "      <td>0.019677</td>\n",
       "      <td>0.036169</td>\n",
       "      <td>-0.009721</td>\n",
       "      <td>0.020199</td>\n",
       "      <td>...</td>\n",
       "      <td>-0.001909</td>\n",
       "      <td>0.017147</td>\n",
       "      <td>0.109485</td>\n",
       "      <td>0.008540</td>\n",
       "      <td>0.037527</td>\n",
       "      <td>0.071120</td>\n",
       "      <td>0.024304</td>\n",
       "      <td>-0.131650</td>\n",
       "      <td>-0.014097</td>\n",
       "      <td>-0.090070</td>\n",
       "    </tr>\n",
       "    <tr>\n",
       "      <th>5390</th>\n",
       "      <td>0.054949</td>\n",
       "      <td>-0.063370</td>\n",
       "      <td>0.044662</td>\n",
       "      <td>0.034087</td>\n",
       "      <td>-0.028922</td>\n",
       "      <td>-0.073506</td>\n",
       "      <td>-0.045036</td>\n",
       "      <td>0.009919</td>\n",
       "      <td>-0.019363</td>\n",
       "      <td>-0.013015</td>\n",
       "      <td>...</td>\n",
       "      <td>0.033424</td>\n",
       "      <td>0.022070</td>\n",
       "      <td>0.058366</td>\n",
       "      <td>-0.042853</td>\n",
       "      <td>0.008280</td>\n",
       "      <td>-0.001300</td>\n",
       "      <td>0.027709</td>\n",
       "      <td>-0.017643</td>\n",
       "      <td>-0.014169</td>\n",
       "      <td>-0.064874</td>\n",
       "    </tr>\n",
       "    <tr>\n",
       "      <th>860</th>\n",
       "      <td>0.038307</td>\n",
       "      <td>-0.062524</td>\n",
       "      <td>0.045962</td>\n",
       "      <td>0.046214</td>\n",
       "      <td>-0.015510</td>\n",
       "      <td>-0.051149</td>\n",
       "      <td>0.051038</td>\n",
       "      <td>0.075422</td>\n",
       "      <td>-0.010983</td>\n",
       "      <td>-0.022496</td>\n",
       "      <td>...</td>\n",
       "      <td>0.038577</td>\n",
       "      <td>0.045751</td>\n",
       "      <td>0.021833</td>\n",
       "      <td>-0.049904</td>\n",
       "      <td>0.053340</td>\n",
       "      <td>-0.054384</td>\n",
       "      <td>0.021878</td>\n",
       "      <td>-0.013912</td>\n",
       "      <td>-0.023997</td>\n",
       "      <td>-0.097453</td>\n",
       "    </tr>\n",
       "    <tr>\n",
       "      <th>7270</th>\n",
       "      <td>0.060250</td>\n",
       "      <td>0.005788</td>\n",
       "      <td>0.043470</td>\n",
       "      <td>0.025772</td>\n",
       "      <td>-0.083591</td>\n",
       "      <td>-0.051735</td>\n",
       "      <td>0.014209</td>\n",
       "      <td>0.093240</td>\n",
       "      <td>-0.032035</td>\n",
       "      <td>-0.005090</td>\n",
       "      <td>...</td>\n",
       "      <td>0.019447</td>\n",
       "      <td>0.036521</td>\n",
       "      <td>0.074379</td>\n",
       "      <td>0.032936</td>\n",
       "      <td>-0.004201</td>\n",
       "      <td>0.011562</td>\n",
       "      <td>0.036140</td>\n",
       "      <td>-0.020856</td>\n",
       "      <td>0.045762</td>\n",
       "      <td>-0.073401</td>\n",
       "    </tr>\n",
       "  </tbody>\n",
       "</table>\n",
       "<p>8732 rows × 600 columns</p>\n",
       "</div>"
      ],
      "text/plain": [
       "           0         1         2         3         4         5         6    \\\n",
       "6365  0.042972 -0.026970  0.082598  0.056326 -0.082835 -0.043904 -0.013512   \n",
       "157   0.107416  0.001134  0.047227 -0.008474 -0.074913 -0.084671  0.008768   \n",
       "6965 -0.009282  0.007703  0.020394 -0.006004 -0.013132 -0.048185  0.005805   \n",
       "6350  0.072587 -0.021215  0.027167  0.029208 -0.045581 -0.062709 -0.004871   \n",
       "1441  0.037438  0.003314  0.051365  0.066669 -0.047582 -0.025038  0.022082   \n",
       "...        ...       ...       ...       ...       ...       ...       ...   \n",
       "5734  0.054834 -0.084066  0.041280  0.068400 -0.040769 -0.039861 -0.011619   \n",
       "5191  0.003374 -0.038486  0.042642  0.046518 -0.073527 -0.036063  0.019677   \n",
       "5390  0.054949 -0.063370  0.044662  0.034087 -0.028922 -0.073506 -0.045036   \n",
       "860   0.038307 -0.062524  0.045962  0.046214 -0.015510 -0.051149  0.051038   \n",
       "7270  0.060250  0.005788  0.043470  0.025772 -0.083591 -0.051735  0.014209   \n",
       "\n",
       "           7         8         9    ...       590       591       592  \\\n",
       "6365  0.062725 -0.070609  0.002231  ...  0.046180  0.035136  0.067707   \n",
       "157   0.057579 -0.014523  0.001939  ...  0.029622  0.023736  0.113346   \n",
       "6965  0.103729  0.011492  0.023246  ...  0.039360  0.000841  0.060884   \n",
       "6350  0.058923 -0.045850 -0.031050  ...  0.001256  0.048269  0.060344   \n",
       "1441  0.063387 -0.015277 -0.006303  ...  0.014011  0.008331  0.077442   \n",
       "...        ...       ...       ...  ...       ...       ...       ...   \n",
       "5734  0.081288 -0.012295 -0.001441  ...  0.025923  0.039915  0.054187   \n",
       "5191  0.036169 -0.009721  0.020199  ... -0.001909  0.017147  0.109485   \n",
       "5390  0.009919 -0.019363 -0.013015  ...  0.033424  0.022070  0.058366   \n",
       "860   0.075422 -0.010983 -0.022496  ...  0.038577  0.045751  0.021833   \n",
       "7270  0.093240 -0.032035 -0.005090  ...  0.019447  0.036521  0.074379   \n",
       "\n",
       "           593       594       595       596       597       598       599  \n",
       "6365 -0.024073  0.020162  0.028918 -0.009105 -0.080018 -0.033139 -0.146715  \n",
       "157   0.006454 -0.018957  0.073273  0.063576 -0.079295 -0.064057 -0.051726  \n",
       "6965  0.001680 -0.012822  0.018115 -0.038773 -0.005132 -0.025598 -0.033229  \n",
       "6350  0.003060 -0.025728  0.044791  0.026911 -0.050924  0.008124 -0.111648  \n",
       "1441 -0.031182  0.000692  0.003353 -0.040218 -0.080613 -0.019301 -0.075367  \n",
       "...        ...       ...       ...       ...       ...       ...       ...  \n",
       "5734 -0.024489 -0.009662 -0.015956  0.021816 -0.044742  0.012687 -0.077226  \n",
       "5191  0.008540  0.037527  0.071120  0.024304 -0.131650 -0.014097 -0.090070  \n",
       "5390 -0.042853  0.008280 -0.001300  0.027709 -0.017643 -0.014169 -0.064874  \n",
       "860  -0.049904  0.053340 -0.054384  0.021878 -0.013912 -0.023997 -0.097453  \n",
       "7270  0.032936 -0.004201  0.011562  0.036140 -0.020856  0.045762 -0.073401  \n",
       "\n",
       "[8732 rows x 600 columns]"
      ]
     },
     "execution_count": 128,
     "metadata": {},
     "output_type": "execute_result"
    }
   ],
   "source": [
    "X_train"
   ]
  },
  {
   "cell_type": "code",
   "execution_count": 140,
   "id": "1711e4aa",
   "metadata": {
    "ExecuteTime": {
     "end_time": "2024-02-20T18:12:53.246924Z",
     "start_time": "2024-02-20T18:12:53.223156Z"
    }
   },
   "outputs": [],
   "source": [
    "X_train_mean = X_train.mean()"
   ]
  },
  {
   "cell_type": "code",
   "execution_count": 142,
   "id": "cf5a6b83",
   "metadata": {
    "ExecuteTime": {
     "end_time": "2024-02-20T18:12:56.894373Z",
     "start_time": "2024-02-20T18:12:56.887113Z"
    }
   },
   "outputs": [
    {
     "data": {
      "text/plain": [
       "0      0.038894\n",
       "1     -0.014044\n",
       "2      0.038034\n",
       "3      0.042836\n",
       "4     -0.063014\n",
       "         ...   \n",
       "595    0.011992\n",
       "596   -0.001051\n",
       "597   -0.070602\n",
       "598   -0.010387\n",
       "599   -0.093032\n",
       "Length: 600, dtype: float32"
      ]
     },
     "execution_count": 142,
     "metadata": {},
     "output_type": "execute_result"
    }
   ],
   "source": [
    "X_train_mean"
   ]
  },
  {
   "cell_type": "code",
   "execution_count": 156,
   "id": "4f6f5b22",
   "metadata": {
    "ExecuteTime": {
     "end_time": "2024-02-20T18:18:55.625179Z",
     "start_time": "2024-02-20T18:18:55.612874Z"
    }
   },
   "outputs": [],
   "source": [
    "X_train_new = X_train - X_train_mean"
   ]
  },
  {
   "cell_type": "code",
   "execution_count": 157,
   "id": "c903edba",
   "metadata": {
    "ExecuteTime": {
     "end_time": "2024-02-20T18:18:55.895458Z",
     "start_time": "2024-02-20T18:18:55.866500Z"
    }
   },
   "outputs": [
    {
     "data": {
      "text/html": [
       "<div>\n",
       "<style scoped>\n",
       "    .dataframe tbody tr th:only-of-type {\n",
       "        vertical-align: middle;\n",
       "    }\n",
       "\n",
       "    .dataframe tbody tr th {\n",
       "        vertical-align: top;\n",
       "    }\n",
       "\n",
       "    .dataframe thead th {\n",
       "        text-align: right;\n",
       "    }\n",
       "</style>\n",
       "<table border=\"1\" class=\"dataframe\">\n",
       "  <thead>\n",
       "    <tr style=\"text-align: right;\">\n",
       "      <th></th>\n",
       "      <th>0</th>\n",
       "      <th>1</th>\n",
       "      <th>2</th>\n",
       "      <th>3</th>\n",
       "      <th>4</th>\n",
       "      <th>5</th>\n",
       "      <th>6</th>\n",
       "      <th>7</th>\n",
       "      <th>8</th>\n",
       "      <th>9</th>\n",
       "      <th>...</th>\n",
       "      <th>590</th>\n",
       "      <th>591</th>\n",
       "      <th>592</th>\n",
       "      <th>593</th>\n",
       "      <th>594</th>\n",
       "      <th>595</th>\n",
       "      <th>596</th>\n",
       "      <th>597</th>\n",
       "      <th>598</th>\n",
       "      <th>599</th>\n",
       "    </tr>\n",
       "  </thead>\n",
       "  <tbody>\n",
       "    <tr>\n",
       "      <th>6365</th>\n",
       "      <td>0.004078</td>\n",
       "      <td>-0.012926</td>\n",
       "      <td>0.044564</td>\n",
       "      <td>0.013490</td>\n",
       "      <td>-0.019821</td>\n",
       "      <td>0.002913</td>\n",
       "      <td>-0.028392</td>\n",
       "      <td>0.011015</td>\n",
       "      <td>-0.044711</td>\n",
       "      <td>-0.008998</td>\n",
       "      <td>...</td>\n",
       "      <td>0.025269</td>\n",
       "      <td>0.021677</td>\n",
       "      <td>-0.007567</td>\n",
       "      <td>-0.022865</td>\n",
       "      <td>0.019008</td>\n",
       "      <td>0.016926</td>\n",
       "      <td>-0.008054</td>\n",
       "      <td>-0.009415</td>\n",
       "      <td>-0.022751</td>\n",
       "      <td>-0.053683</td>\n",
       "    </tr>\n",
       "    <tr>\n",
       "      <th>157</th>\n",
       "      <td>0.068522</td>\n",
       "      <td>0.015178</td>\n",
       "      <td>0.009193</td>\n",
       "      <td>-0.051310</td>\n",
       "      <td>-0.011899</td>\n",
       "      <td>-0.037854</td>\n",
       "      <td>-0.006112</td>\n",
       "      <td>0.005869</td>\n",
       "      <td>0.011375</td>\n",
       "      <td>-0.009291</td>\n",
       "      <td>...</td>\n",
       "      <td>0.008712</td>\n",
       "      <td>0.010276</td>\n",
       "      <td>0.038072</td>\n",
       "      <td>0.007663</td>\n",
       "      <td>-0.020111</td>\n",
       "      <td>0.061280</td>\n",
       "      <td>0.064627</td>\n",
       "      <td>-0.008693</td>\n",
       "      <td>-0.053670</td>\n",
       "      <td>0.041307</td>\n",
       "    </tr>\n",
       "    <tr>\n",
       "      <th>6965</th>\n",
       "      <td>-0.048176</td>\n",
       "      <td>0.021747</td>\n",
       "      <td>-0.017640</td>\n",
       "      <td>-0.048840</td>\n",
       "      <td>0.049882</td>\n",
       "      <td>-0.001368</td>\n",
       "      <td>-0.009075</td>\n",
       "      <td>0.052019</td>\n",
       "      <td>0.037390</td>\n",
       "      <td>0.012017</td>\n",
       "      <td>...</td>\n",
       "      <td>0.018449</td>\n",
       "      <td>-0.012619</td>\n",
       "      <td>-0.014390</td>\n",
       "      <td>0.002888</td>\n",
       "      <td>-0.013976</td>\n",
       "      <td>0.006122</td>\n",
       "      <td>-0.037721</td>\n",
       "      <td>0.065470</td>\n",
       "      <td>-0.015211</td>\n",
       "      <td>0.059803</td>\n",
       "    </tr>\n",
       "    <tr>\n",
       "      <th>6350</th>\n",
       "      <td>0.033694</td>\n",
       "      <td>-0.007171</td>\n",
       "      <td>-0.010867</td>\n",
       "      <td>-0.013629</td>\n",
       "      <td>0.017433</td>\n",
       "      <td>-0.015891</td>\n",
       "      <td>-0.019751</td>\n",
       "      <td>0.007213</td>\n",
       "      <td>-0.019952</td>\n",
       "      <td>-0.042279</td>\n",
       "      <td>...</td>\n",
       "      <td>-0.019655</td>\n",
       "      <td>0.034809</td>\n",
       "      <td>-0.014929</td>\n",
       "      <td>0.004269</td>\n",
       "      <td>-0.026882</td>\n",
       "      <td>0.032799</td>\n",
       "      <td>0.027962</td>\n",
       "      <td>0.019679</td>\n",
       "      <td>0.018511</td>\n",
       "      <td>-0.018616</td>\n",
       "    </tr>\n",
       "    <tr>\n",
       "      <th>1441</th>\n",
       "      <td>-0.001456</td>\n",
       "      <td>0.017358</td>\n",
       "      <td>0.013331</td>\n",
       "      <td>0.023832</td>\n",
       "      <td>0.015432</td>\n",
       "      <td>0.021779</td>\n",
       "      <td>0.007202</td>\n",
       "      <td>0.011677</td>\n",
       "      <td>0.010621</td>\n",
       "      <td>-0.017533</td>\n",
       "      <td>...</td>\n",
       "      <td>-0.006900</td>\n",
       "      <td>-0.005128</td>\n",
       "      <td>0.002168</td>\n",
       "      <td>-0.029973</td>\n",
       "      <td>-0.000462</td>\n",
       "      <td>-0.008640</td>\n",
       "      <td>-0.039166</td>\n",
       "      <td>-0.010011</td>\n",
       "      <td>-0.008914</td>\n",
       "      <td>0.017665</td>\n",
       "    </tr>\n",
       "    <tr>\n",
       "      <th>...</th>\n",
       "      <td>...</td>\n",
       "      <td>...</td>\n",
       "      <td>...</td>\n",
       "      <td>...</td>\n",
       "      <td>...</td>\n",
       "      <td>...</td>\n",
       "      <td>...</td>\n",
       "      <td>...</td>\n",
       "      <td>...</td>\n",
       "      <td>...</td>\n",
       "      <td>...</td>\n",
       "      <td>...</td>\n",
       "      <td>...</td>\n",
       "      <td>...</td>\n",
       "      <td>...</td>\n",
       "      <td>...</td>\n",
       "      <td>...</td>\n",
       "      <td>...</td>\n",
       "      <td>...</td>\n",
       "      <td>...</td>\n",
       "      <td>...</td>\n",
       "    </tr>\n",
       "    <tr>\n",
       "      <th>5734</th>\n",
       "      <td>0.015940</td>\n",
       "      <td>-0.070021</td>\n",
       "      <td>0.003246</td>\n",
       "      <td>0.025564</td>\n",
       "      <td>0.022245</td>\n",
       "      <td>0.006957</td>\n",
       "      <td>-0.026499</td>\n",
       "      <td>0.029578</td>\n",
       "      <td>0.013603</td>\n",
       "      <td>-0.012670</td>\n",
       "      <td>...</td>\n",
       "      <td>0.005012</td>\n",
       "      <td>0.026456</td>\n",
       "      <td>-0.021087</td>\n",
       "      <td>-0.023281</td>\n",
       "      <td>-0.010816</td>\n",
       "      <td>-0.027948</td>\n",
       "      <td>0.022867</td>\n",
       "      <td>0.025860</td>\n",
       "      <td>0.023074</td>\n",
       "      <td>0.015806</td>\n",
       "    </tr>\n",
       "    <tr>\n",
       "      <th>5191</th>\n",
       "      <td>-0.035519</td>\n",
       "      <td>-0.024442</td>\n",
       "      <td>0.004608</td>\n",
       "      <td>0.003682</td>\n",
       "      <td>-0.010513</td>\n",
       "      <td>0.010754</td>\n",
       "      <td>0.004797</td>\n",
       "      <td>-0.015541</td>\n",
       "      <td>0.016177</td>\n",
       "      <td>0.008970</td>\n",
       "      <td>...</td>\n",
       "      <td>-0.022820</td>\n",
       "      <td>0.003687</td>\n",
       "      <td>0.034211</td>\n",
       "      <td>0.009749</td>\n",
       "      <td>0.036373</td>\n",
       "      <td>0.059128</td>\n",
       "      <td>0.025355</td>\n",
       "      <td>-0.061048</td>\n",
       "      <td>-0.003710</td>\n",
       "      <td>0.002962</td>\n",
       "    </tr>\n",
       "    <tr>\n",
       "      <th>5390</th>\n",
       "      <td>0.016055</td>\n",
       "      <td>-0.049326</td>\n",
       "      <td>0.006628</td>\n",
       "      <td>-0.008749</td>\n",
       "      <td>0.034092</td>\n",
       "      <td>-0.026689</td>\n",
       "      <td>-0.059916</td>\n",
       "      <td>-0.041791</td>\n",
       "      <td>0.006535</td>\n",
       "      <td>-0.024244</td>\n",
       "      <td>...</td>\n",
       "      <td>0.012514</td>\n",
       "      <td>0.008610</td>\n",
       "      <td>-0.016908</td>\n",
       "      <td>-0.041645</td>\n",
       "      <td>0.007126</td>\n",
       "      <td>-0.013292</td>\n",
       "      <td>0.028760</td>\n",
       "      <td>0.052960</td>\n",
       "      <td>-0.003782</td>\n",
       "      <td>0.028158</td>\n",
       "    </tr>\n",
       "    <tr>\n",
       "      <th>860</th>\n",
       "      <td>-0.000587</td>\n",
       "      <td>-0.048480</td>\n",
       "      <td>0.007928</td>\n",
       "      <td>0.003378</td>\n",
       "      <td>0.047504</td>\n",
       "      <td>-0.004332</td>\n",
       "      <td>0.036158</td>\n",
       "      <td>0.023712</td>\n",
       "      <td>0.014915</td>\n",
       "      <td>-0.033725</td>\n",
       "      <td>...</td>\n",
       "      <td>0.017666</td>\n",
       "      <td>0.032291</td>\n",
       "      <td>-0.053441</td>\n",
       "      <td>-0.048695</td>\n",
       "      <td>0.052186</td>\n",
       "      <td>-0.066377</td>\n",
       "      <td>0.022929</td>\n",
       "      <td>0.056690</td>\n",
       "      <td>-0.013610</td>\n",
       "      <td>-0.004421</td>\n",
       "    </tr>\n",
       "    <tr>\n",
       "      <th>7270</th>\n",
       "      <td>0.021357</td>\n",
       "      <td>0.019832</td>\n",
       "      <td>0.005436</td>\n",
       "      <td>-0.017065</td>\n",
       "      <td>-0.020577</td>\n",
       "      <td>-0.004917</td>\n",
       "      <td>-0.000671</td>\n",
       "      <td>0.041530</td>\n",
       "      <td>-0.006137</td>\n",
       "      <td>-0.016319</td>\n",
       "      <td>...</td>\n",
       "      <td>-0.001464</td>\n",
       "      <td>0.023061</td>\n",
       "      <td>-0.000894</td>\n",
       "      <td>0.034145</td>\n",
       "      <td>-0.005355</td>\n",
       "      <td>-0.000430</td>\n",
       "      <td>0.037192</td>\n",
       "      <td>0.049747</td>\n",
       "      <td>0.056149</td>\n",
       "      <td>0.019631</td>\n",
       "    </tr>\n",
       "  </tbody>\n",
       "</table>\n",
       "<p>8732 rows × 600 columns</p>\n",
       "</div>"
      ],
      "text/plain": [
       "           0         1         2         3         4         5         6    \\\n",
       "6365  0.004078 -0.012926  0.044564  0.013490 -0.019821  0.002913 -0.028392   \n",
       "157   0.068522  0.015178  0.009193 -0.051310 -0.011899 -0.037854 -0.006112   \n",
       "6965 -0.048176  0.021747 -0.017640 -0.048840  0.049882 -0.001368 -0.009075   \n",
       "6350  0.033694 -0.007171 -0.010867 -0.013629  0.017433 -0.015891 -0.019751   \n",
       "1441 -0.001456  0.017358  0.013331  0.023832  0.015432  0.021779  0.007202   \n",
       "...        ...       ...       ...       ...       ...       ...       ...   \n",
       "5734  0.015940 -0.070021  0.003246  0.025564  0.022245  0.006957 -0.026499   \n",
       "5191 -0.035519 -0.024442  0.004608  0.003682 -0.010513  0.010754  0.004797   \n",
       "5390  0.016055 -0.049326  0.006628 -0.008749  0.034092 -0.026689 -0.059916   \n",
       "860  -0.000587 -0.048480  0.007928  0.003378  0.047504 -0.004332  0.036158   \n",
       "7270  0.021357  0.019832  0.005436 -0.017065 -0.020577 -0.004917 -0.000671   \n",
       "\n",
       "           7         8         9    ...       590       591       592  \\\n",
       "6365  0.011015 -0.044711 -0.008998  ...  0.025269  0.021677 -0.007567   \n",
       "157   0.005869  0.011375 -0.009291  ...  0.008712  0.010276  0.038072   \n",
       "6965  0.052019  0.037390  0.012017  ...  0.018449 -0.012619 -0.014390   \n",
       "6350  0.007213 -0.019952 -0.042279  ... -0.019655  0.034809 -0.014929   \n",
       "1441  0.011677  0.010621 -0.017533  ... -0.006900 -0.005128  0.002168   \n",
       "...        ...       ...       ...  ...       ...       ...       ...   \n",
       "5734  0.029578  0.013603 -0.012670  ...  0.005012  0.026456 -0.021087   \n",
       "5191 -0.015541  0.016177  0.008970  ... -0.022820  0.003687  0.034211   \n",
       "5390 -0.041791  0.006535 -0.024244  ...  0.012514  0.008610 -0.016908   \n",
       "860   0.023712  0.014915 -0.033725  ...  0.017666  0.032291 -0.053441   \n",
       "7270  0.041530 -0.006137 -0.016319  ... -0.001464  0.023061 -0.000894   \n",
       "\n",
       "           593       594       595       596       597       598       599  \n",
       "6365 -0.022865  0.019008  0.016926 -0.008054 -0.009415 -0.022751 -0.053683  \n",
       "157   0.007663 -0.020111  0.061280  0.064627 -0.008693 -0.053670  0.041307  \n",
       "6965  0.002888 -0.013976  0.006122 -0.037721  0.065470 -0.015211  0.059803  \n",
       "6350  0.004269 -0.026882  0.032799  0.027962  0.019679  0.018511 -0.018616  \n",
       "1441 -0.029973 -0.000462 -0.008640 -0.039166 -0.010011 -0.008914  0.017665  \n",
       "...        ...       ...       ...       ...       ...       ...       ...  \n",
       "5734 -0.023281 -0.010816 -0.027948  0.022867  0.025860  0.023074  0.015806  \n",
       "5191  0.009749  0.036373  0.059128  0.025355 -0.061048 -0.003710  0.002962  \n",
       "5390 -0.041645  0.007126 -0.013292  0.028760  0.052960 -0.003782  0.028158  \n",
       "860  -0.048695  0.052186 -0.066377  0.022929  0.056690 -0.013610 -0.004421  \n",
       "7270  0.034145 -0.005355 -0.000430  0.037192  0.049747  0.056149  0.019631  \n",
       "\n",
       "[8732 rows x 600 columns]"
      ]
     },
     "execution_count": 157,
     "metadata": {},
     "output_type": "execute_result"
    }
   ],
   "source": [
    "X_train_new"
   ]
  },
  {
   "cell_type": "code",
   "execution_count": 158,
   "id": "da9b68dd",
   "metadata": {
    "ExecuteTime": {
     "end_time": "2024-02-20T18:18:56.194924Z",
     "start_time": "2024-02-20T18:18:56.184824Z"
    }
   },
   "outputs": [],
   "source": [
    "X_test_new = X_test - X_test.mean()"
   ]
  },
  {
   "cell_type": "code",
   "execution_count": 151,
   "id": "1265db2e",
   "metadata": {
    "ExecuteTime": {
     "end_time": "2024-02-20T18:16:41.236917Z",
     "start_time": "2024-02-20T18:16:22.989210Z"
    }
   },
   "outputs": [
    {
     "name": "stdout",
     "output_type": "stream",
     "text": [
      "Epoch 1/10\n",
      "437/437 [==============================] - 3s 4ms/step - loss: 1.3199 - accuracy: 0.9591 - precision: 0.7331 - recall: 0.4797 - val_loss: 1.1293 - val_accuracy: 0.9638 - val_precision: 0.7563 - val_recall: 0.5667\n",
      "Epoch 2/10\n",
      "437/437 [==============================] - 2s 3ms/step - loss: 0.9953 - accuracy: 0.9673 - precision: 0.7785 - recall: 0.6215 - val_loss: 1.1321 - val_accuracy: 0.9658 - val_precision: 0.7692 - val_recall: 0.5970\n",
      "Epoch 3/10\n",
      "437/437 [==============================] - 2s 4ms/step - loss: 0.8817 - accuracy: 0.9704 - precision: 0.7944 - recall: 0.6699 - val_loss: 1.1973 - val_accuracy: 0.9647 - val_precision: 0.7346 - val_recall: 0.6274\n",
      "Epoch 4/10\n",
      "437/437 [==============================] - 2s 4ms/step - loss: 0.8068 - accuracy: 0.9728 - precision: 0.8092 - recall: 0.7039 - val_loss: 1.2486 - val_accuracy: 0.9655 - val_precision: 0.7441 - val_recall: 0.6308\n",
      "Epoch 5/10\n",
      "437/437 [==============================] - 2s 4ms/step - loss: 0.7551 - accuracy: 0.9748 - precision: 0.8224 - recall: 0.7280 - val_loss: 1.3862 - val_accuracy: 0.9646 - val_precision: 0.7312 - val_recall: 0.6291\n",
      "Epoch 6/10\n",
      "437/437 [==============================] - 2s 4ms/step - loss: 0.6826 - accuracy: 0.9769 - precision: 0.8381 - recall: 0.7535 - val_loss: 1.4164 - val_accuracy: 0.9656 - val_precision: 0.7391 - val_recall: 0.6422\n",
      "Epoch 7/10\n",
      "437/437 [==============================] - 2s 4ms/step - loss: 0.6283 - accuracy: 0.9780 - precision: 0.8420 - recall: 0.7705 - val_loss: 1.5768 - val_accuracy: 0.9659 - val_precision: 0.7344 - val_recall: 0.6583\n",
      "Epoch 8/10\n",
      "437/437 [==============================] - 2s 4ms/step - loss: 0.6652 - accuracy: 0.9785 - precision: 0.8426 - recall: 0.7811 - val_loss: 1.4839 - val_accuracy: 0.9662 - val_precision: 0.7377 - val_recall: 0.6600\n",
      "Epoch 9/10\n",
      "437/437 [==============================] - 2s 4ms/step - loss: 0.5797 - accuracy: 0.9804 - precision: 0.8572 - recall: 0.7991 - val_loss: 1.7901 - val_accuracy: 0.9636 - val_precision: 0.7080 - val_recall: 0.6497\n",
      "Epoch 10/10\n",
      "437/437 [==============================] - 2s 4ms/step - loss: 0.5692 - accuracy: 0.9811 - precision: 0.8597 - recall: 0.8112 - val_loss: 1.7579 - val_accuracy: 0.9645 - val_precision: 0.7153 - val_recall: 0.6600\n",
      "69/69 [==============================] - 0s 2ms/step\n",
      "[14  1 16 ... 11  9 12]\n",
      "              precision    recall  f1-score   support\n",
      "\n",
      "           0       0.86      0.35      0.50        68\n",
      "           1       0.84      0.72      0.78       176\n",
      "           2       0.92      0.49      0.64        97\n",
      "           3       0.77      0.69      0.73        90\n",
      "           4       0.94      0.49      0.65        93\n",
      "           5       0.79      0.68      0.73       108\n",
      "           6       0.88      0.71      0.78       126\n",
      "           7       0.70      0.82      0.76       136\n",
      "           8       0.76      0.56      0.64       122\n",
      "           9       0.90      0.63      0.74       155\n",
      "          10       0.94      0.26      0.41        61\n",
      "          11       0.53      0.76      0.62       172\n",
      "          12       0.81      0.75      0.78       182\n",
      "          13       0.62      0.70      0.66       151\n",
      "          14       0.40      0.81      0.53       200\n",
      "          15       0.86      0.92      0.89       169\n",
      "          16       0.88      0.94      0.91        77\n",
      "\n",
      "    accuracy                           0.70      2183\n",
      "   macro avg       0.79      0.66      0.69      2183\n",
      "weighted avg       0.76      0.70      0.70      2183\n",
      "\n"
     ]
    }
   ],
   "source": [
    "fc_input = tf.keras.Input(shape=(600,), name=\"embs\")\n",
    "x = tf.keras.layers.Dense(200, activation=\"leaky_relu\")(fc_input)\n",
    "#x = tf.keras.activations.swish(x)\n",
    "x = tf.keras.layers.Dense(360, activation=\"leaky_relu\")(x)\n",
    "x = tf.keras.layers.Dropout(0.2)(x)\n",
    "#x = tf.keras.activations.swish(x)\n",
    "fc_out = tf.keras.layers.Dense(17, activation=\"softmax\")(x)\n",
    "\n",
    "my_model7= tf.keras.Model(inputs=fc_input, outputs=fc_out, name=\"News_Classifier\")\n",
    "\n",
    "\n",
    "opt = tf.keras.optimizers.AdamW(learning_rate =0.007 , beta_1=0.9,\n",
    "    beta_2=0.999,\n",
    "    use_ema=True,\n",
    "    ema_momentum=0.9999)\n",
    "\n",
    "\n",
    "\n",
    "\n",
    "\n",
    "my_model7.compile(optimizer = opt , \n",
    "              loss = 'categorical_crossentropy' ,\n",
    "              metrics=[tf.keras.metrics.BinaryAccuracy(name='accuracy'),\n",
    "                       tf.keras.metrics.Precision(name='precision'),\n",
    "                       tf.keras.metrics.Recall(name='recall')])\n",
    "\n",
    "\n",
    "\n",
    "\n",
    "\n",
    "HIST = my_model7.fit(X_train_new , y_train1 , batch_size = 16 , epochs = 10 , validation_split=(0.2) ,verbose =1)\n",
    "\n",
    "\n",
    "predictions = np.argmax(my_model7.predict(X_test_new), axis=-1)\n",
    "\n",
    "print(predictions)\n",
    "\n",
    "\n",
    "print(classification_report(y_test.values , predictions))"
   ]
  },
  {
   "cell_type": "code",
   "execution_count": 183,
   "id": "03e4de21",
   "metadata": {
    "ExecuteTime": {
     "end_time": "2024-02-20T18:32:19.853488Z",
     "start_time": "2024-02-20T18:32:03.040640Z"
    }
   },
   "outputs": [
    {
     "name": "stdout",
     "output_type": "stream",
     "text": [
      "Epoch 1/10\n",
      "437/437 [==============================] - 3s 4ms/step - loss: 1.3404 - accuracy: 0.9580 - precision: 0.7185 - recall: 0.4696 - val_loss: 1.2903 - val_accuracy: 0.9597 - val_precision: 0.7126 - val_recall: 0.5266\n",
      "Epoch 2/10\n",
      "437/437 [==============================] - 1s 3ms/step - loss: 1.0072 - accuracy: 0.9671 - precision: 0.7785 - recall: 0.6170 - val_loss: 1.2104 - val_accuracy: 0.9645 - val_precision: 0.7442 - val_recall: 0.6045\n",
      "Epoch 3/10\n",
      "437/437 [==============================] - 1s 3ms/step - loss: 0.8847 - accuracy: 0.9709 - precision: 0.8021 - recall: 0.6697 - val_loss: 1.2539 - val_accuracy: 0.9642 - val_precision: 0.7386 - val_recall: 0.6050\n",
      "Epoch 4/10\n",
      "437/437 [==============================] - 1s 3ms/step - loss: 0.7938 - accuracy: 0.9724 - precision: 0.8062 - recall: 0.6988 - val_loss: 1.4029 - val_accuracy: 0.9627 - val_precision: 0.7094 - val_recall: 0.6205\n",
      "Epoch 5/10\n",
      "437/437 [==============================] - 2s 4ms/step - loss: 0.7526 - accuracy: 0.9747 - precision: 0.8207 - recall: 0.7300 - val_loss: 1.3902 - val_accuracy: 0.9652 - val_precision: 0.7346 - val_recall: 0.6400\n",
      "Epoch 6/10\n",
      "437/437 [==============================] - 2s 4ms/step - loss: 0.6758 - accuracy: 0.9774 - precision: 0.8395 - recall: 0.7608 - val_loss: 1.6969 - val_accuracy: 0.9626 - val_precision: 0.7059 - val_recall: 0.6251\n",
      "Epoch 7/10\n",
      "437/437 [==============================] - 2s 3ms/step - loss: 0.6495 - accuracy: 0.9783 - precision: 0.8426 - recall: 0.7771 - val_loss: 1.6559 - val_accuracy: 0.9633 - val_precision: 0.7061 - val_recall: 0.6451\n",
      "Epoch 8/10\n",
      "437/437 [==============================] - 1s 3ms/step - loss: 0.6137 - accuracy: 0.9793 - precision: 0.8495 - recall: 0.7868 - val_loss: 1.7181 - val_accuracy: 0.9637 - val_precision: 0.7104 - val_recall: 0.6474\n",
      "Epoch 9/10\n",
      "437/437 [==============================] - 1s 3ms/step - loss: 0.5696 - accuracy: 0.9804 - precision: 0.8550 - recall: 0.8034 - val_loss: 1.9445 - val_accuracy: 0.9621 - val_precision: 0.6939 - val_recall: 0.6359\n",
      "Epoch 10/10\n",
      "437/437 [==============================] - 1s 3ms/step - loss: 0.5783 - accuracy: 0.9815 - precision: 0.8635 - recall: 0.8145 - val_loss: 1.8116 - val_accuracy: 0.9650 - val_precision: 0.7162 - val_recall: 0.6703\n",
      "69/69 [==============================] - 0s 2ms/step\n",
      "[14  1  3 ... 11  9 12]\n",
      "              precision    recall  f1-score   support\n",
      "\n",
      "           0       0.94      0.25      0.40        68\n",
      "           1       0.89      0.55      0.68       176\n",
      "           2       0.85      0.63      0.72        97\n",
      "           3       0.68      0.79      0.73        90\n",
      "           4       0.94      0.47      0.63        93\n",
      "           5       0.74      0.70      0.72       108\n",
      "           6       0.87      0.80      0.83       126\n",
      "           7       0.81      0.62      0.71       136\n",
      "           8       0.80      0.57      0.67       122\n",
      "           9       0.90      0.52      0.66       155\n",
      "          10       0.90      0.43      0.58        61\n",
      "          11       0.48      0.74      0.58       172\n",
      "          12       0.77      0.68      0.72       182\n",
      "          13       0.66      0.66      0.66       151\n",
      "          14       0.34      0.83      0.48       200\n",
      "          15       0.90      0.86      0.88       169\n",
      "          16       0.91      0.83      0.87        77\n",
      "\n",
      "    accuracy                           0.67      2183\n",
      "   macro avg       0.79      0.64      0.68      2183\n",
      "weighted avg       0.76      0.67      0.68      2183\n",
      "\n"
     ]
    }
   ],
   "source": [
    "fc_input = tf.keras.Input(shape=(600,), name=\"embs\")\n",
    "x = tf.keras.layers.Dense(200, activation=\"leaky_relu\")(fc_input)\n",
    "#x = tf.keras.activations.swish(x)\n",
    "x = tf.keras.layers.Dense(360, activation=\"leaky_relu\")(x)\n",
    "x = tf.keras.layers.Dropout(0.2)(x)\n",
    "#x = tf.keras.activations.swish(x)\n",
    "fc_out = tf.keras.layers.Dense(17, activation=\"softmax\")(x)\n",
    "\n",
    "my_model7= tf.keras.Model(inputs=fc_input, outputs=fc_out, name=\"News_Classifier\")\n",
    "\n",
    "\n",
    "opt = tf.keras.optimizers.AdamW(learning_rate =0.007 , beta_1=0.9,\n",
    "    beta_2=0.999,\n",
    "    use_ema=True,\n",
    "    ema_momentum=0.9999 , \n",
    "    weight_decay = 0.0003)\n",
    "\n",
    "\n",
    "\n",
    "\n",
    "\n",
    "my_model7.compile(optimizer = opt, \n",
    "              loss = 'categorical_crossentropy' ,\n",
    "              metrics=[tf.keras.metrics.BinaryAccuracy(name='accuracy'),\n",
    "                       tf.keras.metrics.Precision(name='precision'),\n",
    "                       tf.keras.metrics.Recall(name='recall')])\n",
    "\n",
    "\n",
    "\n",
    "\n",
    "\n",
    "HIST = my_model7.fit(X_train_new , y_train1 , batch_size = 16 , epochs = 10 , validation_split=(0.2) ,verbose =1)\n",
    "\n",
    "\n",
    "predictions = np.argmax(my_model7.predict(X_test_new), axis=-1)\n",
    "\n",
    "print(predictions)\n",
    "\n",
    "\n",
    "print(classification_report(y_test.values , predictions))"
   ]
  },
  {
   "cell_type": "code",
   "execution_count": 181,
   "id": "4bd80892",
   "metadata": {
    "ExecuteTime": {
     "end_time": "2024-02-20T18:31:19.118723Z",
     "start_time": "2024-02-20T18:31:18.706048Z"
    }
   },
   "outputs": [
    {
     "data": {
      "image/png": "[encoded data removed]",
      "text/plain": [
       "<Figure size 1200x500 with 2 Axes>"
      ]
     },
     "metadata": {},
     "output_type": "display_data"
    }
   ],
   "source": [
    "plot_history(HIST)"
   ]
  },
  {
   "cell_type": "code",
   "execution_count": null,
   "id": "7bd07bf1",
   "metadata": {},
   "outputs": [],
   "source": []
  }
 ],
 "metadata": {
  "hide_input": false,
  "kernelspec": {
   "display_name": "Python 3 (ipykernel)",
   "language": "python",
   "name": "python3"
  },
  "language_info": {
   "codemirror_mode": {
    "name": "ipython",
    "version": 3
   },
   "file_extension": ".py",
   "mimetype": "text/x-python",
   "name": "python",
   "nbconvert_exporter": "python",
   "pygments_lexer": "ipython3",
   "version": "3.11.5"
  },
  "nbTranslate": {
   "displayLangs": [
    "*"
   ],
   "hotkey": "alt-t",
   "langInMainMenu": true,
   "sourceLang": "en",
   "targetLang": "fr",
   "useGoogleTranslate": true
  },
  "toc": {
   "base_numbering": 1,
   "nav_menu": {},
   "number_sections": true,
   "sideBar": true,
   "skip_h1_title": false,
   "title_cell": "Table of Contents",
   "title_sidebar": "Contents",
   "toc_cell": false,
   "toc_position": {},
   "toc_section_display": true,
   "toc_window_display": false
  },
  "varInspector": {
   "cols": {
    "lenName": 16,
    "lenType": 16,
    "lenVar": 40
   },
   "kernels_config": {
    "python": {
     "delete_cmd_postfix": "",
     "delete_cmd_prefix": "del ",
     "library": "var_list.py",
     "varRefreshCmd": "print(var_dic_list())"
    },
    "r": {
     "delete_cmd_postfix": ") ",
     "delete_cmd_prefix": "rm(",
     "library": "var_list.r",
     "varRefreshCmd": "cat(var_dic_list()) "
    }
   },
   "types_to_exclude": [
    "module",
    "function",
    "builtin_function_or_method",
    "instance",
    "_Feature"
   ],
   "window_display": false
  }
 },
 "nbformat": 4,
 "nbformat_minor": 5
}
