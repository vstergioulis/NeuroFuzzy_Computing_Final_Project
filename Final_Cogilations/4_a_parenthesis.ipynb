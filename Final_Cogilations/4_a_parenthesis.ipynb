{
 "cells": [
  {
   "cell_type": "code",
   "execution_count": 1,
   "id": "1d2774f6",
   "metadata": {
    "ExecuteTime": {
     "end_time": "2024-02-14T14:17:53.325544Z",
     "start_time": "2024-02-14T14:17:41.335224Z"
    }
   },
   "outputs": [
    {
     "name": "stdout",
     "output_type": "stream",
     "text": [
      "WARNING:tensorflow:From C:\\Users\\Desktop\\anaconda3\\Lib\\site-packages\\keras\\src\\losses.py:2976: The name tf.losses.sparse_softmax_cross_entropy is deprecated. Please use tf.compat.v1.losses.sparse_softmax_cross_entropy instead.\n",
      "\n"
     ]
    }
   ],
   "source": [
    "import numpy as np\n",
    "import pandas as pd\n",
    "import matplotlib.pyplot as plt\n",
    "\n",
    "from tensorflow.keras.models import Sequential\n",
    "from tensorflow.keras.layers import Dense, Activation\n",
    "import tensorflow as tf\n",
    "\n",
    "from sklearn.model_selection import train_test_split\n",
    "from sklearn.preprocessing import LabelEncoder\n",
    "from sklearn.preprocessing import MinMaxScaler\n",
    "import gensim\n",
    "\n",
    "from gensim.models import Word2Vec, KeyedVectors\n",
    "\n",
    "from nltk.stem import WordNetLemmatizer\n",
    "from nltk.corpus import stopwords\n",
    "from nltk.tokenize import RegexpTokenizer\n",
    "import re\n",
    "import matplotlib.pyplot as plt\n",
    "import nltk\n",
    "\n",
    "from tensorflow.keras.utils import to_categorical"
   ]
  },
  {
   "cell_type": "code",
   "execution_count": 2,
   "id": "f44d5510",
   "metadata": {
    "ExecuteTime": {
     "end_time": "2024-02-14T14:18:41.016408Z",
     "start_time": "2024-02-14T14:18:40.393605Z"
    }
   },
   "outputs": [
    {
     "data": {
      "text/plain": [
       "category_level_1\n",
       "arts, culture, entertainment and media        300\n",
       "conflict, war and peace                       800\n",
       "crime, law and justice                        500\n",
       "disaster, accident and emergency incident     500\n",
       "economy, business and finance                 400\n",
       "education                                     607\n",
       "environment                                   600\n",
       "health                                        700\n",
       "human interest                                600\n",
       "labour                                        703\n",
       "lifestyle and leisure                         300\n",
       "politics                                      900\n",
       "religion and belief                           800\n",
       "science and technology                        800\n",
       "society                                      1100\n",
       "sport                                         907\n",
       "weather                                       400\n",
       "Name: data_id, dtype: int64"
      ]
     },
     "execution_count": 2,
     "metadata": {},
     "output_type": "execute_result"
    }
   ],
   "source": [
    "data = pd.read_csv(\"data/news_class.csv\")\n",
    "\n",
    "df = data.copy() # to be safe and avoid errors\n",
    "\n",
    "df = df.loc[:,[\"data_id\" , \"content\" , \"category_level_1\" , \"category_level_2\"]]\n",
    "df.groupby(['category_level_1'])['data_id'].agg('count')"
   ]
  },
  {
   "cell_type": "code",
   "execution_count": 3,
   "id": "3b13b37f",
   "metadata": {
    "ExecuteTime": {
     "end_time": "2024-02-14T14:18:47.814962Z",
     "start_time": "2024-02-14T14:18:47.810191Z"
    }
   },
   "outputs": [],
   "source": [
    "def labeler(dataframe_column):\n",
    "    encoder=LabelEncoder()\n",
    "    \n",
    "    labels = encoder.fit_transform(dataframe_column)\n",
    "    print(encoder.classes_)\n",
    "    print(\"We did it boys , labels have been created\")\n",
    "    \n",
    "    return(pd.DataFrame(labels))"
   ]
  },
  {
   "cell_type": "code",
   "execution_count": 4,
   "id": "7e4532ac",
   "metadata": {
    "ExecuteTime": {
     "end_time": "2024-02-14T14:19:01.934018Z",
     "start_time": "2024-02-14T14:19:01.924505Z"
    }
   },
   "outputs": [],
   "source": [
    "# Function for removing ASCII characters\n",
    "def _removeNonAscii(s):\n",
    "    return \"\".join(i for i in s if  ord(i)<128)\n",
    "\n",
    "# Function for converting to lower case\n",
    "def make_lower_case(text):\n",
    "    return text.lower()\n",
    "\n",
    "# Function for removing stop words\n",
    "\n",
    "def remove_stop_words(text):\n",
    "    tokenizer = RegexpTokenizer(r'\\w+')\n",
    "    text =  tokenizer.tokenize(text)\n",
    "    stops = set(stopwords.words(\"english\"))\n",
    "    text = [w for w in text if not w in stops]\n",
    "    text = \" \".join(text)\n",
    "    return text\n",
    "\n",
    "\n",
    "# Function for removing html\n",
    "def remove_html(text):\n",
    "    html_pattern = re.compile('<.*?>')\n",
    "    return html_pattern.sub(r'', text)\n",
    "\n",
    "# Function for removing punctuation\n",
    "def remove_punctuation(text):\n",
    "    tokenizer = RegexpTokenizer(r'\\w+')\n",
    "    text = tokenizer.tokenize(text)\n",
    "    text = \" \".join(text)\n",
    "    return text\n",
    "\n",
    "def lemm_text(text):\n",
    "    lemm=WordNetLemmatizer()\n",
    "    tokenizer = RegexpTokenizer(r'\\w+')\n",
    "    text = tokenizer.tokenize(text)\n",
    "    tokens = text\n",
    "    return ' '.join([lemm.lemmatize(t) for t in tokens])\n",
    "\n",
    "\n",
    "def remove_digits(text):\n",
    "    text = re.sub(r'\\d', '', text)\n",
    "    #text = \" \".join(text)\n",
    "    return text"
   ]
  },
  {
   "cell_type": "code",
   "execution_count": 5,
   "id": "7cce073d",
   "metadata": {
    "ExecuteTime": {
     "end_time": "2024-02-14T14:19:45.739854Z",
     "start_time": "2024-02-14T14:19:09.123638Z"
    }
   },
   "outputs": [],
   "source": [
    "df['Cleaned'] = df['content'].apply(_removeNonAscii)\n",
    "df['Cleaned'] = df.Cleaned.apply(func = make_lower_case)\n",
    "df['Cleaned'] = df.Cleaned.apply(func = remove_stop_words)\n",
    "df['Cleaned'] = df.Cleaned.apply(func = remove_punctuation)\n",
    "df['Cleaned'] = df.Cleaned.apply(func = remove_html)\n",
    "df['Cleaned'] = df.Cleaned.apply(func = lemm_text)\n",
    "df['Cleaned'] = df.Cleaned.apply(func = remove_digits)\n",
    "df = df.drop('content' , axis =1)"
   ]
  },
  {
   "cell_type": "code",
   "execution_count": 6,
   "id": "9d2c409e",
   "metadata": {
    "ExecuteTime": {
     "end_time": "2024-02-14T14:19:46.489842Z",
     "start_time": "2024-02-14T14:19:45.761167Z"
    }
   },
   "outputs": [],
   "source": [
    "io = df.copy()\n",
    "\n",
    "io = io.drop([374]).reset_index(drop=True)\n",
    "io = io.drop([6527]).reset_index(drop=True)\n",
    "\n",
    "corpus_full = []\n",
    "for words in io['Cleaned']:\n",
    "    corpus_full.append(words.split()) "
   ]
  },
  {
   "cell_type": "code",
   "execution_count": 7,
   "id": "dcdec839",
   "metadata": {
    "ExecuteTime": {
     "end_time": "2024-02-14T14:19:48.444068Z",
     "start_time": "2024-02-14T14:19:48.433829Z"
    }
   },
   "outputs": [],
   "source": [
    "def vectorizer():\n",
    "    \n",
    "    \n",
    "    # Creating a list for storing the vectors ('Description' into vectors)\n",
    "    #global word_embeddings\n",
    "    word_embeddings = []\n",
    "    i = 0\n",
    "    # Reading the each 'Description'\n",
    "    for line in io['Cleaned']:\n",
    "        avgword2vec = None\n",
    "        count = 0\n",
    "        for word in line.split():\n",
    "            if word in model.wv.key_to_index:\n",
    "                count += 1\n",
    "                if avgword2vec is None:\n",
    "                    avgword2vec = model.wv[word]\n",
    "                else:\n",
    "                    avgword2vec = avgword2vec + model.wv[word]\n",
    "                \n",
    "        if avgword2vec is not None:\n",
    "            avgword2vec = avgword2vec / count\n",
    "            word_embeddings.append(avgword2vec)\n",
    "        else:\n",
    "            print(\"I found it , the error occurs at line:\" , i)\n",
    "          \n",
    "        i +=1 \n",
    "\n",
    "    return(pd.DataFrame(word_embeddings))  # Returning our Data as a Dataframe (aesthetic reasons)"
   ]
  },
  {
   "cell_type": "code",
   "execution_count": 8,
   "id": "fcd40ddf",
   "metadata": {
    "ExecuteTime": {
     "end_time": "2024-02-14T14:25:35.108051Z",
     "start_time": "2024-02-14T14:20:39.356475Z"
    }
   },
   "outputs": [],
   "source": [
    "model = Word2Vec(sentences=corpus_full, vector_size=600, window=4, min_count=10, sg = 1 , hs = 1)  # skipgram architecture"
   ]
  },
  {
   "cell_type": "code",
   "execution_count": 10,
   "id": "6098e64f",
   "metadata": {
    "ExecuteTime": {
     "end_time": "2024-02-14T14:25:51.205131Z",
     "start_time": "2024-02-14T14:25:50.369434Z"
    }
   },
   "outputs": [],
   "source": [
    "model.save(\"model_4_a_parenthesis.h3\")"
   ]
  },
  {
   "cell_type": "code",
   "execution_count": 9,
   "id": "556a0f3f",
   "metadata": {
    "ExecuteTime": {
     "end_time": "2024-02-14T14:25:50.313192Z",
     "start_time": "2024-02-14T14:25:35.143561Z"
    }
   },
   "outputs": [],
   "source": [
    "vect = vectorizer()"
   ]
  },
  {
   "cell_type": "code",
   "execution_count": 11,
   "id": "1cf50feb",
   "metadata": {
    "ExecuteTime": {
     "end_time": "2024-02-14T14:25:53.066801Z",
     "start_time": "2024-02-14T14:25:52.986670Z"
    }
   },
   "outputs": [
    {
     "name": "stdout",
     "output_type": "stream",
     "text": [
      "['arts, culture, entertainment and media' 'conflict, war and peace'\n",
      " 'crime, law and justice' 'disaster, accident and emergency incident'\n",
      " 'economy, business and finance' 'education' 'environment' 'health'\n",
      " 'human interest' 'labour' 'lifestyle and leisure' 'politics'\n",
      " 'religion and belief' 'science and technology' 'society' 'sport'\n",
      " 'weather']\n",
      "We did it boys , labels have been created\n"
     ]
    }
   ],
   "source": [
    "y1 = labeler(io[\"category_level_1\"])\n",
    "\n",
    "\n",
    "X = vect.copy()\n",
    "\n",
    "X_train, X_test, y_train, y_test = train_test_split(X, y1, test_size=0.2,random_state=42)\n",
    "\n",
    "y_train1 = to_categorical(y_train)"
   ]
  },
  {
   "cell_type": "code",
   "execution_count": 12,
   "id": "57414c91",
   "metadata": {
    "ExecuteTime": {
     "end_time": "2024-02-14T14:25:59.371098Z",
     "start_time": "2024-02-14T14:25:59.366578Z"
    }
   },
   "outputs": [],
   "source": [
    "y_test1 = to_categorical(y_test)"
   ]
  },
  {
   "cell_type": "code",
   "execution_count": 13,
   "id": "c158d364",
   "metadata": {
    "ExecuteTime": {
     "end_time": "2024-02-14T14:26:05.979521Z",
     "start_time": "2024-02-14T14:26:05.971403Z"
    }
   },
   "outputs": [],
   "source": [
    "from sklearn.metrics import classification_report, confusion_matrix\n",
    "from tensorflow.keras.layers import Flatten , Input , Conv2D , MaxPooling2D , BatchNormalization"
   ]
  },
  {
   "cell_type": "code",
   "execution_count": 179,
   "id": "bc96d5aa",
   "metadata": {
    "ExecuteTime": {
     "end_time": "2024-02-14T15:02:09.994510Z",
     "start_time": "2024-02-14T15:02:09.911380Z"
    }
   },
   "outputs": [],
   "source": [
    "fc_input = tf.keras.Input(shape=(600,), name=\"embs\")\n",
    "x = tf.keras.layers.Dense(200, activation=\"sigmoid\")(fc_input)\n",
    "#x = tf.keras.activations.swish(x)\n",
    "x = tf.keras.layers.Dense(360, activation=\"leaky_relu\")(x)\n",
    "x = tf.keras.layers.Dropout(0.2)(x)\n",
    "#x = tf.keras.activations.swish(x)\n",
    "fc_out = tf.keras.layers.Dense(17, activation=\"softmax\")(x)"
   ]
  },
  {
   "cell_type": "code",
   "execution_count": 180,
   "id": "70103cf8",
   "metadata": {
    "ExecuteTime": {
     "end_time": "2024-02-14T15:02:10.355086Z",
     "start_time": "2024-02-14T15:02:10.345997Z"
    }
   },
   "outputs": [],
   "source": [
    "my_model= tf.keras.Model(inputs=fc_input, outputs=fc_out, name=\"News_Classifier\")"
   ]
  },
  {
   "cell_type": "code",
   "execution_count": 181,
   "id": "72cacbe0",
   "metadata": {
    "ExecuteTime": {
     "end_time": "2024-02-14T15:02:10.842833Z",
     "start_time": "2024-02-14T15:02:10.808110Z"
    }
   },
   "outputs": [
    {
     "name": "stdout",
     "output_type": "stream",
     "text": [
      "Model: \"News_Classifier\"\n",
      "_________________________________________________________________\n",
      " Layer (type)                Output Shape              Param #   \n",
      "=================================================================\n",
      " embs (InputLayer)           [(None, 600)]             0         \n",
      "                                                                 \n",
      " dense_89 (Dense)            (None, 200)               120200    \n",
      "                                                                 \n",
      " dense_90 (Dense)            (None, 360)               72360     \n",
      "                                                                 \n",
      " dropout_26 (Dropout)        (None, 360)               0         \n",
      "                                                                 \n",
      " dense_91 (Dense)            (None, 17)                6137      \n",
      "                                                                 \n",
      "=================================================================\n",
      "Total params: 198697 (776.16 KB)\n",
      "Trainable params: 198697 (776.16 KB)\n",
      "Non-trainable params: 0 (0.00 Byte)\n",
      "_________________________________________________________________\n"
     ]
    }
   ],
   "source": [
    "my_model.summary()"
   ]
  },
  {
   "cell_type": "code",
   "execution_count": 182,
   "id": "cdb12dd3",
   "metadata": {
    "ExecuteTime": {
     "end_time": "2024-02-14T15:02:11.303564Z",
     "start_time": "2024-02-14T15:02:11.298097Z"
    }
   },
   "outputs": [],
   "source": [
    "opt = tf.keras.optimizers.AdamW(learning_rate =0.007 , beta_1=0.9,\n",
    "    beta_2=0.999,\n",
    "    use_ema=True,\n",
    "    ema_momentum=0.99)"
   ]
  },
  {
   "cell_type": "code",
   "execution_count": 183,
   "id": "27e00b3c",
   "metadata": {
    "ExecuteTime": {
     "end_time": "2024-02-14T15:02:11.836831Z",
     "start_time": "2024-02-14T15:02:11.790289Z"
    }
   },
   "outputs": [],
   "source": [
    "my_model.compile(optimizer = opt , \n",
    "              loss = 'categorical_crossentropy' ,\n",
    "              metrics=[tf.keras.metrics.BinaryAccuracy(name='accuracy'),\n",
    "                       tf.keras.metrics.Precision(name='precision'),\n",
    "                       tf.keras.metrics.Recall(name='recall')])"
   ]
  },
  {
   "cell_type": "code",
   "execution_count": 184,
   "id": "61d85573",
   "metadata": {
    "ExecuteTime": {
     "end_time": "2024-02-14T15:02:30.164821Z",
     "start_time": "2024-02-14T15:02:12.281828Z"
    }
   },
   "outputs": [
    {
     "name": "stdout",
     "output_type": "stream",
     "text": [
      "Epoch 1/10\n",
      "437/437 [==============================] - 3s 4ms/step - loss: 1.8027 - accuracy: 0.9497 - precision: 0.7122 - recall: 0.2427 - val_loss: 1.3245 - val_accuracy: 0.9569 - val_precision: 0.7577 - val_recall: 0.3921\n",
      "Epoch 2/10\n",
      "437/437 [==============================] - 2s 4ms/step - loss: 1.2077 - accuracy: 0.9590 - precision: 0.7413 - recall: 0.4644 - val_loss: 1.2794 - val_accuracy: 0.9601 - val_precision: 0.7385 - val_recall: 0.4980\n",
      "Epoch 3/10\n",
      "437/437 [==============================] - 2s 4ms/step - loss: 1.0567 - accuracy: 0.9638 - precision: 0.7739 - recall: 0.5443 - val_loss: 1.1508 - val_accuracy: 0.9643 - val_precision: 0.7528 - val_recall: 0.5856\n",
      "Epoch 4/10\n",
      "437/437 [==============================] - 2s 4ms/step - loss: 0.9565 - accuracy: 0.9675 - precision: 0.7967 - recall: 0.6004 - val_loss: 1.1053 - val_accuracy: 0.9639 - val_precision: 0.7511 - val_recall: 0.5770\n",
      "Epoch 5/10\n",
      "437/437 [==============================] - 2s 4ms/step - loss: 0.8950 - accuracy: 0.9696 - precision: 0.8090 - recall: 0.6326 - val_loss: 1.1788 - val_accuracy: 0.9630 - val_precision: 0.7557 - val_recall: 0.5472\n",
      "Epoch 6/10\n",
      "437/437 [==============================] - 2s 4ms/step - loss: 0.8341 - accuracy: 0.9711 - precision: 0.8194 - recall: 0.6533 - val_loss: 1.1008 - val_accuracy: 0.9660 - val_precision: 0.7627 - val_recall: 0.6125\n",
      "Epoch 7/10\n",
      "437/437 [==============================] - 2s 4ms/step - loss: 0.8175 - accuracy: 0.9712 - precision: 0.8162 - recall: 0.6598 - val_loss: 1.1746 - val_accuracy: 0.9637 - val_precision: 0.7308 - val_recall: 0.6062\n",
      "Epoch 8/10\n",
      "437/437 [==============================] - 2s 4ms/step - loss: 0.7652 - accuracy: 0.9726 - precision: 0.8251 - recall: 0.6789 - val_loss: 1.2374 - val_accuracy: 0.9635 - val_precision: 0.7323 - val_recall: 0.5982\n",
      "Epoch 9/10\n",
      "437/437 [==============================] - 2s 4ms/step - loss: 0.7243 - accuracy: 0.9744 - precision: 0.8354 - recall: 0.7039 - val_loss: 1.1227 - val_accuracy: 0.9670 - val_precision: 0.7680 - val_recall: 0.6291\n",
      "Epoch 10/10\n",
      "437/437 [==============================] - 2s 4ms/step - loss: 0.6882 - accuracy: 0.9755 - precision: 0.8427 - recall: 0.7181 - val_loss: 1.1676 - val_accuracy: 0.9651 - val_precision: 0.7384 - val_recall: 0.6302\n",
      "69/69 [==============================] - 0s 2ms/step\n",
      "[14  1 16 ... 11  9 12]\n",
      "              precision    recall  f1-score   support\n",
      "\n",
      "           0       0.64      0.56      0.60        68\n",
      "           1       0.82      0.78      0.80       176\n",
      "           2       0.78      0.75      0.76        97\n",
      "           3       0.75      0.70      0.72        90\n",
      "           4       0.73      0.61      0.67        93\n",
      "           5       0.75      0.77      0.76       108\n",
      "           6       0.85      0.84      0.85       126\n",
      "           7       0.76      0.78      0.77       136\n",
      "           8       0.79      0.66      0.72       122\n",
      "           9       0.82      0.70      0.75       155\n",
      "          10       0.79      0.67      0.73        61\n",
      "          11       0.63      0.70      0.66       172\n",
      "          12       0.76      0.80      0.78       182\n",
      "          13       0.70      0.63      0.66       151\n",
      "          14       0.57      0.69      0.63       200\n",
      "          15       0.84      0.92      0.88       169\n",
      "          16       0.83      0.99      0.90        77\n",
      "\n",
      "    accuracy                           0.74      2183\n",
      "   macro avg       0.75      0.74      0.74      2183\n",
      "weighted avg       0.75      0.74      0.74      2183\n",
      "\n"
     ]
    }
   ],
   "source": [
    "my_model.fit(X_train , y_train1 , batch_size = 16 , epochs = 10 , validation_split=(0.2) ,verbose =1)\n",
    "\n",
    "\n",
    "predictions = np.argmax(my_model.predict(X_test), axis=-1)\n",
    "\n",
    "print(predictions)\n",
    "\n",
    "\n",
    "print(classification_report(y_test.values , predictions))"
   ]
  },
  {
   "cell_type": "code",
   "execution_count": 185,
   "id": "fa019aaf",
   "metadata": {
    "ExecuteTime": {
     "end_time": "2024-02-14T15:03:03.046293Z",
     "start_time": "2024-02-14T15:02:46.453882Z"
    }
   },
   "outputs": [
    {
     "name": "stdout",
     "output_type": "stream",
     "text": [
      "Epoch 1/10\n",
      "437/437 [==============================] - 2s 4ms/step - loss: 0.6613 - accuracy: 0.9763 - precision: 0.8468 - recall: 0.7296 - val_loss: 1.2506 - val_accuracy: 0.9658 - val_precision: 0.7424 - val_recall: 0.6417\n",
      "Epoch 2/10\n",
      "437/437 [==============================] - 2s 4ms/step - loss: 0.6440 - accuracy: 0.9770 - precision: 0.8522 - recall: 0.7366 - val_loss: 1.2004 - val_accuracy: 0.9683 - val_precision: 0.7680 - val_recall: 0.6611\n",
      "Epoch 3/10\n",
      "437/437 [==============================] - 2s 4ms/step - loss: 0.6256 - accuracy: 0.9776 - precision: 0.8568 - recall: 0.7437 - val_loss: 1.2966 - val_accuracy: 0.9663 - val_precision: 0.7467 - val_recall: 0.6463\n",
      "Epoch 4/10\n",
      "437/437 [==============================] - 2s 4ms/step - loss: 0.5815 - accuracy: 0.9791 - precision: 0.8657 - recall: 0.7632 - val_loss: 1.3557 - val_accuracy: 0.9660 - val_precision: 0.7415 - val_recall: 0.6468\n",
      "Epoch 5/10\n",
      "437/437 [==============================] - 2s 4ms/step - loss: 0.5512 - accuracy: 0.9805 - precision: 0.8746 - recall: 0.7795 - val_loss: 1.3146 - val_accuracy: 0.9668 - val_precision: 0.7527 - val_recall: 0.6497\n",
      "Epoch 6/10\n",
      "437/437 [==============================] - 2s 4ms/step - loss: 0.5417 - accuracy: 0.9802 - precision: 0.8700 - recall: 0.7801 - val_loss: 1.2824 - val_accuracy: 0.9666 - val_precision: 0.7503 - val_recall: 0.6485\n",
      "Epoch 7/10\n",
      "437/437 [==============================] - 2s 4ms/step - loss: 0.5176 - accuracy: 0.9814 - precision: 0.8789 - recall: 0.7926 - val_loss: 1.3366 - val_accuracy: 0.9666 - val_precision: 0.7451 - val_recall: 0.6577\n",
      "Epoch 8/10\n",
      "437/437 [==============================] - 2s 4ms/step - loss: 0.4945 - accuracy: 0.9817 - precision: 0.8821 - recall: 0.7958 - val_loss: 1.3650 - val_accuracy: 0.9682 - val_precision: 0.7634 - val_recall: 0.6669\n",
      "Epoch 9/10\n",
      "437/437 [==============================] - 2s 4ms/step - loss: 0.4774 - accuracy: 0.9824 - precision: 0.8845 - recall: 0.8067 - val_loss: 1.4899 - val_accuracy: 0.9669 - val_precision: 0.7523 - val_recall: 0.6520\n",
      "Epoch 10/10\n",
      "437/437 [==============================] - 2s 4ms/step - loss: 0.4658 - accuracy: 0.9825 - precision: 0.8827 - recall: 0.8099 - val_loss: 1.4701 - val_accuracy: 0.9669 - val_precision: 0.7449 - val_recall: 0.6651\n",
      "69/69 [==============================] - 0s 2ms/step\n",
      "[14  1 16 ... 11  9 12]\n",
      "              precision    recall  f1-score   support\n",
      "\n",
      "           0       0.73      0.60      0.66        68\n",
      "           1       0.81      0.79      0.80       176\n",
      "           2       0.74      0.77      0.75        97\n",
      "           3       0.69      0.68      0.68        90\n",
      "           4       0.77      0.62      0.69        93\n",
      "           5       0.70      0.80      0.74       108\n",
      "           6       0.84      0.81      0.82       126\n",
      "           7       0.81      0.77      0.79       136\n",
      "           8       0.77      0.73      0.75       122\n",
      "           9       0.80      0.74      0.77       155\n",
      "          10       0.78      0.69      0.73        61\n",
      "          11       0.67      0.65      0.66       172\n",
      "          12       0.74      0.76      0.75       182\n",
      "          13       0.67      0.69      0.68       151\n",
      "          14       0.60      0.68      0.64       200\n",
      "          15       0.87      0.92      0.89       169\n",
      "          16       0.82      0.96      0.89        77\n",
      "\n",
      "    accuracy                           0.75      2183\n",
      "   macro avg       0.75      0.74      0.75      2183\n",
      "weighted avg       0.75      0.75      0.75      2183\n",
      "\n"
     ]
    }
   ],
   "source": [
    "my_model.fit(X_train , y_train1 , batch_size = 16 , epochs = 10 , validation_split=(0.2) ,verbose =1)\n",
    "\n",
    "\n",
    "predictions = np.argmax(my_model.predict(X_test), axis=-1)\n",
    "\n",
    "print(predictions)\n",
    "\n",
    "\n",
    "print(classification_report(y_test.values , predictions))"
   ]
  },
  {
   "cell_type": "code",
   "execution_count": 186,
   "id": "ef32d26e",
   "metadata": {
    "ExecuteTime": {
     "end_time": "2024-02-14T15:03:22.236918Z",
     "start_time": "2024-02-14T15:03:22.234013Z"
    }
   },
   "outputs": [],
   "source": [
    "#############################################################################################################################"
   ]
  },
  {
   "cell_type": "code",
   "execution_count": 190,
   "id": "e45263c7",
   "metadata": {
    "ExecuteTime": {
     "end_time": "2024-02-14T15:04:54.936428Z",
     "start_time": "2024-02-14T15:04:54.846424Z"
    }
   },
   "outputs": [],
   "source": [
    "fc_input = tf.keras.Input(shape=(600,), name=\"embs\")\n",
    "x = tf.keras.layers.Dense(200, activation=\"gelu\")(fc_input)\n",
    "#x = tf.keras.activations.swish(x)\n",
    "x = tf.keras.layers.Dense(360, activation=\"leaky_relu\")(x)\n",
    "x = tf.keras.layers.Dropout(0.2)(x)\n",
    "#x = tf.keras.activations.swish(x)\n",
    "fc_out = tf.keras.layers.Dense(17, activation=\"softmax\")(x)"
   ]
  },
  {
   "cell_type": "code",
   "execution_count": 191,
   "id": "9a6cdef5",
   "metadata": {
    "ExecuteTime": {
     "end_time": "2024-02-14T15:04:55.284021Z",
     "start_time": "2024-02-14T15:04:55.274895Z"
    }
   },
   "outputs": [],
   "source": [
    "my_model2= tf.keras.Model(inputs=fc_input, outputs=fc_out, name=\"News_Classifier\")"
   ]
  },
  {
   "cell_type": "code",
   "execution_count": 192,
   "id": "7a6861e1",
   "metadata": {
    "ExecuteTime": {
     "end_time": "2024-02-14T15:05:14.031955Z",
     "start_time": "2024-02-14T15:04:55.712323Z"
    }
   },
   "outputs": [
    {
     "name": "stdout",
     "output_type": "stream",
     "text": [
      "Epoch 1/10\n",
      "437/437 [==============================] - 3s 4ms/step - loss: 1.5045 - accuracy: 0.9534 - precision: 0.6876 - recall: 0.3800 - val_loss: 1.4381 - val_accuracy: 0.9560 - val_precision: 0.6730 - val_recall: 0.4888\n",
      "Epoch 2/10\n",
      "437/437 [==============================] - 2s 4ms/step - loss: 1.2641 - accuracy: 0.9600 - precision: 0.7316 - recall: 0.5045 - val_loss: 1.2506 - val_accuracy: 0.9619 - val_precision: 0.7667 - val_recall: 0.5060\n",
      "Epoch 3/10\n",
      "437/437 [==============================] - 2s 4ms/step - loss: 1.0821 - accuracy: 0.9640 - precision: 0.7585 - recall: 0.5688 - val_loss: 1.3527 - val_accuracy: 0.9593 - val_precision: 0.7125 - val_recall: 0.5163\n",
      "Epoch 4/10\n",
      "437/437 [==============================] - 2s 4ms/step - loss: 0.9997 - accuracy: 0.9663 - precision: 0.7724 - recall: 0.6050 - val_loss: 1.1957 - val_accuracy: 0.9646 - val_precision: 0.7758 - val_recall: 0.5604\n",
      "Epoch 5/10\n",
      "437/437 [==============================] - 2s 4ms/step - loss: 0.9406 - accuracy: 0.9680 - precision: 0.7840 - recall: 0.6292 - val_loss: 1.2932 - val_accuracy: 0.9636 - val_precision: 0.7554 - val_recall: 0.5638\n",
      "Epoch 6/10\n",
      "437/437 [==============================] - 2s 4ms/step - loss: 0.9103 - accuracy: 0.9692 - precision: 0.7927 - recall: 0.6444 - val_loss: 1.1454 - val_accuracy: 0.9653 - val_precision: 0.7427 - val_recall: 0.6262\n",
      "Epoch 7/10\n",
      "437/437 [==============================] - 2s 4ms/step - loss: 0.8438 - accuracy: 0.9710 - precision: 0.8033 - recall: 0.6724 - val_loss: 1.2961 - val_accuracy: 0.9619 - val_precision: 0.7458 - val_recall: 0.5341\n",
      "Epoch 8/10\n",
      "437/437 [==============================] - 2s 4ms/step - loss: 0.7947 - accuracy: 0.9726 - precision: 0.8159 - recall: 0.6908 - val_loss: 1.1925 - val_accuracy: 0.9643 - val_precision: 0.7395 - val_recall: 0.6062\n",
      "Epoch 9/10\n",
      "437/437 [==============================] - 2s 4ms/step - loss: 0.7667 - accuracy: 0.9731 - precision: 0.8186 - recall: 0.6976 - val_loss: 1.2453 - val_accuracy: 0.9657 - val_precision: 0.7562 - val_recall: 0.6142\n",
      "Epoch 10/10\n",
      "437/437 [==============================] - 2s 4ms/step - loss: 0.7674 - accuracy: 0.9730 - precision: 0.8141 - recall: 0.7002 - val_loss: 1.3094 - val_accuracy: 0.9652 - val_precision: 0.7437 - val_recall: 0.6228\n",
      "69/69 [==============================] - 0s 2ms/step\n",
      "[14  1 16 ... 11  9 12]\n",
      "              precision    recall  f1-score   support\n",
      "\n",
      "           0       0.75      0.53      0.62        68\n",
      "           1       0.82      0.83      0.82       176\n",
      "           2       0.73      0.77      0.75        97\n",
      "           3       0.75      0.68      0.71        90\n",
      "           4       0.78      0.65      0.71        93\n",
      "           5       0.74      0.79      0.76       108\n",
      "           6       0.84      0.85      0.84       126\n",
      "           7       0.74      0.82      0.77       136\n",
      "           8       0.76      0.66      0.71       122\n",
      "           9       0.82      0.68      0.74       155\n",
      "          10       0.78      0.77      0.78        61\n",
      "          11       0.65      0.65      0.65       172\n",
      "          12       0.74      0.79      0.77       182\n",
      "          13       0.69      0.67      0.68       151\n",
      "          14       0.58      0.67      0.62       200\n",
      "          15       0.85      0.90      0.88       169\n",
      "          16       0.83      0.95      0.88        77\n",
      "\n",
      "    accuracy                           0.75      2183\n",
      "   macro avg       0.76      0.74      0.75      2183\n",
      "weighted avg       0.75      0.75      0.74      2183\n",
      "\n"
     ]
    }
   ],
   "source": [
    "opt = tf.keras.optimizers.AdamW(learning_rate =0.007 , beta_1=0.9,\n",
    "    beta_2=0.999,\n",
    "    use_ema=True,\n",
    "    ema_momentum=0.99)\n",
    "\n",
    "\n",
    "\n",
    "\n",
    "\n",
    "my_model2.compile(optimizer = opt , \n",
    "              loss = 'categorical_crossentropy' ,\n",
    "              metrics=[tf.keras.metrics.BinaryAccuracy(name='accuracy'),\n",
    "                       tf.keras.metrics.Precision(name='precision'),\n",
    "                       tf.keras.metrics.Recall(name='recall')])\n",
    "\n",
    "\n",
    "\n",
    "\n",
    "\n",
    "my_model2.fit(X_train , y_train1 , batch_size = 16 , epochs = 10 , validation_split=(0.2) ,verbose =1)\n",
    "\n",
    "\n",
    "predictions = np.argmax(my_model2.predict(X_test), axis=-1)\n",
    "\n",
    "print(predictions)\n",
    "\n",
    "\n",
    "print(classification_report(y_test.values , predictions))"
   ]
  },
  {
   "cell_type": "code",
   "execution_count": 193,
   "id": "d9d805d1",
   "metadata": {
    "ExecuteTime": {
     "end_time": "2024-02-14T15:05:33.628268Z",
     "start_time": "2024-02-14T15:05:33.621271Z"
    }
   },
   "outputs": [],
   "source": [
    "#############################################################################################################################"
   ]
  },
  {
   "cell_type": "code",
   "execution_count": 200,
   "id": "8d94f22d",
   "metadata": {
    "ExecuteTime": {
     "end_time": "2024-02-14T15:08:22.233423Z",
     "start_time": "2024-02-14T15:08:04.167636Z"
    }
   },
   "outputs": [
    {
     "name": "stdout",
     "output_type": "stream",
     "text": [
      "Epoch 1/10\n",
      "437/437 [==============================] - 3s 5ms/step - loss: 1.8772 - accuracy: 0.9483 - precision: 0.6887 - recall: 0.2210 - val_loss: 1.3498 - val_accuracy: 0.9566 - val_precision: 0.7956 - val_recall: 0.3520\n",
      "Epoch 2/10\n",
      "437/437 [==============================] - 2s 4ms/step - loss: 1.2261 - accuracy: 0.9590 - precision: 0.7452 - recall: 0.4594 - val_loss: 1.2958 - val_accuracy: 0.9593 - val_precision: 0.7526 - val_recall: 0.4579\n",
      "Epoch 3/10\n",
      "437/437 [==============================] - 2s 4ms/step - loss: 1.0767 - accuracy: 0.9635 - precision: 0.7763 - recall: 0.5340 - val_loss: 1.2136 - val_accuracy: 0.9613 - val_precision: 0.7475 - val_recall: 0.5169\n",
      "Epoch 4/10\n",
      "437/437 [==============================] - 2s 4ms/step - loss: 0.9843 - accuracy: 0.9663 - precision: 0.7929 - recall: 0.5772 - val_loss: 1.1505 - val_accuracy: 0.9638 - val_precision: 0.7579 - val_recall: 0.5644\n",
      "Epoch 5/10\n",
      "437/437 [==============================] - 2s 4ms/step - loss: 0.9232 - accuracy: 0.9679 - precision: 0.8009 - recall: 0.6043 - val_loss: 1.1431 - val_accuracy: 0.9644 - val_precision: 0.7873 - val_recall: 0.5404\n",
      "Epoch 6/10\n",
      "437/437 [==============================] - 2s 4ms/step - loss: 0.8760 - accuracy: 0.9698 - precision: 0.8127 - recall: 0.6322 - val_loss: 1.1877 - val_accuracy: 0.9640 - val_precision: 0.7574 - val_recall: 0.5718\n",
      "Epoch 7/10\n",
      "437/437 [==============================] - 2s 4ms/step - loss: 0.8141 - accuracy: 0.9713 - precision: 0.8193 - recall: 0.6570 - val_loss: 1.2003 - val_accuracy: 0.9648 - val_precision: 0.7591 - val_recall: 0.5879\n",
      "Epoch 8/10\n",
      "437/437 [==============================] - 2s 4ms/step - loss: 0.7726 - accuracy: 0.9728 - precision: 0.8318 - recall: 0.6747 - val_loss: 1.1168 - val_accuracy: 0.9661 - val_precision: 0.7755 - val_recall: 0.5970\n",
      "Epoch 9/10\n",
      "437/437 [==============================] - 2s 4ms/step - loss: 0.7332 - accuracy: 0.9743 - precision: 0.8384 - recall: 0.6968 - val_loss: 1.1706 - val_accuracy: 0.9671 - val_precision: 0.7817 - val_recall: 0.6108\n",
      "Epoch 10/10\n",
      "437/437 [==============================] - 2s 4ms/step - loss: 0.6977 - accuracy: 0.9751 - precision: 0.8443 - recall: 0.7079 - val_loss: 1.3135 - val_accuracy: 0.9655 - val_precision: 0.7488 - val_recall: 0.6228\n",
      "69/69 [==============================] - 0s 2ms/step\n",
      "[14  1 16 ... 11  9 12]\n",
      "              precision    recall  f1-score   support\n",
      "\n",
      "           0       0.67      0.62      0.64        68\n",
      "           1       0.80      0.78      0.79       176\n",
      "           2       0.74      0.75      0.75        97\n",
      "           3       0.73      0.68      0.70        90\n",
      "           4       0.73      0.59      0.65        93\n",
      "           5       0.74      0.78      0.76       108\n",
      "           6       0.85      0.83      0.84       126\n",
      "           7       0.73      0.79      0.76       136\n",
      "           8       0.75      0.68      0.72       122\n",
      "           9       0.82      0.71      0.76       155\n",
      "          10       0.77      0.70      0.74        61\n",
      "          11       0.63      0.69      0.66       172\n",
      "          12       0.75      0.79      0.77       182\n",
      "          13       0.69      0.64      0.66       151\n",
      "          14       0.58      0.64      0.61       200\n",
      "          15       0.87      0.92      0.90       169\n",
      "          16       0.81      0.96      0.88        77\n",
      "\n",
      "    accuracy                           0.74      2183\n",
      "   macro avg       0.75      0.74      0.74      2183\n",
      "weighted avg       0.74      0.74      0.74      2183\n",
      "\n"
     ]
    }
   ],
   "source": [
    "fc_input = tf.keras.Input(shape=(600,), name=\"embs\")\n",
    "x = tf.keras.layers.Dense(200, activation=\"softplus\")(fc_input)\n",
    "#x = tf.keras.activations.swish(x)\n",
    "x = tf.keras.layers.Dense(360, activation=\"leaky_relu\")(x)\n",
    "x = tf.keras.layers.Dropout(0.2)(x)\n",
    "#x = tf.keras.activations.swish(x)\n",
    "fc_out = tf.keras.layers.Dense(17, activation=\"softmax\")(x)\n",
    "\n",
    "my_model3= tf.keras.Model(inputs=fc_input, outputs=fc_out, name=\"News_Classifier\")\n",
    "\n",
    "\n",
    "opt = tf.keras.optimizers.AdamW(learning_rate =0.007 , beta_1=0.9,\n",
    "    beta_2=0.999,\n",
    "    use_ema=True,\n",
    "    ema_momentum=0.99)\n",
    "\n",
    "\n",
    "\n",
    "\n",
    "\n",
    "my_model3.compile(optimizer = opt , \n",
    "              loss = 'categorical_crossentropy' ,\n",
    "              metrics=[tf.keras.metrics.BinaryAccuracy(name='accuracy'),\n",
    "                       tf.keras.metrics.Precision(name='precision'),\n",
    "                       tf.keras.metrics.Recall(name='recall')])\n",
    "\n",
    "\n",
    "\n",
    "\n",
    "\n",
    "my_model3.fit(X_train , y_train1 , batch_size = 16 , epochs = 10 , validation_split=(0.2) ,verbose =1)\n",
    "\n",
    "\n",
    "predictions = np.argmax(my_model3.predict(X_test), axis=-1)\n",
    "\n",
    "print(predictions)\n",
    "\n",
    "\n",
    "print(classification_report(y_test.values , predictions))"
   ]
  },
  {
   "cell_type": "code",
   "execution_count": 231,
   "id": "ea80fc1b",
   "metadata": {
    "ExecuteTime": {
     "end_time": "2024-02-14T18:09:52.068026Z",
     "start_time": "2024-02-14T18:09:52.064134Z"
    }
   },
   "outputs": [],
   "source": [
    "#############################################################################################################################"
   ]
  },
  {
   "cell_type": "markdown",
   "id": "53c3473a",
   "metadata": {},
   "source": [
    "# THE BEST OF THE BEST LESGOO"
   ]
  },
  {
   "cell_type": "code",
   "execution_count": 201,
   "id": "ff7983e7",
   "metadata": {
    "ExecuteTime": {
     "end_time": "2024-02-14T15:09:31.149020Z",
     "start_time": "2024-02-14T15:09:31.144020Z"
    }
   },
   "outputs": [],
   "source": [
    "y_test1 = to_categorical(y_test , dtype = int)"
   ]
  },
  {
   "cell_type": "code",
   "execution_count": 202,
   "id": "f65b19a7",
   "metadata": {
    "ExecuteTime": {
     "end_time": "2024-02-14T15:09:34.406397Z",
     "start_time": "2024-02-14T15:09:34.400396Z"
    }
   },
   "outputs": [
    {
     "data": {
      "text/plain": [
       "array([[0, 0, 0, ..., 1, 0, 0],\n",
       "       [0, 1, 0, ..., 0, 0, 0],\n",
       "       [0, 0, 0, ..., 0, 0, 1],\n",
       "       ...,\n",
       "       [0, 0, 0, ..., 0, 0, 0],\n",
       "       [0, 0, 0, ..., 1, 0, 0],\n",
       "       [0, 0, 0, ..., 0, 0, 0]])"
      ]
     },
     "execution_count": 202,
     "metadata": {},
     "output_type": "execute_result"
    }
   ],
   "source": [
    "y_test1"
   ]
  },
  {
   "cell_type": "code",
   "execution_count": 229,
   "id": "394f91c8",
   "metadata": {
    "ExecuteTime": {
     "end_time": "2024-02-14T15:23:38.950938Z",
     "start_time": "2024-02-14T15:23:18.919042Z"
    }
   },
   "outputs": [
    {
     "name": "stdout",
     "output_type": "stream",
     "text": [
      "Epoch 1/10\n",
      "437/437 [==============================] - 3s 4ms/step - loss: 1.5388 - accuracy: 0.9537 - precision: 0.6983 - recall: 0.3741 - val_loss: 1.2800 - val_accuracy: 0.9600 - val_precision: 0.7504 - val_recall: 0.4785\n",
      "Epoch 2/10\n",
      "437/437 [==============================] - 2s 4ms/step - loss: 1.2314 - accuracy: 0.9608 - precision: 0.7358 - recall: 0.5211 - val_loss: 1.2085 - val_accuracy: 0.9612 - val_precision: 0.7423 - val_recall: 0.5226\n",
      "Epoch 3/10\n",
      "437/437 [==============================] - 2s 4ms/step - loss: 1.1424 - accuracy: 0.9632 - precision: 0.7482 - recall: 0.5651 - val_loss: 1.2361 - val_accuracy: 0.9608 - val_precision: 0.7152 - val_recall: 0.5535\n",
      "Epoch 4/10\n",
      "437/437 [==============================] - 2s 4ms/step - loss: 1.0405 - accuracy: 0.9661 - precision: 0.7715 - recall: 0.6029 - val_loss: 1.3299 - val_accuracy: 0.9632 - val_precision: 0.7385 - val_recall: 0.5804\n",
      "Epoch 5/10\n",
      "437/437 [==============================] - 2s 4ms/step - loss: 1.0124 - accuracy: 0.9672 - precision: 0.7733 - recall: 0.6262 - val_loss: 1.4176 - val_accuracy: 0.9628 - val_precision: 0.7235 - val_recall: 0.5947\n",
      "Epoch 6/10\n",
      "437/437 [==============================] - 2s 4ms/step - loss: 1.0091 - accuracy: 0.9673 - precision: 0.7712 - recall: 0.6318 - val_loss: 1.2046 - val_accuracy: 0.9657 - val_precision: 0.7607 - val_recall: 0.6079\n",
      "Epoch 7/10\n",
      "437/437 [==============================] - 2s 4ms/step - loss: 0.9379 - accuracy: 0.9689 - precision: 0.7822 - recall: 0.6538 - val_loss: 1.6437 - val_accuracy: 0.9611 - val_precision: 0.6888 - val_recall: 0.6171\n",
      "Epoch 8/10\n",
      "437/437 [==============================] - 2s 5ms/step - loss: 0.9291 - accuracy: 0.9694 - precision: 0.7829 - recall: 0.6646 - val_loss: 1.3847 - val_accuracy: 0.9654 - val_precision: 0.7403 - val_recall: 0.6331\n",
      "Epoch 9/10\n",
      "437/437 [==============================] - 2s 5ms/step - loss: 0.8824 - accuracy: 0.9714 - precision: 0.7996 - recall: 0.6850 - val_loss: 1.6025 - val_accuracy: 0.9622 - val_precision: 0.7120 - val_recall: 0.5987\n",
      "Epoch 10/10\n",
      "437/437 [==============================] - 2s 5ms/step - loss: 0.8433 - accuracy: 0.9725 - precision: 0.8082 - recall: 0.6981 - val_loss: 1.3517 - val_accuracy: 0.9672 - val_precision: 0.7568 - val_recall: 0.6520\n",
      "69/69 [==============================] - 0s 2ms/step\n",
      "[14  1  3 ... 11 14 12]\n",
      "              precision    recall  f1-score   support\n",
      "\n",
      "           0       1.00      0.10      0.19        68\n",
      "           1       0.85      0.59      0.69       176\n",
      "           2       0.86      0.56      0.68        97\n",
      "           3       0.68      0.70      0.69        90\n",
      "           4       0.95      0.42      0.58        93\n",
      "           5       0.79      0.64      0.71       108\n",
      "           6       0.90      0.66      0.76       126\n",
      "           7       0.86      0.51      0.64       136\n",
      "           8       0.71      0.46      0.56       122\n",
      "           9       0.93      0.26      0.41       155\n",
      "          10       0.92      0.20      0.32        61\n",
      "          11       0.51      0.68      0.58       172\n",
      "          12       0.69      0.73      0.71       182\n",
      "          13       0.64      0.64      0.64       151\n",
      "          14       0.26      0.89      0.40       200\n",
      "          15       0.89      0.74      0.81       169\n",
      "          16       0.95      0.75      0.84        77\n",
      "\n",
      "    accuracy                           0.60      2183\n",
      "   macro avg       0.79      0.56      0.60      2183\n",
      "weighted avg       0.75      0.60      0.61      2183\n",
      "\n"
     ]
    }
   ],
   "source": [
    "fc_input = tf.keras.Input(shape=(600,), name=\"embs\")\n",
    "x = tf.keras.layers.Dense(200, activation=\"leaky_relu\")(fc_input)\n",
    "#x = tf.keras.activations.swish(x)\n",
    "x = tf.keras.layers.Dense(360, activation=\"leaky_relu\")(x)\n",
    "x = tf.keras.layers.Dropout(0.2)(x)\n",
    "#x = tf.keras.activations.swish(x)\n",
    "fc_out = tf.keras.layers.Dense(17, activation=\"softmax\")(x)\n",
    "\n",
    "my_model3= tf.keras.Model(inputs=fc_input, outputs=fc_out, name=\"News_Classifier\")\n",
    "\n",
    "\n",
    "opt = tf.keras.optimizers.AdamW(learning_rate =0.007 , beta_1=0.9,\n",
    "    beta_2=0.999,\n",
    "    use_ema=True,\n",
    "    ema_momentum=0.9999)\n",
    "\n",
    "\n",
    "\n",
    "\n",
    "\n",
    "my_model3.compile(optimizer = opt , \n",
    "              loss = 'categorical_crossentropy' ,\n",
    "              metrics=[tf.keras.metrics.BinaryAccuracy(name='accuracy'),\n",
    "                       tf.keras.metrics.Precision(name='precision'),\n",
    "                       tf.keras.metrics.Recall(name='recall')])\n",
    "\n",
    "\n",
    "\n",
    "\n",
    "\n",
    "my_model3.fit(X_train , y_train1 , batch_size = 16 , epochs = 10 , validation_split=(0.2) ,verbose =1)\n",
    "\n",
    "\n",
    "predictions = np.argmax(my_model3.predict(X_test), axis=-1)\n",
    "\n",
    "print(predictions)\n",
    "\n",
    "\n",
    "print(classification_report(y_test.values , predictions))"
   ]
  },
  {
   "cell_type": "code",
   "execution_count": 230,
   "id": "d9bbc5a1",
   "metadata": {
    "ExecuteTime": {
     "end_time": "2024-02-14T18:09:04.698178Z",
     "start_time": "2024-02-14T18:09:04.691767Z"
    }
   },
   "outputs": [],
   "source": [
    "#############################################################################################################################"
   ]
  },
  {
   "cell_type": "code",
   "execution_count": 237,
   "id": "e23ca6ce",
   "metadata": {
    "ExecuteTime": {
     "end_time": "2024-02-14T18:12:43.716897Z",
     "start_time": "2024-02-14T18:12:27.081276Z"
    }
   },
   "outputs": [
    {
     "name": "stdout",
     "output_type": "stream",
     "text": [
      "Epoch 1/10\n",
      "437/437 [==============================] - 3s 4ms/step - loss: 1.5412 - accuracy: 0.9531 - precision: 0.6889 - recall: 0.3696 - val_loss: 1.3762 - val_accuracy: 0.9590 - val_precision: 0.7272 - val_recall: 0.4837\n",
      "Epoch 2/10\n",
      "437/437 [==============================] - 1s 3ms/step - loss: 1.2332 - accuracy: 0.9594 - precision: 0.7222 - recall: 0.5047 - val_loss: 1.6390 - val_accuracy: 0.9524 - val_precision: 0.6296 - val_recall: 0.4631\n",
      "Epoch 3/10\n",
      "437/437 [==============================] - 1s 3ms/step - loss: 1.1459 - accuracy: 0.9631 - precision: 0.7472 - recall: 0.5634 - val_loss: 1.2936 - val_accuracy: 0.9621 - val_precision: 0.7478 - val_recall: 0.5363\n",
      "Epoch 4/10\n",
      "437/437 [==============================] - 1s 3ms/step - loss: 1.0808 - accuracy: 0.9646 - precision: 0.7531 - recall: 0.5914 - val_loss: 1.3282 - val_accuracy: 0.9598 - val_precision: 0.7025 - val_recall: 0.5501\n",
      "Epoch 5/10\n",
      "437/437 [==============================] - 1s 3ms/step - loss: 1.0472 - accuracy: 0.9660 - precision: 0.7638 - recall: 0.6100 - val_loss: 1.3009 - val_accuracy: 0.9639 - val_precision: 0.7380 - val_recall: 0.5999\n",
      "Epoch 6/10\n",
      "437/437 [==============================] - 1s 3ms/step - loss: 0.9817 - accuracy: 0.9683 - precision: 0.7796 - recall: 0.6417 - val_loss: 1.3846 - val_accuracy: 0.9638 - val_precision: 0.7380 - val_recall: 0.5965\n",
      "Epoch 7/10\n",
      "437/437 [==============================] - 2s 4ms/step - loss: 0.9382 - accuracy: 0.9689 - precision: 0.7799 - recall: 0.6564 - val_loss: 1.3724 - val_accuracy: 0.9647 - val_precision: 0.7330 - val_recall: 0.6285\n",
      "Epoch 8/10\n",
      "437/437 [==============================] - 2s 4ms/step - loss: 0.9161 - accuracy: 0.9703 - precision: 0.7916 - recall: 0.6722 - val_loss: 1.4363 - val_accuracy: 0.9640 - val_precision: 0.7325 - val_recall: 0.6113\n",
      "Epoch 9/10\n",
      "437/437 [==============================] - 1s 3ms/step - loss: 0.9130 - accuracy: 0.9701 - precision: 0.7866 - recall: 0.6739 - val_loss: 1.3394 - val_accuracy: 0.9668 - val_precision: 0.7566 - val_recall: 0.6422\n",
      "Epoch 10/10\n",
      "437/437 [==============================] - 1s 3ms/step - loss: 0.8711 - accuracy: 0.9715 - precision: 0.7987 - recall: 0.6892 - val_loss: 1.3454 - val_accuracy: 0.9662 - val_precision: 0.7520 - val_recall: 0.6354\n",
      "69/69 [==============================] - 0s 2ms/step\n",
      "[14  1  3 ... 11  9 12]\n",
      "              precision    recall  f1-score   support\n",
      "\n",
      "           0       1.00      0.09      0.16        68\n",
      "           1       0.85      0.57      0.68       176\n",
      "           2       0.89      0.33      0.48        97\n",
      "           3       0.73      0.63      0.68        90\n",
      "           4       0.89      0.45      0.60        93\n",
      "           5       0.79      0.62      0.69       108\n",
      "           6       0.88      0.71      0.78       126\n",
      "           7       0.87      0.55      0.68       136\n",
      "           8       0.75      0.32      0.45       122\n",
      "           9       0.86      0.45      0.59       155\n",
      "          10       1.00      0.11      0.21        61\n",
      "          11       0.50      0.70      0.58       172\n",
      "          12       0.73      0.67      0.70       182\n",
      "          13       0.63      0.62      0.63       151\n",
      "          14       0.23      0.89      0.37       200\n",
      "          15       0.94      0.60      0.73       169\n",
      "          16       0.94      0.78      0.85        77\n",
      "\n",
      "    accuracy                           0.58      2183\n",
      "   macro avg       0.79      0.53      0.58      2183\n",
      "weighted avg       0.75      0.58      0.60      2183\n",
      "\n"
     ]
    }
   ],
   "source": [
    "fc_input = tf.keras.Input(shape=(600,), name=\"embs\")\n",
    "x = tf.keras.layers.Dense(200, activation=\"leaky_relu\")(fc_input)\n",
    "#x = tf.keras.activations.swish(x)\n",
    "x = tf.keras.layers.Dense(360, activation=\"leaky_relu\")(x)\n",
    "x = tf.keras.layers.Dropout(0.2)(x)\n",
    "#x = tf.keras.activations.swish(x)\n",
    "fc_out = tf.keras.layers.Dense(17, activation=\"softmax\")(x)\n",
    "\n",
    "my_model6= tf.keras.Model(inputs=fc_input, outputs=fc_out, name=\"News_Classifier\")\n",
    "\n",
    "\n",
    "opt = tf.keras.optimizers.AdamW(learning_rate =0.007 , beta_1=0.9,\n",
    "    beta_2=0.999,\n",
    "    use_ema=True,\n",
    "    ema_momentum=0.9999,\n",
    "    weight_decay = 0.0005)\n",
    "\n",
    "\n",
    "\n",
    "\n",
    "\n",
    "my_model6.compile(optimizer = opt , \n",
    "              loss = 'categorical_crossentropy' ,\n",
    "              metrics=[tf.keras.metrics.BinaryAccuracy(name='accuracy'),\n",
    "                       tf.keras.metrics.Precision(name='precision'),\n",
    "                       tf.keras.metrics.Recall(name='recall')])\n",
    "\n",
    "\n",
    "\n",
    "\n",
    "\n",
    "my_model6.fit(X_train , y_train1 , batch_size = 16 , epochs = 10 , validation_split=(0.2) ,verbose =1)\n",
    "\n",
    "\n",
    "predictions = np.argmax(my_model6.predict(X_test), axis=-1)\n",
    "\n",
    "print(predictions)\n",
    "\n",
    "\n",
    "print(classification_report(y_test.values , predictions))"
   ]
  },
  {
   "cell_type": "code",
   "execution_count": 238,
   "id": "384ba2b0",
   "metadata": {
    "ExecuteTime": {
     "end_time": "2024-02-14T18:13:01.367813Z",
     "start_time": "2024-02-14T18:13:01.364462Z"
    }
   },
   "outputs": [],
   "source": [
    "#############################################################################################################################"
   ]
  },
  {
   "cell_type": "code",
   "execution_count": 260,
   "id": "d66f1dbb",
   "metadata": {
    "ExecuteTime": {
     "end_time": "2024-02-14T18:23:33.386166Z",
     "start_time": "2024-02-14T18:23:15.916457Z"
    }
   },
   "outputs": [
    {
     "name": "stdout",
     "output_type": "stream",
     "text": [
      "Epoch 1/10\n",
      "437/437 [==============================] - 3s 4ms/step - loss: 1.5354 - accuracy: 0.9531 - precision: 0.6893 - recall: 0.3691 - val_loss: 1.3021 - val_accuracy: 0.9590 - val_precision: 0.7092 - val_recall: 0.5123\n",
      "Epoch 2/10\n",
      "437/437 [==============================] - 2s 4ms/step - loss: 1.2181 - accuracy: 0.9606 - precision: 0.7325 - recall: 0.5191 - val_loss: 1.2161 - val_accuracy: 0.9623 - val_precision: 0.7411 - val_recall: 0.5507\n",
      "Epoch 3/10\n",
      "437/437 [==============================] - 2s 3ms/step - loss: 1.1410 - accuracy: 0.9634 - precision: 0.7490 - recall: 0.5685 - val_loss: 1.4788 - val_accuracy: 0.9581 - val_precision: 0.7106 - val_recall: 0.4848\n",
      "Epoch 4/10\n",
      "437/437 [==============================] - 2s 3ms/step - loss: 1.1059 - accuracy: 0.9644 - precision: 0.7544 - recall: 0.5853 - val_loss: 1.2807 - val_accuracy: 0.9626 - val_precision: 0.7232 - val_recall: 0.5907\n",
      "Epoch 5/10\n",
      "437/437 [==============================] - 1s 3ms/step - loss: 1.0261 - accuracy: 0.9663 - precision: 0.7652 - recall: 0.6162 - val_loss: 1.2804 - val_accuracy: 0.9652 - val_precision: 0.7709 - val_recall: 0.5816\n",
      "Epoch 6/10\n",
      "437/437 [==============================] - 2s 4ms/step - loss: 0.9717 - accuracy: 0.9681 - precision: 0.7787 - recall: 0.6387 - val_loss: 1.2314 - val_accuracy: 0.9643 - val_precision: 0.7581 - val_recall: 0.5776\n",
      "Epoch 7/10\n",
      "437/437 [==============================] - 1s 3ms/step - loss: 0.9367 - accuracy: 0.9694 - precision: 0.7885 - recall: 0.6548 - val_loss: 1.4254 - val_accuracy: 0.9648 - val_precision: 0.7417 - val_recall: 0.6165\n",
      "Epoch 8/10\n",
      "437/437 [==============================] - 2s 3ms/step - loss: 0.9046 - accuracy: 0.9699 - precision: 0.7910 - recall: 0.6637 - val_loss: 1.5859 - val_accuracy: 0.9604 - val_precision: 0.6870 - val_recall: 0.5993\n",
      "Epoch 9/10\n",
      "437/437 [==============================] - 2s 4ms/step - loss: 0.8938 - accuracy: 0.9704 - precision: 0.7908 - recall: 0.6754 - val_loss: 1.5765 - val_accuracy: 0.9623 - val_precision: 0.7094 - val_recall: 0.6079\n",
      "Epoch 10/10\n",
      "437/437 [==============================] - 2s 4ms/step - loss: 0.8698 - accuracy: 0.9717 - precision: 0.8017 - recall: 0.6905 - val_loss: 1.4778 - val_accuracy: 0.9644 - val_precision: 0.7357 - val_recall: 0.6165\n",
      "69/69 [==============================] - 0s 2ms/step\n",
      "[14  1  3 ... 11 14 12]\n",
      "              precision    recall  f1-score   support\n",
      "\n",
      "           0       1.00      0.07      0.14        68\n",
      "           1       0.87      0.49      0.63       176\n",
      "           2       0.81      0.56      0.66        97\n",
      "           3       0.75      0.73      0.74        90\n",
      "           4       0.96      0.25      0.39        93\n",
      "           5       0.85      0.58      0.69       108\n",
      "           6       0.95      0.59      0.73       126\n",
      "           7       0.75      0.65      0.70       136\n",
      "           8       0.70      0.51      0.59       122\n",
      "           9       0.93      0.33      0.49       155\n",
      "          10       0.90      0.30      0.44        61\n",
      "          11       0.40      0.69      0.51       172\n",
      "          12       0.75      0.72      0.73       182\n",
      "          13       0.81      0.34      0.48       151\n",
      "          14       0.27      0.91      0.41       200\n",
      "          15       0.81      0.89      0.85       169\n",
      "          16       0.93      0.82      0.87        77\n",
      "\n",
      "    accuracy                           0.59      2183\n",
      "   macro avg       0.79      0.55      0.59      2183\n",
      "weighted avg       0.75      0.59      0.60      2183\n",
      "\n"
     ]
    }
   ],
   "source": [
    "fc_input = tf.keras.Input(shape=(600,), name=\"embs\")\n",
    "x = tf.keras.layers.Dense(200, activation=\"leaky_relu\")(fc_input)\n",
    "#x = tf.keras.activations.swish(x)\n",
    "x = tf.keras.layers.Dense(360, activation=\"leaky_relu\")(x)\n",
    "x = tf.keras.layers.Dropout(0.2)(x)\n",
    "#x = tf.keras.activations.swish(x)\n",
    "fc_out = tf.keras.layers.Dense(17, activation=\"softmax\")(x)\n",
    "\n",
    "my_model7= tf.keras.Model(inputs=fc_input, outputs=fc_out, name=\"News_Classifier\")\n",
    "\n",
    "\n",
    "opt = tf.keras.optimizers.AdamW(learning_rate =0.007 , beta_1=0.9,\n",
    "    beta_2=0.999,\n",
    "    use_ema=True,\n",
    "    ema_momentum=0.9999)\n",
    "\n",
    "\n",
    "\n",
    "\n",
    "\n",
    "my_model7.compile(optimizer = opt , \n",
    "              loss = 'categorical_crossentropy' ,\n",
    "              metrics=[tf.keras.metrics.BinaryAccuracy(name='accuracy'),\n",
    "                       tf.keras.metrics.Precision(name='precision'),\n",
    "                       tf.keras.metrics.Recall(name='recall')])\n",
    "\n",
    "\n",
    "\n",
    "\n",
    "\n",
    "my_model7.fit(X_train , y_train1 , batch_size = 16 , epochs = 10 , validation_split=(0.2) ,verbose =1)\n",
    "\n",
    "\n",
    "predictions = np.argmax(my_model7.predict(X_test), axis=-1)\n",
    "\n",
    "print(predictions)\n",
    "\n",
    "\n",
    "print(classification_report(y_test.values , predictions))"
   ]
  },
  {
   "cell_type": "code",
   "execution_count": 262,
   "id": "3f95fc1d",
   "metadata": {
    "ExecuteTime": {
     "end_time": "2024-02-14T18:24:05.557010Z",
     "start_time": "2024-02-14T18:24:05.553775Z"
    }
   },
   "outputs": [],
   "source": [
    "############################################################################################################################"
   ]
  },
  {
   "cell_type": "code",
   "execution_count": 264,
   "id": "505c707d",
   "metadata": {
    "ExecuteTime": {
     "end_time": "2024-02-14T18:25:26.509296Z",
     "start_time": "2024-02-14T18:24:52.269103Z"
    }
   },
   "outputs": [
    {
     "name": "stdout",
     "output_type": "stream",
     "text": [
      "Epoch 1/20\n",
      "437/437 [==============================] - 3s 5ms/step - loss: 1.5319 - accuracy: 0.9522 - precision: 0.6732 - recall: 0.3631 - val_loss: 1.2065 - val_accuracy: 0.9616 - val_precision: 0.7452 - val_recall: 0.5289\n",
      "Epoch 2/20\n",
      "437/437 [==============================] - 2s 4ms/step - loss: 1.2314 - accuracy: 0.9609 - precision: 0.7380 - recall: 0.5201 - val_loss: 1.3648 - val_accuracy: 0.9608 - val_precision: 0.7378 - val_recall: 0.5186\n",
      "Epoch 3/20\n",
      "437/437 [==============================] - 2s 4ms/step - loss: 1.1353 - accuracy: 0.9633 - precision: 0.7503 - recall: 0.5632 - val_loss: 1.3212 - val_accuracy: 0.9621 - val_precision: 0.7354 - val_recall: 0.5552\n",
      "Epoch 4/20\n",
      "437/437 [==============================] - 2s 4ms/step - loss: 1.0689 - accuracy: 0.9648 - precision: 0.7551 - recall: 0.5936 - val_loss: 1.2892 - val_accuracy: 0.9631 - val_precision: 0.7192 - val_recall: 0.6113\n",
      "Epoch 5/20\n",
      "437/437 [==============================] - 2s 4ms/step - loss: 0.9998 - accuracy: 0.9673 - precision: 0.7748 - recall: 0.6261 - val_loss: 1.3811 - val_accuracy: 0.9610 - val_precision: 0.7086 - val_recall: 0.5736\n",
      "Epoch 6/20\n",
      "437/437 [==============================] - 2s 4ms/step - loss: 0.9863 - accuracy: 0.9681 - precision: 0.7781 - recall: 0.6409 - val_loss: 1.4514 - val_accuracy: 0.9620 - val_precision: 0.7104 - val_recall: 0.5982\n",
      "Epoch 7/20\n",
      "437/437 [==============================] - 2s 4ms/step - loss: 0.9591 - accuracy: 0.9685 - precision: 0.7788 - recall: 0.6485 - val_loss: 1.5961 - val_accuracy: 0.9599 - val_precision: 0.6829 - val_recall: 0.5942\n",
      "Epoch 8/20\n",
      "437/437 [==============================] - 2s 4ms/step - loss: 0.9088 - accuracy: 0.9698 - precision: 0.7873 - recall: 0.6667 - val_loss: 1.5301 - val_accuracy: 0.9611 - val_precision: 0.7061 - val_recall: 0.5804\n",
      "Epoch 9/20\n",
      "437/437 [==============================] - 2s 4ms/step - loss: 0.8862 - accuracy: 0.9714 - precision: 0.8009 - recall: 0.6826 - val_loss: 1.3697 - val_accuracy: 0.9637 - val_precision: 0.7236 - val_recall: 0.6188\n",
      "Epoch 10/20\n",
      "437/437 [==============================] - 2s 4ms/step - loss: 0.8460 - accuracy: 0.9719 - precision: 0.8004 - recall: 0.6963 - val_loss: 1.3959 - val_accuracy: 0.9650 - val_precision: 0.7421 - val_recall: 0.6211\n",
      "Epoch 11/20\n",
      "437/437 [==============================] - 2s 4ms/step - loss: 0.8884 - accuracy: 0.9718 - precision: 0.7982 - recall: 0.6975 - val_loss: 1.5193 - val_accuracy: 0.9637 - val_precision: 0.7188 - val_recall: 0.6291\n",
      "Epoch 12/20\n",
      "437/437 [==============================] - 2s 4ms/step - loss: 0.8040 - accuracy: 0.9732 - precision: 0.8119 - recall: 0.7095 - val_loss: 1.5411 - val_accuracy: 0.9641 - val_precision: 0.7304 - val_recall: 0.6171\n",
      "Epoch 13/20\n",
      "437/437 [==============================] - 2s 4ms/step - loss: 0.8542 - accuracy: 0.9724 - precision: 0.8004 - recall: 0.7067 - val_loss: 1.6123 - val_accuracy: 0.9638 - val_precision: 0.7254 - val_recall: 0.6199\n",
      "Epoch 14/20\n",
      "437/437 [==============================] - 2s 3ms/step - loss: 0.7825 - accuracy: 0.9741 - precision: 0.8157 - recall: 0.7230 - val_loss: 1.5464 - val_accuracy: 0.9668 - val_precision: 0.7479 - val_recall: 0.6571\n",
      "Epoch 15/20\n",
      "437/437 [==============================] - 2s 4ms/step - loss: 0.7827 - accuracy: 0.9747 - precision: 0.8188 - recall: 0.7311 - val_loss: 1.6656 - val_accuracy: 0.9627 - val_precision: 0.7008 - val_recall: 0.6394\n",
      "Epoch 16/20\n",
      "437/437 [==============================] - 2s 4ms/step - loss: 0.7725 - accuracy: 0.9750 - precision: 0.8198 - recall: 0.7369 - val_loss: 1.6608 - val_accuracy: 0.9626 - val_precision: 0.7125 - val_recall: 0.6113\n",
      "Epoch 17/20\n",
      "437/437 [==============================] - 2s 4ms/step - loss: 0.7614 - accuracy: 0.9748 - precision: 0.8175 - recall: 0.7361 - val_loss: 1.7095 - val_accuracy: 0.9641 - val_precision: 0.7196 - val_recall: 0.6377\n",
      "Epoch 18/20\n",
      "437/437 [==============================] - 2s 4ms/step - loss: 0.7576 - accuracy: 0.9749 - precision: 0.8161 - recall: 0.7394 - val_loss: 1.9046 - val_accuracy: 0.9607 - val_precision: 0.6826 - val_recall: 0.6205\n",
      "Epoch 19/20\n",
      "437/437 [==============================] - 2s 4ms/step - loss: 0.7398 - accuracy: 0.9762 - precision: 0.8281 - recall: 0.7512 - val_loss: 1.9368 - val_accuracy: 0.9604 - val_precision: 0.6790 - val_recall: 0.6188\n",
      "Epoch 20/20\n",
      "437/437 [==============================] - 2s 4ms/step - loss: 0.7532 - accuracy: 0.9754 - precision: 0.8181 - recall: 0.7489 - val_loss: 1.7641 - val_accuracy: 0.9620 - val_precision: 0.7003 - val_recall: 0.6193\n",
      "69/69 [==============================] - 0s 2ms/step\n",
      "[14  1 16 ... 11  9 12]\n",
      "              precision    recall  f1-score   support\n",
      "\n",
      "           0       0.96      0.35      0.52        68\n",
      "           1       0.87      0.62      0.73       176\n",
      "           2       0.70      0.77      0.74        97\n",
      "           3       0.76      0.73      0.75        90\n",
      "           4       0.95      0.43      0.59        93\n",
      "           5       0.67      0.78      0.72       108\n",
      "           6       0.88      0.77      0.82       126\n",
      "           7       0.78      0.74      0.76       136\n",
      "           8       0.68      0.66      0.67       122\n",
      "           9       0.89      0.59      0.71       155\n",
      "          10       0.88      0.49      0.63        61\n",
      "          11       0.52      0.74      0.62       172\n",
      "          12       0.76      0.76      0.76       182\n",
      "          13       0.75      0.56      0.64       151\n",
      "          14       0.41      0.77      0.53       200\n",
      "          15       0.86      0.92      0.89       169\n",
      "          16       0.89      0.88      0.89        77\n",
      "\n",
      "    accuracy                           0.70      2183\n",
      "   macro avg       0.78      0.68      0.70      2183\n",
      "weighted avg       0.75      0.70      0.70      2183\n",
      "\n"
     ]
    }
   ],
   "source": [
    "fc_input = tf.keras.Input(shape=(600,), name=\"embs\")\n",
    "x = tf.keras.layers.Dense(200, activation=\"leaky_relu\")(fc_input)\n",
    "#x = tf.keras.activations.swish(x)\n",
    "x = tf.keras.layers.Dense(360, activation=\"leaky_relu\")(x)\n",
    "x = tf.keras.layers.Dropout(0.2)(x)\n",
    "#x = tf.keras.activations.swish(x)\n",
    "fc_out = tf.keras.layers.Dense(17, activation=\"softmax\")(x)\n",
    "\n",
    "my_model7= tf.keras.Model(inputs=fc_input, outputs=fc_out, name=\"News_Classifier\")\n",
    "\n",
    "\n",
    "opt = tf.keras.optimizers.AdamW(learning_rate =0.007 , beta_1=0.9,\n",
    "    beta_2=0.999,\n",
    "    use_ema=True,\n",
    "    ema_momentum=0.9999)\n",
    "\n",
    "\n",
    "\n",
    "\n",
    "\n",
    "my_model7.compile(optimizer = opt , \n",
    "              loss = 'categorical_crossentropy' ,\n",
    "              metrics=[tf.keras.metrics.BinaryAccuracy(name='accuracy'),\n",
    "                       tf.keras.metrics.Precision(name='precision'),\n",
    "                       tf.keras.metrics.Recall(name='recall')])\n",
    "\n",
    "\n",
    "\n",
    "\n",
    "\n",
    "HIST = my_model7.fit(X_train , y_train1 , batch_size = 16 , epochs = 20 , validation_split=(0.2) ,verbose =1)\n",
    "\n",
    "\n",
    "predictions = np.argmax(my_model7.predict(X_test), axis=-1)\n",
    "\n",
    "print(predictions)\n",
    "\n",
    "\n",
    "print(classification_report(y_test.values , predictions))"
   ]
  },
  {
   "cell_type": "code",
   "execution_count": 265,
   "id": "01d8f804",
   "metadata": {
    "ExecuteTime": {
     "end_time": "2024-02-14T18:25:39.610775Z",
     "start_time": "2024-02-14T18:25:39.012945Z"
    }
   },
   "outputs": [
    {
     "data": {
      "image/png": "[encoded data removed]",
      "text/plain": [
       "<Figure size 1200x500 with 2 Axes>"
      ]
     },
     "metadata": {},
     "output_type": "display_data"
    }
   ],
   "source": [
    "def plot_history(history):\n",
    "    acc = history.history['accuracy']\n",
    "    val_acc = history.history['val_accuracy']\n",
    "    loss = history.history['loss']\n",
    "    val_loss = history.history['val_loss']\n",
    "    x = range(1, len(acc) + 1)\n",
    "\n",
    "    plt.figure(figsize=(12, 5))\n",
    "    plt.subplot(1, 2, 1)\n",
    "    plt.plot(x, acc, 'b', label='Training acc')\n",
    "    plt.plot(x, val_acc, 'r', label='Validation acc')\n",
    "    plt.title('Training and validation accuracy')\n",
    "    plt.legend()\n",
    "    plt.subplot(1, 2, 2)\n",
    "    plt.plot(x, loss, 'b', label='Training loss')\n",
    "    plt.plot(x, val_loss, 'r', label='Validation loss')\n",
    "    plt.title('Training and validation loss')\n",
    "    plt.legend()\n",
    "    \n",
    "    \n",
    "    \n",
    "    \n",
    "plot_history(HIST)"
   ]
  },
  {
   "cell_type": "code",
   "execution_count": null,
   "id": "a4217de7",
   "metadata": {},
   "outputs": [],
   "source": []
  }
 ],
 "metadata": {
  "hide_input": false,
  "kernelspec": {
   "display_name": "Python 3 (ipykernel)",
   "language": "python",
   "name": "python3"
  },
  "language_info": {
   "codemirror_mode": {
    "name": "ipython",
    "version": 3
   },
   "file_extension": ".py",
   "mimetype": "text/x-python",
   "name": "python",
   "nbconvert_exporter": "python",
   "pygments_lexer": "ipython3",
   "version": "3.11.5"
  },
  "nbTranslate": {
   "displayLangs": [
    "*"
   ],
   "hotkey": "alt-t",
   "langInMainMenu": true,
   "sourceLang": "en",
   "targetLang": "fr",
   "useGoogleTranslate": true
  },
  "toc": {
   "base_numbering": 1,
   "nav_menu": {},
   "number_sections": true,
   "sideBar": true,
   "skip_h1_title": false,
   "title_cell": "Table of Contents",
   "title_sidebar": "Contents",
   "toc_cell": false,
   "toc_position": {},
   "toc_section_display": true,
   "toc_window_display": false
  },
  "varInspector": {
   "cols": {
    "lenName": 16,
    "lenType": 16,
    "lenVar": 40
   },
   "kernels_config": {
    "python": {
     "delete_cmd_postfix": "",
     "delete_cmd_prefix": "del ",
     "library": "var_list.py",
     "varRefreshCmd": "print(var_dic_list())"
    },
    "r": {
     "delete_cmd_postfix": ") ",
     "delete_cmd_prefix": "rm(",
     "library": "var_list.r",
     "varRefreshCmd": "cat(var_dic_list()) "
    }
   },
   "types_to_exclude": [
    "module",
    "function",
    "builtin_function_or_method",
    "instance",
    "_Feature"
   ],
   "window_display": false
  }
 },
 "nbformat": 4,
 "nbformat_minor": 5
}
