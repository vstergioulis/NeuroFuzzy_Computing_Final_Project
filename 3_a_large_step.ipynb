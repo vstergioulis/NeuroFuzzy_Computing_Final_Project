{
 "cells": [
  {
   "cell_type": "code",
   "execution_count": 1,
   "id": "62a15d57",
   "metadata": {
    "ExecuteTime": {
     "end_time": "2024-02-13T17:23:51.356941Z",
     "start_time": "2024-02-13T17:23:40.918353Z"
    }
   },
   "outputs": [
    {
     "name": "stdout",
     "output_type": "stream",
     "text": [
      "WARNING:tensorflow:From C:\\Users\\Desktop\\anaconda3\\Lib\\site-packages\\keras\\src\\losses.py:2976: The name tf.losses.sparse_softmax_cross_entropy is deprecated. Please use tf.compat.v1.losses.sparse_softmax_cross_entropy instead.\n",
      "\n"
     ]
    }
   ],
   "source": [
    "import numpy as np\n",
    "import pandas as pd\n",
    "import matplotlib.pyplot as plt\n",
    "\n",
    "from tensorflow.keras.models import Sequential\n",
    "from tensorflow.keras.layers import Dense, Activation\n",
    "import tensorflow as tf\n",
    "\n",
    "from sklearn.model_selection import train_test_split\n",
    "from sklearn.preprocessing import LabelEncoder\n",
    "from sklearn.preprocessing import MinMaxScaler\n",
    "import gensim\n",
    "\n",
    "from gensim.models import Word2Vec, KeyedVectors\n",
    "\n",
    "from nltk.stem import WordNetLemmatizer\n",
    "from nltk.corpus import stopwords\n",
    "from nltk.tokenize import RegexpTokenizer\n",
    "import re\n",
    "import matplotlib.pyplot as plt\n",
    "import nltk\n",
    "\n",
    "from tensorflow.keras.utils import to_categorical"
   ]
  },
  {
   "cell_type": "code",
   "execution_count": 2,
   "id": "61921baa",
   "metadata": {
    "ExecuteTime": {
     "end_time": "2024-02-13T17:23:52.111011Z",
     "start_time": "2024-02-13T17:23:51.392749Z"
    }
   },
   "outputs": [
    {
     "data": {
      "text/plain": [
       "category_level_1\n",
       "arts, culture, entertainment and media        300\n",
       "conflict, war and peace                       800\n",
       "crime, law and justice                        500\n",
       "disaster, accident and emergency incident     500\n",
       "economy, business and finance                 400\n",
       "education                                     607\n",
       "environment                                   600\n",
       "health                                        700\n",
       "human interest                                600\n",
       "labour                                        703\n",
       "lifestyle and leisure                         300\n",
       "politics                                      900\n",
       "religion and belief                           800\n",
       "science and technology                        800\n",
       "society                                      1100\n",
       "sport                                         907\n",
       "weather                                       400\n",
       "Name: data_id, dtype: int64"
      ]
     },
     "execution_count": 2,
     "metadata": {},
     "output_type": "execute_result"
    }
   ],
   "source": [
    "data = pd.read_csv(\"data/news_class.csv\")\n",
    "\n",
    "df = data.copy() # to be safe and avoid errors\n",
    "\n",
    "df = df.loc[:,[\"data_id\" , \"content\" , \"category_level_1\" , \"category_level_2\"]]\n",
    "df.groupby(['category_level_1'])['data_id'].agg('count')"
   ]
  },
  {
   "cell_type": "code",
   "execution_count": 3,
   "id": "094ed9bd",
   "metadata": {
    "ExecuteTime": {
     "end_time": "2024-02-13T17:23:54.652666Z",
     "start_time": "2024-02-13T17:23:54.641664Z"
    }
   },
   "outputs": [],
   "source": [
    "def labeler(dataframe_column):\n",
    "    encoder=LabelEncoder()\n",
    "    \n",
    "    labels = encoder.fit_transform(dataframe_column)\n",
    "    print(encoder.classes_)\n",
    "    print(\"We did it boys , labels have been created\")\n",
    "    \n",
    "    return(pd.DataFrame(labels))"
   ]
  },
  {
   "cell_type": "code",
   "execution_count": 4,
   "id": "509d5881",
   "metadata": {
    "ExecuteTime": {
     "end_time": "2024-02-13T17:23:55.336008Z",
     "start_time": "2024-02-13T17:23:55.326872Z"
    }
   },
   "outputs": [],
   "source": [
    "# Function for removing ASCII characters\n",
    "def _removeNonAscii(s):\n",
    "    return \"\".join(i for i in s if  ord(i)<128)\n",
    "\n",
    "# Function for converting to lower case\n",
    "def make_lower_case(text):\n",
    "    return text.lower()\n",
    "\n",
    "# Function for removing stop words\n",
    "\n",
    "def remove_stop_words(text):\n",
    "    tokenizer = RegexpTokenizer(r'\\w+')\n",
    "    text =  tokenizer.tokenize(text)\n",
    "    stops = set(stopwords.words(\"english\"))\n",
    "    text = [w for w in text if not w in stops]\n",
    "    text = \" \".join(text)\n",
    "    return text\n",
    "\n",
    "\n",
    "# Function for removing html\n",
    "def remove_html(text):\n",
    "    html_pattern = re.compile('<.*?>')\n",
    "    return html_pattern.sub(r'', text)\n",
    "\n",
    "# Function for removing punctuation\n",
    "def remove_punctuation(text):\n",
    "    tokenizer = RegexpTokenizer(r'\\w+')\n",
    "    text = tokenizer.tokenize(text)\n",
    "    text = \" \".join(text)\n",
    "    return text\n",
    "\n",
    "def lemm_text(text):\n",
    "    lemm=WordNetLemmatizer()\n",
    "    tokenizer = RegexpTokenizer(r'\\w+')\n",
    "    text = tokenizer.tokenize(text)\n",
    "    tokens = text\n",
    "    return ' '.join([lemm.lemmatize(t) for t in tokens])\n",
    "\n",
    "\n",
    "def remove_digits(text):\n",
    "    text = re.sub(r'\\d', '', text)\n",
    "    #text = \" \".join(text)\n",
    "    return text"
   ]
  },
  {
   "cell_type": "code",
   "execution_count": 5,
   "id": "596ec1c4",
   "metadata": {
    "ExecuteTime": {
     "end_time": "2024-02-13T17:24:36.893580Z",
     "start_time": "2024-02-13T17:23:56.111565Z"
    }
   },
   "outputs": [],
   "source": [
    "df['Cleaned'] = df['content'].apply(_removeNonAscii)\n",
    "df['Cleaned'] = df.Cleaned.apply(func = make_lower_case)\n",
    "df['Cleaned'] = df.Cleaned.apply(func = remove_stop_words)\n",
    "df['Cleaned'] = df.Cleaned.apply(func = remove_punctuation)\n",
    "df['Cleaned'] = df.Cleaned.apply(func = remove_html)\n",
    "df['Cleaned'] = df.Cleaned.apply(func = lemm_text)\n",
    "df['Cleaned'] = df.Cleaned.apply(func = remove_digits)\n",
    "df = df.drop('content' , axis =1)"
   ]
  },
  {
   "cell_type": "code",
   "execution_count": 6,
   "id": "b128e925",
   "metadata": {
    "ExecuteTime": {
     "end_time": "2024-02-13T17:24:36.934186Z",
     "start_time": "2024-02-13T17:24:36.918186Z"
    }
   },
   "outputs": [
    {
     "data": {
      "text/html": [
       "<div>\n",
       "<style scoped>\n",
       "    .dataframe tbody tr th:only-of-type {\n",
       "        vertical-align: middle;\n",
       "    }\n",
       "\n",
       "    .dataframe tbody tr th {\n",
       "        vertical-align: top;\n",
       "    }\n",
       "\n",
       "    .dataframe thead th {\n",
       "        text-align: right;\n",
       "    }\n",
       "</style>\n",
       "<table border=\"1\" class=\"dataframe\">\n",
       "  <thead>\n",
       "    <tr style=\"text-align: right;\">\n",
       "      <th></th>\n",
       "      <th>data_id</th>\n",
       "      <th>category_level_1</th>\n",
       "      <th>category_level_2</th>\n",
       "      <th>Cleaned</th>\n",
       "    </tr>\n",
       "  </thead>\n",
       "  <tbody>\n",
       "    <tr>\n",
       "      <th>0</th>\n",
       "      <td>1809</td>\n",
       "      <td>crime, law and justice</td>\n",
       "      <td>crime</td>\n",
       "      <td>virginia woman whose  year old son found trash...</td>\n",
       "    </tr>\n",
       "    <tr>\n",
       "      <th>1</th>\n",
       "      <td>1980</td>\n",
       "      <td>crime, law and justice</td>\n",
       "      <td>crime</td>\n",
       "      <td>authority trying determine anyone helped two i...</td>\n",
       "    </tr>\n",
       "    <tr>\n",
       "      <th>2</th>\n",
       "      <td>1995</td>\n",
       "      <td>crime, law and justice</td>\n",
       "      <td>crime</td>\n",
       "      <td>year old suspect double homicide escaped cust...</td>\n",
       "    </tr>\n",
       "    <tr>\n",
       "      <th>3</th>\n",
       "      <td>2740</td>\n",
       "      <td>crime, law and justice</td>\n",
       "      <td>crime</td>\n",
       "      <td>mother two young child found hanging pennsylva...</td>\n",
       "    </tr>\n",
       "    <tr>\n",
       "      <th>4</th>\n",
       "      <td>7038</td>\n",
       "      <td>crime, law and justice</td>\n",
       "      <td>crime</td>\n",
       "      <td>one family member said derek violent attacked ...</td>\n",
       "    </tr>\n",
       "    <tr>\n",
       "      <th>...</th>\n",
       "      <td>...</td>\n",
       "      <td>...</td>\n",
       "      <td>...</td>\n",
       "      <td>...</td>\n",
       "    </tr>\n",
       "    <tr>\n",
       "      <th>10912</th>\n",
       "      <td>907640</td>\n",
       "      <td>conflict, war and peace</td>\n",
       "      <td>post-war reconstruction</td>\n",
       "      <td>post originally published site beirut lebanon ...</td>\n",
       "    </tr>\n",
       "    <tr>\n",
       "      <th>10913</th>\n",
       "      <td>892720</td>\n",
       "      <td>conflict, war and peace</td>\n",
       "      <td>post-war reconstruction</td>\n",
       "      <td>post originally published site kiev october  t...</td>\n",
       "    </tr>\n",
       "    <tr>\n",
       "      <th>10914</th>\n",
       "      <td>870499</td>\n",
       "      <td>conflict, war and peace</td>\n",
       "      <td>post-war reconstruction</td>\n",
       "      <td>post http www presstv ir detail     iran suppo...</td>\n",
       "    </tr>\n",
       "    <tr>\n",
       "      <th>10915</th>\n",
       "      <td>887334</td>\n",
       "      <td>conflict, war and peace</td>\n",
       "      <td>post-war reconstruction</td>\n",
       "      <td>post http www presstv ir detail     iraq salih...</td>\n",
       "    </tr>\n",
       "    <tr>\n",
       "      <th>10916</th>\n",
       "      <td>885988</td>\n",
       "      <td>conflict, war and peace</td>\n",
       "      <td>post-war reconstruction</td>\n",
       "      <td>post http ta com politics  originally publishe...</td>\n",
       "    </tr>\n",
       "  </tbody>\n",
       "</table>\n",
       "<p>10917 rows × 4 columns</p>\n",
       "</div>"
      ],
      "text/plain": [
       "       data_id         category_level_1         category_level_2  \\\n",
       "0         1809   crime, law and justice                    crime   \n",
       "1         1980   crime, law and justice                    crime   \n",
       "2         1995   crime, law and justice                    crime   \n",
       "3         2740   crime, law and justice                    crime   \n",
       "4         7038   crime, law and justice                    crime   \n",
       "...        ...                      ...                      ...   \n",
       "10912   907640  conflict, war and peace  post-war reconstruction   \n",
       "10913   892720  conflict, war and peace  post-war reconstruction   \n",
       "10914   870499  conflict, war and peace  post-war reconstruction   \n",
       "10915   887334  conflict, war and peace  post-war reconstruction   \n",
       "10916   885988  conflict, war and peace  post-war reconstruction   \n",
       "\n",
       "                                                 Cleaned  \n",
       "0      virginia woman whose  year old son found trash...  \n",
       "1      authority trying determine anyone helped two i...  \n",
       "2       year old suspect double homicide escaped cust...  \n",
       "3      mother two young child found hanging pennsylva...  \n",
       "4      one family member said derek violent attacked ...  \n",
       "...                                                  ...  \n",
       "10912  post originally published site beirut lebanon ...  \n",
       "10913  post originally published site kiev october  t...  \n",
       "10914  post http www presstv ir detail     iran suppo...  \n",
       "10915  post http www presstv ir detail     iraq salih...  \n",
       "10916  post http ta com politics  originally publishe...  \n",
       "\n",
       "[10917 rows x 4 columns]"
      ]
     },
     "execution_count": 6,
     "metadata": {},
     "output_type": "execute_result"
    }
   ],
   "source": [
    "df"
   ]
  },
  {
   "cell_type": "code",
   "execution_count": 7,
   "id": "f786445f",
   "metadata": {
    "ExecuteTime": {
     "end_time": "2024-02-13T17:24:41.646202Z",
     "start_time": "2024-02-13T17:24:41.273506Z"
    }
   },
   "outputs": [],
   "source": [
    "io = df.copy()\n",
    "\n",
    "io = io.drop([374]).reset_index(drop=True)\n",
    "io = io.drop([6527]).reset_index(drop=True)\n",
    "\n",
    "corpus_full = []\n",
    "for words in io['Cleaned']:\n",
    "    corpus_full.append(words.split()) "
   ]
  },
  {
   "cell_type": "code",
   "execution_count": 8,
   "id": "cd46b21c",
   "metadata": {
    "ExecuteTime": {
     "end_time": "2024-02-13T17:24:42.084706Z",
     "start_time": "2024-02-13T17:24:42.063180Z"
    }
   },
   "outputs": [],
   "source": [
    "def vectorizer():\n",
    "    \n",
    "    \n",
    "    # Creating a list for storing the vectors ('Description' into vectors)\n",
    "    #global word_embeddings\n",
    "    word_embeddings = []\n",
    "    i = 0\n",
    "    # Reading the each 'Description'\n",
    "    for line in io['Cleaned']:\n",
    "        avgword2vec = None\n",
    "        count = 0\n",
    "        for word in line.split():\n",
    "            if word in model.wv.key_to_index:\n",
    "                count += 1\n",
    "                if avgword2vec is None:\n",
    "                    avgword2vec = model.wv[word]\n",
    "                else:\n",
    "                    avgword2vec = avgword2vec + model.wv[word]\n",
    "                \n",
    "        if avgword2vec is not None:\n",
    "            avgword2vec = avgword2vec / count\n",
    "            word_embeddings.append(avgword2vec)\n",
    "        else:\n",
    "            print(\"I found it , the error occurs at line:\" , i)\n",
    "          \n",
    "        i +=1 \n",
    "\n",
    "    return(pd.DataFrame(word_embeddings))  # Returning our Data as a Dataframe (aesthetic reasons)"
   ]
  },
  {
   "cell_type": "code",
   "execution_count": 9,
   "id": "c4bd9d95",
   "metadata": {
    "ExecuteTime": {
     "end_time": "2024-02-13T17:24:44.232102Z",
     "start_time": "2024-02-13T17:24:43.240506Z"
    }
   },
   "outputs": [],
   "source": [
    "#model = Word2Vec(sentences=corpus_train_full, vector_size=200, window=4, min_count=2, sg = 1 , hs = 1)  # skipgram architecture\n",
    "\n",
    "\n",
    "\n",
    "model = Word2Vec.load(\"model_no_numbers.h3\")"
   ]
  },
  {
   "cell_type": "code",
   "execution_count": 10,
   "id": "f40841a5",
   "metadata": {
    "ExecuteTime": {
     "end_time": "2024-02-13T17:24:44.796997Z",
     "start_time": "2024-02-13T17:24:44.785846Z"
    }
   },
   "outputs": [
    {
     "data": {
      "text/plain": [
       "57876"
      ]
     },
     "execution_count": 10,
     "metadata": {},
     "output_type": "execute_result"
    }
   ],
   "source": [
    "vocab_len = len(model.wv)\n",
    "\n",
    "vocab_len"
   ]
  },
  {
   "cell_type": "code",
   "execution_count": 11,
   "id": "b66073b1",
   "metadata": {
    "ExecuteTime": {
     "end_time": "2024-02-13T17:24:58.277597Z",
     "start_time": "2024-02-13T17:24:45.315536Z"
    }
   },
   "outputs": [],
   "source": [
    "vect = vectorizer()"
   ]
  },
  {
   "cell_type": "code",
   "execution_count": 12,
   "id": "4cf1c3c6",
   "metadata": {
    "ExecuteTime": {
     "end_time": "2024-02-13T17:24:58.383112Z",
     "start_time": "2024-02-13T17:24:58.357111Z"
    }
   },
   "outputs": [
    {
     "name": "stdout",
     "output_type": "stream",
     "text": [
      "['arts, culture, entertainment and media' 'conflict, war and peace'\n",
      " 'crime, law and justice' 'disaster, accident and emergency incident'\n",
      " 'economy, business and finance' 'education' 'environment' 'health'\n",
      " 'human interest' 'labour' 'lifestyle and leisure' 'politics'\n",
      " 'religion and belief' 'science and technology' 'society' 'sport'\n",
      " 'weather']\n",
      "We did it boys , labels have been created\n"
     ]
    }
   ],
   "source": [
    "y1 = labeler(io[\"category_level_1\"])\n",
    "\n",
    "\n",
    "X = vect.copy()\n",
    "\n",
    "X_train, X_test, y_train, y_test = train_test_split(X, y1, test_size=0.2,random_state=42)\n",
    "\n",
    "y_train1 = to_categorical(y_train)"
   ]
  },
  {
   "cell_type": "code",
   "execution_count": 19,
   "id": "6ad40102",
   "metadata": {
    "ExecuteTime": {
     "end_time": "2024-02-13T17:26:09.378531Z",
     "start_time": "2024-02-13T17:26:09.371508Z"
    }
   },
   "outputs": [],
   "source": [
    "y_test1 = to_categorical(y_test)"
   ]
  },
  {
   "cell_type": "code",
   "execution_count": 13,
   "id": "b4e128f4",
   "metadata": {
    "ExecuteTime": {
     "end_time": "2024-02-13T17:25:19.694557Z",
     "start_time": "2024-02-13T17:25:19.686027Z"
    }
   },
   "outputs": [],
   "source": [
    "from sklearn.metrics import classification_report, confusion_matrix\n",
    "from tensorflow.keras.layers import Flatten , Input , Conv2D , MaxPooling2D , BatchNormalization"
   ]
  },
  {
   "cell_type": "code",
   "execution_count": 14,
   "id": "4660649e",
   "metadata": {
    "ExecuteTime": {
     "end_time": "2024-02-13T17:25:21.143611Z",
     "start_time": "2024-02-13T17:25:20.460561Z"
    }
   },
   "outputs": [
    {
     "name": "stdout",
     "output_type": "stream",
     "text": [
      "WARNING:tensorflow:From C:\\Users\\Desktop\\anaconda3\\Lib\\site-packages\\keras\\src\\backend.py:873: The name tf.get_default_graph is deprecated. Please use tf.compat.v1.get_default_graph instead.\n",
      "\n"
     ]
    }
   ],
   "source": [
    "model_3 = Sequential()\n",
    "model_3.add(Dense(200,input_dim=200,activation = \"leaky_relu\"))\n",
    "model_3.add(Dense(360,activation = \"leaky_relu\"))\n",
    "model_3.add(tf.keras.layers.Dropout(0.2))\n",
    "#model_3.add(Dense(60,activation = \"leaky_relu\"))\n",
    "#model6.add(Dense(30,activation = \"leaky_relu\"))\n",
    "model_3.add(Dense(17,activation = \"softmax\"))"
   ]
  },
  {
   "cell_type": "code",
   "execution_count": 15,
   "id": "a0697bfc",
   "metadata": {
    "ExecuteTime": {
     "end_time": "2024-02-13T17:25:21.590798Z",
     "start_time": "2024-02-13T17:25:21.578002Z"
    }
   },
   "outputs": [],
   "source": [
    "opt = tf.keras.optimizers.AdamW(learning_rate =0.007 , beta_1=0.9,\n",
    "    beta_2=0.999,\n",
    "    use_ema=True,\n",
    "    ema_momentum=0.99)"
   ]
  },
  {
   "cell_type": "code",
   "execution_count": 16,
   "id": "1c1f1d22",
   "metadata": {
    "ExecuteTime": {
     "end_time": "2024-02-13T17:25:22.248145Z",
     "start_time": "2024-02-13T17:25:22.190141Z"
    }
   },
   "outputs": [],
   "source": [
    "model_3.compile(optimizer = opt , \n",
    "              loss = 'categorical_crossentropy' ,\n",
    "              metrics=[tf.keras.metrics.BinaryAccuracy(name='accuracy'),\n",
    "                       tf.keras.metrics.Precision(name='precision'),\n",
    "                       tf.keras.metrics.Recall(name='recall')])"
   ]
  },
  {
   "cell_type": "code",
   "execution_count": 21,
   "id": "70a96550",
   "metadata": {
    "ExecuteTime": {
     "end_time": "2024-02-13T17:27:01.704234Z",
     "start_time": "2024-02-13T17:26:55.570259Z"
    },
    "scrolled": false
   },
   "outputs": [
    {
     "name": "stdout",
     "output_type": "stream",
     "text": [
      "Epoch 1/4\n",
      "437/437 [==============================] - 2s 3ms/step - loss: 1.2876 - accuracy: 0.9576 - precision: 0.7136 - recall: 0.4651 - val_loss: 1.2454 - val_accuracy: 0.9581 - val_precision: 0.7087 - val_recall: 0.4888\n",
      "Epoch 2/4\n",
      "437/437 [==============================] - 1s 3ms/step - loss: 1.2362 - accuracy: 0.9591 - precision: 0.7168 - recall: 0.5039 - val_loss: 1.2633 - val_accuracy: 0.9600 - val_precision: 0.7357 - val_recall: 0.5003\n",
      "Epoch 3/4\n",
      "437/437 [==============================] - 1s 3ms/step - loss: 1.1622 - accuracy: 0.9619 - precision: 0.7404 - recall: 0.5414 - val_loss: 1.4672 - val_accuracy: 0.9566 - val_precision: 0.6778 - val_recall: 0.4997\n",
      "Epoch 4/4\n",
      "437/437 [==============================] - 1s 3ms/step - loss: 1.1321 - accuracy: 0.9633 - precision: 0.7524 - recall: 0.5611 - val_loss: 1.1521 - val_accuracy: 0.9636 - val_precision: 0.7596 - val_recall: 0.5570\n",
      "69/69 [==============================] - 0s 2ms/step\n",
      "[14  1  3 ... 11  9 12]\n",
      "              precision    recall  f1-score   support\n",
      "\n",
      "           0       0.61      0.51      0.56        68\n",
      "           1       0.79      0.75      0.77       176\n",
      "           2       0.74      0.71      0.73        97\n",
      "           3       0.64      0.73      0.68        90\n",
      "           4       0.74      0.53      0.62        93\n",
      "           5       0.69      0.77      0.73       108\n",
      "           6       0.78      0.83      0.80       126\n",
      "           7       0.75      0.71      0.73       136\n",
      "           8       0.77      0.48      0.59       122\n",
      "           9       0.83      0.59      0.69       155\n",
      "          10       0.66      0.72      0.69        61\n",
      "          11       0.56      0.69      0.62       172\n",
      "          12       0.72      0.79      0.75       182\n",
      "          13       0.67      0.60      0.63       151\n",
      "          14       0.51      0.65      0.57       200\n",
      "          15       0.80      0.89      0.85       169\n",
      "          16       0.88      0.83      0.85        77\n",
      "\n",
      "    accuracy                           0.70      2183\n",
      "   macro avg       0.71      0.69      0.70      2183\n",
      "weighted avg       0.71      0.70      0.70      2183\n",
      "\n"
     ]
    }
   ],
   "source": [
    "model_3.fit(X_train , y_train1 , batch_size = 16 , epochs = 4 , validation_split=(0.2) ,verbose =1)\n",
    "\n",
    "\n",
    "predictions = np.argmax(model_3.predict(X_test), axis=-1)\n",
    "\n",
    "print(predictions)\n",
    "\n",
    "\n",
    "print(classification_report(y_test.values , predictions))"
   ]
  },
  {
   "cell_type": "code",
   "execution_count": 22,
   "id": "cc7ed3e4",
   "metadata": {
    "ExecuteTime": {
     "end_time": "2024-02-13T17:27:07.607198Z",
     "start_time": "2024-02-13T17:27:07.297145Z"
    }
   },
   "outputs": [
    {
     "name": "stdout",
     "output_type": "stream",
     "text": [
      "69/69 [==============================] - 0s 3ms/step - loss: 0.9906 - accuracy: 0.9660 - precision: 0.8048 - recall: 0.5570\n",
      "\n",
      "loss: 0.991\n",
      "\n",
      "accuracy: 0.966\n",
      "\n",
      "precision: 0.805\n",
      "\n",
      "recall: 0.557\n"
     ]
    }
   ],
   "source": [
    "#accuracy = cnn_model.evaluate(X_test, caty_test, verbose=False)\n",
    "\n",
    "scores = model_3.evaluate(X_test, y_test1)\n",
    "\n",
    "for i, m in enumerate(model_3.metrics_names):\n",
    "    print(\"\\n%s: %.3f\"% (m, scores[i]))\n",
    "\n",
    "\n",
    "#print(\"Testing Accuracy:  {:.4f}\".format(accuracy[1]))"
   ]
  },
  {
   "cell_type": "code",
   "execution_count": 52,
   "id": "dccbc169",
   "metadata": {
    "ExecuteTime": {
     "end_time": "2024-02-12T21:21:23.307926Z",
     "start_time": "2024-02-12T21:21:23.302459Z"
    }
   },
   "outputs": [
    {
     "data": {
      "text/plain": [
       "'\\n1 - > 68 , 2 -> 69 , 3 -> 70 , 4 - > 71 , 7 - > 72 , 25, \\n\\n\\n\\n8 -> 74\\n16 -> 75\\n\\n\\n\\n\\n\\n'"
      ]
     },
     "execution_count": 52,
     "metadata": {},
     "output_type": "execute_result"
    }
   ],
   "source": [
    "\"\"\"\n",
    "1 - > 68 , 2 -> 69 , 3 -> 70 , 4 - > 71 , 7 - > 72 , 25, \n",
    "\n",
    "\n",
    "\n",
    "8 -> 74\n",
    "16 -> 75\n",
    "\n",
    "\n",
    "\n",
    "\n",
    "\n",
    "\"\"\""
   ]
  },
  {
   "cell_type": "code",
   "execution_count": 62,
   "id": "b1eae040",
   "metadata": {
    "ExecuteTime": {
     "end_time": "2024-02-12T21:23:10.030851Z",
     "start_time": "2024-02-12T21:22:34.566168Z"
    },
    "scrolled": true
   },
   "outputs": [
    {
     "name": "stdout",
     "output_type": "stream",
     "text": [
      "Epoch 1/25\n",
      "437/437 [==============================] - 3s 4ms/step - loss: 1.5555 - accuracy: 0.9520 - precision: 0.6786 - recall: 0.3509 - val_loss: 1.4731 - val_accuracy: 0.9566 - val_precision: 0.7196 - val_recall: 0.4305\n",
      "Epoch 2/25\n",
      "437/437 [==============================] - 2s 4ms/step - loss: 1.2921 - accuracy: 0.9578 - precision: 0.7136 - recall: 0.4712 - val_loss: 1.3625 - val_accuracy: 0.9589 - val_precision: 0.7032 - val_recall: 0.5209\n",
      "Epoch 3/25\n",
      "437/437 [==============================] - 1s 3ms/step - loss: 1.2199 - accuracy: 0.9595 - precision: 0.7197 - recall: 0.5112 - val_loss: 1.2857 - val_accuracy: 0.9592 - val_precision: 0.7154 - val_recall: 0.5094\n",
      "Epoch 4/25\n",
      "437/437 [==============================] - 1s 3ms/step - loss: 1.1565 - accuracy: 0.9616 - precision: 0.7396 - recall: 0.5369 - val_loss: 1.2650 - val_accuracy: 0.9612 - val_precision: 0.7249 - val_recall: 0.5489\n",
      "Epoch 5/25\n",
      "437/437 [==============================] - 1s 3ms/step - loss: 1.1180 - accuracy: 0.9636 - precision: 0.7545 - recall: 0.5651 - val_loss: 1.3385 - val_accuracy: 0.9595 - val_precision: 0.7131 - val_recall: 0.5220\n",
      "Epoch 6/25\n",
      "437/437 [==============================] - 1s 3ms/step - loss: 1.1256 - accuracy: 0.9630 - precision: 0.7442 - recall: 0.5651 - val_loss: 1.3666 - val_accuracy: 0.9599 - val_precision: 0.7058 - val_recall: 0.5467\n",
      "Epoch 7/25\n",
      "437/437 [==============================] - 1s 3ms/step - loss: 1.0809 - accuracy: 0.9643 - precision: 0.7534 - recall: 0.5847 - val_loss: 1.2706 - val_accuracy: 0.9621 - val_precision: 0.7394 - val_recall: 0.5489\n",
      "Epoch 8/25\n",
      "437/437 [==============================] - 1s 3ms/step - loss: 1.0466 - accuracy: 0.9650 - precision: 0.7582 - recall: 0.5947 - val_loss: 1.2250 - val_accuracy: 0.9638 - val_precision: 0.7491 - val_recall: 0.5776\n",
      "Epoch 9/25\n",
      "437/437 [==============================] - 1s 3ms/step - loss: 1.0339 - accuracy: 0.9658 - precision: 0.7631 - recall: 0.6060 - val_loss: 1.2194 - val_accuracy: 0.9634 - val_precision: 0.7439 - val_recall: 0.5753\n",
      "Epoch 10/25\n",
      "437/437 [==============================] - 1s 3ms/step - loss: 1.0126 - accuracy: 0.9664 - precision: 0.7679 - recall: 0.6139 - val_loss: 1.2859 - val_accuracy: 0.9617 - val_precision: 0.7172 - val_recall: 0.5764\n",
      "Epoch 11/25\n",
      "437/437 [==============================] - 1s 3ms/step - loss: 1.0068 - accuracy: 0.9668 - precision: 0.7715 - recall: 0.6196 - val_loss: 1.3531 - val_accuracy: 0.9612 - val_precision: 0.7124 - val_recall: 0.5701\n",
      "Epoch 12/25\n",
      "437/437 [==============================] - 1s 3ms/step - loss: 1.0003 - accuracy: 0.9670 - precision: 0.7711 - recall: 0.6245 - val_loss: 1.3912 - val_accuracy: 0.9575 - val_precision: 0.6825 - val_recall: 0.5192\n",
      "Epoch 13/25\n",
      "437/437 [==============================] - 1s 3ms/step - loss: 1.0155 - accuracy: 0.9661 - precision: 0.7611 - recall: 0.6185 - val_loss: 1.4052 - val_accuracy: 0.9614 - val_precision: 0.7007 - val_recall: 0.6005\n",
      "Epoch 14/25\n",
      "437/437 [==============================] - 2s 3ms/step - loss: 0.9603 - accuracy: 0.9677 - precision: 0.7724 - recall: 0.6392 - val_loss: 1.2537 - val_accuracy: 0.9648 - val_precision: 0.7488 - val_recall: 0.6056\n",
      "Epoch 15/25\n",
      "437/437 [==============================] - 1s 3ms/step - loss: 0.9496 - accuracy: 0.9683 - precision: 0.7778 - recall: 0.6444 - val_loss: 1.3589 - val_accuracy: 0.9626 - val_precision: 0.7350 - val_recall: 0.5684\n",
      "Epoch 16/25\n",
      "437/437 [==============================] - 1s 3ms/step - loss: 0.9658 - accuracy: 0.9683 - precision: 0.7800 - recall: 0.6431 - val_loss: 1.3712 - val_accuracy: 0.9610 - val_precision: 0.7089 - val_recall: 0.5730\n",
      "Epoch 17/25\n",
      "437/437 [==============================] - 1s 3ms/step - loss: 0.9271 - accuracy: 0.9684 - precision: 0.7754 - recall: 0.6508 - val_loss: 1.4259 - val_accuracy: 0.9621 - val_precision: 0.7110 - val_recall: 0.5999\n",
      "Epoch 18/25\n",
      "437/437 [==============================] - 1s 3ms/step - loss: 0.9495 - accuracy: 0.9687 - precision: 0.7792 - recall: 0.6537 - val_loss: 1.3272 - val_accuracy: 0.9642 - val_precision: 0.7290 - val_recall: 0.6222\n",
      "Epoch 19/25\n",
      "437/437 [==============================] - 1s 3ms/step - loss: 0.9258 - accuracy: 0.9684 - precision: 0.7738 - recall: 0.6548 - val_loss: 1.3483 - val_accuracy: 0.9621 - val_precision: 0.7168 - val_recall: 0.5867\n",
      "Epoch 20/25\n",
      "437/437 [==============================] - 1s 3ms/step - loss: 0.9133 - accuracy: 0.9689 - precision: 0.7805 - recall: 0.6551 - val_loss: 1.4285 - val_accuracy: 0.9641 - val_precision: 0.7310 - val_recall: 0.6176\n",
      "Epoch 21/25\n",
      "437/437 [==============================] - 1s 3ms/step - loss: 0.9004 - accuracy: 0.9692 - precision: 0.7814 - recall: 0.6616 - val_loss: 1.5067 - val_accuracy: 0.9626 - val_precision: 0.7090 - val_recall: 0.6165\n",
      "Epoch 22/25\n",
      "437/437 [==============================] - 1s 3ms/step - loss: 0.9158 - accuracy: 0.9683 - precision: 0.7699 - recall: 0.6565 - val_loss: 1.4391 - val_accuracy: 0.9614 - val_precision: 0.6994 - val_recall: 0.6033\n",
      "Epoch 23/25\n",
      "437/437 [==============================] - 1s 3ms/step - loss: 0.8995 - accuracy: 0.9701 - precision: 0.7875 - recall: 0.6729 - val_loss: 1.6296 - val_accuracy: 0.9619 - val_precision: 0.7016 - val_recall: 0.6136\n",
      "Epoch 24/25\n",
      "437/437 [==============================] - 1s 3ms/step - loss: 0.8753 - accuracy: 0.9702 - precision: 0.7876 - recall: 0.6749 - val_loss: 1.3256 - val_accuracy: 0.9631 - val_precision: 0.7242 - val_recall: 0.6027\n",
      "Epoch 25/25\n",
      "437/437 [==============================] - 1s 3ms/step - loss: 0.8512 - accuracy: 0.9712 - precision: 0.7949 - recall: 0.6888 - val_loss: 1.4720 - val_accuracy: 0.9629 - val_precision: 0.7109 - val_recall: 0.6222\n",
      "69/69 [==============================] - 0s 1ms/step\n",
      "[14  1 16 ... 11  9 12]\n",
      "              precision    recall  f1-score   support\n",
      "\n",
      "           0       0.74      0.62      0.67        68\n",
      "           1       0.78      0.78      0.78       176\n",
      "           2       0.81      0.69      0.74        97\n",
      "           3       0.72      0.64      0.68        90\n",
      "           4       0.75      0.63      0.69        93\n",
      "           5       0.72      0.82      0.77       108\n",
      "           6       0.83      0.79      0.81       126\n",
      "           7       0.72      0.81      0.76       136\n",
      "           8       0.74      0.66      0.70       122\n",
      "           9       0.83      0.74      0.78       155\n",
      "          10       0.78      0.66      0.71        61\n",
      "          11       0.62      0.66      0.64       172\n",
      "          12       0.74      0.81      0.78       182\n",
      "          13       0.69      0.66      0.67       151\n",
      "          14       0.60      0.63      0.61       200\n",
      "          15       0.82      0.91      0.86       169\n",
      "          16       0.82      0.97      0.89        77\n",
      "\n",
      "    accuracy                           0.74      2183\n",
      "   macro avg       0.75      0.73      0.74      2183\n",
      "weighted avg       0.74      0.74      0.74      2183\n",
      "\n"
     ]
    }
   ],
   "source": [
    "model_3.fit(X_train , y_train1 , batch_size = 16 , epochs = 25 , validation_split=(0.2) ,verbose =1)\n",
    "\n",
    "\n",
    "predictions = np.argmax(model_3.predict(X_test), axis=-1)\n",
    "\n",
    "print(predictions)\n",
    "\n",
    "\n",
    "print(classification_report(y_test.values , predictions))"
   ]
  },
  {
   "cell_type": "markdown",
   "id": "a5c2b197",
   "metadata": {},
   "source": [
    "# Model 4"
   ]
  },
  {
   "cell_type": "code",
   "execution_count": 76,
   "id": "60be8fc8",
   "metadata": {
    "ExecuteTime": {
     "end_time": "2024-02-12T21:29:59.632678Z",
     "start_time": "2024-02-12T21:29:59.556770Z"
    }
   },
   "outputs": [],
   "source": [
    "model_4 = Sequential()\n",
    "model_4.add(Dense(150,input_dim=200,activation = \"leaky_relu\"))\n",
    "model_4.add(Dense(270,activation = \"leaky_relu\"))\n",
    "model_4.add(tf.keras.layers.Dropout(0.2))\n",
    "#model_4.add(Dense(60,activation = \"leaky_relu\"))\n",
    "#model6.add(Dense(30,activation = \"leaky_relu\"))\n",
    "model_4.add(Dense(17,activation = \"softmax\"))"
   ]
  },
  {
   "cell_type": "code",
   "execution_count": 77,
   "id": "9d93bc87",
   "metadata": {
    "ExecuteTime": {
     "end_time": "2024-02-12T21:30:00.946462Z",
     "start_time": "2024-02-12T21:30:00.940832Z"
    }
   },
   "outputs": [],
   "source": [
    "opt = tf.keras.optimizers.AdamW(learning_rate =0.007 , beta_1=0.9,\n",
    "    beta_2=0.999,\n",
    "    use_ema=True,\n",
    "    ema_momentum=0.99)"
   ]
  },
  {
   "cell_type": "code",
   "execution_count": 78,
   "id": "2f28d6bc",
   "metadata": {
    "ExecuteTime": {
     "end_time": "2024-02-12T21:30:01.346972Z",
     "start_time": "2024-02-12T21:30:01.325266Z"
    }
   },
   "outputs": [],
   "source": [
    "model_4.compile(optimizer = opt , \n",
    "              loss = 'categorical_crossentropy' ,\n",
    "              metrics=[tf.keras.metrics.BinaryAccuracy(name='accuracy'),\n",
    "                       tf.keras.metrics.Precision(name='precision'),\n",
    "                       tf.keras.metrics.Recall(name='recall')])"
   ]
  },
  {
   "cell_type": "code",
   "execution_count": 79,
   "id": "1b73fc4f",
   "metadata": {
    "ExecuteTime": {
     "end_time": "2024-02-12T21:30:36.307612Z",
     "start_time": "2024-02-12T21:30:03.445550Z"
    },
    "scrolled": true
   },
   "outputs": [
    {
     "name": "stdout",
     "output_type": "stream",
     "text": [
      "Epoch 1/25\n",
      "437/437 [==============================] - 3s 4ms/step - loss: 1.5216 - accuracy: 0.9527 - precision: 0.6931 - recall: 0.3502 - val_loss: 1.3156 - val_accuracy: 0.9562 - val_precision: 0.6886 - val_recall: 0.4671\n",
      "Epoch 2/25\n",
      "437/437 [==============================] - 1s 3ms/step - loss: 1.2554 - accuracy: 0.9588 - precision: 0.7251 - recall: 0.4817 - val_loss: 1.4057 - val_accuracy: 0.9569 - val_precision: 0.7045 - val_recall: 0.4614\n",
      "Epoch 3/25\n",
      "437/437 [==============================] - 1s 3ms/step - loss: 1.1569 - accuracy: 0.9611 - precision: 0.7390 - recall: 0.5225 - val_loss: 1.2236 - val_accuracy: 0.9614 - val_precision: 0.7595 - val_recall: 0.5026\n",
      "Epoch 4/25\n",
      "437/437 [==============================] - 1s 3ms/step - loss: 1.1381 - accuracy: 0.9617 - precision: 0.7398 - recall: 0.5386 - val_loss: 1.2210 - val_accuracy: 0.9596 - val_precision: 0.7358 - val_recall: 0.4877\n",
      "Epoch 5/25\n",
      "437/437 [==============================] - 1s 3ms/step - loss: 1.0652 - accuracy: 0.9645 - precision: 0.7648 - recall: 0.5721 - val_loss: 1.2850 - val_accuracy: 0.9600 - val_precision: 0.7045 - val_recall: 0.5512\n",
      "Epoch 6/25\n",
      "437/437 [==============================] - 1s 3ms/step - loss: 1.0532 - accuracy: 0.9643 - precision: 0.7582 - recall: 0.5782 - val_loss: 1.1440 - val_accuracy: 0.9640 - val_precision: 0.7551 - val_recall: 0.5753\n",
      "Epoch 7/25\n",
      "437/437 [==============================] - 1s 3ms/step - loss: 1.0379 - accuracy: 0.9650 - precision: 0.7624 - recall: 0.5893 - val_loss: 1.2234 - val_accuracy: 0.9630 - val_precision: 0.7445 - val_recall: 0.5655\n",
      "Epoch 8/25\n",
      "437/437 [==============================] - 1s 3ms/step - loss: 1.0197 - accuracy: 0.9659 - precision: 0.7686 - recall: 0.6007 - val_loss: 1.3324 - val_accuracy: 0.9598 - val_precision: 0.7006 - val_recall: 0.5518\n",
      "Epoch 9/25\n",
      "437/437 [==============================] - 1s 3ms/step - loss: 0.9940 - accuracy: 0.9662 - precision: 0.7685 - recall: 0.6092 - val_loss: 1.5131 - val_accuracy: 0.9546 - val_precision: 0.6408 - val_recall: 0.5197\n",
      "Epoch 10/25\n",
      "437/437 [==============================] - 1s 3ms/step - loss: 0.9815 - accuracy: 0.9667 - precision: 0.7723 - recall: 0.6152 - val_loss: 1.1899 - val_accuracy: 0.9649 - val_precision: 0.7636 - val_recall: 0.5844\n",
      "Epoch 11/25\n",
      "437/437 [==============================] - 1s 3ms/step - loss: 0.9719 - accuracy: 0.9668 - precision: 0.7709 - recall: 0.6192 - val_loss: 1.1802 - val_accuracy: 0.9648 - val_precision: 0.7583 - val_recall: 0.5890\n",
      "Epoch 12/25\n",
      "437/437 [==============================] - 1s 3ms/step - loss: 0.9623 - accuracy: 0.9673 - precision: 0.7730 - recall: 0.6285 - val_loss: 1.2121 - val_accuracy: 0.9641 - val_precision: 0.7391 - val_recall: 0.6033\n",
      "Epoch 13/25\n",
      "437/437 [==============================] - 1s 3ms/step - loss: 0.9349 - accuracy: 0.9682 - precision: 0.7812 - recall: 0.6369 - val_loss: 1.2758 - val_accuracy: 0.9632 - val_precision: 0.7334 - val_recall: 0.5873\n",
      "Epoch 14/25\n",
      "437/437 [==============================] - 1s 3ms/step - loss: 0.9115 - accuracy: 0.9688 - precision: 0.7863 - recall: 0.6448 - val_loss: 1.5459 - val_accuracy: 0.9571 - val_precision: 0.6743 - val_recall: 0.5249\n",
      "Epoch 15/25\n",
      "437/437 [==============================] - 1s 3ms/step - loss: 0.9226 - accuracy: 0.9688 - precision: 0.7861 - recall: 0.6462 - val_loss: 1.1842 - val_accuracy: 0.9658 - val_precision: 0.7672 - val_recall: 0.5999\n",
      "Epoch 16/25\n",
      "437/437 [==============================] - 1s 3ms/step - loss: 0.8851 - accuracy: 0.9693 - precision: 0.7859 - recall: 0.6560 - val_loss: 1.3376 - val_accuracy: 0.9636 - val_precision: 0.7267 - val_recall: 0.6102\n",
      "Epoch 17/25\n",
      "437/437 [==============================] - 1s 3ms/step - loss: 0.8611 - accuracy: 0.9701 - precision: 0.7946 - recall: 0.6630 - val_loss: 1.2310 - val_accuracy: 0.9660 - val_precision: 0.7545 - val_recall: 0.6262\n",
      "Epoch 18/25\n",
      "437/437 [==============================] - 1s 3ms/step - loss: 0.8533 - accuracy: 0.9708 - precision: 0.7991 - recall: 0.6727 - val_loss: 1.3134 - val_accuracy: 0.9633 - val_precision: 0.7250 - val_recall: 0.6050\n",
      "Epoch 19/25\n",
      "437/437 [==============================] - 1s 3ms/step - loss: 0.8559 - accuracy: 0.9701 - precision: 0.7886 - recall: 0.6707 - val_loss: 1.4983 - val_accuracy: 0.9598 - val_precision: 0.6821 - val_recall: 0.5919\n",
      "Epoch 20/25\n",
      "437/437 [==============================] - 1s 3ms/step - loss: 0.8788 - accuracy: 0.9698 - precision: 0.7888 - recall: 0.6647 - val_loss: 1.2166 - val_accuracy: 0.9654 - val_precision: 0.7517 - val_recall: 0.6153\n",
      "Epoch 21/25\n",
      "437/437 [==============================] - 1s 3ms/step - loss: 0.8349 - accuracy: 0.9710 - precision: 0.7989 - recall: 0.6786 - val_loss: 1.3577 - val_accuracy: 0.9633 - val_precision: 0.7328 - val_recall: 0.5919\n",
      "Epoch 22/25\n",
      "437/437 [==============================] - 1s 3ms/step - loss: 0.8312 - accuracy: 0.9712 - precision: 0.7984 - recall: 0.6820 - val_loss: 1.5729 - val_accuracy: 0.9607 - val_precision: 0.6918 - val_recall: 0.5987\n",
      "Epoch 23/25\n",
      "437/437 [==============================] - 1s 3ms/step - loss: 0.8268 - accuracy: 0.9715 - precision: 0.7998 - recall: 0.6882 - val_loss: 1.3587 - val_accuracy: 0.9647 - val_precision: 0.7277 - val_recall: 0.6394\n",
      "Epoch 24/25\n",
      "437/437 [==============================] - 1s 3ms/step - loss: 0.8021 - accuracy: 0.9719 - precision: 0.8047 - recall: 0.6906 - val_loss: 1.3549 - val_accuracy: 0.9619 - val_precision: 0.7184 - val_recall: 0.5799\n",
      "Epoch 25/25\n",
      "437/437 [==============================] - 1s 3ms/step - loss: 0.8208 - accuracy: 0.9715 - precision: 0.7976 - recall: 0.6909 - val_loss: 1.3947 - val_accuracy: 0.9635 - val_precision: 0.7234 - val_recall: 0.6153\n",
      "69/69 [==============================] - 0s 1ms/step\n",
      "[14  1 16 ... 11  9 12]\n",
      "              precision    recall  f1-score   support\n",
      "\n",
      "           0       0.73      0.60      0.66        68\n",
      "           1       0.81      0.78      0.79       176\n",
      "           2       0.72      0.76      0.74        97\n",
      "           3       0.69      0.66      0.67        90\n",
      "           4       0.83      0.56      0.67        93\n",
      "           5       0.70      0.74      0.72       108\n",
      "           6       0.82      0.87      0.85       126\n",
      "           7       0.76      0.76      0.76       136\n",
      "           8       0.74      0.65      0.69       122\n",
      "           9       0.83      0.72      0.77       155\n",
      "          10       0.77      0.79      0.78        61\n",
      "          11       0.63      0.66      0.65       172\n",
      "          12       0.74      0.82      0.78       182\n",
      "          13       0.72      0.68      0.70       151\n",
      "          14       0.58      0.65      0.61       200\n",
      "          15       0.87      0.91      0.89       169\n",
      "          16       0.81      0.97      0.88        77\n",
      "\n",
      "    accuracy                           0.74      2183\n",
      "   macro avg       0.75      0.74      0.74      2183\n",
      "weighted avg       0.74      0.74      0.74      2183\n",
      "\n"
     ]
    }
   ],
   "source": [
    "model_4.fit(X_train , y_train1 , batch_size = 16 , epochs = 25 , validation_split=(0.2) ,verbose =1)\n",
    "\n",
    "\n",
    "predictions = np.argmax(model_4.predict(X_test), axis=-1)\n",
    "\n",
    "print(predictions)\n",
    "\n",
    "\n",
    "print(classification_report(y_test.values , predictions))"
   ]
  },
  {
   "cell_type": "code",
   "execution_count": null,
   "id": "7b4fda0a",
   "metadata": {},
   "outputs": [],
   "source": []
  },
  {
   "cell_type": "code",
   "execution_count": 32,
   "id": "07b08cc4",
   "metadata": {
    "ExecuteTime": {
     "end_time": "2024-02-13T16:23:58.366252Z",
     "start_time": "2024-02-13T16:21:56.120644Z"
    }
   },
   "outputs": [],
   "source": [
    "model = Word2Vec(sentences=corpus_full, vector_size=200, window=4, min_count=10, sg = 1 , hs = 1)  # skipgram architecture"
   ]
  },
  {
   "cell_type": "code",
   "execution_count": 33,
   "id": "d6fa45a5",
   "metadata": {
    "ExecuteTime": {
     "end_time": "2024-02-13T16:24:09.193947Z",
     "start_time": "2024-02-13T16:23:58.397763Z"
    }
   },
   "outputs": [
    {
     "name": "stdout",
     "output_type": "stream",
     "text": [
      "['arts, culture, entertainment and media' 'conflict, war and peace'\n",
      " 'crime, law and justice' 'disaster, accident and emergency incident'\n",
      " 'economy, business and finance' 'education' 'environment' 'health'\n",
      " 'human interest' 'labour' 'lifestyle and leisure' 'politics'\n",
      " 'religion and belief' 'science and technology' 'society' 'sport'\n",
      " 'weather']\n",
      "We did it boys , labels have been created\n"
     ]
    }
   ],
   "source": [
    "vect = vectorizer()\n",
    "\n",
    "y1 = labeler(io[\"category_level_1\"])\n",
    "\n",
    "\n",
    "X = vect.copy()\n",
    "\n",
    "X_train, X_test, y_train, y_test = train_test_split(X, y1, test_size=0.2,random_state=42)\n",
    "\n",
    "y_train1 = to_categorical(y_train)"
   ]
  },
  {
   "cell_type": "code",
   "execution_count": 40,
   "id": "5f6b9527",
   "metadata": {
    "ExecuteTime": {
     "end_time": "2024-02-13T16:24:35.424329Z",
     "start_time": "2024-02-13T16:24:35.369220Z"
    }
   },
   "outputs": [],
   "source": [
    "model_6 = Sequential()\n",
    "model_6.add(Dense(200,input_dim=200,activation = \"leaky_relu\"))\n",
    "model_6.add(Dense(360,activation = \"leaky_relu\"))\n",
    "model_6.add(tf.keras.layers.Dropout(0.2))\n",
    "#model_3.add(Dense(60,activation = \"leaky_relu\"))\n",
    "#model6.add(Dense(30,activation = \"leaky_relu\"))\n",
    "model_6.add(Dense(17,activation = \"softmax\"))"
   ]
  },
  {
   "cell_type": "code",
   "execution_count": 41,
   "id": "333628c8",
   "metadata": {
    "ExecuteTime": {
     "end_time": "2024-02-13T16:24:36.176020Z",
     "start_time": "2024-02-13T16:24:36.169376Z"
    }
   },
   "outputs": [],
   "source": [
    "opt = tf.keras.optimizers.AdamW(learning_rate =0.001 , beta_1=0.9,\n",
    "    beta_2=0.999,\n",
    "    use_ema=True,\n",
    "    ema_momentum=0.99)"
   ]
  },
  {
   "cell_type": "code",
   "execution_count": 42,
   "id": "0e2a21dd",
   "metadata": {
    "ExecuteTime": {
     "end_time": "2024-02-13T16:24:36.762692Z",
     "start_time": "2024-02-13T16:24:36.737055Z"
    }
   },
   "outputs": [],
   "source": [
    "model_6.compile(optimizer = opt , \n",
    "              loss = 'categorical_crossentropy' ,\n",
    "              metrics=[tf.keras.metrics.BinaryAccuracy(name='accuracy'),\n",
    "                       tf.keras.metrics.Precision(name='precision'),\n",
    "                       tf.keras.metrics.Recall(name='recall')])"
   ]
  },
  {
   "cell_type": "code",
   "execution_count": 93,
   "id": "bab39477",
   "metadata": {
    "ExecuteTime": {
     "end_time": "2024-02-13T16:31:44.658065Z",
     "start_time": "2024-02-13T16:31:42.941938Z"
    }
   },
   "outputs": [
    {
     "name": "stdout",
     "output_type": "stream",
     "text": [
      "437/437 [==============================] - 1s 3ms/step - loss: 0.2888 - accuracy: 0.9880 - precision: 0.9146 - recall: 0.8783 - val_loss: 1.4391 - val_accuracy: 0.9645 - val_precision: 0.7112 - val_recall: 0.6669\n",
      "69/69 [==============================] - 0s 1ms/step\n",
      "[14  1 16 ... 11  9 12]\n",
      "              precision    recall  f1-score   support\n",
      "\n",
      "           0       0.62      0.57      0.60        68\n",
      "           1       0.80      0.78      0.79       176\n",
      "           2       0.73      0.74      0.73        97\n",
      "           3       0.67      0.73      0.70        90\n",
      "           4       0.70      0.67      0.69        93\n",
      "           5       0.66      0.82      0.73       108\n",
      "           6       0.88      0.83      0.85       126\n",
      "           7       0.73      0.71      0.72       136\n",
      "           8       0.69      0.71      0.70       122\n",
      "           9       0.84      0.69      0.76       155\n",
      "          10       0.80      0.70      0.75        61\n",
      "          11       0.65      0.63      0.64       172\n",
      "          12       0.74      0.75      0.74       182\n",
      "          13       0.66      0.66      0.66       151\n",
      "          14       0.59      0.60      0.60       200\n",
      "          15       0.88      0.91      0.89       169\n",
      "          16       0.87      0.95      0.91        77\n",
      "\n",
      "    accuracy                           0.73      2183\n",
      "   macro avg       0.73      0.73      0.73      2183\n",
      "weighted avg       0.73      0.73      0.73      2183\n",
      "\n"
     ]
    }
   ],
   "source": [
    "model_6.fit(X_train , y_train1 , batch_size = 16 , epochs = 1 , validation_split=(0.2) ,verbose =1)\n",
    "\n",
    "\n",
    "predictions = np.argmax(model_6.predict(X_test), axis=-1)\n",
    "\n",
    "print(predictions)\n",
    "\n",
    "\n",
    "print(classification_report(y_test.values , predictions))"
   ]
  },
  {
   "cell_type": "code",
   "execution_count": 94,
   "id": "8df85072",
   "metadata": {
    "ExecuteTime": {
     "end_time": "2024-02-13T16:31:48.356338Z",
     "start_time": "2024-02-13T16:31:48.350338Z"
    }
   },
   "outputs": [
    {
     "data": {
      "text/plain": [
       "'\\n1->64 , 2->67 , 3->68 , 4->69 , 5->70 , 6->71 ,8->72 , 11->73 , 13-> 74 , 15 ->74 , 22 ->75 , 50\\n\\n'"
      ]
     },
     "execution_count": 94,
     "metadata": {},
     "output_type": "execute_result"
    }
   ],
   "source": [
    "\"\"\"\n",
    "1->64 , 2->67 , 3->68 , 4->69 , 5->70 , 6->71 ,8->72 , 11->73 , 13-> 74 , 15 ->74 , 22 ->75 , 50\n",
    "\n",
    "\"\"\""
   ]
  },
  {
   "cell_type": "code",
   "execution_count": 99,
   "id": "b3264714",
   "metadata": {
    "ExecuteTime": {
     "end_time": "2024-02-13T16:33:06.007064Z",
     "start_time": "2024-02-13T16:33:05.943061Z"
    }
   },
   "outputs": [],
   "source": [
    "model_si = Sequential()\n",
    "model_si.add(Dense(200,input_dim=200,activation = \"leaky_relu\"))\n",
    "model_si.add(Dense(360,activation = \"leaky_relu\"))\n",
    "model_si.add(tf.keras.layers.Dropout(0.2))\n",
    "#model_si.add(Dense(60,activation = \"leaky_relu\"))\n",
    "#model6.add(Dense(30,activation = \"leaky_relu\"))\n",
    "model_si.add(Dense(17,activation = \"sigmoid\"))"
   ]
  },
  {
   "cell_type": "code",
   "execution_count": 100,
   "id": "7d67e1c7",
   "metadata": {
    "ExecuteTime": {
     "end_time": "2024-02-13T16:33:06.479235Z",
     "start_time": "2024-02-13T16:33:06.455043Z"
    }
   },
   "outputs": [],
   "source": [
    "opt = tf.keras.optimizers.AdamW(learning_rate =0.001 , beta_1=0.9,\n",
    "    beta_2=0.999,\n",
    "    use_ema=True,\n",
    "    ema_momentum=0.99)\n",
    "\n",
    "model_si.compile(optimizer = opt , \n",
    "              loss = 'categorical_crossentropy' ,\n",
    "              metrics=[tf.keras.metrics.BinaryAccuracy(name='accuracy'),\n",
    "                       tf.keras.metrics.Precision(name='precision'),\n",
    "                       tf.keras.metrics.Recall(name='recall')])"
   ]
  },
  {
   "cell_type": "code",
   "execution_count": 107,
   "id": "beae64fd",
   "metadata": {
    "ExecuteTime": {
     "end_time": "2024-02-13T16:34:14.614896Z",
     "start_time": "2024-02-13T16:34:12.869837Z"
    }
   },
   "outputs": [
    {
     "name": "stdout",
     "output_type": "stream",
     "text": [
      "437/437 [==============================] - 1s 3ms/step - loss: 0.8703 - accuracy: 0.7842 - precision: 0.2108 - recall: 0.9724 - val_loss: 1.0735 - val_accuracy: 0.7861 - val_precision: 0.2098 - val_recall: 0.9531\n",
      "69/69 [==============================] - 0s 1ms/step\n",
      "[14  1 16 ... 11  9 12]\n",
      "              precision    recall  f1-score   support\n",
      "\n",
      "           0       0.59      0.50      0.54        68\n",
      "           1       0.80      0.77      0.78       176\n",
      "           2       0.71      0.75      0.73        97\n",
      "           3       0.70      0.69      0.70        90\n",
      "           4       0.76      0.57      0.65        93\n",
      "           5       0.67      0.79      0.73       108\n",
      "           6       0.83      0.80      0.82       126\n",
      "           7       0.72      0.78      0.75       136\n",
      "           8       0.68      0.64      0.66       122\n",
      "           9       0.83      0.65      0.73       155\n",
      "          10       0.67      0.66      0.66        61\n",
      "          11       0.62      0.64      0.63       172\n",
      "          12       0.72      0.82      0.77       182\n",
      "          13       0.63      0.64      0.63       151\n",
      "          14       0.59      0.56      0.57       200\n",
      "          15       0.81      0.88      0.84       169\n",
      "          16       0.83      0.99      0.90        77\n",
      "\n",
      "    accuracy                           0.72      2183\n",
      "   macro avg       0.72      0.71      0.71      2183\n",
      "weighted avg       0.72      0.72      0.71      2183\n",
      "\n"
     ]
    }
   ],
   "source": [
    "model_si.fit(X_train , y_train1 , batch_size = 16 , epochs = 1 , validation_split=(0.2) ,verbose =1)\n",
    "\n",
    "\n",
    "predictions = np.argmax(model_si.predict(X_test), axis=-1)\n",
    "\n",
    "print(predictions)\n",
    "\n",
    "\n",
    "print(classification_report(y_test.values , predictions))"
   ]
  },
  {
   "cell_type": "code",
   "execution_count": null,
   "id": "4fc297f6",
   "metadata": {},
   "outputs": [],
   "source": [
    "\"\"\"\n",
    "1->65 , 2->67 , 3->69, 4->69 ,5->70 ,6->71 \n",
    ",8->72 , 11->73 , 13-> 74 , 15 ->74 , 22 ->75 , 50\n",
    "\"\"\""
   ]
  }
 ],
 "metadata": {
  "hide_input": false,
  "kernelspec": {
   "display_name": "Python 3 (ipykernel)",
   "language": "python",
   "name": "python3"
  },
  "language_info": {
   "codemirror_mode": {
    "name": "ipython",
    "version": 3
   },
   "file_extension": ".py",
   "mimetype": "text/x-python",
   "name": "python",
   "nbconvert_exporter": "python",
   "pygments_lexer": "ipython3",
   "version": "3.11.5"
  },
  "nbTranslate": {
   "displayLangs": [
    "*"
   ],
   "hotkey": "alt-t",
   "langInMainMenu": true,
   "sourceLang": "en",
   "targetLang": "fr",
   "useGoogleTranslate": true
  },
  "toc": {
   "base_numbering": 1,
   "nav_menu": {},
   "number_sections": true,
   "sideBar": true,
   "skip_h1_title": false,
   "title_cell": "Table of Contents",
   "title_sidebar": "Contents",
   "toc_cell": false,
   "toc_position": {},
   "toc_section_display": true,
   "toc_window_display": false
  },
  "varInspector": {
   "cols": {
    "lenName": 16,
    "lenType": 16,
    "lenVar": 40
   },
   "kernels_config": {
    "python": {
     "delete_cmd_postfix": "",
     "delete_cmd_prefix": "del ",
     "library": "var_list.py",
     "varRefreshCmd": "print(var_dic_list())"
    },
    "r": {
     "delete_cmd_postfix": ") ",
     "delete_cmd_prefix": "rm(",
     "library": "var_list.r",
     "varRefreshCmd": "cat(var_dic_list()) "
    }
   },
   "types_to_exclude": [
    "module",
    "function",
    "builtin_function_or_method",
    "instance",
    "_Feature"
   ],
   "window_display": false
  }
 },
 "nbformat": 4,
 "nbformat_minor": 5
}
